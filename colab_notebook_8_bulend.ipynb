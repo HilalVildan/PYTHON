{
  "nbformat": 4,
  "nbformat_minor": 0,
  "metadata": {
    "colab": {
      "name": "colab_notebook_8_bulend.ipynb",
      "provenance": []
    },
    "kernelspec": {
      "name": "python3",
      "display_name": "Python 3"
    },
    "language_info": {
      "name": "python"
    }
  },
  "cells": [
    {
      "cell_type": "markdown",
      "source": [
        "## Python Basics: Session-8: Tuples, Dicts, Sets\n",
        "## 11 June 2022"
      ],
      "metadata": {
        "id": "LoxlrjHleYJJ"
      }
    },
    {
      "cell_type": "code",
      "source": [
        "\"Hatırlama: Python Lists\"\n",
        "# indis: 0  1  2  3  4  5  6  7\n",
        "#       -8 -7 -6 -5 -4 -3 -2 -1 \n",
        "liste = [1, 2, 4, 5, 9, 7, 3, 12]\n",
        "#dilimleme [start, stop-1, step]\n",
        "print(liste[::-1])      #ters çevirir\n",
        "print(liste[-1:0:-1])   #ters çeviri ama 0. indisi dahil etmez\n",
        "print(liste[5:0:-1])    #(5-1). indisli elemanları ters sırada verir.    \n",
        "print(liste[-3:-8:-1])  #(5-1). indisli elemanları ters sırada verir. \n",
        "\n",
        "# Not: \n",
        "# Normal (artım miktarı pozitif) indisleme de start<stop olmalı...\n",
        "# Artım miktarı negatif ise (ters sırada dilimleme yapar) indislerin start>stop olmalı\n",
        "print(liste[0:5:-1])    #boş liste döndürür"
      ],
      "metadata": {
        "colab": {
          "base_uri": "https://localhost:8080/"
        },
        "id": "GogBVBf-h-9K",
        "outputId": "f5055402-9125-49d4-86de-d5b343b94dc9"
      },
      "execution_count": 1,
      "outputs": [
        {
          "output_type": "stream",
          "name": "stdout",
          "text": [
            "[12, 3, 7, 9, 5, 4, 2, 1]\n",
            "[12, 3, 7, 9, 5, 4, 2]\n",
            "[7, 9, 5, 4, 2]\n",
            "[7, 9, 5, 4, 2]\n",
            "[]\n"
          ]
        }
      ]
    },
    {
      "cell_type": "code",
      "source": [
        "print(len([1,2,3]))"
      ],
      "metadata": {
        "colab": {
          "base_uri": "https://localhost:8080/"
        },
        "id": "Te8GUzQao5DA",
        "outputId": "be000128-72ce-469e-baa6-56c8a74ea407"
      },
      "execution_count": 2,
      "outputs": [
        {
          "output_type": "stream",
          "name": "stdout",
          "text": [
            "3\n"
          ]
        }
      ]
    },
    {
      "cell_type": "code",
      "source": [
        "print(len([[1,2,3]]))"
      ],
      "metadata": {
        "colab": {
          "base_uri": "https://localhost:8080/"
        },
        "id": "03PGeyWoo9kR",
        "outputId": "022b8ed6-d676-4233-f362-e20b13bea384"
      },
      "execution_count": 3,
      "outputs": [
        {
          "output_type": "stream",
          "name": "stdout",
          "text": [
            "1\n"
          ]
        }
      ]
    },
    {
      "cell_type": "code",
      "source": [
        "print(len([[1,2,3]][0]))"
      ],
      "metadata": {
        "colab": {
          "base_uri": "https://localhost:8080/"
        },
        "id": "htcvAnVNpBsg",
        "outputId": "d9986c63-378e-4f76-f21d-0f5f845b8d29"
      },
      "execution_count": 4,
      "outputs": [
        {
          "output_type": "stream",
          "name": "stdout",
          "text": [
            "3\n"
          ]
        }
      ]
    },
    {
      "cell_type": "code",
      "source": [
        "liste = [[1,2,3], [2,3]]\n",
        "print(liste[0])"
      ],
      "metadata": {
        "colab": {
          "base_uri": "https://localhost:8080/"
        },
        "id": "04I-IW0UpTF1",
        "outputId": "fda2e519-2e31-422d-f3da-3b13a0c0fedb"
      },
      "execution_count": 5,
      "outputs": [
        {
          "output_type": "stream",
          "name": "stdout",
          "text": [
            "[1, 2, 3]\n"
          ]
        }
      ]
    },
    {
      "cell_type": "code",
      "source": [
        "print([1,2,3,4,5,6,7,8][1::3])"
      ],
      "metadata": {
        "colab": {
          "base_uri": "https://localhost:8080/"
        },
        "id": "dGcgYzEvrHJA",
        "outputId": "9fe0d25f-90f0-449f-fbf9-82f7f45b7ce3"
      },
      "execution_count": 6,
      "outputs": [
        {
          "output_type": "stream",
          "name": "stdout",
          "text": [
            "[2, 5, 8]\n"
          ]
        }
      ]
    },
    {
      "cell_type": "code",
      "source": [
        "print((1,2,3,4,5,6,7,8)[1::3])"
      ],
      "metadata": {
        "colab": {
          "base_uri": "https://localhost:8080/"
        },
        "id": "HSV-09lUrMmE",
        "outputId": "16d57c42-4475-487c-e731-7ab3d9d699b2"
      },
      "execution_count": 7,
      "outputs": [
        {
          "output_type": "stream",
          "name": "stdout",
          "text": [
            "(2, 5, 8)\n"
          ]
        }
      ]
    },
    {
      "cell_type": "code",
      "source": [
        "liste = [[13, [15,3,4], ['a',5,'abc'], None]]\n",
        "print(liste[::-1])  ##ters çevirir"
      ],
      "metadata": {
        "colab": {
          "base_uri": "https://localhost:8080/"
        },
        "id": "e7mva_i7rxtn",
        "outputId": "09c1c22b-a9a7-4464-f77d-3a5a3a9bdb9f"
      },
      "execution_count": 8,
      "outputs": [
        {
          "output_type": "stream",
          "name": "stdout",
          "text": [
            "[[13, [15, 3, 4], ['a', 5, 'abc'], None]]\n"
          ]
        }
      ]
    },
    {
      "cell_type": "code",
      "source": [
        "liste = [[13, [15,3,4], ['a',5,'abc'], None]]\n",
        "print(liste[0][::-1])  ##ters çevirir"
      ],
      "metadata": {
        "colab": {
          "base_uri": "https://localhost:8080/"
        },
        "id": "WOxXrwO_sK_Q",
        "outputId": "78a638a1-866e-4e78-e976-49b15d1acc1a"
      },
      "execution_count": 10,
      "outputs": [
        {
          "output_type": "stream",
          "name": "stdout",
          "text": [
            "[None, ['a', 5, 'abc'], [15, 3, 4], 13]\n"
          ]
        }
      ]
    },
    {
      "cell_type": "code",
      "source": [
        "print([[13, [15,3,4], ['a',5,'abc'], None]][0][::-1])  ##ters çevirir"
      ],
      "metadata": {
        "colab": {
          "base_uri": "https://localhost:8080/"
        },
        "id": "C8Zx182vsWVP",
        "outputId": "bfb89a3e-c9b7-47f9-fa1b-367480c7b84c"
      },
      "execution_count": 11,
      "outputs": [
        {
          "output_type": "stream",
          "name": "stdout",
          "text": [
            "[None, ['a', 5, 'abc'], [15, 3, 4], 13]\n"
          ]
        }
      ]
    },
    {
      "cell_type": "code",
      "source": [
        "liste = [['ab']]\n",
        "print(liste[::-1])"
      ],
      "metadata": {
        "colab": {
          "base_uri": "https://localhost:8080/"
        },
        "id": "y5mcg6qxsAXl",
        "outputId": "b0bd1679-bf75-4873-d6bd-32bd10c33a31"
      },
      "execution_count": 9,
      "outputs": [
        {
          "output_type": "stream",
          "name": "stdout",
          "text": [
            "[['ab']]\n"
          ]
        }
      ]
    },
    {
      "cell_type": "code",
      "source": [
        "t = ([1,2,3])\n",
        "print(type(t))"
      ],
      "metadata": {
        "colab": {
          "base_uri": "https://localhost:8080/"
        },
        "id": "Fzdm0EIWtFQ_",
        "outputId": "e173d868-176d-40b0-8bc9-7e91aa9f3537"
      },
      "execution_count": 12,
      "outputs": [
        {
          "output_type": "stream",
          "name": "stdout",
          "text": [
            "<class 'list'>\n"
          ]
        }
      ]
    },
    {
      "cell_type": "code",
      "source": [
        "t = ([1,2,3],)\n",
        "print(type(t))"
      ],
      "metadata": {
        "colab": {
          "base_uri": "https://localhost:8080/"
        },
        "id": "jFKycKWftMN3",
        "outputId": "b6d55e44-318f-4103-93c4-cd24f3e46076"
      },
      "execution_count": 13,
      "outputs": [
        {
          "output_type": "stream",
          "name": "stdout",
          "text": [
            "<class 'tuple'>\n"
          ]
        }
      ]
    },
    {
      "cell_type": "code",
      "source": [
        "t = [1,2,3], [2]\n",
        "print(type(t))"
      ],
      "metadata": {
        "colab": {
          "base_uri": "https://localhost:8080/"
        },
        "id": "zCxypGK0tRYe",
        "outputId": "5d59f993-db92-4356-88b9-ff91d5479f58"
      },
      "execution_count": 14,
      "outputs": [
        {
          "output_type": "stream",
          "name": "stdout",
          "text": [
            "<class 'tuple'>\n"
          ]
        }
      ]
    },
    {
      "cell_type": "code",
      "source": [
        "c = tuple([1,2,3]) ## type: tuple\n",
        "print(type(c))\n",
        "print(c)"
      ],
      "metadata": {
        "colab": {
          "base_uri": "https://localhost:8080/"
        },
        "id": "7-YzXFAjtb0x",
        "outputId": "109a5b14-b3a7-4b2c-b791-38dbb0f01295"
      },
      "execution_count": 16,
      "outputs": [
        {
          "output_type": "stream",
          "name": "stdout",
          "text": [
            "<class 'tuple'>\n",
            "(1, 2, 3)\n"
          ]
        }
      ]
    },
    {
      "cell_type": "code",
      "source": [
        "c = tuple([1,2,3], 4,5) ## type: tuple\n",
        "print(type(c))\n",
        "print(c)"
      ],
      "metadata": {
        "colab": {
          "base_uri": "https://localhost:8080/",
          "height": 201
        },
        "id": "NtmsOnX9t_zs",
        "outputId": "2b2cb3fd-960d-4100-e489-181f26237da2"
      },
      "execution_count": 20,
      "outputs": [
        {
          "output_type": "error",
          "ename": "TypeError",
          "evalue": "ignored",
          "traceback": [
            "\u001b[0;31m---------------------------------------------------------------------------\u001b[0m",
            "\u001b[0;31mTypeError\u001b[0m                                 Traceback (most recent call last)",
            "\u001b[0;32m<ipython-input-20-e2f65aeba5f7>\u001b[0m in \u001b[0;36m<module>\u001b[0;34m()\u001b[0m\n\u001b[0;32m----> 1\u001b[0;31m \u001b[0mc\u001b[0m \u001b[0;34m=\u001b[0m \u001b[0mtuple\u001b[0m\u001b[0;34m(\u001b[0m\u001b[0;34m[\u001b[0m\u001b[0;36m1\u001b[0m\u001b[0;34m,\u001b[0m\u001b[0;36m2\u001b[0m\u001b[0;34m,\u001b[0m\u001b[0;36m3\u001b[0m\u001b[0;34m]\u001b[0m\u001b[0;34m,\u001b[0m \u001b[0;36m4\u001b[0m\u001b[0;34m,\u001b[0m\u001b[0;36m5\u001b[0m\u001b[0;34m)\u001b[0m \u001b[0;31m## type: tuple\u001b[0m\u001b[0;34m\u001b[0m\u001b[0;34m\u001b[0m\u001b[0m\n\u001b[0m\u001b[1;32m      2\u001b[0m \u001b[0mprint\u001b[0m\u001b[0;34m(\u001b[0m\u001b[0mtype\u001b[0m\u001b[0;34m(\u001b[0m\u001b[0mc\u001b[0m\u001b[0;34m)\u001b[0m\u001b[0;34m)\u001b[0m\u001b[0;34m\u001b[0m\u001b[0;34m\u001b[0m\u001b[0m\n\u001b[1;32m      3\u001b[0m \u001b[0mprint\u001b[0m\u001b[0;34m(\u001b[0m\u001b[0mc\u001b[0m\u001b[0;34m)\u001b[0m\u001b[0;34m\u001b[0m\u001b[0;34m\u001b[0m\u001b[0m\n",
            "\u001b[0;31mTypeError\u001b[0m: tuple expected at most 1 arguments, got 3"
          ]
        }
      ]
    },
    {
      "cell_type": "code",
      "source": [
        "c = tuple(([1,2,3], 4,5)) ## type: tuple\n",
        "print(type(c))\n",
        "print(c)"
      ],
      "metadata": {
        "colab": {
          "base_uri": "https://localhost:8080/"
        },
        "id": "FcSYpIcBtr4D",
        "outputId": "da8d6892-199c-4d90-e282-94883f500b50"
      },
      "execution_count": 19,
      "outputs": [
        {
          "output_type": "stream",
          "name": "stdout",
          "text": [
            "<class 'tuple'>\n",
            "([1, 2, 3], 4, 5)\n"
          ]
        }
      ]
    },
    {
      "cell_type": "code",
      "source": [
        "print(dir(tuple))"
      ],
      "metadata": {
        "colab": {
          "base_uri": "https://localhost:8080/"
        },
        "id": "IhZPmEGLuJZo",
        "outputId": "5ecf1c18-fc55-44f9-b067-f933af7921b0"
      },
      "execution_count": 21,
      "outputs": [
        {
          "output_type": "stream",
          "name": "stdout",
          "text": [
            "['__add__', '__class__', '__contains__', '__delattr__', '__dir__', '__doc__', '__eq__', '__format__', '__ge__', '__getattribute__', '__getitem__', '__getnewargs__', '__gt__', '__hash__', '__init__', '__init_subclass__', '__iter__', '__le__', '__len__', '__lt__', '__mul__', '__ne__', '__new__', '__reduce__', '__reduce_ex__', '__repr__', '__rmul__', '__setattr__', '__sizeof__', '__str__', '__subclasshook__', 'count', 'index']\n"
          ]
        }
      ]
    },
    {
      "cell_type": "code",
      "source": [
        "t = (1,2,3,4,0,4,5,0,1,7,8,4)\n",
        "## t içerisinde 4 kaç kez geçiyor\n",
        "print(t.count(4))"
      ],
      "metadata": {
        "colab": {
          "base_uri": "https://localhost:8080/"
        },
        "id": "sYCFXaJEuWEP",
        "outputId": "426a7c9c-193b-4236-c65b-8dd4fdfffce7"
      },
      "execution_count": 22,
      "outputs": [
        {
          "output_type": "stream",
          "name": "stdout",
          "text": [
            "3\n"
          ]
        }
      ]
    },
    {
      "cell_type": "code",
      "execution_count": null,
      "metadata": {
        "id": "rDh5kxZpeUs7"
      },
      "outputs": [],
      "source": [
        "\"Hatırlama: Python Tuples\"\n",
        "a = (1)  ## type: int\n",
        "a = (1,) ## type: tuple\n",
        "b = 1,2,3  ## type: tuple\n",
        "c = tuple([1,2,3,4]) ## type: tuple\n",
        "d = tuple('a')  ## type: tuple\n",
        "print(b, c, d, sep=\"\\n\")\n",
        "\n",
        "print(dir(tuple))   ## #tuple methods: 'count', 'index'\n",
        "tuples = (1, 2, 'hi', 3)\n",
        "print(tuples.index('hi'))  ## 2 (index of 'hi')\n",
        "print(tuples.count('hi'))  ## 1 (count of 'hi')\n",
        "\n",
        "print(tuples[2])    ## hi (accessing a single item)\n",
        "# tuples[2] = 'bye' ## NO, tuples cannot be changed\n",
        "# del tuples[2]     ## NO, tuples cannot be changed\n",
        "\n",
        "tuples = (1, 2, 'bye', 3 )  ## this works because new tuple\n",
        "print(tuples)\n",
        "a,b,c,d = tuples    ## unpacking\n",
        "print(c)            ## 'bye'\n",
        "\n",
        "tuples1 = (1,2,9,4,5,6,7,0)\n",
        "print(len(tuples1)) ## 8\n",
        "print(max(tuples1)) ## 9\n",
        "print(min(tuples1)) ## 0\n",
        "print(sum(tuples1)) ## 34 (sum of items)"
      ]
    },
    {
      "cell_type": "code",
      "source": [
        "even_no = (0, 2, 4)\n",
        "print(even_no[0])\n",
        "print(even_no[3])  ## olmayan eleman erişme sorunu"
      ],
      "metadata": {
        "colab": {
          "base_uri": "https://localhost:8080/",
          "height": 218
        },
        "id": "g2CnFv6Cx1X-",
        "outputId": "406d61aa-a324-4957-fbbd-a085db0cbb19"
      },
      "execution_count": 24,
      "outputs": [
        {
          "output_type": "stream",
          "name": "stdout",
          "text": [
            "0\n"
          ]
        },
        {
          "output_type": "error",
          "ename": "IndexError",
          "evalue": "ignored",
          "traceback": [
            "\u001b[0;31m---------------------------------------------------------------------------\u001b[0m",
            "\u001b[0;31mIndexError\u001b[0m                                Traceback (most recent call last)",
            "\u001b[0;32m<ipython-input-24-c9f6e92a5bd7>\u001b[0m in \u001b[0;36m<module>\u001b[0;34m()\u001b[0m\n\u001b[1;32m      1\u001b[0m \u001b[0meven_no\u001b[0m \u001b[0;34m=\u001b[0m \u001b[0;34m(\u001b[0m\u001b[0;36m0\u001b[0m\u001b[0;34m,\u001b[0m \u001b[0;36m2\u001b[0m\u001b[0;34m,\u001b[0m \u001b[0;36m4\u001b[0m\u001b[0;34m)\u001b[0m\u001b[0;34m\u001b[0m\u001b[0;34m\u001b[0m\u001b[0m\n\u001b[1;32m      2\u001b[0m \u001b[0mprint\u001b[0m\u001b[0;34m(\u001b[0m\u001b[0meven_no\u001b[0m\u001b[0;34m[\u001b[0m\u001b[0;36m0\u001b[0m\u001b[0;34m]\u001b[0m\u001b[0;34m)\u001b[0m\u001b[0;34m\u001b[0m\u001b[0;34m\u001b[0m\u001b[0m\n\u001b[0;32m----> 3\u001b[0;31m \u001b[0mprint\u001b[0m\u001b[0;34m(\u001b[0m\u001b[0meven_no\u001b[0m\u001b[0;34m[\u001b[0m\u001b[0;36m3\u001b[0m\u001b[0;34m]\u001b[0m\u001b[0;34m)\u001b[0m\u001b[0;34m\u001b[0m\u001b[0;34m\u001b[0m\u001b[0m\n\u001b[0m",
            "\u001b[0;31mIndexError\u001b[0m: tuple index out of range"
          ]
        }
      ]
    },
    {
      "cell_type": "code",
      "source": [
        "city_list = ['Tokyo', 'Istanbul', 'Moskow', 'Dublin']\n",
        "city_tuple = tuple(city_list)\n",
        "city_tuple[0] = 'New York'  ## immutable"
      ],
      "metadata": {
        "colab": {
          "base_uri": "https://localhost:8080/",
          "height": 201
        },
        "id": "pksBsPYuyT6A",
        "outputId": "29287289-88cc-4bfc-8865-07953cf69998"
      },
      "execution_count": 25,
      "outputs": [
        {
          "output_type": "error",
          "ename": "TypeError",
          "evalue": "ignored",
          "traceback": [
            "\u001b[0;31m---------------------------------------------------------------------------\u001b[0m",
            "\u001b[0;31mTypeError\u001b[0m                                 Traceback (most recent call last)",
            "\u001b[0;32m<ipython-input-25-f9467409fb65>\u001b[0m in \u001b[0;36m<module>\u001b[0;34m()\u001b[0m\n\u001b[1;32m      1\u001b[0m \u001b[0mcity_list\u001b[0m \u001b[0;34m=\u001b[0m \u001b[0;34m[\u001b[0m\u001b[0;34m'Tokyo'\u001b[0m\u001b[0;34m,\u001b[0m \u001b[0;34m'Istanbul'\u001b[0m\u001b[0;34m,\u001b[0m \u001b[0;34m'Moskow'\u001b[0m\u001b[0;34m,\u001b[0m \u001b[0;34m'Dublin'\u001b[0m\u001b[0;34m]\u001b[0m\u001b[0;34m\u001b[0m\u001b[0;34m\u001b[0m\u001b[0m\n\u001b[1;32m      2\u001b[0m \u001b[0mcity_tuple\u001b[0m \u001b[0;34m=\u001b[0m \u001b[0mtuple\u001b[0m\u001b[0;34m(\u001b[0m\u001b[0mcity_list\u001b[0m\u001b[0;34m)\u001b[0m\u001b[0;34m\u001b[0m\u001b[0;34m\u001b[0m\u001b[0m\n\u001b[0;32m----> 3\u001b[0;31m \u001b[0mcity_tuple\u001b[0m\u001b[0;34m[\u001b[0m\u001b[0;36m0\u001b[0m\u001b[0;34m]\u001b[0m \u001b[0;34m=\u001b[0m \u001b[0;34m'New York'\u001b[0m\u001b[0;34m\u001b[0m\u001b[0;34m\u001b[0m\u001b[0m\n\u001b[0m",
            "\u001b[0;31mTypeError\u001b[0m: 'tuple' object does not support item assignment"
          ]
        }
      ]
    },
    {
      "cell_type": "code",
      "source": [
        "mix_tuple = ('11', 11, [2, 'two', ('six', 6)], (5, 'fair'))\n",
        "six_data = mix_tuple[2][2][0]\n",
        "print(six_data)"
      ],
      "metadata": {
        "colab": {
          "base_uri": "https://localhost:8080/"
        },
        "id": "_fuherF8zefu",
        "outputId": "445a635f-b185-4a6f-c28b-2ecee4ba5cea"
      },
      "execution_count": 26,
      "outputs": [
        {
          "output_type": "stream",
          "name": "stdout",
          "text": [
            "six\n"
          ]
        }
      ]
    },
    {
      "cell_type": "code",
      "source": [
        "mix_tuple = ('11', 11, [2, 'two', ('six', 6)], (5, 'fair'))\n",
        "str_six = mix_tuple[2][1:3]\n",
        "print(str_six, type(str_six), sep='\\n')"
      ],
      "metadata": {
        "colab": {
          "base_uri": "https://localhost:8080/"
        },
        "id": "Tl0VlzyQ0gwZ",
        "outputId": "be46460c-4b57-44b2-dbe0-4bc68b8baf03"
      },
      "execution_count": 27,
      "outputs": [
        {
          "output_type": "stream",
          "name": "stdout",
          "text": [
            "['two', ('six', 6)]\n",
            "<class 'list'>\n"
          ]
        }
      ]
    },
    {
      "cell_type": "code",
      "source": [
        "mix_tuple = ('11', 11, [2, 'two', ('six', 6)], (5, 'fair'))\n",
        "str_six = mix_tuple[2][2:3]\n",
        "print(str_six, type(str_six), sep='\\n')"
      ],
      "metadata": {
        "colab": {
          "base_uri": "https://localhost:8080/"
        },
        "id": "2C49pmEc04tn",
        "outputId": "d39ca40c-2df6-4454-8595-20bbb115f121"
      },
      "execution_count": 28,
      "outputs": [
        {
          "output_type": "stream",
          "name": "stdout",
          "text": [
            "[('six', 6)]\n",
            "<class 'list'>\n"
          ]
        }
      ]
    },
    {
      "cell_type": "code",
      "source": [
        "mix_tuple = ('11', 11, [2, 'two', ('six', 6)], (5, 'fair'))\n",
        "str_six = mix_tuple[2][2]\n",
        "print(str_six, type(str_six), sep='\\n')"
      ],
      "metadata": {
        "colab": {
          "base_uri": "https://localhost:8080/"
        },
        "id": "rhMl6nXG1Z5F",
        "outputId": "ce252bb1-d7a8-4bb7-9e78-c417adab95dd"
      },
      "execution_count": 30,
      "outputs": [
        {
          "output_type": "stream",
          "name": "stdout",
          "text": [
            "('six', 6)\n",
            "<class 'tuple'>\n"
          ]
        }
      ]
    },
    {
      "cell_type": "code",
      "source": [
        "mix_tuple = ('11', 11, [2, 'two', ('six', 6)], (5, 'fair'))\n",
        "str_six = mix_tuple[2][2:2]\n",
        "print(str_six, type(str_six), sep='\\n')"
      ],
      "metadata": {
        "colab": {
          "base_uri": "https://localhost:8080/"
        },
        "id": "Rm--9ZOV1i2H",
        "outputId": "504a0283-7e0d-49f1-ae14-cfe89740c89c"
      },
      "execution_count": 31,
      "outputs": [
        {
          "output_type": "stream",
          "name": "stdout",
          "text": [
            "[]\n",
            "<class 'list'>\n"
          ]
        }
      ]
    },
    {
      "cell_type": "code",
      "source": [
        "mix_tuple = ('11', 11, [2, 'two', ('six', 6)], (5, 'fair'))\n",
        "str_six = mix_tuple[3][0:2]\n",
        "print(str_six, type(str_six), sep='\\n')"
      ],
      "metadata": {
        "colab": {
          "base_uri": "https://localhost:8080/"
        },
        "id": "ECBPg5-H1J4x",
        "outputId": "d7230156-8e7e-4830-9137-f05618ae8104"
      },
      "execution_count": 29,
      "outputs": [
        {
          "output_type": "stream",
          "name": "stdout",
          "text": [
            "(5, 'fair')\n",
            "<class 'tuple'>\n"
          ]
        }
      ]
    },
    {
      "cell_type": "code",
      "source": [
        "mix_tuple = ('11', 11, [2, 'two', ('six', 6)], (5, 'fair'))\n",
        "last = mix_tuple[-1]\n",
        "print(last, type(last), sep='\\n')\n"
      ],
      "metadata": {
        "colab": {
          "base_uri": "https://localhost:8080/"
        },
        "id": "UK3srI2b2IhJ",
        "outputId": "6a642eb3-3d0e-4bd6-b421-96412a2a4e88"
      },
      "execution_count": 32,
      "outputs": [
        {
          "output_type": "stream",
          "name": "stdout",
          "text": [
            "(5, 'fair')\n",
            "<class 'tuple'>\n"
          ]
        }
      ]
    },
    {
      "cell_type": "code",
      "source": [
        "mix_tuple = ('11', 11, [2, 'two', ('six', 6)], (5, 'fair'))\n",
        "last = mix_tuple[-1][-1]\n",
        "print(last, type(last), sep='\\n')"
      ],
      "metadata": {
        "colab": {
          "base_uri": "https://localhost:8080/"
        },
        "id": "_GVglXiU2O_0",
        "outputId": "04dbcb90-9a02-4b7a-ff4f-c5fd35ce3fef"
      },
      "execution_count": 33,
      "outputs": [
        {
          "output_type": "stream",
          "name": "stdout",
          "text": [
            "fair\n",
            "<class 'str'>\n"
          ]
        }
      ]
    },
    {
      "cell_type": "code",
      "source": [
        "mix_tuple = ('11', 11, [2, 'two', ('six', 6)], (5, 'fair'))\n",
        "last = mix_tuple[3][1]\n",
        "print(last, type(last), sep='\\n')"
      ],
      "metadata": {
        "colab": {
          "base_uri": "https://localhost:8080/"
        },
        "id": "ySpinmrj2iL8",
        "outputId": "06df66c6-9ba5-407a-b6ba-49e441642d3c"
      },
      "execution_count": 34,
      "outputs": [
        {
          "output_type": "stream",
          "name": "stdout",
          "text": [
            "fair\n",
            "<class 'str'>\n"
          ]
        }
      ]
    },
    {
      "cell_type": "code",
      "source": [
        "print('abcdefcdghcd'.split('cd'))"
      ],
      "metadata": {
        "colab": {
          "base_uri": "https://localhost:8080/"
        },
        "id": "TgAjKIPQ3llr",
        "outputId": "bd8b48ee-15be-4043-e381-392154e41cee"
      },
      "execution_count": 35,
      "outputs": [
        {
          "output_type": "stream",
          "name": "stdout",
          "text": [
            "['ab', 'ef', 'gh', '']\n"
          ]
        }
      ]
    },
    {
      "cell_type": "code",
      "source": [
        "'   1   2   3   '.split()"
      ],
      "metadata": {
        "colab": {
          "base_uri": "https://localhost:8080/"
        },
        "id": "08vfOOyB4rk3",
        "outputId": "0932b028-dcd9-4baf-a3cc-8a60a2d1b8ec"
      },
      "execution_count": 36,
      "outputs": [
        {
          "output_type": "execute_result",
          "data": {
            "text/plain": [
              "['1', '2', '3']"
            ]
          },
          "metadata": {},
          "execution_count": 36
        }
      ]
    },
    {
      "cell_type": "code",
      "source": [
        "'   1   2   3  \"a\" '.split()"
      ],
      "metadata": {
        "colab": {
          "base_uri": "https://localhost:8080/"
        },
        "id": "gugl5btm4xUv",
        "outputId": "1dc96bac-d37a-4dcb-f9a0-9e1f7bf1df62"
      },
      "execution_count": 38,
      "outputs": [
        {
          "output_type": "execute_result",
          "data": {
            "text/plain": [
              "['1', '2', '3', '\"a\"']"
            ]
          },
          "metadata": {},
          "execution_count": 38
        }
      ]
    },
    {
      "cell_type": "code",
      "source": [
        "print(' cdabcdefcdghcd '.split('cd'))"
      ],
      "metadata": {
        "colab": {
          "base_uri": "https://localhost:8080/"
        },
        "id": "bpNNY9Jn5amm",
        "outputId": "b2c19568-29ee-48b0-fbd1-2769787dc7e0"
      },
      "execution_count": 39,
      "outputs": [
        {
          "output_type": "stream",
          "name": "stdout",
          "text": [
            "[' ', 'ab', 'ef', 'gh', ' ']\n"
          ]
        }
      ]
    },
    {
      "cell_type": "code",
      "source": [
        "print(' cd abcdef cdghcd '.split())"
      ],
      "metadata": {
        "colab": {
          "base_uri": "https://localhost:8080/"
        },
        "id": "df0uy6kR5xr-",
        "outputId": "f9fa9132-546a-4a62-f379-fcf3402f6b91"
      },
      "execution_count": 40,
      "outputs": [
        {
          "output_type": "stream",
          "name": "stdout",
          "text": [
            "['cd', 'abcdef', 'cdghcd']\n"
          ]
        }
      ]
    },
    {
      "cell_type": "code",
      "source": [
        "print(' cd abcdef cdghcd '.split())"
      ],
      "metadata": {
        "id": "43P9gcaT57Xm"
      },
      "execution_count": null,
      "outputs": []
    },
    {
      "cell_type": "code",
      "source": [
        "print('ab cd ef cd gh cd'.split())"
      ],
      "metadata": {
        "colab": {
          "base_uri": "https://localhost:8080/"
        },
        "id": "85IB5PVF6ZXA",
        "outputId": "46de93aa-22d4-40a4-ecd6-b9cfdd52507d"
      },
      "execution_count": 41,
      "outputs": [
        {
          "output_type": "stream",
          "name": "stdout",
          "text": [
            "['ab', 'cd', 'ef', 'cd', 'gh', 'cd']\n"
          ]
        }
      ]
    },
    {
      "cell_type": "code",
      "source": [
        "print(list('abcdefcdghcd'))"
      ],
      "metadata": {
        "colab": {
          "base_uri": "https://localhost:8080/"
        },
        "id": "Ly71CuTz6olD",
        "outputId": "d845b371-4527-46ee-e86e-0463cb045625"
      },
      "execution_count": 42,
      "outputs": [
        {
          "output_type": "stream",
          "name": "stdout",
          "text": [
            "['a', 'b', 'c', 'd', 'e', 'f', 'c', 'd', 'g', 'h', 'c', 'd']\n"
          ]
        }
      ]
    },
    {
      "cell_type": "code",
      "source": [
        "a = [1, 2, 7, 8]\n",
        "## Write a Python statement using slice assignment that will fill in the missing values so that a equals [1, 2, 3, 4, 5, 6, 7, 8].\n",
        "a.insert(2,[3,4,5,6])\n",
        "print(a)"
      ],
      "metadata": {
        "colab": {
          "base_uri": "https://localhost:8080/"
        },
        "id": "YKCDHPLR667y",
        "outputId": "3fcf0203-6c67-43ba-c3c5-86491a813811"
      },
      "execution_count": 43,
      "outputs": [
        {
          "output_type": "stream",
          "name": "stdout",
          "text": [
            "[1, 2, [3, 4, 5, 6], 7, 8]\n"
          ]
        }
      ]
    },
    {
      "cell_type": "code",
      "source": [
        "a = [1, 2, 7, 8]\n",
        "## Write a Python statement using slice assignment that will fill in the missing values so that a equals [1, 2, 3, 4, 5, 6, 7, 8].\n",
        "a.insert(2,3)\n",
        "a.insert(3,4)\n",
        "a.insert(4,5)\n",
        "a.insert(5,6)\n",
        "print(a)"
      ],
      "metadata": {
        "colab": {
          "base_uri": "https://localhost:8080/"
        },
        "id": "kvBYwWp89qtT",
        "outputId": "cccda30b-a1ef-4506-8275-e16d3dc6b0cb"
      },
      "execution_count": 45,
      "outputs": [
        {
          "output_type": "stream",
          "name": "stdout",
          "text": [
            "[1, 2, 3, 4, 5, 6, 7, 8]\n"
          ]
        }
      ]
    },
    {
      "cell_type": "code",
      "source": [
        "a = [1, 2, 7, 8]\n",
        "## Write a Python statement using slice assignment that will fill in the missing values so that a equals [1, 2, 3, 4, 5, 6, 7, 8].\n",
        "a.extend([3,4,5,6])\n",
        "a.sort()\n",
        "print(a)"
      ],
      "metadata": {
        "colab": {
          "base_uri": "https://localhost:8080/"
        },
        "id": "vqJdKntl97hL",
        "outputId": "798dc2d3-ab33-4a3b-98da-cd069ffe2f46"
      },
      "execution_count": 48,
      "outputs": [
        {
          "output_type": "stream",
          "name": "stdout",
          "text": [
            "[1, 2, 3, 4, 5, 6, 7, 8]\n"
          ]
        }
      ]
    },
    {
      "cell_type": "code",
      "source": [
        "a = [1,2, 7, 8]\n",
        "## Write a Python statement using slice assignment that will fill in the missing values so that a equals [1, 2, 3, 4, 5, 6, 7, 8].\n",
        "a[1:2] += [3,4,5,6]\n",
        "print(a)"
      ],
      "metadata": {
        "colab": {
          "base_uri": "https://localhost:8080/"
        },
        "id": "lQkaKXSd-POr",
        "outputId": "ea8487c7-9c76-43ca-a692-136460d1d6dc"
      },
      "execution_count": 49,
      "outputs": [
        {
          "output_type": "stream",
          "name": "stdout",
          "text": [
            "[1, 2, 3, 4, 5, 6, 7, 8]\n"
          ]
        }
      ]
    },
    {
      "cell_type": "code",
      "source": [
        "a = [1,2,7, 8]\n",
        "## Write a Python statement using slice assignment that will fill in the missing values so that a equals [1, 2, 3, 4, 5, 6, 7, 8].\n",
        "print(a[2:2])\n",
        "a[2:2] = [3,4,5,6]\n",
        "print(a)"
      ],
      "metadata": {
        "colab": {
          "base_uri": "https://localhost:8080/"
        },
        "id": "dBickJr1-cOU",
        "outputId": "fc5c94de-2683-48f4-99fa-ea7db588c0f4"
      },
      "execution_count": 52,
      "outputs": [
        {
          "output_type": "stream",
          "name": "stdout",
          "text": [
            "[]\n",
            "[1, 2, 3, 4, 5, 6, 7, 8]\n"
          ]
        }
      ]
    },
    {
      "cell_type": "code",
      "source": [
        "# Sırasız bir listen var, en büyük 2. elemanı nasıl bulursunuz?\n",
        "arr = [3,4,8,9,2,1,0,45, 56,23,5,7]\n",
        "arr.sort()\n",
        "print(arr[-2])"
      ],
      "metadata": {
        "colab": {
          "base_uri": "https://localhost:8080/"
        },
        "id": "8pbSwu-P-6pH",
        "outputId": "c7c5915a-7ea4-42e2-f0dd-89fc696321cc"
      },
      "execution_count": 54,
      "outputs": [
        {
          "output_type": "stream",
          "name": "stdout",
          "text": [
            "45\n"
          ]
        }
      ]
    },
    {
      "cell_type": "code",
      "source": [
        "# Sırasız bir listen var, en büyük 2. elemanı nasıl bulursunuz?\n",
        "arr = [3,4,8,9,2,1,0,45,56,23,5,7]\n",
        "max_2 = max(arr)\n",
        "arr.remove(max_2)\n",
        "print(max(arr))"
      ],
      "metadata": {
        "colab": {
          "base_uri": "https://localhost:8080/"
        },
        "id": "DHtUZDiI_mS_",
        "outputId": "1e931e4e-d9f9-4c07-f164-cf32d3912b04"
      },
      "execution_count": 56,
      "outputs": [
        {
          "output_type": "stream",
          "name": "stdout",
          "text": [
            "45\n"
          ]
        }
      ]
    },
    {
      "cell_type": "code",
      "source": [
        "grocer1 = {'fruit':'apple', 'drink':'water'}\n",
        "grocer2 = dict(fruit='apple', drink='water')  ## Eşdeğeri\n",
        "print(grocer1)\n",
        "print(grocer2)"
      ],
      "metadata": {
        "colab": {
          "base_uri": "https://localhost:8080/"
        },
        "id": "oxDjP3mnB4aA",
        "outputId": "71625664-82f9-42ed-d8a6-ebe2bc93d74f"
      },
      "execution_count": 57,
      "outputs": [
        {
          "output_type": "stream",
          "name": "stdout",
          "text": [
            "{'fruit': 'apple', 'drink': 'water'}\n",
            "{'fruit': 'apple', 'drink': 'water'}\n"
          ]
        }
      ]
    },
    {
      "cell_type": "code",
      "source": [
        "state_capitals = {'Arkansas':'Little Rock',\n",
        "\t\t\t'Colorado':'Denver',\n",
        "\t\t\t'California':'Sacramento',\n",
        "\t\t\t'Georgia':'Atlanta'\n",
        "\t\t\t}\n",
        "print(state_capitals['Colorado'])"
      ],
      "metadata": {
        "colab": {
          "base_uri": "https://localhost:8080/"
        },
        "id": "h_TeorBjCW3Y",
        "outputId": "ca917d5c-f3af-4f32-b76c-792b9dc812c7"
      },
      "execution_count": 58,
      "outputs": [
        {
          "output_type": "stream",
          "name": "stdout",
          "text": [
            "Denver\n"
          ]
        }
      ]
    },
    {
      "cell_type": "code",
      "source": [
        "state_capitals = {'Arkansas':'Little Rock',\n",
        "\t\t\t'Colorado':'Denver',\n",
        "\t\t\t'California':'Sacramento',\n",
        "\t\t\t'Georgia':'Atlanta'\n",
        "\t\t\t}\n",
        "print(state_capitals[1])"
      ],
      "metadata": {
        "colab": {
          "base_uri": "https://localhost:8080/",
          "height": 201
        },
        "id": "i_RhH6cOCd0n",
        "outputId": "78aa0b7f-6817-41e9-a984-4a2612acd696"
      },
      "execution_count": 59,
      "outputs": [
        {
          "output_type": "error",
          "ename": "KeyError",
          "evalue": "ignored",
          "traceback": [
            "\u001b[0;31m---------------------------------------------------------------------------\u001b[0m",
            "\u001b[0;31mKeyError\u001b[0m                                  Traceback (most recent call last)",
            "\u001b[0;32m<ipython-input-59-303fd3059a54>\u001b[0m in \u001b[0;36m<module>\u001b[0;34m()\u001b[0m\n\u001b[1;32m      4\u001b[0m                         \u001b[0;34m'Georgia'\u001b[0m\u001b[0;34m:\u001b[0m\u001b[0;34m'Atlanta'\u001b[0m\u001b[0;34m\u001b[0m\u001b[0;34m\u001b[0m\u001b[0m\n\u001b[1;32m      5\u001b[0m \t\t\t}\n\u001b[0;32m----> 6\u001b[0;31m \u001b[0mprint\u001b[0m\u001b[0;34m(\u001b[0m\u001b[0mstate_capitals\u001b[0m\u001b[0;34m[\u001b[0m\u001b[0;36m1\u001b[0m\u001b[0;34m]\u001b[0m\u001b[0;34m)\u001b[0m\u001b[0;34m\u001b[0m\u001b[0;34m\u001b[0m\u001b[0m\n\u001b[0m",
            "\u001b[0;31mKeyError\u001b[0m: 1"
          ]
        }
      ]
    },
    {
      "cell_type": "code",
      "source": [
        "number = {'1':'Bir',\n",
        "\t\t  '2':'iki',\n",
        "\t\t  '3':'Üç',\n",
        "\t\t  '4':'Dört'\n",
        "\t\t\t}\n",
        "print(number['1'])"
      ],
      "metadata": {
        "colab": {
          "base_uri": "https://localhost:8080/"
        },
        "id": "Gme5RZigCkFh",
        "outputId": "d8ea73d2-268a-4883-efa0-d5d9f7237bfb"
      },
      "execution_count": 62,
      "outputs": [
        {
          "output_type": "stream",
          "name": "stdout",
          "text": [
            "Bir\n"
          ]
        }
      ]
    },
    {
      "cell_type": "code",
      "source": [
        "number = {1:'Bir',\n",
        "\t\t  2:'iki',\n",
        "\t\t  3:'Üç',\n",
        "\t\t  4:'Dört'\n",
        "\t\t\t}\n",
        "print(number[1])"
      ],
      "metadata": {
        "colab": {
          "base_uri": "https://localhost:8080/"
        },
        "id": "3vHXMERJC6Af",
        "outputId": "5ade2cee-da90-40a6-a771-bcf11c06ebd3"
      },
      "execution_count": 63,
      "outputs": [
        {
          "output_type": "stream",
          "name": "stdout",
          "text": [
            "Bir\n"
          ]
        }
      ]
    },
    {
      "cell_type": "code",
      "source": [
        "\"\"\"\n",
        "[] #liste\n",
        "[] indis değeri tanımlamada\n",
        "[key] sözlük key (eleman erişiminde)\n",
        "\n",
        "{sözlük, küme}, f-stringlerde değişken değerini alırken {a}\n",
        "\n",
        "(tuple), metot_ismi() veya fonksiyon_ismi(argüman1, argüman,,)\n",
        "matematiksel işlemlerde gruplama amaçlı (a+b)\n",
        "operatörler: <, >, %, \n",
        "\"\"\""
      ],
      "metadata": {
        "id": "lkWsqnbsDKDO"
      },
      "execution_count": null,
      "outputs": []
    },
    {
      "cell_type": "code",
      "source": [
        "state_capitals = {'Arkansas':'Little Rock',\n",
        "\t\t\t'Colorado':'Denver',\n",
        "\t\t\t'California':'Sacramento',\n",
        "\t\t\t'Georgia':'Atlanta'\n",
        "\t\t\t}\n",
        "state_capitals['Virginia'] = \"Richmond\"\n",
        "print(state_capitals)"
      ],
      "metadata": {
        "colab": {
          "base_uri": "https://localhost:8080/"
        },
        "id": "nVFR8zvxE1dq",
        "outputId": "3dc9792f-3d75-4de1-c5c6-a2ce61c1a40f"
      },
      "execution_count": 64,
      "outputs": [
        {
          "output_type": "stream",
          "name": "stdout",
          "text": [
            "{'Arkansas': 'Little Rock', 'Colorado': 'Denver', 'California': 'Sacramento', 'Georgia': 'Atlanta', 'Virginia': 'Richmond'}\n"
          ]
        }
      ]
    },
    {
      "cell_type": "code",
      "source": [
        "state_capitals = {'Arkansas':'Little Rock',\n",
        "\t\t\t'Colorado':'Denver',\n",
        "\t\t\t'California':'Sacramento',\n",
        "\t\t\t'Georgia':'Atlanta'\n",
        "\t\t\t}\n",
        "state_capitals['Colorado'] = \"Tokyo\" ##mutable\n",
        "print(state_capitals)"
      ],
      "metadata": {
        "colab": {
          "base_uri": "https://localhost:8080/"
        },
        "id": "epzYQLY6FK7C",
        "outputId": "b870c8bd-1c0c-4c32-a323-2e3ae84ab60a"
      },
      "execution_count": 65,
      "outputs": [
        {
          "output_type": "stream",
          "name": "stdout",
          "text": [
            "{'Arkansas': 'Little Rock', 'Colorado': 'Tokyo', 'California': 'Sacramento', 'Georgia': 'Atlanta'}\n"
          ]
        }
      ]
    },
    {
      "cell_type": "code",
      "source": [
        "mix_values = {'animal':('dog','cat'),\n",
        "\t\t\t'planet': ['Neptun', 'Saturn', 'Jupiter'],\n",
        "\t\t\t'number': 40,\n",
        "\t\t\t'pi':3.14,\n",
        "\t\t\t'is_good': True}\n",
        "\n",
        "mix_keys = {22:'integer',\n",
        "\t\t1.2:'float',\n",
        "        '24ab':'test',\n",
        "\t\tTrue:'boolean',\n",
        "\t\t'key':'string',\n",
        "        3+4j: 'complex'}"
      ],
      "metadata": {
        "id": "S3c2pafRFlRD"
      },
      "execution_count": 70,
      "outputs": []
    },
    {
      "cell_type": "code",
      "source": [
        "family = {'name1': 'Joseph', \n",
        "          'name2': 'Bella',\n",
        "          'name3': 'Aisha'\n",
        "         }\n",
        "#new item add\n",
        "family['name4']='Bulend'\n",
        "print(family)"
      ],
      "metadata": {
        "colab": {
          "base_uri": "https://localhost:8080/"
        },
        "id": "EzFv3zusGP5D",
        "outputId": "e9e7d8d4-0ac1-4d13-9e8c-240287bb6046"
      },
      "execution_count": 72,
      "outputs": [
        {
          "output_type": "stream",
          "name": "stdout",
          "text": [
            "{'name1': 'Joseph', 'name2': 'Bella', 'name3': 'Aisha', 'name4': 'Bulend'}\n"
          ]
        }
      ]
    },
    {
      "cell_type": "code",
      "source": [
        "dict_by_dict = dict(animal='dog', planet='neptun', number=40, pi=3.14, is_good=True)\n",
        "print(dict_by_dict)\n"
      ],
      "metadata": {
        "colab": {
          "base_uri": "https://localhost:8080/"
        },
        "id": "1JLm_YQmHIrV",
        "outputId": "5c4c03f8-b4f4-4180-d6b0-1aebf240b080"
      },
      "execution_count": 73,
      "outputs": [
        {
          "output_type": "stream",
          "name": "stdout",
          "text": [
            "{'animal': 'dog', 'planet': 'neptun', 'number': 40, 'pi': 3.14, 'is_good': True}\n"
          ]
        }
      ]
    },
    {
      "cell_type": "code",
      "source": [
        "dict_by_dict = dict(animal='dog', planet='neptun', number=40, 4pi=3.14, is_good=True)\n",
        "print(dict_by_dict)"
      ],
      "metadata": {
        "colab": {
          "base_uri": "https://localhost:8080/",
          "height": 131
        },
        "id": "kSFr3hh1HREc",
        "outputId": "8f50fad4-d5d3-4de4-f426-764c7c50e0ce"
      },
      "execution_count": 74,
      "outputs": [
        {
          "output_type": "error",
          "ename": "SyntaxError",
          "evalue": "ignored",
          "traceback": [
            "\u001b[0;36m  File \u001b[0;32m\"<ipython-input-74-5b4fbfc49e80>\"\u001b[0;36m, line \u001b[0;32m1\u001b[0m\n\u001b[0;31m    dict_by_dict = dict(animal='dog', planet='neptun', number=40, 4pi=3.14, is_good=True)\u001b[0m\n\u001b[0m                                                                    ^\u001b[0m\n\u001b[0;31mSyntaxError\u001b[0m\u001b[0;31m:\u001b[0m invalid syntax\n"
          ]
        }
      ]
    },
    {
      "cell_type": "code",
      "source": [
        "family = dict(name1 = 'Atilla',\n",
        "              name2 = 'Tarkan',\n",
        "              name3 = ' Osman',\n",
        "              name4 = 'Fatma')\n",
        "print(family)"
      ],
      "metadata": {
        "colab": {
          "base_uri": "https://localhost:8080/"
        },
        "id": "imNFoME6KRiy",
        "outputId": "07da40cd-5405-4c0a-a6dd-934283a51d92"
      },
      "execution_count": 75,
      "outputs": [
        {
          "output_type": "stream",
          "name": "stdout",
          "text": [
            "{'name1': 'Atilla', 'name2': 'Tarkan', 'name3': ' Osman', 'name4': 'Fatma'}\n"
          ]
        }
      ]
    },
    {
      "cell_type": "code",
      "source": [
        "family = dict(name1= 'Joseph', name2= 'Bella', name3='Aisha', name4= 'Bulend')\n",
        "print(family)"
      ],
      "metadata": {
        "colab": {
          "base_uri": "https://localhost:8080/"
        },
        "id": "GWVsVYW2KW8i",
        "outputId": "21cf1096-157d-4f71-fa69-b3017ee09c8a"
      },
      "execution_count": 76,
      "outputs": [
        {
          "output_type": "stream",
          "name": "stdout",
          "text": [
            "{'name1': 'Joseph', 'name2': 'Bella', 'name3': 'Aisha', 'name4': 'Bulend'}\n"
          ]
        }
      ]
    },
    {
      "cell_type": "code",
      "source": [
        "dir(dict)\n"
      ],
      "metadata": {
        "colab": {
          "base_uri": "https://localhost:8080/"
        },
        "id": "afyL2UR5Krir",
        "outputId": "c1199391-eeb5-4430-de58-353d0c45dadf"
      },
      "execution_count": 77,
      "outputs": [
        {
          "output_type": "execute_result",
          "data": {
            "text/plain": [
              "['__class__',\n",
              " '__contains__',\n",
              " '__delattr__',\n",
              " '__delitem__',\n",
              " '__dir__',\n",
              " '__doc__',\n",
              " '__eq__',\n",
              " '__format__',\n",
              " '__ge__',\n",
              " '__getattribute__',\n",
              " '__getitem__',\n",
              " '__gt__',\n",
              " '__hash__',\n",
              " '__init__',\n",
              " '__init_subclass__',\n",
              " '__iter__',\n",
              " '__le__',\n",
              " '__len__',\n",
              " '__lt__',\n",
              " '__ne__',\n",
              " '__new__',\n",
              " '__reduce__',\n",
              " '__reduce_ex__',\n",
              " '__repr__',\n",
              " '__setattr__',\n",
              " '__setitem__',\n",
              " '__sizeof__',\n",
              " '__str__',\n",
              " '__subclasshook__',\n",
              " 'clear',\n",
              " 'copy',\n",
              " 'fromkeys',\n",
              " 'get',\n",
              " 'items',\n",
              " 'keys',\n",
              " 'pop',\n",
              " 'popitem',\n",
              " 'setdefault',\n",
              " 'update',\n",
              " 'values']"
            ]
          },
          "metadata": {},
          "execution_count": 77
        }
      ]
    },
    {
      "cell_type": "code",
      "source": [
        "dict_by_dict = {'animal':'dog',\n",
        "\t\t\t'planet': 'Neptun',\n",
        "\t\t\t'number': 40,\n",
        "\t\t\t'pi':3.14,\n",
        "\t\t\t'is_good': True}\n",
        "\n",
        "##sadece values\n",
        "print(dict_by_dict.values())\n",
        "## sadece keyS\n",
        "print(dict_by_dict.keys())\n",
        "# tüm elemanlar\n",
        "print(list(dict_by_dict.items()))"
      ],
      "metadata": {
        "colab": {
          "base_uri": "https://localhost:8080/"
        },
        "id": "2mO_B5bFLVon",
        "outputId": "c2118180-2edb-47f9-dd97-77474f6e4076"
      },
      "execution_count": 81,
      "outputs": [
        {
          "output_type": "stream",
          "name": "stdout",
          "text": [
            "dict_values(['dog', 'Neptun', 40, 3.14, True])\n",
            "dict_keys(['animal', 'planet', 'number', 'pi', 'is_good'])\n",
            "[('animal', 'dog'), ('planet', 'Neptun'), ('number', 40), ('pi', 3.14), ('is_good', True)]\n"
          ]
        }
      ]
    },
    {
      "cell_type": "code",
      "source": [
        "family = dict(name1= 'Joseph', name2= 'Bella', name3='Aisha', name4= 'Bulend')\n",
        "print(list(family.items()))\n",
        "print(list(family.values()))\n",
        "print(list(family.keys()))"
      ],
      "metadata": {
        "colab": {
          "base_uri": "https://localhost:8080/"
        },
        "id": "aUwCyzkNMS7O",
        "outputId": "8c0d7922-338f-4e35-fad8-93a98e4d7f0e"
      },
      "execution_count": 85,
      "outputs": [
        {
          "output_type": "stream",
          "name": "stdout",
          "text": [
            "[('name1', 'Joseph'), ('name2', 'Bella'), ('name3', 'Aisha'), ('name4', 'Bulend')]\n",
            "['Joseph', 'Bella', 'Aisha', 'Bulend']\n",
            "['name1', 'name2', 'name3', 'name4']\n"
          ]
        }
      ]
    },
    {
      "cell_type": "code",
      "source": [
        "dict_by_dict = {'animal':'dog',\n",
        "\t\t\t'planet': 'Neptun',\n",
        "\t\t\t'number': 40,\n",
        "\t\t\t'pi':3.14,\n",
        "\t\t\t'is_good': True}\n",
        "dict_by_dict.update({'is_bad': False})\n",
        "print(dict_by_dict)"
      ],
      "metadata": {
        "colab": {
          "base_uri": "https://localhost:8080/"
        },
        "id": "R8dN846uODo3",
        "outputId": "2e52e975-7921-4e84-a4e2-7a4e095ecbbc"
      },
      "execution_count": 87,
      "outputs": [
        {
          "output_type": "stream",
          "name": "stdout",
          "text": [
            "{'animal': 'dog', 'planet': 'Neptun', 'number': 40, 'pi': 3.14, 'is_good': True, 'is_bad': False}\n"
          ]
        }
      ]
    },
    {
      "cell_type": "code",
      "source": [
        "dict_by_dict = {'animal':'dog',\n",
        "\t\t\t'planet': 'Neptun',\n",
        "\t\t\t'number': 40,\n",
        "\t\t\t'pi':3.14,\n",
        "\t\t\t'is_good': True}\n",
        "dict_by_dict.update({'pi': 3.14567})\n",
        "print(dict_by_dict)"
      ],
      "metadata": {
        "colab": {
          "base_uri": "https://localhost:8080/"
        },
        "id": "d47rcRGsOV88",
        "outputId": "c2d3a07a-c826-4e09-9a5a-3c3b164f1fc6"
      },
      "execution_count": 88,
      "outputs": [
        {
          "output_type": "stream",
          "name": "stdout",
          "text": [
            "{'animal': 'dog', 'planet': 'Neptun', 'number': 40, 'pi': 3.14567, 'is_good': True}\n"
          ]
        }
      ]
    },
    {
      "cell_type": "code",
      "source": [
        "dict_by_dict = {'animal':'dog',\n",
        "\t\t\t'planet': 'Neptun',\n",
        "\t\t\t'number': 40,\n",
        "\t\t\t'pi':3.14,\n",
        "\t\t\t'is_good': True}\n",
        "dict_by_dict.update(is_bad = False)\n",
        "print(dict_by_dict)"
      ],
      "metadata": {
        "colab": {
          "base_uri": "https://localhost:8080/"
        },
        "id": "MtVUKZdTOmwY",
        "outputId": "9d06f559-d88f-4a7a-e4b0-0ea8a71de348"
      },
      "execution_count": 89,
      "outputs": [
        {
          "output_type": "stream",
          "name": "stdout",
          "text": [
            "{'animal': 'dog', 'planet': 'Neptun', 'number': 40, 'pi': 3.14, 'is_good': True, 'is_bad': False}\n"
          ]
        }
      ]
    },
    {
      "cell_type": "code",
      "source": [
        "dict_by_dict = {'animal':'dog',\n",
        "\t\t\t'planet': 'Neptun',\n",
        "\t\t\t'number': 40,\n",
        "\t\t\t'pi':3.14,\n",
        "\t\t\t'is_good': True}\n",
        "dict_by_dict.update(is_bad = False, is_normal = 1)\n",
        "print(dict_by_dict)"
      ],
      "metadata": {
        "colab": {
          "base_uri": "https://localhost:8080/"
        },
        "id": "ft2u3F5gPKpT",
        "outputId": "9e6f2113-0ee5-4d58-c355-cbb4074d440a"
      },
      "execution_count": 90,
      "outputs": [
        {
          "output_type": "stream",
          "name": "stdout",
          "text": [
            "{'animal': 'dog', 'planet': 'Neptun', 'number': 40, 'pi': 3.14, 'is_good': True, 'is_bad': False, 'is_normal': 1}\n"
          ]
        }
      ]
    },
    {
      "cell_type": "code",
      "source": [
        "d = dict.fromkeys(range(1,9),'sıfır')\n",
        "print(d)"
      ],
      "metadata": {
        "colab": {
          "base_uri": "https://localhost:8080/"
        },
        "id": "HetHd6fBPWJj",
        "outputId": "19bbbd96-ed56-458f-ebda-3ae40d207083"
      },
      "execution_count": 91,
      "outputs": [
        {
          "output_type": "stream",
          "name": "stdout",
          "text": [
            "{1: 'sıfır', 2: 'sıfır', 3: 'sıfır', 4: 'sıfır', 5: 'sıfır', 6: 'sıfır', 7: 'sıfır', 8: 'sıfır'}\n"
          ]
        }
      ]
    },
    {
      "cell_type": "code",
      "source": [
        "family.update(jason = \"yabanci\")\n",
        "print(family)"
      ],
      "metadata": {
        "colab": {
          "base_uri": "https://localhost:8080/"
        },
        "id": "ZQL6oLqYQJuK",
        "outputId": "f2dec3b6-48d5-46d0-8ca5-e61398125f0d"
      },
      "execution_count": 92,
      "outputs": [
        {
          "output_type": "stream",
          "name": "stdout",
          "text": [
            "{'name1': 'Joseph', 'name2': 'Bella', 'name3': 'Aisha', 'name4': 'Bulend', 'jason': 'yabanci'}\n"
          ]
        }
      ]
    },
    {
      "cell_type": "code",
      "source": [
        "Ayse=\"Ayşe\"\n",
        "family.update({'name5' : Ayse})\n",
        "print(family)"
      ],
      "metadata": {
        "colab": {
          "base_uri": "https://localhost:8080/"
        },
        "id": "dlHNeZZrQQmt",
        "outputId": "c3935846-42fb-4732-eaa0-4790bd20ec00"
      },
      "execution_count": 93,
      "outputs": [
        {
          "output_type": "stream",
          "name": "stdout",
          "text": [
            "{'name1': 'Joseph', 'name2': 'Bella', 'name3': 'Aisha', 'name4': 'Bulend', 'jason': 'yabanci', 'name5': 'Ayşe'}\n"
          ]
        }
      ]
    },
    {
      "cell_type": "code",
      "source": [
        "del family['jason']"
      ],
      "metadata": {
        "id": "PiNGX504QjH5"
      },
      "execution_count": 94,
      "outputs": []
    },
    {
      "cell_type": "code",
      "source": [
        "print(family)"
      ],
      "metadata": {
        "colab": {
          "base_uri": "https://localhost:8080/"
        },
        "id": "WULyiq0rQvm4",
        "outputId": "a810b2e9-f3b4-4fa5-9f54-cfb0b526e750"
      },
      "execution_count": 95,
      "outputs": [
        {
          "output_type": "stream",
          "name": "stdout",
          "text": [
            "{'name1': 'Joseph', 'name2': 'Bella', 'name3': 'Aisha', 'name4': 'Bulend', 'name5': 'Ayşe'}\n"
          ]
        }
      ]
    },
    {
      "cell_type": "code",
      "source": [
        "del family['name5'], family['name4']"
      ],
      "metadata": {
        "id": "7HmcAFexRVuL"
      },
      "execution_count": 98,
      "outputs": []
    },
    {
      "cell_type": "code",
      "source": [
        "print(family)"
      ],
      "metadata": {
        "colab": {
          "base_uri": "https://localhost:8080/"
        },
        "id": "-vOgYbR8RaRG",
        "outputId": "fc853f6e-676f-449f-e4b1-2596b97c6fcb"
      },
      "execution_count": 99,
      "outputs": [
        {
          "output_type": "stream",
          "name": "stdout",
          "text": [
            "{'name1': 'Joseph', 'name2': 'Bella', 'name3': 'Aisha'}\n"
          ]
        }
      ]
    },
    {
      "cell_type": "code",
      "source": [
        "del family['name5', 'name4']"
      ],
      "metadata": {
        "colab": {
          "base_uri": "https://localhost:8080/",
          "height": 166
        },
        "id": "XpVRYS-JRKNU",
        "outputId": "ed15b8b7-315f-438a-fd79-0219661549f8"
      },
      "execution_count": 97,
      "outputs": [
        {
          "output_type": "error",
          "ename": "KeyError",
          "evalue": "ignored",
          "traceback": [
            "\u001b[0;31m---------------------------------------------------------------------------\u001b[0m",
            "\u001b[0;31mKeyError\u001b[0m                                  Traceback (most recent call last)",
            "\u001b[0;32m<ipython-input-97-2bd3984cc5de>\u001b[0m in \u001b[0;36m<module>\u001b[0;34m()\u001b[0m\n\u001b[0;32m----> 1\u001b[0;31m \u001b[0;32mdel\u001b[0m \u001b[0mfamily\u001b[0m\u001b[0;34m[\u001b[0m\u001b[0;34m'name5'\u001b[0m\u001b[0;34m,\u001b[0m \u001b[0;34m'name4'\u001b[0m\u001b[0;34m]\u001b[0m\u001b[0;34m\u001b[0m\u001b[0;34m\u001b[0m\u001b[0m\n\u001b[0m",
            "\u001b[0;31mKeyError\u001b[0m: ('name5', 'name4')"
          ]
        }
      ]
    },
    {
      "cell_type": "code",
      "source": [
        "del family['jason']  ## olmayan elemanı silmeye çalıştığımızda KeyError"
      ],
      "metadata": {
        "colab": {
          "base_uri": "https://localhost:8080/",
          "height": 166
        },
        "id": "2S6Lh2UWQ1Kk",
        "outputId": "66132c32-ea18-4745-8962-5f243df27448"
      },
      "execution_count": 96,
      "outputs": [
        {
          "output_type": "error",
          "ename": "KeyError",
          "evalue": "ignored",
          "traceback": [
            "\u001b[0;31m---------------------------------------------------------------------------\u001b[0m",
            "\u001b[0;31mKeyError\u001b[0m                                  Traceback (most recent call last)",
            "\u001b[0;32m<ipython-input-96-16ea18b89fdb>\u001b[0m in \u001b[0;36m<module>\u001b[0;34m()\u001b[0m\n\u001b[0;32m----> 1\u001b[0;31m \u001b[0;32mdel\u001b[0m \u001b[0mfamily\u001b[0m\u001b[0;34m[\u001b[0m\u001b[0;34m'jason'\u001b[0m\u001b[0;34m]\u001b[0m\u001b[0;34m\u001b[0m\u001b[0;34m\u001b[0m\u001b[0m\n\u001b[0m",
            "\u001b[0;31mKeyError\u001b[0m: 'jason'"
          ]
        }
      ]
    },
    {
      "cell_type": "code",
      "source": [
        "trEn = {\"pazartesi\": \"monday\",\n",
        "        \"salı\":\"tuesday\",\n",
        "        \"çarşamba\": \"wednesday\",\n",
        "        \"perşembe\":\"thursday\",\n",
        "        \"cuma\":\"friday\",\n",
        "        \"cumartesi\":\"saturday\",\n",
        "        \"pazar\":\"sunday\"\n",
        "        }\n",
        "ara = input(\"Türkçe ad..:\")\n",
        "print(\"İngilizcesi..:\", trEn[ara])"
      ],
      "metadata": {
        "colab": {
          "base_uri": "https://localhost:8080/"
        },
        "id": "nZVn1OSQRlpZ",
        "outputId": "26cb2bdd-34de-4395-afae-cc19e13e63fe"
      },
      "execution_count": 104,
      "outputs": [
        {
          "output_type": "stream",
          "name": "stdout",
          "text": [
            "Türkçe ad..:cuma\n",
            "İngilizcesi..: friday\n"
          ]
        }
      ]
    },
    {
      "cell_type": "code",
      "source": [
        "trEn = {\"pazartesi\": \"monday\",\n",
        "        \"salı\":\"tuesday\",\n",
        "        \"çarşamba\": \"wednesday\",\n",
        "        \"perşembe\":\"thursday\",\n",
        "        \"cuma\":\"friday\",\n",
        "        \"cumartesi\":\"saturday\",\n",
        "        \"pazar\":\"sunday\"\n",
        "        }\n",
        "ara = input(\"Türkçe ad..:\")\n",
        "print(\"İngilizcesi..:\", trEn.get(ara, \"Bu kelime sözlükte yok..\"))"
      ],
      "metadata": {
        "colab": {
          "base_uri": "https://localhost:8080/"
        },
        "id": "820F6bkCSlSw",
        "outputId": "99281acc-5067-489a-8574-0d99e25031c6"
      },
      "execution_count": 106,
      "outputs": [
        {
          "output_type": "stream",
          "name": "stdout",
          "text": [
            "Türkçe ad..:cuma\n",
            "İngilizcesi..: friday\n"
          ]
        }
      ]
    },
    {
      "cell_type": "code",
      "source": [
        "trEn = {\"pazartesi\": \"monday\",\n",
        "        \"salı\":\"tuesday\",\n",
        "        \"çarşamba\": \"wednesday\",\n",
        "        \"perşembe\":\"thursday\",\n",
        "        \"cuma\":\"friday\",\n",
        "        \"cumartesi\":\"saturday\",\n",
        "        \"pazar\":\"sunday\"\n",
        "        }\n",
        "ara = input(\"Türkçe ad..:\")\n",
        "print(ara in trEn and trEn[ara] or \"Sözlükte yoktur\")"
      ],
      "metadata": {
        "colab": {
          "base_uri": "https://localhost:8080/"
        },
        "id": "pW4ZBJxjTGuF",
        "outputId": "5c92021f-a468-432a-af78-3cf50de32137"
      },
      "execution_count": 108,
      "outputs": [
        {
          "output_type": "stream",
          "name": "stdout",
          "text": [
            "Türkçe ad..:ocak\n",
            "Sözlükte yoktur\n"
          ]
        }
      ]
    },
    {
      "cell_type": "code",
      "source": [
        "#Ailenin belli bir çiftine erişmek istediğimizde;\n",
        "# liste dönüştürüp, indis numarası ile erişebiliriz\n",
        "print(list(family.items())[0])"
      ],
      "metadata": {
        "colab": {
          "base_uri": "https://localhost:8080/"
        },
        "id": "m0K4M00kUhRA",
        "outputId": "718e3f14-f28c-40cb-b54b-7d474e9733f0"
      },
      "execution_count": 111,
      "outputs": [
        {
          "output_type": "stream",
          "name": "stdout",
          "text": [
            "('name1', 'Joseph')\n"
          ]
        }
      ]
    }
  ]
}