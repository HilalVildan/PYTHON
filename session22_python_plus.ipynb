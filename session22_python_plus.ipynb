{
  "nbformat": 4,
  "nbformat_minor": 0,
  "metadata": {
    "colab": {
      "name": "session22_python_plus.ipynb",
      "provenance": []
    },
    "kernelspec": {
      "name": "python3",
      "display_name": "Python 3"
    },
    "language_info": {
      "name": "python"
    }
  },
  "cells": [
    {
      "cell_type": "code",
      "source": [
        "import os\n",
        "os.getcwd() #çalışma kalsörü ve yolunu verir"
      ],
      "metadata": {
        "colab": {
          "base_uri": "https://localhost:8080/",
          "height": 35
        },
        "id": "uMtNlLJxaBoa",
        "outputId": "2738896a-cfd5-43e9-a202-43f47e405138"
      },
      "execution_count": 3,
      "outputs": [
        {
          "output_type": "execute_result",
          "data": {
            "text/plain": [
              "'/content'"
            ],
            "application/vnd.google.colaboratory.intrinsic+json": {
              "type": "string"
            }
          },
          "metadata": {},
          "execution_count": 3
        }
      ]
    },
    {
      "cell_type": "code",
      "source": [
        "pwd"
      ],
      "metadata": {
        "colab": {
          "base_uri": "https://localhost:8080/",
          "height": 35
        },
        "id": "_iQBRPuPaSwT",
        "outputId": "c1113f7c-b122-4a23-a187-8b7e5572e423"
      },
      "execution_count": 4,
      "outputs": [
        {
          "output_type": "execute_result",
          "data": {
            "text/plain": [
              "'/content'"
            ],
            "application/vnd.google.colaboratory.intrinsic+json": {
              "type": "string"
            }
          },
          "metadata": {},
          "execution_count": 4
        }
      ]
    },
    {
      "cell_type": "code",
      "source": [
        "#csv modulu kullanılarak okuma işlemi\n",
        "import csv #built-in module\n",
        "with open('fruits.csv') as f:\n",
        "    for row in csv.reader(f):\n",
        "        print(row)"
      ],
      "metadata": {
        "colab": {
          "base_uri": "https://localhost:8080/"
        },
        "id": "J4fZfOu-Z9Ek",
        "outputId": "1438c86f-4db2-443a-9ea9-8e88bd799902"
      },
      "execution_count": 11,
      "outputs": [
        {
          "output_type": "stream",
          "name": "stdout",
          "text": [
            "['no', 'fruit', 'amount']\n",
            "['1', 'Banana', '4 lb']\n",
            "['2', 'Orange', '5 lb']\n",
            "['3', 'Apple', '2 lb']\n",
            "['4', 'Strawberry', '6 lb']\n",
            "['5', 'Cherry', '3 lb']\n",
            "['6', 'Melon', '3 lb']\n",
            "['7', 'Lemon', '5 lb']\n",
            "['8', 'Watermelon', '10 lb']\n",
            "['9', 'Ananas', '1 lb']\n",
            "['10', 'Pepper', '3 lb']\n",
            "['9', 'Ananas', '1 lb']\n",
            "['10', 'Pepper', '3 lb']\n",
            "['9', 'Ananas', '1 lb']\n",
            "['10', 'Pepper', '3 lb']\n",
            "['9', 'Armut', '1 lb']\n",
            "['10', 'Kavun', '3 lb']\n",
            "['11', 'Salata', '2 lb']\n"
          ]
        }
      ]
    },
    {
      "cell_type": "code",
      "source": [
        "#csv modulu kullanılarak okuma işlemi\n",
        "#eğer türkçe karater hatası alırsak encoding='utf-8' eklemeliyiz....\n",
        "import csv #built-in module\n",
        "with open('fruits.csv') as f:\n",
        "    for row in csv.reader(f, delimiter=\" \", encoding='utf-8'):\n",
        "        print(row)"
      ],
      "metadata": {
        "id": "ZMDFNj0Igyjn"
      },
      "execution_count": null,
      "outputs": []
    },
    {
      "cell_type": "code",
      "source": [
        "#csv modulunu kullanılarak yazma işlemi\n",
        "import csv\n",
        "someiterable = [[\"no\", \"ad\", \"adres\"], [1, \"ayşe\", \"tokat\"], [2, \"tom\", \"berlin\"]]\n",
        "with open('some.csv', 'w', newline='') as f:\n",
        "    writer = csv.writer(f)\n",
        "    writer.writerows(someiterable)"
      ],
      "metadata": {
        "id": "vhfOlMbRbiNx"
      },
      "execution_count": 6,
      "outputs": []
    },
    {
      "cell_type": "code",
      "source": [
        "import csv\n",
        "#someiterable=[[3,\"adem\",\"arslan\"],[4,\"selami\",\"isik\"],[1,\"kemal\",\"güler\"]]\n",
        "with open(\"some.csv\",\"a\",newline='') as f:\n",
        "    writer = csv.writer(f)\n",
        "    writer.writerow([3,\"adem\",\"arslan\"])\n",
        "    writer.writerow([4,\"selami\",\"isik\"])"
      ],
      "metadata": {
        "id": "yJZIy02MdiNs"
      },
      "execution_count": 7,
      "outputs": []
    },
    {
      "cell_type": "code",
      "source": [
        "#csv modulunu kullanarak sözlük veri yapısında verileri dosyaya yazma\n",
        "import csv\n",
        "\n",
        "with open('names.csv', 'w', newline='') as csvfile:\n",
        "    w = csv.DictWriter(csvfile, fieldnames=['first_name', 'last_name'])\n",
        "\n",
        "    w.writeheader()\n",
        "    w.writerow({'first_name': 'Baked', 'last_name': 'Beans'})\n",
        "    w.writerow({'first_name': 'Lovely', 'last_name': 'Spam'})\n",
        "    w.writerow({'first_name': 'Wonderful', 'last_name': 'Spam'})"
      ],
      "metadata": {
        "id": "N3ZhJXpbeXqc"
      },
      "execution_count": 8,
      "outputs": []
    },
    {
      "cell_type": "code",
      "source": [
        "#csv modlünü kullanarak sözlük yapsındaki bir csv dosyasını okuma \n",
        "import csv\n",
        "with open('names.csv') as csvfile:\n",
        "    reader = csv.DictReader(csvfile)\n",
        "    for row in reader:\n",
        "        print(row['first_name'], row['last_name'])"
      ],
      "metadata": {
        "colab": {
          "base_uri": "https://localhost:8080/"
        },
        "id": "pHwiDjw_ePqf",
        "outputId": "114c0e53-5ab3-46c9-c133-5934411fffe5"
      },
      "execution_count": 9,
      "outputs": [
        {
          "output_type": "stream",
          "name": "stdout",
          "text": [
            "Baked Beans\n",
            "Lovely Spam\n",
            "Wonderful Spam\n"
          ]
        }
      ]
    },
    {
      "cell_type": "code",
      "source": [
        "#csv modlünü kullanarak sözlük yapsındaki bir csv dosyasını okuma \n",
        "import csv\n",
        "with open('names.csv') as csvfile:\n",
        "    reader = csv.DictReader(csvfile)\n",
        "    for row in reader:\n",
        "        print(row['first_name'], \":\", row['last_name'])"
      ],
      "metadata": {
        "colab": {
          "base_uri": "https://localhost:8080/"
        },
        "id": "-MZgdYh-geeD",
        "outputId": "e6a94b92-a5b8-4d38-92d9-6a2802b0ea5c"
      },
      "execution_count": 10,
      "outputs": [
        {
          "output_type": "stream",
          "name": "stdout",
          "text": [
            "Baked : Beans\n",
            "Lovely : Spam\n",
            "Wonderful : Spam\n"
          ]
        }
      ]
    },
    {
      "cell_type": "markdown",
      "source": [
        "**READING AND WRITING FILES WITH PANDAS **"
      ],
      "metadata": {
        "id": "vIoVspwDPSZG"
      }
    },
    {
      "cell_type": "code",
      "execution_count": null,
      "metadata": {
        "id": "lMO0GYzdMTby"
      },
      "outputs": [],
      "source": [
        "#pandas ile csv dosyası okuma\n",
        "url = \"https://raw.githubusercontent.com/gaganchane/hubway-clustering/master/hubwaytrips.csv\"\n",
        "import pandas as pd\n",
        "df = pd.read_csv(url)\n",
        "print(df)"
      ]
    },
    {
      "cell_type": "code",
      "source": [
        "#pandas ile csv dosyası okuma\n",
        "url = \"https://raw.githubusercontent.com/gaganchane/hubway-clustering/master/hubwaytrips.csv\"\n",
        "import pandas as pd\n",
        "df = pd.read_csv(url)\n",
        "print(df.head()) #baştan ilk 5 satırı verir"
      ],
      "metadata": {
        "colab": {
          "base_uri": "https://localhost:8080/"
        },
        "id": "r-xtsMLlo2Dc",
        "outputId": "55c89f2f-2876-4741-ef1e-40554f36bada"
      },
      "execution_count": 17,
      "outputs": [
        {
          "output_type": "stream",
          "name": "stdout",
          "text": [
            "   Duration  Morning  Afternoon  Evening  Night  Weekday  Weekend  Male  Age\n",
            "0       743        0          0        1      0        1        0     0   17\n",
            "1       872        0          1        0      0        1        0     0   17\n",
            "2       514        0          1        0      0        1        0     0   17\n",
            "3      1337        0          1        0      0        1        0     0   17\n",
            "4       493        1          0        0      0        0        1     0   17\n"
          ]
        }
      ]
    },
    {
      "cell_type": "code",
      "source": [
        "#pandas ile csv dosyası okuma\n",
        "url = \"https://raw.githubusercontent.com/gaganchane/hubway-clustering/master/hubwaytrips.csv\"\n",
        "import pandas as pd\n",
        "df = pd.read_csv(url)\n",
        "print(df.head(13)) #baştan 13 satır alır"
      ],
      "metadata": {
        "colab": {
          "base_uri": "https://localhost:8080/"
        },
        "id": "FeXXlaEypiSh",
        "outputId": "2b2b91b1-b94b-4b49-ddf3-cbaa90cd1ec1"
      },
      "execution_count": 19,
      "outputs": [
        {
          "output_type": "stream",
          "name": "stdout",
          "text": [
            "    Duration  Morning  Afternoon  Evening  Night  Weekday  Weekend  Male  Age\n",
            "0        743        0          0        1      0        1        0     0   17\n",
            "1        872        0          1        0      0        1        0     0   17\n",
            "2        514        0          1        0      0        1        0     0   17\n",
            "3       1337        0          1        0      0        1        0     0   17\n",
            "4        493        1          0        0      0        0        1     0   17\n",
            "5        620        0          1        0      0        0        1     0   17\n",
            "6       1112        0          1        0      0        1        0     0   17\n",
            "7        259        0          0        1      0        0        1     0   17\n",
            "8        445        0          0        1      0        0        1     0   17\n",
            "9       1155        0          0        0      1        1        0     0   17\n",
            "10       468        0          1        0      0        1        0     0   17\n",
            "11       507        0          1        0      0        1        0     0   17\n",
            "12       890        0          0        1      0        1        0     0   17\n"
          ]
        }
      ]
    },
    {
      "cell_type": "code",
      "source": [
        "#pandas ile csv dosyası okuma\n",
        "url = \"https://raw.githubusercontent.com/gaganchane/hubway-clustering/master/hubwaytrips.csv\"\n",
        "import pandas as pd\n",
        "df = pd.read_csv(url)\n",
        "print(df.tail()) #sondan 5 satırı verir"
      ],
      "metadata": {
        "colab": {
          "base_uri": "https://localhost:8080/"
        },
        "id": "A7KMzEZQo_mr",
        "outputId": "ddd368ff-8338-4726-91ad-c0d3170a75e1"
      },
      "execution_count": 18,
      "outputs": [
        {
          "output_type": "stream",
          "name": "stdout",
          "text": [
            "        Duration  Morning  Afternoon  Evening  Night  Weekday  Weekend  Male  \\\n",
            "194297      3537        0          1        0      0        0        1     1   \n",
            "194298      3185        0          1        0      0        0        1     1   \n",
            "194299      3401        0          1        0      0        0        1     1   \n",
            "194300      1645        0          1        0      0        0        1     1   \n",
            "194301      4283        0          1        0      0        0        1     1   \n",
            "\n",
            "        Age  \n",
            "194297   78  \n",
            "194298   78  \n",
            "194299   78  \n",
            "194300   78  \n",
            "194301   78  \n"
          ]
        }
      ]
    },
    {
      "cell_type": "code",
      "source": [
        "#pandas ile csv dosyası okuma\n",
        "url = \"https://raw.githubusercontent.com/gaganchane/hubway-clustering/master/hubwaytrips.csv\"\n",
        "import pandas as pd\n",
        "df = pd.read_csv(url)\n",
        "print(df.head()) #baştan ilk 5 satırı verir"
      ],
      "metadata": {
        "id": "-0uIdbrEpLqJ"
      },
      "execution_count": null,
      "outputs": []
    },
    {
      "cell_type": "code",
      "source": [
        "# !pip install pandas\n",
        "import pandas as pd\n",
        "df = pd.read_csv(\"fruits.csv\")\n",
        "print(df)\n"
      ],
      "metadata": {
        "colab": {
          "base_uri": "https://localhost:8080/"
        },
        "id": "Nh9Y3o69ps-A",
        "outputId": "56869ce5-a3b7-41db-c583-e52c07fbf8e4"
      },
      "execution_count": 24,
      "outputs": [
        {
          "output_type": "stream",
          "name": "stdout",
          "text": [
            "    no       fruit amount\n",
            "0    1      Banana   4 lb\n",
            "1    2      Orange   5 lb\n",
            "2    3       Apple   2 lb\n",
            "3    4  Strawberry   6 lb\n",
            "4    5      Cherry   3 lb\n",
            "5    6       Melon   3 lb\n",
            "6    7       Lemon   5 lb\n",
            "7    8  Watermelon  10 lb\n",
            "8    9      Ananas   1 lb\n",
            "9   10      Pepper   3 lb\n",
            "10   9      Ananas   1 lb\n",
            "11  10      Pepper   3 lb\n",
            "12   9      Ananas   1 lb\n",
            "13  10      Pepper   3 lb\n",
            "14   9       Armut   1 lb\n",
            "15  10       Kavun   3 lb\n",
            "16  11      Salata   2 lb\n"
          ]
        }
      ]
    },
    {
      "cell_type": "code",
      "source": [
        "import pandas as pd\n",
        "df = pd.read_csv(\"fruits.csv\", index_col=0)\n",
        "print(df)"
      ],
      "metadata": {
        "id": "bC9_1gAzqj8n"
      },
      "execution_count": null,
      "outputs": []
    },
    {
      "cell_type": "code",
      "source": [
        "import pandas as pd\n",
        "#sadece ilgili/belirtilen sütunları/alanları oku...\n",
        "df = pd.read_csv(\"fruits.csv\", usecols=['no', 'fruit'])\n",
        "print(df)\n"
      ],
      "metadata": {
        "id": "y367tp7Ft1Q6"
      },
      "execution_count": null,
      "outputs": []
    },
    {
      "cell_type": "code",
      "source": [
        "url =\"https://raw.githubusercontent.com/OpenRefine/OpenRefine/master/main/tests/data/nobel-prize-winners.csv\"\n",
        "import pandas as pd\n",
        "df = pd.read_csv(url)\n",
        "print(df.tail(13))"
      ],
      "metadata": {
        "id": "7o9eafzW_94n",
        "colab": {
          "base_uri": "https://localhost:8080/"
        },
        "outputId": "2547f7c7-cb2b-4222-9b16-90930666ba66"
      },
      "execution_count": 26,
      "outputs": [
        {
          "output_type": "stream",
          "name": "stdout",
          "text": [
            "     year  discipline                                            winner  \\\n",
            "840  2006     physics                                   George F. Smoot   \n",
            "841  2007   chemistry                                      Gerhard Ertl   \n",
            "842  2007   economics                                    Leonid Hurwicz   \n",
            "843  2007   economics                                    Eric S. Maskin   \n",
            "844  2007   economics                                  Roger B. Myerson   \n",
            "845  2007  literature                                     Doris Lessing   \n",
            "846  2007    medicine                                 Mario R. Capecchi   \n",
            "847  2007    medicine                               Sir Martin J. Evans   \n",
            "848  2007    medicine                                   Oliver Smithies   \n",
            "849  2007       peace  Intergovernmental Panel on Climate Change (IPCC)   \n",
            "850  2007       peace                       Albert Arnold (Al) Gore Jr.   \n",
            "851  2007     physics                                       Albert Fert   \n",
            "852  2007     physics                     Peter Gr&Atilde;&frac14;nberg   \n",
            "\n",
            "                                                  desc  \n",
            "840  for their discovery of the blackbody form and ...  \n",
            "841  for his studies of chemical processes on solid...  \n",
            "842  for having laid the foundations of mechanism d...  \n",
            "843  for having laid the foundations of mechanism d...  \n",
            "844  for having laid the foundations of mechanism d...  \n",
            "845  that epicist of the female experience, who wit...  \n",
            "846  for their discoveries of principles for introd...  \n",
            "847  for their discoveries of principles for introd...  \n",
            "848  for their discoveries of principles for introd...  \n",
            "849  for their efforts to build up and disseminate ...  \n",
            "850  for their efforts to build up and disseminate ...  \n",
            "851       for the discovery of Giant Magnetoresistance  \n",
            "852       for the discovery of Giant Magnetoresistance  \n"
          ]
        }
      ]
    },
    {
      "cell_type": "code",
      "source": [
        "#pandas csv uzantılı dosyalar oluşturma ve o dosyaya veriler yazma\n",
        "#csv modulunu kullanılarak yazma işlemi\n",
        "import pandas as pd\n",
        "data = [[\"no\", \"ad\", \"adres\"], [1, \"ayşe\", \"tokat\"], [2, \"tom\", \"berlin\"]]\n",
        "df = pd.DataFrame(data) #DataFrame nesnesi oluşturuldu, tablo haline getirmek için...\n",
        "df.to_csv(\"some2.csv\", mode=\"w\")"
      ],
      "metadata": {
        "id": "Cz6HZIFCxNqw"
      },
      "execution_count": 38,
      "outputs": []
    },
    {
      "cell_type": "code",
      "source": [
        "#mevcut dosyaya eklemeler yapalım\n",
        "import pandas as pd\n",
        "data2 = {\"\\nno\":[3,4,5],\n",
        "         \"ad\":[\"Tomas\", \"Gaby\",\"Julia\"],\n",
        "         \"adres\":[\"Münih\", \"İstanbul\", \"Tokyo\"]}\n",
        "df = pd.DataFrame(data2)\n",
        "df.to_csv(\"some2.csv\", mode=\"a\", header=False) #başlıkları ekleme: header=False\n",
        "#index no'lar sıralı gitmiyorsa index=None veya index=False parametresi kulanılabilir..."
      ],
      "metadata": {
        "id": "JzBpteTiykdY"
      },
      "execution_count": 40,
      "outputs": []
    },
    {
      "cell_type": "code",
      "source": [
        "#Task: fruits.csv dosyasına yeni kayıtlar ekleyelim (pandas ile)\n",
        "# Toplam kayıt sayısını öğrenelim (count, len,...)\n",
        "import pandas as pd\n",
        "veri = {\"no\": [11, 12, 13],\n",
        "        \"fruit\": [\"üzüm\", \"tomato\", \"patlıcan\"],\n",
        "        \"amount\": [\"4 lb\", \"2 lb\", \"3 lb\"]}\n",
        "df = pd.DataFrame(veri)\n",
        "df.to_csv(\"fruits.csv\", mode = \"a\", header = False, index = None)\n",
        "#kayıt sayısını bulalım"
      ],
      "metadata": {
        "id": "YlI0sKsn1XRH"
      },
      "execution_count": null,
      "outputs": []
    },
    {
      "cell_type": "code",
      "source": [
        "import pandas as pd\n",
        "df = pd.read_csv(\"fruits.csv\")\n",
        "print(\"Kayıt sayısı..:\",df[\"fruit\"].count())\n",
        "print(df[\"fruit\"].value_counts())"
      ],
      "metadata": {
        "colab": {
          "base_uri": "https://localhost:8080/"
        },
        "id": "0huC7YPL4RSq",
        "outputId": "2108a5fe-69d5-47e1-ef3f-4e4e2169f06e"
      },
      "execution_count": 49,
      "outputs": [
        {
          "output_type": "stream",
          "name": "stdout",
          "text": [
            "Kayıt sayısı..: 26\n",
            "Ananas        3\n",
            "Pepper        3\n",
            "üzüm          3\n",
            "tomato        3\n",
            "patlıcan      3\n",
            "Banana        1\n",
            "Orange        1\n",
            "Apple         1\n",
            "Strawberry    1\n",
            "Cherry        1\n",
            "Melon         1\n",
            "Lemon         1\n",
            "Watermelon    1\n",
            "Armut         1\n",
            "Kavun         1\n",
            "Salata        1\n",
            "Name: fruit, dtype: int64\n"
          ]
        }
      ]
    },
    {
      "cell_type": "code",
      "source": [
        "##json module kullanarak önce dosya oluşturalım\n",
        "import json\n",
        "veri_sozluk = \"\"\"[\n",
        "    {\"il\":\"Ankara\", \"plaka\":\"06\"},\n",
        "    {\"il\":\"Erzurum\", \"plaka\":\"25\"},\n",
        "    {\"il\":\"Münih\", \"plaka\":\"M\"}\n",
        "]\"\"\"\n",
        "data = json.loads(veri_sozluk)\n",
        "for i in data:\n",
        "    print(\"il adı..:\", i[\"il\"])\n",
        "    print(\"plakası.:\",i[\"plaka\"])\n",
        "#dosyaya yazalım\n",
        "with open(\"il_plaka.json\", \"w\", encoding=\"utf-8\") as f:\n",
        "    json.dump(data, f)"
      ],
      "metadata": {
        "colab": {
          "base_uri": "https://localhost:8080/"
        },
        "id": "gQFtA8WY50ki",
        "outputId": "542ea151-1d1c-4dd8-cc03-a6ddd59e02ae"
      },
      "execution_count": 56,
      "outputs": [
        {
          "output_type": "stream",
          "name": "stdout",
          "text": [
            "il adı..: Ankara\n",
            "plakası.: 06\n",
            "il adı..: Erzurum\n",
            "plakası.: 25\n",
            "il adı..: Münih\n",
            "plakası.: M\n"
          ]
        }
      ]
    },
    {
      "cell_type": "code",
      "source": [
        "#klasik yöntem: json module\n",
        "with open (\"dictionary.json\", \"r\") as rf:\n",
        "    js = json.loads(rf.read())\n",
        "    for k, v in js[\"0\"].items():\n",
        "        print(k,\":\", v) \n",
        "    print(\"\\n----Tam tersi----\")\n",
        "    \n",
        "    for k, v in js[\"1\"].items():\n",
        "        print(k,\":\", v) "
      ],
      "metadata": {
        "colab": {
          "base_uri": "https://localhost:8080/"
        },
        "id": "BHExltVxCgmg",
        "outputId": "81ca0140-d6ae-4194-d80c-a201a61784dc"
      },
      "execution_count": 58,
      "outputs": [
        {
          "output_type": "stream",
          "name": "stdout",
          "text": [
            "Sunday : Sonntag\n",
            "Monday : Montag\n",
            "Tuesday : Dienstag\n",
            "Wednesday : Mittwoch\n",
            "Thursday : Donnerstag\n",
            "Friday : Freitag\n",
            "Day : Tag\n",
            "\n",
            "----Tam tersi----\n",
            "Sonntag : Sunday\n",
            "Montag : Monday\n",
            "Dienstag : Tuesday\n",
            "Mittwoch : Wednesday\n",
            "Donnerstag : Thursday\n",
            "Freitag : Friday\n",
            "Tag : Day\n"
          ]
        }
      ]
    },
    {
      "cell_type": "code",
      "source": [
        "import pandas as pd\n",
        "df = pd.read_json(\"dictionary.json\")\n",
        "print(df)"
      ],
      "metadata": {
        "colab": {
          "base_uri": "https://localhost:8080/"
        },
        "id": "thNbifCHFq6D",
        "outputId": "5e520a1d-2706-4701-b25d-db4489b436e1"
      },
      "execution_count": 59,
      "outputs": [
        {
          "output_type": "stream",
          "name": "stdout",
          "text": [
            "                     0          1\n",
            "Sunday         Sonntag        NaN\n",
            "Monday          Montag        NaN\n",
            "Tuesday       Dienstag        NaN\n",
            "Wednesday     Mittwoch        NaN\n",
            "Thursday    Donnerstag        NaN\n",
            "Friday         Freitag        NaN\n",
            "Day                Tag        NaN\n",
            "Sonntag            NaN     Sunday\n",
            "Montag             NaN     Monday\n",
            "Dienstag           NaN    Tuesday\n",
            "Mittwoch           NaN  Wednesday\n",
            "Donnerstag         NaN   Thursday\n",
            "Freitag            NaN     Friday\n",
            "Tag                NaN        Day\n"
          ]
        }
      ]
    },
    {
      "cell_type": "code",
      "source": [
        "import pandas as pd\n",
        "df = pd.read_json(\"dictionary.json\")\n",
        "print(df.head(7)) #baştan ilk 7 kayıtı al\n",
        "print(\"\\n----Tam tersi----\")\n",
        "print(df.tail(7)) #sondan 7 kaydı al"
      ],
      "metadata": {
        "colab": {
          "base_uri": "https://localhost:8080/"
        },
        "id": "2gtX1aiKGHxO",
        "outputId": "0d2cdb7e-1362-4450-fda4-5d78a02a6d70"
      },
      "execution_count": 62,
      "outputs": [
        {
          "output_type": "stream",
          "name": "stdout",
          "text": [
            "                    0    1\n",
            "Sunday        Sonntag  NaN\n",
            "Monday         Montag  NaN\n",
            "Tuesday      Dienstag  NaN\n",
            "Wednesday    Mittwoch  NaN\n",
            "Thursday   Donnerstag  NaN\n",
            "Friday        Freitag  NaN\n",
            "Day               Tag  NaN\n",
            "\n",
            "----Tam tersi----\n",
            "              0          1\n",
            "Sonntag     NaN     Sunday\n",
            "Montag      NaN     Monday\n",
            "Dienstag    NaN    Tuesday\n",
            "Mittwoch    NaN  Wednesday\n",
            "Donnerstag  NaN   Thursday\n",
            "Freitag     NaN     Friday\n",
            "Tag         NaN        Day\n"
          ]
        }
      ]
    },
    {
      "cell_type": "code",
      "source": [
        "#pandas ile json dosyası okuma\n",
        "import pandas as pd\n",
        "url = \"https://raw.githubusercontent.com/domoritz/maps/master/data/iris.json\"\n",
        "df = pd.read_json(url)\n",
        "print(df.head())"
      ],
      "metadata": {
        "id": "qWvLUz9IALh7",
        "colab": {
          "base_uri": "https://localhost:8080/"
        },
        "outputId": "9a09ae10-b475-4138-d48b-bce311a9860c"
      },
      "execution_count": 50,
      "outputs": [
        {
          "output_type": "stream",
          "name": "stdout",
          "text": [
            "   sepalLength  sepalWidth  petalLength  petalWidth species\n",
            "0          5.1         3.5          1.4         0.2  setosa\n",
            "1          4.9         3.0          1.4         0.2  setosa\n",
            "2          4.7         3.2          1.3         0.2  setosa\n",
            "3          4.6         3.1          1.5         0.2  setosa\n",
            "4          5.0         3.6          1.4         0.2  setosa\n"
          ]
        }
      ]
    },
    {
      "cell_type": "code",
      "source": [
        "#html web sayfasından çekilecek veri\n",
        "import pandas as pd\n",
        "url = \"http://python-data.dr-chuck.net/comments_42.html\"\n",
        "print(pd.read_html(url))\n"
      ],
      "metadata": {
        "id": "RBYLvIOEAnJX"
      },
      "execution_count": null,
      "outputs": []
    },
    {
      "cell_type": "code",
      "source": [
        "## path açılmaz ise otomatik tanımlamak için\n",
        "import os\n",
        "ROOT_DIR = os.getcwd() ## o an çalışılan dizini verir\n",
        "my_path = os.path.join(ROOT_DIR, \"names.csv\") #eğer ben o an çalışılan dizine klasörümü açarsam...\n",
        "print(type(my_path))\n",
        "print(f'r \"{my_path}\"')\n",
        "# r\"/content/names.csv\""
      ],
      "metadata": {
        "colab": {
          "base_uri": "https://localhost:8080/"
        },
        "id": "Do8tldMTIo0K",
        "outputId": "6a3006b4-cd8a-4e5d-d165-13ab9ad28c1e"
      },
      "execution_count": 68,
      "outputs": [
        {
          "output_type": "stream",
          "name": "stdout",
          "text": [
            "<class 'str'>\n",
            "r \"/content/names.csv\"\n"
          ]
        }
      ]
    }
  ]
}