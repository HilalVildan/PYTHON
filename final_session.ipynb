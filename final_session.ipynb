{
  "nbformat": 4,
  "nbformat_minor": 0,
  "metadata": {
    "colab": {
      "name": "final_session.ipynb",
      "provenance": []
    },
    "kernelspec": {
      "name": "python3",
      "display_name": "Python 3"
    },
    "language_info": {
      "name": "python"
    }
  },
  "cells": [
    {
      "cell_type": "markdown",
      "source": [
        "Session 23: Python Tekrar ve OOP **Kavramları**"
      ],
      "metadata": {
        "id": "EBQw2TTCaKl7"
      }
    },
    {
      "cell_type": "code",
      "execution_count": 3,
      "metadata": {
        "colab": {
          "base_uri": "https://localhost:8080/"
        },
        "id": "E1VOMewrlwaF",
        "outputId": "23f54ef4-fec7-440b-86de-b2b4fe979126"
      },
      "outputs": [
        {
          "output_type": "execute_result",
          "data": {
            "text/plain": [
              "list"
            ]
          },
          "metadata": {},
          "execution_count": 3
        }
      ],
      "source": [
        "my_list = ['[ ]' ]\n",
        "type(my_list)"
      ]
    },
    {
      "cell_type": "code",
      "source": [
        "my_list.append(\"x\")\n"
      ],
      "metadata": {
        "colab": {
          "base_uri": "https://localhost:8080/"
        },
        "id": "hTxs-DZDsoiK",
        "outputId": "068384d0-860f-4c36-9713-5936c6dc3928"
      },
      "execution_count": 4,
      "outputs": [
        {
          "output_type": "execute_result",
          "data": {
            "text/plain": [
              "['[ ]', 'x']"
            ]
          },
          "metadata": {},
          "execution_count": 4
        }
      ]
    },
    {
      "cell_type": "code",
      "source": [
        "my_list.insert(0,\"y\")\n",
        "my_list"
      ],
      "metadata": {
        "colab": {
          "base_uri": "https://localhost:8080/"
        },
        "id": "xt_krehVtOUx",
        "outputId": "baba2cd5-90bb-4e81-9095-d62c3251b42c"
      },
      "execution_count": 10,
      "outputs": [
        {
          "output_type": "execute_result",
          "data": {
            "text/plain": [
              "['y', 'y', '[ ]', 'x']"
            ]
          },
          "metadata": {},
          "execution_count": 10
        }
      ]
    },
    {
      "cell_type": "code",
      "source": [
        "help(my_list.insert)"
      ],
      "metadata": {
        "colab": {
          "base_uri": "https://localhost:8080/"
        },
        "id": "csKS3KqVs2aL",
        "outputId": "9fa9279a-d901-443c-ae15-daa8486f4dff"
      },
      "execution_count": 8,
      "outputs": [
        {
          "output_type": "stream",
          "name": "stdout",
          "text": [
            "Help on built-in function insert:\n",
            "\n",
            "insert(index, object, /) method of builtins.list instance\n",
            "    Insert object before index.\n",
            "\n"
          ]
        }
      ]
    },
    {
      "cell_type": "code",
      "source": [
        "my_list.insert(\"yy\")"
      ],
      "metadata": {
        "colab": {
          "base_uri": "https://localhost:8080/",
          "height": 165
        },
        "id": "Q_txSyJjtaOc",
        "outputId": "4e60f830-2d42-4730-ab2e-ac309fc76197"
      },
      "execution_count": 11,
      "outputs": [
        {
          "output_type": "error",
          "ename": "TypeError",
          "evalue": "ignored",
          "traceback": [
            "\u001b[0;31m---------------------------------------------------------------------------\u001b[0m",
            "\u001b[0;31mTypeError\u001b[0m                                 Traceback (most recent call last)",
            "\u001b[0;32m<ipython-input-11-3caa6bb6a70a>\u001b[0m in \u001b[0;36m<module>\u001b[0;34m()\u001b[0m\n\u001b[0;32m----> 1\u001b[0;31m \u001b[0mmy_list\u001b[0m\u001b[0;34m.\u001b[0m\u001b[0minsert\u001b[0m\u001b[0;34m(\u001b[0m\u001b[0;34m\"yy\"\u001b[0m\u001b[0;34m)\u001b[0m\u001b[0;34m\u001b[0m\u001b[0;34m\u001b[0m\u001b[0m\n\u001b[0m",
            "\u001b[0;31mTypeError\u001b[0m: insert() takes exactly 2 arguments (1 given)"
          ]
        }
      ]
    },
    {
      "cell_type": "code",
      "source": [
        "def my_func(first=\"1\", second=\"2\"):\n",
        "    print(int(first+second))\n",
        "\n",
        "my_func()"
      ],
      "metadata": {
        "colab": {
          "base_uri": "https://localhost:8080/"
        },
        "id": "1ynMhxllvTSz",
        "outputId": "3fa76ff8-2d82-4c30-85a3-f4c310e63eb3"
      },
      "execution_count": 12,
      "outputs": [
        {
          "output_type": "stream",
          "name": "stdout",
          "text": [
            "12\n"
          ]
        }
      ]
    },
    {
      "cell_type": "code",
      "source": [
        "def my_func(first, second):\n",
        "    first=\"1\"\n",
        "    second=\"2\"\n",
        "    print(int(first+second))\n",
        "\n",
        "my_func()"
      ],
      "metadata": {
        "colab": {
          "base_uri": "https://localhost:8080/",
          "height": 200
        },
        "id": "psuC7rvWvlkG",
        "outputId": "fc135a01-45b4-4270-de83-b5cd4857d90b"
      },
      "execution_count": 14,
      "outputs": [
        {
          "output_type": "error",
          "ename": "TypeError",
          "evalue": "ignored",
          "traceback": [
            "\u001b[0;31m---------------------------------------------------------------------------\u001b[0m",
            "\u001b[0;31mTypeError\u001b[0m                                 Traceback (most recent call last)",
            "\u001b[0;32m<ipython-input-14-cef997dcca3a>\u001b[0m in \u001b[0;36m<module>\u001b[0;34m()\u001b[0m\n\u001b[1;32m      4\u001b[0m     \u001b[0mprint\u001b[0m\u001b[0;34m(\u001b[0m\u001b[0mint\u001b[0m\u001b[0;34m(\u001b[0m\u001b[0mfirst\u001b[0m\u001b[0;34m+\u001b[0m\u001b[0msecond\u001b[0m\u001b[0;34m)\u001b[0m\u001b[0;34m)\u001b[0m\u001b[0;34m\u001b[0m\u001b[0;34m\u001b[0m\u001b[0m\n\u001b[1;32m      5\u001b[0m \u001b[0;34m\u001b[0m\u001b[0m\n\u001b[0;32m----> 6\u001b[0;31m \u001b[0mmy_func\u001b[0m\u001b[0;34m(\u001b[0m\u001b[0;34m)\u001b[0m\u001b[0;34m\u001b[0m\u001b[0;34m\u001b[0m\u001b[0m\n\u001b[0m",
            "\u001b[0;31mTypeError\u001b[0m: my_func() missing 2 required positional arguments: 'first' and 'second'"
          ]
        }
      ]
    },
    {
      "cell_type": "code",
      "source": [
        "def my_func(first, second):\n",
        "    first = \"1\"\n",
        "    second = \"2\"\n",
        "    print(int(first+second))\n",
        "\n",
        "my_func(3,5)"
      ],
      "metadata": {
        "colab": {
          "base_uri": "https://localhost:8080/"
        },
        "id": "ppqYkVzhv7be",
        "outputId": "662a1c48-4dee-4e41-ac4a-90ee270d5962"
      },
      "execution_count": 15,
      "outputs": [
        {
          "output_type": "stream",
          "name": "stdout",
          "text": [
            "12\n"
          ]
        }
      ]
    },
    {
      "cell_type": "code",
      "source": [
        "def my_func(first, second):\n",
        "    print(int(first+second))\n",
        "\n",
        "my_func(3,5)"
      ],
      "metadata": {
        "colab": {
          "base_uri": "https://localhost:8080/"
        },
        "id": "Ax3MoE9CwC0d",
        "outputId": "a248beed-b81d-4ea9-d36d-41b12fbd027a"
      },
      "execution_count": 16,
      "outputs": [
        {
          "output_type": "stream",
          "name": "stdout",
          "text": [
            "8\n"
          ]
        }
      ]
    },
    {
      "cell_type": "code",
      "source": [
        "# lambda parameters: expression \n",
        "lambda x: x+1"
      ],
      "metadata": {
        "id": "X2XLSF9PwhNv"
      },
      "execution_count": null,
      "outputs": []
    },
    {
      "cell_type": "code",
      "source": [
        "# lambda parameters: expression \n",
        "print((lambda x: x+1)(3)) \n",
        "#lambda 'lar bir anonim fonksiyondur."
      ],
      "metadata": {
        "colab": {
          "base_uri": "https://localhost:8080/"
        },
        "id": "X8JO3vcKwx8L",
        "outputId": "c68cb2b2-8204-4088-ee14-00fd7638b6b0"
      },
      "execution_count": 18,
      "outputs": [
        {
          "output_type": "stream",
          "name": "stdout",
          "text": [
            "4\n"
          ]
        }
      ]
    },
    {
      "cell_type": "code",
      "source": [
        "def f(x):\n",
        "    return x+1\n",
        "f(3)"
      ],
      "metadata": {
        "colab": {
          "base_uri": "https://localhost:8080/"
        },
        "id": "s3Tb04NXwntH",
        "outputId": "196add65-69ae-439e-89ca-862efda4962d"
      },
      "execution_count": 17,
      "outputs": [
        {
          "output_type": "execute_result",
          "data": {
            "text/plain": [
              "4"
            ]
          },
          "metadata": {},
          "execution_count": 17
        }
      ]
    },
    {
      "cell_type": "code",
      "source": [
        "a = \"33\"\n",
        "print(a + (lambda x: int(x))(a))"
      ],
      "metadata": {
        "colab": {
          "base_uri": "https://localhost:8080/",
          "height": 182
        },
        "id": "-ZpnCm_Wxk0q",
        "outputId": "7d3f7950-b647-46e8-8f65-cd0cfdb80a9a"
      },
      "execution_count": 22,
      "outputs": [
        {
          "output_type": "error",
          "ename": "TypeError",
          "evalue": "ignored",
          "traceback": [
            "\u001b[0;31m---------------------------------------------------------------------------\u001b[0m",
            "\u001b[0;31mTypeError\u001b[0m                                 Traceback (most recent call last)",
            "\u001b[0;32m<ipython-input-22-4bb8ca500dd4>\u001b[0m in \u001b[0;36m<module>\u001b[0;34m()\u001b[0m\n\u001b[1;32m      1\u001b[0m \u001b[0ma\u001b[0m \u001b[0;34m=\u001b[0m \u001b[0;34m\"33\"\u001b[0m\u001b[0;34m\u001b[0m\u001b[0;34m\u001b[0m\u001b[0m\n\u001b[0;32m----> 2\u001b[0;31m \u001b[0mprint\u001b[0m\u001b[0;34m(\u001b[0m\u001b[0ma\u001b[0m \u001b[0;34m+\u001b[0m \u001b[0;34m(\u001b[0m\u001b[0;32mlambda\u001b[0m \u001b[0mx\u001b[0m\u001b[0;34m:\u001b[0m \u001b[0mint\u001b[0m\u001b[0;34m(\u001b[0m\u001b[0mx\u001b[0m\u001b[0;34m)\u001b[0m\u001b[0;34m)\u001b[0m\u001b[0;34m(\u001b[0m\u001b[0ma\u001b[0m\u001b[0;34m)\u001b[0m\u001b[0;34m)\u001b[0m\u001b[0;34m\u001b[0m\u001b[0;34m\u001b[0m\u001b[0m\n\u001b[0m",
            "\u001b[0;31mTypeError\u001b[0m: can only concatenate str (not \"int\") to str"
          ]
        }
      ]
    },
    {
      "cell_type": "code",
      "source": [
        "a = \"33\"\n",
        "print(a + (lambda x: (x))(a))"
      ],
      "metadata": {
        "colab": {
          "base_uri": "https://localhost:8080/"
        },
        "id": "W1otUJNlxzbq",
        "outputId": "d7026352-2f5a-46e9-af7c-c4358bc9a124"
      },
      "execution_count": 23,
      "outputs": [
        {
          "output_type": "stream",
          "name": "stdout",
          "text": [
            "3333\n"
          ]
        }
      ]
    },
    {
      "cell_type": "code",
      "source": [
        "a = \"33\"\n",
        "print(int(a) + (lambda x: int(x))(a))"
      ],
      "metadata": {
        "colab": {
          "base_uri": "https://localhost:8080/"
        },
        "id": "qC6_AWsyyTHX",
        "outputId": "cc15cce2-bb30-428c-e30e-ce61e99eac66"
      },
      "execution_count": 24,
      "outputs": [
        {
          "output_type": "stream",
          "name": "stdout",
          "text": [
            "66\n"
          ]
        }
      ]
    },
    {
      "cell_type": "code",
      "source": [
        "power = lambda x,y:x**y\n",
        "print(power(2,3))"
      ],
      "metadata": {
        "colab": {
          "base_uri": "https://localhost:8080/"
        },
        "id": "piKARZWXzDeF",
        "outputId": "416b4576-c577-4157-8949-ae390bb8ffe0"
      },
      "execution_count": 25,
      "outputs": [
        {
          "output_type": "stream",
          "name": "stdout",
          "text": [
            "8\n"
          ]
        }
      ]
    },
    {
      "cell_type": "code",
      "source": [
        "count = 0\n",
        "for i in [\"bus\"]:\n",
        "    count += 1\n",
        "    print(i, count, end='')"
      ],
      "metadata": {
        "colab": {
          "base_uri": "https://localhost:8080/"
        },
        "id": "uwDzWEIW1A1i",
        "outputId": "1e204905-4ff8-42be-c9f6-b87ec981b493"
      },
      "execution_count": 26,
      "outputs": [
        {
          "output_type": "stream",
          "name": "stdout",
          "text": [
            "bus 1"
          ]
        }
      ]
    },
    {
      "cell_type": "code",
      "source": [
        "count = 0\n",
        "for i in \"bus\":\n",
        "    count += 1\n",
        "    print(i, count, end='')"
      ],
      "metadata": {
        "colab": {
          "base_uri": "https://localhost:8080/"
        },
        "id": "Tc7Wxibh1K6g",
        "outputId": "773dc0b7-2a5f-4c6a-8707-dd775e266e5f"
      },
      "execution_count": 27,
      "outputs": [
        {
          "output_type": "stream",
          "name": "stdout",
          "text": [
            "b 1u 2s 3"
          ]
        }
      ]
    },
    {
      "cell_type": "code",
      "source": [
        "condition = (3>1) and (1<1)\n",
        "if 'condition': #içi dolu string True dur.\n",
        "    print('It works')\n",
        "else:\n",
        "    print('Something error')"
      ],
      "metadata": {
        "colab": {
          "base_uri": "https://localhost:8080/"
        },
        "id": "J6AV-CDG1pH2",
        "outputId": "345f9a83-2de2-4ff9-df87-5e6f6827c49b"
      },
      "execution_count": 28,
      "outputs": [
        {
          "output_type": "stream",
          "name": "stdout",
          "text": [
            "It works\n"
          ]
        }
      ]
    },
    {
      "cell_type": "code",
      "source": [
        "condition = (3>1) and (1<1) # True and False = False\n",
        "if condition: \n",
        "    print('It works')\n",
        "else:\n",
        "    print('Something error')"
      ],
      "metadata": {
        "colab": {
          "base_uri": "https://localhost:8080/"
        },
        "id": "T2Bn6hqW19zk",
        "outputId": "c91efeb6-651b-4be6-b14e-bd31a98a20ca"
      },
      "execution_count": 29,
      "outputs": [
        {
          "output_type": "stream",
          "name": "stdout",
          "text": [
            "Something error\n"
          ]
        }
      ]
    },
    {
      "cell_type": "code",
      "source": [
        "condition = (3>1) and (1<1)\n",
        "if ['condition']: #içi dolu liste True dur.\n",
        "    print('It works')\n",
        "else:\n",
        "    print('Something error')"
      ],
      "metadata": {
        "colab": {
          "base_uri": "https://localhost:8080/"
        },
        "id": "p-JxBQF-2gM6",
        "outputId": "76a73f78-987a-47e1-809e-e9343f0b1f56"
      },
      "execution_count": 30,
      "outputs": [
        {
          "output_type": "stream",
          "name": "stdout",
          "text": [
            "It works\n"
          ]
        }
      ]
    },
    {
      "cell_type": "code",
      "source": [
        "fruit = \"apple\"\n",
        "veg = \"spinach\"\n",
        "out = f\"We bought {fruit} and {veg}\"  #f-string\n",
        "print(out)"
      ],
      "metadata": {
        "colab": {
          "base_uri": "https://localhost:8080/"
        },
        "id": "ol0p0CE93VOR",
        "outputId": "3798af98-8ec6-4497-f442-47cfb320236b"
      },
      "execution_count": 31,
      "outputs": [
        {
          "output_type": "stream",
          "name": "stdout",
          "text": [
            "We bought apple and spinach\n"
          ]
        }
      ]
    },
    {
      "cell_type": "code",
      "source": [
        "fruit = \"apple\"\n",
        "veg = \"spinach\"\n",
        "out = \"We bought {} and {}\".format(fruit, veg)  #f-string\n",
        "print(out)"
      ],
      "metadata": {
        "colab": {
          "base_uri": "https://localhost:8080/"
        },
        "id": "So3P_Kyu3tpE",
        "outputId": "54d0d387-c917-46a7-e212-042ac890e52c"
      },
      "execution_count": 32,
      "outputs": [
        {
          "output_type": "stream",
          "name": "stdout",
          "text": [
            "We bought apple and spinach\n"
          ]
        }
      ]
    },
    {
      "cell_type": "code",
      "source": [
        "fruit = \"apple\"\n",
        "veg = \"spinach\"\n",
        "out = \"We bought {0} and {1}\".format(fruit, veg)  #f-string\n",
        "print(out)"
      ],
      "metadata": {
        "colab": {
          "base_uri": "https://localhost:8080/"
        },
        "id": "s3RdwyMH31n_",
        "outputId": "129d6a89-d375-4208-c4d4-f4bd2da026f7"
      },
      "execution_count": 33,
      "outputs": [
        {
          "output_type": "stream",
          "name": "stdout",
          "text": [
            "We bought apple and spinach\n"
          ]
        }
      ]
    },
    {
      "cell_type": "code",
      "source": [
        "fruit = \"apple\"\n",
        "veg = \"spinach\"\n",
        "out = \"We bought {1} and {0}\".format(fruit, veg)  #f-string\n",
        "print(out)"
      ],
      "metadata": {
        "colab": {
          "base_uri": "https://localhost:8080/"
        },
        "id": "HPYoR3eN34V5",
        "outputId": "f07a219a-822b-45a2-8bba-bbc1db02541b"
      },
      "execution_count": 34,
      "outputs": [
        {
          "output_type": "stream",
          "name": "stdout",
          "text": [
            "We bought spinach and apple\n"
          ]
        }
      ]
    },
    {
      "cell_type": "code",
      "source": [
        "fruit = \"apple\"\n",
        "veg = \"spinach\"\n",
        "out = \"We bought {0} and {1}.\"format(fruit, veg)  #f-string\n",
        "print(out)"
      ],
      "metadata": {
        "colab": {
          "base_uri": "https://localhost:8080/",
          "height": 130
        },
        "id": "Q9Z6StXE4S4x",
        "outputId": "65775cb5-cb29-4669-8f93-8247832e3cd7"
      },
      "execution_count": 35,
      "outputs": [
        {
          "output_type": "error",
          "ename": "SyntaxError",
          "evalue": "ignored",
          "traceback": [
            "\u001b[0;36m  File \u001b[0;32m\"<ipython-input-35-611c1693cd1e>\"\u001b[0;36m, line \u001b[0;32m3\u001b[0m\n\u001b[0;31m    out = \"We bought {0} and {1}.\"format(fruit, veg)  #f-string\u001b[0m\n\u001b[0m                                       ^\u001b[0m\n\u001b[0;31mSyntaxError\u001b[0m\u001b[0;31m:\u001b[0m invalid syntax\n"
          ]
        }
      ]
    },
    {
      "cell_type": "code",
      "source": [
        "kume = {} #boş küme midir?\n",
        "type(kume)"
      ],
      "metadata": {
        "colab": {
          "base_uri": "https://localhost:8080/"
        },
        "id": "3xjVNwt_5gBP",
        "outputId": "e890a649-44bd-4a09-f395-4a416cd20ed8"
      },
      "execution_count": 36,
      "outputs": [
        {
          "output_type": "execute_result",
          "data": {
            "text/plain": [
              "dict"
            ]
          },
          "metadata": {},
          "execution_count": 36
        }
      ]
    },
    {
      "cell_type": "code",
      "source": [
        "kume = set() #boş küme midir?\n",
        "type(kume)"
      ],
      "metadata": {
        "colab": {
          "base_uri": "https://localhost:8080/"
        },
        "id": "4GSv5H5i5ol9",
        "outputId": "e952a538-c5f7-4958-e659-689daa292caf"
      },
      "execution_count": 37,
      "outputs": [
        {
          "output_type": "execute_result",
          "data": {
            "text/plain": [
              "set"
            ]
          },
          "metadata": {},
          "execution_count": 37
        }
      ]
    },
    {
      "cell_type": "code",
      "source": [
        "if(1,2):\n",
        "        print('foo')"
      ],
      "metadata": {
        "colab": {
          "base_uri": "https://localhost:8080/"
        },
        "id": "FTLneAJ668zr",
        "outputId": "b3e5ed78-66bb-4763-cce1-3e6ae75ff585"
      },
      "execution_count": 39,
      "outputs": [
        {
          "output_type": "stream",
          "name": "stdout",
          "text": [
            "foo\n"
          ]
        }
      ]
    },
    {
      "cell_type": "code",
      "source": [
        "if(1,2):\n",
        "print('foo')"
      ],
      "metadata": {
        "colab": {
          "base_uri": "https://localhost:8080/",
          "height": 130
        },
        "id": "NKo6S0uR7FUU",
        "outputId": "b4990ec4-4318-44f1-a478-cb31b6639fff"
      },
      "execution_count": 40,
      "outputs": [
        {
          "output_type": "error",
          "ename": "IndentationError",
          "evalue": "ignored",
          "traceback": [
            "\u001b[0;36m  File \u001b[0;32m\"<ipython-input-40-fb3987bfa872>\"\u001b[0;36m, line \u001b[0;32m2\u001b[0m\n\u001b[0;31m    print('foo')\u001b[0m\n\u001b[0m        ^\u001b[0m\n\u001b[0;31mIndentationError\u001b[0m\u001b[0;31m:\u001b[0m expected an indented block\n"
          ]
        }
      ]
    },
    {
      "cell_type": "code",
      "source": [
        "if(1,2): print('foo')"
      ],
      "metadata": {
        "colab": {
          "base_uri": "https://localhost:8080/"
        },
        "id": "tNab4hcM7HMx",
        "outputId": "6f8c9406-f476-4d63-9c30-b8b46a52cc4d"
      },
      "execution_count": 41,
      "outputs": [
        {
          "output_type": "stream",
          "name": "stdout",
          "text": [
            "foo\n"
          ]
        }
      ]
    },
    {
      "cell_type": "code",
      "source": [
        "import pandas as pd\n",
        "df = pd.read_json(\"dictionary.json\")\n",
        "#dropna() NaN kayıp verileri siler\n",
        "print(df)"
      ],
      "metadata": {
        "colab": {
          "base_uri": "https://localhost:8080/"
        },
        "id": "5H-djAeNAgLd",
        "outputId": "fefbaab5-ff2e-4d4c-c30d-a9301e01f8e7"
      },
      "execution_count": 43,
      "outputs": [
        {
          "output_type": "stream",
          "name": "stdout",
          "text": [
            "                     0          1\n",
            "Sunday         Sonntag        NaN\n",
            "Monday          Montag        NaN\n",
            "Tuesday       Dienstag        NaN\n",
            "Wednesday     Mittwoch        NaN\n",
            "Thursday    Donnerstag        NaN\n",
            "Friday         Freitag        NaN\n",
            "Day                Tag        NaN\n",
            "Sonntag            NaN     Sunday\n",
            "Montag             NaN     Monday\n",
            "Dienstag           NaN    Tuesday\n",
            "Mittwoch           NaN  Wednesday\n",
            "Donnerstag         NaN   Thursday\n",
            "Freitag            NaN     Friday\n",
            "Tag                NaN        Day\n"
          ]
        }
      ]
    },
    {
      "cell_type": "code",
      "source": [
        "import pandas as pd\n",
        "df = pd.read_json(\"dictionary.json\", orient=\"index\").dropna()\n",
        "#dropna() NaN kayıp verileri siler\n",
        "df_list = list(df.columns)\n",
        "print(df_list)\n",
        "eng = []\n",
        "alm = []\n",
        "for i in df_list:\n",
        "    if i not in ['Sunday', 'Monday', 'Tuesday', 'Wednesday', 'Thursday', 'Friday', 'Day']:\n",
        "        alm.append(i)\n",
        "    else:\n",
        "        eng.append(i)\n",
        "\n",
        "for i in range(7):\n",
        "    print(eng[i], \":\", alm[i])\n",
        "print(\"----Tam tersi----\")\n",
        "for i in range(7):\n",
        "    print(alm[i], \":\", eng[i])"
      ],
      "metadata": {
        "colab": {
          "base_uri": "https://localhost:8080/"
        },
        "id": "aCH9o0XDBFMF",
        "outputId": "b367f58b-9454-4d78-d069-c9b9ba58b18b"
      },
      "execution_count": 54,
      "outputs": [
        {
          "output_type": "stream",
          "name": "stdout",
          "text": [
            "['Sunday', 'Monday', 'Tuesday', 'Wednesday', 'Thursday', 'Friday', 'Day', 'Sonntag', 'Montag', 'Dienstag', 'Mittwoch', 'Donnerstag', 'Freitag', 'Tag']\n",
            "Sunday : Sonntag\n",
            "Monday : Montag\n",
            "Tuesday : Dienstag\n",
            "Wednesday : Mittwoch\n",
            "Thursday : Donnerstag\n",
            "Friday : Freitag\n",
            "Day : Tag\n",
            "----Tam tersi----\n",
            "Sonntag : Sunday\n",
            "Montag : Monday\n",
            "Dienstag : Tuesday\n",
            "Mittwoch : Wednesday\n",
            "Donnerstag : Thursday\n",
            "Freitag : Friday\n",
            "Tag : Day\n"
          ]
        }
      ]
    },
    {
      "cell_type": "code",
      "source": [
        "import pandas as pd\n",
        "df = pd.read_json(\"dictionary.json\", orient=\"index\").dropna()\n",
        "#dropna() NaN kayıp verileri siler\n",
        "df_list = list(df.columns)\n",
        "print(df_list)\n",
        "counter = 7\n",
        "for i in df_list[0:7]:\n",
        "   b= df_list[counter]\n",
        "   counter +=1\n",
        "   print(i,':',b)\n",
        "\n",
        "print(counter)\n",
        "\n"
      ],
      "metadata": {
        "colab": {
          "base_uri": "https://localhost:8080/"
        },
        "id": "0VW4ArGBFUwG",
        "outputId": "157d1be5-c74c-434f-8912-6bab25ef2a0f"
      },
      "execution_count": 60,
      "outputs": [
        {
          "output_type": "stream",
          "name": "stdout",
          "text": [
            "['Sunday', 'Monday', 'Tuesday', 'Wednesday', 'Thursday', 'Friday', 'Day', 'Sonntag', 'Montag', 'Dienstag', 'Mittwoch', 'Donnerstag', 'Freitag', 'Tag']\n",
            "Sunday : Sonntag\n",
            "Monday : Montag\n",
            "Tuesday : Dienstag\n",
            "Wednesday : Mittwoch\n",
            "Thursday : Donnerstag\n",
            "Friday : Freitag\n",
            "Day : Tag\n",
            "14\n"
          ]
        }
      ]
    },
    {
      "cell_type": "code",
      "source": [
        "import pandas as pd\n",
        "df = pd.read_json(\"dictionary.json\", orient=\"index\").dropna()\n",
        "#dropna() NaN kayıp verileri siler\n",
        "df_list = list(df.columns)\n",
        "print(df_list)\n",
        "eng = []\n",
        "alm = []\n",
        "for i in df_list:\n",
        "    if i not in ['Sunday', 'Monday', 'Tuesday', 'Wednesday', 'Thursday', 'Friday', 'Day']:\n",
        "        alm.append(i)\n",
        "    else:\n",
        "        eng.append(i)\n",
        "for item in zip(eng, alm) :\n",
        "  item = list(item)\n",
        "  a = ' : '.join(item)\n",
        "  print(a)"
      ],
      "metadata": {
        "colab": {
          "base_uri": "https://localhost:8080/"
        },
        "id": "26dtoi_iGdGJ",
        "outputId": "53c4f44a-3e1d-410c-c207-c18156ace38a"
      },
      "execution_count": 61,
      "outputs": [
        {
          "output_type": "stream",
          "name": "stdout",
          "text": [
            "['Sunday', 'Monday', 'Tuesday', 'Wednesday', 'Thursday', 'Friday', 'Day', 'Sonntag', 'Montag', 'Dienstag', 'Mittwoch', 'Donnerstag', 'Freitag', 'Tag']\n",
            "Sunday : Sonntag\n",
            "Monday : Montag\n",
            "Tuesday : Dienstag\n",
            "Wednesday : Mittwoch\n",
            "Thursday : Donnerstag\n",
            "Friday : Freitag\n",
            "Day : Tag\n"
          ]
        }
      ]
    },
    {
      "cell_type": "code",
      "source": [
        "import pandas as pd\n",
        "df = pd.read_json(\"dictionary.json\", orient=\"index\").dropna()\n",
        "#dropna() NaN kayıp verileri siler\n",
        "df_list = list(df.columns)\n",
        "print(df_list)\n",
        "orta = len(df_list)//2 #ortanca elemanın indisini verir\n",
        "print(orta)\n",
        "for i in range(orta):\n",
        "    print(df_list[i],\":\",df_list[orta+i])\n",
        "print(\"\\n----Tam Tersi-----\\n\")\n",
        "for i in range(orta):\n",
        "    print(df_list[orta+i], \":\", df_list[i])"
      ],
      "metadata": {
        "colab": {
          "base_uri": "https://localhost:8080/"
        },
        "id": "vKPlENbEG3bY",
        "outputId": "c205e32a-c399-42fe-d292-0f205501b781"
      },
      "execution_count": 75,
      "outputs": [
        {
          "output_type": "stream",
          "name": "stdout",
          "text": [
            "['Sunday', 'Monday', 'Tuesday', 'Wednesday', 'Thursday', 'Friday', 'Day', 'Sonntag', 'Montag', 'Dienstag', 'Mittwoch', 'Donnerstag', 'Freitag', 'Tag']\n",
            "7\n",
            "Sunday : Sonntag\n",
            "Monday : Montag\n",
            "Tuesday : Dienstag\n",
            "Wednesday : Mittwoch\n",
            "Thursday : Donnerstag\n",
            "Friday : Freitag\n",
            "Day : Tag\n",
            "\n",
            "----Tam Tersi-----\n",
            "\n",
            "Sonntag : Sunday\n",
            "Montag : Monday\n",
            "Dienstag : Tuesday\n",
            "Mittwoch : Wednesday\n",
            "Donnerstag : Thursday\n",
            "Freitag : Friday\n",
            "Tag : Day\n"
          ]
        }
      ]
    },
    {
      "cell_type": "code",
      "source": [
        "class Araba:\n",
        "    pass #ortak özellik ve davranışlara\n",
        "    \n",
        "    def calis():\n",
        "        pass\n",
        "taksi = Araba() #taksi nesnesi(object)\n",
        "kamyon = Araba() #kamyon nesnesi (object)\n",
        "print(type(taksi))\n",
        "print(type(kamyon))\n",
        "#fonksiyon ile metot arasındaki fark\n",
        "#fonksiyon doğrudan çağrılırken\n",
        "#metot nesne_adi.metot_adi() şeklinde çağrılıyor\n",
        "#taksi.calis gibi"
      ],
      "metadata": {
        "colab": {
          "base_uri": "https://localhost:8080/",
          "height": 235
        },
        "id": "9YBKRFENQ8ep",
        "outputId": "c382a945-983a-437c-b5c2-7fa9c2b8da44"
      },
      "execution_count": 82,
      "outputs": [
        {
          "output_type": "stream",
          "name": "stdout",
          "text": [
            "<class '__main__.Araba'>\n",
            "<class '__main__.Araba'>\n"
          ]
        },
        {
          "output_type": "error",
          "ename": "TypeError",
          "evalue": "ignored",
          "traceback": [
            "\u001b[0;31m---------------------------------------------------------------------------\u001b[0m",
            "\u001b[0;31mTypeError\u001b[0m                                 Traceback (most recent call last)",
            "\u001b[0;32m<ipython-input-82-3617113327b2>\u001b[0m in \u001b[0;36m<module>\u001b[0;34m()\u001b[0m\n\u001b[1;32m      8\u001b[0m \u001b[0mprint\u001b[0m\u001b[0;34m(\u001b[0m\u001b[0mtype\u001b[0m\u001b[0;34m(\u001b[0m\u001b[0mtaksi\u001b[0m\u001b[0;34m)\u001b[0m\u001b[0;34m)\u001b[0m\u001b[0;34m\u001b[0m\u001b[0;34m\u001b[0m\u001b[0m\n\u001b[1;32m      9\u001b[0m \u001b[0mprint\u001b[0m\u001b[0;34m(\u001b[0m\u001b[0mtype\u001b[0m\u001b[0;34m(\u001b[0m\u001b[0mkamyon\u001b[0m\u001b[0;34m)\u001b[0m\u001b[0;34m)\u001b[0m\u001b[0;34m\u001b[0m\u001b[0;34m\u001b[0m\u001b[0m\n\u001b[0;32m---> 10\u001b[0;31m \u001b[0mtaksi\u001b[0m\u001b[0;34m.\u001b[0m\u001b[0mcalis\u001b[0m\u001b[0;34m(\u001b[0m\u001b[0;34m)\u001b[0m\u001b[0;34m\u001b[0m\u001b[0;34m\u001b[0m\u001b[0m\n\u001b[0m",
            "\u001b[0;31mTypeError\u001b[0m: calis() takes 0 positional arguments but 1 was given"
          ]
        }
      ]
    },
    {
      "cell_type": "code",
      "source": [
        "a = 5\n",
        "b = [3,4,5]\n",
        "print(type(a))\n",
        "print(type(b))"
      ],
      "metadata": {
        "colab": {
          "base_uri": "https://localhost:8080/"
        },
        "id": "RbA-dK32Ri5e",
        "outputId": "59bce649-b3b5-41f1-be8d-4fb3f286e377"
      },
      "execution_count": 77,
      "outputs": [
        {
          "output_type": "stream",
          "name": "stdout",
          "text": [
            "<class 'int'>\n",
            "<class 'list'>\n"
          ]
        }
      ]
    },
    {
      "cell_type": "code",
      "source": [
        "class Araba: ##() kullanılabilir....\n",
        "    kapi = 5\n",
        "    #renk = \"Mavi\"\n",
        "    \n",
        "    def __init__(self,marka,renk,kapi):\n",
        "        self.marka=marka\n",
        "        self.renk=renk\n",
        "        self.kapi=kapi\n",
        "\n",
        "    def aracBilgisi(self):\n",
        "        print(\"Markası..:\", self.marka)\n",
        "        print(\"Rengi..:\", self.renk)\n",
        "        print(\"Kapı Sayısı..:\", self.kapi)\n",
        "\n",
        "    def calis(self,start):\n",
        "        start = True\n",
        "        return self.start\n",
        "#object'ler oluşturuldu\n",
        "taksi_toyota = Araba(\"Toyota\", \"Kırmızı\", 5)\n",
        "kamyon_bmw = Araba(\"BMW\", \"Kırmızı\", 2)\n",
        "kamyon_bmw.renk = \"Yeşil\"\n",
        "\n",
        "kamyon_bmw.aracBilgisi()\n",
        "print(\"\\nToyota Bilgileri\\n\")\n",
        "taksi_toyota.aracBilgisi()\n",
        "\n",
        "if taksi.calis:\n",
        "    print(\"Taksi gidiyor\")\n"
      ],
      "metadata": {
        "colab": {
          "base_uri": "https://localhost:8080/"
        },
        "id": "TIa6UpPxTzQi",
        "outputId": "e5767f73-0803-4c2a-c342-bb5f523e32ac"
      },
      "execution_count": 91,
      "outputs": [
        {
          "output_type": "stream",
          "name": "stdout",
          "text": [
            "Markası..: BMW\n",
            "Rengi..: Yeşil\n",
            "Kapı Sayısı..: 2\n",
            "\n",
            "Toyota Bilgileri\n",
            "\n",
            "Markası..: Toyota\n",
            "Rengi..: Kırmızı\n",
            "Kapı Sayısı..: 5\n",
            "Taksi gidiyor\n"
          ]
        }
      ]
    },
    {
      "cell_type": "code",
      "source": [
        "#class tan başka class'larda kalıtımla türetilebilir...\n",
        "class AnneBaba:\n",
        "    def __init__(self,soyad):\n",
        "        self.soyad = soyad\n",
        "        print(\"Soaydım...:\", self.soyad)\n",
        "##AnneBaba clasından başka bir alt class oluşturuyorum\n",
        "class Evlat(AnneBaba):\n",
        "    def __init__(self, soyad, alinTerim):\n",
        "        AnneBaba.__init__(self, soyad)\n",
        "        self.alinTerim = alinTerim\n",
        "        print(\"Alın Terim..:\",  self.alinTerim)\n",
        "\n",
        "hasan_oglan=Evlat(\"Rossum\", \"Clarusway Diploması\")\n",
        "print(hasan_oglan)"
      ],
      "metadata": {
        "colab": {
          "base_uri": "https://localhost:8080/"
        },
        "id": "lTY51CVuWbrT",
        "outputId": "b9721530-1908-4027-f2c4-b397ecb888dd"
      },
      "execution_count": 97,
      "outputs": [
        {
          "output_type": "stream",
          "name": "stdout",
          "text": [
            "Soaydım...: Rossum\n",
            "Alın Terim..: Clarusway Diploması\n",
            "<__main__.Evlat object at 0x7f91b51d9dd0>\n"
          ]
        }
      ]
    }
  ]
}