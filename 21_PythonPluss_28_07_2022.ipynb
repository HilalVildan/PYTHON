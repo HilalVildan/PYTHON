{
 "cells": [
  {
   "cell_type": "markdown",
   "metadata": {},
   "source": [
    "<p align=\"center\">\n",
    "<img src=\"https://docs.google.com/uc?id=14xeXxFrVRjvOoUYWn_GuyE-v84wVzrqr\" class=\"img-fluid\" alt=\"CLRWY\" width=\"600\" height=\"120\" >\n",
    "</p>"
   ]
  },
  {
   "cell_type": "markdown",
   "metadata": {},
   "source": [
    "<h1><p style=\"text-align: center; color:yellow\">Python In-Class Session 21, <br>28 July 2022</p><h1>"
   ]
  },
  {
   "cell_type": "code",
   "execution_count": 4,
   "metadata": {},
   "outputs": [
    {
     "name": "stdout",
     "output_type": "stream",
     "text": [
      "Yeni PDF Dosyası /home/bull/Desktop/python_split0.pdf oluşturuldu\n"
     ]
    }
   ],
   "source": [
    "## Task-14.PDF Dosyasını split etme... PyPDF2 veya PyPDF4 ile\n",
    "## öncesinde !pip install PyPDF4 şeklinde install etmemiz gerek...\n",
    "from PyPDF4 import PdfFileReader, PdfFileWriter\n",
    "\n",
    "pdf_oku = PdfFileReader(\"/home/bull/Desktop/python_Ders.pdf\") #path'i ile birlikte okunacak pdf dosyası yazılır\n",
    "\n",
    "pdf_yaz = PdfFileWriter()\n",
    "\n",
    "pages = [2,5,7]\n",
    "for p in pages:\n",
    "    pdf_yaz.addPage(pdf_oku.getPage(p-1))\n",
    "\n",
    "with open(\"/home/bull/Desktop/python_split0.pdf\", 'wb') as wf:\n",
    "    pdf_yaz.write(wf)\n",
    "    print(f\"Yeni PDF Dosyası {wf.name} oluşturuldu\")"
   ]
  },
  {
   "cell_type": "code",
   "execution_count": 2,
   "metadata": {},
   "outputs": [
    {
     "data": {
      "text/plain": [
       "'/home/bull/Downloads'"
      ]
     },
     "execution_count": 2,
     "metadata": {},
     "output_type": "execute_result"
    }
   ],
   "source": [
    "pwd"
   ]
  },
  {
   "cell_type": "code",
   "execution_count": 1,
   "metadata": {},
   "outputs": [
    {
     "name": "stdout",
     "output_type": "stream",
     "text": [
      "Dosyaya birşeyler yazdım\n"
     ]
    }
   ],
   "source": [
    "with open(\"dummy_file.txt\", \"w\") as wf:\n",
    "    wf.write(\"Dosyaya birşeyler yazdım\")\n",
    "\n",
    "with open(\"dummy_file.txt\", \"r\") as rf:\n",
    "    print(rf.read())\n"
   ]
  },
  {
   "cell_type": "code",
   "execution_count": 3,
   "metadata": {},
   "outputs": [
    {
     "name": "stdout",
     "output_type": "stream",
     "text": [
      "1-Dosyaya birşeyler yazdım2-Dosyaya birşeyler yazdım3-Dosyaya birşeyler yazdım\n",
      "4-Dosyaya birşeyler yazdım5-Dosyaya birşeyler yazdım\n"
     ]
    }
   ],
   "source": [
    "with open(\"dummy_file.txt\", \"w\") as wf:\n",
    "    wf.write(\"1-Dosyaya birşeyler yazdım\")\n",
    "    wf.write(\"2-Dosyaya birşeyler yazdım\")\n",
    "    wf.write(\"3-Dosyaya birşeyler yazdım\\n\")\n",
    "    wf.write(\"4-Dosyaya birşeyler yazdım\")\n",
    "    wf.write(\"5-Dosyaya birşeyler yazdım\")\n",
    "\n",
    "with open(\"dummy_file.txt\", \"r\") as rf:\n",
    "    print(rf.read())"
   ]
  },
  {
   "cell_type": "code",
   "execution_count": 4,
   "metadata": {},
   "outputs": [
    {
     "name": "stdout",
     "output_type": "stream",
     "text": [
      "Banana\n",
      "Orange\n",
      "Apple\n",
      "Strawberry\n",
      "Melon\n",
      "\n"
     ]
    }
   ],
   "source": [
    "fruits_list = ['Banana', 'Orange', 'Apple', 'Strawberry', 'Melon']\n",
    "with open(\"fruits.txt\", 'w') as wf:\n",
    "    for i in fruits_list:\n",
    "        wf.write(i+\"\\n\")\n",
    "\n",
    "with open(\"fruits.txt\", 'r') as rf:\n",
    "    print(rf.read())"
   ]
  },
  {
   "cell_type": "code",
   "execution_count": 20,
   "metadata": {},
   "outputs": [
    {
     "name": "stdout",
     "output_type": "stream",
     "text": [
      "['Banana\\n', '\\n', 'Orange\\n', '\\n', 'Apple\\n', '\\n', 'Strawberry\\n', '\\n', 'Melon\\n', '\\n', 'Cherry\\n', 'Cherry\\n']\n"
     ]
    }
   ],
   "source": [
    "with open(\"fruits.txt\", 'r') as rf:\n",
    "    print(rf.readlines())"
   ]
  },
  {
   "cell_type": "code",
   "execution_count": 6,
   "metadata": {},
   "outputs": [
    {
     "name": "stdout",
     "output_type": "stream",
     "text": [
      "Banana\n",
      "\n",
      "Orange\n",
      "\n",
      "Apple\n",
      "\n",
      "Strawberry\n",
      "\n",
      "Melon\n",
      "\n",
      "\n"
     ]
    }
   ],
   "source": [
    "fruits_list = ['Banana', 'Orange', 'Apple', 'Strawberry', 'Melon']\n",
    "with open(\"fruits.txt\", 'w') as wf:\n",
    "    for i in fruits_list:\n",
    "        wf.write(i+\"\\n\\n\")\n",
    "\n",
    "with open(\"fruits.txt\", 'r') as rf:\n",
    "    print(rf.read())"
   ]
  },
  {
   "cell_type": "code",
   "execution_count": 13,
   "metadata": {},
   "outputs": [
    {
     "name": "stdout",
     "output_type": "stream",
     "text": [
      "Banana\n",
      "Orange\n",
      "Apple\n",
      "Strawberry\n",
      "Melon\n",
      "\n"
     ]
    }
   ],
   "source": [
    "fruits_list  = ['Banana\\n', 'Orange\\n', 'Apple\\n', 'Strawberry\\n', 'Melon\\n']\n",
    "with open(\"fruits1.txt\", 'w') as wf:\n",
    "    wf.writelines(fruits_list)\n",
    "    \n",
    "with open(\"fruits1.txt\", 'r') as rf:\n",
    "    print(rf.read())"
   ]
  },
  {
   "cell_type": "code",
   "execution_count": 12,
   "metadata": {},
   "outputs": [
    {
     "name": "stdout",
     "output_type": "stream",
     "text": [
      "BananaOrangeAppleStrawberryMelon\n"
     ]
    }
   ],
   "source": [
    "fruits_list  = ['Banana', 'Orange', 'Apple', 'Strawberry', 'Melon']\n",
    "with open(\"fruits2.txt\", 'w') as wf:\n",
    "    wf.writelines(fruits_list)\n",
    "    \n",
    "with open(\"fruits2.txt\", 'r') as rf:\n",
    "    print(rf.read())"
   ]
  },
  {
   "cell_type": "code",
   "execution_count": 16,
   "metadata": {},
   "outputs": [
    {
     "name": "stdout",
     "output_type": "stream",
     "text": [
      "Banana\n",
      "\n",
      "Orange\n",
      "\n",
      "Apple\n",
      "\n",
      "Strawberry\n",
      "\n",
      "Melon\n",
      "\n",
      "Cherry\n",
      "Cherry\n",
      "\n"
     ]
    }
   ],
   "source": [
    "with open(\"fruits.txt\", 'a') as af:\n",
    "    af.write(\"Cherry\\n\")\n",
    "\n",
    "with open(\"fruits.txt\", 'r') as rf:\n",
    "    print(rf.read())"
   ]
  },
  {
   "cell_type": "code",
   "execution_count": 15,
   "metadata": {},
   "outputs": [
    {
     "name": "stdout",
     "output_type": "stream",
     "text": [
      "['Banana\\n', '\\n', 'Orange\\n', '\\n', 'Apple\\n', '\\n', 'Strawberry\\n', '\\n', 'Melon\\n', '\\n', 'Cherry\\n']\n"
     ]
    }
   ],
   "source": [
    "with open(\"fruits.txt\", 'r') as rf:\n",
    "    print(rf.readlines())"
   ]
  },
  {
   "cell_type": "code",
   "execution_count": 19,
   "metadata": {},
   "outputs": [
    {
     "name": "stdout",
     "output_type": "stream",
     "text": [
      "BananaOrangeAppleStrawberryMelonCherry\n",
      "\n",
      "Cherry2\n"
     ]
    }
   ],
   "source": [
    "with open(\"fruits2.txt\", 'a') as wf:\n",
    "    wf.writelines('\\nCherry2')\n",
    "    \n",
    "with open(\"fruits2.txt\", 'r') as rf:\n",
    "    print(rf.read())"
   ]
  },
  {
   "cell_type": "code",
   "execution_count": null,
   "metadata": {},
   "outputs": [],
   "source": [
    "# Özet:\n",
    "\"\"\"\n",
    "1-Dosya açılır (open)\n",
    "2. Dosya açma moduna uygun işlem yapılır\n",
    "-Ya dosyaya birşeyler yazılır (w, a)\n",
    "-Ya da dosyadan birşeyler okunur (r)...\n",
    "3. Dosya kapatılır (Eğer with open açıldı ise zaten otomatik kapanır...)\n",
    "\"\"\"\n"
   ]
  },
  {
   "cell_type": "code",
   "execution_count": 21,
   "metadata": {},
   "outputs": [],
   "source": [
    "# Bir dosyayı okuma amaçlı açıp içindeki kayıtları başka bir yazdırmak istiyoruz..\n",
    "# iç içe with open.... komutu ile yapabilir miyiz?\n",
    "# fruits.txt isimli dosyadaki kayıtları my_fruits.txt isimli dosyaya yazalim\n",
    "with open(\"fruits.txt\", 'r') as rf:\n",
    "    with open(\"my_fruits.txt\", 'w') as wf:\n",
    "        wf.writelines(rf)"
   ]
  },
  {
   "cell_type": "code",
   "execution_count": 23,
   "metadata": {},
   "outputs": [
    {
     "name": "stdout",
     "output_type": "stream",
     "text": [
      "birinci satırdır.\n",
      "ikinci satırdır.\n",
      "üçüncü satırdır.\n",
      "dördüncü satırdır.\n",
      "beşinci satırdır.\n",
      "\n"
     ]
    }
   ],
   "source": [
    "#Sözlük yapısındaki bir veriyi nasıl dosyaya yazarız\n",
    "sozluk = {1:\"birinci\", 2:\"ikinci\", 3: \"üçüncü\", 4:\"dördüncü\", 5: \"beşinci\"}\n",
    "\n",
    "with open(\"mysozluk.txt\", \"w\") as wf:\n",
    "    for k in sozluk.keys():\n",
    "        wf.write(sozluk[k] + \" satırdır.\\n\")\n",
    "\n",
    "with open(\"mysozluk.txt\", \"r\") as rf:\n",
    "    print(rf.read())"
   ]
  },
  {
   "cell_type": "code",
   "execution_count": 25,
   "metadata": {},
   "outputs": [
    {
     "name": "stdout",
     "output_type": "stream",
     "text": [
      "no,fruit,amount\n",
      "1,Banana,4 lb\n",
      "2,Orange,5 lb\n",
      "3,Apple,2 lb\n",
      "4,Strawberry,6 lb\n",
      "5,Cherry,3 lb\n"
     ]
    }
   ],
   "source": [
    "with open(\"my_fruits.csv\", 'r') as rf:\n",
    "    print(rf.read())"
   ]
  },
  {
   "cell_type": "code",
   "execution_count": 29,
   "metadata": {},
   "outputs": [
    {
     "name": "stdout",
     "output_type": "stream",
     "text": [
      "row number,first name,last name,ages\n",
      "1,mehmet,alan,22\n",
      "2,hasan,turkoglu,25\n",
      "3,ayse,mert,27\n",
      "4,murat,tanan,19\n",
      "5,elif,guzel,3\n",
      "\n"
     ]
    }
   ],
   "source": [
    "with open('people.csv', 'w') as deneme:\n",
    "    deneme.write('row number,first name,last name,ages\\n')\n",
    "    deneme.write('1,mehmet,alan,22\\n')\n",
    "    deneme.write('2,hasan,turkoglu,25\\n')\n",
    "    deneme.write('3,ayse,mert,27\\n')\n",
    "    deneme.write('4,murat,tanan,19\\n')\n",
    "    deneme.write('5,elif,guzel,3\\n')\n",
    "\n",
    "with open('people.csv', 'r') as csv_deneme:\n",
    "    print(csv_deneme.read())"
   ]
  },
  {
   "cell_type": "code",
   "execution_count": 27,
   "metadata": {},
   "outputs": [
    {
     "name": "stdout",
     "output_type": "stream",
     "text": [
      "['row number', 'first name', 'last name', 'ages']\n",
      "['1', 'mehmet', 'alan', '22']\n",
      "['2', 'hasan', 'turkoglu', '25']\n",
      "['3', 'ayse', 'mert', '27']\n",
      "['4', 'murat', 'tanan', '19']\n",
      "['5', 'elif', 'guzel', '3']\n"
     ]
    }
   ],
   "source": [
    "import csv\n",
    "with open('people.csv', newline='') as csvfile:\n",
    "    for row in csv.reader(csvfile):\n",
    "        print(row)"
   ]
  },
  {
   "cell_type": "code",
   "execution_count": 32,
   "metadata": {},
   "outputs": [
    {
     "name": "stdout",
     "output_type": "stream",
     "text": [
      "['row number,first name,last name,ages']\n",
      "['1,mehmet,alan,22']\n",
      "['2,hasan,turkoglu,25']\n",
      "['3,ayse,mert,27']\n",
      "['4,murat,tanan,19']\n",
      "['5,elif,guzel,3']\n"
     ]
    }
   ],
   "source": [
    "import csv\n",
    "with open('people.csv', newline='') as f:\n",
    "    reader = csv.reader(f, delimiter=':')\n",
    "    for row in reader:\n",
    "        print(row)\n"
   ]
  },
  {
   "cell_type": "code",
   "execution_count": 37,
   "metadata": {},
   "outputs": [
    {
     "name": "stdout",
     "output_type": "stream",
     "text": [
      "['row number,first name,last name,ages']\n",
      "['1,mehmet,alan,22']\n",
      "['2,hasan,turkoglu,25']\n",
      "['3,ayse,mert,27']\n",
      "['4,murat,tanan,19']\n",
      "['5,elif,guzel,3']\n"
     ]
    }
   ],
   "source": [
    "import csv\n",
    "with open('people.csv', newline='') as f:\n",
    "    reader = csv.reader(f, delimiter=':')\n",
    "    for row in reader:\n",
    "        print(row)"
   ]
  },
  {
   "cell_type": "code",
   "execution_count": 30,
   "metadata": {},
   "outputs": [
    {
     "name": "stdout",
     "output_type": "stream",
     "text": [
      "row number,first name,last name,ages\n",
      "1,mehmet,alan,22\n",
      "2,hasan,turkoglu,25\n",
      "3,ayse,mert,27\n",
      "4,murat,tanan,19\n",
      "5,elif,guzel,3\n"
     ]
    }
   ],
   "source": [
    "import csv\n",
    "with open('people.csv', newline='') as csvfile: #newline='' varsayılan değer\n",
    "    for row in csv.reader(csvfile):\n",
    "        print(','.join(row))"
   ]
  },
  {
   "cell_type": "code",
   "execution_count": 31,
   "metadata": {},
   "outputs": [
    {
     "name": "stdout",
     "output_type": "stream",
     "text": [
      "row number,first name,last name,ages\n",
      "1,mehmet,alan,22\n",
      "2,hasan,turkoglu,25\n",
      "3,ayse,mert,27\n",
      "4,murat,tanan,19\n",
      "5,elif,guzel,3\n"
     ]
    }
   ],
   "source": [
    "import csv\n",
    "with open('people.csv') as csvfile: #newline='' varsayılan değer\n",
    "    for row in csv.reader(csvfile):\n",
    "        print(','.join(row))"
   ]
  },
  {
   "cell_type": "code",
   "execution_count": 43,
   "metadata": {},
   "outputs": [],
   "source": [
    "import csv\n",
    "listem  = [6,\"elvan\",\"guzel\",33]\n",
    "with open('people.csv', 'a', newline='') as f:\n",
    "    writer = csv.writer(f)\n",
    "    writer.writerow(listem)"
   ]
  },
  {
   "cell_type": "code",
   "execution_count": 44,
   "metadata": {},
   "outputs": [
    {
     "name": "stdout",
     "output_type": "stream",
     "text": [
      "row number,first name,last name,ages\n",
      "1,mehmet,alan,22\n",
      "2,hasan,turkoglu,25\n",
      "3,ayse,mert,27\n",
      "4,murat,tanan,19\n",
      "5,elif,guzel,3\n",
      "6,elvan,guzel,33\n"
     ]
    }
   ],
   "source": [
    "import csv\n",
    "with open('people.csv') as csvfile: #newline='' varsayılan değer\n",
    "    for row in csv.reader(csvfile):\n",
    "        print(','.join(row))"
   ]
  },
  {
   "cell_type": "code",
   "execution_count": null,
   "metadata": {},
   "outputs": [],
   "source": []
  }
 ],
 "metadata": {
  "interpreter": {
   "hash": "35c4bcfff6bb594ff47b51ce5b21bcb1093d06fa0c5debe7002e3be5d50f4cc1"
  },
  "kernelspec": {
   "display_name": "Python 3 (ipykernel)",
   "language": "python",
   "name": "python3"
  },
  "language_info": {
   "codemirror_mode": {
    "name": "ipython",
    "version": 3
   },
   "file_extension": ".py",
   "mimetype": "text/x-python",
   "name": "python",
   "nbconvert_exporter": "python",
   "pygments_lexer": "ipython3",
   "version": "3.8.10"
  }
 },
 "nbformat": 4,
 "nbformat_minor": 2
}
