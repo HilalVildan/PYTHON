{
  "nbformat": 4,
  "nbformat_minor": 0,
  "metadata": {
    "colab": {
      "name": "colab_notebook_10",
      "provenance": []
    },
    "kernelspec": {
      "name": "python3",
      "display_name": "Python 3"
    },
    "language_info": {
      "name": "python"
    }
  },
  "cells": [
    {
      "cell_type": "markdown",
      "source": [
        "**Python Basics: if,if- else, elif**\n",
        "\n",
        "> Session 10\n",
        "\n"
      ],
      "metadata": {
        "id": "pOZYl0-tSpmn"
      }
    },
    {
      "cell_type": "code",
      "source": [
        "d = {\"bir\":1,\"iki\":2, \"üç\":3 }\n",
        "d [\"iki\"]  # elemana erişimde mutlaka köşeli parantez "
      ],
      "metadata": {
        "colab": {
          "base_uri": "https://localhost:8080/"
        },
        "id": "rs-dDmTBVntY",
        "outputId": "8f9922fc-c4c1-4252-be77-545100c627c7"
      },
      "execution_count": 8,
      "outputs": [
        {
          "output_type": "execute_result",
          "data": {
            "text/plain": [
              "2"
            ]
          },
          "metadata": {},
          "execution_count": 8
        }
      ]
    },
    {
      "cell_type": "code",
      "source": [
        "a,b,c,d = 1,2,3,4\n",
        "s = {a,b,c,d}\n",
        "print(s)"
      ],
      "metadata": {
        "colab": {
          "base_uri": "https://localhost:8080/"
        },
        "id": "Pztw7yo6Xlma",
        "outputId": "7af79215-7e82-4dfd-9265-2d2bd5d7face"
      },
      "execution_count": 9,
      "outputs": [
        {
          "output_type": "stream",
          "name": "stdout",
          "text": [
            "{1, 2, 3, 4}\n"
          ]
        }
      ]
    },
    {
      "cell_type": "code",
      "source": [
        "{'b', 'a', 'r'} & set('qux')"
      ],
      "metadata": {
        "colab": {
          "base_uri": "https://localhost:8080/"
        },
        "id": "-eqkNVMGYIBc",
        "outputId": "49ff6030-394f-4a50-9401-05621eabbf90"
      },
      "execution_count": 10,
      "outputs": [
        {
          "output_type": "execute_result",
          "data": {
            "text/plain": [
              "set()"
            ]
          },
          "metadata": {},
          "execution_count": 10
        }
      ]
    },
    {
      "cell_type": "code",
      "source": [
        "type({})"
      ],
      "metadata": {
        "colab": {
          "base_uri": "https://localhost:8080/"
        },
        "id": "9FZMg7NyZ1W6",
        "outputId": "45c2068f-611f-427f-c5e1-36777ef3d0e1"
      },
      "execution_count": 11,
      "outputs": [
        {
          "output_type": "execute_result",
          "data": {
            "text/plain": [
              "dict"
            ]
          },
          "metadata": {},
          "execution_count": 11
        }
      ]
    },
    {
      "cell_type": "code",
      "source": [
        "type(set())"
      ],
      "metadata": {
        "colab": {
          "base_uri": "https://localhost:8080/"
        },
        "id": "oRdn6L7_Z5Nu",
        "outputId": "3251d947-cb9d-4aee-cd72-b04eb6125005"
      },
      "execution_count": 12,
      "outputs": [
        {
          "output_type": "execute_result",
          "data": {
            "text/plain": [
              "set"
            ]
          },
          "metadata": {},
          "execution_count": 12
        }
      ]
    },
    {
      "cell_type": "code",
      "source": [
        "A = {1,7,9}\n",
        "B = {7,6,3}\n",
        "print(A-B)"
      ],
      "metadata": {
        "colab": {
          "base_uri": "https://localhost:8080/"
        },
        "id": "M4hKXSBZatHd",
        "outputId": "59a80880-f31b-4044-d775-3419cfc1353a"
      },
      "execution_count": 13,
      "outputs": [
        {
          "output_type": "stream",
          "name": "stdout",
          "text": [
            "{1, 9}\n"
          ]
        }
      ]
    },
    {
      "cell_type": "code",
      "source": [
        "print(B-A)"
      ],
      "metadata": {
        "colab": {
          "base_uri": "https://localhost:8080/"
        },
        "id": "eg_0oxzwa64J",
        "outputId": "fd66d3ae-cff5-4f72-c244-68299f3d3c08"
      },
      "execution_count": 14,
      "outputs": [
        {
          "output_type": "stream",
          "name": "stdout",
          "text": [
            "{3, 6}\n"
          ]
        }
      ]
    },
    {
      "cell_type": "code",
      "source": [
        "A.symmetric_difference(B)"
      ],
      "metadata": {
        "colab": {
          "base_uri": "https://localhost:8080/"
        },
        "id": "OvBIktEKa_u_",
        "outputId": "93dc9e68-8b5f-4e53-b465-cde609ee6bf7"
      },
      "execution_count": 15,
      "outputs": [
        {
          "output_type": "execute_result",
          "data": {
            "text/plain": [
              "{1, 3, 6, 9}"
            ]
          },
          "metadata": {},
          "execution_count": 15
        }
      ]
    },
    {
      "cell_type": "code",
      "source": [
        "A.intersection_update(B)\n",
        "print(A)"
      ],
      "metadata": {
        "colab": {
          "base_uri": "https://localhost:8080/"
        },
        "id": "iQdkibJfbTxq",
        "outputId": "a71b0401-e419-4218-98cc-31a75ca4016e"
      },
      "execution_count": 17,
      "outputs": [
        {
          "output_type": "stream",
          "name": "stdout",
          "text": [
            "{7}\n"
          ]
        }
      ]
    },
    {
      "cell_type": "code",
      "source": [
        "A.isdisjoint(B)  #kesişimi boş küme mi"
      ],
      "metadata": {
        "colab": {
          "base_uri": "https://localhost:8080/"
        },
        "id": "-6usOOC_bvBs",
        "outputId": "bc80a339-a345-43c7-c01d-bc376c70b281"
      },
      "execution_count": 18,
      "outputs": [
        {
          "output_type": "execute_result",
          "data": {
            "text/plain": [
              "False"
            ]
          },
          "metadata": {},
          "execution_count": 18
        }
      ]
    },
    {
      "cell_type": "code",
      "execution_count": 5,
      "metadata": {
        "colab": {
          "base_uri": "https://localhost:8080/"
        },
        "id": "ojf3YeVmSUOw",
        "outputId": "05012c60-0e85-4685-ad7f-60cbb00b5262"
      },
      "outputs": [
        {
          "output_type": "execute_result",
          "data": {
            "text/plain": [
              "[(0, 'P'), (1, 'y'), (2, 't'), (3, 'h'), (4, 'o'), (5, 'n')]"
            ]
          },
          "metadata": {},
          "execution_count": 5
        }
      ],
      "source": [
        "list(enumerate('Python'))"
      ]
    },
    {
      "cell_type": "code",
      "source": [
        "list(enumerate('Python', 3))"
      ],
      "metadata": {
        "colab": {
          "base_uri": "https://localhost:8080/"
        },
        "id": "D5_GMxoYcVd9",
        "outputId": "520d2c54-15f2-4674-aff7-0806b890e102"
      },
      "execution_count": 19,
      "outputs": [
        {
          "output_type": "execute_result",
          "data": {
            "text/plain": [
              "[(3, 'P'), (4, 'y'), (5, 't'), (6, 'h'), (7, 'o'), (8, 'n')]"
            ]
          },
          "metadata": {},
          "execution_count": 19
        }
      ]
    },
    {
      "cell_type": "code",
      "source": [
        "tuple(enumerate('Python', start=3))"
      ],
      "metadata": {
        "colab": {
          "base_uri": "https://localhost:8080/"
        },
        "id": "dPIBtOjscaxT",
        "outputId": "9322ba01-0375-4694-f0aa-c743c91ddabb"
      },
      "execution_count": 21,
      "outputs": [
        {
          "output_type": "execute_result",
          "data": {
            "text/plain": [
              "((3, 'P'), (4, 'y'), (5, 't'), (6, 'h'), (7, 'o'), (8, 'n'))"
            ]
          },
          "metadata": {},
          "execution_count": 21
        }
      ]
    },
    {
      "cell_type": "code",
      "source": [
        "## Haftanın günlerini veren program : rakam girilecek sözel karşılığını verecek\n",
        "gun = [\"Pazartesi\",\"Salı\", \"Çarşamba\", \"Perşembe\",\"Cuma\",\"Cumartesi\",\"Pazar\"]\n",
        "gun_list = list(enumerate(gun,start=1))\n",
        "print(gun_list)\n",
        "rakam = int(input(\"Günün rakam değerini giriniz..:\"))\n",
        "print(gun_list[rakam-1][1])"
      ],
      "metadata": {
        "colab": {
          "base_uri": "https://localhost:8080/"
        },
        "id": "QwltjbZBcoyn",
        "outputId": "76a378e6-d933-4086-eb27-c46a6b7d123c"
      },
      "execution_count": 28,
      "outputs": [
        {
          "output_type": "stream",
          "name": "stdout",
          "text": [
            "[(1, 'Pazartesi'), (2, 'Salı'), (3, 'Çarşamba'), (4, 'Perşembe'), (5, 'Cuma'), (6, 'Cumartesi'), (7, 'Pazar')]\n",
            "Günün rakam değerini giriniz..:6\n",
            "Cumartesi\n"
          ]
        }
      ]
    },
    {
      "cell_type": "code",
      "source": [
        "a = 5\n",
        "if a>0:\n",
        "print(\"pozitif\")"
      ],
      "metadata": {
        "colab": {
          "base_uri": "https://localhost:8080/",
          "height": 131
        },
        "id": "xlbdbSOKi4d7",
        "outputId": "49465ba1-d776-4b69-c729-ef481b352472"
      },
      "execution_count": 31,
      "outputs": [
        {
          "output_type": "error",
          "ename": "IndentationError",
          "evalue": "ignored",
          "traceback": [
            "\u001b[0;36m  File \u001b[0;32m\"<ipython-input-31-8a2eb27b43a2>\"\u001b[0;36m, line \u001b[0;32m3\u001b[0m\n\u001b[0;31m    print(\"pozitif\")\u001b[0m\n\u001b[0m        ^\u001b[0m\n\u001b[0;31mIndentationError\u001b[0m\u001b[0;31m:\u001b[0m expected an indented block\n"
          ]
        }
      ]
    },
    {
      "cell_type": "code",
      "source": [
        "if False:\n",
        "    print(\"False çalışırım\")\n",
        "if True:\n",
        "    print(\"True çalışırım\")"
      ],
      "metadata": {
        "colab": {
          "base_uri": "https://localhost:8080/"
        },
        "id": "DLCqLcC_jplh",
        "outputId": "168ccead-a31b-4dcc-9a5c-66e21c0100c5"
      },
      "execution_count": 33,
      "outputs": [
        {
          "output_type": "stream",
          "name": "stdout",
          "text": [
            "True çalışırım\n"
          ]
        }
      ]
    },
    {
      "cell_type": "code",
      "source": [
        "# False: 0, 0.0, None, içi boş string veya collection yapısı"
      ],
      "metadata": {
        "id": "747sVvoWkAp8"
      },
      "execution_count": null,
      "outputs": []
    },
    {
      "cell_type": "code",
      "source": [
        "if 0:\n",
        "    print(\"False çalışırım\")\n",
        "if 1:\n",
        "    print(\"True çalışırım\")"
      ],
      "metadata": {
        "colab": {
          "base_uri": "https://localhost:8080/"
        },
        "id": "rH7M-3YekNDC",
        "outputId": "90dcdc25-679f-472b-aa35-6b9c19b68df0"
      },
      "execution_count": 34,
      "outputs": [
        {
          "output_type": "stream",
          "name": "stdout",
          "text": [
            "True çalışırım\n"
          ]
        }
      ]
    },
    {
      "cell_type": "code",
      "source": [
        "grocery_store = True\n",
        "lettuce = True\n",
        "pepper = False\n",
        "hamburger_bread = True\n",
        "minced_meat = True\n",
        "hamburger = (minced_meat and hamburger_bread and grocery_store) and (pepper or lettuce)\n",
        "if hamburger==True:\n",
        "    print(\"Afiyet Olsun\")"
      ],
      "metadata": {
        "colab": {
          "base_uri": "https://localhost:8080/"
        },
        "id": "-TOe0-DcmUs6",
        "outputId": "717c7a7f-a257-4caa-b40c-b8a341ad5da7"
      },
      "execution_count": 37,
      "outputs": [
        {
          "output_type": "stream",
          "name": "stdout",
          "text": [
            "Afiyet Olsun\n"
          ]
        }
      ]
    },
    {
      "cell_type": "code",
      "source": [
        "grocery_store = True\n",
        "lettuce = True\n",
        "pepper = False\n",
        "hamburger_bread = True\n",
        "minced_meat = True\n",
        "hamburger = (minced_meat and hamburger_bread and grocery_store) and (pepper or lettuce)\n",
        "if hamburger: ## default : True\n",
        "    print(\"Afiyet Olsun\")"
      ],
      "metadata": {
        "colab": {
          "base_uri": "https://localhost:8080/"
        },
        "id": "6V80kB89nDvz",
        "outputId": "86e8566b-9aa4-40b1-f198-a53a61b3ead0"
      },
      "execution_count": 38,
      "outputs": [
        {
          "output_type": "stream",
          "name": "stdout",
          "text": [
            "Afiyet Olsun\n"
          ]
        }
      ]
    },
    {
      "cell_type": "code",
      "source": [
        "grocery_store = 1\n",
        "lettuce = 1\n",
        "pepper = 0\n",
        "hamburger_bread = 1\n",
        "minced_meat = 1\n",
        "hamburger = (minced_meat and hamburger_bread and grocery_store) and (pepper or lettuce)\n",
        "if hamburger: ## default : True\n",
        "    print(\"Afiyet Olsun\")"
      ],
      "metadata": {
        "colab": {
          "base_uri": "https://localhost:8080/"
        },
        "id": "KjMWvzw9ncDG",
        "outputId": "53a9ffab-dd35-4b83-c2d4-c84598a1111f"
      },
      "execution_count": 39,
      "outputs": [
        {
          "output_type": "stream",
          "name": "stdout",
          "text": [
            "Afiyet Olsun\n"
          ]
        }
      ]
    },
    {
      "cell_type": "code",
      "source": [
        "grocery_store = \"Var\"\n",
        "lettuce = \"Var\"\n",
        "pepper = None\n",
        "hamburger_bread = \"Var\"\n",
        "minced_meat = \"Var\"\n",
        "hamburger = (minced_meat and hamburger_bread and grocery_store) and (pepper or lettuce)\n",
        "if hamburger: ## default : True\n",
        "    print(\"Afiyet Olsun\")"
      ],
      "metadata": {
        "id": "K_bTZX8enly3"
      },
      "execution_count": 41,
      "outputs": []
    },
    {
      "cell_type": "code",
      "source": [
        "print(1==1)\n",
        "print(\"a\" == \"A\")\n",
        "print(2<=5)"
      ],
      "metadata": {
        "colab": {
          "base_uri": "https://localhost:8080/"
        },
        "id": "CJETAKGbollA",
        "outputId": "0efb5508-b8ee-4a12-bcc6-804bf6abccb9"
      },
      "execution_count": 42,
      "outputs": [
        {
          "output_type": "stream",
          "name": "stdout",
          "text": [
            "True\n",
            "False\n",
            "True\n"
          ]
        }
      ]
    },
    {
      "cell_type": "code",
      "source": [
        "#--1--2- 3--4--5--6--7--8--9--10\n",
        "a = 5\n",
        "print(3<=a<=7)"
      ],
      "metadata": {
        "colab": {
          "base_uri": "https://localhost:8080/"
        },
        "id": "vn9waYGepD8b",
        "outputId": "e1a85ec1-3e7e-42e7-875c-402b39df6b28"
      },
      "execution_count": 43,
      "outputs": [
        {
          "output_type": "stream",
          "name": "stdout",
          "text": [
            "True\n"
          ]
        }
      ]
    },
    {
      "cell_type": "code",
      "source": [
        "#--1--2- 3--4--5--6--7--8--9--10\n",
        "a = 5\n",
        "print(3<=a and a<=7)"
      ],
      "metadata": {
        "colab": {
          "base_uri": "https://localhost:8080/"
        },
        "id": "2pUHeEnHpgpm",
        "outputId": "20e17c02-f5e4-4eef-d3af-6f59f22916ad"
      },
      "execution_count": 46,
      "outputs": [
        {
          "output_type": "stream",
          "name": "stdout",
          "text": [
            "True\n"
          ]
        }
      ]
    },
    {
      "cell_type": "code",
      "source": [
        "\"ike\" in \"Mike\"  ## in (üyesimi/elemanı mı? (membership))bir operatör ve True, False döndürür"
      ],
      "metadata": {
        "colab": {
          "base_uri": "https://localhost:8080/"
        },
        "id": "CXf14Ki2pq30",
        "outputId": "704a44f0-91bb-469f-ad85-183646f75c1c"
      },
      "execution_count": 48,
      "outputs": [
        {
          "output_type": "execute_result",
          "data": {
            "text/plain": [
              "True"
            ]
          },
          "metadata": {},
          "execution_count": 48
        }
      ]
    },
    {
      "cell_type": "code",
      "source": [
        "\"Mike\" in \"Mike\" in \"Mike\" "
      ],
      "metadata": {
        "colab": {
          "base_uri": "https://localhost:8080/"
        },
        "id": "p6QJQkr5p7sJ",
        "outputId": "8e0af5c6-be87-40cf-9be3-2e5d8300b6bb"
      },
      "execution_count": 49,
      "outputs": [
        {
          "output_type": "execute_result",
          "data": {
            "text/plain": [
              "True"
            ]
          },
          "metadata": {},
          "execution_count": 49
        }
      ]
    },
    {
      "cell_type": "code",
      "source": [
        "(\"Mike\" in \"Mike\") and (\"Mike\" in \"Mike\")"
      ],
      "metadata": {
        "colab": {
          "base_uri": "https://localhost:8080/"
        },
        "id": "4498h48QqA9x",
        "outputId": "b63620a9-9163-4e45-8209-b957ab1887c2"
      },
      "execution_count": 50,
      "outputs": [
        {
          "output_type": "execute_result",
          "data": {
            "text/plain": [
              "True"
            ]
          },
          "metadata": {},
          "execution_count": 50
        }
      ]
    },
    {
      "cell_type": "code",
      "source": [
        "x = 6\n",
        "y = 9\n",
        "print('is x equal to y?\t\t\t\t:', x==y)\n",
        "print('is x not equal to y?\t\t\t:', x!=y)\n",
        "print('is x less than y?\t\t\t:', x<y)\n",
        "print('is x greater than y?\t\t\t:', x>y)\n",
        "print('is x less than or equal to y?\t:', x<=y)\n",
        "print('is x greater than or equal to y?\t:', x>=y)"
      ],
      "metadata": {
        "colab": {
          "base_uri": "https://localhost:8080/"
        },
        "id": "mGhfzXFzqcRj",
        "outputId": "026d69b9-e173-412b-c606-115e54bcae90"
      },
      "execution_count": 52,
      "outputs": [
        {
          "output_type": "stream",
          "name": "stdout",
          "text": [
            "is x equal to y?\t\t\t\t: False\n",
            "is x not equal to y?\t\t\t: True\n",
            "is x less than y?\t\t\t: True\n",
            "is x greater than y?\t\t\t: False\n",
            "is x less than or equal to y?\t: True\n",
            "is x greater than or equal to y?\t: False\n"
          ]
        }
      ]
    },
    {
      "cell_type": "code",
      "source": [
        "x = 6\n",
        "y = 9\n",
        "print('is x equal to y?\t\t\t\t:', x=y)"
      ],
      "metadata": {
        "colab": {
          "base_uri": "https://localhost:8080/",
          "height": 200
        },
        "id": "SBdXQ17Dqlsy",
        "outputId": "572eca88-cd42-4567-8dd9-b3686b966d97"
      },
      "execution_count": 53,
      "outputs": [
        {
          "output_type": "error",
          "ename": "TypeError",
          "evalue": "ignored",
          "traceback": [
            "\u001b[0;31m---------------------------------------------------------------------------\u001b[0m",
            "\u001b[0;31mTypeError\u001b[0m                                 Traceback (most recent call last)",
            "\u001b[0;32m<ipython-input-53-7ef4f3b2d589>\u001b[0m in \u001b[0;36m<module>\u001b[0;34m()\u001b[0m\n\u001b[1;32m      1\u001b[0m \u001b[0mx\u001b[0m \u001b[0;34m=\u001b[0m \u001b[0;36m6\u001b[0m\u001b[0;34m\u001b[0m\u001b[0;34m\u001b[0m\u001b[0m\n\u001b[1;32m      2\u001b[0m \u001b[0my\u001b[0m \u001b[0;34m=\u001b[0m \u001b[0;36m9\u001b[0m\u001b[0;34m\u001b[0m\u001b[0;34m\u001b[0m\u001b[0m\n\u001b[0;32m----> 3\u001b[0;31m \u001b[0mprint\u001b[0m\u001b[0;34m(\u001b[0m\u001b[0;34m'is x equal to y?                         :'\u001b[0m\u001b[0;34m,\u001b[0m \u001b[0mx\u001b[0m\u001b[0;34m=\u001b[0m\u001b[0my\u001b[0m\u001b[0;34m)\u001b[0m\u001b[0;34m\u001b[0m\u001b[0;34m\u001b[0m\u001b[0m\n\u001b[0m",
            "\u001b[0;31mTypeError\u001b[0m: 'x' is an invalid keyword argument for print()"
          ]
        }
      ]
    },
    {
      "cell_type": "code",
      "source": [
        "\"\"\"\n",
        "a=b ifadesi a ya b yi ata\n",
        "a==b ifadesi a b ye eşit mi?\n",
        "\"\"\""
      ],
      "metadata": {
        "id": "9Zf_mthZqseS"
      },
      "execution_count": null,
      "outputs": []
    },
    {
      "cell_type": "code",
      "source": [
        "a = set('TWELVE PLUS ONE')\n",
        "b = set('ELEVEN PLUS TWO')\n",
        "if (a==b):\n",
        "    print(\"We are the same!\")"
      ],
      "metadata": {
        "colab": {
          "base_uri": "https://localhost:8080/"
        },
        "id": "zFNFydcZuuNo",
        "outputId": "c7390249-4eb1-428a-9825-74aa31355634"
      },
      "execution_count": 54,
      "outputs": [
        {
          "output_type": "stream",
          "name": "stdout",
          "text": [
            "We are the same!\n"
          ]
        }
      ]
    },
    {
      "cell_type": "code",
      "source": [
        "a = set('TWELVE PLUS ONE')\n",
        "b = set('ELEVEN PLUd TWO')\n",
        "if a==b:\n",
        "    print(\"We are the same!\")"
      ],
      "metadata": {
        "id": "ZlZJKMoWu8bh"
      },
      "execution_count": 56,
      "outputs": []
    },
    {
      "cell_type": "code",
      "source": [
        "convert = input('Enter Yes or No : ').title().strip() == \"Yes\"\n",
        "print(\"You entered\", convert)"
      ],
      "metadata": {
        "colab": {
          "base_uri": "https://localhost:8080/"
        },
        "id": "hKe8BnDuvy66",
        "outputId": "474e9782-4206-4dfd-d461-cae9b30ffde9"
      },
      "execution_count": 65,
      "outputs": [
        {
          "output_type": "stream",
          "name": "stdout",
          "text": [
            "Enter Yes or No : YES       \n",
            "You entered True\n"
          ]
        }
      ]
    },
    {
      "cell_type": "code",
      "source": [
        "convert = input('Enter Yes or No : ').lower() == \"yes\"\n",
        "print(\"You entered\", convert)"
      ],
      "metadata": {
        "colab": {
          "base_uri": "https://localhost:8080/"
        },
        "id": "yKUB7-q9wkJN",
        "outputId": "5ac11211-15fd-4af1-a80b-65236af7df87"
      },
      "execution_count": 63,
      "outputs": [
        {
          "output_type": "stream",
          "name": "stdout",
          "text": [
            "Enter Yes or No : YES\n",
            "You entered True\n"
          ]
        }
      ]
    },
    {
      "cell_type": "code",
      "source": [
        "course = \"clarusway\"\n",
        "if course == \"clarusway\":\n",
        "    print(\"Hoş geldiniz\")\n",
        "else: \n",
        "    print(\"Boş geldiniz\")"
      ],
      "metadata": {
        "colab": {
          "base_uri": "https://localhost:8080/"
        },
        "id": "jwuXYnzlxJ3O",
        "outputId": "75476d6a-4b1d-4261-8554-bcb99d011b7f"
      },
      "execution_count": 67,
      "outputs": [
        {
          "output_type": "stream",
          "name": "stdout",
          "text": [
            "Hoş geldiniz\n"
          ]
        }
      ]
    },
    {
      "cell_type": "code",
      "source": [
        "ort = float(input(\"Başarı ortalamanız..:\"))\n",
        "if (ort>=50):\n",
        "    print(\"Başarılı\")\n",
        "else:\n",
        "    print(\"Başarısız\")"
      ],
      "metadata": {
        "colab": {
          "base_uri": "https://localhost:8080/"
        },
        "id": "h79G4ILFxhYc",
        "outputId": "baca4d6f-a1be-4cfc-f9f4-8db2d2127129"
      },
      "execution_count": 69,
      "outputs": [
        {
          "output_type": "stream",
          "name": "stdout",
          "text": [
            "Başarı ortalamanız..:45\n",
            "Başarısız\n"
          ]
        }
      ]
    },
    {
      "cell_type": "code",
      "source": [
        "ort = float(input(\"Başarı ortalamanız..:\"))\n",
        "print (ort>=50 and \"Başarılı\" or \"Başarısız\")"
      ],
      "metadata": {
        "colab": {
          "base_uri": "https://localhost:8080/"
        },
        "id": "pqwcQH3Fx3Kl",
        "outputId": "14f48154-2f09-4a39-93a6-3c9d53dec7fe"
      },
      "execution_count": 70,
      "outputs": [
        {
          "output_type": "stream",
          "name": "stdout",
          "text": [
            "Başarı ortalamanız..:44\n",
            "Başarısız\n"
          ]
        }
      ]
    },
    {
      "cell_type": "code",
      "source": [
        "number = 5\n",
        "if number <=3:\n",
        "\tprint('Number is smaller than or equal to 3')\n",
        "else:\n",
        "\tprint('Number is bigger than 3')"
      ],
      "metadata": {
        "colab": {
          "base_uri": "https://localhost:8080/"
        },
        "id": "FM2iY3UayiGM",
        "outputId": "44bc8949-5207-4cbd-c64f-6bf634023449"
      },
      "execution_count": 71,
      "outputs": [
        {
          "output_type": "stream",
          "name": "stdout",
          "text": [
            "Number is bigger than 3\n"
          ]
        }
      ]
    },
    {
      "cell_type": "code",
      "source": [
        "## Even or Odd \n",
        "number = int(input(\"Enter a number..:\"))\n",
        "if number%2==0: #çift ise\n",
        "    print(f\"{number} is even.\")\n",
        "else:\n",
        "    print(f\"{number} is odd.\")\n"
      ],
      "metadata": {
        "colab": {
          "base_uri": "https://localhost:8080/"
        },
        "id": "1ozUusrLylhC",
        "outputId": "4871058d-7c60-453a-b09b-f8b75bc4f4d2"
      },
      "execution_count": 73,
      "outputs": [
        {
          "output_type": "stream",
          "name": "stdout",
          "text": [
            "Enter a number..:8\n",
            "8 is even.\n"
          ]
        }
      ]
    },
    {
      "cell_type": "code",
      "source": [
        "## Even or Odd \n",
        "number = int(input(\"Enter a number..:\"))\n",
        "print(number%2==0 and \"is even.\" or \"is odd.\")"
      ],
      "metadata": {
        "colab": {
          "base_uri": "https://localhost:8080/"
        },
        "id": "AldA07t0zhrJ",
        "outputId": "a44916d0-b896-4913-eaeb-54d555c4754e"
      },
      "execution_count": 75,
      "outputs": [
        {
          "output_type": "stream",
          "name": "stdout",
          "text": [
            "Enter a number..:7\n",
            "is odd.\n"
          ]
        }
      ]
    },
    {
      "cell_type": "code",
      "source": [
        "## Even or Odd \n",
        "number = int(input(\"Enter a number..:\"))\n",
        "if number%2==False: #?? çift ise\n",
        "    print(f\"{number} is even.\")\n",
        "else:\n",
        "    print(f\"{number} is odd.\")"
      ],
      "metadata": {
        "colab": {
          "base_uri": "https://localhost:8080/"
        },
        "id": "jXELAuAiz202",
        "outputId": "e0109dcf-69fd-4782-e94a-bebc438436c2"
      },
      "execution_count": 77,
      "outputs": [
        {
          "output_type": "stream",
          "name": "stdout",
          "text": [
            "Enter a number..:9\n",
            "9 is odd.\n"
          ]
        }
      ]
    },
    {
      "cell_type": "code",
      "source": [
        "## Even or Odd \n",
        "number = int(input(\"Enter a number..:\"))\n",
        "if not number%2: #?? not True algılar\n",
        "    print(f\"{number} is even.\")\n",
        "else:\n",
        "    print(f\"{number} is odd.\")"
      ],
      "metadata": {
        "colab": {
          "base_uri": "https://localhost:8080/"
        },
        "id": "yh6nnLNH0Dju",
        "outputId": "1986d309-490f-43e8-ea31-28b4731c8a93"
      },
      "execution_count": 79,
      "outputs": [
        {
          "output_type": "stream",
          "name": "stdout",
          "text": [
            "Enter a number..:3\n",
            "3 is odd.\n"
          ]
        }
      ]
    },
    {
      "cell_type": "code",
      "source": [
        "## Even or Odd \n",
        "number = int(input(\"Enter a number..:\"))\n",
        "if number%2: #?? True algılar\n",
        "    print(f\"{number} is odd.\")\n",
        "else:\n",
        "    print(f\"{number} is even.\")"
      ],
      "metadata": {
        "colab": {
          "base_uri": "https://localhost:8080/"
        },
        "id": "BacODMaz0Sdd",
        "outputId": "e2f5ab17-4a8d-4764-f49f-cfc93b13d846"
      },
      "execution_count": 81,
      "outputs": [
        {
          "output_type": "stream",
          "name": "stdout",
          "text": [
            "Enter a number..:7\n",
            "7 is odd.\n"
          ]
        }
      ]
    },
    {
      "cell_type": "code",
      "source": [
        "x = int(input('please enter a number'))\n",
        "if x > 0:\n",
        "    print(x, 'is a positive number')\n",
        "else:\n",
        "    print(x, 'is a negative number')"
      ],
      "metadata": {
        "colab": {
          "base_uri": "https://localhost:8080/"
        },
        "id": "ERon52R81I0P",
        "outputId": "8029d161-9db4-4eec-f5cf-330903a55c14"
      },
      "execution_count": 85,
      "outputs": [
        {
          "output_type": "stream",
          "name": "stdout",
          "text": [
            "please enter a number0\n",
            "0 is a negative number\n"
          ]
        }
      ]
    },
    {
      "cell_type": "code",
      "source": [
        "x = int(input('please enter a number'))\n",
        "if x==0:\n",
        "    print(x, \"is a zero.\")\n",
        "else:\n",
        "    if x > 0:\n",
        "        print(x, 'is a positive number')\n",
        "    else:\n",
        "        print(x, 'is a negative number')\n"
      ],
      "metadata": {
        "colab": {
          "base_uri": "https://localhost:8080/"
        },
        "id": "dU9jcKTj1h-S",
        "outputId": "3f373e50-7d1f-4afe-edf9-29d58a5a3156"
      },
      "execution_count": 87,
      "outputs": [
        {
          "output_type": "stream",
          "name": "stdout",
          "text": [
            "please enter a number0\n",
            "0 is a zero.\n"
          ]
        }
      ]
    },
    {
      "cell_type": "code",
      "source": [
        "x = int(input('please enter a number'))\n",
        "if x==0:\n",
        "    print(x, \"is a zero.\")\n",
        "elif x > 0:\n",
        "    print(x, 'is a positive number')\n",
        "else:\n",
        "    print(x, 'is a negative number')"
      ],
      "metadata": {
        "colab": {
          "base_uri": "https://localhost:8080/"
        },
        "id": "alYWma7227dG",
        "outputId": "97916048-39a6-479f-9316-08568ab91480"
      },
      "execution_count": 95,
      "outputs": [
        {
          "output_type": "stream",
          "name": "stdout",
          "text": [
            "please enter a number-89\n",
            "-89 is a negative number\n"
          ]
        }
      ]
    },
    {
      "cell_type": "code",
      "source": [
        "x = int(input('please enter a number'))\n",
        "default = \"is a zero.\"\n",
        "if x > 0:\n",
        "    default = 'is a positive number'\n",
        "if x < 0:\n",
        "    default = 'is a negative number'\n",
        "\n",
        "print(x, default)"
      ],
      "metadata": {
        "colab": {
          "base_uri": "https://localhost:8080/"
        },
        "id": "xdnq7dlg2Cp0",
        "outputId": "166a1a19-1773-4afc-c47c-44461fd6229f"
      },
      "execution_count": 92,
      "outputs": [
        {
          "output_type": "stream",
          "name": "stdout",
          "text": [
            "please enter a number-67\n",
            "-67 is a negative number\n"
          ]
        }
      ]
    },
    {
      "cell_type": "code",
      "source": [
        "#option-1:\n",
        "num1 = float(input('Enter first number: '))\n",
        "num2 = float(input('Enter second number: '))\n",
        "if num1==num2:\n",
        "    print(\"Numbers are equals.\")\n",
        "else:\n",
        "    if (num1 > num2):\n",
        "\t    larger = num1\n",
        "    else:\n",
        "\t    larger = num2\n",
        "    \n",
        "    print('The large number is', larger)\n"
      ],
      "metadata": {
        "colab": {
          "base_uri": "https://localhost:8080/"
        },
        "id": "oqCsmL5j6Prz",
        "outputId": "43da2056-2d31-4bc5-c718-d03d65fda74a"
      },
      "execution_count": 102,
      "outputs": [
        {
          "output_type": "stream",
          "name": "stdout",
          "text": [
            "Enter first number: 7\n",
            "Enter second number: 9\n",
            "The large number is 9.0\n"
          ]
        }
      ]
    },
    {
      "cell_type": "code",
      "source": [
        "convert = input('Enter Yes or No : ').lower()\n",
        "if convert == \"yes\":\n",
        "    print(\"You entered True.\")\n",
        "elif convert == \"no\":\n",
        "    print(\"You entered False.\")\n",
        "else:\n",
        "    print(\"Please! Enter Yes or No?\")"
      ],
      "metadata": {
        "colab": {
          "base_uri": "https://localhost:8080/"
        },
        "id": "YTLPB_AB7vDx",
        "outputId": "c63f6e94-7ee5-48ee-c32f-59ff56fd1b55"
      },
      "execution_count": 111,
      "outputs": [
        {
          "output_type": "stream",
          "name": "stdout",
          "text": [
            "Enter Yes or No : YesNo\n",
            "Please! Enter Yes or No?\n"
          ]
        }
      ]
    },
    {
      "cell_type": "code",
      "source": [
        "## True -> Yes\n",
        "## False -> No\n",
        "bool_value = False\n",
        "if bool_value:\n",
        "\tprint('Yes')\n",
        "else:\n",
        "\tprint('No')"
      ],
      "metadata": {
        "colab": {
          "base_uri": "https://localhost:8080/"
        },
        "id": "FgClno3N9yMY",
        "outputId": "93a1d410-fe72-4f38-e3a2-8acb93ab646e"
      },
      "execution_count": 113,
      "outputs": [
        {
          "output_type": "stream",
          "name": "stdout",
          "text": [
            "No\n"
          ]
        }
      ]
    },
    {
      "cell_type": "code",
      "source": [
        "audience = 'baby'\n",
        "\n",
        "if audience == 'kid':\n",
        "\tprint('it is free to go to cinema')\n",
        "elif audience == 'teen':\n",
        "\tprint('discounted price!')\n",
        "elif audience == 'adult':\n",
        "\tprint('normal price')\n",
        "else:\n",
        "\tprint('No such audience, stay at your home!')\n"
      ],
      "metadata": {
        "colab": {
          "base_uri": "https://localhost:8080/"
        },
        "id": "2086BbVP_ibB",
        "outputId": "d5d1a201-dcde-4884-f964-5f2b32ce00ad"
      },
      "execution_count": 119,
      "outputs": [
        {
          "output_type": "stream",
          "name": "stdout",
          "text": [
            "No such audience, stay at your home!\n"
          ]
        }
      ]
    },
    {
      "cell_type": "code",
      "source": [
        "num1 = float(input('Enter first number: '))\n",
        "num2 = float(input('Enter second number: '))\n",
        "num3 = float(input('Enter third number: '))\n",
        "if (num1>=num2) and (num1>=num3):\n",
        "    largest = num1\n",
        "elif (num2>=num1) and (num2>=num3):\n",
        "    largest = num2\n",
        "else:\n",
        "    largest = num3\n",
        "\n",
        "print(\"The largest number is\", largest)\n"
      ],
      "metadata": {
        "colab": {
          "base_uri": "https://localhost:8080/"
        },
        "id": "spv-MZ9oAnrI",
        "outputId": "98eba984-4e21-41fd-c24d-ed6297ed3735"
      },
      "execution_count": 120,
      "outputs": [
        {
          "output_type": "stream",
          "name": "stdout",
          "text": [
            "Enter first number: 6\n",
            "Enter second number: 8\n",
            "Enter third number: 3\n",
            "The largest number is 8.0\n"
          ]
        }
      ]
    },
    {
      "cell_type": "code",
      "source": [
        "num1 = float(input('Enter first number: '))\n",
        "num2 = float(input('Enter second number: '))\n",
        "num3 = float(input('Enter third number: '))\n",
        "largest = num1\n",
        "if (num2>=largest) and (num2>=num3):\n",
        "    largest = num2\n",
        "elif num3>=largest:\n",
        "    largest = num3\n",
        "\n",
        "print(\"The largest number is\", largest)"
      ],
      "metadata": {
        "colab": {
          "base_uri": "https://localhost:8080/"
        },
        "id": "c53yyT0_BKND",
        "outputId": "29ac6391-5be7-434a-e010-4a791f738d07"
      },
      "execution_count": 122,
      "outputs": [
        {
          "output_type": "stream",
          "name": "stdout",
          "text": [
            "Enter first number: 8\n",
            "Enter second number: 9\n",
            "Enter third number: 6\n",
            "The largest number is 9.0\n"
          ]
        }
      ]
    },
    {
      "cell_type": "code",
      "source": [
        "num1 = float(input('Enter first number: '))\n",
        "num2 = float(input('Enter second number: '))\n",
        "num3 = float(input('Enter third number: '))\n",
        "\n",
        "print(\"The largest number is\", max(num1,num2,num3))  #Pythonic çözüm"
      ],
      "metadata": {
        "colab": {
          "base_uri": "https://localhost:8080/"
        },
        "id": "kUbxbmrQB8Rg",
        "outputId": "d20adbcf-6c99-45c9-f85d-06fc4276d67a"
      },
      "execution_count": 123,
      "outputs": [
        {
          "output_type": "stream",
          "name": "stdout",
          "text": [
            "Enter first number: 6\n",
            "Enter second number: 9\n",
            "Enter third number: 4\n",
            "The largest number is 9.0\n"
          ]
        }
      ]
    },
    {
      "cell_type": "code",
      "source": [
        "## Task : Tek satırda birden fazla girilenin max'ini bulabilirmiyiz ?\n",
        "print(\"The largest number is\", max(eval(input('Entered numbers: ')))) ##daha pythonic çözüm olabilir mi?"
      ],
      "metadata": {
        "colab": {
          "base_uri": "https://localhost:8080/"
        },
        "id": "Bi6P-cHUCnB7",
        "outputId": "d56d2354-dafb-4dbc-8f8d-94e6df0c4cd4"
      },
      "execution_count": 135,
      "outputs": [
        {
          "output_type": "stream",
          "name": "stdout",
          "text": [
            "Entered numbers: 9, 4, 6\n",
            "The largest number is 9\n"
          ]
        }
      ]
    },
    {
      "cell_type": "code",
      "source": [
        "audience_group = 'kid', 'teen', 'adult'\n",
        "audience = 'teen'\n",
        "\n",
        "if audience in audience_group:\n",
        "    if audience == 'kid':\n",
        "\t    print('it is free to go to cinema')\n",
        "    elif audience == 'teen':\n",
        "\t    print('discounted price!')\n",
        "    else: #audience == 'adult'\n",
        "\t    print('normal price')\n",
        "else:\n",
        "\tprint('No such audience, stay at your home!')"
      ],
      "metadata": {
        "colab": {
          "base_uri": "https://localhost:8080/"
        },
        "id": "V--0UaIIDP-m",
        "outputId": "000372e6-dee2-454d-9395-5d4a90e60770"
      },
      "execution_count": 125,
      "outputs": [
        {
          "output_type": "stream",
          "name": "stdout",
          "text": [
            "discounted price!\n"
          ]
        }
      ]
    },
    {
      "cell_type": "code",
      "source": [
        "##Notu harfli sisteme dönüştürme\n",
        "score = int(input(\"Enter you score:\"))\n",
        "if score>=90:\n",
        "    if score >=95:\n",
        "        letter = \"A+\"\n",
        "    else:\n",
        "        letter = \"A\"\n",
        "elif score>=80:\n",
        "    if score>=85:\n",
        "        letter = \"B+\"\n",
        "    else:\n",
        "        letter = \"B\"\n",
        "else: #B nin altı ise\n",
        "    letter = \"below B\"\n",
        "\n",
        "print(f\"Your degree {score}..: {letter}\")"
      ],
      "metadata": {
        "colab": {
          "base_uri": "https://localhost:8080/"
        },
        "id": "QktHbk1QDw5z",
        "outputId": "d2725ec5-982f-4d1a-8f8e-b2580174b02c"
      },
      "execution_count": 127,
      "outputs": [
        {
          "output_type": "stream",
          "name": "stdout",
          "text": [
            "Enter you score:89\n",
            "Your degree 89..: B+\n"
          ]
        }
      ]
    },
    {
      "cell_type": "code",
      "source": [
        "##Notu harfli sisteme dönüştürme-2\n",
        "score = int(input(\"Enter you score:\"))\n",
        "if score>=95 and score<=100:\n",
        "        letter = \"A+\"\n",
        "elif score>=90 and score<95:\n",
        "        letter = \"A\"\n",
        "elif score>=85 and score<80:\n",
        "        letter = \"B+\"\n",
        "elif score>=80 and score<85:\n",
        "        letter = \"B\"\n",
        "else: #B nin altı ise\n",
        "    letter = \"below B\"\n",
        "\n",
        "print(f\"Your degree {score}..: {letter}\")"
      ],
      "metadata": {
        "colab": {
          "base_uri": "https://localhost:8080/"
        },
        "id": "ZtF6dufvFFCC",
        "outputId": "6dcdc8da-72d7-4407-b8df-f02250ccfa95"
      },
      "execution_count": 128,
      "outputs": [
        {
          "output_type": "stream",
          "name": "stdout",
          "text": [
            "Enter you score:90\n",
            "Your degree 90..: A\n"
          ]
        }
      ]
    }
  ]
}