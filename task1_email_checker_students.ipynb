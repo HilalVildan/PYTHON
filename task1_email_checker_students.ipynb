{
 "cells": [
  {
   "cell_type": "markdown",
   "metadata": {},
   "source": [
    "\"\"\"\n",
    "Hey guys, Assignment-1:  How to check for valid email address?  \"\"\"\n",
    "Input:  ali326@clarusway.com\n",
    "Output: Valid Email\n",
    "Input: ali.hoca@clarusway.com\n",
    "Output: Valid Email\n",
    "Input: ali326.com\n",
    "Output: Invalid Email\n",
    "Input: ali.326@com\n",
    "Output: Invalid Email\n",
    "## (Not. Just use; string methods, slicing and boolean operators. Due date: 07. June. 2022)\n",
    "\"\"\""
   ]
  },
  {
   "cell_type": "code",
   "execution_count": 2,
   "metadata": {},
   "outputs": [
    {
     "name": "stdout",
     "output_type": "stream",
     "text": [
      "invalid Email\n"
     ]
    }
   ],
   "source": [
    "## @Author: Özkan bey\n",
    "e_mail = \"ali.326@edu.se\"\n",
    "indis = e_mail.find(\"@\")\n",
    "text = e_mail[indis-1:]\n",
    "print(\"@\" in text and text.endswith(\".com\") and \"valid Email\" or \"invalid Email\")"
   ]
  },
  {
   "cell_type": "code",
   "execution_count": 6,
   "metadata": {},
   "outputs": [
    {
     "name": "stdout",
     "output_type": "stream",
     "text": [
      "Wrong E-mail 3\n"
     ]
    }
   ],
   "source": [
    "## @Author: Furkan bey\n",
    "## gmail adresi baz alarak yaptim. Örnek f@gmail.com\n",
    "#email = input(\"Enter your E-mail..: \")\n",
    "email = \"ali.326@edu.com\"\n",
    "k,j,d = 0,0,0\n",
    "if len(email)>=11:\n",
    "    if email[0].isalpha():\n",
    "        if (\"@\" in email) and (email.count(\"@\"))==1:\n",
    "            if email[-4]==\".\":\n",
    "                for i in email:\n",
    "                    if i==i.isspace():\n",
    "                        k=1\n",
    "                    elif i.isalpha():\n",
    "                        if i==i.upper():\n",
    "                            j=1\n",
    "                    elif i.isdigit():\n",
    "                        continue\n",
    "                    elif i==\"_\" or i==\".\" or i==\"@\":\n",
    "                        continue\n",
    "                    else:\n",
    "                        d=1\n",
    "                if k==1 or j==1 or d==1:\n",
    "                    print(\"Wrong E-mail 5\")\n",
    "                else:\n",
    "                    print(\"Right E-Mail\")                        \n",
    "            else:\n",
    "                print(\"Wrong E-mail 4\")\n",
    "        else:\n",
    "            print(\"Wrong E-mail 3\")\n",
    "    else:\n",
    "        print(\"Wrong E-mail 2\")\n",
    "else:\n",
    "    print(\"Wrong E-mail 1\")"
   ]
  },
  {
   "cell_type": "code",
   "execution_count": 18,
   "metadata": {},
   "outputs": [
    {
     "name": "stdout",
     "output_type": "stream",
     "text": [
      "valid mail\n"
     ]
    }
   ],
   "source": [
    "## Author: Faruk Bey\n",
    "# mail = input(\"mail adresi giriniz  \")\n",
    "mail = \"al326@oru.se\"\n",
    "a = mail.find(\"@\")\n",
    "b = mail.rfind(\".\")\n",
    "print(( a < b and \"@\" in mail and \".\" in mail)and \"valid mail\" or \"invalid email\")"
   ]
  },
  {
   "cell_type": "code",
   "execution_count": 21,
   "metadata": {},
   "outputs": [
    {
     "name": "stdout",
     "output_type": "stream",
     "text": [
      "Invalid E-Mail\n"
     ]
    }
   ],
   "source": [
    "## Author: Çağatay Bey\n",
    "#email = input(\"E-Mail adresinizi giriniz :  \")\n",
    "email = \"al326oru.se\"\n",
    "x = email.find(\"@\")\n",
    "print((\"@\" in email and email.find((\".\") ,x ) > x ) and  \"Valid E-Mail\" or \"Invalid E-Mail\")"
   ]
  },
  {
   "cell_type": "code",
   "execution_count": 27,
   "metadata": {},
   "outputs": [
    {
     "name": "stdout",
     "output_type": "stream",
     "text": [
      "Valid Email\n"
     ]
    }
   ],
   "source": [
    "## Author: Özlen Bey\n",
    "# email=input(\"Enter your email\")\n",
    "email = \"al.326@oru.se\"\n",
    "reversed_email=email[::-1]\n",
    "at_number=email.find(\"@\")\n",
    "point_number=email.find(\".\")\n",
    "reversed_at=reversed_email.find(\"@\")\n",
    "reversed_number=reversed_email.find(\".\")\n",
    "print(not at_number and (at_number<point_number) or (reversed_at>reversed_number) and \"Valid Email\" or \"Invalid Email\")"
   ]
  },
  {
   "cell_type": "code",
   "execution_count": 36,
   "metadata": {},
   "outputs": [
    {
     "ename": "ValueError",
     "evalue": "substring not found",
     "output_type": "error",
     "traceback": [
      "\u001b[0;31m---------------------------------------------------------------------------\u001b[0m",
      "\u001b[0;31mValueError\u001b[0m                                Traceback (most recent call last)",
      "\u001b[1;32m/home/bull/Documents/c0h0rt_02_python_notebook_exercise/task1_email_checker_students.ipynb Cell 8'\u001b[0m in \u001b[0;36m<cell line: 4>\u001b[0;34m()\u001b[0m\n\u001b[1;32m      <a href='vscode-notebook-cell:/home/bull/Documents/c0h0rt_02_python_notebook_exercise/task1_email_checker_students.ipynb#ch0000007?line=0'>1</a>\u001b[0m \u001b[39m## Author: Halil Bey\u001b[39;00m\n\u001b[1;32m      <a href='vscode-notebook-cell:/home/bull/Documents/c0h0rt_02_python_notebook_exercise/task1_email_checker_students.ipynb#ch0000007?line=1'>2</a>\u001b[0m \u001b[39m#email = input(\"E-Mail adresinizi giriniz :  \")\u001b[39;00m\n\u001b[1;32m      <a href='vscode-notebook-cell:/home/bull/Documents/c0h0rt_02_python_notebook_exercise/task1_email_checker_students.ipynb#ch0000007?line=2'>3</a>\u001b[0m email \u001b[39m=\u001b[39m \u001b[39m\"\u001b[39m\u001b[39mal3.26orucom\u001b[39m\u001b[39m\"\u001b[39m\n\u001b[0;32m----> <a href='vscode-notebook-cell:/home/bull/Documents/c0h0rt_02_python_notebook_exercise/task1_email_checker_students.ipynb#ch0000007?line=3'>4</a>\u001b[0m mail_sign \u001b[39m=\u001b[39m email\u001b[39m.\u001b[39;49mindex(\u001b[39m\"\u001b[39;49m\u001b[39m@\u001b[39;49m\u001b[39m\"\u001b[39;49m)\n\u001b[1;32m      <a href='vscode-notebook-cell:/home/bull/Documents/c0h0rt_02_python_notebook_exercise/task1_email_checker_students.ipynb#ch0000007?line=4'>5</a>\u001b[0m punkt \u001b[39m=\u001b[39m email\u001b[39m.\u001b[39mfind(\u001b[39m'\u001b[39m\u001b[39m.\u001b[39m\u001b[39m'\u001b[39m, mail_sign)\n\u001b[1;32m      <a href='vscode-notebook-cell:/home/bull/Documents/c0h0rt_02_python_notebook_exercise/task1_email_checker_students.ipynb#ch0000007?line=5'>6</a>\u001b[0m \u001b[39mprint\u001b[39m(\u001b[39m\"\u001b[39m\u001b[39m@\u001b[39m\u001b[39m\"\u001b[39m \u001b[39min\u001b[39;00m email \u001b[39mand\u001b[39;00m \u001b[39m'\u001b[39m\u001b[39m.\u001b[39m\u001b[39m'\u001b[39m \u001b[39min\u001b[39;00m email \u001b[39mand\u001b[39;00m mail_sign\u001b[39m<\u001b[39mpunkt \u001b[39mand\u001b[39;00m  \u001b[39m\"\u001b[39m\u001b[39mValid E-Mail\u001b[39m\u001b[39m\"\u001b[39m \u001b[39mor\u001b[39;00m \u001b[39m\"\u001b[39m\u001b[39mInvalid E-Mail\u001b[39m\u001b[39m\"\u001b[39m)\n",
      "\u001b[0;31mValueError\u001b[0m: substring not found"
     ]
    }
   ],
   "source": [
    "## Author: Halil Bey\n",
    "#email = input(\"E-Mail adresinizi giriniz :  \")\n",
    "email = \"al3.26orucom\"\n",
    "mail_sign = email.index(\"@\")\n",
    "punkt = email.find('.', mail_sign)\n",
    "print(\"@\" in email and '.' in email and mail_sign<punkt and  \"Valid E-Mail\" or \"Invalid E-Mail\")"
   ]
  },
  {
   "cell_type": "code",
   "execution_count": 40,
   "metadata": {},
   "outputs": [
    {
     "name": "stdout",
     "output_type": "stream",
     "text": [
      "Invalid e-mail adress\n"
     ]
    }
   ],
   "source": [
    "## Author: Sinan Bey\n",
    "#e_mail = input(\"Please enter your e-mail adress: \")\n",
    "e_mail = \"al3.26@oru.se\"\n",
    "print(e_mail.endswith(\".com\") and \"@\" in e_mail and \"Valid e-mail adress\" or \"Invalid e-mail adress\")"
   ]
  },
  {
   "cell_type": "code",
   "execution_count": 5,
   "metadata": {},
   "outputs": [
    {
     "name": "stdout",
     "output_type": "stream",
     "text": [
      "6\n",
      "edu.se\n",
      "3\n",
      "gecerli bir eposta adresidir\n"
     ]
    }
   ],
   "source": [
    "# @ Author: Güler Hanım\n",
    "#Eposta= input(\"bir eposta adresi giriniz..:\")\n",
    "Eposta = \"ali326@edu.se\"\n",
    "index = Eposta.find(\"@\")\n",
    "print(index)\n",
    "tag = Eposta[index+1:]\n",
    "print(tag)\n",
    "index2 = tag.find(\".\")\n",
    "print(index2)\n",
    "print((index>-1 and index2>-1) and \"gecerli bir eposta adresidir\" or \"gecerli bir eposta adresi degildir\")"
   ]
  },
  {
   "cell_type": "code",
   "execution_count": null,
   "metadata": {},
   "outputs": [],
   "source": [
    "# Author: Bulend Hoca\n",
    "# e_mail = input(\"e-mail adresi..:\")\n",
    "e_mail = \"ali326edu.com\"\n",
    "indis = e_mail.find(\"@\")\n",
    "back_mail = e_mail[indis+1:]\n",
    "checker = \"@\" in e_mail and \".\" in back_mail\n",
    "print(checker and \"valid Email\" or \"invalid Email\")"
   ]
  }
 ],
 "metadata": {
  "interpreter": {
   "hash": "916dbcbb3f70747c44a77c7bcd40155683ae19c65e1c03b4aa3499c5328201f1"
  },
  "kernelspec": {
   "display_name": "Python 3.8.10 64-bit",
   "language": "python",
   "name": "python3"
  },
  "language_info": {
   "codemirror_mode": {
    "name": "ipython",
    "version": 3
   },
   "file_extension": ".py",
   "mimetype": "text/x-python",
   "name": "python",
   "nbconvert_exporter": "python",
   "pygments_lexer": "ipython3",
   "version": "3.8.10"
  },
  "orig_nbformat": 4
 },
 "nbformat": 4,
 "nbformat_minor": 2
}
