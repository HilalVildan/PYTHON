{
  "nbformat": 4,
  "nbformat_minor": 0,
  "metadata": {
    "colab": {
      "name": "python_notebook_session3.ipynb",
      "provenance": []
    },
    "kernelspec": {
      "name": "python3",
      "display_name": "Python 3"
    },
    "language_info": {
      "name": "python"
    }
  },
  "cells": [
    {
      "cell_type": "markdown",
      "source": [
        "**Python Basic: Session-3: Inst.:@Bülend**"
      ],
      "metadata": {
        "id": "xp701SX2m42k"
      }
    },
    {
      "cell_type": "code",
      "source": [
        "print(\"foo\"\"bar\")"
      ],
      "metadata": {
        "colab": {
          "base_uri": "https://localhost:8080/"
        },
        "id": "iC3Oon1_7G6v",
        "outputId": "ba8ec71a-48a0-413b-e034-04020465aa97"
      },
      "execution_count": 1,
      "outputs": [
        {
          "output_type": "stream",
          "name": "stdout",
          "text": [
            "foobar\n"
          ]
        }
      ]
    },
    {
      "cell_type": "code",
      "source": [
        "print(\"\"\"foo'bar\"\"\")"
      ],
      "metadata": {
        "colab": {
          "base_uri": "https://localhost:8080/"
        },
        "id": "0xioXnkR7Vo9",
        "outputId": "0fce1dbc-f16b-4f58-8400-9e26b42fab4c"
      },
      "execution_count": 2,
      "outputs": [
        {
          "output_type": "stream",
          "name": "stdout",
          "text": [
            "foo'bar\n"
          ]
        }
      ]
    },
    {
      "cell_type": "code",
      "source": [
        "print(\"foo'bar\")"
      ],
      "metadata": {
        "colab": {
          "base_uri": "https://localhost:8080/"
        },
        "id": "MOYNqoQc7dPE",
        "outputId": "e75a5ec3-e4f9-4de0-e28e-c61a543ad885"
      },
      "execution_count": 3,
      "outputs": [
        {
          "output_type": "stream",
          "name": "stdout",
          "text": [
            "foo'bar\n"
          ]
        }
      ]
    },
    {
      "cell_type": "code",
      "source": [
        "print('foo\\'bar')"
      ],
      "metadata": {
        "colab": {
          "base_uri": "https://localhost:8080/"
        },
        "id": "HUZzE1oz7iu2",
        "outputId": "0b9e09fb-903e-4bd8-8243-19a6488abae4"
      },
      "execution_count": 4,
      "outputs": [
        {
          "output_type": "stream",
          "name": "stdout",
          "text": [
            "foo'bar\n"
          ]
        }
      ]
    },
    {
      "cell_type": "code",
      "source": [
        "s = '3.5j'\n",
        "print(type(s))"
      ],
      "metadata": {
        "colab": {
          "base_uri": "https://localhost:8080/"
        },
        "id": "Twx3QHlTnBxy",
        "outputId": "d25ba3d0-64b7-4ebc-d862-175fbf908afe"
      },
      "execution_count": 5,
      "outputs": [
        {
          "output_type": "stream",
          "name": "stdout",
          "text": [
            "<class 'str'>\n"
          ]
        }
      ]
    },
    {
      "cell_type": "code",
      "source": [
        "s = 3.5j\n",
        "print(type(s))"
      ],
      "metadata": {
        "colab": {
          "base_uri": "https://localhost:8080/"
        },
        "id": "gL2zy8gx8Azs",
        "outputId": "016bc247-2933-4847-c05d-d9fbf567e06e"
      },
      "execution_count": 6,
      "outputs": [
        {
          "output_type": "stream",
          "name": "stdout",
          "text": [
            "<class 'complex'>\n"
          ]
        }
      ]
    },
    {
      "cell_type": "code",
      "source": [
        "s = 3+5j\n",
        "print(type(s))"
      ],
      "metadata": {
        "colab": {
          "base_uri": "https://localhost:8080/"
        },
        "id": "2McnoUkt8D-4",
        "outputId": "b930292d-18d7-4b55-c1ec-4b882ab39129"
      },
      "execution_count": 7,
      "outputs": [
        {
          "output_type": "stream",
          "name": "stdout",
          "text": [
            "<class 'complex'>\n"
          ]
        }
      ]
    },
    {
      "cell_type": "code",
      "source": [
        "s.imag"
      ],
      "metadata": {
        "colab": {
          "base_uri": "https://localhost:8080/"
        },
        "id": "5Cf_tTFZ8Ju6",
        "outputId": "aa452579-9cc5-42c4-fbe1-91882b73d987"
      },
      "execution_count": 9,
      "outputs": [
        {
          "output_type": "execute_result",
          "data": {
            "text/plain": [
              "5.0"
            ]
          },
          "metadata": {},
          "execution_count": 9
        }
      ]
    },
    {
      "cell_type": "code",
      "source": [
        "s.real"
      ],
      "metadata": {
        "colab": {
          "base_uri": "https://localhost:8080/"
        },
        "id": "J_po4XAh8Np4",
        "outputId": "25b6be15-7c83-4a16-f56e-9e2c41c4dc8e"
      },
      "execution_count": 10,
      "outputs": [
        {
          "output_type": "execute_result",
          "data": {
            "text/plain": [
              "3.0"
            ]
          },
          "metadata": {},
          "execution_count": 10
        }
      ]
    },
    {
      "cell_type": "code",
      "source": [
        "s1 = 1001\n",
        "print(type(s1))"
      ],
      "metadata": {
        "colab": {
          "base_uri": "https://localhost:8080/"
        },
        "id": "fJTJMhoQ8ZD1",
        "outputId": "446cd11c-2ce7-472a-9f05-279038e295d4"
      },
      "execution_count": 12,
      "outputs": [
        {
          "output_type": "stream",
          "name": "stdout",
          "text": [
            "<class 'int'>\n"
          ]
        }
      ]
    },
    {
      "cell_type": "code",
      "source": [
        "s1 = \"1001\"\n",
        "print(type(s1))"
      ],
      "metadata": {
        "colab": {
          "base_uri": "https://localhost:8080/"
        },
        "id": "tr6ektrw8gMl",
        "outputId": "dfa2d406-a457-4e00-f19e-a5dc6605fd5a"
      },
      "execution_count": 13,
      "outputs": [
        {
          "output_type": "stream",
          "name": "stdout",
          "text": [
            "<class 'str'>\n"
          ]
        }
      ]
    },
    {
      "cell_type": "code",
      "source": [
        "s2 = 5.0\n",
        "print(type(s2))"
      ],
      "metadata": {
        "colab": {
          "base_uri": "https://localhost:8080/"
        },
        "id": "Z6WNrL3S83jf",
        "outputId": "574632ea-94de-4a16-d749-c51a6dff92be"
      },
      "execution_count": 14,
      "outputs": [
        {
          "output_type": "stream",
          "name": "stdout",
          "text": [
            "<class 'float'>\n"
          ]
        }
      ]
    },
    {
      "cell_type": "code",
      "source": [
        "s2 = 50\n",
        "print(type(s2))"
      ],
      "metadata": {
        "colab": {
          "base_uri": "https://localhost:8080/"
        },
        "id": "odel7lZi88vb",
        "outputId": "1e681bb3-cb72-4ec8-b2bd-8c26c6bca20d"
      },
      "execution_count": 15,
      "outputs": [
        {
          "output_type": "stream",
          "name": "stdout",
          "text": [
            "<class 'int'>\n"
          ]
        }
      ]
    },
    {
      "cell_type": "code",
      "source": [
        "s2 = float(50)\n",
        "print(type(s2))"
      ],
      "metadata": {
        "colab": {
          "base_uri": "https://localhost:8080/"
        },
        "id": "oQUY0pMM9BZg",
        "outputId": "c5b909db-abdb-4e40-e2a4-0b91f9031b27"
      },
      "execution_count": 16,
      "outputs": [
        {
          "output_type": "stream",
          "name": "stdout",
          "text": [
            "<class 'float'>\n"
          ]
        }
      ]
    },
    {
      "cell_type": "code",
      "source": [
        "a = None  # NaN, null, boş veri\n",
        "print(type(a))"
      ],
      "metadata": {
        "colab": {
          "base_uri": "https://localhost:8080/"
        },
        "id": "ev2P5AA29VpN",
        "outputId": "afd7d6d2-4acf-4b3e-8807-46a0697a2af9"
      },
      "execution_count": 17,
      "outputs": [
        {
          "output_type": "stream",
          "name": "stdout",
          "text": [
            "<class 'NoneType'>\n"
          ]
        }
      ]
    },
    {
      "cell_type": "code",
      "source": [
        "print(bool(1))  #\n",
        "print(bool(5))\n",
        "print(bool(5.5))\n",
        "print(bool('...'))\n",
        "print('------------')\n",
        "print(bool(None))  # None\n",
        "print(bool(''))    # içi boş string\n",
        "print(bool(\"\"))    # \n",
        "print(bool(0))     # sıfır"
      ],
      "metadata": {
        "id": "jFzT4Ipn1iwN",
        "colab": {
          "base_uri": "https://localhost:8080/"
        },
        "outputId": "4176a107-1305-4634-9967-b4c3109a9839"
      },
      "execution_count": 18,
      "outputs": [
        {
          "output_type": "stream",
          "name": "stdout",
          "text": [
            "True\n",
            "True\n",
            "True\n",
            "True\n",
            "------------\n",
            "False\n",
            "False\n",
            "False\n",
            "False\n"
          ]
        }
      ]
    },
    {
      "cell_type": "code",
      "source": [
        "bool(null)  #SQL: null un Python eşdeğeri: None "
      ],
      "metadata": {
        "colab": {
          "base_uri": "https://localhost:8080/",
          "height": 166
        },
        "id": "XvjbWEho_VyQ",
        "outputId": "78cd0079-6021-4337-ae37-5d2bfec725a2"
      },
      "execution_count": 19,
      "outputs": [
        {
          "output_type": "error",
          "ename": "NameError",
          "evalue": "ignored",
          "traceback": [
            "\u001b[0;31m---------------------------------------------------------------------------\u001b[0m",
            "\u001b[0;31mNameError\u001b[0m                                 Traceback (most recent call last)",
            "\u001b[0;32m<ipython-input-19-d10f2c52cdaa>\u001b[0m in \u001b[0;36m<module>\u001b[0;34m()\u001b[0m\n\u001b[0;32m----> 1\u001b[0;31m \u001b[0mbool\u001b[0m\u001b[0;34m(\u001b[0m\u001b[0mnull\u001b[0m\u001b[0;34m)\u001b[0m\u001b[0;34m\u001b[0m\u001b[0;34m\u001b[0m\u001b[0m\n\u001b[0m",
            "\u001b[0;31mNameError\u001b[0m: name 'null' is not defined"
          ]
        }
      ]
    },
    {
      "cell_type": "code",
      "source": [
        "bool(None)"
      ],
      "metadata": {
        "colab": {
          "base_uri": "https://localhost:8080/"
        },
        "id": "ibAFnRHU_jj1",
        "outputId": "1c3e5c53-82ce-4f50-cee5-d4b6fcf4c11b"
      },
      "execution_count": 20,
      "outputs": [
        {
          "output_type": "execute_result",
          "data": {
            "text/plain": [
              "False"
            ]
          },
          "metadata": {},
          "execution_count": 20
        }
      ]
    },
    {
      "cell_type": "code",
      "source": [
        "bool(zero)"
      ],
      "metadata": {
        "colab": {
          "base_uri": "https://localhost:8080/",
          "height": 166
        },
        "id": "OJzCEVFf_q2a",
        "outputId": "24da5b97-13c7-46d3-d9e2-484d0957cf26"
      },
      "execution_count": 21,
      "outputs": [
        {
          "output_type": "error",
          "ename": "NameError",
          "evalue": "ignored",
          "traceback": [
            "\u001b[0;31m---------------------------------------------------------------------------\u001b[0m",
            "\u001b[0;31mNameError\u001b[0m                                 Traceback (most recent call last)",
            "\u001b[0;32m<ipython-input-21-7914b8689a67>\u001b[0m in \u001b[0;36m<module>\u001b[0;34m()\u001b[0m\n\u001b[0;32m----> 1\u001b[0;31m \u001b[0mbool\u001b[0m\u001b[0;34m(\u001b[0m\u001b[0mzero\u001b[0m\u001b[0;34m)\u001b[0m\u001b[0;34m\u001b[0m\u001b[0;34m\u001b[0m\u001b[0m\n\u001b[0m",
            "\u001b[0;31mNameError\u001b[0m: name 'zero' is not defined"
          ]
        }
      ]
    },
    {
      "cell_type": "code",
      "source": [
        "zero = 0\n",
        "bool(zero)"
      ],
      "metadata": {
        "colab": {
          "base_uri": "https://localhost:8080/"
        },
        "id": "SkNU2l3y_x6m",
        "outputId": "744272c1-b5e2-4ea5-f50b-7d36fa621ebc"
      },
      "execution_count": 22,
      "outputs": [
        {
          "output_type": "execute_result",
          "data": {
            "text/plain": [
              "False"
            ]
          },
          "metadata": {},
          "execution_count": 22
        }
      ]
    },
    {
      "cell_type": "code",
      "source": [
        "z = 3 + 5j  \n",
        "print(type(z)) \n",
        "# z.real\n",
        "# z.imag"
      ],
      "metadata": {
        "id": "kiftDQG51weL",
        "colab": {
          "base_uri": "https://localhost:8080/"
        },
        "outputId": "d8ac75fb-e9cc-4d52-e31c-a3f1a5e8164e"
      },
      "execution_count": 23,
      "outputs": [
        {
          "output_type": "stream",
          "name": "stdout",
          "text": [
            "<class 'complex'>\n"
          ]
        }
      ]
    },
    {
      "cell_type": "code",
      "source": [
        "print(type(3.5j))"
      ],
      "metadata": {
        "id": "ypi5Eji51y_D",
        "colab": {
          "base_uri": "https://localhost:8080/"
        },
        "outputId": "f057ca49-3b57-4d95-a1c9-76acab0a1993"
      },
      "execution_count": 24,
      "outputs": [
        {
          "output_type": "stream",
          "name": "stdout",
          "text": [
            "<class 'complex'>\n"
          ]
        }
      ]
    },
    {
      "cell_type": "code",
      "source": [
        "print(type(3,5j))"
      ],
      "metadata": {
        "colab": {
          "base_uri": "https://localhost:8080/",
          "height": 166
        },
        "id": "us0FTYkDAKOm",
        "outputId": "53315f6b-eb7a-406c-d6db-342d871ada6e"
      },
      "execution_count": 25,
      "outputs": [
        {
          "output_type": "error",
          "ename": "TypeError",
          "evalue": "ignored",
          "traceback": [
            "\u001b[0;31m---------------------------------------------------------------------------\u001b[0m",
            "\u001b[0;31mTypeError\u001b[0m                                 Traceback (most recent call last)",
            "\u001b[0;32m<ipython-input-25-0b1ee82b4ec2>\u001b[0m in \u001b[0;36m<module>\u001b[0;34m()\u001b[0m\n\u001b[0;32m----> 1\u001b[0;31m \u001b[0mprint\u001b[0m\u001b[0;34m(\u001b[0m\u001b[0mtype\u001b[0m\u001b[0;34m(\u001b[0m\u001b[0;36m3\u001b[0m\u001b[0;34m,\u001b[0m\u001b[0;36m5j\u001b[0m\u001b[0;34m)\u001b[0m\u001b[0;34m)\u001b[0m\u001b[0;34m\u001b[0m\u001b[0;34m\u001b[0m\u001b[0m\n\u001b[0m",
            "\u001b[0;31mTypeError\u001b[0m: type() takes 1 or 3 arguments"
          ]
        }
      ]
    },
    {
      "cell_type": "code",
      "source": [
        "#How would you express the constant floating-point value 3.2 × 10-12 in Python:\n",
        "flt_a = 3.2 × 10-12\n",
        "print(flt_a)"
      ],
      "metadata": {
        "colab": {
          "base_uri": "https://localhost:8080/",
          "height": 131
        },
        "id": "IF2JPoF8ANrO",
        "outputId": "78746509-c0aa-4a2c-c454-0d8e924ffafc"
      },
      "execution_count": 26,
      "outputs": [
        {
          "output_type": "error",
          "ename": "SyntaxError",
          "evalue": "ignored",
          "traceback": [
            "\u001b[0;36m  File \u001b[0;32m\"<ipython-input-26-43d17c521352>\"\u001b[0;36m, line \u001b[0;32m2\u001b[0m\n\u001b[0;31m    flt_a = 3.2 × 10-12\u001b[0m\n\u001b[0m                ^\u001b[0m\n\u001b[0;31mSyntaxError\u001b[0m\u001b[0;31m:\u001b[0m invalid character in identifier\n"
          ]
        }
      ]
    },
    {
      "cell_type": "code",
      "source": [
        "#How would you express the constant floating-point value 3.2 × 10^-12 in Python:\n",
        "flt_a = 3.2 * 10**-12\n",
        "print(flt_a)"
      ],
      "metadata": {
        "colab": {
          "base_uri": "https://localhost:8080/"
        },
        "id": "eMgxPQZJA1xU",
        "outputId": "8b57ad1f-8c75-4a60-df94-701d65f889ce"
      },
      "execution_count": 27,
      "outputs": [
        {
          "output_type": "stream",
          "name": "stdout",
          "text": [
            "3.2e-12\n"
          ]
        }
      ]
    },
    {
      "cell_type": "code",
      "source": [
        "flt_a = 3.2e-12\n",
        "print(flt_a)"
      ],
      "metadata": {
        "colab": {
          "base_uri": "https://localhost:8080/"
        },
        "id": "fZI22kYYA8GF",
        "outputId": "80cfdc96-5f69-459a-a9d8-f1d131ded125"
      },
      "execution_count": 28,
      "outputs": [
        {
          "output_type": "stream",
          "name": "stdout",
          "text": [
            "3.2e-12\n"
          ]
        }
      ]
    },
    {
      "cell_type": "code",
      "source": [
        "# Bilgisayar da binary, octal, hexadecimal sayı sistemi\n",
        "sayi = 65\n",
        "print(sayi)\n"
      ],
      "metadata": {
        "colab": {
          "base_uri": "https://localhost:8080/"
        },
        "id": "A_O9SqNpBZEM",
        "outputId": "cb4350fd-93a2-4771-f67f-1aac10e5a7d6"
      },
      "execution_count": 30,
      "outputs": [
        {
          "output_type": "stream",
          "name": "stdout",
          "text": [
            "65\n"
          ]
        }
      ]
    },
    {
      "cell_type": "code",
      "source": [
        "print(bin(sayi))  ## binary (ikili)"
      ],
      "metadata": {
        "colab": {
          "base_uri": "https://localhost:8080/"
        },
        "id": "Ud8lpPU4EfsQ",
        "outputId": "7dbc4bff-ef5c-4b17-eb58-bdb4e1e0febd"
      },
      "execution_count": 31,
      "outputs": [
        {
          "output_type": "stream",
          "name": "stdout",
          "text": [
            "0b1000001\n"
          ]
        }
      ]
    },
    {
      "cell_type": "code",
      "source": [
        "print(f\"65 sayısının ikili karşılığı..:{sayi:0b}\")"
      ],
      "metadata": {
        "colab": {
          "base_uri": "https://localhost:8080/"
        },
        "id": "Lx4oFnaBFNix",
        "outputId": "a1497d14-020e-428e-a6b2-9fdd05d30ebd"
      },
      "execution_count": 36,
      "outputs": [
        {
          "output_type": "stream",
          "name": "stdout",
          "text": [
            "65 sayısının ikili karşılığı..:1000001\n"
          ]
        }
      ]
    },
    {
      "cell_type": "code",
      "source": [
        "print(oct(sayi))  ## octal (sekizli)"
      ],
      "metadata": {
        "colab": {
          "base_uri": "https://localhost:8080/"
        },
        "id": "gyoB_3-1EoDq",
        "outputId": "318f2eb6-3b01-48b1-82e3-ad17449466d4"
      },
      "execution_count": 32,
      "outputs": [
        {
          "output_type": "stream",
          "name": "stdout",
          "text": [
            "0o101\n"
          ]
        }
      ]
    },
    {
      "cell_type": "code",
      "source": [
        "print(f\"65 sayısının octal karşılığı..:{sayi:0o}\")"
      ],
      "metadata": {
        "colab": {
          "base_uri": "https://localhost:8080/"
        },
        "id": "dFkrx9bpFgSl",
        "outputId": "b02b26dd-6597-4e1f-dccb-1a6893094620"
      },
      "execution_count": 37,
      "outputs": [
        {
          "output_type": "stream",
          "name": "stdout",
          "text": [
            "65 sayısının octal karşılığı..:101\n"
          ]
        }
      ]
    },
    {
      "cell_type": "code",
      "source": [
        "print(hex(sayi))  ## hexadecimal(onaltılı)"
      ],
      "metadata": {
        "colab": {
          "base_uri": "https://localhost:8080/"
        },
        "id": "bZ-9YpItEzdR",
        "outputId": "01106ee3-9d68-42b5-9375-03053dc3ae26"
      },
      "execution_count": 33,
      "outputs": [
        {
          "output_type": "stream",
          "name": "stdout",
          "text": [
            "0x41\n"
          ]
        }
      ]
    },
    {
      "cell_type": "code",
      "source": [
        "print(f\"65 sayısının hex karşılığı..:{sayi:0x}\")"
      ],
      "metadata": {
        "colab": {
          "base_uri": "https://localhost:8080/"
        },
        "id": "4-GxPGmcFllQ",
        "outputId": "6b19c153-eb46-440a-8349-b181666c08a7"
      },
      "execution_count": 38,
      "outputs": [
        {
          "output_type": "stream",
          "name": "stdout",
          "text": [
            "65 sayısının hex karşılığı..:41\n"
          ]
        }
      ]
    },
    {
      "cell_type": "code",
      "source": [
        "bin_sayi = 0b1000001\n",
        "print(bin_sayi)"
      ],
      "metadata": {
        "colab": {
          "base_uri": "https://localhost:8080/"
        },
        "id": "WGKehFNjE71q",
        "outputId": "ea092af2-f53b-436a-8e85-fb7f05adf580"
      },
      "execution_count": 34,
      "outputs": [
        {
          "output_type": "stream",
          "name": "stdout",
          "text": [
            "65\n"
          ]
        }
      ]
    },
    {
      "cell_type": "code",
      "source": [
        "hex_sayi = 0x41\n",
        "print(hex_sayi)"
      ],
      "metadata": {
        "colab": {
          "base_uri": "https://localhost:8080/"
        },
        "id": "dqd-jdB6FDqg",
        "outputId": "81386a01-41f2-4406-9979-b9d41388e5bb"
      },
      "execution_count": 35,
      "outputs": [
        {
          "output_type": "stream",
          "name": "stdout",
          "text": [
            "65\n"
          ]
        }
      ]
    },
    {
      "cell_type": "code",
      "source": [
        "print(11-7)\n",
        "print(4 + 11.0)\n",
        "print('11-7')\n",
        "print('4'+4)"
      ],
      "metadata": {
        "colab": {
          "base_uri": "https://localhost:8080/",
          "height": 253
        },
        "id": "kz-skFGKHBYv",
        "outputId": "0df52105-8bc1-482e-c6b6-29379b04e5d6"
      },
      "execution_count": 39,
      "outputs": [
        {
          "output_type": "stream",
          "name": "stdout",
          "text": [
            "4\n",
            "15.0\n",
            "11-7\n"
          ]
        },
        {
          "output_type": "error",
          "ename": "TypeError",
          "evalue": "ignored",
          "traceback": [
            "\u001b[0;31m---------------------------------------------------------------------------\u001b[0m",
            "\u001b[0;31mTypeError\u001b[0m                                 Traceback (most recent call last)",
            "\u001b[0;32m<ipython-input-39-203c9f9b7c05>\u001b[0m in \u001b[0;36m<module>\u001b[0;34m()\u001b[0m\n\u001b[1;32m      2\u001b[0m \u001b[0mprint\u001b[0m\u001b[0;34m(\u001b[0m\u001b[0;36m4\u001b[0m \u001b[0;34m+\u001b[0m \u001b[0;36m11.0\u001b[0m\u001b[0;34m)\u001b[0m\u001b[0;34m\u001b[0m\u001b[0;34m\u001b[0m\u001b[0m\n\u001b[1;32m      3\u001b[0m \u001b[0mprint\u001b[0m\u001b[0;34m(\u001b[0m\u001b[0;34m'11-7'\u001b[0m\u001b[0;34m)\u001b[0m\u001b[0;34m\u001b[0m\u001b[0;34m\u001b[0m\u001b[0m\n\u001b[0;32m----> 4\u001b[0;31m \u001b[0mprint\u001b[0m\u001b[0;34m(\u001b[0m\u001b[0;34m'4'\u001b[0m\u001b[0;34m+\u001b[0m\u001b[0;36m4\u001b[0m\u001b[0;34m)\u001b[0m\u001b[0;34m\u001b[0m\u001b[0;34m\u001b[0m\u001b[0m\n\u001b[0m",
            "\u001b[0;31mTypeError\u001b[0m: can only concatenate str (not \"int\") to str"
          ]
        }
      ]
    },
    {
      "cell_type": "code",
      "source": [
        "print(11-7)\n",
        "print(4 + 11.0)\n",
        "print('4'+4)\n",
        "print('11-7')\n"
      ],
      "metadata": {
        "colab": {
          "base_uri": "https://localhost:8080/",
          "height": 253
        },
        "id": "clP_X4_mHaOq",
        "outputId": "509f6d6c-de60-4e34-eec2-0d00218e143f"
      },
      "execution_count": 40,
      "outputs": [
        {
          "output_type": "stream",
          "name": "stdout",
          "text": [
            "4\n",
            "15.0\n"
          ]
        },
        {
          "output_type": "error",
          "ename": "TypeError",
          "evalue": "ignored",
          "traceback": [
            "\u001b[0;31m---------------------------------------------------------------------------\u001b[0m",
            "\u001b[0;31mTypeError\u001b[0m                                 Traceback (most recent call last)",
            "\u001b[0;32m<ipython-input-40-3f6fa1fab959>\u001b[0m in \u001b[0;36m<module>\u001b[0;34m()\u001b[0m\n\u001b[1;32m      1\u001b[0m \u001b[0mprint\u001b[0m\u001b[0;34m(\u001b[0m\u001b[0;36m11\u001b[0m\u001b[0;34m-\u001b[0m\u001b[0;36m7\u001b[0m\u001b[0;34m)\u001b[0m\u001b[0;34m\u001b[0m\u001b[0;34m\u001b[0m\u001b[0m\n\u001b[1;32m      2\u001b[0m \u001b[0mprint\u001b[0m\u001b[0;34m(\u001b[0m\u001b[0;36m4\u001b[0m \u001b[0;34m+\u001b[0m \u001b[0;36m11.0\u001b[0m\u001b[0;34m)\u001b[0m\u001b[0;34m\u001b[0m\u001b[0;34m\u001b[0m\u001b[0m\n\u001b[0;32m----> 3\u001b[0;31m \u001b[0mprint\u001b[0m\u001b[0;34m(\u001b[0m\u001b[0;34m'4'\u001b[0m\u001b[0;34m+\u001b[0m\u001b[0;36m4\u001b[0m\u001b[0;34m)\u001b[0m\u001b[0;34m\u001b[0m\u001b[0;34m\u001b[0m\u001b[0m\n\u001b[0m\u001b[1;32m      4\u001b[0m \u001b[0mprint\u001b[0m\u001b[0;34m(\u001b[0m\u001b[0;34m'11-7'\u001b[0m\u001b[0;34m)\u001b[0m\u001b[0;34m\u001b[0m\u001b[0;34m\u001b[0m\u001b[0m\n",
            "\u001b[0;31mTypeError\u001b[0m: can only concatenate str (not \"int\") to str"
          ]
        }
      ]
    },
    {
      "cell_type": "code",
      "source": [
        "print(11-7)\n",
        "print('4' + 11.0)\n",
        "print('4'+ str(4))\n",
        "print('11-7')"
      ],
      "metadata": {
        "colab": {
          "base_uri": "https://localhost:8080/",
          "height": 236
        },
        "id": "yOcR8212Hn5P",
        "outputId": "03e06d8b-c588-453c-f49c-db9e3b1ea89b"
      },
      "execution_count": 42,
      "outputs": [
        {
          "output_type": "stream",
          "name": "stdout",
          "text": [
            "4\n"
          ]
        },
        {
          "output_type": "error",
          "ename": "TypeError",
          "evalue": "ignored",
          "traceback": [
            "\u001b[0;31m---------------------------------------------------------------------------\u001b[0m",
            "\u001b[0;31mTypeError\u001b[0m                                 Traceback (most recent call last)",
            "\u001b[0;32m<ipython-input-42-c5593e8c73b8>\u001b[0m in \u001b[0;36m<module>\u001b[0;34m()\u001b[0m\n\u001b[1;32m      1\u001b[0m \u001b[0mprint\u001b[0m\u001b[0;34m(\u001b[0m\u001b[0;36m11\u001b[0m\u001b[0;34m-\u001b[0m\u001b[0;36m7\u001b[0m\u001b[0;34m)\u001b[0m\u001b[0;34m\u001b[0m\u001b[0;34m\u001b[0m\u001b[0m\n\u001b[0;32m----> 2\u001b[0;31m \u001b[0mprint\u001b[0m\u001b[0;34m(\u001b[0m\u001b[0;34m'4'\u001b[0m \u001b[0;34m+\u001b[0m \u001b[0;36m11.0\u001b[0m\u001b[0;34m)\u001b[0m\u001b[0;34m\u001b[0m\u001b[0;34m\u001b[0m\u001b[0m\n\u001b[0m\u001b[1;32m      3\u001b[0m \u001b[0mprint\u001b[0m\u001b[0;34m(\u001b[0m\u001b[0;34m'4'\u001b[0m\u001b[0;34m+\u001b[0m \u001b[0mstr\u001b[0m\u001b[0;34m(\u001b[0m\u001b[0;36m4\u001b[0m\u001b[0;34m)\u001b[0m\u001b[0;34m)\u001b[0m\u001b[0;34m\u001b[0m\u001b[0;34m\u001b[0m\u001b[0m\n\u001b[1;32m      4\u001b[0m \u001b[0mprint\u001b[0m\u001b[0;34m(\u001b[0m\u001b[0;34m'11-7'\u001b[0m\u001b[0;34m)\u001b[0m\u001b[0;34m\u001b[0m\u001b[0;34m\u001b[0m\u001b[0m\n",
            "\u001b[0;31mTypeError\u001b[0m: can only concatenate str (not \"float\") to str"
          ]
        }
      ]
    },
    {
      "cell_type": "code",
      "source": [
        "r = 5\n",
        "PI = 3.14  #3,14 şeklinde virgül kullanılmaz\n",
        "area = PI * r**2  ##r**r şeklinde kullanılmaz ama r*r\n",
        "print(\"Circle area..:\", area)"
      ],
      "metadata": {
        "colab": {
          "base_uri": "https://localhost:8080/"
        },
        "id": "f6WL5zdBJZMv",
        "outputId": "6da38252-e90b-4eae-9a34-755934ffbbb5"
      },
      "execution_count": 43,
      "outputs": [
        {
          "output_type": "stream",
          "name": "stdout",
          "text": [
            "Circle area..: 78.5\n"
          ]
        }
      ]
    },
    {
      "cell_type": "code",
      "source": [
        "print(2**3)\n",
        "print(3**2)\n",
        "a = 2\n",
        "b = 8\n",
        "print((a*b)**0.5)  ## karekök alma\n"
      ],
      "metadata": {
        "colab": {
          "base_uri": "https://localhost:8080/"
        },
        "id": "Z5zDarRsKcl3",
        "outputId": "575e0b4a-23c6-40b7-be8e-663b8426c169"
      },
      "execution_count": 45,
      "outputs": [
        {
          "output_type": "stream",
          "name": "stdout",
          "text": [
            "8\n",
            "9\n",
            "4.0\n"
          ]
        }
      ]
    },
    {
      "cell_type": "code",
      "source": [
        "## Karekök alma a**0.5 yerine fonksiyon kullanılabilir\n",
        "import math\n",
        "a = 2\n",
        "b = 8\n",
        "print(math.sqrt(a*b))  ## karekök alma"
      ],
      "metadata": {
        "colab": {
          "base_uri": "https://localhost:8080/"
        },
        "id": "ebMegwXRK33K",
        "outputId": "575b9a99-d3b4-4b5d-92b4-5c372f31997f"
      },
      "execution_count": 47,
      "outputs": [
        {
          "output_type": "stream",
          "name": "stdout",
          "text": [
            "4.0\n"
          ]
        }
      ]
    },
    {
      "cell_type": "code",
      "source": [
        "## pow üs alma fonksiyonu kullanılabilir;\n",
        "a = 2\n",
        "b = 8\n",
        "print(pow((a*b),0.5)  ## karekök alma"
      ],
      "metadata": {
        "colab": {
          "base_uri": "https://localhost:8080/",
          "height": 131
        },
        "id": "xzbC5KrOLRc6",
        "outputId": "bb518167-65b6-40d3-84d7-589f2053a8c0"
      },
      "execution_count": 48,
      "outputs": [
        {
          "output_type": "error",
          "ename": "SyntaxError",
          "evalue": "ignored",
          "traceback": [
            "\u001b[0;36m  File \u001b[0;32m\"<ipython-input-48-cdc6327025b6>\"\u001b[0;36m, line \u001b[0;32m4\u001b[0m\n\u001b[0;31m    print(pow((a*b),0.5)  ## karekök alma\u001b[0m\n\u001b[0m                                         ^\u001b[0m\n\u001b[0;31mSyntaxError\u001b[0m\u001b[0;31m:\u001b[0m unexpected EOF while parsing\n"
          ]
        }
      ]
    },
    {
      "cell_type": "code",
      "source": [
        "## pow üs alma fonksiyonu kullanılabilir;\n",
        "a = 2\n",
        "b = 8\n",
        "print(pow((a*b),0.5))  ## karekök alma"
      ],
      "metadata": {
        "colab": {
          "base_uri": "https://localhost:8080/"
        },
        "id": "kUDy7NjHLfXt",
        "outputId": "5f4340db-151f-4f34-aa18-5eed3822b93e"
      },
      "execution_count": 49,
      "outputs": [
        {
          "output_type": "stream",
          "name": "stdout",
          "text": [
            "4.0\n"
          ]
        }
      ]
    },
    {
      "cell_type": "code",
      "source": [
        "a += 3 ## a = a + 3\n",
        "a %=2  ## a = a % 2"
      ],
      "metadata": {
        "id": "YZDJm-a4L98D"
      },
      "execution_count": null,
      "outputs": []
    },
    {
      "cell_type": "code",
      "source": [
        "print(9%4)"
      ],
      "metadata": {
        "colab": {
          "base_uri": "https://localhost:8080/"
        },
        "id": "ooWK8b4NMOyW",
        "outputId": "014c718f-e835-4d79-930a-d8518a9c88d2"
      },
      "execution_count": 50,
      "outputs": [
        {
          "output_type": "stream",
          "name": "stdout",
          "text": [
            "1\n"
          ]
        }
      ]
    },
    {
      "cell_type": "code",
      "source": [
        "print(-9%4)  ## ? negatif sayılarda niçin farklı sonuç alıyoruz?"
      ],
      "metadata": {
        "colab": {
          "base_uri": "https://localhost:8080/"
        },
        "id": "e9W2sAipMTdH",
        "outputId": "221b77ae-b565-4af0-f685-c34ee5f18154"
      },
      "execution_count": 51,
      "outputs": [
        {
          "output_type": "stream",
          "name": "stdout",
          "text": [
            "3\n"
          ]
        }
      ]
    },
    {
      "cell_type": "code",
      "source": [
        "import math\n",
        "mod = -9-4*math.floor(-9/4)\n",
        "print(mod)"
      ],
      "metadata": {
        "colab": {
          "base_uri": "https://localhost:8080/"
        },
        "id": "zUam-MBnNRMs",
        "outputId": "fd109e96-746d-46dd-b9f0-494ed9a2f107"
      },
      "execution_count": 53,
      "outputs": [
        {
          "output_type": "stream",
          "name": "stdout",
          "text": [
            "3\n"
          ]
        }
      ]
    },
    {
      "cell_type": "code",
      "source": [
        "mod = 9-4*math.floor(9/4)\n",
        "print(mod)"
      ],
      "metadata": {
        "colab": {
          "base_uri": "https://localhost:8080/"
        },
        "id": "bpses-g6Nh4w",
        "outputId": "a00f6b40-d49d-4fc7-bf35-a6a5816050cc"
      },
      "execution_count": 56,
      "outputs": [
        {
          "output_type": "stream",
          "name": "stdout",
          "text": [
            "1\n"
          ]
        }
      ]
    },
    {
      "cell_type": "markdown",
      "source": [
        "n python, modulo operator works like this.\n",
        "\n",
        ">>> mod = n - math.floor(n/base) * base"
      ],
      "metadata": {
        "id": "ysWRkShkNJf9"
      }
    },
    {
      "cell_type": "code",
      "source": [
        "## Vücut Kitle İndeksi (VKİ) = Vücut Ağırlığı (kg.) / Boy uzunluğunun karesi (m.)\n",
        "agirlik = 69\n",
        "boy = 1.65\n",
        "VKI = agirlik / (boy**2)\n",
        "print(\"Vücut Kitle İndeksi..:\", VKI)"
      ],
      "metadata": {
        "colab": {
          "base_uri": "https://localhost:8080/"
        },
        "id": "N5N0TtViQxzL",
        "outputId": "3182d8f4-e164-4441-8556-f7be1b9c105b"
      },
      "execution_count": 57,
      "outputs": [
        {
          "output_type": "stream",
          "name": "stdout",
          "text": [
            "Vücut Kitle İndeksi..: 25.344352617079892\n"
          ]
        }
      ]
    },
    {
      "cell_type": "code",
      "source": [
        "agirlik = float(input(\"Ağırlığı giriniz..:\"))\n",
        "boy = float(input(\"Boy değerini giriniz..:\"))\n",
        "VKI = agirlik / (boy**2)\n",
        "print(\"Vücut Kitle İndeksi..:\", VKI)"
      ],
      "metadata": {
        "colab": {
          "base_uri": "https://localhost:8080/"
        },
        "id": "2M_x0wz-RwZT",
        "outputId": "c8e60bf1-c524-4f4f-df92-064239e99a8e"
      },
      "execution_count": 58,
      "outputs": [
        {
          "output_type": "stream",
          "name": "stdout",
          "text": [
            "Ağırlığı giriniz..:69\n",
            "Boy değerini giriniz..:1.65\n",
            "Vücut Kitle İndeksi..: 25.344352617079892\n"
          ]
        }
      ]
    },
    {
      "cell_type": "code",
      "source": [
        "## Hipotenus : c^2 = a^2 + b^2\n",
        "\n",
        "a = 3\n",
        "b = 4\n",
        "c= (a**2 + b**2)**0.5\n",
        "print(\"Hipotenus..:\",c)"
      ],
      "metadata": {
        "colab": {
          "base_uri": "https://localhost:8080/"
        },
        "id": "BMIxl74fTceJ",
        "outputId": "78da22d1-1081-45f6-f7d1-a18010b8c9b0"
      },
      "execution_count": 60,
      "outputs": [
        {
          "output_type": "stream",
          "name": "stdout",
          "text": [
            "Hipotenus..: 5.0\n"
          ]
        }
      ]
    },
    {
      "cell_type": "code",
      "source": [
        "## Hipotenus : c^2 = a^2 + b^2\n",
        "\n",
        "a = int(input(\"A kenarı..:\"))\n",
        "b = int(input(\"B kenarı..:\"))\n",
        "c= (a**2 + b**2)**0.5\n",
        "print(\"Hipotenus..:\",c)"
      ],
      "metadata": {
        "colab": {
          "base_uri": "https://localhost:8080/"
        },
        "id": "43WKeZ2ETw9I",
        "outputId": "54027717-7116-4b6a-86ea-2e9fbd21e079"
      },
      "execution_count": 61,
      "outputs": [
        {
          "output_type": "stream",
          "name": "stdout",
          "text": [
            "A kenarı..:3\n",
            "B kenarı..:4\n",
            "Hipotenus..: 5.0\n"
          ]
        }
      ]
    },
    {
      "cell_type": "code",
      "source": [
        "number = 2021\n",
        "text = \"We have reached\"\n",
        "print(text, number)"
      ],
      "metadata": {
        "colab": {
          "base_uri": "https://localhost:8080/"
        },
        "id": "SZhznptpUHgq",
        "outputId": "ebe85fdc-efaa-46d4-ab05-f040c4b4b4b8"
      },
      "execution_count": 62,
      "outputs": [
        {
          "output_type": "stream",
          "name": "stdout",
          "text": [
            "We have reached 2021\n"
          ]
        }
      ]
    },
    {
      "cell_type": "code",
      "source": [
        "text1 = \"I bought\"\n",
        "text2 = \"kg. of apple this morning\"\n",
        "amount = 6\n",
        "print(text1, amount, text2)\n",
        "text3 = text1 + \" \" + str(amount) + \" \" + text2\n",
        "print(text3)"
      ],
      "metadata": {
        "colab": {
          "base_uri": "https://localhost:8080/"
        },
        "id": "G9BabMcrVPaJ",
        "outputId": "b21328f5-4b3f-429e-b33e-321e3d61486d"
      },
      "execution_count": 65,
      "outputs": [
        {
          "output_type": "stream",
          "name": "stdout",
          "text": [
            "I bought 6 kg. of apple this morning\n",
            "I bought 6 kg. of apple this morning\n"
          ]
        }
      ]
    },
    {
      "cell_type": "code",
      "source": [
        "text1 = \"I bought\"\n",
        "text2 = \"kg. of apple this morning\"\n",
        "amount = 6\n",
        "print(text1, amount, text2, sep=\"*\")\n",
        "print(\"I bought\", amount, \"kg. of apple this morning\", sep=\"-\" )\n",
        "print(text1, amount, text2, sep=\"\")\n",
        "print(text1, amount, text2, end=\" \")\n",
        "print(\"and ...\")"
      ],
      "metadata": {
        "colab": {
          "base_uri": "https://localhost:8080/"
        },
        "id": "iv1AlZr6Wr7B",
        "outputId": "b8a45069-9d3a-4486-a9b6-52aafa0000d4"
      },
      "execution_count": 69,
      "outputs": [
        {
          "output_type": "stream",
          "name": "stdout",
          "text": [
            "I bought*6*kg. of apple this morning\n",
            "I bought-6-kg. of apple this morning\n",
            "I bought6kg. of apple this morning\n",
            "I bought 6 kg. of apple this morning and ...\n"
          ]
        }
      ]
    },
    {
      "cell_type": "code",
      "source": [
        "x = 5\n",
        "print(\"value of x    :\", x)\n",
        "x += 2  # x = x + 2\n",
        "print(\"value of x    :\", x)\n",
        "y = 10\n",
        "print(\"value of y    :\", y,\"\\n\")\n",
        "y -= 2\n",
        "print(\"value of y    :\", y)"
      ],
      "metadata": {
        "colab": {
          "base_uri": "https://localhost:8080/"
        },
        "id": "oyX83H5OXxdI",
        "outputId": "795efae1-64fe-4e85-832e-1adaf323c9be"
      },
      "execution_count": 70,
      "outputs": [
        {
          "output_type": "stream",
          "name": "stdout",
          "text": [
            "value of x    : 5\n",
            "value of x    : 7\n",
            "value of y    : 10 \n",
            "\n",
            "value of y    : 8\n"
          ]
        }
      ]
    },
    {
      "cell_type": "code",
      "source": [
        "x = 5\n",
        "print(\"value of x    :\", x)\n",
        "x += 2  # x = x + 2\n",
        "print(\"value of x    :\", x)\n",
        "y = 10\n",
        "mesaj = \"value of y    :\" + str(y) + \"\\n\"\n",
        "print(mesaj)\n",
        "y -= 2\n",
        "print(\"value of y    :\", y)"
      ],
      "metadata": {
        "colab": {
          "base_uri": "https://localhost:8080/"
        },
        "id": "jUwFeMUvYFnc",
        "outputId": "a581e8ae-c22e-4794-92e7-1b92f8ee48ce"
      },
      "execution_count": 72,
      "outputs": [
        {
          "output_type": "stream",
          "name": "stdout",
          "text": [
            "value of x    : 5\n",
            "value of x    : 7\n",
            "value of y    :10\n",
            "\n",
            "value of y    : 8\n"
          ]
        }
      ]
    },
    {
      "cell_type": "code",
      "source": [
        "print('C:\\\\north pole\\nnoise_penguins.txt')\n",
        "print('---------')\n",
        "print('first', 'second', 'third',sep='\\t')"
      ],
      "metadata": {
        "colab": {
          "base_uri": "https://localhost:8080/"
        },
        "id": "2s-obpyiZBEa",
        "outputId": "c85427a4-84ab-4f81-b777-611488688545"
      },
      "execution_count": 73,
      "outputs": [
        {
          "output_type": "stream",
          "name": "stdout",
          "text": [
            "C:\\north pole\n",
            "noise_penguins.txt\n",
            "---------\n",
            "first\tsecond\tthird\n"
          ]
        }
      ]
    },
    {
      "cell_type": "code",
      "source": [
        "print(\"\\\\\")\n",
        "print(\"\\'\")\n",
        "print(\"\\n\")\n",
        "print(\"a\\tb\")\n",
        "print(\"\\**\")\n",
        "print(\"C:\\\\\")"
      ],
      "metadata": {
        "colab": {
          "base_uri": "https://localhost:8080/"
        },
        "id": "M21m1sOiZcm-",
        "outputId": "8a7a9856-9284-448d-a065-5f0292e5982d"
      },
      "execution_count": 77,
      "outputs": [
        {
          "output_type": "stream",
          "name": "stdout",
          "text": [
            "\\\n",
            "'\n",
            "\n",
            "\n",
            "a\tb\n",
            "\\**\n",
            "C:\\\n"
          ]
        }
      ]
    },
    {
      "cell_type": "code",
      "source": [
        "dog = \"\\N{dog}\" ## emoji karakterlerini, bayrakları basma da kullanılabilir\n",
        "print(dog)"
      ],
      "metadata": {
        "colab": {
          "base_uri": "https://localhost:8080/"
        },
        "id": "5_MIqEu4aFqu",
        "outputId": "96521f44-5918-4fef-9abd-361db5f0d067"
      },
      "execution_count": 78,
      "outputs": [
        {
          "output_type": "stream",
          "name": "stdout",
          "text": [
            "🐕\n"
          ]
        }
      ]
    },
    {
      "cell_type": "code",
      "source": [
        "print(\"\\124\\125\\126\")  ## unicode-ascii tablosundaki değerler"
      ],
      "metadata": {
        "colab": {
          "base_uri": "https://localhost:8080/"
        },
        "id": "4JSyvgvaaSqy",
        "outputId": "00dee780-ebd0-437e-de62-bd6b62c112cc"
      },
      "execution_count": 79,
      "outputs": [
        {
          "output_type": "stream",
          "name": "stdout",
          "text": [
            "TUV\n"
          ]
        }
      ]
    },
    {
      "cell_type": "code",
      "source": [
        "print(\"\\101\\102\\103\")  ## unicode-ascii tablosundaki değerler"
      ],
      "metadata": {
        "colab": {
          "base_uri": "https://localhost:8080/"
        },
        "id": "uux6k1d5ap7l",
        "outputId": "2337b94b-7a27-4c0f-d7e5-f395bbaec702"
      },
      "execution_count": 80,
      "outputs": [
        {
          "output_type": "stream",
          "name": "stdout",
          "text": [
            "ABC\n"
          ]
        }
      ]
    },
    {
      "cell_type": "code",
      "source": [
        "print(\"\\x41\\x42\\x43\")"
      ],
      "metadata": {
        "colab": {
          "base_uri": "https://localhost:8080/"
        },
        "id": "FpF70u1_a9aw",
        "outputId": "0677dbf4-b023-4dc2-9db1-f82c94b6e8aa"
      },
      "execution_count": 82,
      "outputs": [
        {
          "output_type": "stream",
          "name": "stdout",
          "text": [
            "ABC\n"
          ]
        }
      ]
    },
    {
      "cell_type": "code",
      "source": [
        "print('we are', '\\boosting', 'our', '\\brotherhood')"
      ],
      "metadata": {
        "colab": {
          "base_uri": "https://localhost:8080/"
        },
        "id": "yRXqO5d5eEeL",
        "outputId": "365d20e4-4c2e-41e7-abb9-c7b45a70d32d"
      },
      "execution_count": 83,
      "outputs": [
        {
          "output_type": "stream",
          "name": "stdout",
          "text": [
            "we are \boosting our \brotherhood\n"
          ]
        }
      ]
    },
    {
      "cell_type": "code",
      "source": [
        "print('we are', '\\b\\boosting', 'our', '\\brother\\'hood')"
      ],
      "metadata": {
        "colab": {
          "base_uri": "https://localhost:8080/"
        },
        "id": "Nyw36PC4eac0",
        "outputId": "0abbc32c-9e6b-4757-89f3-6e16d7471e89"
      },
      "execution_count": 85,
      "outputs": [
        {
          "output_type": "stream",
          "name": "stdout",
          "text": [
            "we are \b\boosting our \brother'hood\n"
          ]
        }
      ]
    },
    {
      "cell_type": "code",
      "source": [
        "text = \"Clarusway, Clarusway, Clarusway,\\n\\tClarusway, Clarusway, Clarusway,\\n\\t\\tClarusway, Clarusway, Clarusway\""
      ],
      "metadata": {
        "id": "fO_V1CU3e70W"
      },
      "execution_count": 86,
      "outputs": []
    },
    {
      "cell_type": "code",
      "source": [
        "print(text)"
      ],
      "metadata": {
        "colab": {
          "base_uri": "https://localhost:8080/"
        },
        "id": "BNuXwpQqfIZH",
        "outputId": "59657c56-a32b-4575-caac-63fed800cc8d"
      },
      "execution_count": 87,
      "outputs": [
        {
          "output_type": "stream",
          "name": "stdout",
          "text": [
            "Clarusway, Clarusway, Clarusway,\n",
            "\tClarusway, Clarusway, Clarusway,\n",
            "\t\tClarusway, Clarusway, Clarusway\n"
          ]
        }
      ]
    },
    {
      "cell_type": "code",
      "source": [
        "text = \"Clarusway, Clarusway, Clarusway\"\n",
        "print(text,\",\\n\\t\", text, \",\\n\\t\\t\",text)"
      ],
      "metadata": {
        "colab": {
          "base_uri": "https://localhost:8080/"
        },
        "id": "1TqK350kfPED",
        "outputId": "48b98ef1-44a7-42aa-c912-9858f4381c9e"
      },
      "execution_count": 89,
      "outputs": [
        {
          "output_type": "stream",
          "name": "stdout",
          "text": [
            "Clarusway, Clarusway, Clarusway ,\n",
            "\t Clarusway, Clarusway, Clarusway ,\n",
            "\t\t Clarusway, Clarusway, Clarusway\n"
          ]
        }
      ]
    },
    {
      "cell_type": "code",
      "source": [
        "text = \"Clarusway, Clarusway, Clarusway\"\n",
        "print(text,\"\\b,\\n\\t\", text, \"\\b,\\n\\t\\t\",text)"
      ],
      "metadata": {
        "colab": {
          "base_uri": "https://localhost:8080/"
        },
        "id": "yz5tkcIKfua-",
        "outputId": "cdfd0a39-46fb-4134-c047-ae6b0e571a08"
      },
      "execution_count": 90,
      "outputs": [
        {
          "output_type": "stream",
          "name": "stdout",
          "text": [
            "Clarusway, Clarusway, Clarusway \b,\n",
            "\t Clarusway, Clarusway, Clarusway \b,\n",
            "\t\t Clarusway, Clarusway, Clarusway\n"
          ]
        }
      ]
    },
    {
      "cell_type": "code",
      "source": [
        "bool_a = False and True\n",
        "bool_a"
      ],
      "metadata": {
        "colab": {
          "base_uri": "https://localhost:8080/"
        },
        "id": "8d1TCwFCgwK5",
        "outputId": "33363115-2417-4426-8b4a-ab258ebcad23"
      },
      "execution_count": 91,
      "outputs": [
        {
          "output_type": "execute_result",
          "data": {
            "text/plain": [
              "False"
            ]
          },
          "metadata": {},
          "execution_count": 91
        }
      ]
    },
    {
      "cell_type": "code",
      "source": [
        "bool_a = False and not True\n",
        "bool_a"
      ],
      "metadata": {
        "colab": {
          "base_uri": "https://localhost:8080/"
        },
        "id": "pPkNKr19g4lH",
        "outputId": "36737978-5961-4474-b848-69646e9255d7"
      },
      "execution_count": 92,
      "outputs": [
        {
          "output_type": "execute_result",
          "data": {
            "text/plain": [
              "False"
            ]
          },
          "metadata": {},
          "execution_count": 92
        }
      ]
    },
    {
      "cell_type": "code",
      "source": [
        "bool_a = not False and True #and False arıyor\n",
        "bool_a"
      ],
      "metadata": {
        "colab": {
          "base_uri": "https://localhost:8080/"
        },
        "id": "14ALVwYlg8-P",
        "outputId": "0ba18fdd-653b-45a9-b020-68be33499277"
      },
      "execution_count": 93,
      "outputs": [
        {
          "output_type": "execute_result",
          "data": {
            "text/plain": [
              "True"
            ]
          },
          "metadata": {},
          "execution_count": 93
        }
      ]
    },
    {
      "cell_type": "code",
      "source": [
        "bool_b = False or True #or True arıyor\n",
        "bool_b"
      ],
      "metadata": {
        "colab": {
          "base_uri": "https://localhost:8080/"
        },
        "id": "tSTt2L43hA-5",
        "outputId": "4cd0c4b5-0d5b-4249-a5e8-72a67926a848"
      },
      "execution_count": 94,
      "outputs": [
        {
          "output_type": "execute_result",
          "data": {
            "text/plain": [
              "True"
            ]
          },
          "metadata": {},
          "execution_count": 94
        }
      ]
    },
    {
      "cell_type": "code",
      "source": [
        "a = False\n",
        "b = True\n",
        "print(a and b)"
      ],
      "metadata": {
        "colab": {
          "base_uri": "https://localhost:8080/"
        },
        "id": "sXtF_TLuhNk5",
        "outputId": "d137573d-101b-4ff2-8e37-16316f592c5b"
      },
      "execution_count": 95,
      "outputs": [
        {
          "output_type": "stream",
          "name": "stdout",
          "text": [
            "False\n"
          ]
        }
      ]
    },
    {
      "cell_type": "code",
      "source": [
        "a = 0\n",
        "b = True\n",
        "print(a and b)"
      ],
      "metadata": {
        "colab": {
          "base_uri": "https://localhost:8080/"
        },
        "id": "Az3vzMvJhV3y",
        "outputId": "84c75908-bbea-41c9-da46-7c912e4a449d"
      },
      "execution_count": 96,
      "outputs": [
        {
          "output_type": "stream",
          "name": "stdout",
          "text": [
            "0\n"
          ]
        }
      ]
    },
    {
      "cell_type": "code",
      "source": [
        "print(True and False or False or not True)\n",
        "    # True and False or False or False\n",
        "    # False or False or False\n",
        "    # False or False\n",
        "    # False"
      ],
      "metadata": {
        "colab": {
          "base_uri": "https://localhost:8080/"
        },
        "id": "75AmS83hhr5I",
        "outputId": "68aa8d28-9876-4419-d741-23f0571a8bab"
      },
      "execution_count": 97,
      "outputs": [
        {
          "output_type": "stream",
          "name": "stdout",
          "text": [
            "False\n"
          ]
        }
      ]
    },
    {
      "cell_type": "code",
      "source": [
        "print(1 and 0)"
      ],
      "metadata": {
        "colab": {
          "base_uri": "https://localhost:8080/"
        },
        "id": "oCviSnbliN6-",
        "outputId": "0e5e51e1-905a-42b6-cca3-949bb7b64f14"
      },
      "execution_count": 98,
      "outputs": [
        {
          "output_type": "stream",
          "name": "stdout",
          "text": [
            "0\n"
          ]
        }
      ]
    },
    {
      "cell_type": "code",
      "source": [
        "print(not 0)"
      ],
      "metadata": {
        "colab": {
          "base_uri": "https://localhost:8080/"
        },
        "id": "k4xqGBwGiTpg",
        "outputId": "2b0c863f-1a51-45df-bfd0-f6ea0f79a8e7"
      },
      "execution_count": 99,
      "outputs": [
        {
          "output_type": "stream",
          "name": "stdout",
          "text": [
            "True\n"
          ]
        }
      ]
    },
    {
      "cell_type": "code",
      "source": [
        "## False üreten değerler;\n",
        "# None, 0, 0.0, 0j, içi boş stringler('',\"\"), içi boş veri yapıları [], {},...\n",
        "print(0 or '' or None)  ##Hepsi False ise 'or' en son değeri döndürür"
      ],
      "metadata": {
        "colab": {
          "base_uri": "https://localhost:8080/"
        },
        "id": "C7Xl67RlitPr",
        "outputId": "5425f44f-9fee-4847-f97d-ad22f9fbf8a2"
      },
      "execution_count": 100,
      "outputs": [
        {
          "output_type": "stream",
          "name": "stdout",
          "text": [
            "None\n"
          ]
        }
      ]
    },
    {
      "cell_type": "code",
      "source": [
        "print(0 and '' and None)  ##Hepsi False ise 'and' ilk değeri döndürür"
      ],
      "metadata": {
        "colab": {
          "base_uri": "https://localhost:8080/"
        },
        "id": "qEzrkiRyjGrR",
        "outputId": "766c6b7a-a31d-4e15-8009-83474a23f50f"
      },
      "execution_count": 101,
      "outputs": [
        {
          "output_type": "stream",
          "name": "stdout",
          "text": [
            "0\n"
          ]
        }
      ]
    },
    {
      "cell_type": "code",
      "source": [
        "print(3 and  \"ali\" and 5.6) ##Hepsi True ise 'and' en son  değeri döndürür"
      ],
      "metadata": {
        "colab": {
          "base_uri": "https://localhost:8080/"
        },
        "id": "WIY9f3-ljROK",
        "outputId": "de05bdaa-e081-44d4-c63a-55c4e1124a5e"
      },
      "execution_count": 102,
      "outputs": [
        {
          "output_type": "stream",
          "name": "stdout",
          "text": [
            "5.6\n"
          ]
        }
      ]
    },
    {
      "cell_type": "code",
      "source": [
        "print(3 or  \"ali\" or 5.6) ##Hepsi True ise 'or' ilk  değeri döndürür"
      ],
      "metadata": {
        "colab": {
          "base_uri": "https://localhost:8080/"
        },
        "id": "VOqYXimtjeuX",
        "outputId": "ad004daf-9012-4074-92e5-eb749405c6ec"
      },
      "execution_count": 104,
      "outputs": [
        {
          "output_type": "stream",
          "name": "stdout",
          "text": [
            "3\n"
          ]
        }
      ]
    },
    {
      "cell_type": "code",
      "source": [
        "print(3 and '' or (True and  False))\n",
        "##   (3 and '' or False)\n",
        "##   ('' or False)\n",
        "##  False"
      ],
      "metadata": {
        "colab": {
          "base_uri": "https://localhost:8080/"
        },
        "id": "5QLDBNCgju9l",
        "outputId": "052d65ed-fd54-412d-af28-4e6a8062cf72"
      },
      "execution_count": 105,
      "outputs": [
        {
          "output_type": "stream",
          "name": "stdout",
          "text": [
            "False\n"
          ]
        }
      ]
    },
    {
      "cell_type": "code",
      "source": [
        "print(3 and '' or ('veli' and  None))\n",
        "##   (3 and '' or None)\n",
        "##   ('' or None)\n",
        "##  ???"
      ],
      "metadata": {
        "colab": {
          "base_uri": "https://localhost:8080/"
        },
        "id": "934-ame_kNRo",
        "outputId": "d7f11f8d-7ee5-4656-c073-560e0389edf4"
      },
      "execution_count": 106,
      "outputs": [
        {
          "output_type": "stream",
          "name": "stdout",
          "text": [
            "None\n"
          ]
        }
      ]
    },
    {
      "cell_type": "code",
      "source": [
        "print(3 and '' or ('veli' or  None))\n",
        "##   (3 and '' or 'veli')\n",
        "##   ('' or 'veli')\n",
        "##  ???"
      ],
      "metadata": {
        "colab": {
          "base_uri": "https://localhost:8080/"
        },
        "id": "WseUtLNBka3l",
        "outputId": "ebd68283-a8c4-4f25-dafd-de466295fd9b"
      },
      "execution_count": 107,
      "outputs": [
        {
          "output_type": "stream",
          "name": "stdout",
          "text": [
            "veli\n"
          ]
        }
      ]
    },
    {
      "cell_type": "code",
      "source": [
        "print(3 and '' and ('veli' or  None))\n",
        "##   (3 and '' and 'veli')\n",
        "##   ('' and 'veli')\n",
        "##  ???"
      ],
      "metadata": {
        "colab": {
          "base_uri": "https://localhost:8080/"
        },
        "id": "VcoqFdnxkpur",
        "outputId": "0d095b06-0181-4d51-8f91-a42300e2e84d"
      },
      "execution_count": 108,
      "outputs": [
        {
          "output_type": "stream",
          "name": "stdout",
          "text": [
            "\n"
          ]
        }
      ]
    },
    {
      "cell_type": "code",
      "source": [
        "text_bool = True and False and (not True and False) and not (True or False)\n",
        "          ## True and False and (False and False) and not (True or False)\n",
        "          ## True and False and False and not (True or False)\n",
        "          ## True and False and False and not (True)\n",
        "          ## True and False and False and False\n",
        "          ## False and False and False\n",
        "          ## False and False\n",
        "          ## False\n",
        "\n",
        "print(text_bool)"
      ],
      "metadata": {
        "colab": {
          "base_uri": "https://localhost:8080/"
        },
        "id": "HN10doxDk1oG",
        "outputId": "4439a982-ffe8-46dd-85ad-1227e4eca858"
      },
      "execution_count": 109,
      "outputs": [
        {
          "output_type": "stream",
          "name": "stdout",
          "text": [
            "False\n"
          ]
        }
      ]
    },
    {
      "cell_type": "code",
      "source": [
        "text_bool = True and 0 and (not True and False) and not (True or False)\n",
        "          ## True and 0 and (False and False) and not (True or False)\n",
        "          ## True and 0 and False and not (True or False)\n",
        "          ## True and 0 and False and not (True)\n",
        "          ## True and 0 and False and False\n",
        "          ## 0 and False and False\n",
        "          ## 0 and False\n",
        "          ## 0\n",
        "\n",
        "print(text_bool)"
      ],
      "metadata": {
        "colab": {
          "base_uri": "https://localhost:8080/"
        },
        "id": "KRX8RCmZlmlZ",
        "outputId": "b35feac4-19df-473a-fb4d-3970c2fe515e"
      },
      "execution_count": 110,
      "outputs": [
        {
          "output_type": "stream",
          "name": "stdout",
          "text": [
            "0\n"
          ]
        }
      ]
    },
    {
      "cell_type": "code",
      "source": [
        "a = True\n",
        "b = False\n",
        "print(a is b)\n",
        "print(a is not b)"
      ],
      "metadata": {
        "colab": {
          "base_uri": "https://localhost:8080/"
        },
        "id": "UpX2Kk9plyg3",
        "outputId": "6342215f-132d-487d-f7b6-ad89091bfe04"
      },
      "execution_count": 112,
      "outputs": [
        {
          "output_type": "stream",
          "name": "stdout",
          "text": [
            "False\n",
            "True\n"
          ]
        }
      ]
    },
    {
      "cell_type": "code",
      "source": [
        "a = 5\n",
        "b = 0\n",
        "print(a is b)"
      ],
      "metadata": {
        "colab": {
          "base_uri": "https://localhost:8080/"
        },
        "id": "87unBYFSl9wv",
        "outputId": "7843e025-0a6c-48fe-c0a4-288a9be195ad"
      },
      "execution_count": 113,
      "outputs": [
        {
          "output_type": "stream",
          "name": "stdout",
          "text": [
            "False\n"
          ]
        }
      ]
    },
    {
      "cell_type": "code",
      "source": [
        "a = 5\n",
        "b = 5\n",
        "print(a is b)"
      ],
      "metadata": {
        "colab": {
          "base_uri": "https://localhost:8080/"
        },
        "id": "_4K2c_BxmEqB",
        "outputId": "3e98a4ea-1867-40a3-dba0-625d16a112da"
      },
      "execution_count": 114,
      "outputs": [
        {
          "output_type": "stream",
          "name": "stdout",
          "text": [
            "True\n"
          ]
        }
      ]
    },
    {
      "cell_type": "code",
      "source": [
        "a = 5\n",
        "b = 5\n",
        "print(a == b)"
      ],
      "metadata": {
        "colab": {
          "base_uri": "https://localhost:8080/"
        },
        "id": "uQ6PGFAdmdf_",
        "outputId": "2d000bb6-19dc-42b4-c6fb-0667da54a8ab"
      },
      "execution_count": 117,
      "outputs": [
        {
          "output_type": "stream",
          "name": "stdout",
          "text": [
            "True\n"
          ]
        }
      ]
    },
    {
      "cell_type": "code",
      "source": [
        "a = 5\n",
        "b = 35\n",
        "print(a is b)"
      ],
      "metadata": {
        "colab": {
          "base_uri": "https://localhost:8080/"
        },
        "id": "9BBZkLFfmMsw",
        "outputId": "f86a1265-f11f-4020-c95e-9f376e889014"
      },
      "execution_count": 115,
      "outputs": [
        {
          "output_type": "stream",
          "name": "stdout",
          "text": [
            "False\n"
          ]
        }
      ]
    },
    {
      "cell_type": "code",
      "source": [
        "a = 5\n",
        "b = 35\n",
        "print(a == b)"
      ],
      "metadata": {
        "colab": {
          "base_uri": "https://localhost:8080/"
        },
        "id": "_9oQSTB6mZww",
        "outputId": "76d06f11-87d7-43e4-d947-11665852b59c"
      },
      "execution_count": 116,
      "outputs": [
        {
          "output_type": "stream",
          "name": "stdout",
          "text": [
            "False\n"
          ]
        }
      ]
    },
    {
      "cell_type": "code",
      "source": [
        "a,b = 3,5\n",
        "# a=3\n",
        "# b=5\n",
        "a, b = b, a\n",
        "print(a,b)"
      ],
      "metadata": {
        "colab": {
          "base_uri": "https://localhost:8080/"
        },
        "id": "2A-gaGatmx3G",
        "outputId": "00a9d8f8-7e2b-45f8-85e0-8413b297b46d"
      },
      "execution_count": 118,
      "outputs": [
        {
          "output_type": "stream",
          "name": "stdout",
          "text": [
            "5 3\n"
          ]
        }
      ]
    },
    {
      "cell_type": "code",
      "source": [
        "not 0"
      ],
      "metadata": {
        "colab": {
          "base_uri": "https://localhost:8080/"
        },
        "id": "ayvZQstvnbMw",
        "outputId": "cf67343f-57db-462c-9fbc-d6553625539f"
      },
      "execution_count": 120,
      "outputs": [
        {
          "output_type": "execute_result",
          "data": {
            "text/plain": [
              "True"
            ]
          },
          "metadata": {},
          "execution_count": 120
        }
      ]
    },
    {
      "cell_type": "code",
      "source": [
        "3 and 5"
      ],
      "metadata": {
        "colab": {
          "base_uri": "https://localhost:8080/"
        },
        "id": "Yq2xp5pdniXU",
        "outputId": "e33666cb-8560-4ca9-9484-dc188bff082f"
      },
      "execution_count": 121,
      "outputs": [
        {
          "output_type": "execute_result",
          "data": {
            "text/plain": [
              "5"
            ]
          },
          "metadata": {},
          "execution_count": 121
        }
      ]
    },
    {
      "cell_type": "code",
      "source": [
        "a,b,c,d = 3, 5, True, 0\n",
        "print(a and b or c and not d)\n",
        "     #a and b or c and True\n",
        "     #b or c and True\n",
        "     #b or True\n",
        "     #b"
      ],
      "metadata": {
        "colab": {
          "base_uri": "https://localhost:8080/"
        },
        "id": "09FhgmRRnCeq",
        "outputId": "2abfef7a-9776-475f-a54d-572e6c771664"
      },
      "execution_count": 119,
      "outputs": [
        {
          "output_type": "stream",
          "name": "stdout",
          "text": [
            "5\n"
          ]
        }
      ]
    }
  ]
}