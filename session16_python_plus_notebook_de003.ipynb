{
 "cells": [
  {
   "cell_type": "markdown",
   "id": "2cbe357f",
   "metadata": {},
   "source": [
    "# Python Plus, Session-16:\n",
    "# Scope of Variables & Lambda Functions\n",
    "# 08 July 2022"
   ]
  },
  {
   "cell_type": "code",
   "execution_count": null,
   "id": "2609090f",
   "metadata": {},
   "outputs": [],
   "source": [
    "## global: programın tamamında faaliyet gösterir (scope programın tamamı) \n",
    "## local:  sadece tanımlandığı fonksiyon içerisinde faaliyet gösterir.\n",
    "## Localde tanımlı değişkene global de erişmeye çalıştığımızda \"NameError\" hatası ile karş."
   ]
  },
  {
   "cell_type": "code",
   "execution_count": 1,
   "id": "8b036883",
   "metadata": {},
   "outputs": [
    {
     "name": "stdout",
     "output_type": "stream",
     "text": [
      "inner variable\n",
      "outer variable\n"
     ]
    }
   ],
   "source": [
    "\"\"\"\n",
    "Fonksiyon içinde ve dışında aynı isimde değişkenler tanımladık ve \n",
    "birbirine karışmadığını görüyoruz. Karışmamayı Python’daki namespace mekanizması sağlıyor.\n",
    "Global alandaki my_var ile local alandaki my_var değişkenleri\n",
    "adları aynı olsa da farkl nesnelerdir.\n",
    "\"\"\"\n",
    "my_var = \"outer variable\"     #global my_var\n",
    "def my_function():\n",
    "    my_var = \"inner variable\" #local my_var\n",
    "    print(my_var)\n",
    "\n",
    "my_function()\n",
    "print(my_var)\n"
   ]
  },
  {
   "cell_type": "code",
   "execution_count": 6,
   "id": "fbc437ab",
   "metadata": {},
   "outputs": [
    {
     "ename": "NameError",
     "evalue": "name 'var_1' is not defined",
     "output_type": "error",
     "traceback": [
      "\u001b[0;31m---------------------------------------------------------------------------\u001b[0m",
      "\u001b[0;31mNameError\u001b[0m                                 Traceback (most recent call last)",
      "Input \u001b[0;32mIn [6]\u001b[0m, in \u001b[0;36m<cell line: 4>\u001b[0;34m()\u001b[0m\n\u001b[1;32m      1\u001b[0m \u001b[38;5;28;01mdef\u001b[39;00m \u001b[38;5;21mmy_function\u001b[39m():\n\u001b[1;32m      2\u001b[0m     \u001b[38;5;28mprint\u001b[39m(var_1)\n\u001b[0;32m----> 4\u001b[0m \u001b[43mmy_function\u001b[49m\u001b[43m(\u001b[49m\u001b[43m)\u001b[49m\n",
      "Input \u001b[0;32mIn [6]\u001b[0m, in \u001b[0;36mmy_function\u001b[0;34m()\u001b[0m\n\u001b[1;32m      1\u001b[0m \u001b[38;5;28;01mdef\u001b[39;00m \u001b[38;5;21mmy_function\u001b[39m():\n\u001b[0;32m----> 2\u001b[0m     \u001b[38;5;28mprint\u001b[39m(\u001b[43mvar_1\u001b[49m)\n",
      "\u001b[0;31mNameError\u001b[0m: name 'var_1' is not defined"
     ]
    }
   ],
   "source": [
    "def my_function():\n",
    "    print(var_1)  ##var_1 isimli bir değişken yok Name Error hatası\n",
    "\n",
    "my_function()"
   ]
  },
  {
   "cell_type": "code",
   "execution_count": 7,
   "id": "0933aaa9",
   "metadata": {},
   "outputs": [
    {
     "name": "stdout",
     "output_type": "stream",
     "text": [
      "outer variable\n",
      "outer variable\n"
     ]
    }
   ],
   "source": [
    "var_1 = \"outer variable\"\n",
    "def my_function():\n",
    "    print(var_1)\n",
    "\n",
    "my_function()\n",
    "print(var_1)"
   ]
  },
  {
   "cell_type": "code",
   "execution_count": 8,
   "id": "0db0c942",
   "metadata": {},
   "outputs": [
    {
     "ename": "UnboundLocalError",
     "evalue": "local variable 'my_var' referenced before assignment",
     "output_type": "error",
     "traceback": [
      "\u001b[0;31m---------------------------------------------------------------------------\u001b[0m",
      "\u001b[0;31mUnboundLocalError\u001b[0m                         Traceback (most recent call last)",
      "Input \u001b[0;32mIn [8]\u001b[0m, in \u001b[0;36m<cell line: 6>\u001b[0;34m()\u001b[0m\n\u001b[1;32m      3\u001b[0m     my_var \u001b[38;5;241m=\u001b[39m my_var \u001b[38;5;241m+\u001b[39m \u001b[38;5;124m\"\u001b[39m\u001b[38;5;124minner variable\u001b[39m\u001b[38;5;124m\"\u001b[39m\n\u001b[1;32m      4\u001b[0m     \u001b[38;5;28mprint\u001b[39m(my_var)\n\u001b[0;32m----> 6\u001b[0m \u001b[43mmy_function\u001b[49m\u001b[43m(\u001b[49m\u001b[43m)\u001b[49m\n",
      "Input \u001b[0;32mIn [8]\u001b[0m, in \u001b[0;36mmy_function\u001b[0;34m()\u001b[0m\n\u001b[1;32m      2\u001b[0m \u001b[38;5;28;01mdef\u001b[39;00m \u001b[38;5;21mmy_function\u001b[39m():\n\u001b[0;32m----> 3\u001b[0m     my_var \u001b[38;5;241m=\u001b[39m \u001b[43mmy_var\u001b[49m \u001b[38;5;241m+\u001b[39m \u001b[38;5;124m\"\u001b[39m\u001b[38;5;124minner variable\u001b[39m\u001b[38;5;124m\"\u001b[39m\n\u001b[1;32m      4\u001b[0m     \u001b[38;5;28mprint\u001b[39m(my_var)\n",
      "\u001b[0;31mUnboundLocalError\u001b[0m: local variable 'my_var' referenced before assignment"
     ]
    }
   ],
   "source": [
    "my_var = \"outer variable\"\n",
    "def my_function():\n",
    "    my_var = my_var + \"inner variable\"\n",
    "    print(my_var)\n",
    "\n",
    "my_function()"
   ]
  },
  {
   "cell_type": "code",
   "execution_count": 3,
   "id": "fbecc88f",
   "metadata": {},
   "outputs": [
    {
     "ename": "UnboundLocalError",
     "evalue": "local variable 'x' referenced before assignment",
     "output_type": "error",
     "traceback": [
      "\u001b[0;31m---------------------------------------------------------------------------\u001b[0m",
      "\u001b[0;31mUnboundLocalError\u001b[0m                         Traceback (most recent call last)",
      "Input \u001b[0;32mIn [3]\u001b[0m, in \u001b[0;36m<cell line: 6>\u001b[0;34m()\u001b[0m\n\u001b[1;32m      3\u001b[0m     x \u001b[38;5;241m=\u001b[39m x \u001b[38;5;241m*\u001b[39m \u001b[38;5;241m2\u001b[39m\n\u001b[1;32m      4\u001b[0m     \u001b[38;5;28mprint\u001b[39m(x)\n\u001b[0;32m----> 6\u001b[0m \u001b[43mfoo\u001b[49m\u001b[43m(\u001b[49m\u001b[43m)\u001b[49m\n",
      "Input \u001b[0;32mIn [3]\u001b[0m, in \u001b[0;36mfoo\u001b[0;34m()\u001b[0m\n\u001b[1;32m      2\u001b[0m \u001b[38;5;28;01mdef\u001b[39;00m \u001b[38;5;21mfoo\u001b[39m():\n\u001b[0;32m----> 3\u001b[0m     x \u001b[38;5;241m=\u001b[39m \u001b[43mx\u001b[49m \u001b[38;5;241m*\u001b[39m \u001b[38;5;241m2\u001b[39m\n\u001b[1;32m      4\u001b[0m     \u001b[38;5;28mprint\u001b[39m(x)\n",
      "\u001b[0;31mUnboundLocalError\u001b[0m: local variable 'x' referenced before assignment"
     ]
    }
   ],
   "source": [
    "x = 5\n",
    "def foo():\n",
    "    x = x * 2\n",
    "    print(x)\n",
    "\n",
    "foo()"
   ]
  },
  {
   "cell_type": "code",
   "execution_count": 9,
   "id": "987405f1",
   "metadata": {},
   "outputs": [
    {
     "name": "stdout",
     "output_type": "stream",
     "text": [
      "10\n"
     ]
    }
   ],
   "source": [
    "# UnboundLocalError hatasının çözümü: yereldeki x'i globale dönüştürüp (global x)\n",
    "# faaliyet alanını (scope) genişletmek\n",
    "x = 5\n",
    "def foo():\n",
    "    global x \n",
    "    x = x * 2\n",
    "    print(x)\n",
    "\n",
    "foo()"
   ]
  },
  {
   "cell_type": "code",
   "execution_count": 8,
   "id": "f0f89dd9",
   "metadata": {},
   "outputs": [
    {
     "name": "stdout",
     "output_type": "stream",
     "text": [
      "5\n"
     ]
    }
   ],
   "source": [
    "x = 5\n",
    "def foo():\n",
    "    print(x)\n",
    "\n",
    "foo()\n",
    "# Burada hata almadık çünkü global alandaki x değişkeninin değerini yazdırdı...\n",
    "# Bu örnekte, biz print() ile x’in değerini sorguladığımızda Python;\n",
    "# öncelikle foo() adlı fonksiyonun isim alanına baktı. \n",
    "# Orada x’i bulamayınca bu kez global alana bakarak (LEGB kuralı), \n",
    "# orada bulduğu x’in değerini yazdırdı."
   ]
  },
  {
   "cell_type": "code",
   "execution_count": 10,
   "id": "fa347cf4",
   "metadata": {},
   "outputs": [
    {
     "ename": "NameError",
     "evalue": "name 'y' is not defined",
     "output_type": "error",
     "traceback": [
      "\u001b[0;31m---------------------------------------------------------------------------\u001b[0m",
      "\u001b[0;31mNameError\u001b[0m                                 Traceback (most recent call last)",
      "Input \u001b[0;32mIn [10]\u001b[0m, in \u001b[0;36m<cell line: 6>\u001b[0;34m()\u001b[0m\n\u001b[1;32m      4\u001b[0m \u001b[38;5;66;03m#main program: global faaliyet alanı\u001b[39;00m\n\u001b[1;32m      5\u001b[0m foo()\n\u001b[0;32m----> 6\u001b[0m \u001b[38;5;28mprint\u001b[39m(\u001b[43my\u001b[49m)\n",
      "\u001b[0;31mNameError\u001b[0m: name 'y' is not defined"
     ]
    }
   ],
   "source": [
    "def foo():\n",
    "    y = \"local\"  ##y local değişken\n",
    "\n",
    "#main program: global faaliyet alanı\n",
    "foo()\n",
    "print(y)  #localde tanımlı değişkene global alanda erişmeye çalışıyoruz: NameError aldık"
   ]
  },
  {
   "cell_type": "code",
   "execution_count": 13,
   "id": "4b370a6e",
   "metadata": {},
   "outputs": [
    {
     "name": "stdout",
     "output_type": "stream",
     "text": [
      "['False', 'None', 'True', 'and', 'as', 'assert', 'async', 'await', 'break', 'class', 'continue', 'def', 'del', 'elif', 'else', 'except', 'finally', 'for', 'from', 'global', 'if', 'import', 'in', 'is', 'lambda', 'nonlocal', 'not', 'or', 'pass', 'raise', 'return', 'try', 'while', 'with', 'yield']\n"
     ]
    }
   ],
   "source": [
    "import keyword\n",
    "print(keyword.kwlist)"
   ]
  },
  {
   "cell_type": "code",
   "execution_count": 14,
   "id": "04da9b9d",
   "metadata": {},
   "outputs": [
    {
     "name": "stdout",
     "output_type": "stream",
     "text": [
      "1\n",
      "\n"
     ]
    },
    {
     "ename": "UnboundLocalError",
     "evalue": "local variable 'count' referenced before assignment",
     "output_type": "error",
     "traceback": [
      "\u001b[0;31m---------------------------------------------------------------------------\u001b[0m",
      "\u001b[0;31mUnboundLocalError\u001b[0m                         Traceback (most recent call last)",
      "Input \u001b[0;32mIn [14]\u001b[0m, in \u001b[0;36m<cell line: 11>\u001b[0;34m()\u001b[0m\n\u001b[1;32m      9\u001b[0m     count \u001b[38;5;241m+\u001b[39m\u001b[38;5;241m=\u001b[39m \u001b[38;5;241m1\u001b[39m \u001b[38;5;66;03m#global count değeri değiştirilmeye çalışıldı!!!\u001b[39;00m\n\u001b[1;32m     10\u001b[0m \u001b[38;5;28mprint\u001b[39m()\n\u001b[0;32m---> 11\u001b[0m \u001b[43mcounter\u001b[49m\u001b[43m(\u001b[49m\u001b[43m)\u001b[49m\n",
      "Input \u001b[0;32mIn [14]\u001b[0m, in \u001b[0;36mcounter\u001b[0;34m()\u001b[0m\n\u001b[1;32m      7\u001b[0m \u001b[38;5;28;01mdef\u001b[39;00m \u001b[38;5;21mcounter\u001b[39m():\n\u001b[0;32m----> 8\u001b[0m     \u001b[38;5;28mprint\u001b[39m(\u001b[43mcount\u001b[49m)\n\u001b[1;32m      9\u001b[0m     count \u001b[38;5;241m+\u001b[39m\u001b[38;5;241m=\u001b[39m \u001b[38;5;241m1\u001b[39m\n",
      "\u001b[0;31mUnboundLocalError\u001b[0m: local variable 'count' referenced before assignment"
     ]
    }
   ],
   "source": [
    "count = 1 # global değişken\n",
    "def print_global():\n",
    "    print(count)\n",
    "\n",
    "print_global()\n",
    "\n",
    "def counter():\n",
    "    print(count)\n",
    "    count += 1 #global count değeri değiştirilmeye çalışıldı!!! UnboundLocalError: \n",
    "    # count = count + 1\n",
    "print()\n",
    "counter()\n",
    "\"\"\"\n",
    "Bir fonksiyon içerisinde bir değişken atandığında, \n",
    "o değişken default olarak \"local\" kabul edilir. \n",
    "Local(yerel) bir değişkene bir değer atanmadan/bağlanmadan önce başvurulursa, \n",
    "UnboundLocalError hatası ortaya çıkar.\n",
    "\"\"\""
   ]
  },
  {
   "cell_type": "code",
   "execution_count": 11,
   "id": "8d7e3375",
   "metadata": {},
   "outputs": [
    {
     "name": "stdout",
     "output_type": "stream",
     "text": [
      "1\n",
      "\n",
      "2\n"
     ]
    }
   ],
   "source": [
    "count = 1 # global değişken\n",
    "def print_global():\n",
    "    print(count)\n",
    "\n",
    "print_global()\n",
    "\n",
    "def counter():\n",
    "    count = 2     #yeni bir nesne gibi algılıyor, scopeları farklı...\n",
    "    print(count) \n",
    "    \n",
    "print()\n",
    "counter()"
   ]
  },
  {
   "cell_type": "code",
   "execution_count": 13,
   "id": "cac450b1",
   "metadata": {},
   "outputs": [
    {
     "name": "stdout",
     "output_type": "stream",
     "text": [
      "3\n",
      "\n",
      "3\n"
     ]
    }
   ],
   "source": [
    "count = 3 # global değişken\n",
    "def print_global():\n",
    "    print(count)\n",
    "\n",
    "print_global()\n",
    "\n",
    "def counter():\n",
    "    print(count)\n",
    "    \n",
    "print()\n",
    "counter()"
   ]
  },
  {
   "cell_type": "code",
   "execution_count": 19,
   "id": "be23e037",
   "metadata": {},
   "outputs": [
    {
     "name": "stdout",
     "output_type": "stream",
     "text": [
      "1\n",
      "2\n",
      "2\n"
     ]
    }
   ],
   "source": [
    "count = 1 # global değişken\n",
    "def print_global():\n",
    "    print(count)\n",
    "\n",
    "print_global()\n",
    "\n",
    "def counter():\n",
    "    global count # artık count'u localde değiştirebilirsin ve bu değişiklik kalıcı olur\n",
    "    count += 1 \n",
    "    # count = count + 1\n",
    "    print(count)\n",
    "    \n",
    "counter()\n",
    "print(count)"
   ]
  },
  {
   "cell_type": "code",
   "execution_count": 27,
   "id": "5edc473b",
   "metadata": {},
   "outputs": [
    {
     "name": "stdout",
     "output_type": "stream",
     "text": [
      "1\n",
      "2\n",
      "3\n"
     ]
    }
   ],
   "source": [
    "count = 1 # global değişken\n",
    "\n",
    "def counter():\n",
    "    global count # artık count'u localde değiştirebilirsin ve bu değişiklik kalıcı olur\n",
    "    print(count)\n",
    "    count += 1   #localdeki değişiklik kalıcı oldu, faaliyet alanı (scope) global oldu.\n",
    "   \n",
    "    \n",
    "counter()\n",
    "    \n",
    "counter()\n",
    "    \n",
    "counter()"
   ]
  },
  {
   "cell_type": "code",
   "execution_count": 25,
   "id": "665b71ba",
   "metadata": {},
   "outputs": [
    {
     "name": "stdout",
     "output_type": "stream",
     "text": [
      "1\n"
     ]
    }
   ],
   "source": [
    "count = 1 # global değişken\n",
    "\n",
    "def counter():\n",
    "    print(count)\n",
    "\n",
    "    \n",
    "counter()\n",
    "\n",
    "\n",
    "count += 1 #\n",
    "    "
   ]
  },
  {
   "cell_type": "code",
   "execution_count": 26,
   "id": "f710616b",
   "metadata": {},
   "outputs": [
    {
     "name": "stdout",
     "output_type": "stream",
     "text": [
      "2\n"
     ]
    }
   ],
   "source": [
    "count = 1 # global değişken\n",
    "\n",
    "def counter():\n",
    "    print(count)\n",
    "\n",
    "\n",
    "count += 1 # global \n",
    "counter()\n",
    "\n"
   ]
  },
  {
   "cell_type": "code",
   "execution_count": 29,
   "id": "6bfa70dc",
   "metadata": {},
   "outputs": [
    {
     "name": "stdout",
     "output_type": "stream",
     "text": [
      "inner..: inner var.\n",
      "outer..: outer var.\n"
     ]
    }
   ],
   "source": [
    "def func_enclosing1():\n",
    "    x = \"outer var.\"\n",
    "    def func_enclosing2():\n",
    "        x = \"inner var.\"\n",
    "        print(\"inner..:\",x)\n",
    "    func_enclosing2()\n",
    "    print(\"outer..:\",x)\n",
    "\n",
    "#main program\n",
    "func_enclosing1()"
   ]
  },
  {
   "cell_type": "code",
   "execution_count": 15,
   "id": "fde6dc0c",
   "metadata": {},
   "outputs": [
    {
     "name": "stdout",
     "output_type": "stream",
     "text": [
      "inner..: inner var.\n",
      "outer..: inner var.\n"
     ]
    }
   ],
   "source": [
    "def func_enclosing1():\n",
    "    x1 = \"outer var.\"\n",
    "    def func_enclosing2():\n",
    "        nonlocal x1  #içteki değişikliği bir dışa yansıttı.. \n",
    "        x1 = \"inner var.\"\n",
    "        print(\"inner..:\",x1)\n",
    "    func_enclosing2()\n",
    "    print(\"outer..:\",x1)\n",
    "\n",
    "#main program\n",
    "func_enclosing1()"
   ]
  },
  {
   "cell_type": "code",
   "execution_count": 16,
   "id": "de6aa5b1",
   "metadata": {},
   "outputs": [
    {
     "name": "stdout",
     "output_type": "stream",
     "text": [
      "inner..: inner var.\n",
      "outer..: outer var.\n"
     ]
    }
   ],
   "source": [
    "def func_enclosing1():\n",
    "    x1 = \"outer var.\"\n",
    "    def func_enclosing2():\n",
    "        global x1  #içteki değişikliği globale yansıtması beklenir ama global de x1 yok\n",
    "        x1 = \"inner var.\"\n",
    "        print(\"inner..:\",x1)\n",
    "    func_enclosing2()\n",
    "    print(\"outer..:\",x1)\n",
    "\n",
    "#main program: global\n",
    "func_enclosing1()"
   ]
  },
  {
   "cell_type": "code",
   "execution_count": 34,
   "id": "006c0f91",
   "metadata": {},
   "outputs": [
    {
     "name": "stdout",
     "output_type": "stream",
     "text": [
      "one\n"
     ]
    }
   ],
   "source": [
    "var = 1\n",
    "\n",
    "def assigner(a):\n",
    "    global var\n",
    "    var = a\n",
    "\n",
    "assigner('one')\n",
    "print(var)"
   ]
  },
  {
   "cell_type": "code",
   "execution_count": 36,
   "id": "1b906477",
   "metadata": {},
   "outputs": [
    {
     "name": "stdout",
     "output_type": "stream",
     "text": [
      "6\n"
     ]
    },
    {
     "ename": "NameError",
     "evalue": "name 'a' is not defined",
     "output_type": "error",
     "traceback": [
      "\u001b[0;31m---------------------------------------------------------------------------\u001b[0m",
      "\u001b[0;31mNameError\u001b[0m                                 Traceback (most recent call last)",
      "Input \u001b[0;32mIn [36]\u001b[0m, in \u001b[0;36m<cell line: 8>\u001b[0;34m()\u001b[0m\n\u001b[1;32m      6\u001b[0m \u001b[38;5;66;03m#main program\u001b[39;00m\n\u001b[1;32m      7\u001b[0m carp()\n\u001b[0;32m----> 8\u001b[0m \u001b[38;5;28mprint\u001b[39m(\u001b[38;5;124m\"\u001b[39m\u001b[38;5;124ma..:\u001b[39m\u001b[38;5;124m\"\u001b[39m, \u001b[43ma\u001b[49m)\n",
      "\u001b[0;31mNameError\u001b[0m: name 'a' is not defined"
     ]
    }
   ],
   "source": [
    "def carp():\n",
    "    a = 3\n",
    "    b = 2*a\n",
    "    print(b)\n",
    "\n",
    "#main program\n",
    "carp()\n",
    "print(\"a..:\", a)"
   ]
  },
  {
   "cell_type": "code",
   "execution_count": 37,
   "id": "9bbff93f",
   "metadata": {},
   "outputs": [
    {
     "name": "stdout",
     "output_type": "stream",
     "text": [
      "6\n",
      "a..: 3\n"
     ]
    }
   ],
   "source": [
    "def carp():\n",
    "    global a  #local a nın scope genişletildi (tüm programa)\n",
    "    a = 3\n",
    "    b = 2*a\n",
    "    print(b)\n",
    "\n",
    "#main program\n",
    "carp()\n",
    "print(\"a..:\", a)"
   ]
  },
  {
   "cell_type": "code",
   "execution_count": 40,
   "id": "3cbdc136",
   "metadata": {},
   "outputs": [
    {
     "name": "stdout",
     "output_type": "stream",
     "text": [
      "city3..: istanbul\n",
      "city2..: izmit\n",
      "city1..: ankara\n",
      "Berlin\n"
     ]
    }
   ],
   "source": [
    "il = \"Berlin\" #global\n",
    "def city1():\n",
    "    il = \"ankara\" #city1 local: enclosing city2\n",
    "    def city2(): \n",
    "        il = \"izmit\" #city2 local: enclosing city3\n",
    "        def city3():\n",
    "            il = \"istanbul\" #city3 local\n",
    "            print(\"city3..:\",il)\n",
    "        city3()\n",
    "        print(\"city2..:\", il)\n",
    "        \n",
    "    city2()\n",
    "    print(\"city1..:\",il)\n",
    "\n",
    "#main program: global\n",
    "city1()\n",
    "print(il) #global il değeri yazdırıldı"
   ]
  },
  {
   "cell_type": "code",
   "execution_count": 42,
   "id": "83b21c90",
   "metadata": {},
   "outputs": [
    {
     "name": "stdout",
     "output_type": "stream",
     "text": [
      "city3..: istanbul\n",
      "city2..: izmit\n",
      "city1..: izmit\n",
      "Berlin\n"
     ]
    }
   ],
   "source": [
    "il = \"Berlin\" #global\n",
    "def city1():\n",
    "    il = \"ankara\" #city1 local: enclosing city2\n",
    "    def city2(): \n",
    "        nonlocal il\n",
    "        il = \"izmit\" #city2 local: enclosing city3\n",
    "        def city3():\n",
    "            il = \"istanbul\" #city3 local\n",
    "            print(\"city3..:\",il)\n",
    "        city3()\n",
    "        print(\"city2..:\", il)\n",
    "        \n",
    "    city2()\n",
    "    print(\"city1..:\",il)\n",
    "\n",
    "#main program: global\n",
    "city1()\n",
    "print(il) #global il değeri yazdırıldı"
   ]
  },
  {
   "cell_type": "code",
   "execution_count": 44,
   "id": "289f8b0d",
   "metadata": {},
   "outputs": [
    {
     "name": "stdout",
     "output_type": "stream",
     "text": [
      "city3..: istanbul\n",
      "city2..: izmit\n",
      "city1..: ankara\n",
      "ankara\n"
     ]
    }
   ],
   "source": [
    "il = \"Berlin\" #global\n",
    "def city1():\n",
    "    global il\n",
    "    il = \"ankara\" #city1 local: enclosing city2\n",
    "    def city2(): \n",
    "        #nonlocal il\n",
    "        il = \"izmit\" #city2 local: enclosing city3\n",
    "        def city3():\n",
    "            il = \"istanbul\" #city3 local\n",
    "            print(\"city3..:\",il)\n",
    "        city3()\n",
    "        print(\"city2..:\", il)\n",
    "        \n",
    "    city2()\n",
    "    print(\"city1..:\",il)\n",
    "\n",
    "#main program: global\n",
    "city1()\n",
    "print(il) #global il değeri yazdırıldı"
   ]
  },
  {
   "cell_type": "code",
   "execution_count": 45,
   "id": "5ab42306",
   "metadata": {},
   "outputs": [
    {
     "name": "stdout",
     "output_type": "stream",
     "text": [
      "city3..: istanbul\n",
      "city2..: izmit\n",
      "city1..: ankara\n",
      "istanbul\n"
     ]
    }
   ],
   "source": [
    "il = \"Berlin\" #global\n",
    "def city1():\n",
    "    il = \"ankara\" #city1 local: enclosing city2\n",
    "    def city2(): \n",
    "        il = \"izmit\" #city2 local: enclosing city3\n",
    "        def city3():\n",
    "            global il\n",
    "            il = \"istanbul\" #city3 local\n",
    "            print(\"city3..:\",il)\n",
    "        city3()\n",
    "        print(\"city2..:\", il)\n",
    "        \n",
    "    city2()\n",
    "    print(\"city1..:\",il)\n",
    "\n",
    "#main program: global\n",
    "city1()\n",
    "print(il) #global il değeri yazdırıldı"
   ]
  },
  {
   "cell_type": "code",
   "execution_count": 46,
   "id": "18b15f62",
   "metadata": {},
   "outputs": [
    {
     "name": "stdout",
     "output_type": "stream",
     "text": [
      "city3..: istanbul\n",
      "city2..: izmit\n",
      "city1..: izmit\n",
      "istanbul\n"
     ]
    }
   ],
   "source": [
    "il = \"Berlin\" #global\n",
    "def city1():\n",
    "    il = \"ankara\" #city1 local: enclosing city2\n",
    "    def city2(): \n",
    "        nonlocal il\n",
    "        il = \"izmit\" #city2 local: enclosing city3\n",
    "        def city3():\n",
    "            global il\n",
    "            il = \"istanbul\" #city3 local\n",
    "            print(\"city3..:\",il)\n",
    "        city3()\n",
    "        print(\"city2..:\", il)\n",
    "        \n",
    "    city2()\n",
    "    print(\"city1..:\",il)\n",
    "\n",
    "#main program: global\n",
    "city1()\n",
    "print(il) #global il değeri yazdırıldı"
   ]
  },
  {
   "cell_type": "code",
   "execution_count": 52,
   "id": "7b57696a",
   "metadata": {},
   "outputs": [
    {
     "name": "stdout",
     "output_type": "stream",
     "text": [
      "25\n"
     ]
    }
   ],
   "source": [
    "#lambda fonksiyonları\n",
    "def square(x):\n",
    "    return x**2\n",
    "\n",
    "print(square(5))"
   ]
  },
  {
   "cell_type": "code",
   "execution_count": 54,
   "id": "c720ef5d",
   "metadata": {},
   "outputs": [
    {
     "name": "stdout",
     "output_type": "stream",
     "text": [
      "25\n"
     ]
    }
   ],
   "source": [
    "#lambda fonksiyonları\n",
    "print((lambda x: x**2) (5))"
   ]
  },
  {
   "cell_type": "code",
   "execution_count": 65,
   "id": "e0714694",
   "metadata": {},
   "outputs": [
    {
     "name": "stdout",
     "output_type": "stream",
     "text": [
      "4\n"
     ]
    }
   ],
   "source": [
    "#lambda fonksiyonları\n",
    "print((lambda x: x**2) (2))"
   ]
  },
  {
   "cell_type": "code",
   "execution_count": 55,
   "id": "1a976cab",
   "metadata": {},
   "outputs": [
    {
     "name": "stdout",
     "output_type": "stream",
     "text": [
      "25\n"
     ]
    }
   ],
   "source": [
    "#lambda fonksiyonları\n",
    "square = lambda x: x**2\n",
    "print(square(5))"
   ]
  },
  {
   "cell_type": "code",
   "execution_count": 56,
   "id": "487274fa",
   "metadata": {},
   "outputs": [
    {
     "name": "stdout",
     "output_type": "stream",
     "text": [
      "11\n"
     ]
    }
   ],
   "source": [
    "def add(x,y):\n",
    "    return x + y\n",
    "\n",
    "print(add(5,6))"
   ]
  },
  {
   "cell_type": "code",
   "execution_count": 57,
   "id": "c199ec31",
   "metadata": {},
   "outputs": [
    {
     "name": "stdout",
     "output_type": "stream",
     "text": [
      "11\n"
     ]
    }
   ],
   "source": [
    "#1. yol: lambda\n",
    "add = lambda x,y: x + y\n",
    "print(add(5,6))"
   ]
  },
  {
   "cell_type": "code",
   "execution_count": 58,
   "id": "e286b719",
   "metadata": {},
   "outputs": [
    {
     "name": "stdout",
     "output_type": "stream",
     "text": [
      "11\n"
     ]
    }
   ],
   "source": [
    "#2. yol : lambda fonksiyonları\n",
    "print((lambda x,y: x+y) (5,6))  #girdiler: 5,6"
   ]
  },
  {
   "cell_type": "code",
   "execution_count": 59,
   "id": "6a3087d8",
   "metadata": {},
   "outputs": [
    {
     "name": "stdout",
     "output_type": "stream",
     "text": [
      "even\n"
     ]
    }
   ],
   "source": [
    "print((lambda x: \"odd\" if x%2!=0 else \"even\") (x:=6) )"
   ]
  },
  {
   "cell_type": "code",
   "execution_count": 60,
   "id": "eb865d74",
   "metadata": {},
   "outputs": [
    {
     "name": "stdout",
     "output_type": "stream",
     "text": [
      "odd\n"
     ]
    }
   ],
   "source": [
    "print((lambda x: \"odd\" if x%2!=0 else \"even\") (x:=3) )"
   ]
  },
  {
   "cell_type": "code",
   "execution_count": 61,
   "id": "d8668a23",
   "metadata": {},
   "outputs": [
    {
     "name": "stdout",
     "output_type": "stream",
     "text": [
      "odd\n"
     ]
    }
   ],
   "source": [
    "print((lambda x: \"odd\" if x%2!=0 else \"even\") (3) )"
   ]
  },
  {
   "cell_type": "code",
   "execution_count": null,
   "id": "e37c9fd2",
   "metadata": {},
   "outputs": [],
   "source": [
    "# (a:=5) wallrus operatörü: parantez içerisinde değişkene değer atama operatörü"
   ]
  },
  {
   "cell_type": "code",
   "execution_count": 62,
   "id": "16d1f94b",
   "metadata": {},
   "outputs": [
    {
     "name": "stdout",
     "output_type": "stream",
     "text": [
      "5\n"
     ]
    }
   ],
   "source": [
    "a = 5\n",
    "if a>=3:\n",
    "    print(a)"
   ]
  },
  {
   "cell_type": "code",
   "execution_count": 64,
   "id": "e3d3c300",
   "metadata": {},
   "outputs": [
    {
     "name": "stdout",
     "output_type": "stream",
     "text": [
      "True\n"
     ]
    }
   ],
   "source": [
    "if (a:=5 >= 3):\n",
    "    print(a)"
   ]
  },
  {
   "cell_type": "code",
   "execution_count": 66,
   "id": "d258ca0b",
   "metadata": {},
   "outputs": [
    {
     "name": "stdout",
     "output_type": "stream",
     "text": [
      "4.0\n"
     ]
    }
   ],
   "source": [
    "def average(x,y):\n",
    "    return (x+y)/2\n",
    "\n",
    "print(average(3,5))"
   ]
  },
  {
   "cell_type": "code",
   "execution_count": 68,
   "id": "7ec163c7",
   "metadata": {},
   "outputs": [
    {
     "name": "stdout",
     "output_type": "stream",
     "text": [
      "4.0\n"
     ]
    }
   ],
   "source": [
    "#2. yol : lambda fonksiyonları\n",
    "print((lambda x,y: (x+y)/2) (3,5))  #girdiler: 3,5"
   ]
  },
  {
   "cell_type": "code",
   "execution_count": 69,
   "id": "c9b56f77",
   "metadata": {},
   "outputs": [
    {
     "name": "stdout",
     "output_type": "stream",
     "text": [
      "4.0\n"
     ]
    }
   ],
   "source": [
    "average = lambda x,y: (x+y)/2\n",
    "\n",
    "print(average(3,5))"
   ]
  },
  {
   "cell_type": "code",
   "execution_count": 70,
   "id": "63e364aa",
   "metadata": {},
   "outputs": [
    {
     "name": "stdout",
     "output_type": "stream",
     "text": [
      "su emac ossaH\n",
      "[9, 7, 5, 3, 1]\n"
     ]
    }
   ],
   "source": [
    "reverse = lambda x : x[::-1]\n",
    "print(reverse('Hasso came us'))\n",
    "print(reverse([1,3,5,7,9]))"
   ]
  },
  {
   "cell_type": "code",
   "execution_count": 71,
   "id": "b4d7f628",
   "metadata": {},
   "outputs": [
    {
     "name": "stdout",
     "output_type": "stream",
     "text": [
      "su emac ossaH\n"
     ]
    }
   ],
   "source": [
    "x = 'Hasso came us'\n",
    "reverse = lambda x : x[::-1]\n",
    "print(reverse(x))"
   ]
  },
  {
   "cell_type": "code",
   "execution_count": 73,
   "id": "f9a23048",
   "metadata": {},
   "outputs": [
    {
     "name": "stdout",
     "output_type": "stream",
     "text": [
      "su emac ossaH\n"
     ]
    }
   ],
   "source": [
    "x = 'Hasso came us'\n",
    "print((lambda x : x[::-1]) (x))"
   ]
  },
  {
   "cell_type": "code",
   "execution_count": 74,
   "id": "6db2a755",
   "metadata": {},
   "outputs": [
    {
     "name": "stdout",
     "output_type": "stream",
     "text": [
      "<function <lambda> at 0x7fd987a99c10>\n"
     ]
    }
   ],
   "source": [
    "x = 'Hasso came us'\n",
    "print(lambda x : x[::-1] (x)) #beni parantezlerinle sarmala...üstteki gibi"
   ]
  },
  {
   "cell_type": "code",
   "execution_count": 77,
   "id": "fe2f08c5",
   "metadata": {},
   "outputs": [
    {
     "name": "stdout",
     "output_type": "stream",
     "text": [
      "[4, 3, 2, 1]\n"
     ]
    }
   ],
   "source": [
    "x = [1,2,3,4]\n",
    "a = (lambda x: reversed(x))\n",
    "print(list(a(x)))"
   ]
  },
  {
   "cell_type": "code",
   "execution_count": 88,
   "id": "7df3bcc7",
   "metadata": {},
   "outputs": [
    {
     "name": "stdout",
     "output_type": "stream",
     "text": [
      "[4, 3, 2, 1]\n"
     ]
    }
   ],
   "source": [
    "x = [1,2,3,4]\n",
    "print((lambda x: list(reversed(x))) (x))"
   ]
  },
  {
   "cell_type": "code",
   "execution_count": 90,
   "id": "bbdfa1f1",
   "metadata": {},
   "outputs": [
    {
     "name": "stdout",
     "output_type": "stream",
     "text": [
      "1 : odd\n",
      "2 : even\n",
      "3 : odd\n",
      "4 : even\n",
      "55 : odd\n",
      "32 : even\n",
      "7 : odd\n"
     ]
    }
   ],
   "source": [
    "x_liste = [1,2,3,4,55,32,7]\n",
    "for x in x_liste:\n",
    "    print(x, \":\", (lambda x: \"odd\" if x%2!=0 else \"even\") (x) )"
   ]
  },
  {
   "cell_type": "code",
   "execution_count": 94,
   "id": "d631dead",
   "metadata": {},
   "outputs": [
    {
     "name": "stdout",
     "output_type": "stream",
     "text": [
      "<class 'map'>\n",
      "[1, 4, 9, 16, 25, 36]\n",
      "[1, 4, 9, 16, 25, 36]\n"
     ]
    }
   ],
   "source": [
    "iterable = [1,2,3,4,5,6]\n",
    "map(lambda x: x**2, iterable) #map (fonksiyon, iterable object)\n",
    "result = map(lambda x: x**2, iterable)\n",
    "print(type(result))\n",
    "print(list(result))\n",
    "print(list(map(lambda x: x**2, iterable)))"
   ]
  },
  {
   "cell_type": "code",
   "execution_count": 95,
   "id": "051ba0e0",
   "metadata": {},
   "outputs": [
    {
     "name": "stdout",
     "output_type": "stream",
     "text": [
      "[1, 4, 9, 16, 25, 36]\n"
     ]
    }
   ],
   "source": [
    "def square(x):\n",
    "    return x**2\n",
    "\n",
    "iterable = [1,2,3,4,5,6]\n",
    "result = map(square, iterable)\n",
    "print(list(result))"
   ]
  },
  {
   "cell_type": "code",
   "execution_count": 96,
   "id": "86b19e7e",
   "metadata": {},
   "outputs": [
    {
     "name": "stdout",
     "output_type": "stream",
     "text": [
      "['one', 'six', 'ten', 'two']\n"
     ]
    }
   ],
   "source": [
    "letter1 = [\"o\",\"s\", \"t\", \"t\"]\n",
    "letter2 = [\"n\", \"i\", \"e\", \"w\"]\n",
    "letter3 = [\"e\",\"x\",\"n\",\"o\"]\n",
    "numbers = map(lambda x,y,z: x+y+z, letter1, letter2, letter3)\n",
    "print(list(numbers))"
   ]
  },
  {
   "cell_type": "code",
   "execution_count": 97,
   "id": "fa9bb56f",
   "metadata": {},
   "outputs": [
    {
     "name": "stdout",
     "output_type": "stream",
     "text": [
      "[6.0, 6.0, 6.0, 6.0]\n"
     ]
    }
   ],
   "source": [
    "nums1 = [9,6,7,4]\n",
    "nums2 = [3,6,5,8]\n",
    "numbers = map(lambda x,y: (x+y)/2, nums1, nums2)\n",
    "print(list(numbers))"
   ]
  },
  {
   "cell_type": "code",
   "execution_count": 98,
   "id": "bca1e3cd",
   "metadata": {},
   "outputs": [
    {
     "name": "stdout",
     "output_type": "stream",
     "text": [
      "['i love you', 'you ate much', 'he works hard']\n"
     ]
    }
   ],
   "source": [
    "w1 = [\"you\",\"much\", \"hard\"]\n",
    "w2 = [\"i\", \"you\", \"he\"]\n",
    "w3 = [\"love\",\"ate\",\"works\"]\n",
    "sentences = map(lambda x,y,z: x+ \" \" + y + \" \" + z, w2, w3, w1)\n",
    "print(list(sentences))"
   ]
  },
  {
   "cell_type": "code",
   "execution_count": 99,
   "id": "e6244217",
   "metadata": {},
   "outputs": [
    {
     "name": "stdout",
     "output_type": "stream",
     "text": [
      "i love you\n",
      "you ate much\n",
      "he works hard\n"
     ]
    }
   ],
   "source": [
    "w1 = [\"you\",\"much\", \"hard\"]\n",
    "w2 = [\"i\", \"you\", \"he\"]\n",
    "w3 = [\"love\",\"ate\",\"works\"]\n",
    "sentences = map(lambda x,y,z: x+ \" \" + y + \" \" + z, w2, w3, w1)\n",
    "\n",
    "for i in sentences:\n",
    "    print(i)"
   ]
  },
  {
   "cell_type": "code",
   "execution_count": 100,
   "id": "1281715d",
   "metadata": {},
   "outputs": [
    {
     "name": "stdout",
     "output_type": "stream",
     "text": [
      "['a', 'e', 'i']\n"
     ]
    }
   ],
   "source": [
    "vowels = [\"a\", \"e\", \"i\", \"o\", \"u\"]\n",
    "first_ten = [\"a\", \"b\", \"c\", \"d\", \"e\",\"f\", \"g\", \"i\"]\n",
    "sesliler = filter(lambda x : True if x in vowels else False, first_ten)\n",
    "print(list(sesliler))"
   ]
  },
  {
   "cell_type": "code",
   "execution_count": 18,
   "id": "b90647ab",
   "metadata": {},
   "outputs": [
    {
     "name": "stdout",
     "output_type": "stream",
     "text": [
      "Help on class map in module builtins:\n",
      "\n",
      "class map(object)\n",
      " |  map(func, *iterables) --> map object\n",
      " |  \n",
      " |  Make an iterator that computes the function using arguments from\n",
      " |  each of the iterables.  Stops when the shortest iterable is exhausted.\n",
      " |  \n",
      " |  Methods defined here:\n",
      " |  \n",
      " |  __getattribute__(self, name, /)\n",
      " |      Return getattr(self, name).\n",
      " |  \n",
      " |  __iter__(self, /)\n",
      " |      Implement iter(self).\n",
      " |  \n",
      " |  __next__(self, /)\n",
      " |      Implement next(self).\n",
      " |  \n",
      " |  __reduce__(...)\n",
      " |      Return state information for pickling.\n",
      " |  \n",
      " |  ----------------------------------------------------------------------\n",
      " |  Static methods defined here:\n",
      " |  \n",
      " |  __new__(*args, **kwargs) from builtins.type\n",
      " |      Create and return a new object.  See help(type) for accurate signature.\n",
      "\n"
     ]
    }
   ],
   "source": [
    "help(map)"
   ]
  },
  {
   "cell_type": "code",
   "execution_count": null,
   "id": "713de6d3",
   "metadata": {},
   "outputs": [],
   "source": []
  }
 ],
 "metadata": {
  "kernelspec": {
   "display_name": "Python 3 (ipykernel)",
   "language": "python",
   "name": "python3"
  },
  "language_info": {
   "codemirror_mode": {
    "name": "ipython",
    "version": 3
   },
   "file_extension": ".py",
   "mimetype": "text/x-python",
   "name": "python",
   "nbconvert_exporter": "python",
   "pygments_lexer": "ipython3",
   "version": "3.8.10"
  }
 },
 "nbformat": 4,
 "nbformat_minor": 5
}
