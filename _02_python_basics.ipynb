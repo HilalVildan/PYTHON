{
  "nbformat": 4,
  "nbformat_minor": 0,
  "metadata": {
    "colab": {
      "name": "_02_python_basics.ipynb",
      "provenance": []
    },
    "kernelspec": {
      "name": "python3",
      "display_name": "Python 3"
    },
    "language_info": {
      "name": "python"
    }
  },
  "cells": [
    {
      "cell_type": "markdown",
      "source": [
        "## Python Basic, Session-2, \n",
        "# Variables, PEP8, Docstrings,...."
      ],
      "metadata": {
        "id": "mC394R01JHp7"
      }
    },
    {
      "cell_type": "markdown",
      "source": [
        "##Docstring kullanım alanları:\n",
        "1. Fonksiyon ya da programı açıklayan bir belge hazırlamak için kullanılır. Docstring içeriğini okumak için '. __ doc __' özelliği/keywordu kullanılıyor"
      ],
      "metadata": {
        "id": "GqOd6A1ZJiZ4"
      }
    },
    {
      "cell_type": "code",
      "execution_count": 1,
      "metadata": {
        "colab": {
          "base_uri": "https://localhost:8080/"
        },
        "id": "AQ3jIC8KJCKw",
        "outputId": "4e3afabc-fa47-4ada-9294-277d97b40cf7"
      },
      "outputs": [
        {
          "output_type": "stream",
          "name": "stdout",
          "text": [
            "print(value, ..., sep=' ', end='\\n', file=sys.stdout, flush=False)\n",
            "\n",
            "Prints the values to a stream, or to sys.stdout by default.\n",
            "Optional keyword arguments:\n",
            "file:  a file-like object (stream); defaults to the current sys.stdout.\n",
            "sep:   string inserted between values, default a space.\n",
            "end:   string appended after the last value, default a newline.\n",
            "flush: whether to forcibly flush the stream.\n"
          ]
        }
      ],
      "source": [
        "print(print.__doc__)"
      ]
    },
    {
      "cell_type": "code",
      "source": [
        "def benim_fonksiyonum():\n",
        "    \"\"\"\n",
        "    Hi, I am the docstring of this code. \n",
        "    If you need any information about this function or module, read me. \n",
        "    It can help you understand how the module or function works.\n",
        "    \"\"\"\n",
        "    # print(\"şu anda docstringi açıklıyorum\")\n",
        "    pass\n"
      ],
      "metadata": {
        "id": "SjpLN5LGJwje"
      },
      "execution_count": 2,
      "outputs": []
    },
    {
      "cell_type": "code",
      "source": [
        "print(benim_fonksiyonum.__doc__)"
      ],
      "metadata": {
        "colab": {
          "base_uri": "https://localhost:8080/"
        },
        "id": "IGWytK2mKXJQ",
        "outputId": "1ca3c7e0-ef02-4e75-87c6-6e78e372662f"
      },
      "execution_count": 3,
      "outputs": [
        {
          "output_type": "stream",
          "name": "stdout",
          "text": [
            "\n",
            "    Hi, I am the docstring of this code. \n",
            "    If you need any information about this function or module, read me. \n",
            "    It can help you understand how the module or function works.\n",
            "    \n"
          ]
        }
      ]
    },
    {
      "cell_type": "code",
      "source": [
        "print(map.__doc__)"
      ],
      "metadata": {
        "colab": {
          "base_uri": "https://localhost:8080/"
        },
        "id": "pArQKJ_GLK8w",
        "outputId": "2ba7d69f-638e-4aed-abfb-0023f4723b58"
      },
      "execution_count": 4,
      "outputs": [
        {
          "output_type": "stream",
          "name": "stdout",
          "text": [
            "map(func, *iterables) --> map object\n",
            "\n",
            "Make an iterator that computes the function using arguments from\n",
            "each of the iterables.  Stops when the shortest iterable is exhausted.\n"
          ]
        }
      ]
    },
    {
      "cell_type": "code",
      "source": [
        "print(sum.__doc__)"
      ],
      "metadata": {
        "colab": {
          "base_uri": "https://localhost:8080/"
        },
        "id": "PPjG8RuOLTAk",
        "outputId": "197085be-2e9f-473f-aa4a-872abdbeb302"
      },
      "execution_count": 5,
      "outputs": [
        {
          "output_type": "stream",
          "name": "stdout",
          "text": [
            "Return the sum of a 'start' value (default: 0) plus an iterable of numbers\n",
            "\n",
            "When the iterable is empty, return the start value.\n",
            "This function is intended specifically for use with numeric values and may\n",
            "reject non-numeric types.\n"
          ]
        }
      ]
    },
    {
      "cell_type": "code",
      "source": [
        "print(\"mesajım\", \"benim\")\n",
        "print(\"budur\")"
      ],
      "metadata": {
        "colab": {
          "base_uri": "https://localhost:8080/"
        },
        "id": "1_G1m3JrMBGZ",
        "outputId": "26aa7a31-9d7b-49ac-bb6f-0afe680f5345"
      },
      "execution_count": 6,
      "outputs": [
        {
          "output_type": "stream",
          "name": "stdout",
          "text": [
            "mesajım benim\n",
            "budur\n"
          ]
        }
      ]
    },
    {
      "cell_type": "code",
      "source": [
        "print(\"mesajım\", \"benim\", sep=\" - \", end=\"\")\n",
        "print(\"budur\")"
      ],
      "metadata": {
        "colab": {
          "base_uri": "https://localhost:8080/"
        },
        "id": "aFbALlFeMQ5G",
        "outputId": "15084790-1781-48e4-e3a4-44286657d52c"
      },
      "execution_count": 7,
      "outputs": [
        {
          "output_type": "stream",
          "name": "stdout",
          "text": [
            "mesajım - benimbudur\n"
          ]
        }
      ]
    },
    {
      "cell_type": "markdown",
      "source": [
        "2. kullanım şekli de kod satırlarını test amaçlı kullanılır."
      ],
      "metadata": {
        "id": "fAXA0yNIM2uN"
      }
    },
    {
      "cell_type": "code",
      "source": [
        "def topla(a,b):\n",
        "    # test kodum\n",
        "    \"\"\"\n",
        "    >>> topla(3,3)\n",
        "    5\n",
        "    >>> topla(2,3)\n",
        "    5\n",
        "    \"\"\"\n",
        "    return a+b\n",
        "#ana program\n",
        "import doctest\n",
        "doctest.testmod()\n"
      ],
      "metadata": {
        "colab": {
          "base_uri": "https://localhost:8080/"
        },
        "id": "169fxVmaM1mp",
        "outputId": "98e7200f-4a85-40e5-970e-77fcd5f22313"
      },
      "execution_count": 10,
      "outputs": [
        {
          "output_type": "stream",
          "name": "stdout",
          "text": [
            "**********************************************************************\n",
            "File \"__main__\", line 3, in __main__.topla\n",
            "Failed example:\n",
            "    topla(3,3)\n",
            "Expected:\n",
            "    5\n",
            "Got:\n",
            "    6\n",
            "**********************************************************************\n",
            "1 items had failures:\n",
            "   1 of   2 in __main__.topla\n",
            "***Test Failed*** 1 failures.\n"
          ]
        },
        {
          "output_type": "execute_result",
          "data": {
            "text/plain": [
              "TestResults(failed=1, attempted=2)"
            ]
          },
          "metadata": {},
          "execution_count": 10
        }
      ]
    },
    {
      "cell_type": "markdown",
      "source": [
        "Değişken isimlendirme kuralları:\n",
        "1- '_' hariç özel karakterler  (+,%,/?-...)kullanılmaz \n",
        "2. Değişken adı rakamla başlamaz (5ad gibi )\n",
        "3. Python keywordleri değişken adı olarak kullanılamaz (not, is,...)\n",
        "-----\n",
        "4. PEP8 kuralı olarak birden fazla kelimeden oluşan değişken isimlerinde arada '_' kullanılır.\n",
        "5. Değişken veya fonksiyon isimlerinnde küçük harfler kullanılır..\n",
        "6. Türkçe karakterler kullanmamaya özen gösteriniz.."
      ],
      "metadata": {
        "id": "A5kRcByvWCGK"
      }
    },
    {
      "cell_type": "code",
      "source": [
        "ad soyad = \"ali veli\"  # Doğru değil"
      ],
      "metadata": {
        "id": "0bLFRwhLNqJk"
      },
      "execution_count": null,
      "outputs": []
    },
    {
      "cell_type": "code",
      "source": [
        "ad_soyad = \"ali veli\"  # Doğrusu"
      ],
      "metadata": {
        "id": "5iU_5w5VW6BH"
      },
      "execution_count": null,
      "outputs": []
    },
    {
      "cell_type": "code",
      "source": [
        "5levent = \"istanbul\"  # Doğru değil"
      ],
      "metadata": {
        "id": "UQmZhpYyW-qt"
      },
      "execution_count": null,
      "outputs": []
    },
    {
      "cell_type": "code",
      "source": [
        "no.5 = \"ali\"   # Doğru değil"
      ],
      "metadata": {
        "id": "7wv3GzY0XHjd"
      },
      "execution_count": null,
      "outputs": []
    },
    {
      "cell_type": "code",
      "source": [
        "not = 50  # Doğru değil (keyword)"
      ],
      "metadata": {
        "id": "1rWlMArwXpsi"
      },
      "execution_count": null,
      "outputs": []
    },
    {
      "cell_type": "markdown",
      "source": [
        "Python keywordleri"
      ],
      "metadata": {
        "id": "g_sjhx5FXxmV"
      }
    },
    {
      "cell_type": "code",
      "source": [
        "import keyword\n",
        "print(keyword.kwlist)"
      ],
      "metadata": {
        "colab": {
          "base_uri": "https://localhost:8080/"
        },
        "id": "GsYkjyZVX0qR",
        "outputId": "1791ad7e-ea9f-46b4-915d-391330ab8058"
      },
      "execution_count": 11,
      "outputs": [
        {
          "output_type": "stream",
          "name": "stdout",
          "text": [
            "['False', 'None', 'True', 'and', 'as', 'assert', 'async', 'await', 'break', 'class', 'continue', 'def', 'del', 'elif', 'else', 'except', 'finally', 'for', 'from', 'global', 'if', 'import', 'in', 'is', 'lambda', 'nonlocal', 'not', 'or', 'pass', 'raise', 'return', 'try', 'while', 'with', 'yield']\n"
          ]
        }
      ]
    },
    {
      "cell_type": "code",
      "source": [
        "# İngilizce karıştırılabilecek harfler kullanılmamalı\n",
        "O = \"ali\" # 0 karıştırılabilir\n",
        "l = \"veli\"  # 1, I karıştırılabilir\n",
        "# I, b, B karıştırabilir"
      ],
      "metadata": {
        "id": "gGq-MhtzYQyw"
      },
      "execution_count": null,
      "outputs": []
    },
    {
      "cell_type": "code",
      "source": [
        "print(\"first line\")\n",
        "# print(\"second line\")\n",
        "print(\"thirth line\")"
      ],
      "metadata": {
        "colab": {
          "base_uri": "https://localhost:8080/"
        },
        "id": "cw7EAC63cEXf",
        "outputId": "28cce503-12b2-4ff8-b5d7-a4ded53cc382"
      },
      "execution_count": 12,
      "outputs": [
        {
          "output_type": "stream",
          "name": "stdout",
          "text": [
            "first line\n",
            "thirth line\n"
          ]
        }
      ]
    },
    {
      "cell_type": "code",
      "source": [
        "# Average income of February\n",
        "average_income_of_february = 20000 # şık değil\n",
        "avg_income_feb = 20000\n"
      ],
      "metadata": {
        "id": "XzVkMEEUcohY"
      },
      "execution_count": null,
      "outputs": []
    },
    {
      "cell_type": "code",
      "source": [
        "# Big Data\n",
        "big_data = \"2,3,6,7,6\"\n",
        "# b_d veya b_dt\n"
      ],
      "metadata": {
        "id": "380e6vTzdEgW"
      },
      "execution_count": null,
      "outputs": []
    },
    {
      "cell_type": "code",
      "source": [
        "#students\n",
        "students = \"ali dede\"\n",
        "# s veya st, sdnt anlamlı olmuyor...."
      ],
      "metadata": {
        "id": "UPPMO1N5dWQ9"
      },
      "execution_count": null,
      "outputs": []
    },
    {
      "cell_type": "code",
      "source": [
        "# nasıl isimlendirilir?\n",
        "# the list of prime numbers\n",
        "list_prime_no = \"1,3,5,7,11,13\"\n"
      ],
      "metadata": {
        "id": "mYqVlgjmdi5D"
      },
      "execution_count": null,
      "outputs": []
    },
    {
      "cell_type": "code",
      "source": [
        "# nasıl isimlendirilir?\n",
        "# the list of mathematics exam scores\n",
        "list_math_scores = \"50, 78, 90\"\n"
      ],
      "metadata": {
        "id": "PkEdZQuyd3W6"
      },
      "execution_count": null,
      "outputs": []
    },
    {
      "cell_type": "code",
      "source": [
        "# nasıl isimlendirilir?\n",
        "# amount of rotten fruits\n",
        "amount_fruit_rotten = 56 #snake case\n",
        "amnt_fruit_rotten = 56 #gibi\n",
        "AmountRottenFruit #camel case veya \n",
        "amountRottenFruit #pascal case"
      ],
      "metadata": {
        "id": "BML3K9PZeJEH"
      },
      "execution_count": null,
      "outputs": []
    },
    {
      "cell_type": "code",
      "source": [
        "x = y = z = \"same\"\n",
        "print(x)\n",
        "print(y)\n",
        "print(z)"
      ],
      "metadata": {
        "colab": {
          "base_uri": "https://localhost:8080/"
        },
        "id": "L2UYLCkHhpyt",
        "outputId": "46bca34d-b0f1-47b6-faac-6fcdafa8f9c9"
      },
      "execution_count": 13,
      "outputs": [
        {
          "output_type": "stream",
          "name": "stdout",
          "text": [
            "same\n",
            "same\n",
            "same\n"
          ]
        }
      ]
    },
    {
      "cell_type": "code",
      "source": [
        "x, y, z = \"same\"\n",
        "print(x)\n",
        "print(y)\n",
        "print(z)"
      ],
      "metadata": {
        "colab": {
          "base_uri": "https://localhost:8080/",
          "height": 218
        },
        "id": "r-km5Ky7h3tI",
        "outputId": "06e56fa3-f242-4569-c11e-d18ed7dd6939"
      },
      "execution_count": 14,
      "outputs": [
        {
          "output_type": "error",
          "ename": "ValueError",
          "evalue": "ignored",
          "traceback": [
            "\u001b[0;31m---------------------------------------------------------------------------\u001b[0m",
            "\u001b[0;31mValueError\u001b[0m                                Traceback (most recent call last)",
            "\u001b[0;32m<ipython-input-14-f0d54529f2cd>\u001b[0m in \u001b[0;36m<module>\u001b[0;34m()\u001b[0m\n\u001b[0;32m----> 1\u001b[0;31m \u001b[0mx\u001b[0m\u001b[0;34m,\u001b[0m \u001b[0my\u001b[0m\u001b[0;34m,\u001b[0m \u001b[0mz\u001b[0m \u001b[0;34m=\u001b[0m \u001b[0;34m\"same\"\u001b[0m\u001b[0;34m\u001b[0m\u001b[0;34m\u001b[0m\u001b[0m\n\u001b[0m\u001b[1;32m      2\u001b[0m \u001b[0mprint\u001b[0m\u001b[0;34m(\u001b[0m\u001b[0mx\u001b[0m\u001b[0;34m)\u001b[0m\u001b[0;34m\u001b[0m\u001b[0;34m\u001b[0m\u001b[0m\n\u001b[1;32m      3\u001b[0m \u001b[0mprint\u001b[0m\u001b[0;34m(\u001b[0m\u001b[0my\u001b[0m\u001b[0;34m)\u001b[0m\u001b[0;34m\u001b[0m\u001b[0;34m\u001b[0m\u001b[0m\n\u001b[1;32m      4\u001b[0m \u001b[0mprint\u001b[0m\u001b[0;34m(\u001b[0m\u001b[0mz\u001b[0m\u001b[0;34m)\u001b[0m\u001b[0;34m\u001b[0m\u001b[0;34m\u001b[0m\u001b[0m\n",
            "\u001b[0;31mValueError\u001b[0m: too many values to unpack (expected 3)"
          ]
        }
      ]
    },
    {
      "cell_type": "code",
      "source": [
        "x, y, z = \"same\", \"same\", \"same\"\n",
        "print(x)\n",
        "print(y)\n",
        "print(z)"
      ],
      "metadata": {
        "colab": {
          "base_uri": "https://localhost:8080/"
        },
        "id": "mAIUqja3iB-2",
        "outputId": "4cd8eaa0-4165-4da4-fff5-4bb5311d4ad4"
      },
      "execution_count": 15,
      "outputs": [
        {
          "output_type": "stream",
          "name": "stdout",
          "text": [
            "same\n",
            "same\n",
            "same\n"
          ]
        }
      ]
    },
    {
      "cell_type": "code",
      "source": [
        "x, y = 6, 60\n",
        "# x ve y içerikleri yer değiştirsin?\n",
        "# geçici 3. değişkene ihtiyaç var\n",
        "z = x  # x değişkeninin içeriği z ye aktarıldı\n",
        "x = y  # y nin içeriği x e aktarıldı\n",
        "y = z  # z nin (x in ilk hali) içeriği y aktarıldı\n",
        "print(\"x = \",x)\n",
        "print(\"y = \",y) "
      ],
      "metadata": {
        "colab": {
          "base_uri": "https://localhost:8080/"
        },
        "id": "0Z2RkFREihjP",
        "outputId": "023a02c9-5769-4862-a410-4990d126ef24"
      },
      "execution_count": 17,
      "outputs": [
        {
          "output_type": "stream",
          "name": "stdout",
          "text": [
            "x =  60\n",
            "y =  6\n"
          ]
        }
      ]
    },
    {
      "cell_type": "code",
      "source": [
        "# pythonic çözüm\n",
        "x, y = 6, 60\n",
        "# x ve y içerikleri yer değiştirsin?\n",
        "x, y = y, x\n",
        "print(\"x = \",x)\n",
        "print(\"y = \",y)"
      ],
      "metadata": {
        "colab": {
          "base_uri": "https://localhost:8080/"
        },
        "id": "hreynf1ZjaHB",
        "outputId": "633e9d9d-187f-47cf-83d9-73c9129d4379"
      },
      "execution_count": 18,
      "outputs": [
        {
          "output_type": "stream",
          "name": "stdout",
          "text": [
            "x =  60\n",
            "y =  6\n"
          ]
        }
      ]
    },
    {
      "cell_type": "code",
      "source": [
        "#ilk/başlangıç durumu\n",
        "x, y, z = 60, 6, 10\n",
        "z = y  #z = 6\n",
        "y = x  #y = 60\n",
        "x = z  #x = 6\n",
        "print(\"x = \",x)\n",
        "print(\"y = \",y)\n",
        "print(\"z = \",z)\n",
        "# istenen çıktı\n",
        "# x = 6, y = 60, z = 6 "
      ],
      "metadata": {
        "colab": {
          "base_uri": "https://localhost:8080/"
        },
        "id": "n-SCBti8iPcV",
        "outputId": "12c93286-4d1b-4be9-a3c8-606d56cb3b7f"
      },
      "execution_count": 19,
      "outputs": [
        {
          "output_type": "stream",
          "name": "stdout",
          "text": [
            "x =  6\n",
            "y =  60\n",
            "z =  6\n"
          ]
        }
      ]
    },
    {
      "cell_type": "code",
      "source": [
        "# pythonic çözüm\n",
        "#ilk/başlangıç durumu\n",
        "x, y, z = 60, 6, 10\n",
        "# istenen çıktı\n",
        "x, y, z = y, x, y\n",
        "# x = 6, y = 60, z = 6 \n",
        "print(\"x = \",x)\n",
        "print(\"y = \",y)\n",
        "print(\"z = \",z)"
      ],
      "metadata": {
        "colab": {
          "base_uri": "https://localhost:8080/"
        },
        "id": "oP_2L_RgkH7m",
        "outputId": "a9277b0a-fcf7-4cb0-c64b-8cf3f4a26238"
      },
      "execution_count": 20,
      "outputs": [
        {
          "output_type": "stream",
          "name": "stdout",
          "text": [
            "x =  6\n",
            "y =  60\n",
            "z =  6\n"
          ]
        }
      ]
    },
    {
      "cell_type": "code",
      "source": [
        "# pythonic çözüm\n",
        "#ilk/başlangıç durumu\n",
        "x, y, z = 60, 6, 10\n",
        "# istenen çıktı\n",
        "x, y, z = y, x, y\n",
        "# x = 6, y = 60, z = 6 \n",
        "print(x)\n",
        "print(y)\n",
        "print(z)"
      ],
      "metadata": {
        "colab": {
          "base_uri": "https://localhost:8080/"
        },
        "id": "Lyw6G3VGkuBV",
        "outputId": "8455e06a-6173-4a7b-ac1d-0249a9bdf651"
      },
      "execution_count": 21,
      "outputs": [
        {
          "output_type": "stream",
          "name": "stdout",
          "text": [
            "6\n",
            "60\n",
            "6\n"
          ]
        }
      ]
    },
    {
      "cell_type": "code",
      "source": [
        "january = march = may = july = august = october = december = 31\n",
        "april = june = september =november =  30\n",
        "february = None  # 28\n",
        "print(january, february, march, april, may, june, july, august, september, october, november, december)"
      ],
      "metadata": {
        "colab": {
          "base_uri": "https://localhost:8080/"
        },
        "id": "itRKIQCHmP4G",
        "outputId": "76e8803a-ab6e-49bf-dc6a-1bae93cc19c1"
      },
      "execution_count": 24,
      "outputs": [
        {
          "output_type": "stream",
          "name": "stdout",
          "text": [
            "31 None 31 30 31 30 31 31 30 31 30 31\n"
          ]
        }
      ]
    },
    {
      "cell_type": "code",
      "source": [
        "web_site = \"apple.com\"\n",
        "print(web_site)\n",
        "\n",
        "web_site = \"clarusway.com\"\n",
        "print(web_site)\n"
      ],
      "metadata": {
        "colab": {
          "base_uri": "https://localhost:8080/"
        },
        "id": "rwtO7QJdnT6b",
        "outputId": "30699187-a5f7-47e0-d750-e5f9b39f8f74"
      },
      "execution_count": 25,
      "outputs": [
        {
          "output_type": "stream",
          "name": "stdout",
          "text": [
            "apple.com\n",
            "clarusway.com\n"
          ]
        }
      ]
    },
    {
      "cell_type": "code",
      "source": [
        "web_site = \"apple.com\"\n",
        "\n",
        "web_site = \"clarusway.com\"\n",
        "print(web_site)"
      ],
      "metadata": {
        "colab": {
          "base_uri": "https://localhost:8080/"
        },
        "id": "V4CEvRtKng6T",
        "outputId": "722773ab-a581-4697-fda4-1ba89198a5b9"
      },
      "execution_count": 26,
      "outputs": [
        {
          "output_type": "stream",
          "name": "stdout",
          "text": [
            "clarusway.com\n"
          ]
        }
      ]
    },
    {
      "cell_type": "code",
      "source": [
        "first_number = 100\n",
        "second_number = first_number\n",
        "print(second_number)"
      ],
      "metadata": {
        "colab": {
          "base_uri": "https://localhost:8080/"
        },
        "id": "uX4RRoTrn08i",
        "outputId": "6e3f6f52-8037-4dae-dee2-f59088405914"
      },
      "execution_count": 27,
      "outputs": [
        {
          "output_type": "stream",
          "name": "stdout",
          "text": [
            "100\n"
          ]
        }
      ]
    },
    {
      "cell_type": "code",
      "source": [
        "first_number = 100\n",
        "second_number = \"first_number\"\n",
        "print(second_number)"
      ],
      "metadata": {
        "colab": {
          "base_uri": "https://localhost:8080/"
        },
        "id": "vogsRYdmn48M",
        "outputId": "eee1147a-9f5e-49b4-e9df-9583f71b0f2e"
      },
      "execution_count": 28,
      "outputs": [
        {
          "output_type": "stream",
          "name": "stdout",
          "text": [
            "first_number\n"
          ]
        }
      ]
    },
    {
      "cell_type": "code",
      "source": [
        "x = 15\n",
        "y = 33\n",
        "z = x\n",
        "x = y\n",
        "\n",
        "print(x)\n",
        "print(y)\n",
        "print(z) \n"
      ],
      "metadata": {
        "colab": {
          "base_uri": "https://localhost:8080/"
        },
        "id": "lthvgdlyoYtW",
        "outputId": "824924a8-7df8-47a0-cb5c-b2cd3d8a7ea1"
      },
      "execution_count": 29,
      "outputs": [
        {
          "output_type": "stream",
          "name": "stdout",
          "text": [
            "33\n",
            "33\n",
            "15\n"
          ]
        }
      ]
    },
    {
      "cell_type": "code",
      "source": [
        "x = 15\n",
        "y = 33\n",
        "z = x\n",
        "x = y\n",
        "\n",
        "print(x, y, z)\n"
      ],
      "metadata": {
        "colab": {
          "base_uri": "https://localhost:8080/"
        },
        "id": "jnx2yH8CofiR",
        "outputId": "acabdfa1-0523-4f15-e70c-9b3d0b4fd227"
      },
      "execution_count": 30,
      "outputs": [
        {
          "output_type": "stream",
          "name": "stdout",
          "text": [
            "33 33 15\n"
          ]
        }
      ]
    },
    {
      "cell_type": "code",
      "source": [
        "x = 15\n",
        "y = 33\n",
        "z = x\n",
        "x = y\n",
        "\n",
        "print(x, end=\",\")\n",
        "print(y, end=\",\")\n",
        "print(z) "
      ],
      "metadata": {
        "colab": {
          "base_uri": "https://localhost:8080/"
        },
        "id": "5xSYWk_jokfJ",
        "outputId": "d8edf3e9-2ea7-4386-91ca-126504a040de"
      },
      "execution_count": 33,
      "outputs": [
        {
          "output_type": "stream",
          "name": "stdout",
          "text": [
            "33,33,15\n"
          ]
        }
      ]
    },
    {
      "cell_type": "code",
      "source": [
        "a, b, c = 5, 3.2, \"Hello\"\n",
        "\n",
        "print(a)\n",
        "print(b)\n",
        "print(c)"
      ],
      "metadata": {
        "colab": {
          "base_uri": "https://localhost:8080/"
        },
        "id": "5y50K0XtpHIO",
        "outputId": "b533ae78-aa12-4af5-a117-9c8d3596f58b"
      },
      "execution_count": 34,
      "outputs": [
        {
          "output_type": "stream",
          "name": "stdout",
          "text": [
            "5\n",
            "3.2\n",
            "Hello\n"
          ]
        }
      ]
    },
    {
      "cell_type": "code",
      "source": [
        "a, b, c = 5, 3.2, \"Hello\"\n",
        "\n",
        "print(a, b, c)\n"
      ],
      "metadata": {
        "colab": {
          "base_uri": "https://localhost:8080/"
        },
        "id": "9xe5iUyopJ2_",
        "outputId": "0b79495e-5570-4094-e6db-3ad78c24a38f"
      },
      "execution_count": 35,
      "outputs": [
        {
          "output_type": "stream",
          "name": "stdout",
          "text": [
            "5 3.2 Hello\n"
          ]
        }
      ]
    },
    {
      "cell_type": "code",
      "source": [
        "a, b, c = 5, 3.2, \"Hello\"\n",
        "\n",
        "print(a, b, c, sep=\", \")"
      ],
      "metadata": {
        "colab": {
          "base_uri": "https://localhost:8080/"
        },
        "id": "npSDo_I_pPlp",
        "outputId": "1466d107-1513-4b63-cccb-9fdfd7c27872"
      },
      "execution_count": 37,
      "outputs": [
        {
          "output_type": "stream",
          "name": "stdout",
          "text": [
            "5, 3.2, Hello\n"
          ]
        }
      ]
    },
    {
      "cell_type": "code",
      "source": [
        "man = \"andrew\"\n",
        "color = \"green\"\n",
        "age = 32\n",
        "pi = 3.14\n",
        "color = \"yellow\"\n",
        "age = 44\n",
        "man = \"joseph\"\n",
        "\n",
        "print(man, age, color)\n"
      ],
      "metadata": {
        "colab": {
          "base_uri": "https://localhost:8080/"
        },
        "id": "dKuP-ZgTp7bt",
        "outputId": "c0d68dac-2807-4964-b6cf-9d41a38becda"
      },
      "execution_count": 38,
      "outputs": [
        {
          "output_type": "stream",
          "name": "stdout",
          "text": [
            "joseph 44 yellow\n"
          ]
        }
      ]
    },
    {
      "cell_type": "markdown",
      "source": [
        "her değişkenin, verinin, fonksiyonun (nesnenin) bir tipi vardır. Ve bu tipi 'type()' fonksiyonu ile öğrenebiliriz"
      ],
      "metadata": {
        "id": "sVboqYVjqMSj"
      }
    },
    {
      "cell_type": "code",
      "source": [
        "type(\"4\")"
      ],
      "metadata": {
        "colab": {
          "base_uri": "https://localhost:8080/"
        },
        "id": "WGtRiCurqYAM",
        "outputId": "29474a88-312c-4f96-b20b-8c8a40bf5305"
      },
      "execution_count": 39,
      "outputs": [
        {
          "output_type": "execute_result",
          "data": {
            "text/plain": [
              "str"
            ]
          },
          "metadata": {},
          "execution_count": 39
        }
      ]
    },
    {
      "cell_type": "code",
      "source": [
        "type(4)"
      ],
      "metadata": {
        "colab": {
          "base_uri": "https://localhost:8080/"
        },
        "id": "HSjAzfIoqbcA",
        "outputId": "50bb6518-260f-4ced-80e3-c202411ac2d0"
      },
      "execution_count": 40,
      "outputs": [
        {
          "output_type": "execute_result",
          "data": {
            "text/plain": [
              "int"
            ]
          },
          "metadata": {},
          "execution_count": 40
        }
      ]
    },
    {
      "cell_type": "code",
      "source": [
        "a = 4\n",
        "print(type(a))"
      ],
      "metadata": {
        "colab": {
          "base_uri": "https://localhost:8080/"
        },
        "id": "Hhxll1a6qd3f",
        "outputId": "3f15432f-e1cf-4f18-df0b-fc0e84ea3baa"
      },
      "execution_count": 41,
      "outputs": [
        {
          "output_type": "stream",
          "name": "stdout",
          "text": [
            "<class 'int'>\n"
          ]
        }
      ]
    },
    {
      "cell_type": "code",
      "source": [
        "a = 4\n",
        "type(a)"
      ],
      "metadata": {
        "colab": {
          "base_uri": "https://localhost:8080/"
        },
        "id": "CQvOkbeUqo4w",
        "outputId": "4f7c3947-d79a-4cef-a956-bb61ac991c33"
      },
      "execution_count": 42,
      "outputs": [
        {
          "output_type": "execute_result",
          "data": {
            "text/plain": [
              "int"
            ]
          },
          "metadata": {},
          "execution_count": 42
        }
      ]
    },
    {
      "cell_type": "code",
      "source": [
        "my_text = \"being a good person\"\n",
        "print(my_text)"
      ],
      "metadata": {
        "colab": {
          "base_uri": "https://localhost:8080/"
        },
        "id": "6zDqQM8Kt_p2",
        "outputId": "b4aea08a-dfb2-4401-c8be-0ab301e6ad14"
      },
      "execution_count": 43,
      "outputs": [
        {
          "output_type": "stream",
          "name": "stdout",
          "text": [
            "being a good person\n"
          ]
        }
      ]
    },
    {
      "cell_type": "code",
      "source": [
        "my_text = \"being a good person\"\n",
        "print(type(my_text))"
      ],
      "metadata": {
        "colab": {
          "base_uri": "https://localhost:8080/"
        },
        "id": "dVmyG0YLuGIM",
        "outputId": "b8002410-8e65-4caa-a416-bf686295c90b"
      },
      "execution_count": 44,
      "outputs": [
        {
          "output_type": "stream",
          "name": "stdout",
          "text": [
            "<class 'str'>\n"
          ]
        }
      ]
    },
    {
      "cell_type": "code",
      "source": [
        "my_text = 'being a good person'\n",
        "print(my_text)"
      ],
      "metadata": {
        "colab": {
          "base_uri": "https://localhost:8080/"
        },
        "id": "ebFpEideuKz4",
        "outputId": "78acacc5-5f25-4bd8-b001-475f4132795c"
      },
      "execution_count": 45,
      "outputs": [
        {
          "output_type": "stream",
          "name": "stdout",
          "text": [
            "being a good person\n"
          ]
        }
      ]
    },
    {
      "cell_type": "code",
      "source": [
        "my_text = ('being a good person')\n",
        "print(type(my_text))"
      ],
      "metadata": {
        "colab": {
          "base_uri": "https://localhost:8080/"
        },
        "id": "Gq0XxbG-uTQD",
        "outputId": "7a3f037c-31b2-40da-a1cf-457785fcb094"
      },
      "execution_count": 47,
      "outputs": [
        {
          "output_type": "stream",
          "name": "stdout",
          "text": [
            "<class 'str'>\n"
          ]
        }
      ]
    },
    {
      "cell_type": "code",
      "source": [
        "my_text = ('being a good person', )\n",
        "print(type(my_text))"
      ],
      "metadata": {
        "colab": {
          "base_uri": "https://localhost:8080/"
        },
        "id": "DwWixvzOuarZ",
        "outputId": "404e7bd5-41e8-4219-d433-793873d47b36"
      },
      "execution_count": 48,
      "outputs": [
        {
          "output_type": "stream",
          "name": "stdout",
          "text": [
            "<class 'tuple'>\n"
          ]
        }
      ]
    },
    {
      "cell_type": "code",
      "source": [
        "my_text = \"\"\"being a good person\"\"\"\n",
        "print(my_text)"
      ],
      "metadata": {
        "colab": {
          "base_uri": "https://localhost:8080/"
        },
        "id": "h5h51_4fukya",
        "outputId": "c3b28026-c373-46f0-ea3a-3675f377c8e3"
      },
      "execution_count": 49,
      "outputs": [
        {
          "output_type": "stream",
          "name": "stdout",
          "text": [
            "being a good person\n"
          ]
        }
      ]
    },
    {
      "cell_type": "code",
      "source": [
        "my_text = '''being a good person'''\n",
        "print(my_text)"
      ],
      "metadata": {
        "colab": {
          "base_uri": "https://localhost:8080/"
        },
        "id": "96wxoAH7upMo",
        "outputId": "4b5c1444-ccbe-4f5f-af7b-841851460ae3"
      },
      "execution_count": 50,
      "outputs": [
        {
          "output_type": "stream",
          "name": "stdout",
          "text": [
            "being a good person\n"
          ]
        }
      ]
    },
    {
      "cell_type": "code",
      "source": [
        "## Stringler ASCII ve unicode karakterleri tamamını alabilir\n",
        "my_text = \",;_-983445%&/&^😀😀😀\"\n",
        "print(my_text)"
      ],
      "metadata": {
        "colab": {
          "base_uri": "https://localhost:8080/"
        },
        "id": "_U3oOSW7u97O",
        "outputId": "600d7516-7f8c-497e-ba83-0229c385eff8"
      },
      "execution_count": 51,
      "outputs": [
        {
          "output_type": "stream",
          "name": "stdout",
          "text": [
            ",;_-983445%&/&^😀😀😀\n"
          ]
        }
      ]
    },
    {
      "cell_type": "code",
      "source": [
        "my_text = \",;_-983445%&/& \\\n",
        "😀😀😀\"\n",
        "print(my_text)"
      ],
      "metadata": {
        "colab": {
          "base_uri": "https://localhost:8080/"
        },
        "id": "KqvGQUhRvk9m",
        "outputId": "ae85293b-c76f-4248-fc01-6e1a25bf9aa4"
      },
      "execution_count": 53,
      "outputs": [
        {
          "output_type": "stream",
          "name": "stdout",
          "text": [
            ",;_-983445%&/& 😀😀😀\n"
          ]
        }
      ]
    },
    {
      "cell_type": "code",
      "source": [
        "my_text = \"\"\",;_-9834\n",
        "45%&/& \\\n",
        "😀😀😀\"\"\"\n",
        "print(my_text)"
      ],
      "metadata": {
        "colab": {
          "base_uri": "https://localhost:8080/"
        },
        "id": "HelV49vTvyHH",
        "outputId": "10aa57dc-db80-4dd3-f672-b8fba49157f0"
      },
      "execution_count": 54,
      "outputs": [
        {
          "output_type": "stream",
          "name": "stdout",
          "text": [
            ",;_-9834\n",
            "45%&/& 😀😀😀\n"
          ]
        }
      ]
    },
    {
      "cell_type": "code",
      "source": [
        "fish = \"\"\"\n",
        "  _\n",
        " /_|\n",
        "('_)<|\n",
        " \\_|\n",
        "\"\"\"\n",
        "\n",
        "print(fish)"
      ],
      "metadata": {
        "colab": {
          "base_uri": "https://localhost:8080/"
        },
        "id": "ptXbdKCOv9mQ",
        "outputId": "9e492ee2-acfb-4ce1-f932-b853caa48ecb"
      },
      "execution_count": 55,
      "outputs": [
        {
          "output_type": "stream",
          "name": "stdout",
          "text": [
            "\n",
            "  _\n",
            " /_|\n",
            "('_)<|\n",
            " \\_|\n",
            "\n"
          ]
        }
      ]
    },
    {
      "cell_type": "code",
      "source": [
        "fish2 = \"\"\"\n",
        "\\_____)\\_____\n",
        "/--v____ __`<         \n",
        "        )/           \n",
        "        '\n",
        "\"\"\"\n",
        "print(fish2)\n"
      ],
      "metadata": {
        "colab": {
          "base_uri": "https://localhost:8080/"
        },
        "id": "7WB0FyAFwPPG",
        "outputId": "c4b2f729-bc80-4079-e283-06cbd8c77970"
      },
      "execution_count": 56,
      "outputs": [
        {
          "output_type": "stream",
          "name": "stdout",
          "text": [
            "\n",
            "\\_____)\\_____\n",
            "/--v____ __`<         \n",
            "        )/           \n",
            "        '\n",
            "\n"
          ]
        }
      ]
    },
    {
      "cell_type": "code",
      "source": [
        "type(fish2)"
      ],
      "metadata": {
        "colab": {
          "base_uri": "https://localhost:8080/"
        },
        "id": "808fxpCmwhDd",
        "outputId": "627ec6ae-9a73-4d61-e0d5-7d3a6c12a580"
      },
      "execution_count": 57,
      "outputs": [
        {
          "output_type": "execute_result",
          "data": {
            "text/plain": [
              "str"
            ]
          },
          "metadata": {},
          "execution_count": 57
        }
      ]
    },
    {
      "cell_type": "code",
      "source": [
        "my_int = 40\n",
        "my_float = 3.145\n",
        "\n",
        "print(type(my_int))\n",
        "print(type(my_float))"
      ],
      "metadata": {
        "colab": {
          "base_uri": "https://localhost:8080/"
        },
        "id": "Nq9dwb14xKnp",
        "outputId": "c406c61b-8cb1-4d9c-8cb8-7097ffd688f6"
      },
      "execution_count": 58,
      "outputs": [
        {
          "output_type": "stream",
          "name": "stdout",
          "text": [
            "<class 'int'>\n",
            "<class 'float'>\n"
          ]
        }
      ]
    },
    {
      "cell_type": "code",
      "source": [
        "type(fish3)"
      ],
      "metadata": {
        "colab": {
          "base_uri": "https://localhost:8080/",
          "height": 166
        },
        "id": "UkMHZfzTxpZ2",
        "outputId": "80b1973c-9559-4d2e-f90b-6071baa0d658"
      },
      "execution_count": 59,
      "outputs": [
        {
          "output_type": "error",
          "ename": "NameError",
          "evalue": "ignored",
          "traceback": [
            "\u001b[0;31m---------------------------------------------------------------------------\u001b[0m",
            "\u001b[0;31mNameError\u001b[0m                                 Traceback (most recent call last)",
            "\u001b[0;32m<ipython-input-59-4e569ae3196d>\u001b[0m in \u001b[0;36m<module>\u001b[0;34m()\u001b[0m\n\u001b[0;32m----> 1\u001b[0;31m \u001b[0mtype\u001b[0m\u001b[0;34m(\u001b[0m\u001b[0mfish3\u001b[0m\u001b[0;34m)\u001b[0m\u001b[0;34m\u001b[0m\u001b[0;34m\u001b[0m\u001b[0m\n\u001b[0m",
            "\u001b[0;31mNameError\u001b[0m: name 'fish3' is not defined"
          ]
        }
      ]
    },
    {
      "cell_type": "code",
      "source": [
        "type(fish)"
      ],
      "metadata": {
        "colab": {
          "base_uri": "https://localhost:8080/"
        },
        "id": "Bh_npQOfxvgn",
        "outputId": "45916508-26e6-4c62-aa67-4f4a78e83731"
      },
      "execution_count": 60,
      "outputs": [
        {
          "output_type": "execute_result",
          "data": {
            "text/plain": [
              "str"
            ]
          },
          "metadata": {},
          "execution_count": 60
        }
      ]
    },
    {
      "cell_type": "code",
      "source": [
        "a = True  # 1\n",
        "b = False  # 0\n",
        "print(type(a))\n",
        "print(type(b))"
      ],
      "metadata": {
        "colab": {
          "base_uri": "https://localhost:8080/"
        },
        "id": "IPrQk3jExveX",
        "outputId": "a85c8743-9b29-4798-87c2-56714f121b91"
      },
      "execution_count": 61,
      "outputs": [
        {
          "output_type": "stream",
          "name": "stdout",
          "text": [
            "<class 'bool'>\n",
            "<class 'bool'>\n"
          ]
        }
      ]
    },
    {
      "cell_type": "code",
      "source": [
        "a = True\n",
        "print(type(a))\n",
        "\n",
        "print(int(a))\n",
        "print(type(a))"
      ],
      "metadata": {
        "colab": {
          "base_uri": "https://localhost:8080/"
        },
        "id": "v926WCO_y9jk",
        "outputId": "6257a541-a765-488c-83fd-bdb0e5e0c900"
      },
      "execution_count": 63,
      "outputs": [
        {
          "output_type": "stream",
          "name": "stdout",
          "text": [
            "<class 'bool'>\n",
            "1\n",
            "<class 'bool'>\n"
          ]
        }
      ]
    },
    {
      "cell_type": "code",
      "source": [
        "a = True\n",
        "print(type(a))\n",
        "\n",
        "a2 = int(a)\n",
        "print(type(a2))\n",
        "print(a2)"
      ],
      "metadata": {
        "colab": {
          "base_uri": "https://localhost:8080/"
        },
        "id": "m3ceQk1Z0zdC",
        "outputId": "68c3da35-d23f-4686-99aa-483bde9b904d"
      },
      "execution_count": 65,
      "outputs": [
        {
          "output_type": "stream",
          "name": "stdout",
          "text": [
            "<class 'bool'>\n",
            "<class 'int'>\n",
            "1\n"
          ]
        }
      ]
    },
    {
      "cell_type": "code",
      "source": [
        "int(False)"
      ],
      "metadata": {
        "colab": {
          "base_uri": "https://localhost:8080/"
        },
        "id": "pGoEX3Dr1Ggb",
        "outputId": "7389419e-9a9d-4343-d995-1c8c197527d9"
      },
      "execution_count": 66,
      "outputs": [
        {
          "output_type": "execute_result",
          "data": {
            "text/plain": [
              "0"
            ]
          },
          "metadata": {},
          "execution_count": 66
        }
      ]
    },
    {
      "cell_type": "code",
      "source": [
        "int(True)"
      ],
      "metadata": {
        "colab": {
          "base_uri": "https://localhost:8080/"
        },
        "id": "awtQJX_81Lq4",
        "outputId": "c13c691a-6888-49e7-99d6-32800739bef7"
      },
      "execution_count": 67,
      "outputs": [
        {
          "output_type": "execute_result",
          "data": {
            "text/plain": [
              "1"
            ]
          },
          "metadata": {},
          "execution_count": 67
        }
      ]
    },
    {
      "cell_type": "code",
      "source": [
        "PI = 3.14\n",
        "const_pi = int(PI)\n",
        "print(const_pi)"
      ],
      "metadata": {
        "colab": {
          "base_uri": "https://localhost:8080/"
        },
        "id": "c7TpMTX31Qsl",
        "outputId": "92f1968b-489b-464b-eb30-cf1a365728ca"
      },
      "execution_count": 68,
      "outputs": [
        {
          "output_type": "stream",
          "name": "stdout",
          "text": [
            "3\n"
          ]
        }
      ]
    },
    {
      "cell_type": "code",
      "source": [
        "text = \"5.2022\"\n",
        "print(float(text))"
      ],
      "metadata": {
        "colab": {
          "base_uri": "https://localhost:8080/"
        },
        "id": "COa4-vCf1iSR",
        "outputId": "78be200c-ae39-4564-98ac-2ea0a5cdcf6b"
      },
      "execution_count": 69,
      "outputs": [
        {
          "output_type": "stream",
          "name": "stdout",
          "text": [
            "5.2022\n"
          ]
        }
      ]
    },
    {
      "cell_type": "code",
      "source": [
        "text = \"5.2022\"\n",
        "print(int(text))"
      ],
      "metadata": {
        "colab": {
          "base_uri": "https://localhost:8080/",
          "height": 184
        },
        "id": "L16AOjL31tOP",
        "outputId": "6af23708-443d-4e36-ed18-76538ab8f36f"
      },
      "execution_count": 70,
      "outputs": [
        {
          "output_type": "error",
          "ename": "ValueError",
          "evalue": "ignored",
          "traceback": [
            "\u001b[0;31m---------------------------------------------------------------------------\u001b[0m",
            "\u001b[0;31mValueError\u001b[0m                                Traceback (most recent call last)",
            "\u001b[0;32m<ipython-input-70-dd012660ea32>\u001b[0m in \u001b[0;36m<module>\u001b[0;34m()\u001b[0m\n\u001b[1;32m      1\u001b[0m \u001b[0mtext\u001b[0m \u001b[0;34m=\u001b[0m \u001b[0;34m\"5.2022\"\u001b[0m\u001b[0;34m\u001b[0m\u001b[0;34m\u001b[0m\u001b[0m\n\u001b[0;32m----> 2\u001b[0;31m \u001b[0mprint\u001b[0m\u001b[0;34m(\u001b[0m\u001b[0mint\u001b[0m\u001b[0;34m(\u001b[0m\u001b[0mtext\u001b[0m\u001b[0;34m)\u001b[0m\u001b[0;34m)\u001b[0m\u001b[0;34m\u001b[0m\u001b[0;34m\u001b[0m\u001b[0m\n\u001b[0m",
            "\u001b[0;31mValueError\u001b[0m: invalid literal for int() with base 10: '5.2022'"
          ]
        }
      ]
    },
    {
      "cell_type": "code",
      "source": [
        "text = \"5 May 2022\"\n",
        "print(int(text))"
      ],
      "metadata": {
        "colab": {
          "base_uri": "https://localhost:8080/",
          "height": 184
        },
        "id": "LJiwKCA110pR",
        "outputId": "d351236d-236a-4665-ecde-985b8feeacdf"
      },
      "execution_count": 71,
      "outputs": [
        {
          "output_type": "error",
          "ename": "ValueError",
          "evalue": "ignored",
          "traceback": [
            "\u001b[0;31m---------------------------------------------------------------------------\u001b[0m",
            "\u001b[0;31mValueError\u001b[0m                                Traceback (most recent call last)",
            "\u001b[0;32m<ipython-input-71-e1e3a584a0eb>\u001b[0m in \u001b[0;36m<module>\u001b[0;34m()\u001b[0m\n\u001b[1;32m      1\u001b[0m \u001b[0mtext\u001b[0m \u001b[0;34m=\u001b[0m \u001b[0;34m\"5 May 2022\"\u001b[0m\u001b[0;34m\u001b[0m\u001b[0;34m\u001b[0m\u001b[0m\n\u001b[0;32m----> 2\u001b[0;31m \u001b[0mprint\u001b[0m\u001b[0;34m(\u001b[0m\u001b[0mint\u001b[0m\u001b[0;34m(\u001b[0m\u001b[0mtext\u001b[0m\u001b[0;34m)\u001b[0m\u001b[0;34m)\u001b[0m\u001b[0;34m\u001b[0m\u001b[0;34m\u001b[0m\u001b[0m\n\u001b[0m",
            "\u001b[0;31mValueError\u001b[0m: invalid literal for int() with base 10: '5 May 2022'"
          ]
        }
      ]
    },
    {
      "cell_type": "code",
      "source": [
        "text = \"52022\"\n",
        "print(int(text))"
      ],
      "metadata": {
        "colab": {
          "base_uri": "https://localhost:8080/"
        },
        "id": "xBwO6vla1-bX",
        "outputId": "3d19b73a-f33b-44ae-d393-aed7a1a46125"
      },
      "execution_count": 72,
      "outputs": [
        {
          "output_type": "stream",
          "name": "stdout",
          "text": [
            "52022\n"
          ]
        }
      ]
    },
    {
      "cell_type": "code",
      "source": [
        "text = \"520\"\n",
        "print(int(text) + 22 )"
      ],
      "metadata": {
        "colab": {
          "base_uri": "https://localhost:8080/"
        },
        "id": "sHfH9Jgv2DUK",
        "outputId": "3abacdf8-8ff2-49f4-c743-bf11415278fd"
      },
      "execution_count": 73,
      "outputs": [
        {
          "output_type": "stream",
          "name": "stdout",
          "text": [
            "542\n"
          ]
        }
      ]
    },
    {
      "cell_type": "code",
      "source": [
        "text = \"520\"\n",
        "print(int(text) + str(22) )"
      ],
      "metadata": {
        "colab": {
          "base_uri": "https://localhost:8080/",
          "height": 184
        },
        "id": "FQ9zwx8M2L31",
        "outputId": "65cb2fb6-cf07-4d3d-b5c3-2991bb97072b"
      },
      "execution_count": 74,
      "outputs": [
        {
          "output_type": "error",
          "ename": "TypeError",
          "evalue": "ignored",
          "traceback": [
            "\u001b[0;31m---------------------------------------------------------------------------\u001b[0m",
            "\u001b[0;31mTypeError\u001b[0m                                 Traceback (most recent call last)",
            "\u001b[0;32m<ipython-input-74-b4629c92a6d7>\u001b[0m in \u001b[0;36m<module>\u001b[0;34m()\u001b[0m\n\u001b[1;32m      1\u001b[0m \u001b[0mtext\u001b[0m \u001b[0;34m=\u001b[0m \u001b[0;34m\"520\"\u001b[0m\u001b[0;34m\u001b[0m\u001b[0;34m\u001b[0m\u001b[0m\n\u001b[0;32m----> 2\u001b[0;31m \u001b[0mprint\u001b[0m\u001b[0;34m(\u001b[0m\u001b[0mint\u001b[0m\u001b[0;34m(\u001b[0m\u001b[0mtext\u001b[0m\u001b[0;34m)\u001b[0m \u001b[0;34m+\u001b[0m \u001b[0mstr\u001b[0m\u001b[0;34m(\u001b[0m\u001b[0;36m22\u001b[0m\u001b[0;34m)\u001b[0m \u001b[0;34m)\u001b[0m\u001b[0;34m\u001b[0m\u001b[0;34m\u001b[0m\u001b[0m\n\u001b[0m",
            "\u001b[0;31mTypeError\u001b[0m: unsupported operand type(s) for +: 'int' and 'str'"
          ]
        }
      ]
    },
    {
      "cell_type": "code",
      "source": [
        "text = \"520\"\n",
        "print(text + str(22) )"
      ],
      "metadata": {
        "colab": {
          "base_uri": "https://localhost:8080/"
        },
        "id": "9p5lsoiS2WMC",
        "outputId": "d3ccbc81-30da-405a-d7d6-3e34f783e32e"
      },
      "execution_count": 75,
      "outputs": [
        {
          "output_type": "stream",
          "name": "stdout",
          "text": [
            "52022\n"
          ]
        }
      ]
    },
    {
      "cell_type": "code",
      "source": [
        "print(bool(0))\n",
        "print(bool(5)) #Sıfır, None haricindeki değerler True dur "
      ],
      "metadata": {
        "colab": {
          "base_uri": "https://localhost:8080/"
        },
        "id": "azI4Y6pd2cRp",
        "outputId": "71767a7b-3cfd-4042-a656-22e8c3a233c7"
      },
      "execution_count": 76,
      "outputs": [
        {
          "output_type": "stream",
          "name": "stdout",
          "text": [
            "False\n",
            "True\n"
          ]
        }
      ]
    }
  ]
}