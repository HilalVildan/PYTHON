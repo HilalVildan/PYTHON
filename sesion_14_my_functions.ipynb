{
 "cells": [
  {
   "cell_type": "markdown",
   "metadata": {},
   "source": [
    "Functions: 30 June 2022"
   ]
  },
  {
   "cell_type": "code",
   "execution_count": 1,
   "metadata": {},
   "outputs": [
    {
     "name": "stdout",
     "output_type": "stream",
     "text": [
      "11\n"
     ]
    }
   ],
   "source": [
    "def myFunction(a,b):\n",
    "    print(int(a) + int(b))\n",
    "\n",
    "\n",
    "myFunction(\"5\",\"6\") #11 döndürmesi"
   ]
  },
  {
   "cell_type": "code",
   "execution_count": 6,
   "metadata": {},
   "outputs": [
    {
     "name": "stdout",
     "output_type": "stream",
     "text": [
      "56\n"
     ]
    }
   ],
   "source": [
    "def myFunction(a,b):\n",
    "    print(str(a) + str(b))\n",
    "\n",
    "\n",
    "myFunction(\"5\",\"6\") #11 döndürmesi"
   ]
  },
  {
   "cell_type": "code",
   "execution_count": 16,
   "metadata": {},
   "outputs": [
    {
     "name": "stdout",
     "output_type": "stream",
     "text": [
      "56\n",
      "<class 'NoneType'>\n"
     ]
    }
   ],
   "source": [
    "def myFunction(a,b):\n",
    "    print(a + b)\n",
    "\n",
    "\n",
    "t = myFunction(\"5\",\"6\") #11 döndürmesi\n",
    "print(type(t))"
   ]
  },
  {
   "cell_type": "code",
   "execution_count": 2,
   "metadata": {},
   "outputs": [
    {
     "ename": "SyntaxError",
     "evalue": "invalid syntax (2154137177.py, line 1)",
     "output_type": "error",
     "traceback": [
      "\u001b[0;36m  Input \u001b[0;32mIn [2]\u001b[0;36m\u001b[0m\n\u001b[0;31m    def myFunction(int(a),int(b)):\u001b[0m\n\u001b[0m                      ^\u001b[0m\n\u001b[0;31mSyntaxError\u001b[0m\u001b[0;31m:\u001b[0m invalid syntax\n"
     ]
    }
   ],
   "source": [
    "def myFunction(int(a),int(b)):\n",
    "    print(a + b)\n",
    "\n",
    "\n",
    "myFunction(\"5\",\"6\") #11 döndürmesi"
   ]
  },
  {
   "cell_type": "code",
   "execution_count": 4,
   "metadata": {},
   "outputs": [
    {
     "ename": "SyntaxError",
     "evalue": "invalid syntax (3598912433.py, line 1)",
     "output_type": "error",
     "traceback": [
      "\u001b[0;36m  Input \u001b[0;32mIn [4]\u001b[0;36m\u001b[0m\n\u001b[0;31m    def myFunction(int(a), int(b)):\u001b[0m\n\u001b[0m                      ^\u001b[0m\n\u001b[0;31mSyntaxError\u001b[0m\u001b[0;31m:\u001b[0m invalid syntax\n"
     ]
    }
   ],
   "source": [
    "def myFunction(int(a), int(b)):\n",
    "    print(a + b)\n",
    "\n",
    "a = \"5\"\n",
    "b = \"6\"\n",
    "myFunction(a,b) #11 döndürmesi"
   ]
  },
  {
   "cell_type": "code",
   "execution_count": 7,
   "metadata": {},
   "outputs": [
    {
     "name": "stdout",
     "output_type": "stream",
     "text": [
      "My name is Joseph\n"
     ]
    }
   ],
   "source": [
    "def myFunction(a,b):\n",
    "    print(a + \" \" + b)\n",
    "\n",
    "text1 = \"is Joseph\"\n",
    "text2 = \"My name\" \n",
    "print(text2, text1)"
   ]
  },
  {
   "cell_type": "code",
   "execution_count": 8,
   "metadata": {},
   "outputs": [
    {
     "name": "stdout",
     "output_type": "stream",
     "text": [
      "text2 text1\n"
     ]
    }
   ],
   "source": [
    "def myFunction(a,b):\n",
    "    print(a + \" \" + b)\n",
    "\n",
    "text1 = \"is Joseph\"\n",
    "text2 = \"My name\" \n",
    "print(t\"ext2\", \"text1\")"
   ]
  },
  {
   "cell_type": "code",
   "execution_count": 28,
   "metadata": {},
   "outputs": [
    {
     "name": "stdout",
     "output_type": "stream",
     "text": [
      "Toplam:\n",
      "12\n",
      "Toplam:\n",
      "12\n",
      "Toplam:\n",
      "12\n"
     ]
    }
   ],
   "source": [
    "def myFunction(): #Fonksiyon tanımlama\n",
    "    print(\"Toplam:\")\n",
    "    print(6 + int(\"6\"))\n",
    "\n",
    "\n",
    "myFunction() #Fonksiyon çağırma\n",
    "myFunction() #Fonksiyon çağırma\n",
    "myFunction() #Fonksiyon çağırma"
   ]
  },
  {
   "cell_type": "code",
   "execution_count": 25,
   "metadata": {},
   "outputs": [
    {
     "ename": "TypeError",
     "evalue": "unsupported operand type(s) for +: 'int' and 'str'",
     "output_type": "error",
     "traceback": [
      "\u001b[0;31m---------------------------------------------------------------------------\u001b[0m",
      "\u001b[0;31mTypeError\u001b[0m                                 Traceback (most recent call last)",
      "\u001b[1;32m/home/bull/Downloads/my_functions.ipynb Cell 13'\u001b[0m in \u001b[0;36m<cell line: 4>\u001b[0;34m()\u001b[0m\n\u001b[1;32m      <a href='vscode-notebook-cell:/home/bull/Downloads/my_functions.ipynb#ch0000012?line=0'>1</a>\u001b[0m \u001b[39mdef\u001b[39;00m \u001b[39mmyFunction\u001b[39m():\n\u001b[1;32m      <a href='vscode-notebook-cell:/home/bull/Downloads/my_functions.ipynb#ch0000012?line=1'>2</a>\u001b[0m     \u001b[39mprint\u001b[39m(\u001b[39m6\u001b[39m \u001b[39m+\u001b[39m \u001b[39m\"\u001b[39m\u001b[39m6\u001b[39m\u001b[39m\"\u001b[39m)\n\u001b[0;32m----> <a href='vscode-notebook-cell:/home/bull/Downloads/my_functions.ipynb#ch0000012?line=3'>4</a>\u001b[0m myFunction()\n",
      "\u001b[1;32m/home/bull/Downloads/my_functions.ipynb Cell 13'\u001b[0m in \u001b[0;36mmyFunction\u001b[0;34m()\u001b[0m\n\u001b[1;32m      <a href='vscode-notebook-cell:/home/bull/Downloads/my_functions.ipynb#ch0000012?line=0'>1</a>\u001b[0m \u001b[39mdef\u001b[39;00m \u001b[39mmyFunction\u001b[39m():\n\u001b[0;32m----> <a href='vscode-notebook-cell:/home/bull/Downloads/my_functions.ipynb#ch0000012?line=1'>2</a>\u001b[0m     \u001b[39mprint\u001b[39m(\u001b[39m6\u001b[39;49m \u001b[39m+\u001b[39;49m \u001b[39m\"\u001b[39;49m\u001b[39m6\u001b[39;49m\u001b[39m\"\u001b[39;49m)\n",
      "\u001b[0;31mTypeError\u001b[0m: unsupported operand type(s) for +: 'int' and 'str'"
     ]
    }
   ],
   "source": [
    "def myFunction():\n",
    "    print(6 + \"6\")\n",
    "\n",
    "myFunction()"
   ]
  },
  {
   "cell_type": "code",
   "execution_count": 13,
   "metadata": {},
   "outputs": [
    {
     "ename": "NameError",
     "evalue": "name 'prnt' is not defined",
     "output_type": "error",
     "traceback": [
      "\u001b[0;31m---------------------------------------------------------------------------\u001b[0m",
      "\u001b[0;31mNameError\u001b[0m                                 Traceback (most recent call last)",
      "\u001b[1;32m/home/bull/Downloads/my_functions.ipynb Cell 2'\u001b[0m in \u001b[0;36m<cell line: 4>\u001b[0;34m()\u001b[0m\n\u001b[1;32m      <a href='vscode-notebook-cell:/home/bull/Downloads/my_functions.ipynb#ch0000001?line=0'>1</a>\u001b[0m \u001b[39mdef\u001b[39;00m \u001b[39mmyFunction\u001b[39m():\n\u001b[1;32m      <a href='vscode-notebook-cell:/home/bull/Downloads/my_functions.ipynb#ch0000001?line=1'>2</a>\u001b[0m     prnt(\u001b[39m6\u001b[39m \u001b[39m+\u001b[39m \u001b[39mint\u001b[39m(\u001b[39m\"\u001b[39m\u001b[39m6\u001b[39m\u001b[39m\"\u001b[39m))\n\u001b[0;32m----> <a href='vscode-notebook-cell:/home/bull/Downloads/my_functions.ipynb#ch0000001?line=3'>4</a>\u001b[0m myFunction()\n",
      "\u001b[1;32m/home/bull/Downloads/my_functions.ipynb Cell 2'\u001b[0m in \u001b[0;36mmyFunction\u001b[0;34m()\u001b[0m\n\u001b[1;32m      <a href='vscode-notebook-cell:/home/bull/Downloads/my_functions.ipynb#ch0000001?line=0'>1</a>\u001b[0m \u001b[39mdef\u001b[39;00m \u001b[39mmyFunction\u001b[39m():\n\u001b[0;32m----> <a href='vscode-notebook-cell:/home/bull/Downloads/my_functions.ipynb#ch0000001?line=1'>2</a>\u001b[0m     prnt(\u001b[39m6\u001b[39m \u001b[39m+\u001b[39m \u001b[39mint\u001b[39m(\u001b[39m\"\u001b[39m\u001b[39m6\u001b[39m\u001b[39m\"\u001b[39m))\n",
      "\u001b[0;31mNameError\u001b[0m: name 'prnt' is not defined"
     ]
    }
   ],
   "source": [
    "def myFunction():\n",
    "    print(6 + int(\"6\"))\n",
    "\n",
    "myFunction()"
   ]
  },
  {
   "cell_type": "code",
   "execution_count": 17,
   "metadata": {},
   "outputs": [
    {
     "ename": "SyntaxError",
     "evalue": "invalid syntax (3222789997.py, line 2)",
     "output_type": "error",
     "traceback": [
      "\u001b[0;36m  Input \u001b[0;32mIn [17]\u001b[0;36m\u001b[0m\n\u001b[0;31m    def 54ab():\u001b[0m\n\u001b[0m        ^\u001b[0m\n\u001b[0;31mSyntaxError\u001b[0m\u001b[0;31m:\u001b[0m invalid syntax\n"
     ]
    }
   ],
   "source": [
    "#fonksiyon isimlerinde aynı değişken tanımlama kuralları geçerli\n",
    "def 54ab():\n",
    "    print(\"mesaj\")\n",
    "\n",
    "54ab()"
   ]
  },
  {
   "cell_type": "code",
   "execution_count": 22,
   "metadata": {},
   "outputs": [
    {
     "name": "stdout",
     "output_type": "stream",
     "text": [
      "['False', 'None', 'True', 'and', 'as', 'assert', 'async', 'await', 'break', 'class', 'continue', 'def', 'del', 'elif', 'else', 'except', 'finally', 'for', 'from', 'global', 'if', 'import', 'in', 'is', 'lambda', 'nonlocal', 'not', 'or', 'pass', 'raise', 'return', 'try', 'while', 'with', 'yield']\n"
     ]
    }
   ],
   "source": [
    "import keyword\n",
    "print(keyword.kwlist)"
   ]
  },
  {
   "cell_type": "code",
   "execution_count": 24,
   "metadata": {},
   "outputs": [],
   "source": [
    "def Not():\n",
    "    print(\"Not\")"
   ]
  },
  {
   "cell_type": "code",
   "execution_count": 23,
   "metadata": {},
   "outputs": [
    {
     "ename": "SyntaxError",
     "evalue": "invalid syntax (3209917512.py, line 1)",
     "output_type": "error",
     "traceback": [
      "\u001b[0;36m  Input \u001b[0;32mIn [23]\u001b[0;36m\u001b[0m\n\u001b[0;31m    def not():\u001b[0m\n\u001b[0m        ^\u001b[0m\n\u001b[0;31mSyntaxError\u001b[0m\u001b[0;31m:\u001b[0m invalid syntax\n"
     ]
    }
   ],
   "source": [
    "def not():\n",
    "    print(\"Not\")"
   ]
  },
  {
   "cell_type": "code",
   "execution_count": 31,
   "metadata": {},
   "outputs": [
    {
     "name": "stdout",
     "output_type": "stream",
     "text": [
      "Mesajınız..: Kendizi yenilemekten çekinmeyin!\n",
      "Mesajınız..: Kendizi yenilemekten çekinmeyin!\n",
      "<class 'NoneType'>\n"
     ]
    }
   ],
   "source": [
    "## Fonksiyon sınıflandırma\n",
    "##1. Geriye değer döndürmeyen ve parametresiz fonksiyonlar\n",
    "## Geriye değer döndürmeyen fonksiyonların tipi: Nonetype\n",
    "## return ile değer döndürülmeyen fonksiyonlardır...\n",
    "\n",
    "def motto():\n",
    "    print(\"Mesajınız..: Kendizi yenilemekten çekinmeyin!\")\n",
    "\n",
    "motto()\n",
    "print(type(motto()))"
   ]
  },
  {
   "cell_type": "code",
   "execution_count": 34,
   "metadata": {},
   "outputs": [
    {
     "name": "stdout",
     "output_type": "stream",
     "text": [
      "My name is Joseph\n",
      "My name is Joseph\n",
      "<class 'NoneType'>\n"
     ]
    }
   ],
   "source": [
    "## Fonksiyon sınıflandırma\n",
    "##2. Geriye değer döndürmeyen ve parametreli fonksiyonlar\n",
    "## Geriye değer döndürmeyen fonksiyonların tipi: Nonetype\n",
    "## return ile değer döndürülmeyen fonksiyonlardır...\n",
    "def myFunction(a,b):\n",
    "    print(a + \" \" + b)\n",
    "\n",
    "text1 = \"is Joseph\"\n",
    "text2 = \"My name\" \n",
    "myFunction(text2, text1)\n",
    "print(type(myFunction(text2, text1)))"
   ]
  },
  {
   "cell_type": "code",
   "execution_count": 35,
   "metadata": {},
   "outputs": [
    {
     "name": "stdout",
     "output_type": "stream",
     "text": [
      "<class 'NoneType'>\n"
     ]
    }
   ],
   "source": [
    "def myFunction(a,b):\n",
    "   pass\n",
    "\n",
    "text1 = \"is Joseph\"\n",
    "text2 = \"My name\" \n",
    "myFunction(text2, text1)\n",
    "print(type(myFunction(text2, text1)))"
   ]
  },
  {
   "cell_type": "code",
   "execution_count": 36,
   "metadata": {},
   "outputs": [
    {
     "name": "stdout",
     "output_type": "stream",
     "text": [
      "<class 'NoneType'>\n"
     ]
    }
   ],
   "source": [
    "def myFunction(a,b):\n",
    "   return\n",
    "\n",
    "text1 = \"is Joseph\"\n",
    "text2 = \"My name\" \n",
    "myFunction(text2, text1)\n",
    "print(type(myFunction(text2, text1)))"
   ]
  },
  {
   "cell_type": "code",
   "execution_count": 38,
   "metadata": {},
   "outputs": [
    {
     "name": "stdout",
     "output_type": "stream",
     "text": [
      "None\n"
     ]
    }
   ],
   "source": [
    "def myFunction(): #içi boş fonksiyon\n",
    "   return\n",
    "\n",
    "print(myFunction())"
   ]
  },
  {
   "cell_type": "code",
   "execution_count": 39,
   "metadata": {},
   "outputs": [
    {
     "name": "stdout",
     "output_type": "stream",
     "text": [
      "None\n"
     ]
    }
   ],
   "source": [
    "def myFunction(): #içi boş fonksiyon\n",
    "   pass\n",
    "\n",
    "print(myFunction())"
   ]
  },
  {
   "cell_type": "code",
   "execution_count": 41,
   "metadata": {},
   "outputs": [
    {
     "name": "stdout",
     "output_type": "stream",
     "text": [
      "None\n"
     ]
    }
   ],
   "source": [
    "def togg():\n",
    "    pass\n",
    "\n",
    "print(togg())"
   ]
  },
  {
   "cell_type": "code",
   "execution_count": 43,
   "metadata": {},
   "outputs": [
    {
     "name": "stdout",
     "output_type": "stream",
     "text": [
      "25\n",
      "25\n"
     ]
    }
   ],
   "source": [
    "## fonnksiyon tanımlanırken ki girdilere parameter, çağrılırken ki girdilere ise arguman denir. \n",
    "## Fakat çoğu kez bu iki terim biribirinin yerine kullanılabilir.\n",
    "def first_function(par1,par2):\n",
    "    print(par1**2 + par2**2)\n",
    "\n",
    "first_function(3,4)\n",
    "arg1=3\n",
    "arg2=4\n",
    "first_function(arg1, arg2)"
   ]
  },
  {
   "cell_type": "code",
   "execution_count": 45,
   "metadata": {},
   "outputs": [
    {
     "name": "stdout",
     "output_type": "stream",
     "text": [
      "5.0\n",
      "5.0\n"
     ]
    }
   ],
   "source": [
    "def hipotenus(par1,par2):\n",
    "    print((par1**2 + par2**2)**0.5) ## c^2 = a^2 + b^2\n",
    "\n",
    "hipotenus(3,4)\n",
    "arg1=3\n",
    "arg2=4\n",
    "hipotenus(arg1, arg2)"
   ]
  },
  {
   "cell_type": "code",
   "execution_count": 46,
   "metadata": {},
   "outputs": [
    {
     "name": "stdout",
     "output_type": "stream",
     "text": [
      "5.0\n",
      "5.0\n"
     ]
    }
   ],
   "source": [
    "import math\n",
    "def hipotenus(par1,par2):\n",
    "    print(math.sqrt(par1**2 + par2**2)) ## c^2 = a^2 + b^2\n",
    "\n",
    "hipotenus(3,4)\n",
    "arg1=3\n",
    "arg2=4\n",
    "hipotenus(arg1, arg2)"
   ]
  },
  {
   "cell_type": "code",
   "execution_count": 48,
   "metadata": {},
   "outputs": [
    {
     "name": "stdout",
     "output_type": "stream",
     "text": [
      "5.0\n",
      "5.0\n"
     ]
    }
   ],
   "source": [
    "def hipotenus(par1,par2):\n",
    "    print(pow((par1**2 + par2**2),0.5)) ## c^2 = a^2 + b^2\n",
    "\n",
    "hipotenus(3,4)\n",
    "arg1=3\n",
    "arg2=4\n",
    "hipotenus(arg1, arg2)"
   ]
  },
  {
   "cell_type": "code",
   "execution_count": 68,
   "metadata": {},
   "outputs": [
    {
     "name": "stdout",
     "output_type": "stream",
     "text": [
      "15\n",
      "-2.5\n",
      "amazing amazing amazing \n"
     ]
    }
   ],
   "source": [
    "def multiply(a,b):\n",
    "    print(a*b)\n",
    "\n",
    "#çağrılıyor\n",
    "multiply(3,5)\n",
    "multiply(-1,2.5)\n",
    "multiply(\"amazing \", 3)"
   ]
  },
  {
   "cell_type": "code",
   "execution_count": 69,
   "metadata": {},
   "outputs": [
    {
     "name": "stdout",
     "output_type": "stream",
     "text": [
      "8\n",
      "1.5\n"
     ]
    },
    {
     "ename": "TypeError",
     "evalue": "can only concatenate str (not \"int\") to str",
     "output_type": "error",
     "traceback": [
      "\u001b[0;31m---------------------------------------------------------------------------\u001b[0m",
      "\u001b[0;31mTypeError\u001b[0m                                 Traceback (most recent call last)",
      "\u001b[1;32m/home/bull/Downloads/my_functions.ipynb Cell 31'\u001b[0m in \u001b[0;36m<cell line: 7>\u001b[0;34m()\u001b[0m\n\u001b[1;32m      <a href='vscode-notebook-cell:/home/bull/Downloads/my_functions.ipynb#ch0000036?line=4'>5</a>\u001b[0m multiply(\u001b[39m3\u001b[39m,\u001b[39m5\u001b[39m)\n\u001b[1;32m      <a href='vscode-notebook-cell:/home/bull/Downloads/my_functions.ipynb#ch0000036?line=5'>6</a>\u001b[0m multiply(\u001b[39m-\u001b[39m\u001b[39m1\u001b[39m,\u001b[39m2.5\u001b[39m)\n\u001b[0;32m----> <a href='vscode-notebook-cell:/home/bull/Downloads/my_functions.ipynb#ch0000036?line=6'>7</a>\u001b[0m multiply(\u001b[39m\"\u001b[39;49m\u001b[39mamazing \u001b[39;49m\u001b[39m\"\u001b[39;49m, \u001b[39m3\u001b[39;49m)\n",
      "\u001b[1;32m/home/bull/Downloads/my_functions.ipynb Cell 31'\u001b[0m in \u001b[0;36mmultiply\u001b[0;34m(a, b)\u001b[0m\n\u001b[1;32m      <a href='vscode-notebook-cell:/home/bull/Downloads/my_functions.ipynb#ch0000036?line=0'>1</a>\u001b[0m \u001b[39mdef\u001b[39;00m \u001b[39mmultiply\u001b[39m(a,b):\n\u001b[0;32m----> <a href='vscode-notebook-cell:/home/bull/Downloads/my_functions.ipynb#ch0000036?line=1'>2</a>\u001b[0m     \u001b[39mprint\u001b[39m(a\u001b[39m+\u001b[39;49mb)\n",
      "\u001b[0;31mTypeError\u001b[0m: can only concatenate str (not \"int\") to str"
     ]
    }
   ],
   "source": [
    "def multiply(a,b):\n",
    "    print(a+b)\n",
    "\n",
    "#çağrılıyor\n",
    "multiply(3,5)\n",
    "multiply(-1,2.5)\n",
    "multiply(\"amazing \", 3)"
   ]
  },
  {
   "cell_type": "code",
   "execution_count": 67,
   "metadata": {},
   "outputs": [
    {
     "name": "stdout",
     "output_type": "stream",
     "text": [
      "-2.5\n",
      "-2.5\n",
      "-2.5\n"
     ]
    }
   ],
   "source": [
    "def multiply():\n",
    "    a = -1\n",
    "    b = 2.5\n",
    "    print(a*b)\n",
    "\n",
    "#çağrılıyor\n",
    "multiply()\n",
    "multiply()\n",
    "multiply()"
   ]
  },
  {
   "cell_type": "code",
   "execution_count": 51,
   "metadata": {},
   "outputs": [
    {
     "name": "stdout",
     "output_type": "stream",
     "text": [
      "1\n",
      "7\n"
     ]
    }
   ],
   "source": [
    "def add(a,b):\n",
    "    print(a+b)\n",
    "\n",
    "add(-3,4)\n",
    "add(4,3)"
   ]
  },
  {
   "cell_type": "code",
   "execution_count": 54,
   "metadata": {},
   "outputs": [
    {
     "name": "stdout",
     "output_type": "stream",
     "text": [
      "110\n",
      "66\n",
      "1936\n",
      "4.0\n",
      "Hatalı işlem!\n"
     ]
    }
   ],
   "source": [
    "def calculator(x, y, operator):\n",
    "    if operator==\"+\":\n",
    "        print(x+y)\n",
    "    elif operator==\"-\":\n",
    "        print(x-y)\n",
    "    elif operator==\"*\":\n",
    "        print(x*y)\n",
    "    elif operator==\"/\":\n",
    "        print(x/y)\n",
    "    else:\n",
    "        print(\"Hatalı işlem!\")\n",
    "\n",
    "#fonksiyon çağırma işlemi\n",
    "calculator(88,22, '+')\n",
    "calculator(88,22, '-')\n",
    "calculator(88,22, '*')\n",
    "calculator(88,22, '/')\n",
    "calculator(88,22, '^')"
   ]
  },
  {
   "cell_type": "code",
   "execution_count": 56,
   "metadata": {},
   "outputs": [
    {
     "name": "stdout",
     "output_type": "stream",
     "text": [
      "110\n",
      "66\n",
      "1936\n",
      "4.0\n",
      "6006462739341400799568660798909775498706944\n"
     ]
    }
   ],
   "source": [
    "def calculator(x, y, operator):\n",
    "    if operator==\"+\":\n",
    "        print(x+y)\n",
    "    elif operator==\"-\":\n",
    "        print(x-y)\n",
    "    elif operator==\"*\":\n",
    "        print(x*y)\n",
    "    elif operator==\"/\":\n",
    "        print(x/y)\n",
    "    elif operator==\"^\":\n",
    "        print(pow(x,y))\n",
    "    else:\n",
    "        print(\"Hatalı işlem!\")\n",
    "\n",
    "#fonksiyon çağırma işlemi\n",
    "calculator(88,22, '+')\n",
    "calculator(88,22, '-')\n",
    "calculator(88,22, '*')\n",
    "calculator(88,22, '/')\n",
    "calculator(88,22, '^')"
   ]
  },
  {
   "cell_type": "code",
   "execution_count": 65,
   "metadata": {},
   "outputs": [
    {
     "name": "stdout",
     "output_type": "stream",
     "text": [
      "My name is Joseph\n",
      "Toplamı..: None\n",
      "My name is Joseph\n",
      "<class 'NoneType'>\n"
     ]
    }
   ],
   "source": [
    "def myFunction(a,b):\n",
    "    print (a + \" \" + b)\n",
    "\n",
    "text1 = \"is Joseph\"\n",
    "text2 = \"My name\" \n",
    "Toplam = myFunction(text2, text1)  ## üretilen bir şey yok\n",
    "print(\"Toplamı..:\", Toplam)\n",
    "print(type(myFunction(text2, text1)))"
   ]
  },
  {
   "cell_type": "code",
   "execution_count": 64,
   "metadata": {},
   "outputs": [
    {
     "name": "stdout",
     "output_type": "stream",
     "text": [
      "Toplamı..: My name is Joseph\n",
      "<class 'str'>\n"
     ]
    }
   ],
   "source": [
    "## Fonksiyon sınıflandırma\n",
    "##2. Geriye değer döndüren ve parametreli/parametresiz fonksiyonlar\n",
    "## Geriye değer döndüren fonksiyonların tipi: return yanına yazılan değere bağlıdır\n",
    "## return ile değer döndürülen fonksiyonlardır...\n",
    "def myFunction(a,b):\n",
    "    return (a + \" \" + b)\n",
    "\n",
    "text1 = \"is Joseph\"\n",
    "text2 = \"My name\" \n",
    "Toplam = myFunction(text2, text1)  ## üretileni Toplam değişkenine aktardık\n",
    "print(\"Toplamı..:\", Toplam)\n",
    "print(type(myFunction(text2, text1)))"
   ]
  },
  {
   "cell_type": "code",
   "execution_count": 79,
   "metadata": {},
   "outputs": [
    {
     "name": "stdout",
     "output_type": "stream",
     "text": [
      "50\n",
      "50\n",
      "None\n"
     ]
    }
   ],
   "source": [
    "def multiply_1(a,b):\n",
    "    print(a*b)\n",
    "\n",
    "multiply_1(5,10)\n",
    "print(multiply_1(5,10))"
   ]
  },
  {
   "cell_type": "code",
   "execution_count": 81,
   "metadata": {},
   "outputs": [
    {
     "name": "stdout",
     "output_type": "stream",
     "text": [
      "50\n",
      "None\n"
     ]
    }
   ],
   "source": [
    "def multiply_1(a,b):\n",
    "    print(a*b)\n",
    "\n",
    "shadow_var = multiply_1(5,10)\n",
    "print(shadow_var)"
   ]
  },
  {
   "cell_type": "code",
   "execution_count": 76,
   "metadata": {},
   "outputs": [
    {
     "name": "stdout",
     "output_type": "stream",
     "text": [
      "50\n"
     ]
    }
   ],
   "source": [
    "def multiply_2(a,b):\n",
    "   return (a*b)\n",
    "\n",
    "# multiply_2(5,10)\n",
    "print(multiply_2(5,10))"
   ]
  },
  {
   "cell_type": "code",
   "execution_count": 80,
   "metadata": {},
   "outputs": [
    {
     "name": "stdout",
     "output_type": "stream",
     "text": [
      "50\n",
      "<class 'NoneType'>\n",
      "<class 'int'>\n"
     ]
    }
   ],
   "source": [
    "print(type(multiply_1(5,10)))\n",
    "print(type(multiply_2(5,10)))"
   ]
  },
  {
   "cell_type": "code",
   "execution_count": 82,
   "metadata": {},
   "outputs": [
    {
     "name": "stdout",
     "output_type": "stream",
     "text": [
      "mesaj\n",
      "None\n"
     ]
    }
   ],
   "source": [
    "m = print(\"mesaj\")\n",
    "print(m)"
   ]
  },
  {
   "cell_type": "code",
   "execution_count": 84,
   "metadata": {},
   "outputs": [
    {
     "name": "stdout",
     "output_type": "stream",
     "text": [
      "110\n",
      "66\n",
      "1936\n",
      "4.0\n",
      "Hatalı işlem!\n"
     ]
    }
   ],
   "source": [
    "def calculator(x, y, operator):\n",
    "    if operator==\"+\":\n",
    "        return (x+y)\n",
    "    elif operator==\"-\":\n",
    "        return (x-y)\n",
    "    elif operator==\"*\":\n",
    "        return (x*y)\n",
    "    elif operator==\"/\":\n",
    "        return (x/y)\n",
    "    else:\n",
    "        return (\"Hatalı işlem!\")\n",
    "\n",
    "#fonksiyon çağırma işlemi\n",
    "print(calculator(88,22, '+'))\n",
    "print(calculator(88,22, '-'))\n",
    "print(calculator(88,22, '*'))\n",
    "print(calculator(88,22, '/'))\n",
    "print(calculator(88,22, '^'))"
   ]
  },
  {
   "cell_type": "code",
   "execution_count": 85,
   "metadata": {},
   "outputs": [
    {
     "name": "stdout",
     "output_type": "stream",
     "text": [
      "110\n",
      "66\n",
      "1936\n",
      "4.0\n",
      "Hatalı işlem!\n"
     ]
    }
   ],
   "source": [
    "def calculator(x, y, operator):\n",
    "    if operator==\"+\":\n",
    "        sonuc = x+y\n",
    "    elif operator==\"-\":\n",
    "        sonuc = x-y\n",
    "    elif operator==\"*\":\n",
    "        sonuc = x*y\n",
    "    elif operator==\"/\":\n",
    "        sonuc = x/y\n",
    "    else:\n",
    "        sonuc = \"Hatalı işlem!\"\n",
    "    \n",
    "    return sonuc \n",
    "\n",
    "#fonksiyon çağırma işlemi\n",
    "print(calculator(88,22, '+'))\n",
    "print(calculator(88,22, '-'))\n",
    "print(calculator(88,22, '*'))\n",
    "print(calculator(88,22, '/'))\n",
    "print(calculator(88,22, '^'))"
   ]
  },
  {
   "cell_type": "code",
   "execution_count": 89,
   "metadata": {},
   "outputs": [
    {
     "name": "stdout",
     "output_type": "stream",
     "text": [
      "\n",
      "        [+]-Toplama\n",
      "\n",
      "        [-]-Çıkarma\n",
      " \n",
      "        [*]-Çarpma\n",
      "\n",
      "        [\\]-Bölme   \n",
      "Sonuç..: 14.0\n",
      "program sonlandırıldı\n"
     ]
    }
   ],
   "source": [
    "## menülü calculator\n",
    "## işlemi seç\n",
    "def menu():\n",
    "    print(\"\"\"\n",
    "        [+]-Toplama\\n\n",
    "        [-]-Çıkarma\\n \n",
    "        [*]-Çarpma\\n\n",
    "        [\\]-Bölme   \"\"\")\n",
    "\n",
    "\n",
    "def calculator(x, y, operator):\n",
    "    if operator==\"+\":\n",
    "        sonuc = x+y\n",
    "    elif operator==\"-\":\n",
    "        sonuc = x-y\n",
    "    elif operator==\"*\":\n",
    "        sonuc = x*y\n",
    "    elif operator==\"/\":\n",
    "        sonuc = x/y\n",
    "    else:\n",
    "        sonuc = \"Hatalı işlem!\"\n",
    "    \n",
    "    return sonuc \n",
    "\n",
    "#Ana program\n",
    "while True: \n",
    "    menu()\n",
    "    a = float(input(\"1.sayı..:\"))\n",
    "    b = float(input(\"2.sayı..:\"))\n",
    "    operator = input(\"Menüden işlemi seç..:\")\n",
    "    sonuc = calculator(a, b, operator)\n",
    "    print(\"Sonuç..:\", sonuc)\n",
    "    cvp = input(\"İşleme devam etmek istiyormusunuz[E/H]..:\")\n",
    "    \n",
    "    if cvp.lower()!=\"e\":\n",
    "        print(\"program sonlandırıldı\")\n",
    "        break #Eğer cevap \"e\" değlse programdan çık\n"
   ]
  },
  {
   "cell_type": "code",
   "execution_count": null,
   "metadata": {},
   "outputs": [],
   "source": [
    "## 6+5"
   ]
  },
  {
   "cell_type": "code",
   "execution_count": 93,
   "metadata": {},
   "outputs": [
    {
     "name": "stdout",
     "output_type": "stream",
     "text": [
      "(1, 3, 4, 1, 3, 4)\n"
     ]
    }
   ],
   "source": [
    "a = eval(input(\"1.sayı\"))\n",
    "b = eval(input(\"2.sayı\"))\n",
    "sonuc = a + b \n",
    "print(sonuc)"
   ]
  },
  {
   "cell_type": "code",
   "execution_count": null,
   "metadata": {},
   "outputs": [],
   "source": [
    "## 3+4 (7) - 5 (2) * 5 = 10 \n",
    "## Task 12: \"=\" tuşuna basınca en son sonucu versin.. \n",
    "## her operator de işlem sonucunu tutacak ama ekrana basmayacak..."
   ]
  },
  {
   "cell_type": "code",
   "execution_count": 94,
   "metadata": {},
   "outputs": [
    {
     "name": "stdout",
     "output_type": "stream",
     "text": [
      "3\n",
      "7\n",
      "0\n"
     ]
    }
   ],
   "source": [
    "print(abs(-3))\n",
    "print(abs(7))\n",
    "print(abs(0))"
   ]
  },
  {
   "cell_type": "code",
   "execution_count": 106,
   "metadata": {},
   "outputs": [
    {
     "name": "stdout",
     "output_type": "stream",
     "text": [
      "3\n",
      "7\n",
      "0\n"
     ]
    },
    {
     "ename": "TypeError",
     "evalue": "'<' not supported between instances of 'complex' and 'int'",
     "output_type": "error",
     "traceback": [
      "\u001b[0;31m---------------------------------------------------------------------------\u001b[0m",
      "\u001b[0;31mTypeError\u001b[0m                                 Traceback (most recent call last)",
      "\u001b[1;32m/home/bull/Downloads/my_functions.ipynb Cell 50'\u001b[0m in \u001b[0;36m<cell line: 11>\u001b[0;34m()\u001b[0m\n\u001b[1;32m      <a href='vscode-notebook-cell:/home/bull/Downloads/my_functions.ipynb#ch0000049?line=8'>9</a>\u001b[0m \u001b[39mprint\u001b[39m(absolute_value(\u001b[39m7\u001b[39m))\n\u001b[1;32m     <a href='vscode-notebook-cell:/home/bull/Downloads/my_functions.ipynb#ch0000049?line=9'>10</a>\u001b[0m \u001b[39mprint\u001b[39m(absolute_value(\u001b[39m0\u001b[39m))\n\u001b[0;32m---> <a href='vscode-notebook-cell:/home/bull/Downloads/my_functions.ipynb#ch0000049?line=10'>11</a>\u001b[0m \u001b[39mprint\u001b[39m(absolute_value(\u001b[39m3\u001b[39;49m\u001b[39m+\u001b[39;49m\u001b[39m4\u001b[39;49mj))\n",
      "\u001b[1;32m/home/bull/Downloads/my_functions.ipynb Cell 50'\u001b[0m in \u001b[0;36mabsolute_value\u001b[0;34m(a)\u001b[0m\n\u001b[1;32m      <a href='vscode-notebook-cell:/home/bull/Downloads/my_functions.ipynb#ch0000049?line=1'>2</a>\u001b[0m \u001b[39mdef\u001b[39;00m \u001b[39mabsolute_value\u001b[39m(a):\n\u001b[0;32m----> <a href='vscode-notebook-cell:/home/bull/Downloads/my_functions.ipynb#ch0000049?line=2'>3</a>\u001b[0m     \u001b[39mif\u001b[39;00m a \u001b[39m<\u001b[39;49m \u001b[39m0\u001b[39;49m:\n\u001b[1;32m      <a href='vscode-notebook-cell:/home/bull/Downloads/my_functions.ipynb#ch0000049?line=3'>4</a>\u001b[0m        \u001b[39mreturn\u001b[39;00m \u001b[39m-\u001b[39ma\n\u001b[1;32m      <a href='vscode-notebook-cell:/home/bull/Downloads/my_functions.ipynb#ch0000049?line=4'>5</a>\u001b[0m     \u001b[39melse\u001b[39;00m:\n",
      "\u001b[0;31mTypeError\u001b[0m: '<' not supported between instances of 'complex' and 'int'"
     ]
    }
   ],
   "source": [
    "#by Halil\n",
    "def absolute_value(a):\n",
    "    if a < 0:\n",
    "       return -a\n",
    "    else:\n",
    "       return a\n",
    "\n",
    "print(absolute_value(-3))\n",
    "print(absolute_value(7))\n",
    "print(absolute_value(0))\n",
    "print(absolute_value(3+4j))"
   ]
  },
  {
   "cell_type": "code",
   "execution_count": 99,
   "metadata": {},
   "outputs": [
    {
     "name": "stdout",
     "output_type": "stream",
     "text": [
      "9\n",
      "11\n",
      "11.6\n"
     ]
    }
   ],
   "source": [
    "#by Doğukan\n",
    "def myAbs(a) :\n",
    "  if a < 0 :\n",
    "    sonuc = a * (-1)\n",
    "  else:\n",
    "    sonuc = a\n",
    "    \n",
    "  return sonuc\n",
    "  \n",
    "\n",
    "a = -9\n",
    "print(myAbs(a))\n",
    "print(myAbs(-11))\n",
    "print(myAbs(11.6))"
   ]
  },
  {
   "cell_type": "code",
   "execution_count": 98,
   "metadata": {},
   "outputs": [
    {
     "name": "stdout",
     "output_type": "stream",
     "text": [
      "3.3\n",
      "4\n"
     ]
    }
   ],
   "source": [
    "def absolute_value(number):\n",
    "    if number >= 0:\n",
    "        return number\n",
    "    else:\n",
    "        return -number\n",
    "        \n",
    "print(absolute_value(3.3))\n",
    "print(absolute_value(-4))"
   ]
  },
  {
   "cell_type": "code",
   "execution_count": 104,
   "metadata": {},
   "outputs": [
    {
     "name": "stdout",
     "output_type": "stream",
     "text": [
      "5\n",
      "5\n",
      "0\n",
      "5.0\n",
      "5.0\n"
     ]
    }
   ],
   "source": [
    "#by Çağatay bey\n",
    "def mutlak (x):                    # abs() - Absolute Values\n",
    "    \"\"\"Return the absolute value of the argument.\"\"\"\n",
    "    if type(x) == complex :\n",
    "        a = x.real\n",
    "        b = x.imag\n",
    "        sonuc = ((a**2)+(b**2))**0.5\n",
    "    else:\n",
    "        if x >= 1 :\n",
    "         sonuc = x\n",
    "        else :\n",
    "         sonuc = x*-1\n",
    "    return sonuc\n",
    "\n",
    "print(mutlak(5))\n",
    "print(mutlak(-5))\n",
    "print(mutlak(0))\n",
    "print(mutlak(3+4j))\n",
    "print(abs(3+4j))"
   ]
  },
  {
   "cell_type": "code",
   "execution_count": 105,
   "metadata": {},
   "outputs": [
    {
     "data": {
      "text/plain": [
       "'Return the absolute value of the argument.'"
      ]
     },
     "execution_count": 105,
     "metadata": {},
     "output_type": "execute_result"
    }
   ],
   "source": [
    "mutlak.__doc__"
   ]
  },
  {
   "cell_type": "code",
   "execution_count": 103,
   "metadata": {},
   "outputs": [
    {
     "data": {
      "text/plain": [
       "'Return the absolute value of the argument.'"
      ]
     },
     "execution_count": 103,
     "metadata": {},
     "output_type": "execute_result"
    }
   ],
   "source": [
    "abs.__doc__"
   ]
  },
  {
   "cell_type": "code",
   "execution_count": 100,
   "metadata": {},
   "outputs": [
    {
     "name": "stdout",
     "output_type": "stream",
     "text": [
      "Help on built-in function abs in module builtins:\n",
      "\n",
      "abs(x, /)\n",
      "    Return the absolute value of the argument.\n",
      "\n"
     ]
    }
   ],
   "source": [
    "help(abs)"
   ]
  },
  {
   "cell_type": "code",
   "execution_count": 110,
   "metadata": {},
   "outputs": [
    {
     "name": "stdout",
     "output_type": "stream",
     "text": [
      "0 1 1 2 3 5 8 13 21 34 55 None\n"
     ]
    }
   ],
   "source": [
    "## fibonacci series: [1,1,2,3,5,8,13,21,34,55]\n",
    "\n",
    "def fibo(n):\n",
    "    first = third = 0\n",
    "    second = 1\n",
    "    print(first,second,end=\" \")\n",
    "    for i in range(3,n+1):\n",
    "        third = first+second\n",
    "        print(third,end=\" \")\n",
    "        first = second\n",
    "        second = third\n",
    "\n",
    "print(fibo(11))"
   ]
  },
  {
   "cell_type": "code",
   "execution_count": 27,
   "metadata": {},
   "outputs": [
    {
     "name": "stdout",
     "output_type": "stream",
     "text": [
      "0 1 1 2 3 5 8 13 21 34 55 55\n"
     ]
    }
   ],
   "source": [
    "## fibonacci series: [0, 1,1,2,3,5,8,13,21,34,55]\n",
    "\n",
    "def fibo(n):\n",
    "    first = third = 0\n",
    "    second = 1\n",
    "    print(first,second,end=\" \")\n",
    "    for i in range(2,n):\n",
    "        third = first+second\n",
    "        print(third,end=\" \")\n",
    "        first = second\n",
    "        second = third\n",
    "    \n",
    "    return second\n",
    "\n",
    "#ana program \n",
    "# ilk 10 elemanı versin..\n",
    "print(fibo(11))"
   ]
  },
  {
   "cell_type": "code",
   "execution_count": 52,
   "metadata": {},
   "outputs": [
    {
     "name": "stdout",
     "output_type": "stream",
     "text": [
      "0 1 1 2 3 5 8 13 21 34 55\n"
     ]
    }
   ],
   "source": [
    "# Bizim önerimiz-1: Fibonacci series up to n by python.org\n",
    "def fib(n):\n",
    "    a, b = 0, 1\n",
    "    while a < n:\n",
    "        print(a, end=' ')\n",
    "        a, b = b, a+b\n",
    "    return a\n",
    "\n",
    "#ana program\n",
    "print(fib(55))"
   ]
  },
  {
   "cell_type": "code",
   "execution_count": 56,
   "metadata": {},
   "outputs": [
    {
     "name": "stdout",
     "output_type": "stream",
     "text": [
      "[0, 1, 1, 2, 3, 5, 8, 13, 21, 34, 55]\n"
     ]
    }
   ],
   "source": [
    "# Bizim önerimiz-2: Fibonacci series up to n by python.org\n",
    "# yield kullanımı : listeye alabildik\n",
    "def fib(n):\n",
    "    a, b = 0, 1\n",
    "    while a < n:\n",
    "        yield a\n",
    "        a, b = b, a+b\n",
    "    \n",
    "\n",
    "#ana program\n",
    "print(list(fib(56)))"
   ]
  },
  {
   "cell_type": "code",
   "execution_count": 32,
   "metadata": {},
   "outputs": [
    {
     "name": "stdout",
     "output_type": "stream",
     "text": [
      "120\n"
     ]
    }
   ],
   "source": [
    "# recursive fonks: loop alternatifi karşımıza çıkıyor\n",
    "x = 1\n",
    "n = 5\n",
    "for i in range(n,0,-1):\n",
    "    x = x * i\n",
    "print(x) ## 5! = 5*4*3*2*1"
   ]
  },
  {
   "cell_type": "code",
   "execution_count": 34,
   "metadata": {},
   "outputs": [
    {
     "name": "stdout",
     "output_type": "stream",
     "text": [
      "120\n"
     ]
    }
   ],
   "source": [
    "# recursive fonksiyon: kendi kendine atıfta bulunan fonksiyon..\n",
    "def fact(x):\n",
    "    \"\"\"This is a recursive function\n",
    "    to find the factorial of an integer\"\"\"\n",
    "\n",
    "    if x == 1:\n",
    "        return 1\n",
    "    else:\n",
    "        return (x * fact(x-1)) \n",
    "        ## 5 * fact(4) = 5 * (4* fact(3)) = 5 * (4* (3* fact(2))) = 5*4*3* (2*fact(1)) = 5*4*3*2*1\n",
    "\n",
    "\n",
    "n = 5\n",
    "print(fact(n))\n",
    "## fa"
   ]
  },
  {
   "cell_type": "code",
   "execution_count": 55,
   "metadata": {},
   "outputs": [
    {
     "name": "stdout",
     "output_type": "stream",
     "text": [
      "55\n"
     ]
    }
   ],
   "source": [
    "#Recursive fibonacci serisi: n. terimi verir\n",
    "def fibo(n):\n",
    "    if n<= 1:\n",
    "        return n\n",
    "    return fibo(n-1) + fibo(n-2) \n",
    "\n",
    "print(fibo(10))"
   ]
  }
 ],
 "metadata": {
  "kernelspec": {
   "display_name": "Python 3.8.10 64-bit",
   "language": "python",
   "name": "python3"
  },
  "language_info": {
   "codemirror_mode": {
    "name": "ipython",
    "version": 3
   },
   "file_extension": ".py",
   "mimetype": "text/x-python",
   "name": "python",
   "nbconvert_exporter": "python",
   "pygments_lexer": "ipython3",
   "version": "3.8.10"
  },
  "orig_nbformat": 4,
  "vscode": {
   "interpreter": {
    "hash": "916dbcbb3f70747c44a77c7bcd40155683ae19c65e1c03b4aa3499c5328201f1"
   }
  }
 },
 "nbformat": 4,
 "nbformat_minor": 2
}
