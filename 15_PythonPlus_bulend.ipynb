{
 "cells": [
  {
   "cell_type": "markdown",
   "metadata": {},
   "source": [
    "<p align=\"center\">\n",
    "<img src=\"https://docs.google.com/uc?id=14xeXxFrVRjvOoUYWn_GuyE-v84wVzrqr\" class=\"img-fluid\" alt=\"CLRWY\" width=\"600\" height=\"120\" >\n",
    "</p>"
   ]
  },
  {
   "cell_type": "markdown",
   "metadata": {},
   "source": [
    "<h1><p style=\"text-align: center; color:blue\">Python In-Class Session 15, <br>05 July 2022</p><h1>"
   ]
  },
  {
   "cell_type": "markdown",
   "metadata": {},
   "source": [
    "# Recursive Functions and Arguments"
   ]
  },
  {
   "cell_type": "code",
   "execution_count": 8,
   "metadata": {},
   "outputs": [
    {
     "name": "stdout",
     "output_type": "stream",
     "text": [
      "720\n"
     ]
    }
   ],
   "source": [
    "#recursive func. (döngüsel yaklaşım yerine kullanılabilen bir yaklaşım)\n",
    "def af(i):\n",
    "    if i<2:\n",
    "        return 1\n",
    "    else:\n",
    "        return i* af(i-1)\n",
    "\n",
    "\n",
    "##\n",
    "#1.durum i=6, 6*af(5) = 6* 5*af(4) = 6 * 5* 4* af(3) = 6*5*4* 3*af(2) = 6*5*4*3* 2*af(1)\n",
    "# 6*5*4*3*2*1 = 720\n",
    "i=6\n",
    "print(af(i))"
   ]
  },
  {
   "cell_type": "markdown",
   "metadata": {},
   "source": [
    "# n=5\n",
    "## 2^5 = 2* 2^4=\n",
    "##        = 2* 2* 2^3 \n",
    "##        = 2*2* 2* 2^2\n",
    "##        = 2*2*2* 2*2^1\n",
    "##        = 2*2*2*2 *2*2^0\n",
    "##        = 2*2*2*2*2* 1 =\n",
    "##        = 32 "
   ]
  },
  {
   "cell_type": "code",
   "execution_count": 12,
   "metadata": {},
   "outputs": [
    {
     "name": "stdout",
     "output_type": "stream",
     "text": [
      "32\n",
      "16\n",
      "8\n",
      "<class 'int'>\n"
     ]
    }
   ],
   "source": [
    "def iki_us(n):\n",
    "    if n==0:\n",
    "        return 1\n",
    "    else:\n",
    "        return 2*iki_us(n-1)\n",
    "\n",
    "print(iki_us(5))\n",
    "print(iki_us(4))\n",
    "print(iki_us(3))\n",
    "print(type(iki_us(3)))"
   ]
  },
  {
   "cell_type": "code",
   "execution_count": 4,
   "metadata": {},
   "outputs": [
    {
     "name": "stdout",
     "output_type": "stream",
     "text": [
      "Lecture.: Bulend Hoca\n",
      "Clarusway Academy\n",
      "------\n",
      "Lecture.: Bulend Hoca\n",
      "Clarusway Academy\n",
      "None\n"
     ]
    }
   ],
   "source": [
    "## User defined functions: \n",
    "# a.Geriye değer döndürmeyen(NoneType), parametresiz fonksiyonlar:\n",
    "def imza():\n",
    "    print(\"Lecture.:\", \"Bulend Hoca\")\n",
    "    print(\"Clarusway Academy\")\n",
    "\n",
    "imza()\n",
    "print(\"------\")\n",
    "d = imza() #Sonuç döndürmüyor (None)\n",
    "print(d)"
   ]
  },
  {
   "cell_type": "code",
   "execution_count": 4,
   "metadata": {},
   "outputs": [
    {
     "name": "stdout",
     "output_type": "stream",
     "text": [
      "<class 'NoneType'>\n"
     ]
    }
   ],
   "source": [
    "##içeriği belli olmayan fonksiyon\n",
    "def turkoVac():\n",
    "    pass  ## return\n",
    "\n",
    "print(type(turkoVac()))"
   ]
  },
  {
   "cell_type": "code",
   "execution_count": 5,
   "metadata": {},
   "outputs": [
    {
     "name": "stdout",
     "output_type": "stream",
     "text": [
      "Lecture.: Andy Instructor\n",
      "Clarusway Lecture\n",
      "----------------------\n",
      "Lecture.: Bulend Hoca\n",
      "Clarusway Lecture\n",
      "----------------------\n"
     ]
    }
   ],
   "source": [
    "# b.Geriye değer döndürmeyen(NoneType), parametreli fonksiyonlar:\n",
    "def kartvizit(ad=\"Andy Instructor\"):  ##parametrelere değer atanabilir, tanımlanırken\n",
    "    print(\"Lecture.:\", ad)\n",
    "    print(\"Clarusway Lecture\")\n",
    "\n",
    "##Ana program \n",
    "kartvizit()\n",
    "print(\"----------------------\")\n",
    "kartvizit(\"Bulend Hoca\")  \n",
    "print(\"----------------------\")\n",
    "\n"
   ]
  },
  {
   "cell_type": "code",
   "execution_count": 15,
   "metadata": {},
   "outputs": [
    {
     "name": "stdout",
     "output_type": "stream",
     "text": [
      "Your first name is : Guido\n",
      "Your last name is : van Rossum\n",
      "\n",
      "Your first name is : Marry\n",
      "Your last name is : Bold\n"
     ]
    }
   ],
   "source": [
    "def who(first, last) :  # 'first' and 'last' are the parameters(or variables)\n",
    "    print('Your first name is :', first)\n",
    "    print('Your last name is :', last)\n",
    "\n",
    "who('Guido', 'van Rossum')  # 'Guido' and 'van Rossum' are the arguments\n",
    "print()\n",
    "who('Marry', 'Bold')  # 'Marry' and 'Bold' are also the arguments"
   ]
  },
  {
   "cell_type": "code",
   "execution_count": 16,
   "metadata": {},
   "outputs": [
    {
     "ename": "TypeError",
     "evalue": "who() missing 1 required positional argument: 'last'",
     "output_type": "error",
     "traceback": [
      "\u001b[0;31m---------------------------------------------------------------------------\u001b[0m",
      "\u001b[0;31mTypeError\u001b[0m                                 Traceback (most recent call last)",
      "Input \u001b[0;32mIn [16]\u001b[0m, in \u001b[0;36m<cell line: 5>\u001b[0;34m()\u001b[0m\n\u001b[1;32m      2\u001b[0m     \u001b[38;5;28mprint\u001b[39m(\u001b[38;5;124m'\u001b[39m\u001b[38;5;124mYour first name is :\u001b[39m\u001b[38;5;124m'\u001b[39m, first)\n\u001b[1;32m      3\u001b[0m     \u001b[38;5;28mprint\u001b[39m(\u001b[38;5;124m'\u001b[39m\u001b[38;5;124mYour last name is :\u001b[39m\u001b[38;5;124m'\u001b[39m, last)\n\u001b[0;32m----> 5\u001b[0m \u001b[43mwho\u001b[49m\u001b[43m(\u001b[49m\u001b[38;5;124;43m'\u001b[39;49m\u001b[38;5;124;43mGuido\u001b[39;49m\u001b[38;5;124;43m'\u001b[39;49m\u001b[43m)\u001b[49m\n",
      "\u001b[0;31mTypeError\u001b[0m: who() missing 1 required positional argument: 'last'"
     ]
    }
   ],
   "source": [
    "def who(first, last) :  # 'first' and 'last' are the parameters(or variables)\n",
    "    print('Your first name is :', first)\n",
    "    print('Your last name is :', last)\n",
    "\n",
    "who('Guido')"
   ]
  },
  {
   "cell_type": "code",
   "execution_count": 17,
   "metadata": {},
   "outputs": [
    {
     "name": "stdout",
     "output_type": "stream",
     "text": [
      "3 is the first argument\n",
      "4 is the second argument\n",
      "\n",
      "4 is the first argument\n",
      "3 is the second argument\n"
     ]
    }
   ],
   "source": [
    "def pos_args(a,b):\n",
    "    print(a, \"is the first argument\")\n",
    "    print(b, \"is the second argument\")\n",
    "\n",
    "#ana program\n",
    "pos_args(3,4)\n",
    "print()\n",
    "pos_args(4,3)"
   ]
  },
  {
   "cell_type": "code",
   "execution_count": 18,
   "metadata": {},
   "outputs": [
    {
     "name": "stdout",
     "output_type": "stream",
     "text": [
      "6\n"
     ]
    }
   ],
   "source": [
    "i = 6\n",
    "\n",
    "def f(arg=i):\n",
    "    print(arg)\n",
    "\n",
    "i = 5\n",
    "f() #Varsayılan değerler, tanımlama kapsamındaki işlev tanımı noktasında değerlendirilir,"
   ]
  },
  {
   "cell_type": "code",
   "execution_count": 19,
   "metadata": {},
   "outputs": [
    {
     "name": "stdout",
     "output_type": "stream",
     "text": [
      "5\n"
     ]
    }
   ],
   "source": [
    "i = 6\n",
    "\n",
    "def f(arg=i):\n",
    "    print(arg)\n",
    "\n",
    "i = 5\n",
    "f(i) #Varsayılan değerler, tanımlama kapsamındaki işlev tanımı noktasında değerlendirilir,"
   ]
  },
  {
   "cell_type": "code",
   "execution_count": null,
   "metadata": {},
   "outputs": [],
   "source": [
    "#Paramere ya da argüman: fonksiyon girdileridir, ve birer değişkendir."
   ]
  },
  {
   "cell_type": "code",
   "execution_count": null,
   "metadata": {},
   "outputs": [],
   "source": [
    "## Geriye değer döndüren fonksiyon örnekleri :return ...."
   ]
  },
  {
   "cell_type": "code",
   "execution_count": 20,
   "metadata": {},
   "outputs": [
    {
     "name": "stdout",
     "output_type": "stream",
     "text": [
      "5.0\n"
     ]
    }
   ],
   "source": [
    "def my_function(a, b):\n",
    "    hypotenuse = (a**2 + b**2)**0.5\n",
    "    return hypotenuse\n",
    "\n",
    "#Test edelim\n",
    "print(my_function(3,4))  #5"
   ]
  },
  {
   "cell_type": "code",
   "execution_count": 26,
   "metadata": {},
   "outputs": [
    {
     "name": "stdout",
     "output_type": "stream",
     "text": [
      "12\n"
     ]
    }
   ],
   "source": [
    "def my_function(a, b):\n",
    "    area = a*b\n",
    "    return area\n",
    "\n",
    "#test edelim\n",
    "print(my_function(3, 4)) ## Out:12"
   ]
  },
  {
   "cell_type": "code",
   "execution_count": 23,
   "metadata": {},
   "outputs": [
    {
     "name": "stdout",
     "output_type": "stream",
     "text": [
      "Richard\n"
     ]
    }
   ],
   "source": [
    "def longer(a, b):\n",
    "    if len(a) >= len(b):\n",
    "        return a\n",
    "    else:\n",
    "        return b\n",
    "#test edelim\n",
    "print(longer('Richard', 'John')) #Out: Richard"
   ]
  },
  {
   "cell_type": "code",
   "execution_count": null,
   "metadata": {},
   "outputs": [],
   "source": [
    "## argüman ile parametre arasındaki fark nedir?\n",
    "def add(a,b): ##fonksiyon tanımlanırken ki girdilere parametre(a,b) diyoruz.\n",
    "    return a+b\n",
    "\n",
    "##fonks. çağrılırken ki girdilere argüman (x,y) diyoruz \n",
    "x,y = 4,5\n",
    "add(y,x)  ##x, y argüman"
   ]
  },
  {
   "cell_type": "code",
   "execution_count": 15,
   "metadata": {},
   "outputs": [
    {
     "name": "stdout",
     "output_type": "stream",
     "text": [
      "3 is the first argument\n",
      "4 is the second argument\n",
      "\n",
      "4 is the first argument\n",
      "3 is the second argument\n"
     ]
    }
   ],
   "source": [
    "def pos_args(a, b):\n",
    "    print(a, 'is the first argument')\n",
    "    print(b, 'is the second argument')\n",
    "\n",
    "pos_args(3,4)\n",
    "print()\n",
    "pos_args(4,3)"
   ]
  },
  {
   "cell_type": "code",
   "execution_count": 27,
   "metadata": {},
   "outputs": [
    {
     "name": "stdout",
     "output_type": "stream",
     "text": [
      "i love you\n"
     ]
    }
   ],
   "source": [
    "def texter(text1, text2, text3):\n",
    "    print(text2, text3, text1)\n",
    "a = \"i\"\n",
    "b = \"love\"\n",
    "c = \"you\"\n",
    "\n",
    "#ana program\n",
    "texter(c, a, b)"
   ]
  },
  {
   "cell_type": "code",
   "execution_count": 31,
   "metadata": {},
   "outputs": [
    {
     "name": "stdout",
     "output_type": "stream",
     "text": [
      "i love you\n"
     ]
    }
   ],
   "source": [
    "def texter(x, y, z):\n",
    "    print(f'{y} {z} {x}')\n",
    "    \n",
    "a = \"i\"\n",
    "b =\"love\"\n",
    "c = \"you\"\n",
    "texter(c, a, b)"
   ]
  },
  {
   "cell_type": "code",
   "execution_count": 71,
   "metadata": {},
   "outputs": [
    {
     "name": "stdout",
     "output_type": "stream",
     "text": [
      "i love you\n"
     ]
    }
   ],
   "source": [
    "def texter(a,b,c):  ##positional args. c, a oldu, a b oldu, b c oldu...\n",
    "    print(b, c, a)\n",
    "\n",
    "##ana program\n",
    "a = 'i'\n",
    "b = 'love'\n",
    "c = 'you'\n",
    "texter(c,a,b)"
   ]
  },
  {
   "cell_type": "code",
   "execution_count": 30,
   "metadata": {},
   "outputs": [
    {
     "name": "stdout",
     "output_type": "stream",
     "text": [
      "i love you\n"
     ]
    }
   ],
   "source": [
    "a=\"i\"\n",
    "b=\"love\"\n",
    "c=\"you\"\n",
    "\n",
    "def texter(c,a,b):\n",
    "    c,a,b = a,b,c\n",
    "    print(c,a,b)\n",
    "\n",
    "#fonk. çağrılıyor\n",
    "texter(c,a,b)"
   ]
  },
  {
   "cell_type": "code",
   "execution_count": 32,
   "metadata": {},
   "outputs": [
    {
     "name": "stdout",
     "output_type": "stream",
     "text": [
      "Your first name is : Guido\n",
      "Your last name is : van Rossum\n"
     ]
    }
   ],
   "source": [
    "def who(first, last):  ##first, last birer parametre\n",
    "    print(\"Your first name is :\", first)\n",
    "    print(\"Your last name is :\", last)\n",
    "\n",
    "##fonk. çağıralım\n",
    "who(first=\"Guido\", last = \"van Rossum\")\n"
   ]
  },
  {
   "cell_type": "code",
   "execution_count": 35,
   "metadata": {},
   "outputs": [
    {
     "name": "stdout",
     "output_type": "stream",
     "text": [
      "Your first name is : Guido\n",
      "Your last name is : van Rossum\n"
     ]
    }
   ],
   "source": [
    "def who(first, last=\"Hoca\"):  ##last=\"Hoca\" default değer\n",
    "    print(\"Your first name is :\", first)\n",
    "    print(\"Your last name is :\", last)\n",
    "\n",
    "##fonk. çağıralım\n",
    "who(first=\"Guido\", last = \"van Rossum\") #default değer değiştirildi"
   ]
  },
  {
   "cell_type": "code",
   "execution_count": 36,
   "metadata": {},
   "outputs": [
    {
     "name": "stdout",
     "output_type": "stream",
     "text": [
      "i love you\n"
     ]
    }
   ],
   "source": [
    "def texter(text1, text2, text3):  ##keyword args.\n",
    "    print(f\"{text2} {text3} {text1}\")\n",
    "\n",
    "##ana program\n",
    "texter(text1='you',text2='i',text3='love')"
   ]
  },
  {
   "cell_type": "code",
   "execution_count": 37,
   "metadata": {},
   "outputs": [
    {
     "name": "stdout",
     "output_type": "stream",
     "text": [
      "i love you\n"
     ]
    }
   ],
   "source": [
    "def texter(text1, text2, text3):  ##keyword args.\n",
    "    print(f\"{text2} {text3} {text1}\")\n",
    "\n",
    "##ana program\n",
    "texter(text2='i',text3='love', text1='you')"
   ]
  },
  {
   "cell_type": "code",
   "execution_count": 41,
   "metadata": {},
   "outputs": [
    {
     "name": "stdout",
     "output_type": "stream",
     "text": [
      "-- This parrot wouldn't voom if you put 1000 volts.\n",
      "-- Lovely plumage, the Norw. Blue\n",
      "-- It's a stiff !\n"
     ]
    }
   ],
   "source": [
    "def parrot(voltage, state=\"a stiff\", action=\"voom\", type=\"Norw. Blue\"):\n",
    "    print(\"-- This parrot wouldn't\", action, end=\" \")\n",
    "    print(\"if you put\", voltage, \"volts.\" )\n",
    "    print(\"-- Lovely plumage, the\", type)\n",
    "    print(\"-- It's\", state, \"!\")\n",
    "\n",
    "parrot(1000) # 1 pos. argument.\n",
    "    "
   ]
  },
  {
   "cell_type": "code",
   "execution_count": 42,
   "metadata": {},
   "outputs": [
    {
     "name": "stdout",
     "output_type": "stream",
     "text": [
      "-- This parrot wouldn't voom if you put 1000 volts.\n",
      "-- Lovely plumage, the Norw. Blue\n",
      "-- It's a stiff !\n"
     ]
    }
   ],
   "source": [
    "def parrot(voltage, state=\"a stiff\", action=\"voom\", type=\"Norw. Blue\"):\n",
    "    print(\"-- This parrot wouldn't\", action, end=\" \")\n",
    "    print(\"if you put\", voltage, \"volts.\" )\n",
    "    print(\"-- Lovely plumage, the\", type)\n",
    "    print(\"-- It's\", state, \"!\")\n",
    "\n",
    "parrot(voltage=1000) # 1 keyw. argument."
   ]
  },
  {
   "cell_type": "code",
   "execution_count": 44,
   "metadata": {},
   "outputs": [
    {
     "name": "stdout",
     "output_type": "stream",
     "text": [
      "-- This parrot wouldn't VOOOOM if you put 1000000 volts.\n",
      "-- Lovely plumage, the Norw. Blue\n",
      "-- It's a stiff !\n"
     ]
    }
   ],
   "source": [
    "def parrot(voltage, state=\"a stiff\", action=\"voom\", type=\"Norw. Blue\"):\n",
    "    print(\"-- This parrot wouldn't\", action, end=\" \")\n",
    "    print(\"if you put\", voltage, \"volts.\" )\n",
    "    print(\"-- Lovely plumage, the\", type)\n",
    "    print(\"-- It's\", state, \"!\")\n",
    "\n",
    "parrot(voltage=1000000, action=\"VOOOOM\" ) # 2 keyw. argument."
   ]
  },
  {
   "cell_type": "code",
   "execution_count": 45,
   "metadata": {},
   "outputs": [
    {
     "name": "stdout",
     "output_type": "stream",
     "text": [
      "-- This parrot wouldn't VOOOOM if you put 1000000 volts.\n",
      "-- Lovely plumage, the Norw. Blue\n",
      "-- It's a stiff !\n"
     ]
    }
   ],
   "source": [
    "def parrot(voltage, state=\"a stiff\", action=\"voom\", type=\"Norw. Blue\"):\n",
    "    print(\"-- This parrot wouldn't\", action, end=\" \")\n",
    "    print(\"if you put\", voltage, \"volts.\" )\n",
    "    print(\"-- Lovely plumage, the\", type)\n",
    "    print(\"-- It's\", state, \"!\")\n",
    "\n",
    "parrot(action=\"VOOOOM\", voltage=1000000 ) # 2 keyw. argument."
   ]
  },
  {
   "cell_type": "code",
   "execution_count": 46,
   "metadata": {},
   "outputs": [
    {
     "name": "stdout",
     "output_type": "stream",
     "text": [
      "-- This parrot wouldn't jump if you put a million volts.\n",
      "-- Lovely plumage, the Norw. Blue\n",
      "-- It's bereft of life !\n"
     ]
    }
   ],
   "source": [
    "def parrot(voltage, state=\"a stiff\", action=\"voom\", type=\"Norw. Blue\"):\n",
    "    print(\"-- This parrot wouldn't\", action, end=\" \")\n",
    "    print(\"if you put\", voltage, \"volts.\" )\n",
    "    print(\"-- Lovely plumage, the\", type)\n",
    "    print(\"-- It's\", state, \"!\")\n",
    "\n",
    "parrot(\"a million\", \"bereft of life\", \"jump\" ) # 3 pos. argument."
   ]
  },
  {
   "cell_type": "code",
   "execution_count": 47,
   "metadata": {},
   "outputs": [
    {
     "name": "stdout",
     "output_type": "stream",
     "text": [
      "-- This parrot wouldn't voom if you put a thousand volts.\n",
      "-- Lovely plumage, the Norw. Blue\n",
      "-- It's pushing up... !\n"
     ]
    }
   ],
   "source": [
    "def parrot(voltage, state=\"a stiff\", action=\"voom\", type=\"Norw. Blue\"):\n",
    "    print(\"-- This parrot wouldn't\", action, end=\" \")\n",
    "    print(\"if you put\", voltage, \"volts.\" )\n",
    "    print(\"-- Lovely plumage, the\", type)\n",
    "    print(\"-- It's\", state, \"!\")\n",
    "\n",
    "parrot(\"a thousand\", state=\"pushing up...\" ) # 1 pos, 1 keyw. args"
   ]
  },
  {
   "cell_type": "code",
   "execution_count": 50,
   "metadata": {},
   "outputs": [
    {
     "ename": "TypeError",
     "evalue": "parrot() missing 1 required positional argument: 'voltage'",
     "output_type": "error",
     "traceback": [
      "\u001b[0;31m---------------------------------------------------------------------------\u001b[0m",
      "\u001b[0;31mTypeError\u001b[0m                                 Traceback (most recent call last)",
      "Input \u001b[0;32mIn [50]\u001b[0m, in \u001b[0;36m<cell line: 7>\u001b[0;34m()\u001b[0m\n\u001b[1;32m      4\u001b[0m     \u001b[38;5;28mprint\u001b[39m(\u001b[38;5;124m\"\u001b[39m\u001b[38;5;124m-- Lovely plumage, the\u001b[39m\u001b[38;5;124m\"\u001b[39m, \u001b[38;5;28mtype\u001b[39m)\n\u001b[1;32m      5\u001b[0m     \u001b[38;5;28mprint\u001b[39m(\u001b[38;5;124m\"\u001b[39m\u001b[38;5;124m-- It\u001b[39m\u001b[38;5;124m'\u001b[39m\u001b[38;5;124ms\u001b[39m\u001b[38;5;124m\"\u001b[39m, state, \u001b[38;5;124m\"\u001b[39m\u001b[38;5;124m!\u001b[39m\u001b[38;5;124m\"\u001b[39m)\n\u001b[0;32m----> 7\u001b[0m \u001b[43mparrot\u001b[49m\u001b[43m(\u001b[49m\u001b[43m)\u001b[49m\n",
      "\u001b[0;31mTypeError\u001b[0m: parrot() missing 1 required positional argument: 'voltage'"
     ]
    }
   ],
   "source": [
    "def parrot(voltage, state=\"a stiff\", action=\"voom\", type=\"Norw. Blue\"):\n",
    "    print(\"-- This parrot wouldn't\", action, end=\" \")\n",
    "    print(\"if you put\", voltage, \"volts.\" )\n",
    "    print(\"-- Lovely plumage, the\", type)\n",
    "    print(\"-- It's\", state, \"!\")\n",
    "\n",
    "parrot() # no args"
   ]
  },
  {
   "cell_type": "code",
   "execution_count": 49,
   "metadata": {},
   "outputs": [
    {
     "name": "stdout",
     "output_type": "stream",
     "text": [
      "-- This parrot wouldn't voom if you put 1000 volts.\n",
      "-- Lovely plumage, the Norw. Blue\n",
      "-- It's a stiff !\n"
     ]
    }
   ],
   "source": [
    "def parrot(voltage=1000, state=\"a stiff\", action=\"voom\", type=\"Norw. Blue\"):\n",
    "    print(\"-- This parrot wouldn't\", action, end=\" \")\n",
    "    print(\"if you put\", voltage, \"volts.\" )\n",
    "    print(\"-- Lovely plumage, the\", type)\n",
    "    print(\"-- It's\", state, \"!\")\n",
    "\n",
    "parrot() # no args"
   ]
  },
  {
   "cell_type": "code",
   "execution_count": 52,
   "metadata": {},
   "outputs": [
    {
     "ename": "SyntaxError",
     "evalue": "positional argument follows keyword argument (891544240.py, line 7)",
     "output_type": "error",
     "traceback": [
      "\u001b[0;36m  Input \u001b[0;32mIn [52]\u001b[0;36m\u001b[0m\n\u001b[0;31m    parrot(voltage=5.0, \"dead\") # keyw. arg, sonrasında pos. arg. olmaz\u001b[0m\n\u001b[0m                        ^\u001b[0m\n\u001b[0;31mSyntaxError\u001b[0m\u001b[0;31m:\u001b[0m positional argument follows keyword argument\n"
     ]
    }
   ],
   "source": [
    "def parrot(voltage, state=\"a stiff\", action=\"voom\", type=\"Norw. Blue\"):\n",
    "    print(\"-- This parrot wouldn't\", action, end=\" \")\n",
    "    print(\"if you put\", voltage, \"volts.\" )\n",
    "    print(\"-- Lovely plumage, the\", type)\n",
    "    print(\"-- It's\", state, \"!\")\n",
    "\n",
    "parrot(voltage=5.0, \"dead\") # keyw. arg, sonrasında pos. arg. olmaz"
   ]
  },
  {
   "cell_type": "code",
   "execution_count": 53,
   "metadata": {},
   "outputs": [
    {
     "ename": "TypeError",
     "evalue": "parrot() got multiple values for argument 'voltage'",
     "output_type": "error",
     "traceback": [
      "\u001b[0;31m---------------------------------------------------------------------------\u001b[0m",
      "\u001b[0;31mTypeError\u001b[0m                                 Traceback (most recent call last)",
      "Input \u001b[0;32mIn [53]\u001b[0m, in \u001b[0;36m<cell line: 7>\u001b[0;34m()\u001b[0m\n\u001b[1;32m      4\u001b[0m     \u001b[38;5;28mprint\u001b[39m(\u001b[38;5;124m\"\u001b[39m\u001b[38;5;124m-- Lovely plumage, the\u001b[39m\u001b[38;5;124m\"\u001b[39m, \u001b[38;5;28mtype\u001b[39m)\n\u001b[1;32m      5\u001b[0m     \u001b[38;5;28mprint\u001b[39m(\u001b[38;5;124m\"\u001b[39m\u001b[38;5;124m-- It\u001b[39m\u001b[38;5;124m'\u001b[39m\u001b[38;5;124ms\u001b[39m\u001b[38;5;124m\"\u001b[39m, state, \u001b[38;5;124m\"\u001b[39m\u001b[38;5;124m!\u001b[39m\u001b[38;5;124m\"\u001b[39m)\n\u001b[0;32m----> 7\u001b[0m \u001b[43mparrot\u001b[49m\u001b[43m(\u001b[49m\u001b[38;5;241;43m110\u001b[39;49m\u001b[43m,\u001b[49m\u001b[43m \u001b[49m\u001b[43mvoltage\u001b[49m\u001b[38;5;241;43m=\u001b[39;49m\u001b[38;5;241;43m220\u001b[39;49m\u001b[43m)\u001b[49m\n",
      "\u001b[0;31mTypeError\u001b[0m: parrot() got multiple values for argument 'voltage'"
     ]
    }
   ],
   "source": [
    "def parrot(voltage, state=\"a stiff\", action=\"voom\", type=\"Norw. Blue\"):\n",
    "    print(\"-- This parrot wouldn't\", action, end=\" \")\n",
    "    print(\"if you put\", voltage, \"volts.\" )\n",
    "    print(\"-- Lovely plumage, the\", type)\n",
    "    print(\"-- It's\", state, \"!\")\n",
    "\n",
    "parrot(110, voltage=220) # keyw. arg, sonrasında pos. arg. olmaz"
   ]
  },
  {
   "cell_type": "code",
   "execution_count": 55,
   "metadata": {},
   "outputs": [
    {
     "ename": "TypeError",
     "evalue": "parrot() got an unexpected keyword argument 'actor'",
     "output_type": "error",
     "traceback": [
      "\u001b[0;31m---------------------------------------------------------------------------\u001b[0m",
      "\u001b[0;31mTypeError\u001b[0m                                 Traceback (most recent call last)",
      "Input \u001b[0;32mIn [55]\u001b[0m, in \u001b[0;36m<cell line: 7>\u001b[0;34m()\u001b[0m\n\u001b[1;32m      4\u001b[0m     \u001b[38;5;28mprint\u001b[39m(\u001b[38;5;124m\"\u001b[39m\u001b[38;5;124m-- Lovely plumage, the\u001b[39m\u001b[38;5;124m\"\u001b[39m, \u001b[38;5;28mtype\u001b[39m)\n\u001b[1;32m      5\u001b[0m     \u001b[38;5;28mprint\u001b[39m(\u001b[38;5;124m\"\u001b[39m\u001b[38;5;124m-- It\u001b[39m\u001b[38;5;124m'\u001b[39m\u001b[38;5;124ms\u001b[39m\u001b[38;5;124m\"\u001b[39m, state, \u001b[38;5;124m\"\u001b[39m\u001b[38;5;124m!\u001b[39m\u001b[38;5;124m\"\u001b[39m)\n\u001b[0;32m----> 7\u001b[0m \u001b[43mparrot\u001b[49m\u001b[43m(\u001b[49m\u001b[43mactor\u001b[49m\u001b[38;5;241;43m=\u001b[39;49m\u001b[38;5;124;43m\"\u001b[39;49m\u001b[38;5;124;43mTom Cruise\u001b[39;49m\u001b[38;5;124;43m\"\u001b[39;49m\u001b[43m)\u001b[49m\n",
      "\u001b[0;31mTypeError\u001b[0m: parrot() got an unexpected keyword argument 'actor'"
     ]
    }
   ],
   "source": [
    "def parrot(voltage, state=\"a stiff\", action=\"voom\", type=\"Norw. Blue\"):\n",
    "    print(\"-- This parrot wouldn't\", action, end=\" \")\n",
    "    print(\"if you put\", voltage, \"volts.\" )\n",
    "    print(\"-- Lovely plumage, the\", type)\n",
    "    print(\"-- It's\", state, \"!\")\n",
    "\n",
    "parrot(actor=\"Tom Cruise\") # keyw. arg, sonrasında pos. arg. olmaz"
   ]
  },
  {
   "cell_type": "code",
   "execution_count": 56,
   "metadata": {},
   "outputs": [
    {
     "ename": "TypeError",
     "evalue": "function() got multiple values for argument 'a'",
     "output_type": "error",
     "traceback": [
      "\u001b[0;31m---------------------------------------------------------------------------\u001b[0m",
      "\u001b[0;31mTypeError\u001b[0m                                 Traceback (most recent call last)",
      "Input \u001b[0;32mIn [56]\u001b[0m, in \u001b[0;36m<cell line: 5>\u001b[0;34m()\u001b[0m\n\u001b[1;32m      2\u001b[0m     \u001b[38;5;28;01mpass\u001b[39;00m\n\u001b[1;32m      4\u001b[0m \u001b[38;5;66;03m#func. çağrılıyor\u001b[39;00m\n\u001b[0;32m----> 5\u001b[0m \u001b[43mfunction\u001b[49m\u001b[43m(\u001b[49m\u001b[38;5;241;43m0\u001b[39;49m\u001b[43m,\u001b[49m\u001b[43m \u001b[49m\u001b[43ma\u001b[49m\u001b[38;5;241;43m=\u001b[39;49m\u001b[38;5;241;43m0\u001b[39;49m\u001b[43m)\u001b[49m\n",
      "\u001b[0;31mTypeError\u001b[0m: function() got multiple values for argument 'a'"
     ]
    }
   ],
   "source": [
    "def function(a):\n",
    "    pass\n",
    "\n",
    "#func. çağrılıyor\n",
    "function(0, a=0)"
   ]
  },
  {
   "cell_type": "code",
   "execution_count": 59,
   "metadata": {},
   "outputs": [
    {
     "name": "stdout",
     "output_type": "stream",
     "text": [
      "Athens in Europe\n",
      "Ulaanbatur in Asia\n",
      "Cape Town in Africa\n"
     ]
    }
   ],
   "source": [
    "def city(capital, continent=\"Europe\"):\n",
    "    print(capital, \"in\", continent)\n",
    "    \n",
    "##\n",
    "city(\"Athens\")\n",
    "city(\"Ulaanbatur\", continent=\"Asia\")\n",
    "city(\"Cape Town\", \"Africa\") #pos. args."
   ]
  },
  {
   "cell_type": "code",
   "execution_count": null,
   "metadata": {},
   "outputs": [],
   "source": [
    "\"\"\" joker karakterler:\n",
    "*: positional için birden fazla argüman yerine geçer\n",
    "** : keyword argümanlar için birden fazla argüman yerine geçer\"\"\""
   ]
  },
  {
   "cell_type": "code",
   "execution_count": 60,
   "metadata": {},
   "outputs": [
    {
     "name": "stdout",
     "output_type": "stream",
     "text": [
      "I want to get : \n",
      "- orange\n",
      "- banana\n",
      "- melon\n",
      "- ananas\n"
     ]
    }
   ],
   "source": [
    "def fruiterer(*fruit): #*birden fazla argumanı girdi olarak alabilir\n",
    "    print(\"I want to get : \")\n",
    "    for i in fruit:\n",
    "        print(\"-\", i)\n",
    "    \n",
    "fruiterer(\"orange\", \"banana\", \"melon\", \"ananas\")"
   ]
  },
  {
   "cell_type": "code",
   "execution_count": 61,
   "metadata": {},
   "outputs": [
    {
     "name": "stdout",
     "output_type": "stream",
     "text": [
      "even list : [2, 4, 6, 8]\n",
      "odd  list : [1, 3, 5, 7, 9]\n"
     ]
    }
   ],
   "source": [
    "#ramazan beyin çözümü:\n",
    "def slicer(*num):\n",
    "    even = []\n",
    "    odd = []\n",
    "    for i in num:\n",
    "        if i%2==0 :\n",
    "            even.append(i)\n",
    "        else:\n",
    "            odd.append(i)\n",
    "    print(\"even list :\", even)\n",
    "    print(\"odd  list :\", odd)\n",
    "\n",
    "#ana program\n",
    "slicer(1, 2, 3, 4, 5, 6, 7, 8, 9)"
   ]
  },
  {
   "cell_type": "code",
   "execution_count": 69,
   "metadata": {},
   "outputs": [
    {
     "name": "stdout",
     "output_type": "stream",
     "text": [
      "even list : [2, 4, 6, 8]\n",
      "odd  list : [1, 3, 5, 7, 9]\n"
     ]
    }
   ],
   "source": [
    "def slicer(num): #Fonksiyonu girdisi olarak liste kullanımı\n",
    "    even = []\n",
    "    odd = []\n",
    "    for i in num:\n",
    "        if i%2==0 :\n",
    "            even.append(i)\n",
    "        else:\n",
    "            odd.append(i)\n",
    "    print(\"even list :\", even)\n",
    "    print(\"odd  list :\", odd)\n",
    "\n",
    "#ana program\n",
    "liste = [1, 2, 3, 4, 5, 6, 7, 8, 9]\n",
    "slicer(liste) #Listelerde sadece değişken adı yazılmalı"
   ]
  },
  {
   "cell_type": "code",
   "execution_count": 70,
   "metadata": {},
   "outputs": [
    {
     "name": "stdout",
     "output_type": "stream",
     "text": [
      "Lions are Etcil\n",
      "Bears are Hepcil\n",
      "Deers are Otcul\n",
      "Human are insan\n"
     ]
    }
   ],
   "source": [
    "def animals(**kwargs):\n",
    "    for k, v in kwargs.items():\n",
    "        print(v, \"are\", k)\n",
    "\n",
    "#fonks. çağırma\n",
    "animals(Etcil=\"Lions\", Hepcil=\"Bears\", Otcul=\"Deers\", insan=\"Human\")"
   ]
  },
  {
   "cell_type": "code",
   "execution_count": 73,
   "metadata": {},
   "outputs": [
    {
     "name": "stdout",
     "output_type": "stream",
     "text": [
      "Key list   :  ['Beth', 'Oscar', 'Justin', 'Frank']\n",
      "Value List :  [26, 42, 18, 33]\n"
     ]
    }
   ],
   "source": [
    "#Doğukan beyin çözümü\n",
    "def organizer(**degerler) :\n",
    "    for key,value in degerler.items() :\n",
    "        key_list.append(key)\n",
    "        value_list.append(value)\n",
    "    \n",
    "    print(\"Key list   : \", key_list)\n",
    "    print(\"Value List : \", value_list)\n",
    "\n",
    "#ana program\n",
    "key_list = []\n",
    "value_list = []\n",
    "organizer(Beth=26, Oscar=42, Justin=18, Frank=33)"
   ]
  },
  {
   "cell_type": "code",
   "execution_count": 77,
   "metadata": {},
   "outputs": [
    {
     "name": "stdout",
     "output_type": "stream",
     "text": [
      "Key list   :  ['Beth', 'Oscar', 'Justin', 'Frank']\n",
      "Value List :  [26, 42, 18, 33]\n"
     ]
    }
   ],
   "source": [
    "#Furkan beyin çözümü:\n",
    "def organizer(**degerler):    \n",
    "    print(\"Key list   : \", list(degerler.keys()))\n",
    "    print(\"Value List : \", list(degerler.values()))\n",
    "\n",
    "organizer(Beth=26, Oscar=42, Justin=18, Frank=33)"
   ]
  },
  {
   "cell_type": "code",
   "execution_count": 83,
   "metadata": {},
   "outputs": [
    {
     "name": "stdout",
     "output_type": "stream",
     "text": [
      "Here are the names of brothers\n",
      "Tom\n",
      "Sue\n",
      "Tim\n"
     ]
    }
   ],
   "source": [
    "def brothers(bro1, bro2, bro3):\n",
    "    print(\"Here are the names of brothers\")\n",
    "    print(bro1, bro2, bro3, sep=\"\\n\")\n",
    "\n",
    "family=[\"Tom\", \"Sue\", \"Tim\"]\n",
    "brothers(*family)"
   ]
  },
  {
   "cell_type": "code",
   "execution_count": 81,
   "metadata": {},
   "outputs": [
    {
     "name": "stdout",
     "output_type": "stream",
     "text": [
      "Here are the names of brothers\n",
      "Tom\n",
      "Sue\n",
      "Tim\n"
     ]
    }
   ],
   "source": [
    "def brothers(family):\n",
    "    print(\"Here are the names of brothers\")\n",
    "    for i in family:\n",
    "        print(i)\n",
    "\n",
    "family=[\"Tom\", \"Sue\", \"Tim\"]\n",
    "brothers(family)"
   ]
  },
  {
   "cell_type": "code",
   "execution_count": 84,
   "metadata": {},
   "outputs": [
    {
     "ename": "TypeError",
     "evalue": "brothers() takes 3 positional arguments but 4 were given",
     "output_type": "error",
     "traceback": [
      "\u001b[0;31m---------------------------------------------------------------------------\u001b[0m",
      "\u001b[0;31mTypeError\u001b[0m                                 Traceback (most recent call last)",
      "Input \u001b[0;32mIn [84]\u001b[0m, in \u001b[0;36m<cell line: 6>\u001b[0;34m()\u001b[0m\n\u001b[1;32m      3\u001b[0m     \u001b[38;5;28mprint\u001b[39m(bro1, bro2, bro3, sep\u001b[38;5;241m=\u001b[39m\u001b[38;5;124m\"\u001b[39m\u001b[38;5;130;01m\\n\u001b[39;00m\u001b[38;5;124m\"\u001b[39m)\n\u001b[1;32m      5\u001b[0m family\u001b[38;5;241m=\u001b[39m[\u001b[38;5;124m\"\u001b[39m\u001b[38;5;124mTom\u001b[39m\u001b[38;5;124m\"\u001b[39m, \u001b[38;5;124m\"\u001b[39m\u001b[38;5;124mSue\u001b[39m\u001b[38;5;124m\"\u001b[39m, \u001b[38;5;124m\"\u001b[39m\u001b[38;5;124mTim\u001b[39m\u001b[38;5;124m\"\u001b[39m, \u001b[38;5;124m\"\u001b[39m\u001b[38;5;124mJhon\u001b[39m\u001b[38;5;124m\"\u001b[39m]\n\u001b[0;32m----> 6\u001b[0m \u001b[43mbrothers\u001b[49m\u001b[43m(\u001b[49m\u001b[38;5;241;43m*\u001b[39;49m\u001b[43mfamily\u001b[49m\u001b[43m)\u001b[49m\n",
      "\u001b[0;31mTypeError\u001b[0m: brothers() takes 3 positional arguments but 4 were given"
     ]
    }
   ],
   "source": [
    "def brothers(bro1, bro2, bro3):\n",
    "    print(\"Here are the names of brothers\")\n",
    "    print(bro1, bro2, bro3, sep=\"\\n\")\n",
    "\n",
    "family=[\"Tom\", \"Sue\", \"Tim\", \"Jhon\"]\n",
    "brothers(*family)"
   ]
  },
  {
   "cell_type": "code",
   "execution_count": 86,
   "metadata": {},
   "outputs": [
    {
     "data": {
      "text/plain": [
       "[0, 1, 2, 3, 4, 5, 6, 7, 8, 9]"
      ]
     },
     "execution_count": 86,
     "metadata": {},
     "output_type": "execute_result"
    }
   ],
   "source": [
    "list(range(10))"
   ]
  },
  {
   "cell_type": "code",
   "execution_count": 87,
   "metadata": {},
   "outputs": [
    {
     "data": {
      "text/plain": [
       "[0, 1, 2, 3, 4, 5, 6, 7, 8, 9]"
      ]
     },
     "execution_count": 87,
     "metadata": {},
     "output_type": "execute_result"
    }
   ],
   "source": [
    "[i for i in range(10)]"
   ]
  },
  {
   "cell_type": "code",
   "execution_count": 88,
   "metadata": {},
   "outputs": [
    {
     "name": "stdout",
     "output_type": "stream",
     "text": [
      "For me, Bill Gates and Guido van Rossum are geniuses.\n"
     ]
    }
   ],
   "source": [
    "#Ramazan Rafet Beyin Çözümü\n",
    "def merger(a1, a2, a3, a4):\n",
    "    print(\"For me,\", a1, a4, \"and\", a3, a2, \"are geniuses.\")\n",
    "\n",
    "genius = (\"Bill\", \"Rossum\", \"Guido van\", \"Gates\")\n",
    "merger(*genius)"
   ]
  },
  {
   "cell_type": "code",
   "execution_count": 90,
   "metadata": {},
   "outputs": [
    {
     "name": "stdout",
     "output_type": "stream",
     "text": [
      "For me, Bill Gates Guido von Rossum are geniuses\n"
     ]
    }
   ],
   "source": [
    "#Halil beyin çözümü\n",
    "def merger(*args):\n",
    "    for i in args:\n",
    "        name = i\n",
    "    print('For me,', *name, 'are geniuses')\n",
    "\n",
    "genius = ('Bill', 'Gates', 'Guido von', 'Rossum')\n",
    "merger(genius)"
   ]
  },
  {
   "cell_type": "code",
   "execution_count": 91,
   "metadata": {},
   "outputs": [
    {
     "name": "stdout",
     "output_type": "stream",
     "text": [
      "Fred belongs to Generation X\n",
      "Marry belongs to Generation Y\n"
     ]
    }
   ],
   "source": [
    "def gene(x,y):\n",
    "    print(x, \"belongs to Generation X\")\n",
    "    print(y, \"belongs to Generation Y\")\n",
    "\n",
    "dict_gene = {\"y\": \"Marry\", \"x\": \"Fred\"}\n",
    "gene(**dict_gene)"
   ]
  },
  {
   "cell_type": "code",
   "execution_count": 93,
   "metadata": {},
   "outputs": [
    {
     "name": "stdout",
     "output_type": "stream",
     "text": [
      "The average of their ages is...: 44.0\n"
     ]
    }
   ],
   "source": [
    "def meaner(Tom, Fred, Marry):\n",
    "    avg = (Tom + Fred + Marry)/3\n",
    "    print(\"The average of their ages is...:\", avg)\n",
    "\n",
    "friends = {\"Marry\":44, \"Fred\":56, \"Tom\":32}\n",
    "meaner(**friends)"
   ]
  },
  {
   "cell_type": "code",
   "execution_count": null,
   "metadata": {},
   "outputs": [],
   "source": [
    "def f(pos1, pos2, /, pos_or_kwd, *, kwd1, kwd2):\n",
    "      -----------    ----------     ----------\n",
    "        |             |                  |\n",
    "        |        Positional or keyword   |\n",
    "        |                                - Keyword only\n",
    "         -- Positional only"
   ]
  },
  {
   "cell_type": "code",
   "execution_count": 8,
   "metadata": {},
   "outputs": [
    {
     "name": "stdout",
     "output_type": "stream",
     "text": [
      "i love you\n"
     ]
    }
   ],
   "source": [
    "def texter(c, /, a=\"you\", *, b=\"love\"):  \n",
    "    print(c, b, a)\n",
    "\n",
    "##ana program\n",
    "texter(\"i\", b=\"love\",  a=\"you\")"
   ]
  },
  {
   "cell_type": "code",
   "execution_count": 11,
   "metadata": {},
   "outputs": [
    {
     "name": "stdout",
     "output_type": "stream",
     "text": [
      "i love you\n"
     ]
    }
   ],
   "source": [
    "def texter(c, /, a=\"you\", *, b=\"love\"):  \n",
    "    print(c, b, a)\n",
    "\n",
    "##ana program\n",
    "texter(\"i\", \"you\",  b=\"love\")"
   ]
  },
  {
   "cell_type": "code",
   "execution_count": 4,
   "metadata": {},
   "outputs": [],
   "source": [
    "#recap\n",
    "def f(pos1, pos2, /, pos_or_kwd, *, kwd1, kwd2):\n",
    "    pass"
   ]
  }
 ],
 "metadata": {
  "interpreter": {
   "hash": "35c4bcfff6bb594ff47b51ce5b21bcb1093d06fa0c5debe7002e3be5d50f4cc1"
  },
  "kernelspec": {
   "display_name": "Python 3 (ipykernel)",
   "language": "python",
   "name": "python3"
  },
  "language_info": {
   "codemirror_mode": {
    "name": "ipython",
    "version": 3
   },
   "file_extension": ".py",
   "mimetype": "text/x-python",
   "name": "python",
   "nbconvert_exporter": "python",
   "pygments_lexer": "ipython3",
   "version": "3.8.10"
  }
 },
 "nbformat": 4,
 "nbformat_minor": 2
}
