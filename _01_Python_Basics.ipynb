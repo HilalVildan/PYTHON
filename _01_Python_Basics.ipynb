{
 "cells": [
  {
   "cell_type": "markdown",
   "id": "ad569fa9",
   "metadata": {},
   "source": [
    "# İlk Python Dersimiz"
   ]
  },
  {
   "cell_type": "markdown",
   "id": "6cd83f5e",
   "metadata": {},
   "source": [
    "PEP 20 : Python Zeni: "
   ]
  },
  {
   "cell_type": "markdown",
   "id": "feaa1dae",
   "metadata": {},
   "source": [
    "https://youtu.be/i6G6dmVJy74"
   ]
  },
  {
   "cell_type": "code",
   "execution_count": 1,
   "id": "07fbde89",
   "metadata": {},
   "outputs": [
    {
     "name": "stdout",
     "output_type": "stream",
     "text": [
      "The Zen of Python, by Tim Peters\n",
      "\n",
      "Beautiful is better than ugly.\n",
      "Explicit is better than implicit.\n",
      "Simple is better than complex.\n",
      "Complex is better than complicated.\n",
      "Flat is better than nested.\n",
      "Sparse is better than dense.\n",
      "Readability counts.\n",
      "Special cases aren't special enough to break the rules.\n",
      "Although practicality beats purity.\n",
      "Errors should never pass silently.\n",
      "Unless explicitly silenced.\n",
      "In the face of ambiguity, refuse the temptation to guess.\n",
      "There should be one-- and preferably only one --obvious way to do it.\n",
      "Although that way may not be obvious at first unless you're Dutch.\n",
      "Now is better than never.\n",
      "Although never is often better than *right* now.\n",
      "If the implementation is hard to explain, it's a bad idea.\n",
      "If the implementation is easy to explain, it may be a good idea.\n",
      "Namespaces are one honking great idea -- let's do more of those!\n"
     ]
    }
   ],
   "source": [
    "import this"
   ]
  },
  {
   "cell_type": "markdown",
   "id": "3b3a1b91",
   "metadata": {},
   "source": [
    "İki sayının toplamı için + operatörü kullandım"
   ]
  },
  {
   "cell_type": "code",
   "execution_count": 20,
   "id": "6d089008-e991-43c0-b65b-b462344c991a",
   "metadata": {},
   "outputs": [
    {
     "data": {
      "text/plain": [
       "8"
      ]
     },
     "execution_count": 20,
     "metadata": {},
     "output_type": "execute_result"
    }
   ],
   "source": [
    "3 + 5"
   ]
  },
  {
   "cell_type": "code",
   "execution_count": 21,
   "id": "4c5a5d50-1dbf-4d47-bcf9-b081026bae85",
   "metadata": {},
   "outputs": [
    {
     "data": {
      "text/plain": [
       "42"
      ]
     },
     "execution_count": 21,
     "metadata": {},
     "output_type": "execute_result"
    }
   ],
   "source": [
    "7*6"
   ]
  },
  {
   "cell_type": "code",
   "execution_count": 22,
   "id": "b7275cd6-238a-43c2-bb38-2726aee1263d",
   "metadata": {},
   "outputs": [
    {
     "name": "stdout",
     "output_type": "stream",
     "text": [
      "Hello World!\n"
     ]
    }
   ],
   "source": [
    "print(\"Hello World!\")"
   ]
  },
  {
   "cell_type": "code",
   "execution_count": 23,
   "id": "5bc3f333-6653-4898-9a3e-4f2042398233",
   "metadata": {},
   "outputs": [],
   "source": [
    "s = \"Merhaba Ben Ali\""
   ]
  },
  {
   "cell_type": "code",
   "execution_count": 24,
   "id": "9ac06db3-11ee-4c76-b6ba-71d55f8f2740",
   "metadata": {},
   "outputs": [
    {
     "data": {
      "text/plain": [
       "'Merhaba Ben Ali'"
      ]
     },
     "execution_count": 24,
     "metadata": {},
     "output_type": "execute_result"
    }
   ],
   "source": [
    "s"
   ]
  },
  {
   "cell_type": "code",
   "execution_count": 25,
   "id": "baa3d752-c326-4b76-bd4d-b62bf82d0748",
   "metadata": {},
   "outputs": [
    {
     "name": "stdout",
     "output_type": "stream",
     "text": [
      "Merhaba\n"
     ]
    }
   ],
   "source": [
    "print(\"Merhaba\")"
   ]
  },
  {
   "cell_type": "code",
   "execution_count": 26,
   "id": "f9d9985e-d140-418b-9445-6d4008a18b9e",
   "metadata": {},
   "outputs": [
    {
     "name": "stdout",
     "output_type": "stream",
     "text": [
      "Meraba Ben\n"
     ]
    }
   ],
   "source": [
    "print('Meraba Ben')"
   ]
  },
  {
   "cell_type": "code",
   "execution_count": 27,
   "id": "9b797e51-18fb-4f9c-bf8a-0d033709d835",
   "metadata": {},
   "outputs": [
    {
     "ename": "SyntaxError",
     "evalue": "EOL while scanning string literal (3338392143.py, line 1)",
     "output_type": "error",
     "traceback": [
      "\u001b[0;36m  Input \u001b[0;32mIn [27]\u001b[0;36m\u001b[0m\n\u001b[0;31m    print('Meraba Bende sorunvar!\")\u001b[0m\n\u001b[0m                                   ^\u001b[0m\n\u001b[0;31mSyntaxError\u001b[0m\u001b[0;31m:\u001b[0m EOL while scanning string literal\n"
     ]
    }
   ],
   "source": [
    "print('Meraba Bende sorunvar!\")"
   ]
  },
  {
   "cell_type": "code",
   "execution_count": 28,
   "id": "533ef33d-a903-44a5-8ca8-dbd7bec3ac49",
   "metadata": {},
   "outputs": [
    {
     "ename": "SyntaxError",
     "evalue": "invalid syntax (752215471.py, line 1)",
     "output_type": "error",
     "traceback": [
      "\u001b[0;36m  Input \u001b[0;32mIn [28]\u001b[0;36m\u001b[0m\n\u001b[0;31m    print(''Merhaba bende sorun var gibi!'')\u001b[0m\n\u001b[0m            ^\u001b[0m\n\u001b[0;31mSyntaxError\u001b[0m\u001b[0;31m:\u001b[0m invalid syntax\n"
     ]
    }
   ],
   "source": [
    "print(''Merhaba bende sorun var gibi!'')"
   ]
  },
  {
   "cell_type": "code",
   "execution_count": 29,
   "id": "3650e8fd-aa67-402a-b9d9-ac0ef409699b",
   "metadata": {},
   "outputs": [
    {
     "name": "stdout",
     "output_type": "stream",
     "text": [
      "\n"
     ]
    }
   ],
   "source": [
    "print('')"
   ]
  },
  {
   "cell_type": "code",
   "execution_count": 30,
   "id": "773df4c6-ced0-46d7-bd9e-d277137f2f14",
   "metadata": {},
   "outputs": [
    {
     "name": "stdout",
     "output_type": "stream",
     "text": [
      "\n"
     ]
    }
   ],
   "source": [
    "print(\"\")"
   ]
  },
  {
   "cell_type": "code",
   "execution_count": 31,
   "id": "775cbc8c-88f7-4fbf-9b16-fb4944b9825d",
   "metadata": {},
   "outputs": [
    {
     "name": "stdout",
     "output_type": "stream",
     "text": [
      "Merhaba bende sorun var gibi!\n"
     ]
    }
   ],
   "source": [
    "print(''\"Merhaba bende sorun var gibi!\")"
   ]
  },
  {
   "cell_type": "code",
   "execution_count": 32,
   "id": "fc2f90e7-e3a4-4506-8ebf-816929c65425",
   "metadata": {},
   "outputs": [
    {
     "name": "stdout",
     "output_type": "stream",
     "text": [
      "\n",
      "Merhaba bende sorun var gibi!\n"
     ]
    }
   ],
   "source": [
    "print('')\n",
    "print(\"Merhaba bende sorun var gibi!\")"
   ]
  },
  {
   "cell_type": "code",
   "execution_count": 33,
   "id": "325abe0c-4153-442c-bfb1-56f145676fc5",
   "metadata": {},
   "outputs": [
    {
     "name": "stdout",
     "output_type": "stream",
     "text": [
      " Merhaba bende sorun var gibi!\n"
     ]
    }
   ],
   "source": [
    "print(' '\"Merhaba bende sorun var gibi!\")"
   ]
  },
  {
   "cell_type": "code",
   "execution_count": 34,
   "id": "4f8cbdc6-9d40-4ea6-9d7e-3797790e3e95",
   "metadata": {},
   "outputs": [
    {
     "ename": "SyntaxError",
     "evalue": "invalid syntax (1086489871.py, line 1)",
     "output_type": "error",
     "traceback": [
      "\u001b[0;36m  Input \u001b[0;32mIn [34]\u001b[0;36m\u001b[0m\n\u001b[0;31m    print('Merhaba'nın Dünyası')\u001b[0m\n\u001b[0m                   ^\u001b[0m\n\u001b[0;31mSyntaxError\u001b[0m\u001b[0;31m:\u001b[0m invalid syntax\n"
     ]
    }
   ],
   "source": [
    "print('Merhaba'nın Dünyası')"
   ]
  },
  {
   "cell_type": "code",
   "execution_count": 35,
   "id": "3f2c4312-f9bf-4706-978e-2590aad0afe4",
   "metadata": {},
   "outputs": [
    {
     "name": "stdout",
     "output_type": "stream",
     "text": [
      "Merhaba'nın Dünyası\n"
     ]
    }
   ],
   "source": [
    "print(\"Merhaba'nın Dünyası\")  #Ayraç amaçlı tırnak kullanımı"
   ]
  },
  {
   "cell_type": "code",
   "execution_count": 36,
   "id": "489e85e9-0a6a-405e-bd9e-19a2dcc8279d",
   "metadata": {},
   "outputs": [
    {
     "name": "stdout",
     "output_type": "stream",
     "text": [
      "Merhaba'nın Dünyası\n"
     ]
    }
   ],
   "source": [
    "print('Merhaba\\'nın Dünyası')  #Ayraç amaçlı tırnak kullanımı"
   ]
  },
  {
   "cell_type": "code",
   "execution_count": 38,
   "id": "d555786e-53bf-4bde-9d62-fbf240c5245b",
   "metadata": {},
   "outputs": [
    {
     "name": "stdout",
     "output_type": "stream",
     "text": [
      "Merhaba Clarusway ailesi\n"
     ]
    }
   ],
   "source": [
    "s = \"Merhaba Clarusway ailesi\"\n",
    "print(s)"
   ]
  },
  {
   "cell_type": "code",
   "execution_count": 39,
   "id": "8709a5be-8ced-49d8-8acc-bf7050999df5",
   "metadata": {},
   "outputs": [
    {
     "ename": "SyntaxError",
     "evalue": "EOL while scanning string literal (2292979048.py, line 1)",
     "output_type": "error",
     "traceback": [
      "\u001b[0;36m  Input \u001b[0;32mIn [39]\u001b[0;36m\u001b[0m\n\u001b[0;31m    print(\"Merhaba\u001b[0m\n\u001b[0m                  ^\u001b[0m\n\u001b[0;31mSyntaxError\u001b[0m\u001b[0;31m:\u001b[0m EOL while scanning string literal\n"
     ]
    }
   ],
   "source": [
    "print(\"Merhaba\n",
    "      Ben Ali\n",
    "      Dersim Python\")"
   ]
  },
  {
   "cell_type": "code",
   "execution_count": 40,
   "id": "f64bce97-90b2-4962-aeb9-45abb08f0acd",
   "metadata": {},
   "outputs": [
    {
     "name": "stdout",
     "output_type": "stream",
     "text": [
      "Merhaba\n",
      "      Ben Ali\n",
      "      Dersim Python\n"
     ]
    }
   ],
   "source": [
    "print(\"\"\"Merhaba\n",
    "      Ben Ali\n",
    "      Dersim Python\"\"\")"
   ]
  },
  {
   "cell_type": "code",
   "execution_count": 41,
   "id": "1e04fa08-50bd-4ba1-a179-ad0088cdddbf",
   "metadata": {},
   "outputs": [
    {
     "name": "stdout",
     "output_type": "stream",
     "text": [
      "Merhaba\n",
      "      Ben Ali\n",
      "      Dersim Python\n"
     ]
    }
   ],
   "source": [
    "print('''Merhaba\n",
    "      Ben Ali\n",
    "      Dersim Python''')"
   ]
  },
  {
   "cell_type": "code",
   "execution_count": 42,
   "id": "92e9a3bc-c05b-4650-b484-4e81c62a01f4",
   "metadata": {},
   "outputs": [
    {
     "ename": "SyntaxError",
     "evalue": "EOL while scanning string literal (4110895107.py, line 1)",
     "output_type": "error",
     "traceback": [
      "\u001b[0;36m  Input \u001b[0;32mIn [42]\u001b[0;36m\u001b[0m\n\u001b[0;31m    s = \"Merhaba\u001b[0m\n\u001b[0m                ^\u001b[0m\n\u001b[0;31mSyntaxError\u001b[0m\u001b[0;31m:\u001b[0m EOL while scanning string literal\n"
     ]
    }
   ],
   "source": [
    "s = \"Merhaba\n",
    "    Ben\n",
    "    Ali\"\n",
    "print(s)"
   ]
  },
  {
   "cell_type": "code",
   "execution_count": 43,
   "id": "f294a3d4-a2eb-454b-94f5-418c2490c844",
   "metadata": {},
   "outputs": [
    {
     "name": "stdout",
     "output_type": "stream",
     "text": [
      "Merhaba\n",
      "    Ben\n",
      "    Ali\n"
     ]
    }
   ],
   "source": [
    "s = \"\"\"Merhaba\n",
    "    Ben\n",
    "    Ali\"\"\"\n",
    "print(s)"
   ]
  },
  {
   "cell_type": "code",
   "execution_count": 44,
   "id": "4349121c-79f3-4594-aa68-c53ee1cd5f34",
   "metadata": {},
   "outputs": [
    {
     "name": "stdout",
     "output_type": "stream",
     "text": [
      "Merhaba\n",
      "    Ben\n",
      "    Ali\n"
     ]
    }
   ],
   "source": [
    "#şık değil\n",
    "s=\"\"\"Merhaba\n",
    "    Ben\n",
    "    Ali\"\"\" \n",
    "print(s)  "
   ]
  },
  {
   "cell_type": "code",
   "execution_count": 45,
   "id": "6c23c4e4-ae90-4b8b-9219-456bfdd29b1b",
   "metadata": {},
   "outputs": [
    {
     "name": "stdout",
     "output_type": "stream",
     "text": [
      "3.14\n"
     ]
    }
   ],
   "source": [
    "print('3.14')"
   ]
  },
  {
   "cell_type": "code",
   "execution_count": 46,
   "id": "5d6018e0-5974-4762-bad6-a62a2d3076d0",
   "metadata": {},
   "outputs": [
    {
     "name": "stdout",
     "output_type": "stream",
     "text": [
      "3.14\n"
     ]
    }
   ],
   "source": [
    "print(3.14)  #sayısal(nümerik) veri"
   ]
  },
  {
   "cell_type": "code",
   "execution_count": 48,
   "id": "b8c92a9e-57f5-4904-9cfd-6c7921948c17",
   "metadata": {},
   "outputs": [
    {
     "ename": "TypeError",
     "evalue": "can only concatenate str (not \"int\") to str",
     "output_type": "error",
     "traceback": [
      "\u001b[0;31m---------------------------------------------------------------------------\u001b[0m",
      "\u001b[0;31mTypeError\u001b[0m                                 Traceback (most recent call last)",
      "Input \u001b[0;32mIn [48]\u001b[0m, in \u001b[0;36m<cell line: 1>\u001b[0;34m()\u001b[0m\n\u001b[0;32m----> 1\u001b[0m \u001b[38;5;28mprint\u001b[39m(\u001b[38;5;124;43m'\u001b[39;49m\u001b[38;5;124;43m3.14\u001b[39;49m\u001b[38;5;124;43m'\u001b[39;49m\u001b[43m \u001b[49m\u001b[38;5;241;43m+\u001b[39;49m\u001b[43m \u001b[49m\u001b[38;5;241;43m5\u001b[39;49m)\n",
      "\u001b[0;31mTypeError\u001b[0m: can only concatenate str (not \"int\") to str"
     ]
    }
   ],
   "source": [
    "print('3.14' + 5)"
   ]
  },
  {
   "cell_type": "code",
   "execution_count": 49,
   "id": "632b5a6f-e41e-485f-9053-98416ee32a60",
   "metadata": {},
   "outputs": [
    {
     "name": "stdout",
     "output_type": "stream",
     "text": [
      "8.14\n"
     ]
    }
   ],
   "source": [
    "print(3.14 + 5)"
   ]
  },
  {
   "cell_type": "code",
   "execution_count": 50,
   "id": "6b116c04-b80e-4720-a8c5-3b6eccffabc9",
   "metadata": {},
   "outputs": [
    {
     "name": "stdout",
     "output_type": "stream",
     "text": [
      "3.145\n"
     ]
    }
   ],
   "source": [
    "print('3.14' + '5')"
   ]
  },
  {
   "cell_type": "code",
   "execution_count": 51,
   "id": "de49feda-f2f0-4e9d-849b-17f3edecabc8",
   "metadata": {},
   "outputs": [
    {
     "name": "stdout",
     "output_type": "stream",
     "text": [
      "11\n"
     ]
    }
   ],
   "source": [
    "print('1'+'1') #string birleştirme"
   ]
  },
  {
   "cell_type": "code",
   "execution_count": 52,
   "id": "eaade88e-d5d9-49ba-aa4d-85b77aae8118",
   "metadata": {},
   "outputs": [
    {
     "name": "stdout",
     "output_type": "stream",
     "text": [
      "2\n"
     ]
    }
   ],
   "source": [
    "print(1+1) #sayısal birleştirme"
   ]
  },
  {
   "cell_type": "code",
   "execution_count": 53,
   "id": "1725f84a-9a7a-4939-97ff-124198e83a53",
   "metadata": {},
   "outputs": [
    {
     "name": "stdout",
     "output_type": "stream",
     "text": [
      "'Merhaba Ali\"\n"
     ]
    }
   ],
   "source": [
    "print(''''Merhaba Ali\"''')"
   ]
  },
  {
   "cell_type": "code",
   "execution_count": 54,
   "id": "7f0aeb47-860e-4680-8a6b-3304b9c6131f",
   "metadata": {},
   "outputs": [
    {
     "ename": "SyntaxError",
     "evalue": "EOL while scanning string literal (225436543.py, line 1)",
     "output_type": "error",
     "traceback": [
      "\u001b[0;36m  Input \u001b[0;32mIn [54]\u001b[0;36m\u001b[0m\n\u001b[0;31m    print(''''Merhaba Ali\"'''')\u001b[0m\n\u001b[0m                               ^\u001b[0m\n\u001b[0;31mSyntaxError\u001b[0m\u001b[0;31m:\u001b[0m EOL while scanning string literal\n"
     ]
    }
   ],
   "source": [
    "print(''''Merhaba Ali\"'''')"
   ]
  },
  {
   "cell_type": "code",
   "execution_count": 55,
   "id": "6735d406-9ef3-4873-8209-9718a461c012",
   "metadata": {},
   "outputs": [
    {
     "name": "stdout",
     "output_type": "stream",
     "text": [
      "'Merhaba Ali\n"
     ]
    }
   ],
   "source": [
    "print(''''Merhaba Ali''''')"
   ]
  },
  {
   "cell_type": "code",
   "execution_count": 56,
   "id": "a92b7f01-3f35-463b-b884-c3597aefe08a",
   "metadata": {},
   "outputs": [
    {
     "name": "stdout",
     "output_type": "stream",
     "text": [
      "Merhaba\n",
      "\n",
      "Ayşe\n"
     ]
    }
   ],
   "source": [
    "print('Merhaba')\n",
    "print()  #boş satır\n",
    "print('Ayşe')"
   ]
  },
  {
   "cell_type": "code",
   "execution_count": 57,
   "id": "891d4b5d-eb0a-4efd-9384-344a809b36a0",
   "metadata": {},
   "outputs": [
    {
     "name": "stdout",
     "output_type": "stream",
     "text": [
      "\n",
      "\n"
     ]
    }
   ],
   "source": [
    "print()\n",
    "print('') #eşdeğer kod satırları"
   ]
  },
  {
   "cell_type": "code",
   "execution_count": 58,
   "id": "b9cbec50-2fe1-4944-aca3-3b5fc198ed7e",
   "metadata": {},
   "outputs": [
    {
     "ename": "SyntaxError",
     "evalue": "EOF while scanning triple-quoted string literal (2897796912.py, line 2)",
     "output_type": "error",
     "traceback": [
      "\u001b[0;36m  Input \u001b[0;32mIn [58]\u001b[0;36m\u001b[0m\n\u001b[0;31m    print('''')\u001b[0m\n\u001b[0m               ^\u001b[0m\n\u001b[0;31mSyntaxError\u001b[0m\u001b[0;31m:\u001b[0m EOF while scanning triple-quoted string literal\n"
     ]
    }
   ],
   "source": [
    "print()\n",
    "print('''')"
   ]
  },
  {
   "cell_type": "code",
   "execution_count": 59,
   "id": "388fef3d-de21-4bdd-bf5a-5c4784529a3b",
   "metadata": {},
   "outputs": [
    {
     "ename": "SyntaxError",
     "evalue": "EOF while scanning triple-quoted string literal (1902568195.py, line 2)",
     "output_type": "error",
     "traceback": [
      "\u001b[0;36m  Input \u001b[0;32mIn [59]\u001b[0;36m\u001b[0m\n\u001b[0;31m    print(\"\"\"\")\u001b[0m\n\u001b[0m               ^\u001b[0m\n\u001b[0;31mSyntaxError\u001b[0m\u001b[0;31m:\u001b[0m EOF while scanning triple-quoted string literal\n"
     ]
    }
   ],
   "source": [
    "print()\n",
    "print(\"\"\"\")"
   ]
  },
  {
   "cell_type": "code",
   "execution_count": 60,
   "id": "e8f02120-20ab-46ef-a0fd-9e156b031829",
   "metadata": {},
   "outputs": [
    {
     "name": "stdout",
     "output_type": "stream",
     "text": [
      "\n",
      "\"\"\n"
     ]
    }
   ],
   "source": [
    "print()\n",
    "print('\"\"')"
   ]
  },
  {
   "cell_type": "code",
   "execution_count": null,
   "id": "57365b32-07cf-4fbe-8858-0089385f43f4",
   "metadata": {},
   "outputs": [],
   "source": [
    "## Değişken (Variable) : Program içerisinde değeri sürekli değişen bellek alanı (kutucuk)"
   ]
  },
  {
   "cell_type": "code",
   "execution_count": 61,
   "id": "ec679497-3468-4d88-a8d2-76c3e6fae036",
   "metadata": {},
   "outputs": [
    {
     "name": "stdout",
     "output_type": "stream",
     "text": [
      "8\n"
     ]
    }
   ],
   "source": [
    "print(3 + 5)"
   ]
  },
  {
   "cell_type": "code",
   "execution_count": 62,
   "id": "fcd31348-045d-4bb0-86f4-5a6a681a75f2",
   "metadata": {},
   "outputs": [
    {
     "name": "stdout",
     "output_type": "stream",
     "text": [
      "8\n"
     ]
    }
   ],
   "source": [
    "no1 = 3\n",
    "no2 = 5\n",
    "print(no1+no2)"
   ]
  },
  {
   "cell_type": "code",
   "execution_count": 63,
   "id": "2811d6bf-805d-4687-a8bf-064a48cf1972",
   "metadata": {},
   "outputs": [
    {
     "name": "stdout",
     "output_type": "stream",
     "text": [
      "37\n"
     ]
    }
   ],
   "source": [
    "no1 = 3\n",
    "no2 = 34\n",
    "print(no1+no2)"
   ]
  },
  {
   "cell_type": "code",
   "execution_count": null,
   "id": "3b2562d2-2ec3-4a6d-9fd6-03aa8eb50723",
   "metadata": {},
   "outputs": [],
   "source": [
    "##Formatlı mesaj yazdırma şekilleri"
   ]
  },
  {
   "cell_type": "code",
   "execution_count": 64,
   "id": "487882bf-c0c1-4f92-8b14-8c1083e3f74a",
   "metadata": {},
   "outputs": [
    {
     "name": "stdout",
     "output_type": "stream",
     "text": [
      "1.sayı..:  3\n"
     ]
    }
   ],
   "source": [
    "print(\"1.sayı..: \", no1)"
   ]
  },
  {
   "cell_type": "code",
   "execution_count": 65,
   "id": "a0fd9c84-2b0a-4602-ba2e-569abb357c3a",
   "metadata": {},
   "outputs": [
    {
     "ename": "TypeError",
     "evalue": "can only concatenate str (not \"int\") to str",
     "output_type": "error",
     "traceback": [
      "\u001b[0;31m---------------------------------------------------------------------------\u001b[0m",
      "\u001b[0;31mTypeError\u001b[0m                                 Traceback (most recent call last)",
      "Input \u001b[0;32mIn [65]\u001b[0m, in \u001b[0;36m<cell line: 1>\u001b[0;34m()\u001b[0m\n\u001b[0;32m----> 1\u001b[0m \u001b[38;5;28mprint\u001b[39m(\u001b[38;5;124;43m\"\u001b[39;49m\u001b[38;5;124;43m1.sayı..: \u001b[39;49m\u001b[38;5;124;43m\"\u001b[39;49m\u001b[43m \u001b[49m\u001b[38;5;241;43m+\u001b[39;49m\u001b[43m \u001b[49m\u001b[43mno1\u001b[49m)\n",
      "\u001b[0;31mTypeError\u001b[0m: can only concatenate str (not \"int\") to str"
     ]
    }
   ],
   "source": [
    "print(\"1.sayı..: \" + no1)"
   ]
  },
  {
   "cell_type": "code",
   "execution_count": 66,
   "id": "1e9910c1-a298-445b-a466-277ebea33a39",
   "metadata": {},
   "outputs": [
    {
     "name": "stdout",
     "output_type": "stream",
     "text": [
      "1.sayı..: 3\n"
     ]
    }
   ],
   "source": [
    "print(\"1.sayı..: \" + str(no1))"
   ]
  },
  {
   "cell_type": "code",
   "execution_count": 67,
   "id": "28ae2ba8-10f9-4823-b12d-13dcd89dca22",
   "metadata": {},
   "outputs": [
    {
     "name": "stdout",
     "output_type": "stream",
     "text": [
      "1.sayı..: 3\n"
     ]
    }
   ],
   "source": [
    "print(\"1.sayı..: %d\" %no1)"
   ]
  },
  {
   "cell_type": "code",
   "execution_count": 68,
   "id": "d4169bf0-5cfe-481c-a649-11f7690a4dcb",
   "metadata": {},
   "outputs": [
    {
     "name": "stdout",
     "output_type": "stream",
     "text": [
      "1.sayı..: 3\n"
     ]
    }
   ],
   "source": [
    "print(\"1.sayı..: {0}\".format(no1))"
   ]
  },
  {
   "cell_type": "code",
   "execution_count": 69,
   "id": "a9476bfe-c417-4d61-baee-dff8d5e8fe7e",
   "metadata": {},
   "outputs": [
    {
     "name": "stdout",
     "output_type": "stream",
     "text": [
      "1.sayı..: 3\n"
     ]
    }
   ],
   "source": [
    "print(f\"1.sayı..: {no1}\")"
   ]
  },
  {
   "cell_type": "code",
   "execution_count": null,
   "id": "c5dfb744-8290-451f-b5df-05e6d268829b",
   "metadata": {},
   "outputs": [],
   "source": [
    "# PEP8 Önerileri: Zorunlu değil\n",
    "a = 3    # Doğrusu\n",
    "a=3      # Yanlışı\n",
    "a=    3  # Yanlış ama çalışır...."
   ]
  },
  {
   "cell_type": "code",
   "execution_count": 70,
   "id": "c6af0b51-7a8b-41e4-8bfd-a09ea8057335",
   "metadata": {},
   "outputs": [
    {
     "name": "stdout",
     "output_type": "stream",
     "text": [
      "hello\n"
     ]
    }
   ],
   "source": [
    "print('hello')  \n",
    "# First multi-line comment\n",
    "# Second multi-line comment\n",
    "# Third multi-line comment"
   ]
  },
  {
   "cell_type": "code",
   "execution_count": 71,
   "id": "2e2333a9-b366-43ac-b22c-70afd3c69c4a",
   "metadata": {},
   "outputs": [
    {
     "name": "stdout",
     "output_type": "stream",
     "text": [
      "Toplam =  8\n"
     ]
    }
   ],
   "source": [
    "# İki sayının toplamı\n",
    "a = 3  # 1.sayı\n",
    "b = 5  # 2.sayı\n",
    "toplam = a + b\n",
    "print(\"Toplam = \", toplam)"
   ]
  },
  {
   "cell_type": "code",
   "execution_count": 72,
   "id": "1983abb5-31ed-487f-96d3-c27af7326958",
   "metadata": {},
   "outputs": [
    {
     "name": "stdout",
     "output_type": "stream",
     "text": [
      "Toplam =  8\n"
     ]
    }
   ],
   "source": [
    "# İki sayının toplamı\n",
    "a = 3; b = 5  # kod satırlarını ayırmak için ';' kullanılır\n",
    "toplam = a + b\n",
    "print(\"Toplam = \", toplam)"
   ]
  },
  {
   "cell_type": "code",
   "execution_count": 73,
   "id": "39f0afe8-bf4a-408b-a555-05069e45316d",
   "metadata": {},
   "outputs": [
    {
     "name": "stdout",
     "output_type": "stream",
     "text": [
      "Toplam =  8\n"
     ]
    }
   ],
   "source": [
    "# Docstring örneği\n",
    "\"\"\" Bu program,\n",
    "İki sayının toplamını yapar.\n",
    "@author: Bülend\n",
    "\"\"\"\n",
    "a = 3; b = 5  # kod satırlarını ayırmak için ';' kullanılır\n",
    "toplam = a + b\n",
    "print(\"Toplam = \", toplam)"
   ]
  },
  {
   "cell_type": "code",
   "execution_count": null,
   "id": "312cacdf-175b-46d2-8e9a-2f64a91ccae7",
   "metadata": {},
   "outputs": [],
   "source": [
    "import this"
   ]
  },
  {
   "cell_type": "code",
   "execution_count": null,
   "id": "1ffcdeaf-56e4-488f-a814-c56522fa9c19",
   "metadata": {},
   "outputs": [],
   "source": [
    "birinci_sayi = 5\n",
    "ikinci_sayi = 7\n",
    "indirim_orani = 0.10\n",
    "buyuk_sayi = 10_000_000"
   ]
  },
  {
   "cell_type": "code",
   "execution_count": 75,
   "id": "b41b96f1-e733-4da6-89b3-fb159460d8ea",
   "metadata": {},
   "outputs": [
    {
     "name": "stdout",
     "output_type": "stream",
     "text": [
      "628.0\n"
     ]
    }
   ],
   "source": [
    "#sabit tanımlamaları:\n",
    "PI = 3.14  #sabit ise buyuk harfle yazın\n",
    "r = 10\n",
    "cevre = 2*PI*r*r\n",
    "print(cevre)"
   ]
  },
  {
   "cell_type": "code",
   "execution_count": null,
   "id": "5947ca1a-e26d-4fe8-831b-214553b0eca7",
   "metadata": {},
   "outputs": [],
   "source": []
  }
 ],
 "metadata": {
  "interpreter": {
   "hash": "916dbcbb3f70747c44a77c7bcd40155683ae19c65e1c03b4aa3499c5328201f1"
  },
  "kernelspec": {
   "display_name": "Python 3.8.10 64-bit",
   "language": "python",
   "name": "python3"
  },
  "language_info": {
   "codemirror_mode": {
    "name": "ipython",
    "version": 3
   },
   "file_extension": ".py",
   "mimetype": "text/x-python",
   "name": "python",
   "nbconvert_exporter": "python",
   "pygments_lexer": "ipython3",
   "version": "3.8.10"
  }
 },
 "nbformat": 4,
 "nbformat_minor": 5
}
