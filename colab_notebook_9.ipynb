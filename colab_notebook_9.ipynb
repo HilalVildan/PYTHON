{
  "cells": [
    {
      "cell_type": "code",
      "execution_count": 4,
      "metadata": {
        "colab": {
          "base_uri": "https://localhost:8080/"
        },
        "id": "OXCk4RAzBCnb",
        "outputId": "0f357393-f6b6-483d-be05-6f0b6353eae5"
      },
      "outputs": [
        {
          "name": "stdout",
          "output_type": "stream",
          "text": [
            "{'one': 1, 'two': 2, 'three': 3}\n",
            "{'one': 1, 'two': 2, 'three': 3}\n",
            "{'two': 2, 'one': 1, 'three': 3}\n",
            "{'three': 3, 'one': 1, 'two': 2}\n",
            "{'one': 1, 'three': 3, 'two': 2}\n"
          ]
        }
      ],
      "source": [
        "##1. Sözlük(dict) tanımlama şekilleri:\n",
        "\n",
        "a = dict(one=1, two=2, three=3)  ## key isimlerinde değişken tanımlama kuralları geçerli\n",
        "b = {'one': 1, 'two': 2, 'three': 3}\n",
        "c = dict(zip(['one', 'two', 'three'], [1, 2, 3]))\n",
        "d = dict([('two', 2), ('one', 1), ('three', 3)])\n",
        "e = dict({'three': 3, 'one': 1, 'two': 2})\n",
        "f = dict({'one': 1, 'three': 3}, two=2)\n",
        "#Acaba hepsi aynı mı?\n",
        "print(a)\n",
        "print(b)\n",
        "print(d)\n",
        "print(e)\n",
        "print(f)"
      ]
    },
    {
      "cell_type": "code",
      "execution_count": 2,
      "metadata": {
        "colab": {
          "base_uri": "https://localhost:8080/"
        },
        "id": "jgHbz3ShC6IO",
        "outputId": "ea84811f-200f-4644-b4e8-633bbf4fac97"
      },
      "outputs": [
        {
          "name": "stdout",
          "output_type": "stream",
          "text": [
            "{'one': 1, 'two': 2, 'three': 3}\n"
          ]
        }
      ],
      "source": [
        "print(c)"
      ]
    },
    {
      "cell_type": "code",
      "execution_count": 5,
      "metadata": {
        "colab": {
          "base_uri": "https://localhost:8080/"
        },
        "id": "M_svFPc7DguG",
        "outputId": "c5af701b-a6d5-4e52-a34c-f7584bdb6fa0"
      },
      "outputs": [
        {
          "name": "stdout",
          "output_type": "stream",
          "text": [
            "{'name3': 'Aisha', 'name4': 'Tom'}\n"
          ]
        }
      ],
      "source": [
        "#1. Birden fazla değer silme\n",
        "family = {'name1': 'Joseph', \n",
        "          'name2': 'Bella',\n",
        "          'name3': 'Aisha',\n",
        "          'name4': 'Tom'\n",
        "         }\n",
        "del family['name1']\n",
        "del family['name2']\n",
        "print(family)"
      ]
    },
    {
      "cell_type": "code",
      "execution_count": 6,
      "metadata": {
        "colab": {
          "base_uri": "https://localhost:8080/"
        },
        "id": "WjxDj0qaDsru",
        "outputId": "d081c819-ee59-4b3b-9ea1-d2bf2d2f343c"
      },
      "outputs": [
        {
          "name": "stdout",
          "output_type": "stream",
          "text": [
            "{'name3': 'Aisha', 'name4': 'Tom'}\n"
          ]
        }
      ],
      "source": [
        "#2. Birden fazla değer silme\n",
        "family = {'name1': 'Joseph', \n",
        "          'name2': 'Bella',\n",
        "          'name3': 'Aisha',\n",
        "          'name4': 'Tom'\n",
        "         }\n",
        "del family['name1'], family['name2']\n",
        "print(family)"
      ]
    },
    {
      "cell_type": "code",
      "execution_count": 7,
      "metadata": {
        "colab": {
          "base_uri": "https://localhost:8080/",
          "height": 166
        },
        "id": "aHbTMaWHD7tm",
        "outputId": "8073bc1a-962e-48b9-a4be-b6bfb674262d"
      },
      "outputs": [
        {
          "ename": "KeyError",
          "evalue": "ignored",
          "output_type": "error",
          "traceback": [
            "\u001b[0;31m---------------------------------------------------------------------------\u001b[0m",
            "\u001b[0;31mKeyError\u001b[0m                                  Traceback (most recent call last)",
            "\u001b[0;32m<ipython-input-7-ad9c057ea164>\u001b[0m in \u001b[0;36m<module>\u001b[0;34m()\u001b[0m\n\u001b[0;32m----> 1\u001b[0;31m \u001b[0mprint\u001b[0m\u001b[0;34m(\u001b[0m\u001b[0mfamily\u001b[0m\u001b[0;34m.\u001b[0m\u001b[0mpop\u001b[0m\u001b[0;34m(\u001b[0m\u001b[0;34m'name1'\u001b[0m\u001b[0;34m)\u001b[0m\u001b[0;34m)\u001b[0m\u001b[0;34m\u001b[0m\u001b[0;34m\u001b[0m\u001b[0m\n\u001b[0m",
            "\u001b[0;31mKeyError\u001b[0m: 'name1'"
          ]
        }
      ],
      "source": [
        "print(family.pop('name1'))  ## olmayan (daha önce silinmiş) bir elemanı silmek istediğim"
      ]
    },
    {
      "cell_type": "code",
      "execution_count": 9,
      "metadata": {
        "colab": {
          "base_uri": "https://localhost:8080/"
        },
        "id": "HguANk6uENPT",
        "outputId": "43dfb69b-05f1-42d8-bf21-d79217cac73f"
      },
      "outputs": [
        {
          "name": "stdout",
          "output_type": "stream",
          "text": [
            "eleman yok\n"
          ]
        }
      ],
      "source": [
        "print(family.pop('name1', \"eleman yok\"))  ## olmayan (daha önce silinmiş) bir elemanı silmek istediğim"
      ]
    },
    {
      "cell_type": "code",
      "execution_count": 13,
      "metadata": {
        "colab": {
          "base_uri": "https://localhost:8080/"
        },
        "id": "EtikSuchE7bg",
        "outputId": "addda13e-3731-43c6-96fa-3137ed076d3a"
      },
      "outputs": [
        {
          "name": "stdout",
          "output_type": "stream",
          "text": [
            "{'name3': 'Aisha', 'name4': 'Tom'}\n"
          ]
        }
      ],
      "source": [
        "#3. Birden fazla değer silme\n",
        "family = {'name1': 'Joseph', \n",
        "          'name2': 'Bella',\n",
        "          'name3': 'Aisha',\n",
        "          'name4': 'Tom'\n",
        "         }\n",
        "list_family = list(family.items())\n",
        "del list_family[0:2] #dilimleme ile sil\n",
        "family = dict(list_family) ## tekrar sözlüğe dönş.\n",
        "print(family)"
      ]
    },
    {
      "cell_type": "code",
      "execution_count": 16,
      "metadata": {
        "colab": {
          "base_uri": "https://localhost:8080/"
        },
        "id": "rxWiOy48GAgc",
        "outputId": "c1c15ba7-0d63-4b83-c8d2-488d0bb7f25c"
      },
      "outputs": [
        {
          "name": "stdout",
          "output_type": "stream",
          "text": [
            "Joseph\n",
            "{'name2': 'Bella', 'name3': 'Aisha', 'name4': 'Tom'}\n"
          ]
        }
      ],
      "source": [
        "#Birden fazla değer silme: pop yan yana kullanılmıyor\n",
        "family = {'name1': 'Joseph', \n",
        "          'name2': 'Bella',\n",
        "          'name3': 'Aisha',\n",
        "          'name4': 'Tom'\n",
        "         }\n",
        "print(family.pop('name1', 'name2')) ##name2: default mesaj olarak algılıyor...\n",
        "print(family)"
      ]
    },
    {
      "cell_type": "code",
      "execution_count": 19,
      "metadata": {
        "colab": {
          "base_uri": "https://localhost:8080/"
        },
        "id": "p8q5xG9EGc9A",
        "outputId": "dd0b603b-d381-4d07-b922-f4db31c4c1b3"
      },
      "outputs": [
        {
          "name": "stdout",
          "output_type": "stream",
          "text": [
            "Deleted..: ('name4', 'Tom')\n",
            "{'name1': 'Joseph', 'name2': 'Bella', 'name3': 'Aisha'}\n",
            "Deleted..: ('name3', 'Aisha')\n",
            "{'name1': 'Joseph', 'name2': 'Bella'}\n"
          ]
        }
      ],
      "source": [
        "#silme: popitem\n",
        "family = {'name1': 'Joseph', \n",
        "          'name2': 'Bella',\n",
        "          'name3': 'Aisha',\n",
        "          'name4': 'Tom'\n",
        "         }\n",
        "print(\"Deleted..:\",family.popitem())\n",
        "print(family)\n",
        "print(\"Deleted..:\",family.popitem())\n",
        "print(family)"
      ]
    },
    {
      "cell_type": "code",
      "execution_count": 34,
      "metadata": {
        "colab": {
          "base_uri": "https://localhost:8080/"
        },
        "id": "T2eWNYOiGwpo",
        "outputId": "296bb16d-e120-4b0e-f0f7-a12b6486f819"
      },
      "outputs": [
        {
          "name": "stdout",
          "output_type": "stream",
          "text": [
            "{'foo': 100, 'bar': 200, 'baz': 300}\n",
            "{'foo': 100, 'bar': 200, 'baz': 300}\n",
            "{'foo': 100, 'bar': 200, 'baz': 300}\n",
            "{'foo': 100, 'bar': 200, 'baz': 300}\n",
            "True\n",
            "139642672428848\n",
            "139642672428848\n"
          ]
        }
      ],
      "source": [
        "## Dict kopyalama\n",
        "d1 = {'foo':100, 'bar':200, 'baz':300}\n",
        "d2 = d1.copy()\n",
        "print(d2)\n",
        "\n",
        "d3={} ## boş\n",
        "d3.update(d1)\n",
        "print(d3)\n",
        "\n",
        "d4 = dict(d1)\n",
        "print(d4)\n",
        "\n",
        "d5 = d1 ##? tavsiye edilmiyor\n",
        "print(d5)\n",
        "\n",
        "print(d1==d2==d3==d4==d5)\n",
        "print(id(d1))\n",
        "print(id(d5))"
      ]
    },
    {
      "cell_type": "code",
      "execution_count": 32,
      "metadata": {
        "colab": {
          "base_uri": "https://localhost:8080/"
        },
        "id": "v7jOV0AfIO8m",
        "outputId": "848bc056-585d-48c2-d99a-433eb2b752fc"
      },
      "outputs": [
        {
          "name": "stdout",
          "output_type": "stream",
          "text": [
            "11256192\n"
          ]
        }
      ],
      "source": [
        "a1 = 5\n",
        "a2 = a1\n",
        "print(id(a1)) ##immutable(hashable)"
      ]
    },
    {
      "cell_type": "code",
      "execution_count": 39,
      "metadata": {
        "colab": {
          "base_uri": "https://localhost:8080/"
        },
        "id": "96z9vHfQJPBN",
        "outputId": "dd26909b-7c63-4284-8ceb-8eaf3f089559"
      },
      "outputs": [
        {
          "name": "stdout",
          "output_type": "stream",
          "text": [
            "16\n",
            "{'coding': 80, 'math': 89}\n",
            "89\n",
            "[('coding', 80), ('math', 89)]\n"
          ]
        }
      ],
      "source": [
        "## nested dicts\n",
        "school_records={\n",
        "\t'personal_info':\n",
        "\t\t{'kid':{'tom':{'class':'intermediate', 'age':10},\n",
        "\t\t\t'sue':{'class':'elemantary', 'age':8}\n",
        "\t\t\t},\n",
        "\t\t'teen':{'joseph':{'class':'college', 'age':19},\n",
        "\t\t\t'marry':{'class':'high school', 'age':16}\n",
        "\t\t\t},\n",
        "\t\t},\n",
        "\t'grades_info':\n",
        "\t\t{'kid':{'tom':{'math':88, 'speech':69},\n",
        "\t\t\t'sue':{'math':90, 'speech':81}\n",
        "\t\t\t},\n",
        "\t\t'teen':{'joseph':{'coding':80, 'math':89},\n",
        "\t\t\t'marry':{'coding':70, 'math':96}\n",
        "\t\t\t},\n",
        "\t\t}\n",
        "}\n",
        "print(school_records['personal_info']['teen']['marry']['age'])\n",
        "print(school_records['grades_info']['teen'] ['joseph'])  ## joseph'in tüm notlarını verdi\n",
        "print(school_records['grades_info']['teen'] ['joseph']['math'])  ## math notunu\n",
        "print(list(school_records['grades_info']['teen'] ['joseph'].items())) ## liste form"
      ]
    },
    {
      "cell_type": "code",
      "execution_count": 40,
      "metadata": {
        "colab": {
          "base_uri": "https://localhost:8080/"
        },
        "id": "UsPAD30NO6at",
        "outputId": "1fbcb4c5-3f3e-4356-b95f-7b03d58cbcf1"
      },
      "outputs": [
        {
          "name": "stdout",
          "output_type": "stream",
          "text": [
            "{'friend1': {'first': 'Sue', 'last': 'Bold'}, 'friend2': {'first': 'Steve', 'last': 'Jobs'}, 'friend3': {'first': 'Sergio', 'last': 'Ramose'}}\n"
          ]
        }
      ],
      "source": [
        "friends = {\n",
        "    'friend1': {'first':'Sue', 'last':'Bold'},\n",
        "    'friend2': {'first':'Steve', 'last':'Jobs'},\n",
        "    'friend3': {'first':'Sergio', 'last':'Ramose'},\n",
        "}\n",
        "print(friends)"
      ]
    },
    {
      "cell_type": "code",
      "execution_count": 45,
      "metadata": {
        "colab": {
          "base_uri": "https://localhost:8080/"
        },
        "id": "m_K0Y9XwP5E1",
        "outputId": "ff2a1160-d653-4ad9-b01b-e0ab84094ca0"
      },
      "outputs": [
        {
          "name": "stdout",
          "output_type": "stream",
          "text": [
            "{'friends': {'friend1': {'first': 'Sue', 'last': 'Bold'}, 'friend2': {'first': 'Steve', 'last': 'Jobs'}, 'friend3': {'first': 'Sergio', 'last': 'Ramose'}}, 'family': {'family1': {'first': 'Salih', 'last': 'Boru'}, 'family2': {'first': 'Steve', 'last': 'Tatoo'}, 'family3': {'first': 'Sergio', 'last': 'Ramose'}}}\n",
            "{'first': 'Sergio', 'last': 'Ramose'}\n",
            "{'friends': {'friend1': {'first': 'Sue', 'last': 'Bold'}, 'friend2': {'first': 'Steve', 'last': 'Jobs'}, 'friend3': {'first': 'Sergio', 'last': 'Ramose'}}, 'family': {'family1': {'first': 'Salih', 'last': 'Boru'}, 'family2': {'first': 'Steve', 'last': 'Tatoo'}}}\n"
          ]
        }
      ],
      "source": [
        "favourite = {\n",
        "'friends' : {\n",
        "    'friend1': {'first':'Sue', 'last':'Bold'},\n",
        "    'friend2': {'first':'Steve', 'last':'Jobs'},\n",
        "    'friend3': {'first':'Sergio', 'last':'Ramose'}\n",
        "},\n",
        "'family': {\n",
        "    'family1': {'first':'Salih', 'last':'Boru'},\n",
        "    'family2': {'first':'Steve', 'last':'Tatoo'},\n",
        "    'family3': {'first':'Sergio', 'last':'Ramose'}\n",
        "}\n",
        "}\n",
        "\n",
        "print(favourite)\n",
        "## family3' ü silmek istiyorum\n",
        "del_family = favourite['family'].pop('family3')\n",
        "print(del_family)\n",
        "print(favourite)"
      ]
    },
    {
      "cell_type": "code",
      "execution_count": 50,
      "metadata": {
        "colab": {
          "base_uri": "https://localhost:8080/"
        },
        "id": "q7uZZxdURhq0",
        "outputId": "d3e323ef-fcad-4024-8ae4-8774b73e160f"
      },
      "outputs": [
        {
          "name": "stdout",
          "output_type": "stream",
          "text": [
            "{1: 'bir', 2: 'iki', 3: 'üç'}\n"
          ]
        }
      ],
      "source": [
        "#zip() metodu ile iki listeyi birleştirip, sözlüğe dönüştürme\n",
        "x = [1, 2, 3]\n",
        "y = ['bir', 'iki', 'üç']\n",
        "print(dict(zip(x, y)))"
      ]
    },
    {
      "cell_type": "code",
      "execution_count": 51,
      "metadata": {
        "colab": {
          "base_uri": "https://localhost:8080/",
          "height": 201
        },
        "id": "UU1ArJEcT9qD",
        "outputId": "9926b7ea-b606-4d12-fac8-f96366b26968"
      },
      "outputs": [
        {
          "ename": "KeyError",
          "evalue": "ignored",
          "output_type": "error",
          "traceback": [
            "\u001b[0;31m---------------------------------------------------------------------------\u001b[0m",
            "\u001b[0;31mKeyError\u001b[0m                                  Traceback (most recent call last)",
            "\u001b[0;32m<ipython-input-51-875abbe13388>\u001b[0m in \u001b[0;36m<module>\u001b[0;34m()\u001b[0m\n\u001b[1;32m      1\u001b[0m \u001b[0;31m# Value datası girilen veriyi nasıl sileriz?\u001b[0m\u001b[0;34m\u001b[0m\u001b[0;34m\u001b[0m\u001b[0;34m\u001b[0m\u001b[0m\n\u001b[1;32m      2\u001b[0m \u001b[0msozluk\u001b[0m \u001b[0;34m=\u001b[0m \u001b[0;34m{\u001b[0m\u001b[0;36m1\u001b[0m\u001b[0;34m:\u001b[0m \u001b[0;34m'bir'\u001b[0m\u001b[0;34m,\u001b[0m \u001b[0;36m2\u001b[0m\u001b[0;34m:\u001b[0m \u001b[0;34m'iki'\u001b[0m\u001b[0;34m,\u001b[0m \u001b[0;36m3\u001b[0m\u001b[0;34m:\u001b[0m \u001b[0;34m'üç'\u001b[0m\u001b[0;34m}\u001b[0m\u001b[0;34m\u001b[0m\u001b[0;34m\u001b[0m\u001b[0m\n\u001b[0;32m----> 3\u001b[0;31m \u001b[0msozluk\u001b[0m\u001b[0;34m.\u001b[0m\u001b[0mpop\u001b[0m\u001b[0;34m(\u001b[0m\u001b[0;34m'iki'\u001b[0m\u001b[0;34m)\u001b[0m\u001b[0;34m\u001b[0m\u001b[0;34m\u001b[0m\u001b[0m\n\u001b[0m",
            "\u001b[0;31mKeyError\u001b[0m: 'iki'"
          ]
        }
      ],
      "source": [
        "# Value datası girilen veriyi nasıl sileriz?\n",
        "sozluk = {1: 'bir', 2: 'iki', 3: 'üç'}\n",
        "sozluk.pop('iki')"
      ]
    },
    {
      "cell_type": "code",
      "execution_count": 54,
      "metadata": {
        "colab": {
          "base_uri": "https://localhost:8080/"
        },
        "id": "EIixUbz3Uhm7",
        "outputId": "427532e1-9341-43ca-dc01-2b1d848782a9"
      },
      "outputs": [
        {
          "name": "stdout",
          "output_type": "stream",
          "text": [
            "silmek istediğiniz değer..:iki\n",
            "{1: 'bir', 3: 'üç'}\n"
          ]
        }
      ],
      "source": [
        "# Value datası girilen veriyi nasıl sileriz?\n",
        "sozluk = {1: 'bir', 2: 'iki', 3: 'üç'}\n",
        "silinen = input(\"silmek istediğiniz değer..:\")\n",
        "key_list = list(sozluk.keys())\n",
        "val_list = list(sozluk.values())\n",
        "indis = val_list.index(silinen) #silmek ist. verinin indisi\n",
        "sozluk.pop(key_list[indis])\n",
        "print(sozluk)"
      ]
    },
    {
      "cell_type": "code",
      "execution_count": 55,
      "metadata": {
        "colab": {
          "base_uri": "https://localhost:8080/"
        },
        "id": "ax834OUtXOvu",
        "outputId": "14d26ec1-f8ed-45af-f53f-5985600a7842"
      },
      "outputs": [
        {
          "name": "stdout",
          "output_type": "stream",
          "text": [
            "{'blue', 'red', 'yellow'}\n",
            "{'blue', 'red', 'yellow'}\n"
          ]
        }
      ],
      "source": [
        "set_1 = {'red', 'blue', 'yellow', 'red'}\n",
        "colors = 'red', 'blue', 'yellow', 'red'\n",
        "set_2 = set(colors)\n",
        "print(set_1)\n",
        "print(set_2)"
      ]
    },
    {
      "cell_type": "code",
      "execution_count": 57,
      "metadata": {
        "colab": {
          "base_uri": "https://localhost:8080/"
        },
        "id": "ut2rsNInXWE7",
        "outputId": "6bec6283-48e3-45cb-8e8f-0fb895acbedd"
      },
      "outputs": [
        {
          "name": "stdout",
          "output_type": "stream",
          "text": [
            "<class 'set'>\n",
            "<class 'tuple'>\n"
          ]
        }
      ],
      "source": [
        "print(type(set_1))\n",
        "print(type(colors))"
      ]
    },
    {
      "cell_type": "code",
      "execution_count": 58,
      "metadata": {
        "colab": {
          "base_uri": "https://localhost:8080/"
        },
        "id": "YFw6a0ulXh1N",
        "outputId": "78f0305f-c7fb-437f-a5b1-ce9787f2c4d8"
      },
      "outputs": [
        {
          "name": "stdout",
          "output_type": "stream",
          "text": [
            "<class 'dict'>\n"
          ]
        }
      ],
      "source": [
        "#boş bir küme\n",
        "set_1 = {}  # boş bir sözlük oluşturur\n",
        "print(type(set_1))"
      ]
    },
    {
      "cell_type": "code",
      "execution_count": 59,
      "metadata": {
        "colab": {
          "base_uri": "https://localhost:8080/"
        },
        "id": "xoHe6GseXuKb",
        "outputId": "7a12660f-915d-4388-b46b-ae415f4042b7"
      },
      "outputs": [
        {
          "name": "stdout",
          "output_type": "stream",
          "text": [
            "<class 'set'>\n"
          ]
        }
      ],
      "source": [
        "#boş bir küme\n",
        "set_1 = set()  # boş bir set oluşturur\n",
        "print(type(set_1))"
      ]
    },
    {
      "cell_type": "code",
      "execution_count": 60,
      "metadata": {
        "colab": {
          "base_uri": "https://localhost:8080/"
        },
        "id": "J_W8XUGNYnOr",
        "outputId": "331d750b-bc1a-4ade-9f76-9ea8290c46c6"
      },
      "outputs": [
        {
          "name": "stdout",
          "output_type": "stream",
          "text": [
            "{'violet', 'rose', 'carnation', 'orchid'}\n",
            "['violet', 'rose', 'carnation', 'orchid']\n"
          ]
        }
      ],
      "source": [
        "flower_list = ['rose', 'violet', 'carnation', 'rose', 'orchid', 'rose', 'orchid']\n",
        "flowerset = set(flower_list)\n",
        "flowerlist = list(flowerset)\n",
        "print(flowerset)\n",
        "print(flowerlist)"
      ]
    },
    {
      "cell_type": "code",
      "execution_count": 61,
      "metadata": {
        "colab": {
          "base_uri": "https://localhost:8080/"
        },
        "id": "UAQ0TnIXZIXu",
        "outputId": "987d279f-4a59-497c-e928-cd8bd42cdd87"
      },
      "outputs": [
        {
          "name": "stdout",
          "output_type": "stream",
          "text": [
            "{'violet', 'orchid', 'carnation', 'rose'}\n",
            "{'violet', 'rose', 'carnation', 'orchid'}\n"
          ]
        }
      ],
      "source": [
        "a = {'carnation', 'orchid', 'rose', 'violet'} \n",
        "b = {'rose', 'orchid', 'rose', 'violet', 'carnation'} \n",
        "print(a)\n",
        "print(b)"
      ]
    },
    {
      "cell_type": "code",
      "execution_count": 63,
      "metadata": {
        "colab": {
          "base_uri": "https://localhost:8080/"
        },
        "id": "esXiKT-ycy8s",
        "outputId": "0e2f8499-9c89-481d-b12d-4b52f8792261"
      },
      "outputs": [
        {
          "name": "stdout",
          "output_type": "stream",
          "text": [
            "{'d', 'h', 'a', 'i', 'p', 'l', 'e'}\n",
            "{'o', 'n', 'd', 'h', 'i', 'p', 'l'}\n"
          ]
        }
      ],
      "source": [
        "a = set('philadelphia')\n",
        "b = set('dolphin') \n",
        "print(a)\n",
        "print(b)"
      ]
    },
    {
      "cell_type": "code",
      "execution_count": 65,
      "metadata": {
        "colab": {
          "base_uri": "https://localhost:8080/"
        },
        "id": "DeQnaGCWdDDl",
        "outputId": "35fce593-ab88-4692-990a-366c145ce203"
      },
      "outputs": [
        {
          "name": "stdout",
          "output_type": "stream",
          "text": [
            "{'e', 'a'}\n",
            "{'e', 'a'}\n"
          ]
        }
      ],
      "source": [
        "print(a-b)\n",
        "print(a.difference(b))"
      ]
    },
    {
      "cell_type": "code",
      "execution_count": 66,
      "metadata": {
        "colab": {
          "base_uri": "https://localhost:8080/"
        },
        "id": "IKf3pUAbdNwo",
        "outputId": "49aa5f9d-42dd-483d-8109-4fc1ecd5e67e"
      },
      "outputs": [
        {
          "name": "stdout",
          "output_type": "stream",
          "text": [
            "{'o', 'n'}\n",
            "{'o', 'n'}\n"
          ]
        }
      ],
      "source": [
        "print(b-a)\n",
        "print(b.difference(a))"
      ]
    },
    {
      "cell_type": "code",
      "execution_count": 67,
      "metadata": {
        "colab": {
          "base_uri": "https://localhost:8080/"
        },
        "id": "NtCMHbZbdYJz",
        "outputId": "2a1952b4-549f-45c6-d562-90b9a61bc59a"
      },
      "outputs": [
        {
          "name": "stdout",
          "output_type": "stream",
          "text": [
            "{'o', 'n', 'd', 'h', 'a', 'i', 'p', 'l', 'e'}\n",
            "{'o', 'n', 'd', 'h', 'a', 'i', 'p', 'l', 'e'}\n"
          ]
        }
      ],
      "source": [
        "print(a|b)\n",
        "print(a.union(b))"
      ]
    },
    {
      "cell_type": "code",
      "execution_count": 68,
      "metadata": {
        "colab": {
          "base_uri": "https://localhost:8080/"
        },
        "id": "aWEJKVltdja9",
        "outputId": "3b437330-ec81-4fea-a2e3-ee67e84002b0"
      },
      "outputs": [
        {
          "name": "stdout",
          "output_type": "stream",
          "text": [
            "{'d', 'h', 'i', 'p', 'l'}\n",
            "{'d', 'h', 'i', 'p', 'l'}\n"
          ]
        }
      ],
      "source": [
        "print(a&b)\n",
        "print(a.intersection(b))"
      ]
    },
    {
      "cell_type": "code",
      "execution_count": 69,
      "metadata": {
        "colab": {
          "base_uri": "https://localhost:8080/"
        },
        "id": "FG8DC7lHeKWa",
        "outputId": "1bdcdc70-2341-4aa2-f53a-43293c221d73"
      },
      "outputs": [
        {
          "name": "stdout",
          "output_type": "stream",
          "text": [
            "{'06/14/2022'}\n",
            "{'/', '2', '0', '1', '4', '6'}\n"
          ]
        }
      ],
      "source": [
        "a = {\"06/14/2022\"}\n",
        "b = set(\"06/14/2022\")\n",
        "print(a)\n",
        "print(b)"
      ]
    },
    {
      "cell_type": "code",
      "execution_count": 70,
      "metadata": {
        "colab": {
          "base_uri": "https://localhost:8080/"
        },
        "id": "mNV3ZEcLelG7",
        "outputId": "d818e106-8350-4402-c499-388ff4e6a755"
      },
      "outputs": [
        {
          "name": "stdout",
          "output_type": "stream",
          "text": [
            "<class 'set'>\n",
            "<class 'set'>\n"
          ]
        }
      ],
      "source": [
        "print(type(a))\n",
        "print(type(b))"
      ]
    },
    {
      "cell_type": "code",
      "execution_count": 71,
      "metadata": {
        "colab": {
          "base_uri": "https://localhost:8080/"
        },
        "id": "sXDVie9Jeure",
        "outputId": "8771a5ab-83f3-4d3e-cb96-7c6cea884485"
      },
      "outputs": [
        {
          "name": "stdout",
          "output_type": "stream",
          "text": [
            "{'06/14/2022', '06/15/2022'}\n"
          ]
        }
      ],
      "source": [
        "a = {\"06/14/2022\", \"06/15/2022\", \"06/14/2022\"}\n",
        "print(a)"
      ]
    },
    {
      "cell_type": "code",
      "execution_count": 73,
      "metadata": {
        "colab": {
          "base_uri": "https://localhost:8080/"
        },
        "id": "6rveFFoNfVgh",
        "outputId": "d8875334-7d8a-4d85-bca6-b691311aecdf"
      },
      "outputs": [
        {
          "name": "stdout",
          "output_type": "stream",
          "text": [
            "{'a', 'h', 's'}\n",
            "{'a', 'h', 's'}\n"
          ]
        }
      ],
      "source": [
        "usa_capt = set('Washington')\n",
        "nz_capt = set('Wellington')\n",
        "print(usa_capt.difference(nz_capt))  #usa.. olup nz.. olmayan karakterler\n",
        "print(usa_capt - nz_capt)\n"
      ]
    },
    {
      "cell_type": "code",
      "execution_count": 74,
      "metadata": {
        "colab": {
          "base_uri": "https://localhost:8080/"
        },
        "id": "oEErSgnOgdLg",
        "outputId": "f62b6ace-3e19-4951-d254-a4542ea60495"
      },
      "outputs": [
        {
          "name": "stdout",
          "output_type": "stream",
          "text": [
            "{'o', 'n', 't', 'W', 'g', 'i'}\n",
            "{'o', 'n', 't', 'W', 'g', 'i'}\n"
          ]
        }
      ],
      "source": [
        "usa_capt = set('Washington')\n",
        "nz_capt = set('Wellington')\n",
        "print(usa_capt.intersection(nz_capt))  #usa.. ve nz.. olan karakterler\n",
        "print(usa_capt & nz_capt)"
      ]
    },
    {
      "cell_type": "code",
      "execution_count": 76,
      "metadata": {
        "colab": {
          "base_uri": "https://localhost:8080/"
        },
        "id": "VjKJQinrgsAw",
        "outputId": "e7a89d77-2f57-49e5-ba10-4a2d885008da"
      },
      "outputs": [
        {
          "name": "stdout",
          "output_type": "stream",
          "text": [
            "{'o', 'n', 's', 'h', 'l', 'W', 'a', 't', 'g', 'i', 'e'}\n",
            "{'o', 'n', 's', 'h', 'l', 'W', 'a', 't', 'g', 'i', 'e'}\n"
          ]
        }
      ],
      "source": [
        "usa_capt = set('Washington')\n",
        "nz_capt = set('Wellington')\n",
        "print(usa_capt.union(nz_capt))  #usa.. ve nz.. birleşimi\n",
        "print(usa_capt | nz_capt)"
      ]
    },
    {
      "cell_type": "code",
      "execution_count": 77,
      "metadata": {
        "colab": {
          "base_uri": "https://localhost:8080/"
        },
        "id": "BksDnG0jhA4W",
        "outputId": "bf108ffe-baa1-489d-d0a7-b65654155f49"
      },
      "outputs": [
        {
          "name": "stdout",
          "output_type": "stream",
          "text": [
            "{'o', 'n', 's', 'h', 'W', 'a', 't', 'g', 'i', 'y'}\n"
          ]
        }
      ],
      "source": [
        "usa_capt = set('Washington')\n",
        "usa_capt.add('y')\n",
        "print(usa_capt)"
      ]
    },
    {
      "cell_type": "code",
      "execution_count": 78,
      "metadata": {
        "colab": {
          "base_uri": "https://localhost:8080/"
        },
        "id": "9YBMiAT9hKAG",
        "outputId": "49d3ea3a-a4c5-4091-d913-75f988f95252"
      },
      "outputs": [
        {
          "name": "stdout",
          "output_type": "stream",
          "text": [
            "frozenset({'o', 'n', 's', 'h', 'W', 'a', 't', 'g', 'i'})\n"
          ]
        }
      ],
      "source": [
        "usa_capt = frozenset('Washington')\n",
        "print(usa_capt)"
      ]
    },
    {
      "cell_type": "code",
      "execution_count": 79,
      "metadata": {
        "colab": {
          "base_uri": "https://localhost:8080/",
          "height": 201
        },
        "id": "RrxY5uGZhRGo",
        "outputId": "e0d0a169-80ec-4e57-c5b7-964a1b4c375c"
      },
      "outputs": [
        {
          "ename": "AttributeError",
          "evalue": "ignored",
          "output_type": "error",
          "traceback": [
            "\u001b[0;31m---------------------------------------------------------------------------\u001b[0m",
            "\u001b[0;31mAttributeError\u001b[0m                            Traceback (most recent call last)",
            "\u001b[0;32m<ipython-input-79-5b5b2817d66d>\u001b[0m in \u001b[0;36m<module>\u001b[0;34m()\u001b[0m\n\u001b[1;32m      1\u001b[0m \u001b[0musa_capt\u001b[0m \u001b[0;34m=\u001b[0m \u001b[0mfrozenset\u001b[0m\u001b[0;34m(\u001b[0m\u001b[0;34m'Washington'\u001b[0m\u001b[0;34m)\u001b[0m\u001b[0;34m\u001b[0m\u001b[0;34m\u001b[0m\u001b[0m\n\u001b[0;32m----> 2\u001b[0;31m \u001b[0musa_capt\u001b[0m\u001b[0;34m.\u001b[0m\u001b[0madd\u001b[0m\u001b[0;34m(\u001b[0m\u001b[0;34m'y'\u001b[0m\u001b[0;34m)\u001b[0m\u001b[0;34m\u001b[0m\u001b[0;34m\u001b[0m\u001b[0m\n\u001b[0m\u001b[1;32m      3\u001b[0m \u001b[0mprint\u001b[0m\u001b[0;34m(\u001b[0m\u001b[0musa_capt\u001b[0m\u001b[0;34m)\u001b[0m\u001b[0;34m\u001b[0m\u001b[0;34m\u001b[0m\u001b[0m\n",
            "\u001b[0;31mAttributeError\u001b[0m: 'frozenset' object has no attribute 'add'"
          ]
        }
      ],
      "source": [
        "usa_capt = frozenset('Washington')  ##immutable özelliği\n",
        "usa_capt.add('y')\n",
        "print(usa_capt)"
      ]
    },
    {
      "cell_type": "code",
      "execution_count": 81,
      "metadata": {
        "colab": {
          "base_uri": "https://localhost:8080/",
          "height": 201
        },
        "id": "4m68tA_uhsvG",
        "outputId": "0def2a68-20d1-4525-bab2-d1d5f79bbb5c"
      },
      "outputs": [
        {
          "ename": "AttributeError",
          "evalue": "ignored",
          "output_type": "error",
          "traceback": [
            "\u001b[0;31m---------------------------------------------------------------------------\u001b[0m",
            "\u001b[0;31mAttributeError\u001b[0m                            Traceback (most recent call last)",
            "\u001b[0;32m<ipython-input-81-6dbc8657d270>\u001b[0m in \u001b[0;36m<module>\u001b[0;34m()\u001b[0m\n\u001b[1;32m      1\u001b[0m \u001b[0musa_capt\u001b[0m \u001b[0;34m=\u001b[0m \u001b[0mfrozenset\u001b[0m\u001b[0;34m(\u001b[0m\u001b[0;34m'Washington'\u001b[0m\u001b[0;34m)\u001b[0m  \u001b[0;31m##immutable özelliği\u001b[0m\u001b[0;34m\u001b[0m\u001b[0;34m\u001b[0m\u001b[0m\n\u001b[0;32m----> 2\u001b[0;31m \u001b[0musa_capt\u001b[0m\u001b[0;34m.\u001b[0m\u001b[0mclear\u001b[0m\u001b[0;34m(\u001b[0m\u001b[0;34m)\u001b[0m\u001b[0;34m\u001b[0m\u001b[0;34m\u001b[0m\u001b[0m\n\u001b[0m\u001b[1;32m      3\u001b[0m \u001b[0mprint\u001b[0m\u001b[0;34m(\u001b[0m\u001b[0musa_capt\u001b[0m\u001b[0;34m)\u001b[0m\u001b[0;34m\u001b[0m\u001b[0;34m\u001b[0m\u001b[0m\n",
            "\u001b[0;31mAttributeError\u001b[0m: 'frozenset' object has no attribute 'clear'"
          ]
        }
      ],
      "source": [
        "usa_capt = frozenset('Washington')  ##immutable özelliği\n",
        "usa_capt.clear()\n",
        "print(usa_capt)"
      ]
    },
    {
      "cell_type": "code",
      "execution_count": 85,
      "metadata": {
        "colab": {
          "base_uri": "https://localhost:8080/"
        },
        "id": "FrHoGtwRhiUj",
        "outputId": "d71d737b-261f-4036-9202-f79e00c19adb"
      },
      "outputs": [
        {
          "data": {
            "text/plain": [
              "['__and__',\n",
              " '__class__',\n",
              " '__contains__',\n",
              " '__delattr__',\n",
              " '__dir__',\n",
              " '__doc__',\n",
              " '__eq__',\n",
              " '__format__',\n",
              " '__ge__',\n",
              " '__getattribute__',\n",
              " '__gt__',\n",
              " '__hash__',\n",
              " '__iand__',\n",
              " '__init__',\n",
              " '__init_subclass__',\n",
              " '__ior__',\n",
              " '__isub__',\n",
              " '__iter__',\n",
              " '__ixor__',\n",
              " '__le__',\n",
              " '__len__',\n",
              " '__lt__',\n",
              " '__ne__',\n",
              " '__new__',\n",
              " '__or__',\n",
              " '__rand__',\n",
              " '__reduce__',\n",
              " '__reduce_ex__',\n",
              " '__repr__',\n",
              " '__ror__',\n",
              " '__rsub__',\n",
              " '__rxor__',\n",
              " '__setattr__',\n",
              " '__sizeof__',\n",
              " '__str__',\n",
              " '__sub__',\n",
              " '__subclasshook__',\n",
              " '__xor__',\n",
              " 'add',\n",
              " 'clear',\n",
              " 'copy',\n",
              " 'difference',\n",
              " 'difference_update',\n",
              " 'discard',\n",
              " 'intersection',\n",
              " 'intersection_update',\n",
              " 'isdisjoint',\n",
              " 'issubset',\n",
              " 'issuperset',\n",
              " 'pop',\n",
              " 'remove',\n",
              " 'symmetric_difference',\n",
              " 'symmetric_difference_update',\n",
              " 'union',\n",
              " 'update']"
            ]
          },
          "execution_count": 85,
          "metadata": {},
          "output_type": "execute_result"
        }
      ],
      "source": [
        "dir(set)"
      ]
    },
    {
      "cell_type": "code",
      "execution_count": 82,
      "metadata": {
        "colab": {
          "base_uri": "https://localhost:8080/",
          "height": 201
        },
        "id": "RvoBrbdGiX2o",
        "outputId": "314a234c-090d-4c6d-a638-99c06f9288ef"
      },
      "outputs": [
        {
          "ename": "TypeError",
          "evalue": "ignored",
          "output_type": "error",
          "traceback": [
            "\u001b[0;31m---------------------------------------------------------------------------\u001b[0m",
            "\u001b[0;31mTypeError\u001b[0m                                 Traceback (most recent call last)",
            "\u001b[0;32m<ipython-input-82-b93742a0ce7d>\u001b[0m in \u001b[0;36m<module>\u001b[0;34m()\u001b[0m\n\u001b[1;32m      1\u001b[0m \u001b[0mliste\u001b[0m \u001b[0;34m=\u001b[0m \u001b[0;34m[\u001b[0m\u001b[0;36m2\u001b[0m\u001b[0;34m,\u001b[0m\u001b[0;36m3\u001b[0m\u001b[0;34m,\u001b[0m\u001b[0;36m4\u001b[0m\u001b[0;34m,\u001b[0m\u001b[0;36m5\u001b[0m\u001b[0;34m,\u001b[0m\u001b[0;36m6\u001b[0m\u001b[0;34m]\u001b[0m\u001b[0;34m\u001b[0m\u001b[0;34m\u001b[0m\u001b[0m\n\u001b[0;32m----> 2\u001b[0;31m \u001b[0msozluk\u001b[0m \u001b[0;34m=\u001b[0m \u001b[0;34m{\u001b[0m\u001b[0mliste\u001b[0m\u001b[0;34m:\u001b[0m\u001b[0;34m\"mesaj\"\u001b[0m\u001b[0;34m}\u001b[0m\u001b[0;34m\u001b[0m\u001b[0;34m\u001b[0m\u001b[0m\n\u001b[0m\u001b[1;32m      3\u001b[0m \u001b[0mprint\u001b[0m\u001b[0;34m(\u001b[0m\u001b[0msozluk\u001b[0m\u001b[0;34m)\u001b[0m\u001b[0;34m\u001b[0m\u001b[0;34m\u001b[0m\u001b[0m\n",
            "\u001b[0;31mTypeError\u001b[0m: unhashable type: 'list'"
          ]
        }
      ],
      "source": [
        "liste = [2,3,4,5,6]\n",
        "sozluk = {liste:\"mesaj\"}  #mutable elemanlar key olamaz\n",
        "print(sozluk)"
      ]
    },
    {
      "cell_type": "code",
      "execution_count": 84,
      "metadata": {
        "colab": {
          "base_uri": "https://localhost:8080/"
        },
        "id": "NOiVjDsJjJk_",
        "outputId": "1ed2e1e2-ea46-4fba-f906-b37f59f44a76"
      },
      "outputs": [
        {
          "name": "stdout",
          "output_type": "stream",
          "text": [
            "{(2, 3, 4, 5, 6): 'mesaj'}\n"
          ]
        }
      ],
      "source": [
        "liste = [2,3,4,5,6]\n",
        "sozluk = {tuple(liste):\"mesaj\"}  #immutable elemanlar key olabilir\n",
        "print(sozluk)"
      ]
    },
    {
      "cell_type": "code",
      "execution_count": 83,
      "metadata": {
        "colab": {
          "base_uri": "https://localhost:8080/"
        },
        "id": "GE1AccSuiplw",
        "outputId": "57c485bb-e32d-4e65-e810-ff78234b6c13"
      },
      "outputs": [
        {
          "name": "stdout",
          "output_type": "stream",
          "text": [
            "{'mesaj': [2, 3, 4, 5, 6]}\n"
          ]
        }
      ],
      "source": [
        "liste = [2,3,4,5,6]\n",
        "sozluk = {\"mesaj\":liste}  #mutable elemanlar values olabilir\n",
        "print(sozluk)"
      ]
    },
    {
      "cell_type": "code",
      "execution_count": 86,
      "metadata": {
        "colab": {
          "base_uri": "https://localhost:8080/"
        },
        "id": "MQNo2CeXjkgc",
        "outputId": "157cb101-2fc8-45ee-ae54-07932111bb78"
      },
      "outputs": [
        {
          "name": "stdout",
          "output_type": "stream",
          "text": [
            "{'o', 'n', 's', 'W', 'a', 't', 'g', 'i'}\n"
          ]
        }
      ],
      "source": [
        "##Set: silme metotları\n",
        "usa_capt = set('Washington')\n",
        "usa_capt.remove('h')\n",
        "print(usa_capt)"
      ]
    },
    {
      "cell_type": "code",
      "execution_count": 88,
      "metadata": {
        "colab": {
          "base_uri": "https://localhost:8080/"
        },
        "id": "w5WTOimEj_Lg",
        "outputId": "e119eb74-c688-46cc-fdbb-40c4527b77a0"
      },
      "outputs": [
        {
          "name": "stdout",
          "output_type": "stream",
          "text": [
            "{'o', 'n', 's', 'h', 'W', 'a', 't', 'g', 'i'}\n",
            "{'n', 's', 'h', 'W', 'a', 't', 'g', 'i'}\n"
          ]
        }
      ],
      "source": [
        "usa_capt = set('Washington')\n",
        "print(usa_capt)\n",
        "usa_capt.pop()  ## ilk elemanı siler\n",
        "print(usa_capt)"
      ]
    },
    {
      "cell_type": "code",
      "execution_count": 91,
      "metadata": {
        "colab": {
          "base_uri": "https://localhost:8080/",
          "height": 218
        },
        "id": "U3v2vqpAkN88",
        "outputId": "5d3d901d-217e-4da2-fcc9-ee9277fdb4cf"
      },
      "outputs": [
        {
          "name": "stdout",
          "output_type": "stream",
          "text": [
            "{'o', 'n', 's', 'W', 'a', 't', 'g', 'i'}\n"
          ]
        },
        {
          "ename": "KeyError",
          "evalue": "ignored",
          "output_type": "error",
          "traceback": [
            "\u001b[0;31m---------------------------------------------------------------------------\u001b[0m",
            "\u001b[0;31mKeyError\u001b[0m                                  Traceback (most recent call last)",
            "\u001b[0;32m<ipython-input-91-c9be091e7f3a>\u001b[0m in \u001b[0;36m<module>\u001b[0;34m()\u001b[0m\n\u001b[1;32m      2\u001b[0m \u001b[0musa_capt\u001b[0m\u001b[0;34m.\u001b[0m\u001b[0mdiscard\u001b[0m\u001b[0;34m(\u001b[0m\u001b[0;34m'h'\u001b[0m\u001b[0;34m)\u001b[0m\u001b[0;34m\u001b[0m\u001b[0;34m\u001b[0m\u001b[0m\n\u001b[1;32m      3\u001b[0m \u001b[0mprint\u001b[0m\u001b[0;34m(\u001b[0m\u001b[0musa_capt\u001b[0m\u001b[0;34m)\u001b[0m\u001b[0;34m\u001b[0m\u001b[0;34m\u001b[0m\u001b[0m\n\u001b[0;32m----> 4\u001b[0;31m \u001b[0musa_capt\u001b[0m\u001b[0;34m.\u001b[0m\u001b[0mremove\u001b[0m\u001b[0;34m(\u001b[0m\u001b[0;34m'h'\u001b[0m\u001b[0;34m)\u001b[0m\u001b[0;34m\u001b[0m\u001b[0;34m\u001b[0m\u001b[0m\n\u001b[0m",
            "\u001b[0;31mKeyError\u001b[0m: 'h'"
          ]
        }
      ],
      "source": [
        "usa_capt = set('Washington')\n",
        "usa_capt.discard('h')\n",
        "print(usa_capt)\n",
        "usa_capt.remove('h')"
      ]
    },
    {
      "cell_type": "code",
      "execution_count": 92,
      "metadata": {
        "colab": {
          "base_uri": "https://localhost:8080/"
        },
        "id": "K3k4OAY5kdGw",
        "outputId": "b21ffb24-531c-4773-8f34-b5f91d9a89cd"
      },
      "outputs": [
        {
          "name": "stdout",
          "output_type": "stream",
          "text": [
            "{'o', 'n', 's', 'W', 'a', 't', 'g', 'i'}\n"
          ]
        }
      ],
      "source": [
        "usa_capt = set('Washington')\n",
        "usa_capt.discard('h')\n",
        "print(usa_capt)\n",
        "usa_capt.discard('h')  ## olmayan eleman silerken hata vermez"
      ]
    },
    {
      "cell_type": "code",
      "execution_count": 93,
      "metadata": {
        "colab": {
          "base_uri": "https://localhost:8080/"
        },
        "id": "cZobKviGkqTt",
        "outputId": "c8b48480-fd4a-42df-c8df-36c5f6bb90bc"
      },
      "outputs": [
        {
          "name": "stdout",
          "output_type": "stream",
          "text": [
            "True\n"
          ]
        }
      ],
      "source": [
        "usa_capt = set('Washington')\n",
        "b = {'h','i','n'}\n",
        "print(b.issubset(usa_capt)) ## b, usa_capt in bir alt kümesi mi\n"
      ]
    },
    {
      "cell_type": "code",
      "execution_count": 95,
      "metadata": {
        "colab": {
          "base_uri": "https://localhost:8080/"
        },
        "id": "5FzJR73jlF4I",
        "outputId": "80265d46-0aa0-4f76-d360-f8fbd3427532"
      },
      "outputs": [
        {
          "name": "stdout",
          "output_type": "stream",
          "text": [
            "{'o', 'n', 's', 'h', 'W', 'a', 't', 'g', 'i'}\n",
            "False\n"
          ]
        }
      ],
      "source": [
        "usa_capt = set('Washington')\n",
        "print(usa_capt)\n",
        "b = {'hin'}\n",
        "print(b.issubset(usa_capt)) ## b, usa_capt in bir alt kümesi mi"
      ]
    },
    {
      "cell_type": "code",
      "execution_count": 96,
      "metadata": {
        "colab": {
          "base_uri": "https://localhost:8080/"
        },
        "id": "4_YN_lu6lR4C",
        "outputId": "ba52c894-0ccd-4cc4-9af8-2edb5c1594c7"
      },
      "outputs": [
        {
          "name": "stdout",
          "output_type": "stream",
          "text": [
            "{'Washington'}\n",
            "False\n"
          ]
        }
      ],
      "source": [
        "usa_capt = {'Washington'}\n",
        "print(usa_capt)\n",
        "b = {'hin'}\n",
        "print(b.issubset(usa_capt)) ## b, usa_capt in bir alt kümesi mi"
      ]
    },
    {
      "cell_type": "code",
      "execution_count": 98,
      "metadata": {
        "colab": {
          "base_uri": "https://localhost:8080/"
        },
        "id": "7thbxELllbqF",
        "outputId": "847fa0ba-0eb7-4a54-d008-64436f7abf76"
      },
      "outputs": [
        {
          "name": "stdout",
          "output_type": "stream",
          "text": [
            "True\n"
          ]
        }
      ],
      "source": [
        "usa_capt = set('Washington')\n",
        "b = {'h','i','n'}\n",
        "print(usa_capt.issuperset(b)) ## usa_capt b nin bir üst kümesi mi (kapsar)"
      ]
    },
    {
      "cell_type": "code",
      "execution_count": 99,
      "metadata": {
        "colab": {
          "base_uri": "https://localhost:8080/",
          "height": 184
        },
        "id": "ZxB0A4zBpyVv",
        "outputId": "bcfb745f-5434-4d45-f8f3-2e79c130f9fe"
      },
      "outputs": [
        {
          "ename": "NameError",
          "evalue": "ignored",
          "output_type": "error",
          "traceback": [
            "\u001b[0;31m---------------------------------------------------------------------------\u001b[0m",
            "\u001b[0;31mNameError\u001b[0m                                 Traceback (most recent call last)",
            "\u001b[0;32m<ipython-input-99-6511cf4894a5>\u001b[0m in \u001b[0;36m<module>\u001b[0;34m()\u001b[0m\n\u001b[0;32m----> 1\u001b[0;31m \u001b[0mmy_dict\u001b[0m \u001b[0;34m=\u001b[0m \u001b[0;34m{\u001b[0m\u001b[0ma\u001b[0m\u001b[0;34m:\u001b[0m\u001b[0mapple\u001b[0m\u001b[0;34m,\u001b[0m \u001b[0mb\u001b[0m\u001b[0;34m:\u001b[0m\u001b[0mbanana\u001b[0m\u001b[0;34m}\u001b[0m\u001b[0;34m\u001b[0m\u001b[0;34m\u001b[0m\u001b[0m\n\u001b[0m\u001b[1;32m      2\u001b[0m \u001b[0mprint\u001b[0m\u001b[0;34m(\u001b[0m\u001b[0mtype\u001b[0m\u001b[0;34m(\u001b[0m\u001b[0mmy_dict\u001b[0m\u001b[0;34m)\u001b[0m\u001b[0;34m)\u001b[0m\u001b[0;34m\u001b[0m\u001b[0;34m\u001b[0m\u001b[0m\n",
            "\u001b[0;31mNameError\u001b[0m: name 'apple' is not defined"
          ]
        }
      ],
      "source": [
        "my_dict = {a:apple, b:banana}\n",
        "print(type(my_dict))"
      ]
    },
    {
      "cell_type": "code",
      "execution_count": 101,
      "metadata": {
        "colab": {
          "base_uri": "https://localhost:8080/"
        },
        "id": "aPKUIYA1qEC6",
        "outputId": "fa946e4e-ad09-4f67-c29f-2acddbb02c61"
      },
      "outputs": [
        {
          "name": "stdout",
          "output_type": "stream",
          "text": [
            "<class 'dict'>\n"
          ]
        }
      ],
      "source": [
        "my_dict = {'a':'apple', 'b':'banana'}\n",
        "print(type(my_dict))"
      ]
    },
    {
      "cell_type": "code",
      "execution_count": 102,
      "metadata": {
        "colab": {
          "base_uri": "https://localhost:8080/"
        },
        "id": "2PmGyn2Zrz8z",
        "outputId": "4f4c5c8e-6986-4da5-d22a-af5c519b389f"
      },
      "outputs": [
        {
          "name": "stdout",
          "output_type": "stream",
          "text": [
            "139642528750640\n",
            "139642528739728\n",
            "139642528748080\n",
            "139642528740128\n"
          ]
        }
      ],
      "source": [
        "d1 = {'a':'apple', 'b':'banana'}\n",
        "d2 = dict(d1.items())\n",
        "d3 = d1.copy()\n",
        "d4 = dict(d1)\n",
        "\n",
        "print(id(d1))\n",
        "print(id(d2))\n",
        "print(id(d3))\n",
        "print(id(d4))"
      ]
    },
    {
      "cell_type": "code",
      "execution_count": 2,
      "metadata": {},
      "outputs": [
        {
          "name": "stdout",
          "output_type": "stream",
          "text": [
            "{'foo': 100, 'bar': 200, 'baz': 300}\n"
          ]
        }
      ],
      "source": [
        "d = {}\n",
        "d['foo'] = 100\n",
        "d['bar'] = 200\n",
        "d['baz'] = 300\n",
        "\n",
        "print(d)"
      ]
    },
    {
      "cell_type": "code",
      "execution_count": null,
      "metadata": {},
      "outputs": [],
      "source": []
    }
  ],
  "metadata": {
    "colab": {
      "name": "colab_notebook_9.ipynb",
      "provenance": []
    },
    "interpreter": {
      "hash": "aee8b7b246df8f9039afb4144a1f6fd8d2ca17a180786b69acc140d282b71a49"
    },
    "kernelspec": {
      "display_name": "Python 3.10.4 64-bit",
      "language": "python",
      "name": "python3"
    },
    "language_info": {
      "codemirror_mode": {
        "name": "ipython",
        "version": 3
      },
      "file_extension": ".py",
      "mimetype": "text/x-python",
      "name": "python",
      "nbconvert_exporter": "python",
      "pygments_lexer": "ipython3",
      "version": "3.10.4"
    }
  },
  "nbformat": 4,
  "nbformat_minor": 0
}
