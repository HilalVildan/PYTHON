{
  "nbformat": 4,
  "nbformat_minor": 0,
  "metadata": {
    "colab": {
      "name": "colab_notebook_5.ipynb",
      "provenance": []
    },
    "kernelspec": {
      "name": "python3",
      "display_name": "Python 3"
    },
    "language_info": {
      "name": "python"
    }
  },
  "cells": [
    {
      "cell_type": "markdown",
      "source": [
        "<p align=\"center\">\n",
        "<img src=\"https://docs.google.com/uc?id=14xeXxFrVRjvOoUYWn_GuyE-v84wVzrqr\" class=\"img-fluid\" alt=\"CLRWY\" width=\"600\" height=\"120\" >\n",
        "<h1> Python Basics Session 5: String Methods, 02 June 2022 <h1>\n",
        "</p\n"
      ],
      "metadata": {
        "id": "dgAKFUpLFQv8"
      }
    },
    {
      "cell_type": "code",
      "source": [
        "## Basit hesap makinesi\n",
        "num1 = input(\"number 1..:\")  ## num1 string\n",
        "num2 = input(\"number 2..:\")  ## num2 string\n",
        "op = input(\"İşlem..:\")  ## String değer\n",
        "sonuc = num1 + op + num2  ##sonuc değişkeni stringi\n",
        "print(type(sonuc)) # sonuc değişkeni tipini verir\n",
        "print(\"Sonuç..:\",eval(sonuc))"
      ],
      "metadata": {
        "colab": {
          "base_uri": "https://localhost:8080/"
        },
        "id": "sLFBLNEAHmFR",
        "outputId": "41266cb9-8f94-4b43-b060-a58a83f20ef3"
      },
      "execution_count": 7,
      "outputs": [
        {
          "output_type": "stream",
          "name": "stdout",
          "text": [
            "number 1..:6\n",
            "number 2..:5\n",
            "İşlem..:*\n",
            "<class 'str'>\n",
            "Sonuç..: 30\n"
          ]
        }
      ]
    },
    {
      "cell_type": "code",
      "source": [
        "a = int(input(\"sayi..:\"))\n",
        "b = b + a\n",
        "print(b)"
      ],
      "metadata": {
        "colab": {
          "base_uri": "https://localhost:8080/",
          "height": 218
        },
        "id": "QP3UXn9OO09x",
        "outputId": "92a4cb1d-4425-4706-9001-5f1387ed92b2"
      },
      "execution_count": 9,
      "outputs": [
        {
          "name": "stdout",
          "output_type": "stream",
          "text": [
            "sayi..:5\n"
          ]
        },
        {
          "output_type": "error",
          "ename": "NameError",
          "evalue": "ignored",
          "traceback": [
            "\u001b[0;31m---------------------------------------------------------------------------\u001b[0m",
            "\u001b[0;31mNameError\u001b[0m                                 Traceback (most recent call last)",
            "\u001b[0;32m<ipython-input-9-e28796034468>\u001b[0m in \u001b[0;36m<module>\u001b[0;34m()\u001b[0m\n\u001b[1;32m      1\u001b[0m \u001b[0ma\u001b[0m \u001b[0;34m=\u001b[0m \u001b[0mint\u001b[0m\u001b[0;34m(\u001b[0m\u001b[0minput\u001b[0m\u001b[0;34m(\u001b[0m\u001b[0;34m\"sayi..:\"\u001b[0m\u001b[0;34m)\u001b[0m\u001b[0;34m)\u001b[0m\u001b[0;34m\u001b[0m\u001b[0;34m\u001b[0m\u001b[0m\n\u001b[0;32m----> 2\u001b[0;31m \u001b[0mb\u001b[0m \u001b[0;34m=\u001b[0m \u001b[0mb\u001b[0m \u001b[0;34m+\u001b[0m \u001b[0ma\u001b[0m\u001b[0;34m\u001b[0m\u001b[0;34m\u001b[0m\u001b[0m\n\u001b[0m\u001b[1;32m      3\u001b[0m \u001b[0mprint\u001b[0m\u001b[0;34m(\u001b[0m\u001b[0mb\u001b[0m\u001b[0;34m)\u001b[0m\u001b[0;34m\u001b[0m\u001b[0;34m\u001b[0m\u001b[0m\n",
            "\u001b[0;31mNameError\u001b[0m: name 'b' is not defined"
          ]
        }
      ]
    },
    {
      "cell_type": "code",
      "source": [
        "a = int(input(\"sayi1..:\"))\n",
        "b = eval(input(\"sayi2..:\"))\n",
        "sonuc = b+a\n",
        "print(sonuc)"
      ],
      "metadata": {
        "colab": {
          "base_uri": "https://localhost:8080/"
        },
        "id": "8mWAo1iAPPkl",
        "outputId": "4e6d3653-4f62-472a-b6a0-30e8f40d52d7"
      },
      "execution_count": 11,
      "outputs": [
        {
          "output_type": "stream",
          "name": "stdout",
          "text": [
            "sayi1..:5\n",
            "sayi2..:7.8\n",
            "12.8\n"
          ]
        }
      ]
    },
    {
      "cell_type": "code",
      "execution_count": 12,
      "metadata": {
        "colab": {
          "base_uri": "https://localhost:8080/"
        },
        "id": "iEI8PlmaFL2-",
        "outputId": "090c83bc-f391-4b63-ca7b-9a3732104f0e"
      },
      "outputs": [
        {
          "output_type": "execute_result",
          "data": {
            "text/plain": [
              "2"
            ]
          },
          "metadata": {},
          "execution_count": 12
        }
      ],
      "source": [
        "## min fonksiyonu işlevi\n",
        "min(3,5,6,7,2)"
      ]
    },
    {
      "cell_type": "code",
      "source": [
        "min(\"aliveliA\")  ## ASCII tablo eşdeğerine bakarak en küçüğü verir"
      ],
      "metadata": {
        "colab": {
          "base_uri": "https://localhost:8080/",
          "height": 35
        },
        "id": "NbP9dX0SPuNh",
        "outputId": "b4603f09-afe3-41aa-a07f-5367bbac7d2a"
      },
      "execution_count": 14,
      "outputs": [
        {
          "output_type": "execute_result",
          "data": {
            "text/plain": [
              "'A'"
            ],
            "application/vnd.google.colaboratory.intrinsic+json": {
              "type": "string"
            }
          },
          "metadata": {},
          "execution_count": 14
        }
      ]
    },
    {
      "cell_type": "code",
      "source": [
        "max(\"bülend\")"
      ],
      "metadata": {
        "colab": {
          "base_uri": "https://localhost:8080/",
          "height": 35
        },
        "id": "xUjfww8VF055",
        "outputId": "f3745b43-2244-42db-ecd4-1ac4b83d193c"
      },
      "execution_count": 15,
      "outputs": [
        {
          "output_type": "execute_result",
          "data": {
            "text/plain": [
              "'ü'"
            ],
            "application/vnd.google.colaboratory.intrinsic+json": {
              "type": "string"
            }
          },
          "metadata": {},
          "execution_count": 15
        }
      ]
    },
    {
      "cell_type": "code",
      "source": [
        "##max fonksiyonu işlevi\n",
        "max(3,5,6,7,2)"
      ],
      "metadata": {
        "colab": {
          "base_uri": "https://localhost:8080/"
        },
        "id": "MC9Ik_GfFsNa",
        "outputId": "d0e4c56c-2866-43e0-b542-9ccfe54df4a8"
      },
      "execution_count": 16,
      "outputs": [
        {
          "output_type": "execute_result",
          "data": {
            "text/plain": [
              "7"
            ]
          },
          "metadata": {},
          "execution_count": 16
        }
      ]
    },
    {
      "cell_type": "code",
      "source": [
        "## 3 sayı girilecek, en büyüğünü bulan program...\n",
        "num1 = int(input(\"number1..:\"))\n",
        "num2 = int(input(\"number2..:\"))\n",
        "num3 = int(input(\"number3..:\"))\n",
        "max_number = max(num1,num2,num3)\n",
        "#max_number = (max(max(num1,num2),num3)) ##ikili karşılaştırma\n",
        "print(max_number)"
      ],
      "metadata": {
        "colab": {
          "base_uri": "https://localhost:8080/"
        },
        "id": "VUl7mQRiP-Og",
        "outputId": "c424272f-b46a-4ec2-9598-39e5692f21ee"
      },
      "execution_count": 17,
      "outputs": [
        {
          "output_type": "stream",
          "name": "stdout",
          "text": [
            "number1..:56\n",
            "number2..:78\n",
            "number3..:23\n",
            "78\n"
          ]
        }
      ]
    },
    {
      "cell_type": "code",
      "source": [
        "numbers = [34,56,78,23,89,90] #liste\n",
        "print(max(numbers))"
      ],
      "metadata": {
        "colab": {
          "base_uri": "https://localhost:8080/"
        },
        "id": "MT-lO__MQ3cv",
        "outputId": "068e835f-2695-47e5-fd05-fe44628bd974"
      },
      "execution_count": 18,
      "outputs": [
        {
          "output_type": "stream",
          "name": "stdout",
          "text": [
            "90\n"
          ]
        }
      ]
    },
    {
      "cell_type": "code",
      "source": [
        "## üs alma : pow\n",
        "## mutlak değer : abs\n",
        "print(abs(-3))"
      ],
      "metadata": {
        "colab": {
          "base_uri": "https://localhost:8080/"
        },
        "id": "F2gFDmu4ROB6",
        "outputId": "2eb7e30a-7b83-4aca-eff0-24089d22bb86"
      },
      "execution_count": 19,
      "outputs": [
        {
          "output_type": "stream",
          "name": "stdout",
          "text": [
            "3\n"
          ]
        }
      ]
    },
    {
      "cell_type": "code",
      "source": [
        "3**2"
      ],
      "metadata": {
        "colab": {
          "base_uri": "https://localhost:8080/"
        },
        "id": "qGtcGIRnRaOx",
        "outputId": "3d01c888-1aab-4499-9510-dfed6fef1656"
      },
      "execution_count": 20,
      "outputs": [
        {
          "output_type": "execute_result",
          "data": {
            "text/plain": [
              "9"
            ]
          },
          "metadata": {},
          "execution_count": 20
        }
      ]
    },
    {
      "cell_type": "code",
      "source": [
        "pow(3,2)"
      ],
      "metadata": {
        "colab": {
          "base_uri": "https://localhost:8080/"
        },
        "id": "iY-2DdNARcpr",
        "outputId": "71a56597-3750-4bbd-9779-740933f64298"
      },
      "execution_count": 21,
      "outputs": [
        {
          "output_type": "execute_result",
          "data": {
            "text/plain": [
              "9"
            ]
          },
          "metadata": {},
          "execution_count": 21
        }
      ]
    },
    {
      "cell_type": "code",
      "source": [
        "var_str = \"ClarusWay\"\n",
        "print(var_str.lower())  ##.metot()==fonksiyon()\n",
        "print(var_str)"
      ],
      "metadata": {
        "colab": {
          "base_uri": "https://localhost:8080/"
        },
        "id": "2LXTXyrITpZz",
        "outputId": "e8a21e62-ff63-4520-89a6-650d2f0f0e78"
      },
      "execution_count": 22,
      "outputs": [
        {
          "output_type": "stream",
          "name": "stdout",
          "text": [
            "clarusway\n",
            "ClarusWay\n"
          ]
        }
      ]
    },
    {
      "cell_type": "code",
      "source": [
        "var_str = \"ClarusWay\"\n",
        "print(var_str.lower())  ##.metot()==fonksiyon()\n",
        "print(var_str)\n",
        "var_str = var_str.lower()  ##stringin tamamını küçük harfe dönüştürür\n",
        "print(var_str)"
      ],
      "metadata": {
        "colab": {
          "base_uri": "https://localhost:8080/"
        },
        "id": "6cGfHtlFUJcc",
        "outputId": "e081f837-b2fc-4807-e486-3fd5fe6d82a2"
      },
      "execution_count": 23,
      "outputs": [
        {
          "output_type": "stream",
          "name": "stdout",
          "text": [
            "clarusway\n",
            "ClarusWay\n",
            "clarusway\n"
          ]
        }
      ]
    },
    {
      "cell_type": "code",
      "source": [
        "var_str = \"In God we Trust\"\n",
        "var_str.lower()  ##jupyter,colab notebook >>>..... (print ile eşdeğer)\n",
        "print(var_str)"
      ],
      "metadata": {
        "colab": {
          "base_uri": "https://localhost:8080/"
        },
        "id": "IZcsq3yjUun5",
        "outputId": "62ec73e7-09ef-4dfb-b3fb-dc2a7bf87fb4"
      },
      "execution_count": 25,
      "outputs": [
        {
          "output_type": "stream",
          "name": "stdout",
          "text": [
            "In God we Trust\n"
          ]
        }
      ]
    },
    {
      "cell_type": "code",
      "source": [
        "var_str = \"In God we Trust\"\n",
        "var_str = var_str.lower()  ##değişikliği kalıcı hale getirdi...\n",
        "print(var_str)"
      ],
      "metadata": {
        "colab": {
          "base_uri": "https://localhost:8080/"
        },
        "id": "EPOgYHBpVFOH",
        "outputId": "e6c7413c-3dca-4bc6-be2d-dd931b5bbf2a"
      },
      "execution_count": 26,
      "outputs": [
        {
          "output_type": "stream",
          "name": "stdout",
          "text": [
            "in god we trust\n"
          ]
        }
      ]
    },
    {
      "cell_type": "code",
      "source": [
        "## geçerli bir e-mail ??\n",
        "#in ya da not in operatörleri kullanılabilir.\n",
        "email = \"bulent@clarusway.com\"\n",
        "print (\"@\" in email)"
      ],
      "metadata": {
        "colab": {
          "base_uri": "https://localhost:8080/"
        },
        "id": "7Dx3vrbtVa1b",
        "outputId": "6a6bcc87-1d02-4da4-e0a7-a60de51d78c2"
      },
      "execution_count": 27,
      "outputs": [
        {
          "output_type": "stream",
          "name": "stdout",
          "text": [
            "True\n"
          ]
        }
      ]
    },
    {
      "cell_type": "code",
      "source": [
        "email = \"bulent@claruswaycom\"\n",
        "print (\"@\" in email)"
      ],
      "metadata": {
        "colab": {
          "base_uri": "https://localhost:8080/"
        },
        "id": "6Vpf1R6HV1z-",
        "outputId": "f7b4e7fa-855b-4d4f-f1cc-7ba342424a63"
      },
      "execution_count": 28,
      "outputs": [
        {
          "output_type": "stream",
          "name": "stdout",
          "text": [
            "True\n"
          ]
        }
      ]
    },
    {
      "cell_type": "code",
      "source": [
        "email = \"bulent@claruswaycom\"\n",
        "print (\"@\" in email and \".\" in email)"
      ],
      "metadata": {
        "colab": {
          "base_uri": "https://localhost:8080/"
        },
        "id": "o7Ux7YfwV4wk",
        "outputId": "ba6cddff-601f-49d3-f99e-5a2a9c630517"
      },
      "execution_count": 29,
      "outputs": [
        {
          "output_type": "stream",
          "name": "stdout",
          "text": [
            "False\n"
          ]
        }
      ]
    },
    {
      "cell_type": "code",
      "source": [
        "email = \"bulent@clarusway.com\"\n",
        "print (\"@\" in email and \".\" in email)"
      ],
      "metadata": {
        "colab": {
          "base_uri": "https://localhost:8080/"
        },
        "id": "nHF0OE5uWC0S",
        "outputId": "9b2626bf-0826-44de-86e7-88ee94c6ced9"
      },
      "execution_count": 30,
      "outputs": [
        {
          "output_type": "stream",
          "name": "stdout",
          "text": [
            "True\n"
          ]
        }
      ]
    },
    {
      "cell_type": "code",
      "source": [
        "email = \"bulent@clarusway.com\"\n",
        "print(email.index(\"@\"))\n",
        "print(email.index(\".\"))"
      ],
      "metadata": {
        "colab": {
          "base_uri": "https://localhost:8080/"
        },
        "id": "Xga0xzPaWWr8",
        "outputId": "c47e448c-67b3-4f8d-a098-4661c6cfee32"
      },
      "execution_count": 32,
      "outputs": [
        {
          "output_type": "stream",
          "name": "stdout",
          "text": [
            "6\n",
            "16\n"
          ]
        }
      ]
    },
    {
      "cell_type": "code",
      "source": [
        "text = \"www.clarusway.com\"\n",
        "print(text.endswith(\".com\"))\n",
        "print(text.startswith(\"http:\"))"
      ],
      "metadata": {
        "colab": {
          "base_uri": "https://localhost:8080/"
        },
        "id": "IK1EwcNMXsw5",
        "outputId": "daf450ea-a6aa-40ff-8b3d-0ed23cfec2a3"
      },
      "execution_count": 33,
      "outputs": [
        {
          "output_type": "stream",
          "name": "stdout",
          "text": [
            "True\n",
            "False\n"
          ]
        }
      ]
    },
    {
      "cell_type": "code",
      "source": [
        "text = \"www.clarusway.com\"\n",
        "print(text.endswith(\"om\"))\n",
        "print(text.startswith(\"w\"))"
      ],
      "metadata": {
        "colab": {
          "base_uri": "https://localhost:8080/"
        },
        "id": "-F7WaF2gYApf",
        "outputId": "90e2ec8f-1745-4e78-d665-fb15b2e61cce"
      },
      "execution_count": 35,
      "outputs": [
        {
          "output_type": "stream",
          "name": "stdout",
          "text": [
            "True\n",
            "True\n"
          ]
        }
      ]
    },
    {
      "cell_type": "code",
      "source": [
        "email = \"clarusway@clarusway.com is my e-mail address\"\n",
        "print(email.startswith(\"@\", 9))   ##9.indisten başlıyor mu ? True\n",
        "print(email.endswith(\"-\", 10, 32))"
      ],
      "metadata": {
        "colab": {
          "base_uri": "https://localhost:8080/"
        },
        "id": "uxYCX-vsbnni",
        "outputId": "24c2e47c-ab05-4b76-a96d-31f539dabc23"
      },
      "execution_count": 36,
      "outputs": [
        {
          "output_type": "stream",
          "name": "stdout",
          "text": [
            "True\n",
            "True\n"
          ]
        }
      ]
    },
    {
      "cell_type": "code",
      "source": [
        "email = \"clarusway@clarusway.com is my e-mail address\"\n",
        "print(email.startswith(\"@\", 9))   ##9.indisten başlıyor mu ? True\n",
        "print(email.endswith(\"e-\", 10, 32))"
      ],
      "metadata": {
        "colab": {
          "base_uri": "https://localhost:8080/"
        },
        "id": "cIboy5tRb9Zp",
        "outputId": "a4af768e-1ff3-4efc-c1e4-bc0d64d8910b"
      },
      "execution_count": 38,
      "outputs": [
        {
          "output_type": "stream",
          "name": "stdout",
          "text": [
            "True\n",
            "True\n"
          ]
        }
      ]
    },
    {
      "cell_type": "code",
      "source": [
        "email = \"clarusway@clarusway.com is my e-mail address\"\n",
        "print(email.startswith(\"@\", 9))   ##9.indisten başlıyor mu ? True\n",
        "print(email.endswith(\"e-\",0,32))"
      ],
      "metadata": {
        "colab": {
          "base_uri": "https://localhost:8080/"
        },
        "id": "ByrLoUMXcOu7",
        "outputId": "e7d5925c-3113-4c38-a8ca-df8a5d458379"
      },
      "execution_count": 41,
      "outputs": [
        {
          "output_type": "stream",
          "name": "stdout",
          "text": [
            "True\n",
            "True\n"
          ]
        }
      ]
    },
    {
      "cell_type": "code",
      "source": [
        "text = \"www.clarusway.com\"\n",
        "print(text.endswith(\".co\"))\n",
        "print(text.startswith(\"w.\"))"
      ],
      "metadata": {
        "colab": {
          "base_uri": "https://localhost:8080/"
        },
        "id": "S4DXDZZNctLR",
        "outputId": "72a6511d-e020-4181-f0ee-61c03f62d93c"
      },
      "execution_count": 42,
      "outputs": [
        {
          "output_type": "stream",
          "name": "stdout",
          "text": [
            "False\n",
            "False\n"
          ]
        }
      ]
    },
    {
      "cell_type": "code",
      "source": [
        "text = \"www.clarusway.com\"\n",
        "print(text.count(\"w\"))  ##aranan karakterin sayısını verir"
      ],
      "metadata": {
        "colab": {
          "base_uri": "https://localhost:8080/"
        },
        "id": "erfJV5LedljU",
        "outputId": "c22e9e49-2aca-43fd-d46d-d0bea2d88664"
      },
      "execution_count": 43,
      "outputs": [
        {
          "output_type": "stream",
          "name": "stdout",
          "text": [
            "4\n"
          ]
        }
      ]
    },
    {
      "cell_type": "code",
      "source": [
        "text = \"Galatasaray\"\n",
        "new_text = text.replace(\"a\", \"e\")\n",
        "print(new_text)"
      ],
      "metadata": {
        "colab": {
          "base_uri": "https://localhost:8080/"
        },
        "id": "q2sjrSHremfb",
        "outputId": "9a9eca28-a831-4632-f99f-5a8a1f69632d"
      },
      "execution_count": 44,
      "outputs": [
        {
          "output_type": "stream",
          "name": "stdout",
          "text": [
            "Geleteserey\n"
          ]
        }
      ]
    },
    {
      "cell_type": "code",
      "source": [
        "text = \"Galatasaray\"\n",
        "new_text = text.replace(\"a\", \"e\", 2)\n",
        "print(new_text)"
      ],
      "metadata": {
        "colab": {
          "base_uri": "https://localhost:8080/"
        },
        "id": "F0JLg_YSezAF",
        "outputId": "50c27c9a-14b0-43b0-cb64-983e1b1241ac"
      },
      "execution_count": 45,
      "outputs": [
        {
          "output_type": "stream",
          "name": "stdout",
          "text": [
            "Geletasaray\n"
          ]
        }
      ]
    },
    {
      "cell_type": "code",
      "source": [
        "text = \"Galatasaray\"\n",
        "new_text = text.replace(\"a\", \"e\", -2)  ## negatif değerler geçersiz\n",
        "print(new_text)"
      ],
      "metadata": {
        "colab": {
          "base_uri": "https://localhost:8080/"
        },
        "id": "WoMETDihe6hy",
        "outputId": "de09e9ab-fead-458d-d9f9-3b423c6adc5c"
      },
      "execution_count": 46,
      "outputs": [
        {
          "output_type": "stream",
          "name": "stdout",
          "text": [
            "Geleteserey\n"
          ]
        }
      ]
    },
    {
      "cell_type": "code",
      "source": [
        "text = \"GalaTaSaray\"\n",
        "new_text = text.swapcase()  ## küçük-büyük harf değişimi yapar\n",
        "print(new_text)\n"
      ],
      "metadata": {
        "colab": {
          "base_uri": "https://localhost:8080/"
        },
        "id": "A9OYCQF7fGYd",
        "outputId": "91cae891-521b-4a21-e7b8-d7c4b5fa7012"
      },
      "execution_count": 47,
      "outputs": [
        {
          "output_type": "stream",
          "name": "stdout",
          "text": [
            "gALAtAsARAY\n"
          ]
        }
      ]
    },
    {
      "cell_type": "code",
      "source": [
        "text = \"galaTaSaray\"\n",
        "new_text = text.capitalize  ## ilk harf büyük diğerleri küçük\n",
        "print(new_text)"
      ],
      "metadata": {
        "colab": {
          "base_uri": "https://localhost:8080/"
        },
        "id": "v9t5FKVVfW7I",
        "outputId": "8582930b-bf7f-4fdd-8e9b-e20f21e07254"
      },
      "execution_count": 48,
      "outputs": [
        {
          "output_type": "stream",
          "name": "stdout",
          "text": [
            "<built-in method capitalize of str object at 0x7fd383e016b0>\n"
          ]
        }
      ]
    },
    {
      "cell_type": "code",
      "source": [
        "text = \"galaTaSaray\"\n",
        "new_text = text.capitalize()  ## ilk harf büyük diğerleri küçük\n",
        "print(new_text)"
      ],
      "metadata": {
        "colab": {
          "base_uri": "https://localhost:8080/"
        },
        "id": "r1alWKZrfi0-",
        "outputId": "96cb428c-a7f1-4dbb-ed80-d46a02a12f5e"
      },
      "execution_count": 49,
      "outputs": [
        {
          "output_type": "stream",
          "name": "stdout",
          "text": [
            "Galatasaray\n"
          ]
        }
      ]
    },
    {
      "cell_type": "code",
      "source": [
        "text = \"galaTaSaray fenerbahçe\"\n",
        "new_text = text.capitalize()  ## ilk harf büyük diğerleri küçük\n",
        "print(new_text)"
      ],
      "metadata": {
        "colab": {
          "base_uri": "https://localhost:8080/"
        },
        "id": "Q4cLO-cofong",
        "outputId": "f81f2b53-9bfd-432d-bea5-a12f0cb9c8d7"
      },
      "execution_count": 50,
      "outputs": [
        {
          "output_type": "stream",
          "name": "stdout",
          "text": [
            "Galatasaray fenerbahçe\n"
          ]
        }
      ]
    },
    {
      "cell_type": "code",
      "source": [
        "text = \"galaTaSaray fenerbahçe\"\n",
        "new_text = text.title()  ## her kelimenin ilk harfi büyük diğerleri küçük\n",
        "print(new_text)"
      ],
      "metadata": {
        "colab": {
          "base_uri": "https://localhost:8080/"
        },
        "id": "khux11AMfr9m",
        "outputId": "fe5d6a71-868b-4b2e-bcaf-c80a86132cd1"
      },
      "execution_count": 51,
      "outputs": [
        {
          "output_type": "stream",
          "name": "stdout",
          "text": [
            "Galatasaray Fenerbahçe\n"
          ]
        }
      ]
    },
    {
      "cell_type": "code",
      "source": [
        "text = \"galaTaSaray\"\n",
        "new_text = text.upper()  ## büyük harfe dönüştürür\n",
        "print(new_text)"
      ],
      "metadata": {
        "colab": {
          "base_uri": "https://localhost:8080/"
        },
        "id": "RMJacbmof3cK",
        "outputId": "7936ba2c-e35d-4f53-9692-83b4758b817f"
      },
      "execution_count": 52,
      "outputs": [
        {
          "output_type": "stream",
          "name": "stdout",
          "text": [
            "GALATASARAY\n"
          ]
        }
      ]
    },
    {
      "cell_type": "code",
      "source": [
        "text = \"galaTaSaray fenerbahçe\"\n",
        "new_text = text.lower()  ## tamamını küçük harf\n",
        "print(new_text)"
      ],
      "metadata": {
        "colab": {
          "base_uri": "https://localhost:8080/"
        },
        "id": "VSFqhtwigBNN",
        "outputId": "ee12ff96-011c-4468-e4b3-d018df4cee76"
      },
      "execution_count": 53,
      "outputs": [
        {
          "output_type": "stream",
          "name": "stdout",
          "text": [
            "galatasaray fenerbahçe\n"
          ]
        }
      ]
    },
    {
      "cell_type": "code",
      "source": [
        "text = \"galaTaSaray fenerbahçe\"\n",
        "new_text = text.casefold()  ## tamamını küçük harf\n",
        "print(new_text)"
      ],
      "metadata": {
        "colab": {
          "base_uri": "https://localhost:8080/"
        },
        "id": "V5habRp-gKbL",
        "outputId": "05ffc646-d555-4333-ad92-b363aa9a0c04"
      },
      "execution_count": 54,
      "outputs": [
        {
          "output_type": "stream",
          "name": "stdout",
          "text": [
            "galatasaray fenerbahçe\n"
          ]
        }
      ]
    },
    {
      "cell_type": "code",
      "source": [
        "text = \"galaTaSaray fenerbahçe ßilden\"\n",
        "new_text = text.lower()\n",
        "print(new_text)"
      ],
      "metadata": {
        "colab": {
          "base_uri": "https://localhost:8080/"
        },
        "id": "wX-AhRm8gTrA",
        "outputId": "24486613-82a3-4a82-c777-8304e36b57a1"
      },
      "execution_count": 55,
      "outputs": [
        {
          "output_type": "stream",
          "name": "stdout",
          "text": [
            "galatasaray fenerbahçe ßilden\n"
          ]
        }
      ]
    },
    {
      "cell_type": "code",
      "source": [
        "text = \"galaTaSaray fenerbahçe ßilden\"\n",
        "new_text = text.casefold()\n",
        "print(new_text)"
      ],
      "metadata": {
        "colab": {
          "base_uri": "https://localhost:8080/"
        },
        "id": "g353fs40geOT",
        "outputId": "f8f43589-670f-4f7e-aa1f-7c39f0f1e518"
      },
      "execution_count": 56,
      "outputs": [
        {
          "output_type": "stream",
          "name": "stdout",
          "text": [
            "galatasaray fenerbahçe ssilden\n"
          ]
        }
      ]
    },
    {
      "cell_type": "code",
      "source": [
        "text = \"c l a r u s w a y . com\"\n",
        "new_text = '-'.join(text)  #verilen ayraç karakteri ile stringi birleiştiriyor\n",
        "print(new_text)\n"
      ],
      "metadata": {
        "colab": {
          "base_uri": "https://localhost:8080/"
        },
        "id": "CSQr4t_cgyWT",
        "outputId": "122457b4-d869-49d4-c1b2-da3b5a53a58e"
      },
      "execution_count": 58,
      "outputs": [
        {
          "output_type": "stream",
          "name": "stdout",
          "text": [
            "c- -l- -a- -r- -u- -s- -w- -a- -y- -.- -c-o-m\n"
          ]
        }
      ]
    },
    {
      "cell_type": "code",
      "source": [
        "text = [\"c\",\"l\",\"a\",\"r\",\"u\",\"s\",\"w\",\"a\",\"y\"]\n",
        "new_text = ''.join(text) #listeyi stringe dönüştürdü\n",
        "print(new_text)"
      ],
      "metadata": {
        "colab": {
          "base_uri": "https://localhost:8080/"
        },
        "id": "XvY-kTeRhEkB",
        "outputId": "d585898a-4e30-4cc1-8b61-9308bbff16ea"
      },
      "execution_count": 59,
      "outputs": [
        {
          "output_type": "stream",
          "name": "stdout",
          "text": [
            "clarusway\n"
          ]
        }
      ]
    },
    {
      "cell_type": "code",
      "source": [
        "text = \"clarusway.com\"\n",
        "new_text = ''.join(reversed(text))  #ters çevirme\n",
        "print(new_text)"
      ],
      "metadata": {
        "colab": {
          "base_uri": "https://localhost:8080/"
        },
        "id": "ur8_voExhdZx",
        "outputId": "d66c24fd-add6-44b3-8a05-6e86cc13128c"
      },
      "execution_count": 60,
      "outputs": [
        {
          "output_type": "stream",
          "name": "stdout",
          "text": [
            "moc.yawsuralc\n"
          ]
        }
      ]
    },
    {
      "cell_type": "code",
      "source": [
        "text = \"in God we Trust\"\n",
        "indis = text.find('e')\n",
        "print(indis)"
      ],
      "metadata": {
        "colab": {
          "base_uri": "https://localhost:8080/"
        },
        "id": "UMGBPIMCiUuw",
        "outputId": "de7ce9e7-6c20-4712-d491-478d809d084f"
      },
      "execution_count": 61,
      "outputs": [
        {
          "output_type": "stream",
          "name": "stdout",
          "text": [
            "8\n"
          ]
        }
      ]
    },
    {
      "cell_type": "code",
      "source": [
        "text = \"in eGod we Trust\"\n",
        "indis = text.find('e')\n",
        "print(indis)"
      ],
      "metadata": {
        "colab": {
          "base_uri": "https://localhost:8080/"
        },
        "id": "a-89-mvNil35",
        "outputId": "dbb2b896-de39-4294-a142-127bdd1d4ec2"
      },
      "execution_count": 62,
      "outputs": [
        {
          "output_type": "stream",
          "name": "stdout",
          "text": [
            "3\n"
          ]
        }
      ]
    },
    {
      "cell_type": "code",
      "source": [
        "text = \"in eGod we Trust\"\n",
        "indis = text.rfind('e')\n",
        "print(indis)"
      ],
      "metadata": {
        "colab": {
          "base_uri": "https://localhost:8080/"
        },
        "id": "wys-wSh_iw2N",
        "outputId": "f98029f6-8b13-4cb3-ef1d-ba370324b765"
      },
      "execution_count": 63,
      "outputs": [
        {
          "output_type": "stream",
          "name": "stdout",
          "text": [
            "9\n"
          ]
        }
      ]
    },
    {
      "cell_type": "code",
      "source": [
        "text = \"in eGod we Trust\"\n",
        "indis = text.find('God')\n",
        "print(indis)"
      ],
      "metadata": {
        "colab": {
          "base_uri": "https://localhost:8080/"
        },
        "id": "NWyIpuxzjdYd",
        "outputId": "fd4afec0-86ac-4d08-8f49-6cd549c9ef2f"
      },
      "execution_count": 66,
      "outputs": [
        {
          "output_type": "stream",
          "name": "stdout",
          "text": [
            "4\n"
          ]
        }
      ]
    },
    {
      "cell_type": "code",
      "source": [
        "text = \"in eGod we Trust\"\n",
        "indis = text.find('Good')\n",
        "print(indis)"
      ],
      "metadata": {
        "colab": {
          "base_uri": "https://localhost:8080/"
        },
        "id": "amoWwmOOjmou",
        "outputId": "93e880b7-05e6-4a65-80b8-810afeddb38e"
      },
      "execution_count": 67,
      "outputs": [
        {
          "output_type": "stream",
          "name": "stdout",
          "text": [
            "-1\n"
          ]
        }
      ]
    },
    {
      "cell_type": "code",
      "source": [
        "text = \"in eGod we Trust\"\n",
        "indis = text.find('a')\n",
        "print(indis)"
      ],
      "metadata": {
        "colab": {
          "base_uri": "https://localhost:8080/"
        },
        "id": "zaeiVnWAi8rr",
        "outputId": "83b88cba-0346-4d2e-bf8e-e6718dc60a95"
      },
      "execution_count": 64,
      "outputs": [
        {
          "output_type": "stream",
          "name": "stdout",
          "text": [
            "-1\n"
          ]
        }
      ]
    },
    {
      "cell_type": "code",
      "source": [
        "text = \"in eGod we Trust\"\n",
        "indis = text.index('a')\n",
        "print(indis)"
      ],
      "metadata": {
        "colab": {
          "base_uri": "https://localhost:8080/",
          "height": 201
        },
        "id": "bknhPzTii-77",
        "outputId": "3721e3cb-b48e-4186-a2cd-f4edf29a49a3"
      },
      "execution_count": 65,
      "outputs": [
        {
          "output_type": "error",
          "ename": "ValueError",
          "evalue": "ignored",
          "traceback": [
            "\u001b[0;31m---------------------------------------------------------------------------\u001b[0m",
            "\u001b[0;31mValueError\u001b[0m                                Traceback (most recent call last)",
            "\u001b[0;32m<ipython-input-65-136689477c3e>\u001b[0m in \u001b[0;36m<module>\u001b[0;34m()\u001b[0m\n\u001b[1;32m      1\u001b[0m \u001b[0mtext\u001b[0m \u001b[0;34m=\u001b[0m \u001b[0;34m\"in eGod we Trust\"\u001b[0m\u001b[0;34m\u001b[0m\u001b[0;34m\u001b[0m\u001b[0m\n\u001b[0;32m----> 2\u001b[0;31m \u001b[0mindis\u001b[0m \u001b[0;34m=\u001b[0m \u001b[0mtext\u001b[0m\u001b[0;34m.\u001b[0m\u001b[0mindex\u001b[0m\u001b[0;34m(\u001b[0m\u001b[0;34m'a'\u001b[0m\u001b[0;34m)\u001b[0m\u001b[0;34m\u001b[0m\u001b[0;34m\u001b[0m\u001b[0m\n\u001b[0m\u001b[1;32m      3\u001b[0m \u001b[0mprint\u001b[0m\u001b[0;34m(\u001b[0m\u001b[0mindis\u001b[0m\u001b[0;34m)\u001b[0m\u001b[0;34m\u001b[0m\u001b[0;34m\u001b[0m\u001b[0m\n",
            "\u001b[0;31mValueError\u001b[0m: substring not found"
          ]
        }
      ]
    },
    {
      "cell_type": "code",
      "source": [
        "text = \"1234\"\n",
        "new_text = text.zfill(10)  ##texti genişletir, sol tarafına 0 yerleştirir.\n",
        "print(new_text)"
      ],
      "metadata": {
        "colab": {
          "base_uri": "https://localhost:8080/"
        },
        "id": "A7Hh8BavjXJ2",
        "outputId": "d1c7ac15-ea00-4b3e-f97b-fecd2bda6d61"
      },
      "execution_count": 68,
      "outputs": [
        {
          "output_type": "stream",
          "name": "stdout",
          "text": [
            "0000001234\n"
          ]
        }
      ]
    },
    {
      "cell_type": "code",
      "source": [
        "text = \"1234\"\n",
        "new_text = text.center(10)  ##texti genişletir, sol tarafına 0 yerleştirir.\n",
        "print(new_text)"
      ],
      "metadata": {
        "colab": {
          "base_uri": "https://localhost:8080/"
        },
        "id": "8Dsr8Wv1kOWu",
        "outputId": "a2ee1acd-3bc9-4789-9d11-7aae55d3e1be"
      },
      "execution_count": 69,
      "outputs": [
        {
          "output_type": "stream",
          "name": "stdout",
          "text": [
            "   1234   \n"
          ]
        }
      ]
    },
    {
      "cell_type": "code",
      "source": [
        "text = \"1234\"\n",
        "new_text = text.center(10,\"*\")  ##texti genişletir, sol tarafına 0 yerleştirir.\n",
        "print(new_text)"
      ],
      "metadata": {
        "colab": {
          "base_uri": "https://localhost:8080/"
        },
        "id": "ZBGmiMLHkXGq",
        "outputId": "f811dbf5-c41d-4bfd-e2ca-71dd2e955dd6"
      },
      "execution_count": 70,
      "outputs": [
        {
          "output_type": "stream",
          "name": "stdout",
          "text": [
            "***1234***\n"
          ]
        }
      ]
    },
    {
      "cell_type": "code",
      "source": [
        "'1,2,3'.split(',')"
      ],
      "metadata": {
        "colab": {
          "base_uri": "https://localhost:8080/"
        },
        "id": "xGZqnxeHksww",
        "outputId": "79a31d2f-a4ce-4fee-c4e9-098c57ce59c0"
      },
      "execution_count": 71,
      "outputs": [
        {
          "output_type": "execute_result",
          "data": {
            "text/plain": [
              "['1', '2', '3']"
            ]
          },
          "metadata": {},
          "execution_count": 71
        }
      ]
    },
    {
      "cell_type": "code",
      "source": [
        "text = \"1 2 3 4\"\n",
        "new_text = text.split(' ')  ##join fonk. tam tersi stringi listeye dönüşütürür.\n",
        "print(new_text)"
      ],
      "metadata": {
        "colab": {
          "base_uri": "https://localhost:8080/"
        },
        "id": "eEBC8GJgku11",
        "outputId": "ea914ce3-18d0-448d-9d91-d138664aa544"
      },
      "execution_count": 74,
      "outputs": [
        {
          "output_type": "stream",
          "name": "stdout",
          "text": [
            "['1', '2', '3', '4']\n"
          ]
        }
      ]
    },
    {
      "cell_type": "code",
      "source": [
        "text = \"1 2 3 4\"\n",
        "new_text = text.split()  ##texti genişletir, sol tarafına 0 yerleştirir.\n",
        "print(new_text)"
      ],
      "metadata": {
        "colab": {
          "base_uri": "https://localhost:8080/"
        },
        "id": "KJtKr2rBk9Xr",
        "outputId": "a0a5b51e-b2fd-4f22-ddee-6ded26ead462"
      },
      "execution_count": 75,
      "outputs": [
        {
          "output_type": "stream",
          "name": "stdout",
          "text": [
            "['1', '2', '3', '4']\n"
          ]
        }
      ]
    },
    {
      "cell_type": "code",
      "source": [
        "sentence = \"I live and work in Virginia\"\n",
        "new_sentence = sentence.title()\n",
        "print(new_sentence)\n",
        "\n",
        "sentence2 = sentence.replace('i','+')\n",
        "print(sentence2)"
      ],
      "metadata": {
        "colab": {
          "base_uri": "https://localhost:8080/"
        },
        "id": "6_HGfyWpn8UJ",
        "outputId": "df4e627d-643b-49dc-a1e0-9b8a47188de4"
      },
      "execution_count": 77,
      "outputs": [
        {
          "output_type": "stream",
          "name": "stdout",
          "text": [
            "I Live And Work In Virginia\n",
            "I l+ve and work +n V+rg+n+a\n"
          ]
        }
      ]
    },
    {
      "cell_type": "code",
      "source": [
        "text  = \"the better the family, the better the society\"\n",
        "new_text = text.title()\n",
        "print(new_text)"
      ],
      "metadata": {
        "colab": {
          "base_uri": "https://localhost:8080/"
        },
        "id": "HMPRTVCaomRo",
        "outputId": "4fdfb480-87d6-41d8-9b57-fcbe485eced6"
      },
      "execution_count": 78,
      "outputs": [
        {
          "output_type": "stream",
          "name": "stdout",
          "text": [
            "The Better The Family, The Better The Society\n"
          ]
        }
      ]
    },
    {
      "cell_type": "code",
      "source": [
        "sentence = \"I live and work in Virginia\"\n",
        "swap_text = sentence.swapcase()\n",
        "print(swap_text)\n",
        "print(swap_text.capitalize())"
      ],
      "metadata": {
        "colab": {
          "base_uri": "https://localhost:8080/"
        },
        "id": "ZhtTviVDpEiN",
        "outputId": "d9a9bb24-49f6-4711-ed6d-f26abe047968"
      },
      "execution_count": 80,
      "outputs": [
        {
          "output_type": "stream",
          "name": "stdout",
          "text": [
            "i LIVE AND WORK IN vIRGINIA\n",
            "I live and work in virginia\n"
          ]
        }
      ]
    },
    {
      "cell_type": "code",
      "source": [
        "text = 'S0d0me and G0m0re'\n",
        "text = text.replace(\"0\", \"o\")\n",
        "print(text)"
      ],
      "metadata": {
        "colab": {
          "base_uri": "https://localhost:8080/"
        },
        "id": "Yj5ZmvgcpxvV",
        "outputId": "9f890193-d374-475f-fe55-85a3444b540d"
      },
      "execution_count": 81,
      "outputs": [
        {
          "output_type": "stream",
          "name": "stdout",
          "text": [
            "Sodome and Gomore\n"
          ]
        }
      ]
    },
    {
      "cell_type": "code",
      "source": [
        "text = \"         listen list     \"\n",
        "text = text.strip()\n",
        "print(text)"
      ],
      "metadata": {
        "colab": {
          "base_uri": "https://localhost:8080/"
        },
        "id": "-UVMX5Z8qtEa",
        "outputId": "2afd27dd-7ed7-478d-8ec0-3ae274702a37"
      },
      "execution_count": 82,
      "outputs": [
        {
          "output_type": "stream",
          "name": "stdout",
          "text": [
            "listen list\n"
          ]
        }
      ]
    },
    {
      "cell_type": "code",
      "source": [
        "'www.example.com'.strip('cmowz.')"
      ],
      "metadata": {
        "colab": {
          "base_uri": "https://localhost:8080/",
          "height": 35
        },
        "id": "zKtrRJ8Tq8IC",
        "outputId": "f661b82c-96f4-459b-959b-f8e57509c7ae"
      },
      "execution_count": 83,
      "outputs": [
        {
          "output_type": "execute_result",
          "data": {
            "text/plain": [
              "'example'"
            ],
            "application/vnd.google.colaboratory.intrinsic+json": {
              "type": "string"
            }
          },
          "metadata": {},
          "execution_count": 83
        }
      ]
    },
    {
      "cell_type": "code",
      "source": [
        "text = 'www.example.com'\n",
        "text = text.strip('.c')\n",
        "print(text)"
      ],
      "metadata": {
        "colab": {
          "base_uri": "https://localhost:8080/"
        },
        "id": "tZ35wC2drKZm",
        "outputId": "9048c5ef-aa96-43ca-cfa0-3bfcb8d5c39a"
      },
      "execution_count": 86,
      "outputs": [
        {
          "output_type": "stream",
          "name": "stdout",
          "text": [
            "www.example.com\n"
          ]
        }
      ]
    },
    {
      "cell_type": "code",
      "source": [
        "text = 'www.example.com'\n",
        "text = text.strip('wcom')  ## başta ya da sonda belirtilen karakterlerin olması lazım\n",
        "print(text)"
      ],
      "metadata": {
        "colab": {
          "base_uri": "https://localhost:8080/"
        },
        "id": "J3lD4VyIrzGS",
        "outputId": "fd288b3d-bbc1-4cb2-9f02-164ca66d8085"
      },
      "execution_count": 87,
      "outputs": [
        {
          "output_type": "stream",
          "name": "stdout",
          "text": [
            ".example.\n"
          ]
        }
      ]
    },
    {
      "cell_type": "code",
      "source": [
        "text = \"interiyprob-way\"\n",
        "new_text = text.strip('yi')\n",
        "print(new_text)"
      ],
      "metadata": {
        "colab": {
          "base_uri": "https://localhost:8080/"
        },
        "id": "NWoBTEp4sAGQ",
        "outputId": "8c64edc3-0f42-4237-9874-0548f871cb65"
      },
      "execution_count": 88,
      "outputs": [
        {
          "output_type": "stream",
          "name": "stdout",
          "text": [
            "nteriyprob-wa\n"
          ]
        }
      ]
    },
    {
      "cell_type": "code",
      "source": [
        "text = \"interoperability\"\n",
        "new_text = text.lstrip('in')  ##soldan\n",
        "print(new_text)"
      ],
      "metadata": {
        "colab": {
          "base_uri": "https://localhost:8080/"
        },
        "id": "V6oTL7KKsNKk",
        "outputId": "0366dc71-66d4-434b-f2a0-c60f16b34b75"
      },
      "execution_count": 89,
      "outputs": [
        {
          "output_type": "stream",
          "name": "stdout",
          "text": [
            "teroperability\n"
          ]
        }
      ]
    },
    {
      "cell_type": "code",
      "source": [
        "text = \"interoperability\"\n",
        "new_text = text.rstrip('iy')  ## sağdan\n",
        "print(new_text)"
      ],
      "metadata": {
        "colab": {
          "base_uri": "https://localhost:8080/"
        },
        "id": "JGGvDw4JsRFs",
        "outputId": "1ec480c3-5677-4078-e6f0-07dd22c42922"
      },
      "execution_count": 90,
      "outputs": [
        {
          "output_type": "stream",
          "name": "stdout",
          "text": [
            "interoperabilit\n"
          ]
        }
      ]
    },
    {
      "cell_type": "code",
      "source": [
        "text = \".....+... interoperability ....+...\"\n",
        "new_text = text.strip('.+?')\n",
        "print(new_text)"
      ],
      "metadata": {
        "colab": {
          "base_uri": "https://localhost:8080/"
        },
        "id": "29L3OS9gsZQO",
        "outputId": "94053922-15ec-488d-be2d-12d7a9b894c9"
      },
      "execution_count": 91,
      "outputs": [
        {
          "output_type": "stream",
          "name": "stdout",
          "text": [
            " interoperability \n"
          ]
        }
      ]
    },
    {
      "cell_type": "code",
      "source": [
        "text = \"niinteroperability\"\n",
        "new_text = text.lstrip('in')  ##soldan i, in, ni, n kaldırır\n",
        "print(new_text)"
      ],
      "metadata": {
        "colab": {
          "base_uri": "https://localhost:8080/"
        },
        "id": "MxQXwy85staC",
        "outputId": "c1abf14d-3787-4239-c500-96e9ee724be6"
      },
      "execution_count": 92,
      "outputs": [
        {
          "output_type": "stream",
          "name": "stdout",
          "text": [
            "teroperability\n"
          ]
        }
      ]
    },
    {
      "cell_type": "code",
      "source": [
        "text = \"         listen first     \"\n",
        "text = text.rstrip()  ##sağdaki boşlukları kaldırır\n",
        "print(text)"
      ],
      "metadata": {
        "colab": {
          "base_uri": "https://localhost:8080/"
        },
        "id": "set6Ah27tQij",
        "outputId": "95463b2b-dad5-453f-c1f6-f52382b00d7f"
      },
      "execution_count": 93,
      "outputs": [
        {
          "output_type": "stream",
          "name": "stdout",
          "text": [
            "         listen first\n"
          ]
        }
      ]
    },
    {
      "cell_type": "code",
      "source": [
        "text = \"  +..   a               \"\n",
        "text = text.rstrip()  ##sağdaki boşlukları kaldırır\n",
        "print(text)"
      ],
      "metadata": {
        "colab": {
          "base_uri": "https://localhost:8080/"
        },
        "id": "rf5CJOX9tb1Y",
        "outputId": "04945c4d-b85a-4625-b035-e3a44aba9238"
      },
      "execution_count": 96,
      "outputs": [
        {
          "output_type": "stream",
          "name": "stdout",
          "text": [
            "  +..   a\n"
          ]
        }
      ]
    },
    {
      "cell_type": "code",
      "source": [
        "text = \"  +..   aaaaaaaaaa\"\n",
        "text = text.rstrip('a')  ##sağdaki 'a' kaldırır\n",
        "print(text)"
      ],
      "metadata": {
        "colab": {
          "base_uri": "https://localhost:8080/"
        },
        "id": "GAVl0_x7tpYQ",
        "outputId": "dd983078-6d1a-4fcf-9cdf-aed6b6ce37b7"
      },
      "execution_count": 97,
      "outputs": [
        {
          "output_type": "stream",
          "name": "stdout",
          "text": [
            "  +..   \n"
          ]
        }
      ]
    },
    {
      "cell_type": "code",
      "source": [
        "text = \"tclarusway universty classz\"\n",
        "text = text.strip('tz').upper()\n",
        "print(text)"
      ],
      "metadata": {
        "colab": {
          "base_uri": "https://localhost:8080/"
        },
        "id": "65R1hqj4uR30",
        "outputId": "0b6b2903-5a8c-4fa3-e2ca-cc6ec0c451a0"
      },
      "execution_count": 98,
      "outputs": [
        {
          "output_type": "stream",
          "name": "stdout",
          "text": [
            "CLARUSWAY UNIVERSTY CLASS\n"
          ]
        }
      ]
    },
    {
      "cell_type": "code",
      "source": [
        "text = \"tclarusway universty classz\"\n",
        "text = text.lstrip('t').rstrip('z').upper()\n",
        "print(text)"
      ],
      "metadata": {
        "colab": {
          "base_uri": "https://localhost:8080/"
        },
        "id": "gMdpl_kavpGY",
        "outputId": "241446a8-ff72-4df3-c42d-a9c6ab270949"
      },
      "execution_count": 100,
      "outputs": [
        {
          "output_type": "stream",
          "name": "stdout",
          "text": [
            "CLARUSWAY UNIVERSTY CLASS\n"
          ]
        }
      ]
    },
    {
      "cell_type": "code",
      "source": [
        "text = \"tclarusway universty classz\"\n",
        "sep = text[0] + text[-1] ## sep = 'tz'\n",
        "print(text.strip(sep).upper())"
      ],
      "metadata": {
        "colab": {
          "base_uri": "https://localhost:8080/"
        },
        "id": "FBoErBHdv35J",
        "outputId": "948635b5-74ca-42c6-d0f3-35ceda3d572f"
      },
      "execution_count": 102,
      "outputs": [
        {
          "output_type": "stream",
          "name": "stdout",
          "text": [
            "CLARUSWAY UNIVERSTY CLASS\n"
          ]
        }
      ]
    },
    {
      "cell_type": "code",
      "source": [
        "text = \"tclarusway universty classz\"\n",
        "text = text.upper().lstrip('t').rstrip('z')  ## doğru sonuç vermez\n",
        "print(text)"
      ],
      "metadata": {
        "colab": {
          "base_uri": "https://localhost:8080/"
        },
        "id": "qaRC7NxMww4o",
        "outputId": "7b207d2e-4979-4828-eb51-0221551a26fe"
      },
      "execution_count": 103,
      "outputs": [
        {
          "output_type": "stream",
          "name": "stdout",
          "text": [
            "TCLARUSWAY UNIVERSTY CLASSZ\n"
          ]
        }
      ]
    },
    {
      "cell_type": "code",
      "source": [
        "text = \"tclarusway universty classz\"\n",
        "text = text.upper().lstrip('T').rstrip('Z')  ## doğru sonuç verir\n",
        "print(text)"
      ],
      "metadata": {
        "colab": {
          "base_uri": "https://localhost:8080/"
        },
        "id": "h-V0SxzTw8O8",
        "outputId": "c50fe75b-29e6-47f1-801a-403f7b622cda"
      },
      "execution_count": 104,
      "outputs": [
        {
          "output_type": "stream",
          "name": "stdout",
          "text": [
            "CLARUSWAY UNIVERSTY CLASS\n"
          ]
        }
      ]
    },
    {
      "cell_type": "code",
      "source": [
        "text = \"In God wee Trust\"\n",
        "## Task: fazla 'e' yi kaldırmak\n",
        "text = text.replace(\"ee\", \"e\")\n",
        "print(text)"
      ],
      "metadata": {
        "colab": {
          "base_uri": "https://localhost:8080/"
        },
        "id": "6ecySeK9z_ef",
        "outputId": "9a7e9706-dfa8-4980-ef36-8ca054762533"
      },
      "execution_count": 105,
      "outputs": [
        {
          "output_type": "stream",
          "name": "stdout",
          "text": [
            "In God we Trust\n"
          ]
        }
      ]
    },
    {
      "cell_type": "code",
      "source": [
        "text = \"In God wee Trust\"\n",
        "## Task: fazla 'e' yi kaldırmak\n",
        "front = text[:8]\n",
        "back = text[9:]\n",
        "text = front + back\n",
        "print(text)"
      ],
      "metadata": {
        "colab": {
          "base_uri": "https://localhost:8080/"
        },
        "id": "RRSfEngO0PJw",
        "outputId": "20a11454-d59e-4f55-e118-a6514c3eb612"
      },
      "execution_count": 106,
      "outputs": [
        {
          "output_type": "stream",
          "name": "stdout",
          "text": [
            "In God we Trust\n"
          ]
        }
      ]
    },
    {
      "cell_type": "code",
      "source": [
        "text = \"In God wee Trust\"\n",
        "## Task: fazla 'e' yi kaldırmak\n",
        "indis = text.find('e')  ## rfind da kullanılabilir\n",
        "front = text[:indis]\n",
        "back = text[indis+1:]\n",
        "text = front + back\n",
        "print(text)"
      ],
      "metadata": {
        "colab": {
          "base_uri": "https://localhost:8080/"
        },
        "id": "geezfQUc0jYB",
        "outputId": "ed785a91-11e2-43c5-c35c-ea147405b7e0"
      },
      "execution_count": 107,
      "outputs": [
        {
          "output_type": "stream",
          "name": "stdout",
          "text": [
            "In God we Trust\n"
          ]
        }
      ]
    },
    {
      "cell_type": "code",
      "source": [
        "'TestHookTitan'.removeprefix('Test')  #3.9 üstü için geçerli"
      ],
      "metadata": {
        "colab": {
          "base_uri": "https://localhost:8080/",
          "height": 166
        },
        "id": "Ryy_jV9A1Owq",
        "outputId": "2c6b6cd6-48a5-4d17-f117-e14e473c355a"
      },
      "execution_count": 108,
      "outputs": [
        {
          "output_type": "error",
          "ename": "AttributeError",
          "evalue": "ignored",
          "traceback": [
            "\u001b[0;31m---------------------------------------------------------------------------\u001b[0m",
            "\u001b[0;31mAttributeError\u001b[0m                            Traceback (most recent call last)",
            "\u001b[0;32m<ipython-input-108-db5adf7c0a03>\u001b[0m in \u001b[0;36m<module>\u001b[0;34m()\u001b[0m\n\u001b[0;32m----> 1\u001b[0;31m \u001b[0;34m'TestHookTitan'\u001b[0m\u001b[0;34m.\u001b[0m\u001b[0mremoveprefix\u001b[0m\u001b[0;34m(\u001b[0m\u001b[0;34m'Test'\u001b[0m\u001b[0;34m)\u001b[0m\u001b[0;34m\u001b[0m\u001b[0;34m\u001b[0m\u001b[0m\n\u001b[0m",
            "\u001b[0;31mAttributeError\u001b[0m: 'str' object has no attribute 'removeprefix'"
          ]
        }
      ]
    },
    {
      "cell_type": "code",
      "source": [
        "'TestHookTitan'[len('Test'):]"
      ],
      "metadata": {
        "colab": {
          "base_uri": "https://localhost:8080/",
          "height": 35
        },
        "id": "_wPkHh_b1Y-v",
        "outputId": "446b4ed7-c68c-4def-ff75-2e47f18c0390"
      },
      "execution_count": 111,
      "outputs": [
        {
          "output_type": "execute_result",
          "data": {
            "text/plain": [
              "'HookTitan'"
            ],
            "application/vnd.google.colaboratory.intrinsic+json": {
              "type": "string"
            }
          },
          "metadata": {},
          "execution_count": 111
        }
      ]
    },
    {
      "cell_type": "code",
      "source": [
        "import sys\n",
        "print(sys.version)"
      ],
      "metadata": {
        "colab": {
          "base_uri": "https://localhost:8080/"
        },
        "id": "1yLJ-X9G2KWD",
        "outputId": "cf694ad3-cd8a-4881-fa48-812a20a62179"
      },
      "execution_count": 112,
      "outputs": [
        {
          "output_type": "stream",
          "name": "stdout",
          "text": [
            "3.7.13 (default, Apr 24 2022, 01:04:09) \n",
            "[GCC 7.5.0]\n"
          ]
        }
      ]
    },
    {
      "cell_type": "code",
      "source": [
        "import sys\n",
        "surum = sys.version.split()\n",
        "print(\"Sizin Python sürümünüz..:\", surum[0])"
      ],
      "metadata": {
        "colab": {
          "base_uri": "https://localhost:8080/"
        },
        "id": "gVRVGwC72VoR",
        "outputId": "b36b7f34-c13c-4ccb-9cf0-9a6924a6fb26"
      },
      "execution_count": 114,
      "outputs": [
        {
          "output_type": "stream",
          "name": "stdout",
          "text": [
            "Sizin Python sürümünüz..: 3.7.13\n"
          ]
        }
      ]
    },
    {
      "cell_type": "code",
      "source": [
        "text = \"1234\"\n",
        "new_text = text.ljust(10)  ##texti sola yanaştırır\n",
        "print(new_text)"
      ],
      "metadata": {
        "colab": {
          "base_uri": "https://localhost:8080/"
        },
        "id": "6w8jTY4s3Yqb",
        "outputId": "7f0c2e93-0d13-4755-a45e-14df6ecea125"
      },
      "execution_count": 115,
      "outputs": [
        {
          "output_type": "stream",
          "name": "stdout",
          "text": [
            "1234      \n"
          ]
        }
      ]
    },
    {
      "cell_type": "code",
      "source": [
        "new_text = text.rjust(10)  ##texti sağa yanaştırır\n",
        "print(new_text)"
      ],
      "metadata": {
        "colab": {
          "base_uri": "https://localhost:8080/"
        },
        "id": "PlFE8wAS3jOg",
        "outputId": "80e6feaf-9e85-4e0f-de57-81a51957efc5"
      },
      "execution_count": 118,
      "outputs": [
        {
          "output_type": "stream",
          "name": "stdout",
          "text": [
            "      1234\n"
          ]
        }
      ]
    },
    {
      "cell_type": "code",
      "source": [
        "new_text = text.center(10)  ##texti sağa yanaştırır\n",
        "print(new_text)"
      ],
      "metadata": {
        "colab": {
          "base_uri": "https://localhost:8080/"
        },
        "id": "A_56iQE13nud",
        "outputId": "b3772ed6-ee1e-406c-9cf3-c53c3ea71b60"
      },
      "execution_count": 117,
      "outputs": [
        {
          "output_type": "stream",
          "name": "stdout",
          "text": [
            "   1234   \n"
          ]
        }
      ]
    },
    {
      "cell_type": "code",
      "source": [
        "text = \"clarusWay\"\n",
        "print(text.islower()) ##tamamı küçükse True"
      ],
      "metadata": {
        "colab": {
          "base_uri": "https://localhost:8080/"
        },
        "id": "NzhoffaJ4ND1",
        "outputId": "9887580e-9c70-410a-b516-989163f910fc"
      },
      "execution_count": 121,
      "outputs": [
        {
          "output_type": "stream",
          "name": "stdout",
          "text": [
            "False\n"
          ]
        }
      ]
    },
    {
      "cell_type": "code",
      "source": [
        "text = \"clarusWay\"\n",
        "print(text.islower() and \"tamamı küçük harf\"  or \"tamamı küçük harf değil\")"
      ],
      "metadata": {
        "colab": {
          "base_uri": "https://localhost:8080/"
        },
        "id": "GdYBBWZX4Vc-",
        "outputId": "d83ac939-afb6-42d8-ef65-6c10d5fbcd47"
      },
      "execution_count": 122,
      "outputs": [
        {
          "output_type": "stream",
          "name": "stdout",
          "text": [
            "tamamı küçük harf değil\n"
          ]
        }
      ]
    },
    {
      "cell_type": "code",
      "source": [
        "'clarusway'.isupper()"
      ],
      "metadata": {
        "colab": {
          "base_uri": "https://localhost:8080/"
        },
        "id": "k_fJ-3eq5J8o",
        "outputId": "03e55954-9209-4d72-d821-28fb5717744a"
      },
      "execution_count": 123,
      "outputs": [
        {
          "output_type": "execute_result",
          "data": {
            "text/plain": [
              "False"
            ]
          },
          "metadata": {},
          "execution_count": 123
        }
      ]
    },
    {
      "cell_type": "code",
      "source": [
        "' '.isupper()"
      ],
      "metadata": {
        "colab": {
          "base_uri": "https://localhost:8080/"
        },
        "id": "_19AphjG5OAX",
        "outputId": "59c94746-b34c-433a-9679-67d1ecf42979"
      },
      "execution_count": 124,
      "outputs": [
        {
          "output_type": "execute_result",
          "data": {
            "text/plain": [
              "False"
            ]
          },
          "metadata": {},
          "execution_count": 124
        }
      ]
    },
    {
      "cell_type": "code",
      "source": [
        "' '.islower()"
      ],
      "metadata": {
        "colab": {
          "base_uri": "https://localhost:8080/"
        },
        "id": "CIdZUb5z5Q6l",
        "outputId": "b1e7cdba-8b44-4f96-e43f-463c94d270d2"
      },
      "execution_count": 125,
      "outputs": [
        {
          "output_type": "execute_result",
          "data": {
            "text/plain": [
              "False"
            ]
          },
          "metadata": {},
          "execution_count": 125
        }
      ]
    },
    {
      "cell_type": "code",
      "source": [
        "'12345678'.isnumeric() ## Tamamı nümerik(sayısal) mı?"
      ],
      "metadata": {
        "colab": {
          "base_uri": "https://localhost:8080/"
        },
        "id": "Yy-PniFQ5Zjr",
        "outputId": "17e2c42c-99e2-4e2f-e30c-66085e689793"
      },
      "execution_count": 127,
      "outputs": [
        {
          "output_type": "execute_result",
          "data": {
            "text/plain": [
              "True"
            ]
          },
          "metadata": {},
          "execution_count": 127
        }
      ]
    },
    {
      "cell_type": "code",
      "source": [
        "'1234ada5678'.isnumeric()"
      ],
      "metadata": {
        "colab": {
          "base_uri": "https://localhost:8080/"
        },
        "id": "o11MJC-s5fbq",
        "outputId": "3384ca51-3aa0-49f4-f1ae-3a4dc5eefe10"
      },
      "execution_count": 128,
      "outputs": [
        {
          "output_type": "execute_result",
          "data": {
            "text/plain": [
              "False"
            ]
          },
          "metadata": {},
          "execution_count": 128
        }
      ]
    },
    {
      "cell_type": "code",
      "source": [
        "text = \"ali veli dere\"\n",
        "text.islower()"
      ],
      "metadata": {
        "colab": {
          "base_uri": "https://localhost:8080/"
        },
        "id": "kbNIseMe5vFV",
        "outputId": "7826eed8-aa27-4bcb-cd72-1261b62d0974"
      },
      "execution_count": 129,
      "outputs": [
        {
          "output_type": "execute_result",
          "data": {
            "text/plain": [
              "True"
            ]
          },
          "metadata": {},
          "execution_count": 129
        }
      ]
    },
    {
      "cell_type": "code",
      "source": [
        "text = \"ali vEli dere\"\n",
        "text.islower()"
      ],
      "metadata": {
        "colab": {
          "base_uri": "https://localhost:8080/"
        },
        "id": "K-LJKgEg58eL",
        "outputId": "3fa0a7dc-7f56-43b0-bf46-83ff473c4bd9"
      },
      "execution_count": 130,
      "outputs": [
        {
          "output_type": "execute_result",
          "data": {
            "text/plain": [
              "False"
            ]
          },
          "metadata": {},
          "execution_count": 130
        }
      ]
    }
  ]
}