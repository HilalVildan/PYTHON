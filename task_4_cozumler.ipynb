{
 "cells": [
  {
   "cell_type": "code",
   "execution_count": 1,
   "metadata": {},
   "outputs": [
    {
     "name": "stdout",
     "output_type": "stream",
     "text": [
      "Please answer the questions yes and no !\n",
      "\n",
      "You are in risky group\n"
     ]
    }
   ],
   "source": [
    "\"\"\"Task4: Coronavirus risk:\n",
    "\"\"\"\n",
    "#@author: by Çağatay\n",
    "print(\"Please answer the questions yes and no !\\n\")                     #Task 4\n",
    "age = input(\"Are you a cigaratte addict older than 75 years old ? \").lower()\n",
    "chronic = input(\"Do you have a severe chronic disease ? \").lower()\n",
    "immune = input(\"Is your immune system too weak  ? \").lower()\n",
    "if age == \"yes\" or chronic == \"yes\" or immune ==\"yes\" :\n",
    "  print(\"You are in risky group\")\n",
    "elif age ==\"no\" and chronic ==\"no\" and immune ==\"no\" :\n",
    "  print(\"You are not in risky group\")\n",
    "else :\n",
    "  print(\"incorrect entry\")"
   ]
  },
  {
   "cell_type": "code",
   "execution_count": 2,
   "metadata": {},
   "outputs": [
    {
     "name": "stdout",
     "output_type": "stream",
     "text": [
      "You are not risky group\n"
     ]
    }
   ],
   "source": [
    "#@author: by Hilal\n",
    "age = input(\"Are you a cigarette addict older than 75 years old? : Y/N\") == \"Y\"\n",
    "chronic = input(\"Do you have a severe chronic diseade? : Y/N\") == \"Y\"\n",
    "immun = input(\"Is your immune system too weak? : Y/N\") == \"Y\"\n",
    "risk = (age or chronic or immun)\n",
    "if risk :\n",
    "    print(\"You are in risky group\")\n",
    "else:\n",
    "    print(\"You are not risky group\")"
   ]
  },
  {
   "cell_type": "code",
   "execution_count": 2,
   "metadata": {},
   "outputs": [
    {
     "ename": "KeyboardInterrupt",
     "evalue": "Interrupted by user",
     "output_type": "error",
     "traceback": [
      "\u001b[0;31m---------------------------------------------------------------------------\u001b[0m",
      "\u001b[0;31mKeyboardInterrupt\u001b[0m                         Traceback (most recent call last)",
      "\u001b[1;32m/Users/hilalvildansarioglu/Desktop/clarusway/PYTHON/task_4_cozumler.ipynb Cell 3'\u001b[0m in \u001b[0;36m<cell line: 2>\u001b[0;34m()\u001b[0m\n\u001b[1;32m      <a href='vscode-notebook-cell:/Users/hilalvildansarioglu/Desktop/clarusway/PYTHON/task_4_cozumler.ipynb#ch0000002?line=0'>1</a>\u001b[0m \u001b[39m#@author: by Sinan \u001b[39;00m\n\u001b[0;32m----> <a href='vscode-notebook-cell:/Users/hilalvildansarioglu/Desktop/clarusway/PYTHON/task_4_cozumler.ipynb#ch0000002?line=1'>2</a>\u001b[0m age \u001b[39m=\u001b[39m \u001b[39minput\u001b[39;49m(\u001b[39m'\u001b[39;49m\u001b[39mAre you a cigarette addict older than 75 years old? \u001b[39;49m\u001b[39m'\u001b[39;49m)\u001b[39m.\u001b[39mlower()\n\u001b[1;32m      <a href='vscode-notebook-cell:/Users/hilalvildansarioglu/Desktop/clarusway/PYTHON/task_4_cozumler.ipynb#ch0000002?line=2'>3</a>\u001b[0m chronic \u001b[39m=\u001b[39m \u001b[39minput\u001b[39m(\u001b[39m'\u001b[39m\u001b[39mDo you have a severe chronic disease? \u001b[39m\u001b[39m'\u001b[39m)\u001b[39m.\u001b[39mlower()\n\u001b[1;32m      <a href='vscode-notebook-cell:/Users/hilalvildansarioglu/Desktop/clarusway/PYTHON/task_4_cozumler.ipynb#ch0000002?line=3'>4</a>\u001b[0m immune \u001b[39m=\u001b[39m \u001b[39minput\u001b[39m(\u001b[39m'\u001b[39m\u001b[39mIs your immune system too weak?\u001b[39m\u001b[39m'\u001b[39m)\u001b[39m.\u001b[39mlower()\n",
      "File \u001b[0;32m/Library/Frameworks/Python.framework/Versions/3.10/lib/python3.10/site-packages/ipykernel/kernelbase.py:1161\u001b[0m, in \u001b[0;36mKernel.raw_input\u001b[0;34m(self, prompt)\u001b[0m\n\u001b[1;32m   <a href='file:///Library/Frameworks/Python.framework/Versions/3.10/lib/python3.10/site-packages/ipykernel/kernelbase.py?line=1156'>1157</a>\u001b[0m \u001b[39mif\u001b[39;00m \u001b[39mnot\u001b[39;00m \u001b[39mself\u001b[39m\u001b[39m.\u001b[39m_allow_stdin:\n\u001b[1;32m   <a href='file:///Library/Frameworks/Python.framework/Versions/3.10/lib/python3.10/site-packages/ipykernel/kernelbase.py?line=1157'>1158</a>\u001b[0m     \u001b[39mraise\u001b[39;00m StdinNotImplementedError(\n\u001b[1;32m   <a href='file:///Library/Frameworks/Python.framework/Versions/3.10/lib/python3.10/site-packages/ipykernel/kernelbase.py?line=1158'>1159</a>\u001b[0m         \u001b[39m\"\u001b[39m\u001b[39mraw_input was called, but this frontend does not support input requests.\u001b[39m\u001b[39m\"\u001b[39m\n\u001b[1;32m   <a href='file:///Library/Frameworks/Python.framework/Versions/3.10/lib/python3.10/site-packages/ipykernel/kernelbase.py?line=1159'>1160</a>\u001b[0m     )\n\u001b[0;32m-> <a href='file:///Library/Frameworks/Python.framework/Versions/3.10/lib/python3.10/site-packages/ipykernel/kernelbase.py?line=1160'>1161</a>\u001b[0m \u001b[39mreturn\u001b[39;00m \u001b[39mself\u001b[39;49m\u001b[39m.\u001b[39;49m_input_request(\n\u001b[1;32m   <a href='file:///Library/Frameworks/Python.framework/Versions/3.10/lib/python3.10/site-packages/ipykernel/kernelbase.py?line=1161'>1162</a>\u001b[0m     \u001b[39mstr\u001b[39;49m(prompt),\n\u001b[1;32m   <a href='file:///Library/Frameworks/Python.framework/Versions/3.10/lib/python3.10/site-packages/ipykernel/kernelbase.py?line=1162'>1163</a>\u001b[0m     \u001b[39mself\u001b[39;49m\u001b[39m.\u001b[39;49m_parent_ident[\u001b[39m\"\u001b[39;49m\u001b[39mshell\u001b[39;49m\u001b[39m\"\u001b[39;49m],\n\u001b[1;32m   <a href='file:///Library/Frameworks/Python.framework/Versions/3.10/lib/python3.10/site-packages/ipykernel/kernelbase.py?line=1163'>1164</a>\u001b[0m     \u001b[39mself\u001b[39;49m\u001b[39m.\u001b[39;49mget_parent(\u001b[39m\"\u001b[39;49m\u001b[39mshell\u001b[39;49m\u001b[39m\"\u001b[39;49m),\n\u001b[1;32m   <a href='file:///Library/Frameworks/Python.framework/Versions/3.10/lib/python3.10/site-packages/ipykernel/kernelbase.py?line=1164'>1165</a>\u001b[0m     password\u001b[39m=\u001b[39;49m\u001b[39mFalse\u001b[39;49;00m,\n\u001b[1;32m   <a href='file:///Library/Frameworks/Python.framework/Versions/3.10/lib/python3.10/site-packages/ipykernel/kernelbase.py?line=1165'>1166</a>\u001b[0m )\n",
      "File \u001b[0;32m/Library/Frameworks/Python.framework/Versions/3.10/lib/python3.10/site-packages/ipykernel/kernelbase.py:1205\u001b[0m, in \u001b[0;36mKernel._input_request\u001b[0;34m(self, prompt, ident, parent, password)\u001b[0m\n\u001b[1;32m   <a href='file:///Library/Frameworks/Python.framework/Versions/3.10/lib/python3.10/site-packages/ipykernel/kernelbase.py?line=1201'>1202</a>\u001b[0m             \u001b[39mbreak\u001b[39;00m\n\u001b[1;32m   <a href='file:///Library/Frameworks/Python.framework/Versions/3.10/lib/python3.10/site-packages/ipykernel/kernelbase.py?line=1202'>1203</a>\u001b[0m \u001b[39mexcept\u001b[39;00m \u001b[39mKeyboardInterrupt\u001b[39;00m:\n\u001b[1;32m   <a href='file:///Library/Frameworks/Python.framework/Versions/3.10/lib/python3.10/site-packages/ipykernel/kernelbase.py?line=1203'>1204</a>\u001b[0m     \u001b[39m# re-raise KeyboardInterrupt, to truncate traceback\u001b[39;00m\n\u001b[0;32m-> <a href='file:///Library/Frameworks/Python.framework/Versions/3.10/lib/python3.10/site-packages/ipykernel/kernelbase.py?line=1204'>1205</a>\u001b[0m     \u001b[39mraise\u001b[39;00m \u001b[39mKeyboardInterrupt\u001b[39;00m(\u001b[39m\"\u001b[39m\u001b[39mInterrupted by user\u001b[39m\u001b[39m\"\u001b[39m) \u001b[39mfrom\u001b[39;00m \u001b[39mNone\u001b[39m\n\u001b[1;32m   <a href='file:///Library/Frameworks/Python.framework/Versions/3.10/lib/python3.10/site-packages/ipykernel/kernelbase.py?line=1205'>1206</a>\u001b[0m \u001b[39mexcept\u001b[39;00m \u001b[39mException\u001b[39;00m:\n\u001b[1;32m   <a href='file:///Library/Frameworks/Python.framework/Versions/3.10/lib/python3.10/site-packages/ipykernel/kernelbase.py?line=1206'>1207</a>\u001b[0m     \u001b[39mself\u001b[39m\u001b[39m.\u001b[39mlog\u001b[39m.\u001b[39mwarning(\u001b[39m\"\u001b[39m\u001b[39mInvalid Message:\u001b[39m\u001b[39m\"\u001b[39m, exc_info\u001b[39m=\u001b[39m\u001b[39mTrue\u001b[39;00m)\n",
      "\u001b[0;31mKeyboardInterrupt\u001b[0m: Interrupted by user"
     ]
    }
   ],
   "source": [
    "#@author: by Sinan \n",
    "age = input('Are you a cigarette addict older than 75 years old? ').lower()\n",
    "chronic = input('Do you have a severe chronic disease? ').lower()\n",
    "immune = input('Is your immune system too weak?').lower()\n",
    "if age == 'yes' or chronic == 'yes' or immune == 'yes':\n",
    "     print('You are in risky group')\n",
    "else:\n",
    "    print('You are not in risky group')"
   ]
  },
  {
   "cell_type": "code",
   "execution_count": 21,
   "metadata": {},
   "outputs": [
    {
     "name": "stdout",
     "output_type": "stream",
     "text": [
      "asnwer the below questions Y or N...  \n",
      "\n",
      "You are not in risky group\n"
     ]
    }
   ],
   "source": [
    "#@author: by Halil\n",
    "# estimating the risk of death from coronavirus\n",
    "print('asnwer the below questions Y or N... ', '\\n')\n",
    "age = input('Are you cigarette addict older than 75 years old?\\t ').lower()\n",
    "chronic = input('Do you have severe chronic disease?\\t\\t\\t ').lower()\n",
    "immune = input('Is your immune system too weak?\\t\\t\\t\\t ').lower()\n",
    "# declaring variables and assign them to input\n",
    "pozitive = 'y'\n",
    "negative = 'n'\n",
    "# converting str type into bool type\n",
    "if age == pozitive:\n",
    "  age = True\n",
    "elif age == negative:\n",
    "  age = False\n",
    "if chronic == pozitive:\n",
    "  chronic = True\n",
    "elif chronic == negative:\n",
    "  chronic = False\n",
    "if immune == pozitive:\n",
    "  immune = True\n",
    "elif immune == negative:\n",
    "  immune = False\n",
    "# if input invalid print invalid note; if not look the conditions if it is risky or not\n",
    "if (type(age) != bool) or (type(chronic) != bool) or (type(immune) != bool):\n",
    "  print('You entered invalid value...')\n",
    "elif(age or chronic) and immune:\n",
    "    print('You are in risky group')\n",
    "elif (age or immune) and chronic:\n",
    "  print('You are in risky group')\n",
    "elif (chronic or immune) and age:\n",
    "  print('You are in risky group')\n",
    "else:\n",
    "  print('You are not in risky group')\n",
    "\n",
    "#Not: Çok fazla gereksiz yere iç içe if kullanılmış... \n",
    "# risk grubunda herhangi biri \"yes\" ise çıktı \"You are in risky group\" olmalı ?"
   ]
  },
  {
   "cell_type": "code",
   "execution_count": 16,
   "metadata": {},
   "outputs": [
    {
     "name": "stdout",
     "output_type": "stream",
     "text": [
      "Please answer all questions with yes or no  \n",
      "\n",
      "You are in risky group\n"
     ]
    }
   ],
   "source": [
    "#@author: by Doğukan\n",
    "message = \"Please answer all questions with yes or no \"\n",
    "print(message,\"\\n\")\n",
    "age = \"no\" #input(\"Are you a cigarette addict older than 75 years old? : \")\n",
    "chronic = \"no\" #input(\"Do you have a severe chronic disease? : \")\n",
    "immune = \"yes\" #input(\"Is your immune system too weak? : \")\n",
    "if age == \"yes\" or chronic == \"yes\" or immune == \"yes\" :\n",
    "  answer = True\n",
    "elif age == \"no\" and chronic == \"no\" and immune == \"no\" :\n",
    "  answer = False\n",
    "else :\n",
    "  print(\"Please only answer with yes or no\")\n",
    "\n",
    "if answer == True :\n",
    "  print(\"You are in risky group\")\n",
    "else :\n",
    "  print(\"You are not in risky group\")"
   ]
  },
  {
   "cell_type": "code",
   "execution_count": 12,
   "metadata": {},
   "outputs": [
    {
     "name": "stdout",
     "output_type": "stream",
     "text": [
      "hastalik riskiniz yok\n"
     ]
    }
   ],
   "source": [
    "#@author: by Faruk\n",
    "age = input('75 yasindan buyukmusunuz..:').title() == \"Yes\"\n",
    "chronic = input('kronik bir hastaliginiz var mi...:').title() == \"Yes\"\n",
    "immune = input ('bagisiklik sisteminiz zayifmi..:').title() == \"Yes\"\n",
    "if(age == True or chronic == True or immune == True):\n",
    "  print('hastalik riskiniz var')\n",
    "else:\n",
    "  print('hastalik riskiniz yok')"
   ]
  },
  {
   "cell_type": "code",
   "execution_count": 18,
   "metadata": {},
   "outputs": [
    {
     "name": "stdout",
     "output_type": "stream",
     "text": [
      "Risk grubunda degilsiniz...\n"
     ]
    }
   ],
   "source": [
    "# @author: by Bulend Hoca-1\n",
    "age = int(input(\"Yaşınızı giriniz\"))\n",
    "ciga = input('Sigara içiyormusunuz?(yes or no) :').lower().strip()\n",
    "chronic = input('Agir bir kronik hastaligin var mi?(yes or no) :').lower().strip()\n",
    "immune = input('Bagisiklik sisteminiz zayif mi?(yes or no) :').lower().strip()\n",
    "risk = (age>=75 and ciga== 'yes') or (chronic == 'yes') or (immune == 'yes')\n",
    "if risk:\n",
    "    print('Risk grubundasiniz...')\n",
    "else:\n",
    "    print('Risk grubunda degilsiniz...')"
   ]
  },
  {
   "cell_type": "code",
   "execution_count": null,
   "metadata": {},
   "outputs": [],
   "source": [
    "# @author: by Bulend Hoca-2\n",
    "age = input(\"Are you a cigarette addict older than 75 years old? Yes/No\").title().strip()\n",
    "chronic = input(\"Do you have severe chronic disease? Yes/No\").title().strip()\n",
    "immune = input(\"Is your immune system too weak? Yes/No\").title().strip()\n",
    "result = False\n",
    "if age == \"Yes\" or chronic == \"Yes\" or immune == \"Yes\":\n",
    "    result = True\n",
    "#Output\n",
    "if result == True:\n",
    "    print(\"You are in risky group\")\n",
    "else:\n",
    "    print(\"You are not in risky group\")"
   ]
  }
 ],
 "metadata": {
  "interpreter": {
   "hash": "aee8b7b246df8f9039afb4144a1f6fd8d2ca17a180786b69acc140d282b71a49"
  },
  "kernelspec": {
   "display_name": "Python 3.10.4 64-bit",
   "language": "python",
   "name": "python3"
  },
  "language_info": {
   "codemirror_mode": {
    "name": "ipython",
    "version": 3
   },
   "file_extension": ".py",
   "mimetype": "text/x-python",
   "name": "python",
   "nbconvert_exporter": "python",
   "pygments_lexer": "ipython3",
   "version": "3.10.4"
  },
  "orig_nbformat": 4,
  "vscode": {
   "interpreter": {
    "hash": "31f2aee4e71d21fbe5cf8b01ff0e069b9275f58929596ceb00d14d90e3e16cd6"
   }
  }
 },
 "nbformat": 4,
 "nbformat_minor": 2
}
