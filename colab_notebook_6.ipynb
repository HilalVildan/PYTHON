{
  "nbformat": 4,
  "nbformat_minor": 0,
  "metadata": {
    "colab": {
      "name": "colab_notebook_6.ipynb",
      "provenance": []
    },
    "kernelspec": {
      "name": "python3",
      "display_name": "Python 3"
    },
    "language_info": {
      "name": "python"
    }
  },
  "cells": [
    {
      "cell_type": "markdown",
      "source": [
        "**Python Basics Sesion - 6: Lists**"
      ],
      "metadata": {
        "id": "R0F70owduCG2"
      }
    },
    {
      "cell_type": "code",
      "execution_count": 1,
      "metadata": {
        "colab": {
          "base_uri": "https://localhost:8080/"
        },
        "id": "HJIfi3iOBds7",
        "outputId": "86b536ef-3bc9-4bfd-8e36-f1aa2460e96c"
      },
      "outputs": [
        {
          "output_type": "stream",
          "name": "stdout",
          "text": [
            "['I', ' ', 'q', 'u', 'i', 't', 'e', ' ', 's', 'm', 'o', 'k', 'i', 'n', 'g']\n",
            "['I quite smoking']\n"
          ]
        }
      ],
      "source": [
        "string_1 = \"I quite smoking\"\n",
        "new_list1 = list(string_1)  #çok bir elemanlı bir liste: karakter karakter alıyor\n",
        "print(new_list1)\n",
        "new_list2 = [string_1]      #tek bir elemanlı bir liste\n",
        "print(new_list2)"
      ]
    },
    {
      "cell_type": "code",
      "source": [
        "print(type(new_list1))\n",
        "print(type(new_list2))\n",
        "print(type(string_1))"
      ],
      "metadata": {
        "colab": {
          "base_uri": "https://localhost:8080/"
        },
        "id": "smYXiMw0CNPR",
        "outputId": "2143f9cb-416a-49cf-9c1c-f4490aa8497f"
      },
      "execution_count": 2,
      "outputs": [
        {
          "output_type": "stream",
          "name": "stdout",
          "text": [
            "<class 'list'>\n",
            "<class 'list'>\n",
            "<class 'str'>\n"
          ]
        }
      ]
    },
    {
      "cell_type": "code",
      "source": [
        "print(len(new_list1))\n",
        "print(len(new_list2))"
      ],
      "metadata": {
        "colab": {
          "base_uri": "https://localhost:8080/"
        },
        "id": "7mXCh78SCqD4",
        "outputId": "24b6fda5-25f7-469a-c41c-29a2e082ee57"
      },
      "execution_count": 3,
      "outputs": [
        {
          "output_type": "stream",
          "name": "stdout",
          "text": [
            "15\n",
            "1\n"
          ]
        }
      ]
    },
    {
      "cell_type": "code",
      "source": [
        "mix_list = [11,\"class\", 3.12, True, None,[1,2,3]]\n",
        "print(type(mix_list[4]))  #listenin 4. indsili elemanı"
      ],
      "metadata": {
        "colab": {
          "base_uri": "https://localhost:8080/"
        },
        "id": "F0knqebVDKLL",
        "outputId": "b4276989-feda-479f-e122-4c8ce61d2039"
      },
      "execution_count": 4,
      "outputs": [
        {
          "output_type": "stream",
          "name": "stdout",
          "text": [
            "<class 'NoneType'>\n"
          ]
        }
      ]
    },
    {
      "cell_type": "code",
      "source": [
        "my_list = [\"Joseph\", \"Clarusway\", 2020]\n",
        "new_list1 = list(my_list) ##zaten liste, list sarmalına almak birşey değiştirmedi..\n",
        "new_list2 = [my_list]  ## tek bir eleman: liste\n",
        "print(new_list1)\n",
        "print(len(new_list1))\n",
        "\n",
        "print(new_list2)\n",
        "print(len(new_list2))"
      ],
      "metadata": {
        "colab": {
          "base_uri": "https://localhost:8080/"
        },
        "id": "-HX09WrXD2V7",
        "outputId": "3efa0d31-047f-43dd-e549-f221eee2b667"
      },
      "execution_count": 6,
      "outputs": [
        {
          "output_type": "stream",
          "name": "stdout",
          "text": [
            "['Joseph', 'Clarusway', 2020]\n",
            "3\n",
            "[['Joseph', 'Clarusway', 2020]]\n",
            "1\n"
          ]
        }
      ]
    },
    {
      "cell_type": "code",
      "source": [
        "s = \"2020's hard\"\n",
        "print(list(s))  \n",
        "print(s)\n",
        "list1 = list(s)  ## değişiklik kalıcı: list1 için\n",
        "list2 = [s]\n",
        "\n",
        "print(s)\n",
        "print(list1, \"\\n\", list2)"
      ],
      "metadata": {
        "colab": {
          "base_uri": "https://localhost:8080/"
        },
        "id": "h2paYQ_EFJQ0",
        "outputId": "e9996bdc-4957-4a70-c4c0-1da0604fdbf2"
      },
      "execution_count": 10,
      "outputs": [
        {
          "output_type": "stream",
          "name": "stdout",
          "text": [
            "['2', '0', '2', '0', \"'\", 's', ' ', 'h', 'a', 'r', 'd']\n",
            "2020's hard\n",
            "['2', '0', '2', '0', \"'\", 's', ' ', 'h', 'a', 'r', 'd'] \n",
            " [\"2020's hard\"]\n"
          ]
        }
      ]
    },
    {
      "cell_type": "code",
      "source": [
        "s = \"2020's hard\"\n",
        "print(list(s))  \n",
        "print(s)\n",
        "s = list(s)  ##kalıcı değişiklik\n",
        "print(s)"
      ],
      "metadata": {
        "colab": {
          "base_uri": "https://localhost:8080/"
        },
        "id": "zhsp9j-sGvVY",
        "outputId": "870d0588-c3fa-482f-f90c-4f3ba9a6faeb"
      },
      "execution_count": 11,
      "outputs": [
        {
          "output_type": "stream",
          "name": "stdout",
          "text": [
            "['2', '0', '2', '0', \"'\", 's', ' ', 'h', 'a', 'r', 'd']\n",
            "2020's hard\n",
            "['2', '0', '2', '0', \"'\", 's', ' ', 'h', 'a', 'r', 'd']\n"
          ]
        }
      ]
    },
    {
      "cell_type": "code",
      "source": [
        "dir(list)"
      ],
      "metadata": {
        "colab": {
          "base_uri": "https://localhost:8080/"
        },
        "id": "AbA2rxomHNQS",
        "outputId": "f642b4c0-5d9e-46f8-e1a3-284a2a698d14"
      },
      "execution_count": 13,
      "outputs": [
        {
          "output_type": "execute_result",
          "data": {
            "text/plain": [
              "['__add__',\n",
              " '__class__',\n",
              " '__contains__',\n",
              " '__delattr__',\n",
              " '__delitem__',\n",
              " '__dir__',\n",
              " '__doc__',\n",
              " '__eq__',\n",
              " '__format__',\n",
              " '__ge__',\n",
              " '__getattribute__',\n",
              " '__getitem__',\n",
              " '__gt__',\n",
              " '__hash__',\n",
              " '__iadd__',\n",
              " '__imul__',\n",
              " '__init__',\n",
              " '__init_subclass__',\n",
              " '__iter__',\n",
              " '__le__',\n",
              " '__len__',\n",
              " '__lt__',\n",
              " '__mul__',\n",
              " '__ne__',\n",
              " '__new__',\n",
              " '__reduce__',\n",
              " '__reduce_ex__',\n",
              " '__repr__',\n",
              " '__reversed__',\n",
              " '__rmul__',\n",
              " '__setattr__',\n",
              " '__setitem__',\n",
              " '__sizeof__',\n",
              " '__str__',\n",
              " '__subclasshook__',\n",
              " 'append',\n",
              " 'clear',\n",
              " 'copy',\n",
              " 'count',\n",
              " 'extend',\n",
              " 'index',\n",
              " 'insert',\n",
              " 'pop',\n",
              " 'remove',\n",
              " 'reverse',\n",
              " 'sort']"
            ]
          },
          "metadata": {},
          "execution_count": 13
        }
      ]
    },
    {
      "cell_type": "code",
      "source": [
        "## Boş liste\n",
        "list1 = []\n",
        "list2 = list()"
      ],
      "metadata": {
        "id": "LiRAq-2-Kh2L"
      },
      "execution_count": null,
      "outputs": []
    },
    {
      "cell_type": "code",
      "source": [
        "## append(): liste sonuna item ekleme\n",
        "numbers = [1,4,7]\n",
        "#a[len(a):] = [x]\n",
        "numbers.append(9)  ## 9 u liste sonuna ekler\n",
        "print(numbers)\n",
        "numbers[len(numbers):] = [11]\n",
        "print(numbers)\n",
        "numbers.append('9')\n",
        "print(numbers)"
      ],
      "metadata": {
        "colab": {
          "base_uri": "https://localhost:8080/"
        },
        "id": "xda4UBZWLDk_",
        "outputId": "94e70b72-d305-4023-8cb4-36cf768da7a8"
      },
      "execution_count": 17,
      "outputs": [
        {
          "output_type": "stream",
          "name": "stdout",
          "text": [
            "[1, 4, 7, 9]\n",
            "[1, 4, 7, 9, 11]\n",
            "[1, 4, 7, 9, 11, '9']\n"
          ]
        }
      ]
    },
    {
      "cell_type": "code",
      "source": [
        "empty_list = []\n",
        "empty_list.append(6666)\n",
        "empty_list.append(\"Multiverse\")\n",
        "empty_list.append([0])\n",
        "print(empty_list)\n",
        "print(type(empty_list[2]))  ## ?"
      ],
      "metadata": {
        "colab": {
          "base_uri": "https://localhost:8080/"
        },
        "id": "u56fWq9GMiXr",
        "outputId": "01848270-7c36-4a26-dc39-5659b7211106"
      },
      "execution_count": 20,
      "outputs": [
        {
          "output_type": "stream",
          "name": "stdout",
          "text": [
            "[6666, 'Multiverse', [0]]\n",
            "<class 'list'>\n"
          ]
        }
      ]
    },
    {
      "cell_type": "code",
      "source": [
        "numbers.insert(0,\"99\")  ##0.indisli elemanı \"99\" yapar gerisi sağa öteler\n",
        "print(numbers)"
      ],
      "metadata": {
        "colab": {
          "base_uri": "https://localhost:8080/"
        },
        "id": "9LHrdugHL5u1",
        "outputId": "24d28455-a70f-4623-dc76-ddc0571d2d76"
      },
      "execution_count": 18,
      "outputs": [
        {
          "output_type": "stream",
          "name": "stdout",
          "text": [
            "['99', 1, 4, 7, 9, 11, '9']\n"
          ]
        }
      ]
    },
    {
      "cell_type": "code",
      "source": [
        "liste = []\n",
        "liste.append(1)\n",
        "liste.append(2)\n",
        "liste.append(3)\n",
        "liste.append(4)\n",
        "print(liste)"
      ],
      "metadata": {
        "colab": {
          "base_uri": "https://localhost:8080/"
        },
        "id": "bA08hjflN4Ki",
        "outputId": "dd9bf8df-12e0-4051-a563-452e93b4c0d5"
      },
      "execution_count": 21,
      "outputs": [
        {
          "output_type": "stream",
          "name": "stdout",
          "text": [
            "[1, 2, 3, 4]\n"
          ]
        }
      ]
    },
    {
      "cell_type": "code",
      "source": [
        "## range(): belirtilen aralıkta değer üretiyor\n",
        "liste = list(range(1,5))\n",
        "print(liste)"
      ],
      "metadata": {
        "colab": {
          "base_uri": "https://localhost:8080/"
        },
        "id": "3p8lPJrBN8l_",
        "outputId": "4f0a9cf1-a6ab-4897-b94a-e7003a8d374d"
      },
      "execution_count": 22,
      "outputs": [
        {
          "output_type": "stream",
          "name": "stdout",
          "text": [
            "[1, 2, 3, 4]\n"
          ]
        }
      ]
    },
    {
      "cell_type": "code",
      "source": [
        "numbers = [1,4,7]\n",
        "numbers.insert(2,9)\n",
        "numbers.insert(2,6)\n",
        "print(numbers)"
      ],
      "metadata": {
        "colab": {
          "base_uri": "https://localhost:8080/"
        },
        "id": "vyHZWCR7Ootr",
        "outputId": "0ed48441-cce0-49b4-cbd5-ffaa322d5094"
      },
      "execution_count": 23,
      "outputs": [
        {
          "output_type": "stream",
          "name": "stdout",
          "text": [
            "[1, 4, 6, 9, 7]\n"
          ]
        }
      ]
    },
    {
      "cell_type": "code",
      "source": [
        "city = [\"London\", \"Berlin\", \"Tokyo\", \"Ankara\", \"Ottowa\"]\n",
        "city.insert(2, \"Stockholm\")\n",
        "print(city)"
      ],
      "metadata": {
        "colab": {
          "base_uri": "https://localhost:8080/"
        },
        "id": "4EMh-vuXPAzk",
        "outputId": "98e58dd7-0408-4097-8a47-61ad0f3c4806"
      },
      "execution_count": 24,
      "outputs": [
        {
          "output_type": "stream",
          "name": "stdout",
          "text": [
            "['London', 'Berlin', 'Stockholm', 'Tokyo', 'Ankara', 'Ottowa']\n"
          ]
        }
      ]
    },
    {
      "cell_type": "code",
      "source": [
        "liste = [1,2,3,4]\n",
        "liste.insert(len(liste),5)\n",
        "print(liste)"
      ],
      "metadata": {
        "colab": {
          "base_uri": "https://localhost:8080/"
        },
        "id": "K5Fj_E7lQUAH",
        "outputId": "bfaa2abd-1feb-433f-d2e6-d66a56ee1ac6"
      },
      "execution_count": 25,
      "outputs": [
        {
          "output_type": "stream",
          "name": "stdout",
          "text": [
            "[1, 2, 3, 4, 5]\n"
          ]
        }
      ]
    },
    {
      "cell_type": "code",
      "source": [
        "liste1 = [1,2,3,4]\n",
        "liste2 = [5,6,7,8]\n",
        "liste1.append(liste2)\n",
        "print(liste1)\n",
        "                       "
      ],
      "metadata": {
        "colab": {
          "base_uri": "https://localhost:8080/"
        },
        "id": "mePtjylbQtj9",
        "outputId": "bf224993-16e1-4692-b989-52d5090a735d"
      },
      "execution_count": 30,
      "outputs": [
        {
          "output_type": "stream",
          "name": "stdout",
          "text": [
            "[1, 2, 3, 4, [5, 6, 7, 8]]\n"
          ]
        }
      ]
    },
    {
      "cell_type": "code",
      "source": [
        "liste1 = [1,2,3,4]\n",
        "liste2 = [5,6,7,8]\n",
        "liste1.extend(liste2)\n",
        "print(liste1)"
      ],
      "metadata": {
        "colab": {
          "base_uri": "https://localhost:8080/"
        },
        "id": "Kefzex6GRCD2",
        "outputId": "bb924a46-b076-4ea5-aa50-77d6e8af9338"
      },
      "execution_count": 31,
      "outputs": [
        {
          "output_type": "stream",
          "name": "stdout",
          "text": [
            "[1, 2, 3, 4, 5, 6, 7, 8]\n"
          ]
        }
      ]
    },
    {
      "cell_type": "markdown",
      "source": [
        "Listeden eleman silme metotlar: remove(), pop(), clear(), del"
      ],
      "metadata": {
        "id": "lk2gV1enSOip"
      }
    },
    {
      "cell_type": "code",
      "source": [
        "numbers = [1, 4, 7, 9]\n",
        "numbers.remove(7)  #7 yi sil\n",
        "print(numbers)"
      ],
      "metadata": {
        "colab": {
          "base_uri": "https://localhost:8080/"
        },
        "id": "iccCgXVWSBBG",
        "outputId": "9eec5c12-d40a-487a-8ac4-6c825f256617"
      },
      "execution_count": 32,
      "outputs": [
        {
          "output_type": "stream",
          "name": "stdout",
          "text": [
            "[1, 4, 9]\n"
          ]
        }
      ]
    },
    {
      "cell_type": "code",
      "source": [
        "numbers = [1, 4, 7, 9]\n",
        "numbers.pop(2)  #7 yi sil\n",
        "print(numbers)"
      ],
      "metadata": {
        "colab": {
          "base_uri": "https://localhost:8080/"
        },
        "id": "ooI0X34KSNwi",
        "outputId": "66dea576-e982-4e0b-b7a4-ace4eb969de4"
      },
      "execution_count": 33,
      "outputs": [
        {
          "output_type": "stream",
          "name": "stdout",
          "text": [
            "[1, 4, 9]\n"
          ]
        }
      ]
    },
    {
      "cell_type": "code",
      "source": [
        "numbers.clear()  ##listenin tamamını siler\n",
        "print(numbers)"
      ],
      "metadata": {
        "colab": {
          "base_uri": "https://localhost:8080/"
        },
        "id": "ZeQSMrcwSclb",
        "outputId": "09bdd90d-0917-4e19-d1fa-198da3277bec"
      },
      "execution_count": 34,
      "outputs": [
        {
          "output_type": "stream",
          "name": "stdout",
          "text": [
            "[]\n"
          ]
        }
      ]
    },
    {
      "cell_type": "code",
      "source": [
        "numbers = [1, 4, 7, 9]\n",
        "del numbers[2]  #7 yi sil\n",
        "print(numbers)"
      ],
      "metadata": {
        "colab": {
          "base_uri": "https://localhost:8080/"
        },
        "id": "F-Gd1yruSk4p",
        "outputId": "2c9ff324-b764-4cbf-c85a-6af997737dfb"
      },
      "execution_count": 35,
      "outputs": [
        {
          "output_type": "stream",
          "name": "stdout",
          "text": [
            "[1, 4, 9]\n"
          ]
        }
      ]
    },
    {
      "cell_type": "code",
      "source": [
        "del numbers[:]  ## listenin tamamını sil\n",
        "print(numbers)"
      ],
      "metadata": {
        "colab": {
          "base_uri": "https://localhost:8080/"
        },
        "id": "csRnaiLASwqG",
        "outputId": "ec21634e-811b-4867-e14c-c8d62194c6e2"
      },
      "execution_count": 36,
      "outputs": [
        {
          "output_type": "stream",
          "name": "stdout",
          "text": [
            "[]\n"
          ]
        }
      ]
    },
    {
      "cell_type": "code",
      "source": [
        "numbers = [1, 4, 7, 9]\n",
        "numbers.pop()  #Belirtilmez ise listenin son elemanınını siler\n",
        "print(numbers)"
      ],
      "metadata": {
        "colab": {
          "base_uri": "https://localhost:8080/"
        },
        "id": "z0vmX5u1S_GX",
        "outputId": "6ad11b91-c28c-4449-9aa6-55c82ba79849"
      },
      "execution_count": 38,
      "outputs": [
        {
          "output_type": "stream",
          "name": "stdout",
          "text": [
            "[1, 4, 7]\n"
          ]
        }
      ]
    },
    {
      "cell_type": "code",
      "source": [
        "numbers = [1, 4, 7, 9]\n",
        "print(numbers.pop())  #Belirtilmez ise listenin son elemanınını siler\n",
        "print(numbers)"
      ],
      "metadata": {
        "colab": {
          "base_uri": "https://localhost:8080/"
        },
        "id": "7DCGfKVUTg0P",
        "outputId": "bdbfa29c-b7cf-4ece-e45b-73bcb3c16284"
      },
      "execution_count": 39,
      "outputs": [
        {
          "output_type": "stream",
          "name": "stdout",
          "text": [
            "9\n",
            "[1, 4, 7]\n"
          ]
        }
      ]
    },
    {
      "cell_type": "code",
      "source": [
        "numbers = [1, 4, 7, 9]\n",
        "print(numbers.remove(7))  #7 yi siler ama sildiğini göstermez...\n",
        "print(numbers)"
      ],
      "metadata": {
        "colab": {
          "base_uri": "https://localhost:8080/"
        },
        "id": "kUKd6lDUTplp",
        "outputId": "d21d2576-67e3-4140-a52a-199901d32fc8"
      },
      "execution_count": 40,
      "outputs": [
        {
          "output_type": "stream",
          "name": "stdout",
          "text": [
            "None\n",
            "[1, 4, 9]\n"
          ]
        }
      ]
    },
    {
      "cell_type": "markdown",
      "source": [
        "Liste Elemanlarını Sıralama"
      ],
      "metadata": {
        "id": "qvzqyrtgUPr_"
      }
    },
    {
      "cell_type": "code",
      "source": [
        " listem = [4, 7, 1, 9]\n",
        " listem.sort()  ##küçükten büyüğe sıralar\n",
        " print(listem) "
      ],
      "metadata": {
        "colab": {
          "base_uri": "https://localhost:8080/"
        },
        "id": "2Zy3W4VlUSUo",
        "outputId": "581010d8-4079-42f8-9a7e-9174987ff04a"
      },
      "execution_count": 43,
      "outputs": [
        {
          "output_type": "stream",
          "name": "stdout",
          "text": [
            "[1, 4, 7, 9]\n"
          ]
        }
      ]
    },
    {
      "cell_type": "code",
      "source": [
        "listem.append(8)\n",
        "print(liste)"
      ],
      "metadata": {
        "colab": {
          "base_uri": "https://localhost:8080/"
        },
        "id": "1ODw3MpeUhux",
        "outputId": "82f91959-a849-4b8c-950b-0ddb4eb06734"
      },
      "execution_count": 45,
      "outputs": [
        {
          "output_type": "stream",
          "name": "stdout",
          "text": [
            "[1, 4, 7, 9, 8]\n"
          ]
        }
      ]
    },
    {
      "cell_type": "code",
      "source": [
        "listem.sort(reverse=True)  ##büyükten küçüğe sıralar\n",
        "print(listem)"
      ],
      "metadata": {
        "colab": {
          "base_uri": "https://localhost:8080/"
        },
        "id": "hi0-d2s5XM8a",
        "outputId": "b31b299a-61b9-4611-e9dc-07bb90018b51"
      },
      "execution_count": 46,
      "outputs": [
        {
          "output_type": "stream",
          "name": "stdout",
          "text": [
            "[9, 8, 8, 7, 4, 1]\n"
          ]
        }
      ]
    },
    {
      "cell_type": "code",
      "source": [
        "text = [\"ali\", \"veli\", \"ala\", \"hans\", \"Meryem\"]\n",
        "text.sort()  ##ASCII kod tablosuna göre sıralıyor\n",
        "print(text)"
      ],
      "metadata": {
        "colab": {
          "base_uri": "https://localhost:8080/"
        },
        "id": "G0aqV8CKXhg4",
        "outputId": "e0490839-98bd-4041-e6f6-6900145ed82a"
      },
      "execution_count": 47,
      "outputs": [
        {
          "output_type": "stream",
          "name": "stdout",
          "text": [
            "['Meryem', 'ala', 'ali', 'hans', 'veli']\n"
          ]
        }
      ]
    },
    {
      "cell_type": "code",
      "source": [
        "mix_list = [\"a\", 4, 1, 5, \"z\"]\n",
        "mix_list.sort()  ## Farklı tipte verileri sıralamaz\n",
        "print(mix_list)"
      ],
      "metadata": {
        "colab": {
          "base_uri": "https://localhost:8080/",
          "height": 201
        },
        "id": "V1iAoPD5YIKs",
        "outputId": "7e4b94a5-d6af-4bcc-862a-e580236b6a3d"
      },
      "execution_count": 48,
      "outputs": [
        {
          "output_type": "error",
          "ename": "TypeError",
          "evalue": "ignored",
          "traceback": [
            "\u001b[0;31m---------------------------------------------------------------------------\u001b[0m",
            "\u001b[0;31mTypeError\u001b[0m                                 Traceback (most recent call last)",
            "\u001b[0;32m<ipython-input-48-4f8f4e55acf9>\u001b[0m in \u001b[0;36m<module>\u001b[0;34m()\u001b[0m\n\u001b[1;32m      1\u001b[0m \u001b[0mmix_list\u001b[0m \u001b[0;34m=\u001b[0m \u001b[0;34m[\u001b[0m\u001b[0;34m\"a\"\u001b[0m\u001b[0;34m,\u001b[0m \u001b[0;36m4\u001b[0m\u001b[0;34m,\u001b[0m \u001b[0;36m1\u001b[0m\u001b[0;34m,\u001b[0m \u001b[0;36m5\u001b[0m\u001b[0;34m,\u001b[0m \u001b[0;34m\"z\"\u001b[0m\u001b[0;34m]\u001b[0m\u001b[0;34m\u001b[0m\u001b[0;34m\u001b[0m\u001b[0m\n\u001b[0;32m----> 2\u001b[0;31m \u001b[0mmix_list\u001b[0m\u001b[0;34m.\u001b[0m\u001b[0msort\u001b[0m\u001b[0;34m(\u001b[0m\u001b[0;34m)\u001b[0m\u001b[0;34m\u001b[0m\u001b[0;34m\u001b[0m\u001b[0m\n\u001b[0m\u001b[1;32m      3\u001b[0m \u001b[0mprint\u001b[0m\u001b[0;34m(\u001b[0m\u001b[0mmix_list\u001b[0m\u001b[0;34m)\u001b[0m\u001b[0;34m\u001b[0m\u001b[0;34m\u001b[0m\u001b[0m\n",
            "\u001b[0;31mTypeError\u001b[0m: '<' not supported between instances of 'int' and 'str'"
          ]
        }
      ]
    },
    {
      "cell_type": "code",
      "source": [
        " listem = [4, 7, 1, 9]\n",
        " print(listem.sort())  ##None ? in place sıralama yapar"
      ],
      "metadata": {
        "colab": {
          "base_uri": "https://localhost:8080/"
        },
        "id": "ZQUT_LyOZBUg",
        "outputId": "3f141708-79f2-4f09-ddd4-4ada025670c6"
      },
      "execution_count": 49,
      "outputs": [
        {
          "output_type": "stream",
          "name": "stdout",
          "text": [
            "None\n"
          ]
        }
      ]
    },
    {
      "cell_type": "code",
      "source": [
        " listem = [4, 7, 1, 9]\n",
        " print(sorted(listem))  ##sorted()\n",
        " print(listem)"
      ],
      "metadata": {
        "colab": {
          "base_uri": "https://localhost:8080/"
        },
        "id": "G_0vW085ZUUy",
        "outputId": "9b16d321-cb97-4aa3-86d4-7f05e54e37b6"
      },
      "execution_count": 52,
      "outputs": [
        {
          "output_type": "stream",
          "name": "stdout",
          "text": [
            "[1, 4, 7, 9]\n",
            "[4, 7, 1, 9]\n"
          ]
        }
      ]
    },
    {
      "cell_type": "code",
      "source": [
        " listem = [4, 7, 1, 9]\n",
        " L2 = sorted(listem)  ## değişikliği L2 ye yansıtıyoruz\n",
        " print(L2)\n",
        " print(listem)"
      ],
      "metadata": {
        "colab": {
          "base_uri": "https://localhost:8080/"
        },
        "id": "F2eRFN71ZlRI",
        "outputId": "708b7c93-a418-4fff-a770-fb51578c1ec1"
      },
      "execution_count": 54,
      "outputs": [
        {
          "output_type": "stream",
          "name": "stdout",
          "text": [
            "[1, 4, 7, 9]\n",
            "[4, 7, 1, 9]\n"
          ]
        }
      ]
    },
    {
      "cell_type": "code",
      "source": [
        "L1 = ['one', 'four', 'nine']\n",
        "L2 = ['*-', '@', 'False', \"#1\"]  #ASCII code table sırasına bakarak sıralar\n",
        "L3 = [True, False]  #False:0, True:1\n",
        "L4 = [[3], [44], [-12]]\n",
        "L1.sort()\n",
        "print(L1)"
      ],
      "metadata": {
        "colab": {
          "base_uri": "https://localhost:8080/"
        },
        "id": "QUYgHavpajmh",
        "outputId": "014251d9-f3c1-4d43-b5e0-3b7561e8b3b5"
      },
      "execution_count": 59,
      "outputs": [
        {
          "output_type": "stream",
          "name": "stdout",
          "text": [
            "['four', 'nine', 'one']\n"
          ]
        }
      ]
    },
    {
      "cell_type": "code",
      "source": [
        "L2.sort()\n",
        "print(L2)"
      ],
      "metadata": {
        "colab": {
          "base_uri": "https://localhost:8080/"
        },
        "id": "b2ujmx7RazMR",
        "outputId": "de858605-e449-4f2d-c0c7-cc04e0b6d5e8"
      },
      "execution_count": 60,
      "outputs": [
        {
          "output_type": "stream",
          "name": "stdout",
          "text": [
            "['#1', '*-', '@', 'False']\n"
          ]
        }
      ]
    },
    {
      "cell_type": "code",
      "source": [
        "L3.sort()\n",
        "print(L3)"
      ],
      "metadata": {
        "colab": {
          "base_uri": "https://localhost:8080/"
        },
        "id": "ka-YXyPUbXix",
        "outputId": "f8195e1e-cba3-4fc3-b608-380c6e3f82b2"
      },
      "execution_count": 61,
      "outputs": [
        {
          "output_type": "stream",
          "name": "stdout",
          "text": [
            "[False, True]\n"
          ]
        }
      ]
    },
    {
      "cell_type": "code",
      "source": [
        "L4.sort()\n",
        "print(L4)"
      ],
      "metadata": {
        "colab": {
          "base_uri": "https://localhost:8080/"
        },
        "id": "28bsdNFlbikv",
        "outputId": "49a3884e-c48a-4792-bcb6-77dde5ae524b"
      },
      "execution_count": 62,
      "outputs": [
        {
          "output_type": "stream",
          "name": "stdout",
          "text": [
            "[[-12], [3], [44]]\n"
          ]
        }
      ]
    },
    {
      "cell_type": "code",
      "source": [
        "L1 = ['one', 'four', 'nine']  #len():listenin eleman sayısı\n",
        "print(len(L1))"
      ],
      "metadata": {
        "colab": {
          "base_uri": "https://localhost:8080/"
        },
        "id": "WmXdAKPSb_mN",
        "outputId": "bf2741a9-1091-4260-d9c2-3f00982b1785"
      },
      "execution_count": 63,
      "outputs": [
        {
          "output_type": "stream",
          "name": "stdout",
          "text": [
            "3\n"
          ]
        }
      ]
    },
    {
      "cell_type": "code",
      "source": [
        "text = 'one four nine'  #count('x'): x elemanın sayısı\n",
        "listem = list(text)\n",
        "print(listem.count('o'))\n",
        "print(listem)"
      ],
      "metadata": {
        "colab": {
          "base_uri": "https://localhost:8080/"
        },
        "id": "AMP9f7m1cI2m",
        "outputId": "335077c0-ddbe-4ff5-fca0-82b0c5e3f7f3"
      },
      "execution_count": 65,
      "outputs": [
        {
          "output_type": "stream",
          "name": "stdout",
          "text": [
            "2\n",
            "['o', 'n', 'e', ' ', 'f', 'o', 'u', 'r', ' ', 'n', 'i', 'n', 'e']\n"
          ]
        }
      ]
    },
    {
      "cell_type": "code",
      "source": [
        "## Listeyi text(stringe) dönüştürme\n",
        "text2 = ''.join(listem)\n",
        "print(text2)"
      ],
      "metadata": {
        "colab": {
          "base_uri": "https://localhost:8080/"
        },
        "id": "l7AShM2GclT4",
        "outputId": "efbabb39-424b-45fe-b818-8d03d4f377f3"
      },
      "execution_count": 67,
      "outputs": [
        {
          "output_type": "stream",
          "name": "stdout",
          "text": [
            "one four nine\n"
          ]
        }
      ]
    },
    {
      "cell_type": "markdown",
      "source": [
        "Listeyi ters çevirme işlemi: reverse()"
      ],
      "metadata": {
        "id": "guhAHDIxd0gi"
      }
    },
    {
      "cell_type": "code",
      "source": [
        "fruits = ['orange', 'apple', 'pear', 'banana', 'kiwi', 'apple', 'banana']\n",
        "fruits.reverse()\n",
        "print(fruits)"
      ],
      "metadata": {
        "colab": {
          "base_uri": "https://localhost:8080/"
        },
        "id": "FwVfCs-0dpXi",
        "outputId": "a6bdf5a8-2a82-487d-b0ff-86133f36d9d8"
      },
      "execution_count": 68,
      "outputs": [
        {
          "output_type": "stream",
          "name": "stdout",
          "text": [
            "['banana', 'apple', 'kiwi', 'banana', 'pear', 'apple', 'orange']\n"
          ]
        }
      ]
    },
    {
      "cell_type": "markdown",
      "source": [
        "Liste elemanlarını başka bir listeye kopyalama: copy()"
      ],
      "metadata": {
        "id": "tnOlZQxdd-aE"
      }
    },
    {
      "cell_type": "code",
      "source": [
        "meyve = fruits.copy()\n",
        "print(meyve)"
      ],
      "metadata": {
        "colab": {
          "base_uri": "https://localhost:8080/"
        },
        "id": "yyz-MUU4d9S1",
        "outputId": "80dfd56b-db1b-4059-91d1-400c5880bd32"
      },
      "execution_count": 69,
      "outputs": [
        {
          "output_type": "stream",
          "name": "stdout",
          "text": [
            "['banana', 'apple', 'kiwi', 'banana', 'pear', 'apple', 'orange']\n"
          ]
        }
      ]
    },
    {
      "cell_type": "code",
      "source": [
        "meyve2 = fruits[:]  ## tüm elemanları kopyala\n",
        "print(meyve2)"
      ],
      "metadata": {
        "colab": {
          "base_uri": "https://localhost:8080/"
        },
        "id": "r5xASrqHeLvH",
        "outputId": "4cb75e15-c5ef-4eea-bb83-a786ff8bab98"
      },
      "execution_count": 70,
      "outputs": [
        {
          "output_type": "stream",
          "name": "stdout",
          "text": [
            "['banana', 'apple', 'kiwi', 'banana', 'pear', 'apple', 'orange']\n"
          ]
        }
      ]
    },
    {
      "cell_type": "code",
      "source": [
        "print(meyve2.pop())"
      ],
      "metadata": {
        "colab": {
          "base_uri": "https://localhost:8080/"
        },
        "id": "UIDqIfeeeZwp",
        "outputId": "b39b8995-51c3-4927-cc13-16cd6fb69155"
      },
      "execution_count": 71,
      "outputs": [
        {
          "output_type": "stream",
          "name": "stdout",
          "text": [
            "orange\n"
          ]
        }
      ]
    },
    {
      "cell_type": "code",
      "source": [
        "print(meyve2)"
      ],
      "metadata": {
        "colab": {
          "base_uri": "https://localhost:8080/"
        },
        "id": "sXHCHlvjehFE",
        "outputId": "5e8452b3-d6fd-4779-b669-e3ab7d2d5857"
      },
      "execution_count": 72,
      "outputs": [
        {
          "output_type": "stream",
          "name": "stdout",
          "text": [
            "['banana', 'apple', 'kiwi', 'banana', 'pear', 'apple']\n"
          ]
        }
      ]
    },
    {
      "cell_type": "code",
      "source": [
        "apple_indis = meyve2.index(\"apple\")\n",
        "print(apple_indis)"
      ],
      "metadata": {
        "colab": {
          "base_uri": "https://localhost:8080/"
        },
        "id": "UuD91BuPe8O0",
        "outputId": "ba9484f5-1f63-47ac-c1fb-455d83bdaa2b"
      },
      "execution_count": 73,
      "outputs": [
        {
          "output_type": "stream",
          "name": "stdout",
          "text": [
            "1\n"
          ]
        }
      ]
    },
    {
      "cell_type": "code",
      "source": [
        "apple_indis = meyve2.index(\"apple\", 2)\n",
        "print(apple_indis)"
      ],
      "metadata": {
        "colab": {
          "base_uri": "https://localhost:8080/"
        },
        "id": "bFz-2FNlfJi7",
        "outputId": "e6f503e2-82c4-43d2-84a8-c283db2fd4f4"
      },
      "execution_count": 74,
      "outputs": [
        {
          "output_type": "stream",
          "name": "stdout",
          "text": [
            "5\n"
          ]
        }
      ]
    },
    {
      "cell_type": "code",
      "source": [
        "## A listem 0,9 sayılardan oluşuyor, A yı B'ye tersten kopyalayan program...\n",
        "A = list(range(0,10))\n",
        "print(A)\n",
        "B = A[::-1]\n",
        "print(B)"
      ],
      "metadata": {
        "colab": {
          "base_uri": "https://localhost:8080/"
        },
        "id": "SskZI3cmfUcS",
        "outputId": "2a986f69-a01c-4e37-9d51-08977d3c4765"
      },
      "execution_count": 76,
      "outputs": [
        {
          "output_type": "stream",
          "name": "stdout",
          "text": [
            "[0, 1, 2, 3, 4, 5, 6, 7, 8, 9]\n",
            "[9, 8, 7, 6, 5, 4, 3, 2, 1, 0]\n"
          ]
        }
      ]
    },
    {
      "cell_type": "code",
      "source": [
        "## A listem 0,9 sayılardan oluşuyor, A yı B'ye tersten kopyalayan program...\n",
        "A = list(range(0,10))\n",
        "print(A)\n",
        "B = A.copy()\n",
        "B.reverse()\n",
        "print(B)"
      ],
      "metadata": {
        "colab": {
          "base_uri": "https://localhost:8080/"
        },
        "id": "4M1QcQOzjodQ",
        "outputId": "edcf858f-b5a9-446e-e7b4-c1c3df6aca4a"
      },
      "execution_count": 79,
      "outputs": [
        {
          "output_type": "stream",
          "name": "stdout",
          "text": [
            "[0, 1, 2, 3, 4, 5, 6, 7, 8, 9]\n",
            "[9, 8, 7, 6, 5, 4, 3, 2, 1, 0]\n"
          ]
        }
      ]
    },
    {
      "cell_type": "code",
      "source": [
        "print(A)"
      ],
      "metadata": {
        "colab": {
          "base_uri": "https://localhost:8080/"
        },
        "id": "-sq7S29yj_fk",
        "outputId": "f9f1868e-1de6-45a8-fb05-177635fca262"
      },
      "execution_count": 80,
      "outputs": [
        {
          "output_type": "stream",
          "name": "stdout",
          "text": [
            "[0, 1, 2, 3, 4, 5, 6, 7, 8, 9]\n"
          ]
        }
      ]
    },
    {
      "cell_type": "code",
      "source": [
        "city = [\"Tokyo\", \"London\", \"Beyrut\", \"Los Angeles\"]\n",
        "city[1] = \"İstanbul\"  ##1. indisli elemanı doğrudan değiştirir\n",
        "print(city)\n",
        "## List yapısı mutable özelliktedir."
      ],
      "metadata": {
        "colab": {
          "base_uri": "https://localhost:8080/"
        },
        "id": "ZmO0NU8_ncMk",
        "outputId": "b4052513-3e96-4203-8811-99ee74869c77"
      },
      "execution_count": 81,
      "outputs": [
        {
          "output_type": "stream",
          "name": "stdout",
          "text": [
            "['Tokyo', 'İstanbul', 'Beyrut', 'Los Angeles']\n"
          ]
        }
      ]
    },
    {
      "cell_type": "code",
      "source": [
        "city = [\"Tokyo\", \"London\", \"Beyrut\", \"Los Angeles\"]\n",
        "city.insert(1,\"İstanbul\")  ##1. indisli elemanı \"İstanbul\" yap diğerleri kaydır\n",
        "print(city)"
      ],
      "metadata": {
        "colab": {
          "base_uri": "https://localhost:8080/"
        },
        "id": "zdnjIR-Knxkd",
        "outputId": "b150aa52-5e8f-49e8-b992-76a2d0ce11a9"
      },
      "execution_count": 82,
      "outputs": [
        {
          "output_type": "stream",
          "name": "stdout",
          "text": [
            "['Tokyo', 'İstanbul', 'London', 'Beyrut', 'Los Angeles']\n"
          ]
        }
      ]
    },
    {
      "cell_type": "code",
      "source": [
        "print(format(\"Welcome\", \"10s\"), end = '#') \n",
        "print(format(111, \"4d\"), end = '#') \n",
        "print(format(924.656, \"3.2f\")) "
      ],
      "metadata": {
        "colab": {
          "base_uri": "https://localhost:8080/"
        },
        "id": "lQDhjIhdoR9X",
        "outputId": "df1bd3a6-c4a5-47b9-8fe8-eb1c452473d1"
      },
      "execution_count": 83,
      "outputs": [
        {
          "output_type": "stream",
          "name": "stdout",
          "text": [
            "Welcome   # 111#924.66\n"
          ]
        }
      ]
    },
    {
      "cell_type": "code",
      "source": [
        "print(format(\"Welcome\", \"10s\")) \n",
        "print(format(111, \"4d\")) \n",
        "print(format(924.656, \"3.2f\"))"
      ],
      "metadata": {
        "colab": {
          "base_uri": "https://localhost:8080/"
        },
        "id": "QgXjuAXVpP6X",
        "outputId": "c210b762-2cdc-4e34-ce9d-8dcc342be0f6"
      },
      "execution_count": 84,
      "outputs": [
        {
          "output_type": "stream",
          "name": "stdout",
          "text": [
            "Welcome   \n",
            " 111\n",
            "924.66\n"
          ]
        }
      ]
    },
    {
      "cell_type": "code",
      "source": [
        "'{:<30}'.format('left aligned')"
      ],
      "metadata": {
        "colab": {
          "base_uri": "https://localhost:8080/",
          "height": 35
        },
        "id": "SW35PLB-piBt",
        "outputId": "0f2a2951-a4ce-451d-ca2a-62629e1426be"
      },
      "execution_count": 89,
      "outputs": [
        {
          "output_type": "execute_result",
          "data": {
            "text/plain": [
              "'left aligned                  '"
            ],
            "application/vnd.google.colaboratory.intrinsic+json": {
              "type": "string"
            }
          },
          "metadata": {},
          "execution_count": 89
        }
      ]
    },
    {
      "cell_type": "code",
      "source": [
        "format('left aligned', \"<30\")"
      ],
      "metadata": {
        "colab": {
          "base_uri": "https://localhost:8080/",
          "height": 35
        },
        "id": "stB_EYZtpsEI",
        "outputId": "0e9189e8-245a-498b-b598-09d33044f9c7"
      },
      "execution_count": 87,
      "outputs": [
        {
          "output_type": "execute_result",
          "data": {
            "text/plain": [
              "'left aligned                  '"
            ],
            "application/vnd.google.colaboratory.intrinsic+json": {
              "type": "string"
            }
          },
          "metadata": {},
          "execution_count": 87
        }
      ]
    },
    {
      "cell_type": "code",
      "source": [
        "'{:>30}'.format('right aligned')"
      ],
      "metadata": {
        "colab": {
          "base_uri": "https://localhost:8080/",
          "height": 35
        },
        "id": "jgvOL-App9pN",
        "outputId": "39cff4e5-dc9f-4c2a-b9ea-6cfc3aba4fd0"
      },
      "execution_count": 90,
      "outputs": [
        {
          "output_type": "execute_result",
          "data": {
            "text/plain": [
              "'                 right aligned'"
            ],
            "application/vnd.google.colaboratory.intrinsic+json": {
              "type": "string"
            }
          },
          "metadata": {},
          "execution_count": 90
        }
      ]
    },
    {
      "cell_type": "code",
      "source": [
        "format('right aligned', \">30s\")"
      ],
      "metadata": {
        "colab": {
          "base_uri": "https://localhost:8080/",
          "height": 35
        },
        "id": "Hik7ZRlXqEYv",
        "outputId": "335edf15-db63-408b-84a8-7048f8de0b97"
      },
      "execution_count": 97,
      "outputs": [
        {
          "output_type": "execute_result",
          "data": {
            "text/plain": [
              "'                 right aligned'"
            ],
            "application/vnd.google.colaboratory.intrinsic+json": {
              "type": "string"
            }
          },
          "metadata": {},
          "execution_count": 97
        }
      ]
    },
    {
      "cell_type": "code",
      "source": [
        "'{:^30}'.format('center aligned')"
      ],
      "metadata": {
        "colab": {
          "base_uri": "https://localhost:8080/",
          "height": 35
        },
        "id": "bm4HhnRGqeuv",
        "outputId": "463b6dc2-2640-42f0-a6a7-43aa82e373ad"
      },
      "execution_count": 99,
      "outputs": [
        {
          "output_type": "execute_result",
          "data": {
            "text/plain": [
              "'        center aligned        '"
            ],
            "application/vnd.google.colaboratory.intrinsic+json": {
              "type": "string"
            }
          },
          "metadata": {},
          "execution_count": 99
        }
      ]
    },
    {
      "cell_type": "code",
      "source": [
        "format('center aligned', \"^30s\")"
      ],
      "metadata": {
        "colab": {
          "base_uri": "https://localhost:8080/",
          "height": 35
        },
        "id": "7r2sRmF6qmV7",
        "outputId": "adc167f4-5959-4172-ea0a-4874bda0da1f"
      },
      "execution_count": 100,
      "outputs": [
        {
          "output_type": "execute_result",
          "data": {
            "text/plain": [
              "'        center aligned        '"
            ],
            "application/vnd.google.colaboratory.intrinsic+json": {
              "type": "string"
            }
          },
          "metadata": {},
          "execution_count": 100
        }
      ]
    },
    {
      "cell_type": "code",
      "source": [
        "format('center aligned', \"$^30s\")"
      ],
      "metadata": {
        "colab": {
          "base_uri": "https://localhost:8080/",
          "height": 35
        },
        "id": "gRFKUKlxqvSO",
        "outputId": "ab2ae942-58e8-4869-ffdc-edfadea61853"
      },
      "execution_count": 101,
      "outputs": [
        {
          "output_type": "execute_result",
          "data": {
            "text/plain": [
              "'$$$$$$$$center aligned$$$$$$$$'"
            ],
            "application/vnd.google.colaboratory.intrinsic+json": {
              "type": "string"
            }
          },
          "metadata": {},
          "execution_count": 101
        }
      ]
    },
    {
      "cell_type": "code",
      "source": [
        "\"\"\"Q:Verilen bir string ifadenin dosya uzantısına bakarak ‘.py’ (bir Python programı) veya '.ipynb' (Jupyter notebook)\n",
        "olup olmadığını söyleyen programı kodlayınız?\"\"\""
      ],
      "metadata": {
        "id": "6Kui0p2KrA9z"
      },
      "execution_count": null,
      "outputs": []
    },
    {
      "cell_type": "code",
      "source": [
        "file = \"dosyam.ipynb\"\n",
        "# file2 = \"dosyam.doc\"\n",
        "nokta = file.find(\".\") ##index\n",
        "uzantı = file[nokta+1:]\n",
        "print(uzantı)\n",
        "print(uzantı==\"py\" and \"Python dosyası\" or \"Python dosyası değil\")\n"
      ],
      "metadata": {
        "colab": {
          "base_uri": "https://localhost:8080/"
        },
        "id": "cgF2agF0rKxq",
        "outputId": "978e7ac0-d77c-4531-f433-4866f7ea0da3"
      },
      "execution_count": 107,
      "outputs": [
        {
          "output_type": "stream",
          "name": "stdout",
          "text": [
            "ipynb\n",
            "Python dosyası değil\n"
          ]
        }
      ]
    },
    {
      "cell_type": "code",
      "source": [
        "file = \"dosyam.ipynb\"\n",
        "# file2 = \"dosyam.doc\"\n",
        "nokta = file.find(\".\") ##index\n",
        "uzantı = file[nokta+1:]\n",
        "print(uzantı)\n",
        "print((uzantı==\"py\" or uzantı==\"ipynb\") and \"Python dosyası\" or \"Python dosyası değil\")"
      ],
      "metadata": {
        "colab": {
          "base_uri": "https://localhost:8080/"
        },
        "id": "oP3noODPsTrM",
        "outputId": "30287801-1f44-477d-808e-3d14816c6ddd"
      },
      "execution_count": 108,
      "outputs": [
        {
          "output_type": "stream",
          "name": "stdout",
          "text": [
            "ipynb\n",
            "Python dosyası\n"
          ]
        }
      ]
    },
    {
      "cell_type": "code",
      "source": [
        "file = \"dosyam.doc\"\n",
        "# file2 = \"dosyam.doc\"\n",
        "uzantı1 = file.endswith(\"ipynb\")\n",
        "uzantı2 = file.endswith(\"py\")\n",
        "print(uzantı1)\n",
        "print((uzantı2==True or uzantı1==True) and \"Python dosyası\" or \"Python dosyası değil\")"
      ],
      "metadata": {
        "colab": {
          "base_uri": "https://localhost:8080/"
        },
        "id": "4R--5cn5soGL",
        "outputId": "6c9e07b3-3fde-49d1-9085-0bfb295e8f9e"
      },
      "execution_count": 116,
      "outputs": [
        {
          "output_type": "stream",
          "name": "stdout",
          "text": [
            "False\n",
            "Python dosyası değil\n"
          ]
        }
      ]
    },
    {
      "cell_type": "code",
      "source": [
        "file = \"dosyam.py\"\n",
        "# file2 = \"dosyam.doc\"\n",
        "uzantı1 = file.endswith(\"ipynb\")\n",
        "uzantı2 = file.endswith(\"py\")\n",
        "#print(uzantı1)\n",
        "print((uzantı2 or uzantı1) and \"Python dosyası\" or \"Python dosyası değil\")"
      ],
      "metadata": {
        "colab": {
          "base_uri": "https://localhost:8080/"
        },
        "id": "XUCRLDJatiYM",
        "outputId": "207e82cd-1f06-48a8-9d0b-ef2f49e53f99"
      },
      "execution_count": 120,
      "outputs": [
        {
          "output_type": "stream",
          "name": "stdout",
          "text": [
            "Python dosyası\n"
          ]
        }
      ]
    }
  ]
}