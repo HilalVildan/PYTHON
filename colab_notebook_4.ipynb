{
  "nbformat": 4,
  "nbformat_minor": 0,
  "metadata": {
    "colab": {
      "name": "colab_notebook_4.ipynb",
      "provenance": []
    },
    "kernelspec": {
      "name": "python3",
      "display_name": "Python 3"
    },
    "language_info": {
      "name": "python"
    }
  },
  "cells": [
    {
      "cell_type": "markdown",
      "source": [
        "**Python Basic, Session 4: Strings**"
      ],
      "metadata": {
        "id": "Bv5BFazp3ad3"
      }
    },
    {
      "cell_type": "code",
      "execution_count": 2,
      "metadata": {
        "colab": {
          "base_uri": "https://localhost:8080/"
        },
        "id": "FSc9WAoN3UyU",
        "outputId": "707a04d2-64e4-43d7-c222-7e3ab4636161"
      },
      "outputs": [
        {
          "output_type": "stream",
          "name": "stdout",
          "text": [
            "5.0\n",
            "5\n"
          ]
        }
      ],
      "source": [
        "no = 55\n",
        "print(no/11)\n",
        "print(no//11)"
      ]
    },
    {
      "cell_type": "code",
      "source": [
        "# Boolean hatırlatma\n",
        "print(3-3 and 5 or None and 0 or not True)\n",
        "##Öncelik , parantez, aritmetiksel operatörler,  not, and, or gidiyor \n",
        "## print(0 and 5 or None and 0 or not True)\n",
        "## print(0 and 5 or None and 0 or False)\n",
        "##      (0 or None and 0 or False)\n",
        "##      (0 or None or False)\n",
        "## False"
      ],
      "metadata": {
        "colab": {
          "base_uri": "https://localhost:8080/"
        },
        "id": "HwuDv_d0_E8g",
        "outputId": "867abd6b-f04c-473c-b879-5966d67bd40f"
      },
      "execution_count": 3,
      "outputs": [
        {
          "output_type": "stream",
          "name": "stdout",
          "text": [
            "False\n"
          ]
        }
      ]
    },
    {
      "cell_type": "code",
      "source": [
        "## Basit hesap makinesi\n",
        "num1 = float(input(\"number 1..:\"))  ## num1 float oldu\n",
        "num2 = float(input(\"number 2..:\"))  ## num2 float oldu\n",
        "op = input(\"İşlem..:\")  ## String değer\n",
        "print(num1, op, num2) ## operand (işlenen) + operand(işlenen)\n"
      ],
      "metadata": {
        "colab": {
          "base_uri": "https://localhost:8080/"
        },
        "id": "mIStMlhyAGRi",
        "outputId": "00cfc476-5a45-4c9e-ef47-d7995fb65aa9"
      },
      "execution_count": 4,
      "outputs": [
        {
          "output_type": "stream",
          "name": "stdout",
          "text": [
            "number 1..:5\n",
            "number 2..:6\n",
            "İşlem..:+\n",
            "5.0 + 6.0\n"
          ]
        }
      ]
    },
    {
      "cell_type": "code",
      "source": [
        "## Basit hesap makinesi\n",
        "num1 = float(input(\"number 1..:\"))  ## num1 float oldu\n",
        "num2 = float(input(\"number 2..:\"))  ## num2 float oldu\n",
        "op = input(\"İşlem..:\")  ## String değer\n",
        "sonuc = num1 + op + num2\n",
        "print(sonuc) ## operand (işlenen) + operand(işlenen)"
      ],
      "metadata": {
        "colab": {
          "base_uri": "https://localhost:8080/",
          "height": 270
        },
        "id": "sMoo-C6LBbtc",
        "outputId": "ab546502-270f-4896-a06f-e55ba2601fd4"
      },
      "execution_count": 5,
      "outputs": [
        {
          "name": "stdout",
          "output_type": "stream",
          "text": [
            "number 1..:4\n",
            "number 2..:5\n",
            "İşlem..:+\n"
          ]
        },
        {
          "output_type": "error",
          "ename": "TypeError",
          "evalue": "ignored",
          "traceback": [
            "\u001b[0;31m---------------------------------------------------------------------------\u001b[0m",
            "\u001b[0;31mTypeError\u001b[0m                                 Traceback (most recent call last)",
            "\u001b[0;32m<ipython-input-5-2e753822f0d3>\u001b[0m in \u001b[0;36m<module>\u001b[0;34m()\u001b[0m\n\u001b[1;32m      3\u001b[0m \u001b[0mnum2\u001b[0m \u001b[0;34m=\u001b[0m \u001b[0mfloat\u001b[0m\u001b[0;34m(\u001b[0m\u001b[0minput\u001b[0m\u001b[0;34m(\u001b[0m\u001b[0;34m\"number 2..:\"\u001b[0m\u001b[0;34m)\u001b[0m\u001b[0;34m)\u001b[0m  \u001b[0;31m## num2 float oldu\u001b[0m\u001b[0;34m\u001b[0m\u001b[0;34m\u001b[0m\u001b[0m\n\u001b[1;32m      4\u001b[0m \u001b[0mop\u001b[0m \u001b[0;34m=\u001b[0m \u001b[0minput\u001b[0m\u001b[0;34m(\u001b[0m\u001b[0;34m\"İşlem..:\"\u001b[0m\u001b[0;34m)\u001b[0m  \u001b[0;31m## String değer\u001b[0m\u001b[0;34m\u001b[0m\u001b[0;34m\u001b[0m\u001b[0m\n\u001b[0;32m----> 5\u001b[0;31m \u001b[0msonuc\u001b[0m \u001b[0;34m=\u001b[0m \u001b[0mnum1\u001b[0m \u001b[0;34m+\u001b[0m \u001b[0mop\u001b[0m \u001b[0;34m+\u001b[0m \u001b[0mnum2\u001b[0m\u001b[0;34m\u001b[0m\u001b[0;34m\u001b[0m\u001b[0m\n\u001b[0m\u001b[1;32m      6\u001b[0m \u001b[0mprint\u001b[0m\u001b[0;34m(\u001b[0m\u001b[0msonuc\u001b[0m\u001b[0;34m)\u001b[0m \u001b[0;31m## operand (işlenen) + operand(işlenen)\u001b[0m\u001b[0;34m\u001b[0m\u001b[0;34m\u001b[0m\u001b[0m\n",
            "\u001b[0;31mTypeError\u001b[0m: unsupported operand type(s) for +: 'float' and 'str'"
          ]
        }
      ]
    },
    {
      "cell_type": "code",
      "source": [
        "## Basit hesap makinesi\n",
        "num1 = float(input(\"number 1..:\"))  ## num1 float oldu\n",
        "num2 = float(input(\"number 2..:\"))  ## num2 float oldu\n",
        "op = input(\"İşlem..:\")  ## String değer\n",
        "if op==\"+\":\n",
        "  sonuc = num1 + num2\n",
        "elif op=='-':\n",
        "  sonuc = num1 - num2\n",
        "elif op==\"*\":\n",
        "  sonuc = num1 * num2\n",
        "elif op ==\"/\":\n",
        "  sonuc = num1 / num2\n",
        "else:\n",
        "  sonuc = \"Hatalı operatör girişi\"\n",
        "  \n",
        "print(sonuc) ## operand (işlenen) + operand(işlenen)"
      ],
      "metadata": {
        "colab": {
          "base_uri": "https://localhost:8080/"
        },
        "id": "3ccvWCyhB438",
        "outputId": "60a624eb-d6a2-4a06-868b-7c208f43fb0b"
      },
      "execution_count": 6,
      "outputs": [
        {
          "output_type": "stream",
          "name": "stdout",
          "text": [
            "number 1..:4\n",
            "number 2..:7\n",
            "İşlem..:-\n",
            "-3.0\n"
          ]
        }
      ]
    },
    {
      "cell_type": "code",
      "source": [
        "## ascii koda dönüştürme\n",
        "op = input(\"İşlem..:\")  ## String değer\n",
        "print(ord(op))"
      ],
      "metadata": {
        "colab": {
          "base_uri": "https://localhost:8080/"
        },
        "id": "Nm5u8kskCpII",
        "outputId": "3df8ae53-b5dd-4564-c256-832367a922d0"
      },
      "execution_count": 7,
      "outputs": [
        {
          "output_type": "stream",
          "name": "stdout",
          "text": [
            "İşlem..:+\n",
            "43\n"
          ]
        }
      ]
    },
    {
      "cell_type": "code",
      "source": [
        "print(chr(43))  ##sayının ASCII kod tablosundaki karakter karşılığını veriyor..."
      ],
      "metadata": {
        "colab": {
          "base_uri": "https://localhost:8080/"
        },
        "id": "r74SDLEJC_x8",
        "outputId": "865cc437-f2f0-4bff-aff8-7369bd12ba2d"
      },
      "execution_count": 8,
      "outputs": [
        {
          "output_type": "stream",
          "name": "stdout",
          "text": [
            "+\n"
          ]
        }
      ]
    },
    {
      "cell_type": "code",
      "source": [
        "## Mod Alma(Kalan) operatörü : % \n",
        "print(8%3)  # 2 \n",
        "print(-8%3)  # -2  yuvarlatma hatası"
      ],
      "metadata": {
        "colab": {
          "base_uri": "https://localhost:8080/"
        },
        "id": "k76ucX8gDN0w",
        "outputId": "4bd91744-86c6-4252-fe1f-cfd679c05fbb"
      },
      "execution_count": 9,
      "outputs": [
        {
          "output_type": "stream",
          "name": "stdout",
          "text": [
            "2\n",
            "1\n"
          ]
        }
      ]
    },
    {
      "cell_type": "code",
      "source": [
        "## Negatif sayılarda doğru mod almak için fmod() metodu kullanılır...\n",
        "import math\n",
        "print(math.fmod(-8,3)) "
      ],
      "metadata": {
        "colab": {
          "base_uri": "https://localhost:8080/"
        },
        "id": "fwh59yUWDsAY",
        "outputId": "fae5538e-9f2b-40be-ad2b-780af20b9c8e"
      },
      "execution_count": 10,
      "outputs": [
        {
          "output_type": "stream",
          "name": "stdout",
          "text": [
            "-2.0\n"
          ]
        }
      ]
    },
    {
      "cell_type": "code",
      "source": [
        "from math import fmod, sqrt\n",
        "print(fmod(-8,3)) \n",
        "print(sqrt(8))  ## karekök alır"
      ],
      "metadata": {
        "colab": {
          "base_uri": "https://localhost:8080/"
        },
        "id": "EMwGIZVNEB-2",
        "outputId": "19b98109-f087-4459-ac4d-fcb894d86ccf"
      },
      "execution_count": 13,
      "outputs": [
        {
          "output_type": "stream",
          "name": "stdout",
          "text": [
            "-2.0\n",
            "2.8284271247461903\n"
          ]
        }
      ]
    },
    {
      "cell_type": "code",
      "source": [
        "dir(math)  ## math modülünün metotlarını verir"
      ],
      "metadata": {
        "id": "WekB8KleEMMP"
      },
      "execution_count": null,
      "outputs": []
    },
    {
      "cell_type": "code",
      "source": [
        "import operator\n",
        "print(3+4)\n",
        "print(operator.add(3,4))"
      ],
      "metadata": {
        "colab": {
          "base_uri": "https://localhost:8080/"
        },
        "id": "oNZEEgGgEpRK",
        "outputId": "bbd2ae34-0071-49f2-d534-2390c692c575"
      },
      "execution_count": 14,
      "outputs": [
        {
          "output_type": "stream",
          "name": "stdout",
          "text": [
            "7\n",
            "7\n"
          ]
        }
      ]
    },
    {
      "cell_type": "code",
      "source": [
        "#index :012345 [start:stop-1:adım sayısı] \n",
        "word = 'clarusway'\n",
        "n = 3\n",
        "front = word[0:n] #cla\n",
        "back = word[n+1:]  #4.karakter\n",
        "print(front+back) ##n. karakter kaldırılmış olacak"
      ],
      "metadata": {
        "colab": {
          "base_uri": "https://localhost:8080/"
        },
        "id": "mm98_mWLJwdf",
        "outputId": "f144b412-38c4-4151-dc91-2f0ebb93679c"
      },
      "execution_count": 15,
      "outputs": [
        {
          "output_type": "stream",
          "name": "stdout",
          "text": [
            "clausway\n"
          ]
        }
      ]
    },
    {
      "cell_type": "code",
      "source": [
        "#index :012345 [start:stop-1:adım sayısı] \n",
        "word = 'clarusway'\n",
        "n = 4\n",
        "front = word[0:n] #cla\n",
        "back = word[n+1:]  #4.karakter\n",
        "print(front+back) ##n. karakter kaldırılmış olacak"
      ],
      "metadata": {
        "colab": {
          "base_uri": "https://localhost:8080/"
        },
        "id": "zeAM_fCNK280",
        "outputId": "be305017-d3b6-494d-99a3-c185c7842b4a"
      },
      "execution_count": 16,
      "outputs": [
        {
          "output_type": "stream",
          "name": "stdout",
          "text": [
            "clarsway\n"
          ]
        }
      ]
    },
    {
      "cell_type": "markdown",
      "source": [
        "pozitif index --> 0 dan başlar, soldan sağa gider\n",
        "\n",
        "negatif index --> -1 den başlar, sağdan sola gider\n",
        "\n",
        "index numarası gösterilirken [start:stop:step]"
      ],
      "metadata": {
        "id": "DXfuTMVvM3ks"
      }
    },
    {
      "cell_type": "code",
      "source": [
        "\n",
        "city = \"Berlin\"\n",
        "print(city[0])  ## ilk karakter: B\n",
        "print(city[-1]) ## son karakter: n\n",
        "print(city[:-1]) ## stop = -1 \"Berli\"\n",
        "\n",
        "city_copy = city[::]  #kopyalama\n",
        "print(city_copy) ## aynısı: \"Berlin\"\n",
        "print(city_copy[::-1])  ## step=-1 ters çevirir\n"
      ],
      "metadata": {
        "colab": {
          "base_uri": "https://localhost:8080/"
        },
        "id": "tTCrI6QwMWsi",
        "outputId": "dbb86174-cd7a-4733-f7eb-20b26b8cd193"
      },
      "execution_count": 17,
      "outputs": [
        {
          "output_type": "stream",
          "name": "stdout",
          "text": [
            "B\n",
            "n\n",
            "Berli\n",
            "Berlin\n",
            "nilreB\n"
          ]
        }
      ]
    },
    {
      "cell_type": "code",
      "source": [
        "##city nin sondan 2. karakterini almak için ne yazmalıyım?\n",
        "print(city[-2])"
      ],
      "metadata": {
        "colab": {
          "base_uri": "https://localhost:8080/"
        },
        "id": "8E9ipozrOL9B",
        "outputId": "326037ee-3170-4dca-bd5c-f9efbd6ba1ad"
      },
      "execution_count": 18,
      "outputs": [
        {
          "output_type": "stream",
          "name": "stdout",
          "text": [
            "i\n"
          ]
        }
      ]
    },
    {
      "cell_type": "code",
      "source": [
        "print(city[4])"
      ],
      "metadata": {
        "colab": {
          "base_uri": "https://localhost:8080/"
        },
        "id": "svcY4as6OVhw",
        "outputId": "66f06e91-1a70-4f5b-e77d-e430c4bb1bb7"
      },
      "execution_count": 19,
      "outputs": [
        {
          "output_type": "stream",
          "name": "stdout",
          "text": [
            "i\n"
          ]
        }
      ]
    },
    {
      "cell_type": "code",
      "source": [
        "uzunluk = len(city)\n",
        "print(uzunluk)"
      ],
      "metadata": {
        "colab": {
          "base_uri": "https://localhost:8080/"
        },
        "id": "WbGM4RZ-OgJW",
        "outputId": "fc9f9a02-06b2-47bf-a693-d8bad7f394bb"
      },
      "execution_count": 20,
      "outputs": [
        {
          "output_type": "stream",
          "name": "stdout",
          "text": [
            "6\n"
          ]
        }
      ]
    },
    {
      "cell_type": "code",
      "source": [
        "uzunluk = len(city)\n",
        "print(city[uzunluk-2])"
      ],
      "metadata": {
        "colab": {
          "base_uri": "https://localhost:8080/"
        },
        "id": "kP8ZuUdqOqbx",
        "outputId": "6167f72c-9d54-4702-c67e-7e4eb8924fa9"
      },
      "execution_count": 21,
      "outputs": [
        {
          "output_type": "stream",
          "name": "stdout",
          "text": [
            "i\n"
          ]
        }
      ]
    },
    {
      "cell_type": "code",
      "source": [
        "        # 0123456789..\n",
        "animal = \"hippopotamus\"\n",
        "print(animal[1:])  # ippopotamus\n",
        "print(animal[:6])  # hippop\n",
        "print(animal[::2]) # 0 2 4 6 8 10 hpooau"
      ],
      "metadata": {
        "colab": {
          "base_uri": "https://localhost:8080/"
        },
        "id": "stZ4uxBxPUIE",
        "outputId": "de204f2b-4f33-4ba9-cd88-0e72a7624c22"
      },
      "execution_count": 22,
      "outputs": [
        {
          "output_type": "stream",
          "name": "stdout",
          "text": [
            "ippopotamus\n",
            "hippop\n",
            "hpooau\n"
          ]
        }
      ]
    },
    {
      "cell_type": "code",
      "source": [
        "print(animal[1:7:2])  #1, 3, 5, .., ..."
      ],
      "metadata": {
        "colab": {
          "base_uri": "https://localhost:8080/"
        },
        "id": "4qIDgSF7QGLE",
        "outputId": "113e9a37-8137-4162-ecf3-15b776970d05"
      },
      "execution_count": 23,
      "outputs": [
        {
          "output_type": "stream",
          "name": "stdout",
          "text": [
            "ipp\n"
          ]
        }
      ]
    },
    {
      "cell_type": "code",
      "source": [
        "# \"hippopotamus\"\n",
        "#          -3  -2 -1\n",
        "print(animal[-3:])"
      ],
      "metadata": {
        "colab": {
          "base_uri": "https://localhost:8080/"
        },
        "id": "w7j-1nwzQQ6t",
        "outputId": "a15b9d8f-305a-4e28-8ca8-0d8bfeb61cb5"
      },
      "execution_count": 24,
      "outputs": [
        {
          "output_type": "stream",
          "name": "stdout",
          "text": [
            "mus\n"
          ]
        }
      ]
    },
    {
      "cell_type": "code",
      "source": [
        "print(animal[::-1])"
      ],
      "metadata": {
        "colab": {
          "base_uri": "https://localhost:8080/"
        },
        "id": "F2eNOea4Q4Oa",
        "outputId": "0e29b407-8dd2-43e1-9bd3-73e18aaf245e"
      },
      "execution_count": 25,
      "outputs": [
        {
          "output_type": "stream",
          "name": "stdout",
          "text": [
            "sumatopoppih\n"
          ]
        }
      ]
    },
    {
      "cell_type": "code",
      "source": [
        "print(animal[:-3:-1])"
      ],
      "metadata": {
        "colab": {
          "base_uri": "https://localhost:8080/"
        },
        "id": "vI9H9TCAQ-CB",
        "outputId": "e157fd41-9367-46df-cf1f-442d7061d912"
      },
      "execution_count": 33,
      "outputs": [
        {
          "output_type": "stream",
          "name": "stdout",
          "text": [
            "su\n"
          ]
        }
      ]
    },
    {
      "cell_type": "code",
      "source": [
        "print(animal[:-3])"
      ],
      "metadata": {
        "colab": {
          "base_uri": "https://localhost:8080/"
        },
        "id": "JLDwGQhrRtiP",
        "outputId": "ef1752db-c10d-410a-bbf6-b58a19e50857"
      },
      "execution_count": 31,
      "outputs": [
        {
          "output_type": "stream",
          "name": "stdout",
          "text": [
            "hippopota\n"
          ]
        }
      ]
    },
    {
      "cell_type": "code",
      "source": [
        "print(animal[:9])"
      ],
      "metadata": {
        "colab": {
          "base_uri": "https://localhost:8080/"
        },
        "id": "iO5Sf9gSR6Hr",
        "outputId": "14dc5ae0-966e-428e-f54a-6c76405b151e"
      },
      "execution_count": 32,
      "outputs": [
        {
          "output_type": "stream",
          "name": "stdout",
          "text": [
            "hippopota\n"
          ]
        }
      ]
    },
    {
      "cell_type": "code",
      "source": [
        "print(animal[-3:-1])"
      ],
      "metadata": {
        "colab": {
          "base_uri": "https://localhost:8080/"
        },
        "id": "O82l5r-yRKzx",
        "outputId": "d6cda1a5-87d9-4d93-e604-4cfc4f36fc78"
      },
      "execution_count": 27,
      "outputs": [
        {
          "output_type": "stream",
          "name": "stdout",
          "text": [
            "mu\n"
          ]
        }
      ]
    },
    {
      "cell_type": "code",
      "source": [
        "print(animal[-3::-1])"
      ],
      "metadata": {
        "colab": {
          "base_uri": "https://localhost:8080/"
        },
        "id": "3p-MOFLCRXY7",
        "outputId": "b5b24478-545f-4c5b-b05d-8da1e0030fd4"
      },
      "execution_count": 28,
      "outputs": [
        {
          "output_type": "stream",
          "name": "stdout",
          "text": [
            "matopoppih\n"
          ]
        }
      ]
    },
    {
      "cell_type": "code",
      "source": [
        "print(animal[::-2]) #animal = \"hippopotamus\""
      ],
      "metadata": {
        "colab": {
          "base_uri": "https://localhost:8080/"
        },
        "id": "FFiQNfsnSXT3",
        "outputId": "d9f11473-efc9-41fa-d487-f132dc2ed054"
      },
      "execution_count": 34,
      "outputs": [
        {
          "output_type": "stream",
          "name": "stdout",
          "text": [
            "smtppi\n"
          ]
        }
      ]
    },
    {
      "cell_type": "code",
      "source": [
        "print(animal[::-3]) #animal = \"hippopotamus\""
      ],
      "metadata": {
        "colab": {
          "base_uri": "https://localhost:8080/"
        },
        "id": "Hp-5chlBSsWs",
        "outputId": "60a931fc-cc1c-4f07-8cd1-cebfcd244f16"
      },
      "execution_count": 35,
      "outputs": [
        {
          "output_type": "stream",
          "name": "stdout",
          "text": [
            "sapp\n"
          ]
        }
      ]
    },
    {
      "cell_type": "code",
      "source": [
        "## adım miktarı (step) negatif ise tersten ilerler"
      ],
      "metadata": {
        "id": "FvCajbCJSynT"
      },
      "execution_count": null,
      "outputs": []
    },
    {
      "cell_type": "code",
      "source": [
        "print(animal[0:-3])"
      ],
      "metadata": {
        "colab": {
          "base_uri": "https://localhost:8080/"
        },
        "id": "85UpC-qhTIxv",
        "outputId": "65720038-7435-4248-a5af-aad1759c77f1"
      },
      "execution_count": 36,
      "outputs": [
        {
          "output_type": "stream",
          "name": "stdout",
          "text": [
            "hippopota\n"
          ]
        }
      ]
    },
    {
      "cell_type": "code",
      "source": [
        "print(animal[0:-3:-1])  #tersten giderken startın sağdaki negatif indis değerlerine denk gelmesi lazım..."
      ],
      "metadata": {
        "colab": {
          "base_uri": "https://localhost:8080/"
        },
        "id": "T1kmIIoITM-m",
        "outputId": "6b9afd5a-7b52-4d54-ead7-7ce366581421"
      },
      "execution_count": 44,
      "outputs": [
        {
          "output_type": "stream",
          "name": "stdout",
          "text": [
            "\n"
          ]
        }
      ]
    },
    {
      "cell_type": "code",
      "source": [
        "print(animal[-2:-3:-1])  #tersten giderken start ın stop tan küçük bir değer olmasını bekliyor"
      ],
      "metadata": {
        "colab": {
          "base_uri": "https://localhost:8080/"
        },
        "id": "1F_4Td2XTaRM",
        "outputId": "82ec8500-4ba6-471b-a9c2-77e387b40e65"
      },
      "execution_count": 42,
      "outputs": [
        {
          "output_type": "stream",
          "name": "stdout",
          "text": [
            "u\n"
          ]
        }
      ]
    },
    {
      "cell_type": "code",
      "source": [
        "#animal = \"hippopotamus\"\n",
        "print(animal[9:-4:-1]) "
      ],
      "metadata": {
        "colab": {
          "base_uri": "https://localhost:8080/"
        },
        "id": "ze8Esa8QV659",
        "outputId": "baef4f69-ea97-4c23-be82-a20dae6531e7"
      },
      "execution_count": 46,
      "outputs": [
        {
          "output_type": "stream",
          "name": "stdout",
          "text": [
            "m\n"
          ]
        }
      ]
    },
    {
      "cell_type": "code",
      "source": [
        "str_one = 'upper'\n",
        "str_two = 'case'\n",
        "str_comb = str_one + str_two\n",
        "print('upper' + 'case')\n",
        "print(str_one + str_two)\n",
        "print(str_comb)"
      ],
      "metadata": {
        "colab": {
          "base_uri": "https://localhost:8080/"
        },
        "id": "xPdZZM5XWvb3",
        "outputId": "ec19a100-5a2a-4eac-ffff-9ceaa9b1a4c2"
      },
      "execution_count": 47,
      "outputs": [
        {
          "output_type": "stream",
          "name": "stdout",
          "text": [
            "uppercase\n",
            "uppercase\n",
            "uppercase\n"
          ]
        }
      ]
    },
    {
      "cell_type": "code",
      "source": [
        "str_one = 'upper'\n",
        "str_two = 3 * 'upper'\n",
        "str_comb = 3 * str_one\n",
        "print(str_two)\n",
        "print(str_comb)\n",
        "print(* str_one) #ayrıştırma yapıyor"
      ],
      "metadata": {
        "colab": {
          "base_uri": "https://localhost:8080/"
        },
        "id": "CGhOkeQdXKiY",
        "outputId": "f29f6aef-3405-4f58-f45b-ab8adbe951bb"
      },
      "execution_count": 48,
      "outputs": [
        {
          "output_type": "stream",
          "name": "stdout",
          "text": [
            "upperupperupper\n",
            "upperupperupper\n",
            "u p p e r\n"
          ]
        }
      ]
    },
    {
      "cell_type": "code",
      "source": [
        "str_one = \"upper\"\n",
        "print(*str_one)\n"
      ],
      "metadata": {
        "colab": {
          "base_uri": "https://localhost:8080/"
        },
        "id": "rcRYcHXTXU0s",
        "outputId": "de817d80-c62c-49d1-8fa4-5736d74c6942"
      },
      "execution_count": 49,
      "outputs": [
        {
          "output_type": "stream",
          "name": "stdout",
          "text": [
            "u p p e r\n"
          ]
        }
      ]
    },
    {
      "cell_type": "code",
      "source": [
        "str_one = [\"upper\",]\n",
        "print(*str_one)"
      ],
      "metadata": {
        "colab": {
          "base_uri": "https://localhost:8080/"
        },
        "id": "Pvea3HY_Xjxy",
        "outputId": "74eb1054-908b-4dca-85e8-e1bacb910174"
      },
      "execution_count": 50,
      "outputs": [
        {
          "output_type": "stream",
          "name": "stdout",
          "text": [
            "upper\n"
          ]
        }
      ]
    },
    {
      "cell_type": "code",
      "source": [
        "str_one = 'upper'\n",
        "str_one += 'case'  ## str_one = str_one + 'case'\n",
        "print(str_one)\n",
        "str_one += 'letter'\n",
        "print(str_one)\n",
        "str_one += 'end'\n",
        "print(str_one)"
      ],
      "metadata": {
        "colab": {
          "base_uri": "https://localhost:8080/"
        },
        "id": "w9TDoc_AYCmq",
        "outputId": "380b2b5b-c04f-4afa-9515-f1541d9c149e"
      },
      "execution_count": 51,
      "outputs": [
        {
          "output_type": "stream",
          "name": "stdout",
          "text": [
            "uppercase\n",
            "uppercaseletter\n",
            "uppercaseletterend\n"
          ]
        }
      ]
    },
    {
      "cell_type": "code",
      "source": [
        "string_1 = 'I am angry...'\n",
        "print(* string_1)\n",
        "string_2 = '1453'\n",
        "print(* string_2)\n",
        "'joseph@clarusway.com'  # Do not use variable\n",
        "print(* 'joseph@clarusway.com')"
      ],
      "metadata": {
        "colab": {
          "base_uri": "https://localhost:8080/"
        },
        "id": "Fka4cuP2Ymdb",
        "outputId": "6490686b-bd26-414e-a922-5967479f54f9"
      },
      "execution_count": 52,
      "outputs": [
        {
          "output_type": "stream",
          "name": "stdout",
          "text": [
            "I   a m   a n g r y . . .\n",
            "1 4 5 3\n",
            "j o s e p h @ c l a r u s w a y . c o m\n"
          ]
        }
      ]
    },
    {
      "cell_type": "code",
      "source": [
        "string_1 = 'I am angry...'\n",
        "print(len(string_1))\n",
        "#print(* string_1)"
      ],
      "metadata": {
        "colab": {
          "base_uri": "https://localhost:8080/"
        },
        "id": "qvCa32jQY-Jc",
        "outputId": "b3f13871-5cb7-422d-d0a7-8f5222d9291b"
      },
      "execution_count": 53,
      "outputs": [
        {
          "output_type": "stream",
          "name": "stdout",
          "text": [
            "13\n"
          ]
        }
      ]
    },
    {
      "cell_type": "code",
      "source": [
        "string_1 = 'I am angry...'\n",
        "print(len(* string_1))\n"
      ],
      "metadata": {
        "colab": {
          "base_uri": "https://localhost:8080/",
          "height": 183
        },
        "id": "VG9GEVjIZG3R",
        "outputId": "f70e7d98-37ab-4dfc-9b7b-d7eb45997233"
      },
      "execution_count": 55,
      "outputs": [
        {
          "output_type": "error",
          "ename": "TypeError",
          "evalue": "ignored",
          "traceback": [
            "\u001b[0;31m---------------------------------------------------------------------------\u001b[0m",
            "\u001b[0;31mTypeError\u001b[0m                                 Traceback (most recent call last)",
            "\u001b[0;32m<ipython-input-55-7dd1b2a81b14>\u001b[0m in \u001b[0;36m<module>\u001b[0;34m()\u001b[0m\n\u001b[1;32m      1\u001b[0m \u001b[0mstring_1\u001b[0m \u001b[0;34m=\u001b[0m \u001b[0;34m'I am angry...'\u001b[0m\u001b[0;34m\u001b[0m\u001b[0;34m\u001b[0m\u001b[0m\n\u001b[0;32m----> 2\u001b[0;31m \u001b[0mprint\u001b[0m\u001b[0;34m(\u001b[0m\u001b[0mlen\u001b[0m\u001b[0;34m(\u001b[0m\u001b[0;34m*\u001b[0m \u001b[0mstring_1\u001b[0m\u001b[0;34m)\u001b[0m\u001b[0;34m)\u001b[0m\u001b[0;34m\u001b[0m\u001b[0;34m\u001b[0m\u001b[0m\n\u001b[0m",
            "\u001b[0;31mTypeError\u001b[0m: len() takes exactly one argument (13 given)"
          ]
        }
      ]
    },
    {
      "cell_type": "code",
      "source": [
        "phrase1 = 'There are 3 %s in the game room'\n",
        "phrase2 = 'There is only a %.5s here'\n",
        "print(phrase1 % 'children')\n",
        "print(phrase2 % 'children')\n",
        "print('There is only a %.5s here' % 'children')\n",
        "print('1 %s 2 %s 6 %s' % ('one', 'two', 'six'))"
      ],
      "metadata": {
        "colab": {
          "base_uri": "https://localhost:8080/"
        },
        "id": "_rfniqbCag4a",
        "outputId": "7b8b5836-0c8c-4076-a5c0-0b36e11c6825"
      },
      "execution_count": 56,
      "outputs": [
        {
          "output_type": "stream",
          "name": "stdout",
          "text": [
            "There are 3 children in the game room\n",
            "There is only a child here\n",
            "There is only a child here\n",
            "1 one 2 two 6 six\n"
          ]
        }
      ]
    },
    {
      "cell_type": "code",
      "source": [
        "phrase1 = 'There are 3 %s in the game room'\n",
        "print(phrase1, %'children')"
      ],
      "metadata": {
        "colab": {
          "base_uri": "https://localhost:8080/",
          "height": 131
        },
        "id": "qd4lL8Dwaloe",
        "outputId": "f6c14de7-4265-4a28-889a-88793d159790"
      },
      "execution_count": 57,
      "outputs": [
        {
          "output_type": "error",
          "ename": "SyntaxError",
          "evalue": "ignored",
          "traceback": [
            "\u001b[0;36m  File \u001b[0;32m\"<ipython-input-57-2e44ad3d06fe>\"\u001b[0;36m, line \u001b[0;32m2\u001b[0m\n\u001b[0;31m    print(phrase1, %'children')\u001b[0m\n\u001b[0m                   ^\u001b[0m\n\u001b[0;31mSyntaxError\u001b[0m\u001b[0;31m:\u001b[0m invalid syntax\n"
          ]
        }
      ]
    },
    {
      "cell_type": "code",
      "source": [
        "phrase1 = 'There are 3 %s in the game room'\n",
        "print(phrase1 %'children')"
      ],
      "metadata": {
        "colab": {
          "base_uri": "https://localhost:8080/"
        },
        "id": "MECOdpZnasgS",
        "outputId": "3a4e2241-6f17-4682-9375-28b5d9405fa5"
      },
      "execution_count": 58,
      "outputs": [
        {
          "output_type": "stream",
          "name": "stdout",
          "text": [
            "There are 3 children in the game room\n"
          ]
        }
      ]
    },
    {
      "cell_type": "code",
      "source": [
        "phrase1 = 'There are %d child and %d cats here'\n",
        "phrase2 = (1, 3)\n",
        "print(phrase1 %phrase2)\n",
        "print(phrase1 %(1, 3))\n",
        "print('There are %d child and %d cats here' %(1, 3))"
      ],
      "metadata": {
        "colab": {
          "base_uri": "https://localhost:8080/"
        },
        "id": "zBycVE2ja8UZ",
        "outputId": "7d2f7b07-9ba6-41e1-c10e-301549090125"
      },
      "execution_count": 59,
      "outputs": [
        {
          "output_type": "stream",
          "name": "stdout",
          "text": [
            "There are 1 child and 3 cats here\n",
            "There are 1 child and 3 cats here\n",
            "There are 1 child and 3 cats here\n"
          ]
        }
      ]
    },
    {
      "cell_type": "code",
      "source": [
        "phrase1 = 'There are %d child and %d cats here'\n",
        "phrase2 = (1, 3)\n",
        "print(phrase1 %phrase2)\n",
        "print(phrase1 %(1, 3))\n",
        "print('There are %d child and %d cats here' %(1.5, 3))"
      ],
      "metadata": {
        "colab": {
          "base_uri": "https://localhost:8080/"
        },
        "id": "HlQe-5mxbOWm",
        "outputId": "cc9b3f10-2ef0-45d1-e64a-d51bda4ad031"
      },
      "execution_count": 60,
      "outputs": [
        {
          "output_type": "stream",
          "name": "stdout",
          "text": [
            "There are 1 child and 3 cats here\n",
            "There are 1 child and 3 cats here\n",
            "There are 1 child and 3 cats here\n"
          ]
        }
      ]
    },
    {
      "cell_type": "code",
      "source": [
        "phrase1 = 'There are %d child and %d cats here'\n",
        "phrase2 = (1, 3)\n",
        "print(phrase1 %phrase2)\n",
        "print(phrase1 %(1, 3))\n",
        "print('There are %d child and %d cats here' %('1', 3))"
      ],
      "metadata": {
        "colab": {
          "base_uri": "https://localhost:8080/",
          "height": 235
        },
        "id": "CdwAX_lrbThP",
        "outputId": "554ec0cc-adc4-4675-de47-af49c6c5614f"
      },
      "execution_count": 61,
      "outputs": [
        {
          "output_type": "stream",
          "name": "stdout",
          "text": [
            "There are 1 child and 3 cats here\n",
            "There are 1 child and 3 cats here\n"
          ]
        },
        {
          "output_type": "error",
          "ename": "TypeError",
          "evalue": "ignored",
          "traceback": [
            "\u001b[0;31m---------------------------------------------------------------------------\u001b[0m",
            "\u001b[0;31mTypeError\u001b[0m                                 Traceback (most recent call last)",
            "\u001b[0;32m<ipython-input-61-0de019004379>\u001b[0m in \u001b[0;36m<module>\u001b[0;34m()\u001b[0m\n\u001b[1;32m      3\u001b[0m \u001b[0mprint\u001b[0m\u001b[0;34m(\u001b[0m\u001b[0mphrase1\u001b[0m \u001b[0;34m%\u001b[0m\u001b[0mphrase2\u001b[0m\u001b[0;34m)\u001b[0m\u001b[0;34m\u001b[0m\u001b[0;34m\u001b[0m\u001b[0m\n\u001b[1;32m      4\u001b[0m \u001b[0mprint\u001b[0m\u001b[0;34m(\u001b[0m\u001b[0mphrase1\u001b[0m \u001b[0;34m%\u001b[0m\u001b[0;34m(\u001b[0m\u001b[0;36m1\u001b[0m\u001b[0;34m,\u001b[0m \u001b[0;36m3\u001b[0m\u001b[0;34m)\u001b[0m\u001b[0;34m)\u001b[0m\u001b[0;34m\u001b[0m\u001b[0;34m\u001b[0m\u001b[0m\n\u001b[0;32m----> 5\u001b[0;31m \u001b[0mprint\u001b[0m\u001b[0;34m(\u001b[0m\u001b[0;34m'There are %d child and %d cats here'\u001b[0m \u001b[0;34m%\u001b[0m\u001b[0;34m(\u001b[0m\u001b[0;34m'1'\u001b[0m\u001b[0;34m,\u001b[0m \u001b[0;36m3\u001b[0m\u001b[0;34m)\u001b[0m\u001b[0;34m)\u001b[0m\u001b[0;34m\u001b[0m\u001b[0;34m\u001b[0m\u001b[0m\n\u001b[0m",
            "\u001b[0;31mTypeError\u001b[0m: %d format: a number is required, not str"
          ]
        }
      ]
    },
    {
      "cell_type": "code",
      "source": [
        "phrase1 = 'There are %d child and %d cats here'\n",
        "phrase2 = (1, 3)\n",
        "print(phrase1 %phrase2)\n",
        "print(phrase1 %(1, 3))\n",
        "print('There are %s child and %d cats here' %('1', 3))"
      ],
      "metadata": {
        "colab": {
          "base_uri": "https://localhost:8080/"
        },
        "id": "eS4uVAWhbaBH",
        "outputId": "9f0230ef-aafc-4d5a-b2a8-c18b5f34e27c"
      },
      "execution_count": 62,
      "outputs": [
        {
          "output_type": "stream",
          "name": "stdout",
          "text": [
            "There are 1 child and 3 cats here\n",
            "There are 1 child and 3 cats here\n",
            "There are 1 child and 3 cats here\n"
          ]
        }
      ]
    },
    {
      "cell_type": "code",
      "source": [
        "phrase = 'I have %d %s and it weigh %.2f kg each' % (2, 'cats', 3.1145678)  #C dili tarzı\n",
        "print(phrase)"
      ],
      "metadata": {
        "colab": {
          "base_uri": "https://localhost:8080/"
        },
        "id": "uchzvjGqbyqm",
        "outputId": "cb469e70-ee2a-4b2f-c2d6-94bd6fbbebd9"
      },
      "execution_count": 64,
      "outputs": [
        {
          "output_type": "stream",
          "name": "stdout",
          "text": [
            "I have 2 cats and it weigh 3.11 kg each\n"
          ]
        }
      ]
    },
    {
      "cell_type": "code",
      "source": [
        "print('I have %d %s and it weigh %.2f kg each' %(2, 'cats', 3.1145678))"
      ],
      "metadata": {
        "colab": {
          "base_uri": "https://localhost:8080/"
        },
        "id": "LL0w0NfqcAae",
        "outputId": "44682185-6204-4cc2-92c7-aef7e6979d68"
      },
      "execution_count": 65,
      "outputs": [
        {
          "output_type": "stream",
          "name": "stdout",
          "text": [
            "I have 2 cats and it weigh 3.11 kg each\n"
          ]
        }
      ]
    },
    {
      "cell_type": "code",
      "source": [
        "fruit = \"Orange\"\n",
        "vegetable = \"Tomato\"\n",
        "amount = 4\n",
        "print(\"The amount of {} we bought is {} pounds.\".format(fruit, amount))"
      ],
      "metadata": {
        "colab": {
          "base_uri": "https://localhost:8080/"
        },
        "id": "BQOYtta8cg6q",
        "outputId": "13939a28-d5e9-49ce-e45d-e494e671cf83"
      },
      "execution_count": 66,
      "outputs": [
        {
          "output_type": "stream",
          "name": "stdout",
          "text": [
            "The amount of Orange we bought is 4 pounds.\n"
          ]
        }
      ]
    },
    {
      "cell_type": "code",
      "source": [
        "fruit = \"Orange\"\n",
        "vegetable = \"Tomato\"\n",
        "amount = 4\n",
        "print(\"The amount of {0} we bought is {1} pounds.\".format(fruit, amount))"
      ],
      "metadata": {
        "colab": {
          "base_uri": "https://localhost:8080/"
        },
        "id": "vIq2cIUac6Oy",
        "outputId": "e348f883-86fe-4de4-e818-266aeb4bb539"
      },
      "execution_count": 67,
      "outputs": [
        {
          "output_type": "stream",
          "name": "stdout",
          "text": [
            "The amount of Orange we bought is 4 pounds.\n"
          ]
        }
      ]
    },
    {
      "cell_type": "code",
      "source": [
        "fruit = \"Orange\"\n",
        "vegetable = \"Tomato\"\n",
        "amount = 4\n",
        "print(\"The amount of {1} we bought is {0} pounds.\".format(fruit, amount))"
      ],
      "metadata": {
        "colab": {
          "base_uri": "https://localhost:8080/"
        },
        "id": "gaqIlSSIc-qC",
        "outputId": "24a6ac00-9394-40d8-cde2-fa66802f5baa"
      },
      "execution_count": 68,
      "outputs": [
        {
          "output_type": "stream",
          "name": "stdout",
          "text": [
            "The amount of 4 we bought is Orange pounds.\n"
          ]
        }
      ]
    },
    {
      "cell_type": "code",
      "source": [
        "text = \"{state} is the most {adjective} state of the {country}\".format(state=\"Ottowa\", country=\"Canada\", adjective=\"crowded\")\n",
        "print(text)"
      ],
      "metadata": {
        "colab": {
          "base_uri": "https://localhost:8080/"
        },
        "id": "ORSTeGwbdTU4",
        "outputId": "d49e995e-3c9d-4fda-9938-989891ef28be"
      },
      "execution_count": 70,
      "outputs": [
        {
          "output_type": "stream",
          "name": "stdout",
          "text": [
            "Ottowa is the most crowded state of the Canada\n"
          ]
        }
      ]
    },
    {
      "cell_type": "code",
      "source": [
        "state=\"Ottowa\"\n",
        "text = \"{state} is the most {adjective} state of the {country}\".format(country=\"Canada\", adjective=\"crowded\")\n",
        "print(text)"
      ],
      "metadata": {
        "colab": {
          "base_uri": "https://localhost:8080/",
          "height": 218
        },
        "id": "_bO1TOY-dz8f",
        "outputId": "6af4920b-6490-4fe1-cf46-53ae1891528c"
      },
      "execution_count": 74,
      "outputs": [
        {
          "output_type": "error",
          "ename": "KeyError",
          "evalue": "ignored",
          "traceback": [
            "\u001b[0;31m---------------------------------------------------------------------------\u001b[0m",
            "\u001b[0;31mKeyError\u001b[0m                                  Traceback (most recent call last)",
            "\u001b[0;32m<ipython-input-74-3b029ae1cfca>\u001b[0m in \u001b[0;36m<module>\u001b[0;34m()\u001b[0m\n\u001b[1;32m      1\u001b[0m \u001b[0mstate\u001b[0m\u001b[0;34m=\u001b[0m\u001b[0;34m\"Ottowa\"\u001b[0m\u001b[0;34m\u001b[0m\u001b[0;34m\u001b[0m\u001b[0m\n\u001b[0;32m----> 2\u001b[0;31m \u001b[0mtext\u001b[0m \u001b[0;34m=\u001b[0m \u001b[0;34m\"{state} is the most {adjective} state of the {country}\"\u001b[0m\u001b[0;34m.\u001b[0m\u001b[0mformat\u001b[0m\u001b[0;34m(\u001b[0m\u001b[0mcountry\u001b[0m\u001b[0;34m=\u001b[0m\u001b[0;34m\"Canada\"\u001b[0m\u001b[0;34m,\u001b[0m \u001b[0madjective\u001b[0m\u001b[0;34m=\u001b[0m\u001b[0;34m\"crowded\"\u001b[0m\u001b[0;34m)\u001b[0m\u001b[0;34m\u001b[0m\u001b[0;34m\u001b[0m\u001b[0m\n\u001b[0m\u001b[1;32m      3\u001b[0m \u001b[0mprint\u001b[0m\u001b[0;34m(\u001b[0m\u001b[0mtext\u001b[0m\u001b[0;34m)\u001b[0m\u001b[0;34m\u001b[0m\u001b[0;34m\u001b[0m\u001b[0m\n",
            "\u001b[0;31mKeyError\u001b[0m: 'state'"
          ]
        }
      ]
    },
    {
      "cell_type": "code",
      "source": [
        "state=\"Ottowa\"\n",
        "text = \"{} is the most {adjective} state of the {country}\".format(state,country=\"Canada\", adjective=\"crowded\")\n",
        "print(text)"
      ],
      "metadata": {
        "colab": {
          "base_uri": "https://localhost:8080/"
        },
        "id": "9qDDF5TgeSnT",
        "outputId": "b2ff732d-3b07-417a-8d69-fe8648c42d00"
      },
      "execution_count": 75,
      "outputs": [
        {
          "output_type": "stream",
          "name": "stdout",
          "text": [
            "Ottowa is the most crowded state of the Canada\n"
          ]
        }
      ]
    },
    {
      "cell_type": "code",
      "source": [
        "text = \"{0} is the most {adjective} state of the {country}\".format(\"Ottowa\", country=\"Canada\", adjective=\"crowded\")\n",
        "print(text)"
      ],
      "metadata": {
        "colab": {
          "base_uri": "https://localhost:8080/"
        },
        "id": "z76Mc3Iqeell",
        "outputId": "a2040acb-f2fa-4fdc-b6e6-41c8bdb30d51"
      },
      "execution_count": 76,
      "outputs": [
        {
          "output_type": "stream",
          "name": "stdout",
          "text": [
            "Ottowa is the most crowded state of the Canada\n"
          ]
        }
      ]
    },
    {
      "cell_type": "code",
      "source": [
        "print(\"{1} {6} {0} {3} {2} {7} {4} {5}.\".format('have', 'I', 'a job', 'found', 5, 'months', 'will', 'in'))\n",
        "## I will have found a job in 5 months.\n"
      ],
      "metadata": {
        "colab": {
          "base_uri": "https://localhost:8080/"
        },
        "id": "JKNw50NGe8VJ",
        "outputId": "e19466a1-b702-4318-e55c-014457e0d75c"
      },
      "execution_count": 79,
      "outputs": [
        {
          "output_type": "stream",
          "name": "stdout",
          "text": [
            "I will have found a job in 5 months.\n"
          ]
        }
      ]
    },
    {
      "cell_type": "code",
      "source": [
        "print(\"{1} {6} {0} {3} {2} {-1} {4} {5}.\".format('have', 'I', 'a job', 'found', 5, 'months', 'will', 'in'))\n",
        "## I will have found a job in 5 months."
      ],
      "metadata": {
        "colab": {
          "base_uri": "https://localhost:8080/",
          "height": 200
        },
        "id": "CjEDs5e0fpbp",
        "outputId": "18ea8b46-8e31-4a54-8d4f-9e8b15056e69"
      },
      "execution_count": 80,
      "outputs": [
        {
          "output_type": "error",
          "ename": "KeyError",
          "evalue": "ignored",
          "traceback": [
            "\u001b[0;31m---------------------------------------------------------------------------\u001b[0m",
            "\u001b[0;31mKeyError\u001b[0m                                  Traceback (most recent call last)",
            "\u001b[0;32m<ipython-input-80-39605ef17e73>\u001b[0m in \u001b[0;36m<module>\u001b[0;34m()\u001b[0m\n\u001b[0;32m----> 1\u001b[0;31m \u001b[0mprint\u001b[0m\u001b[0;34m(\u001b[0m\u001b[0;34m\"{1} {6} {0} {3} {2} {-1} {4} {5}.\"\u001b[0m\u001b[0;34m.\u001b[0m\u001b[0mformat\u001b[0m\u001b[0;34m(\u001b[0m\u001b[0;34m'have'\u001b[0m\u001b[0;34m,\u001b[0m \u001b[0;34m'I'\u001b[0m\u001b[0;34m,\u001b[0m \u001b[0;34m'a job'\u001b[0m\u001b[0;34m,\u001b[0m \u001b[0;34m'found'\u001b[0m\u001b[0;34m,\u001b[0m \u001b[0;36m5\u001b[0m\u001b[0;34m,\u001b[0m \u001b[0;34m'months'\u001b[0m\u001b[0;34m,\u001b[0m \u001b[0;34m'will'\u001b[0m\u001b[0;34m,\u001b[0m \u001b[0;34m'in'\u001b[0m\u001b[0;34m)\u001b[0m\u001b[0;34m)\u001b[0m\u001b[0;34m\u001b[0m\u001b[0;34m\u001b[0m\u001b[0m\n\u001b[0m\u001b[1;32m      2\u001b[0m \u001b[0;31m## I will have found a job in 5 months.\u001b[0m\u001b[0;34m\u001b[0m\u001b[0;34m\u001b[0m\u001b[0;34m\u001b[0m\u001b[0m\n",
            "\u001b[0;31mKeyError\u001b[0m: '-1'"
          ]
        }
      ]
    },
    {
      "cell_type": "code",
      "source": [
        "## İstenen metin: generosity wins in all circumstances.\n",
        "phrase = '{2} {3} {1} {0}'.format('circumstances', 'in all', 'generosity', 'wins')\n",
        "print(phrase)"
      ],
      "metadata": {
        "colab": {
          "base_uri": "https://localhost:8080/"
        },
        "id": "SdeYKlCbitwr",
        "outputId": "af6f820d-3585-438a-91d9-f842eb988276"
      },
      "execution_count": 81,
      "outputs": [
        {
          "output_type": "stream",
          "name": "stdout",
          "text": [
            "generosity wins in all circumstances\n"
          ]
        }
      ]
    },
    {
      "cell_type": "code",
      "source": [
        "## İstenen metin: generosity wins in all circumstances.\n",
        "phrase = '{} {} {} {}'.format('circumstances', 'in all', 'generosity', 'wins')\n",
        "print(phrase)"
      ],
      "metadata": {
        "colab": {
          "base_uri": "https://localhost:8080/"
        },
        "id": "dW33wcM3jYTX",
        "outputId": "5b7cb061-398e-4d76-e6de-6198fc4a5bfd"
      },
      "execution_count": 83,
      "outputs": [
        {
          "output_type": "stream",
          "name": "stdout",
          "text": [
            "circumstances in all generosity wins\n"
          ]
        }
      ]
    },
    {
      "cell_type": "code",
      "source": [
        "g = 'generosity'\n",
        "c = \"circumstances\"\n",
        "phrase = '{} {} {} {}'.format(g, 'wins', 'in all', c)\n",
        "print(phrase)"
      ],
      "metadata": {
        "colab": {
          "base_uri": "https://localhost:8080/"
        },
        "id": "4FZiVuaNkh_R",
        "outputId": "0260aac7-3ff8-42de-8dee-e7a332970175"
      },
      "execution_count": 86,
      "outputs": [
        {
          "output_type": "stream",
          "name": "stdout",
          "text": [
            "generosity wins in all circumstances\n"
          ]
        }
      ]
    },
    {
      "cell_type": "code",
      "source": [
        "g = 'generosity'\n",
        "c = \"circumstances\"\n",
        "phrase = '{} {} {} {}'.format('wins', 'in all')\n",
        "print(phrase)"
      ],
      "metadata": {
        "colab": {
          "base_uri": "https://localhost:8080/",
          "height": 218
        },
        "id": "mgcQwbDfk_F2",
        "outputId": "e2159ece-ff7b-4f62-d958-ec10d56f6155"
      },
      "execution_count": 87,
      "outputs": [
        {
          "output_type": "error",
          "ename": "IndexError",
          "evalue": "ignored",
          "traceback": [
            "\u001b[0;31m---------------------------------------------------------------------------\u001b[0m",
            "\u001b[0;31mIndexError\u001b[0m                                Traceback (most recent call last)",
            "\u001b[0;32m<ipython-input-87-c7e34403c1fd>\u001b[0m in \u001b[0;36m<module>\u001b[0;34m()\u001b[0m\n\u001b[1;32m      1\u001b[0m \u001b[0mg\u001b[0m \u001b[0;34m=\u001b[0m \u001b[0;34m'generosity'\u001b[0m\u001b[0;34m\u001b[0m\u001b[0;34m\u001b[0m\u001b[0m\n\u001b[1;32m      2\u001b[0m \u001b[0mc\u001b[0m \u001b[0;34m=\u001b[0m \u001b[0;34m\"circumstances\"\u001b[0m\u001b[0;34m\u001b[0m\u001b[0;34m\u001b[0m\u001b[0m\n\u001b[0;32m----> 3\u001b[0;31m \u001b[0mphrase\u001b[0m \u001b[0;34m=\u001b[0m \u001b[0;34m'{} {} {} {}'\u001b[0m\u001b[0;34m.\u001b[0m\u001b[0mformat\u001b[0m\u001b[0;34m(\u001b[0m\u001b[0;34m'wins'\u001b[0m\u001b[0;34m,\u001b[0m \u001b[0;34m'in all'\u001b[0m\u001b[0;34m)\u001b[0m\u001b[0;34m\u001b[0m\u001b[0;34m\u001b[0m\u001b[0m\n\u001b[0m\u001b[1;32m      4\u001b[0m \u001b[0mprint\u001b[0m\u001b[0;34m(\u001b[0m\u001b[0mphrase\u001b[0m\u001b[0;34m)\u001b[0m\u001b[0;34m\u001b[0m\u001b[0;34m\u001b[0m\u001b[0m\n",
            "\u001b[0;31mIndexError\u001b[0m: tuple index out of range"
          ]
        }
      ]
    },
    {
      "cell_type": "code",
      "source": [
        "g = 'generosity'\n",
        "c = \"circumstances\"\n",
        "phrase = '{2} {0} {1} {3}'.format('wins', 'in all', g, c)\n",
        "print(phrase)"
      ],
      "metadata": {
        "colab": {
          "base_uri": "https://localhost:8080/"
        },
        "id": "TW_EJuDZlPsT",
        "outputId": "e7e179a8-b61f-47bf-bbf8-fbf24afedc3f"
      },
      "execution_count": 88,
      "outputs": [
        {
          "output_type": "stream",
          "name": "stdout",
          "text": [
            "generosity wins in all circumstances\n"
          ]
        }
      ]
    },
    {
      "cell_type": "code",
      "source": [
        "phrase = '{g} {0} {1} {c}'.format('wins', 'in all', g = 'generosity', c = \"circumstances\")\n",
        "print(phrase)"
      ],
      "metadata": {
        "colab": {
          "base_uri": "https://localhost:8080/"
        },
        "id": "gBurF8OLlqx5",
        "outputId": "fab77752-391d-4557-93ea-59e987f173ee"
      },
      "execution_count": 90,
      "outputs": [
        {
          "output_type": "stream",
          "name": "stdout",
          "text": [
            "generosity wins in all circumstances\n"
          ]
        }
      ]
    },
    {
      "cell_type": "code",
      "source": [
        "phrase = '{g} {0} {1} {c}'.format('wins', g = 'generosity', 'in all', c = \"circumstances\")\n",
        "print(phrase)  ## keyword argumanlar, poisitional argumanlardan sonra gelir.."
      ],
      "metadata": {
        "colab": {
          "base_uri": "https://localhost:8080/",
          "height": 131
        },
        "id": "26gkOuShl99y",
        "outputId": "119ed44e-3a0f-4144-9739-fa0897b3c4d4"
      },
      "execution_count": 91,
      "outputs": [
        {
          "output_type": "error",
          "ename": "SyntaxError",
          "evalue": "ignored",
          "traceback": [
            "\u001b[0;36m  File \u001b[0;32m\"<ipython-input-91-b50a606ba345>\"\u001b[0;36m, line \u001b[0;32m1\u001b[0m\n\u001b[0;31m    phrase = '{g} {0} {1} {c}'.format('wins', g = 'generosity', 'in all', c = \"circumstances\")\u001b[0m\n\u001b[0m                                                               ^\u001b[0m\n\u001b[0;31mSyntaxError\u001b[0m\u001b[0;31m:\u001b[0m positional argument follows keyword argument\n"
          ]
        }
      ]
    },
    {
      "cell_type": "code",
      "source": [
        "phrase = '{g} {0} {1} {c}'.format('wins', 'in all', c = \"circumstances\", g = 'generosity')\n",
        "print(phrase)  ## keyword argumanlar, poisitional argumanlardan sonra gelir.."
      ],
      "metadata": {
        "colab": {
          "base_uri": "https://localhost:8080/"
        },
        "id": "z-98fQWMmdpl",
        "outputId": "3f862e5e-f86e-4ede-9e64-74116d8e608e"
      },
      "execution_count": 92,
      "outputs": [
        {
          "output_type": "stream",
          "name": "stdout",
          "text": [
            "generosity wins in all circumstances\n"
          ]
        }
      ]
    },
    {
      "cell_type": "code",
      "source": [
        "phrase = '{g} {0} {1} {c}'.format(c = \"circumstances\", g = 'generosity', 'wins', 'in all')\n",
        "print(phrase)  ## keyword argumanlar, poisitional argumanlardan sonra gelir.."
      ],
      "metadata": {
        "colab": {
          "base_uri": "https://localhost:8080/",
          "height": 131
        },
        "id": "lpf0MQK7mkCf",
        "outputId": "e2a95db7-8607-4006-8fe3-7701aac13f34"
      },
      "execution_count": 93,
      "outputs": [
        {
          "output_type": "error",
          "ename": "SyntaxError",
          "evalue": "ignored",
          "traceback": [
            "\u001b[0;36m  File \u001b[0;32m\"<ipython-input-93-c935f16f115e>\"\u001b[0;36m, line \u001b[0;32m1\u001b[0m\n\u001b[0;31m    phrase = '{g} {0} {1} {c}'.format(c = \"circumstances\", g = 'generosity', 'wins', 'in all')\u001b[0m\n\u001b[0m                                                                            ^\u001b[0m\n\u001b[0;31mSyntaxError\u001b[0m\u001b[0;31m:\u001b[0m positional argument follows keyword argument\n"
          ]
        }
      ]
    },
    {
      "cell_type": "code",
      "source": [
        "## İstenen metin: generosity wins in all circumstances.\n",
        "g = 'generosity'\n",
        "w = 'wins'\n",
        "i = \"in all\"\n",
        "c = \"circumstances\"\n",
        "phrase = f'{g} {w} {i} {c}'\n",
        "print(phrase)"
      ],
      "metadata": {
        "colab": {
          "base_uri": "https://localhost:8080/"
        },
        "id": "XEfMW3itjTSX",
        "outputId": "76caaf8a-0dfb-4108-aed1-c505209c6e4a"
      },
      "execution_count": 85,
      "outputs": [
        {
          "output_type": "stream",
          "name": "stdout",
          "text": [
            "generosity wins in all circumstances\n"
          ]
        }
      ]
    },
    {
      "cell_type": "code",
      "source": [
        "sample = f\"{2**3}\"\n",
        "print(sample)"
      ],
      "metadata": {
        "colab": {
          "base_uri": "https://localhost:8080/"
        },
        "id": "cHp46F4Tnm6Z",
        "outputId": "dd64f4ca-2520-421e-c19c-cc96aea56e80"
      },
      "execution_count": 94,
      "outputs": [
        {
          "output_type": "stream",
          "name": "stdout",
          "text": [
            "8\n"
          ]
        }
      ]
    },
    {
      "cell_type": "code",
      "source": [
        "sample = f\"2^3 = {2**3}\"\n",
        "print(sample)"
      ],
      "metadata": {
        "colab": {
          "base_uri": "https://localhost:8080/"
        },
        "id": "HiuPloo0nzfV",
        "outputId": "73f402bb-f5fa-4717-bb12-04af7b975818"
      },
      "execution_count": 95,
      "outputs": [
        {
          "output_type": "stream",
          "name": "stdout",
          "text": [
            "2^3 = 8\n"
          ]
        }
      ]
    },
    {
      "cell_type": "code",
      "source": [
        "sample = \"2^3 = {}\".format(2**3)\n",
        "print(sample)"
      ],
      "metadata": {
        "colab": {
          "base_uri": "https://localhost:8080/"
        },
        "id": "4VxVROx4n9Bg",
        "outputId": "7cefc090-a534-4415-e2d5-734f2bc4a741"
      },
      "execution_count": 98,
      "outputs": [
        {
          "output_type": "stream",
          "name": "stdout",
          "text": [
            "2^3 = 8\n"
          ]
        }
      ]
    },
    {
      "cell_type": "code",
      "source": [
        "name = \"Bulend\"\n",
        "job = \"Teacher\"\n",
        "domain = \"Data Science\"\n",
        "\n",
        "message = (\n",
        "    f\"Hi {name}.\"\n",
        "    f\"You are one of the {job}\"\n",
        "    f\"in the {domain} section in clarusway.\"\n",
        ")\n",
        "\n",
        "print(message)"
      ],
      "metadata": {
        "colab": {
          "base_uri": "https://localhost:8080/"
        },
        "id": "w5gB63Z3oPZs",
        "outputId": "a442d714-7d29-47bd-8df1-0638f83298a7"
      },
      "execution_count": 99,
      "outputs": [
        {
          "output_type": "stream",
          "name": "stdout",
          "text": [
            "Hi Bulend.You are one of the Teacherin the Data Science section in clarusway.\n"
          ]
        }
      ]
    },
    {
      "cell_type": "code",
      "source": [
        "name = \"Bulend\"\n",
        "job = \"Teacher\"\n",
        "domain = \"Data Science\"\n",
        "\n",
        "message = f\"Hi {name}.\"\\\n",
        "    f\"You are one of the {job}\"\\\n",
        "    f\"in the {domain} section in clarusway.\"\n",
        "\n",
        "print(message)"
      ],
      "metadata": {
        "colab": {
          "base_uri": "https://localhost:8080/"
        },
        "id": "bsLcKDeWo5IU",
        "outputId": "8336f459-1eb7-472d-edfc-8ab908ce7f24"
      },
      "execution_count": 101,
      "outputs": [
        {
          "output_type": "stream",
          "name": "stdout",
          "text": [
            "Hi Bulend.You are one of the Teacherin the Data Science section in clarusway.\n"
          ]
        }
      ]
    },
    {
      "cell_type": "code",
      "source": [
        "name = \"Bulend\"\n",
        "job = \"Teacher\"\n",
        "domain = \"Data Science\"\n",
        "\n",
        "message = f\"Hi {name}.\\n\"\\\n",
        "    f\"You are one of the {job}\\n\"\\\n",
        "    f\"in the {domain} section in clarusway.\"\n",
        "\n",
        "print(message)"
      ],
      "metadata": {
        "colab": {
          "base_uri": "https://localhost:8080/"
        },
        "id": "ziPclMVepNeJ",
        "outputId": "d2e93ea9-b6fa-4797-c0e0-2dac92eecef0"
      },
      "execution_count": 102,
      "outputs": [
        {
          "output_type": "stream",
          "name": "stdout",
          "text": [
            "Hi Bulend.\n",
            "You are one of the Teacher\n",
            "in the Data Science section in clarusway.\n"
          ]
        }
      ]
    },
    {
      "cell_type": "code",
      "source": [
        "name = \"Bulend\"\n",
        "job = \"Teacher\"\n",
        "domain = \"Data Science\"\n",
        "\n",
        "message = f\"Hi {name}.\" \n",
        "f\"You are one of the {job}\"\n",
        "f\"in the {domain} section in clarusway.\"\n",
        "\n",
        "print(message)"
      ],
      "metadata": {
        "colab": {
          "base_uri": "https://localhost:8080/"
        },
        "id": "h3u0cuUmpgzI",
        "outputId": "e7d969dd-ad96-4107-eca2-c3b9d3974892"
      },
      "execution_count": 103,
      "outputs": [
        {
          "output_type": "stream",
          "name": "stdout",
          "text": [
            "Hi Bulend.\n"
          ]
        }
      ]
    },
    {
      "cell_type": "code",
      "source": [
        "name = \"Bulend\"\n",
        "job = \"Teacher\"\n",
        "domain = \"Data Science\"\n",
        "\n",
        "message = f\"Hi {name}.\"\\\n",
        "f\"You are one of the {job}\"\\\n",
        "f\"in the {domain} section in clarusway.\"\n",
        "\n",
        "print(message)"
      ],
      "metadata": {
        "colab": {
          "base_uri": "https://localhost:8080/"
        },
        "id": "O6wj4T_dptZN",
        "outputId": "55109e64-58e7-4842-e1d3-393677a587a7"
      },
      "execution_count": 104,
      "outputs": [
        {
          "output_type": "stream",
          "name": "stdout",
          "text": [
            "Hi Bulend.You are one of the Teacherin the Data Science section in clarusway.\n"
          ]
        }
      ]
    },
    {
      "cell_type": "code",
      "source": [
        "\"\"\"\n",
        "city = \"Pithon\"\n",
        "Question: Bir stringin (karakter dizisinin) herhangi bir elemanı, \n",
        "city[1]= 'y' şeklinde doğrudan değiştirilebilir mi?\n",
        "\"\"\"\n",
        "city = \"Pithon\"\n",
        "city[1] = \"y\" #immutable\n",
        "print(city)\n"
      ],
      "metadata": {
        "colab": {
          "base_uri": "https://localhost:8080/",
          "height": 218
        },
        "id": "eb3-bmlYqDeJ",
        "outputId": "28aa92c5-8065-4f1e-b5c5-bdad17b4c8eb"
      },
      "execution_count": 106,
      "outputs": [
        {
          "output_type": "error",
          "ename": "TypeError",
          "evalue": "ignored",
          "traceback": [
            "\u001b[0;31m---------------------------------------------------------------------------\u001b[0m",
            "\u001b[0;31mTypeError\u001b[0m                                 Traceback (most recent call last)",
            "\u001b[0;32m<ipython-input-106-ed0b53d31854>\u001b[0m in \u001b[0;36m<module>\u001b[0;34m()\u001b[0m\n\u001b[1;32m      5\u001b[0m \"\"\"\n\u001b[1;32m      6\u001b[0m \u001b[0mcity\u001b[0m \u001b[0;34m=\u001b[0m \u001b[0;34m\"Pithon\"\u001b[0m\u001b[0;34m\u001b[0m\u001b[0;34m\u001b[0m\u001b[0m\n\u001b[0;32m----> 7\u001b[0;31m \u001b[0mcity\u001b[0m\u001b[0;34m[\u001b[0m\u001b[0;36m1\u001b[0m\u001b[0;34m]\u001b[0m \u001b[0;34m=\u001b[0m \u001b[0;34m\"y\"\u001b[0m\u001b[0;34m\u001b[0m\u001b[0;34m\u001b[0m\u001b[0m\n\u001b[0m\u001b[1;32m      8\u001b[0m \u001b[0mprint\u001b[0m\u001b[0;34m(\u001b[0m\u001b[0mcity\u001b[0m\u001b[0;34m)\u001b[0m\u001b[0;34m\u001b[0m\u001b[0;34m\u001b[0m\u001b[0m\n",
            "\u001b[0;31mTypeError\u001b[0m: 'str' object does not support item assignment"
          ]
        }
      ]
    },
    {
      "cell_type": "code",
      "source": [
        "city = \"Pithon\"\n",
        "city = city[:1] +\"y\" + city[2:] #immutable\n",
        "print(city)"
      ],
      "metadata": {
        "colab": {
          "base_uri": "https://localhost:8080/"
        },
        "id": "fr54kNNjqdUt",
        "outputId": "4077de06-9e8b-40f6-a97c-6b6d3cdb989a"
      },
      "execution_count": 108,
      "outputs": [
        {
          "output_type": "stream",
          "name": "stdout",
          "text": [
            "Python\n"
          ]
        }
      ]
    },
    {
      "cell_type": "code",
      "source": [
        "city = \"Pithon\"\n",
        "city = city.replace('i','y')\n",
        "print(city)"
      ],
      "metadata": {
        "colab": {
          "base_uri": "https://localhost:8080/"
        },
        "id": "Yu4Cms6Hq2AZ",
        "outputId": "3ae3e666-3137-4a74-9fd6-b5da4cd6722b"
      },
      "execution_count": 109,
      "outputs": [
        {
          "output_type": "stream",
          "name": "stdout",
          "text": [
            "Python\n"
          ]
        }
      ]
    }
  ]
}