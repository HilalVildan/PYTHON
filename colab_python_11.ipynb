{
  "nbformat": 4,
  "nbformat_minor": 0,
  "metadata": {
    "colab": {
      "name": "colab_python_11.ipynb",
      "provenance": []
    },
    "kernelspec": {
      "name": "python3",
      "display_name": "Python 3"
    },
    "language_info": {
      "name": "python"
    }
  },
  "cells": [
    {
      "cell_type": "markdown",
      "source": [
        "**LOOPS** Session-11: Python Basics"
      ],
      "metadata": {
        "id": "TSzfg2KjDEmC"
      }
    },
    {
      "cell_type": "code",
      "source": [
        "!sudo apt-get install python3-tk"
      ],
      "metadata": {
        "colab": {
          "base_uri": "https://localhost:8080/"
        },
        "id": "ZOXv8_MoKCmC",
        "outputId": "cec0596a-8aa5-4856-cb61-73095c0dae4d"
      },
      "execution_count": 16,
      "outputs": [
        {
          "output_type": "stream",
          "name": "stdout",
          "text": [
            "Reading package lists... Done\n",
            "Building dependency tree       \n",
            "Reading state information... Done\n",
            "python3-tk is already the newest version (3.6.9-1~18.04).\n",
            "The following package was automatically installed and is no longer required:\n",
            "  libnvidia-common-460\n",
            "Use 'sudo apt autoremove' to remove it.\n",
            "0 upgraded, 0 newly installed, 0 to remove and 49 not upgraded.\n"
          ]
        }
      ]
    },
    {
      "cell_type": "code",
      "source": [
        "from turtle import *\n",
        "forward(100)\n",
        "right(90)\n",
        "forward(100)\n",
        "right(90)\n",
        "forward(100)\n",
        "right(90)\n",
        "forward(100)\n",
        "right(90)"
      ],
      "metadata": {
        "id": "41Naul9dDYxp"
      },
      "execution_count": null,
      "outputs": []
    },
    {
      "cell_type": "code",
      "source": [
        "from turtle import *\n",
        "for i in range(4):\n",
        "    forward(100)\n",
        "    right(90)"
      ],
      "metadata": {
        "id": "Y3RjY_CWIHPu"
      },
      "execution_count": null,
      "outputs": []
    },
    {
      "cell_type": "code",
      "source": [
        "number = 1  #döngü değişkeni: number\n",
        "while number < 6:\n",
        "    print(number)\n",
        "    number += 1 ## number = number + 1\n",
        "\n",
        "print(\"şimdi number 6 ya da daha büyük bir değere ulaştı...\", number)\n"
      ],
      "metadata": {
        "colab": {
          "base_uri": "https://localhost:8080/"
        },
        "id": "KCQLAVM3LRwU",
        "outputId": "27e5112f-04e4-4bf9-e317-a17a190e5327"
      },
      "execution_count": 11,
      "outputs": [
        {
          "output_type": "stream",
          "name": "stdout",
          "text": [
            "1\n",
            "2\n",
            "3\n",
            "4\n",
            "5\n",
            "şimdi number 6 ya da daha büyük bir değere ulaştı... 6\n"
          ]
        }
      ]
    },
    {
      "cell_type": "code",
      "source": [
        "number = 1  #döngü değişkeni: number\n",
        "while number < 6:\n",
        "    print(number)\n",
        "    number += 2 ## number = number + 2\n",
        "\n",
        "print(\"şimdi number 6 ya da daha büyük bir değere ulaştı...\", number)"
      ],
      "metadata": {
        "colab": {
          "base_uri": "https://localhost:8080/"
        },
        "id": "ptfdRU77L4HN",
        "outputId": "e63967dc-5f23-4125-c95e-dcfbd9f398f3"
      },
      "execution_count": 12,
      "outputs": [
        {
          "output_type": "stream",
          "name": "stdout",
          "text": [
            "1\n",
            "3\n",
            "5\n",
            "şimdi number 6 ya da daha büyük bir değere ulaştı... 7\n"
          ]
        }
      ]
    },
    {
      "cell_type": "code",
      "source": [
        "number = 1  #döngü değişkeni: number\n",
        "while number < 6:\n",
        "    print(number)\n",
        "    number -= 1 ## number = number - 1, sonsuz döngüye sebep oldu\n",
        "\n",
        "print(\"şimdi number 6 ya da daha büyük bir değere ulaştı...\", number)"
      ],
      "metadata": {
        "id": "QpaVaYM7MLlg"
      },
      "execution_count": null,
      "outputs": []
    },
    {
      "cell_type": "code",
      "source": [
        "##Sonsuz döngü örneği: Trafik sinyalizyonu\n",
        "while True:\n",
        "    sensor = input(\"Lamba rengi..:\")\n",
        "    if sensor == \"Kırmızı\":\n",
        "        print(\"DUR\")\n",
        "    elif sensor == \"Sarı\":\n",
        "        print(\"Hazır ol\")\n",
        "    elif sensor == \"Yeşil\":\n",
        "        print(\"GEÇ\")\n",
        "    else:\n",
        "        print(\"Hata!!\")\n",
        "        break ##döngüyü kırar (loop tan çıkar)"
      ],
      "metadata": {
        "colab": {
          "base_uri": "https://localhost:8080/"
        },
        "id": "sQth1uU5NKBw",
        "outputId": "ad38d137-2685-4547-ad5e-cc825fbeb3e3"
      },
      "execution_count": 14,
      "outputs": [
        {
          "output_type": "stream",
          "name": "stdout",
          "text": [
            "Lamba rengi..:Yeşil\n",
            "GEÇ\n",
            "Lamba rengi..:Kırmızı\n",
            "DUR\n",
            "Lamba rengi..:Sarı\n",
            "Hazır ol\n",
            "Lamba rengi..:dede\n",
            "Hata!!\n"
          ]
        }
      ]
    },
    {
      "cell_type": "code",
      "source": [
        "my_list = [1,2,3,4,5]\n",
        "a = 0\n",
        "while a<len(my_list):\n",
        "    print(f\"{my_list[a]} nın karesi..: {my_list[a]**2}\")\n",
        "    a += 1"
      ],
      "metadata": {
        "colab": {
          "base_uri": "https://localhost:8080/"
        },
        "id": "6A4dt4inj8Sb",
        "outputId": "935c50e8-58ec-42fc-d7b6-7d519503d5c3"
      },
      "execution_count": 50,
      "outputs": [
        {
          "output_type": "stream",
          "name": "stdout",
          "text": [
            "1 nın karesi..: 1\n",
            "2 nın karesi..: 4\n",
            "3 nın karesi..: 9\n",
            "4 nın karesi..: 16\n",
            "5 nın karesi..: 25\n"
          ]
        }
      ]
    },
    {
      "cell_type": "code",
      "source": [
        "my_list = [1,2,3,4,5]\n",
        "a = 0\n",
        "while a<len(my_list):\n",
        "    print(f\"{a} nın karesi..: {a**2}\")\n",
        "    a += 1\n"
      ],
      "metadata": {
        "colab": {
          "base_uri": "https://localhost:8080/"
        },
        "id": "t8oRSxe4R9sj",
        "outputId": "cc1f42db-180d-4d6e-9726-91aa56232d7d"
      },
      "execution_count": 18,
      "outputs": [
        {
          "output_type": "stream",
          "name": "stdout",
          "text": [
            "0 nın karesi..: 0\n",
            "1 nın karesi..: 1\n",
            "2 nın karesi..: 4\n",
            "3 nın karesi..: 9\n",
            "4 nın karesi..: 16\n"
          ]
        }
      ]
    },
    {
      "cell_type": "code",
      "source": [
        "my_list = [\"a\",\"b\",\"c\",\"d\",\"e\"]\n",
        "a = 0\n",
        "while a<len(my_list):\n",
        "    print(f\"{a} nın karesi..: {a**2}\")\n",
        "    a += 1"
      ],
      "metadata": {
        "colab": {
          "base_uri": "https://localhost:8080/"
        },
        "id": "0mn3Sbh0SbBN",
        "outputId": "8d157e66-697d-4a63-b9e9-fe887fb11220"
      },
      "execution_count": 19,
      "outputs": [
        {
          "output_type": "stream",
          "name": "stdout",
          "text": [
            "0 nın karesi..: 0\n",
            "1 nın karesi..: 1\n",
            "2 nın karesi..: 4\n",
            "3 nın karesi..: 9\n",
            "4 nın karesi..: 16\n"
          ]
        }
      ]
    },
    {
      "cell_type": "code",
      "source": [
        "age = input(\"yaşınız..:\")\n",
        "while not age.isdigit():\n",
        "    print(\"lütfen yaşınızı doğru giriniz..\")\n",
        "    age = input(\"yaşınız..:\")\n",
        "\n",
        "print(\"Tebrikler!, Yaşınız..:\", age)"
      ],
      "metadata": {
        "colab": {
          "base_uri": "https://localhost:8080/"
        },
        "id": "kx_etL4rUMuu",
        "outputId": "99377efa-667b-4328-becc-c6596539cab6"
      },
      "execution_count": 21,
      "outputs": [
        {
          "output_type": "stream",
          "name": "stdout",
          "text": [
            "yaşınız..:fg\n",
            "lütfen yaşınızı doğru giriniz..\n",
            "yaşınız..:tryu\n",
            "lütfen yaşınızı doğru giriniz..\n",
            "yaşınız..:89\n",
            "Tebrikler!, Yaşınız..: 89\n"
          ]
        }
      ]
    },
    {
      "cell_type": "code",
      "source": [
        "sayi = 30  ## bilgisayarın tuttuğu sayı\n",
        "while True:\n",
        "    tahmin = int(input('Hangi sayıyı tuttum..: '))\n",
        "    if tahmin < sayi:\n",
        "        print('daha büyük sayı gir')\n",
        "    elif tahmin > sayi:\n",
        "        print('daha kücük sayı gir')\n",
        "    else:\n",
        "        print('Bravo! sayiyi buldun')\n",
        "        break"
      ],
      "metadata": {
        "colab": {
          "base_uri": "https://localhost:8080/"
        },
        "id": "bylhyZc-VgHe",
        "outputId": "84d85967-e26b-4466-a534-f0bee637cf5d"
      },
      "execution_count": 22,
      "outputs": [
        {
          "output_type": "stream",
          "name": "stdout",
          "text": [
            "Hangi sayıyı tuttum..: 78\n",
            "daha kücük sayı gir\n",
            "Hangi sayıyı tuttum..: 45\n",
            "daha kücük sayı gir\n",
            "Hangi sayıyı tuttum..: 23\n",
            "daha büyük sayı gir\n",
            "Hangi sayıyı tuttum..: 30\n",
            "Bravo! sayiyi buldun\n"
          ]
        }
      ]
    },
    {
      "cell_type": "code",
      "source": [
        "from random import *\n",
        "sayi = randint(1,100)  ## bilgisayarın tuttuğu sayı\n",
        "s = 0\n",
        "while True:\n",
        "    tahmin = int(input('Hangi sayıyı tuttum..: '))\n",
        "    if tahmin < sayi:\n",
        "        print('daha büyük sayı gir')\n",
        "        s += 1\n",
        "    elif tahmin > sayi:\n",
        "        print('daha kücük sayı gir')\n",
        "        s += 1\n",
        "    else:\n",
        "        print(f'Bravo! sayiyi {s} tahminde buldun')\n",
        "        break"
      ],
      "metadata": {
        "id": "nwtEeLxZWWJB"
      },
      "execution_count": null,
      "outputs": []
    },
    {
      "cell_type": "code",
      "source": [
        "from random import *\n",
        "sayi = randint(1,100)  ## bilgisayarın tuttuğu sayı\n",
        "s = 0\n",
        "while True:\n",
        "    s += 1\n",
        "    tahmin = int(input('Hangi sayıyı tuttum..: '))\n",
        "    if tahmin < sayi:\n",
        "        print('daha büyük sayı gir')\n",
        "    elif tahmin > sayi:\n",
        "        print('daha kücük sayı gir')\n",
        "    else:  ##tahim==sayi\n",
        "        print(f'Bravo! sayiyi {s} tahminde buldun')\n",
        "        break"
      ],
      "metadata": {
        "id": "xx6HOsCBXkCa"
      },
      "execution_count": null,
      "outputs": []
    },
    {
      "cell_type": "code",
      "source": [
        "## Bir cümledeki en uzun kelimenin karakter sayısını bulalım?\n",
        "cumle = input(\"Give me a sentence..:\")\n",
        "kelime = cumle.split()\n",
        "print(kelime)\n",
        "enuzun = 0 #enuzun kelimenin karakter sayısı\n",
        "a = 0 #indis\n",
        "while a<len(kelime):\n",
        "    if len(kelime[a])>enuzun:\n",
        "        enuzun = len(kelime[a])\n",
        "    a += 1\n",
        "\n",
        "print(f\"En uzun kelimenin uzunluğu..:{enuzun}\")"
      ],
      "metadata": {
        "colab": {
          "base_uri": "https://localhost:8080/"
        },
        "id": "tMECq962ZtDs",
        "outputId": "0c25bd60-7f27-419e-9d42-52785f50f5ee"
      },
      "execution_count": 33,
      "outputs": [
        {
          "output_type": "stream",
          "name": "stdout",
          "text": [
            "Give me a sentence..:ali okula git.\n",
            "['ali', 'okula', 'git.']\n",
            "En uzun kelimein uzunluğu..:5\n"
          ]
        }
      ]
    },
    {
      "cell_type": "code",
      "source": [
        "## Bir cümledeki en uzun kelimeyi ve kelimenin karakter sayısını bulalım?\n",
        "cumle = input(\"Give me a sentence..:\")\n",
        "kelime = cumle.split()  #kelime listesine dönüştü\n",
        "print(kelime)\n",
        "enuzun = len(kelime[0]) #ilk kelimenin uzunluğu enuzun kabul edildi\n",
        "a = 1 #indis\n",
        "while a<len(kelime):\n",
        "    if len(kelime[a])>enuzun:\n",
        "        enuzun = len(kelime[a])\n",
        "        uzun_kelime = kelime[a]\n",
        "    a += 1\n",
        "\n",
        "print(f\"En uzun kelime..:{uzun_kelime}\")\n",
        "print(f\"En uzun kelimenin uzunluğu..:{enuzun}\")"
      ],
      "metadata": {
        "colab": {
          "base_uri": "https://localhost:8080/"
        },
        "id": "hK1hLKpcetYu",
        "outputId": "9c210559-64cf-4dc6-d171-1ab2a0cc2a67"
      },
      "execution_count": 36,
      "outputs": [
        {
          "output_type": "stream",
          "name": "stdout",
          "text": [
            "Give me a sentence..:Ali sinemaya ve okuluna1 gitti\n",
            "['Ali', 'sinemaya', 've', 'okuluna1', 'gitti']\n",
            "En uzun kelime..:sinemaya\n",
            "En uzun kelimenin uzunluğu..:8\n"
          ]
        }
      ]
    },
    {
      "cell_type": "code",
      "source": [
        "## Bir cümledeki en uzun kelimenin karakter sayısını bulalım? Döngüsüz: pythoniz çözüm...\n",
        "cumle = input(\"Give me a sentence..:\")\n",
        "kelime = cumle.split()  #kelime listesi\n",
        "enuzun = max(kelime, key=len)\n",
        "print(f\"En uzun kelime.:: {enuzun} ve karakter sayısı..:{len(enuzun)}\")"
      ],
      "metadata": {
        "colab": {
          "base_uri": "https://localhost:8080/"
        },
        "id": "nD8QpumbgDrA",
        "outputId": "1a37e1f1-2672-40d5-fe66-9e48fe85aa17"
      },
      "execution_count": 45,
      "outputs": [
        {
          "output_type": "stream",
          "name": "stdout",
          "text": [
            "Give me a sentence..:ali sınıfa gel\n",
            "En uzun kelime.:: sınıfa ve karakter sayısı..:6\n"
          ]
        }
      ]
    },
    {
      "cell_type": "code",
      "source": [
        "cumle = input(\"Give me a sentence..:\")\n",
        "kelime = cumle.split()  #kelime listesi\n",
        "print(type(kelime))\n",
        "enuzun = max(kelime, key=len)\n",
        "print(type(enuzun))\n",
        "print(f\"En uzun kelime.:: {enuzun} ve karakter sayısı..:{len(enuzun)}\")"
      ],
      "metadata": {
        "colab": {
          "base_uri": "https://localhost:8080/"
        },
        "id": "u_1jLC61ijUm",
        "outputId": "b828c5d6-2fea-46df-cfba-19a9b6e3d08b"
      },
      "execution_count": 49,
      "outputs": [
        {
          "output_type": "stream",
          "name": "stdout",
          "text": [
            "Give me a sentence..:ali okula gel\n",
            "<class 'list'>\n",
            "<class 'str'>\n",
            "En uzun kelime.:: okula ve karakter sayısı..:5\n"
          ]
        }
      ]
    },
    {
      "cell_type": "code",
      "source": [
        "my_list = [1,2,3,4,5]\n",
        "for a in my_list:\n",
        "    print(f\"{a} nın karesi..: {a**2}\")"
      ],
      "metadata": {
        "colab": {
          "base_uri": "https://localhost:8080/"
        },
        "id": "AV4cXxb9kQEi",
        "outputId": "afeee9f1-6c1f-48e4-8945-b5b1aba202e7"
      },
      "execution_count": 51,
      "outputs": [
        {
          "output_type": "stream",
          "name": "stdout",
          "text": [
            "1 nın karesi..: 1\n",
            "2 nın karesi..: 4\n",
            "3 nın karesi..: 9\n",
            "4 nın karesi..: 16\n",
            "5 nın karesi..: 25\n"
          ]
        }
      ]
    },
    {
      "cell_type": "code",
      "source": [
        "##for: iterable veri yapıları: list, tuple, set, dict, str,... üzerinde dolaşır.\n",
        "my_list = (\"kış\", \"ilkbahar\", \"yaz\", \"sonbahar\")\n",
        "for i in my_list:\n",
        "    print(i)"
      ],
      "metadata": {
        "colab": {
          "base_uri": "https://localhost:8080/"
        },
        "id": "e3GmOL-fktpX",
        "outputId": "09ad3684-31fd-4dd0-c116-dbaddce7c1e5"
      },
      "execution_count": 54,
      "outputs": [
        {
          "output_type": "stream",
          "name": "stdout",
          "text": [
            "kış\n",
            "ilkbahar\n",
            "yaz\n",
            "sonbahar\n"
          ]
        }
      ]
    },
    {
      "cell_type": "code",
      "source": [
        "names = ['Ahmed', 'Aisha', 'Adam', 'Joseph', 'Gabriel']\n",
        "for i in names:\n",
        "    print(\"Hello\", i)\n"
      ],
      "metadata": {
        "colab": {
          "base_uri": "https://localhost:8080/"
        },
        "id": "uZb-mG4bnBQL",
        "outputId": "93a28d8d-0906-4148-ad15-96b4ec106b4c"
      },
      "execution_count": 56,
      "outputs": [
        {
          "output_type": "stream",
          "name": "stdout",
          "text": [
            "Hello Ahmed\n",
            "Hello Aisha\n",
            "Hello Adam\n",
            "Hello Joseph\n",
            "Hello Gabriel\n"
          ]
        }
      ]
    },
    {
      "cell_type": "code",
      "source": [
        "sample_range = range(1,6)\n",
        "sample_list = list(sample_range)\n",
        "print(sample_list)"
      ],
      "metadata": {
        "colab": {
          "base_uri": "https://localhost:8080/"
        },
        "id": "LOQw5K41qhKt",
        "outputId": "84a7cd9c-1c14-47e8-95e2-4f037396c6b9"
      },
      "execution_count": 58,
      "outputs": [
        {
          "output_type": "stream",
          "name": "stdout",
          "text": [
            "[1, 2, 3, 4, 5]\n"
          ]
        }
      ]
    },
    {
      "cell_type": "code",
      "source": [
        "sample_list = []\n",
        "for i in range(1,6):\n",
        "    sample_list.append(i)\n",
        "## listeyi yazdırdım\n",
        "print(sample_list)"
      ],
      "metadata": {
        "colab": {
          "base_uri": "https://localhost:8080/"
        },
        "id": "8njlbk_hqnqo",
        "outputId": "14ba436b-f165-4bd4-c8eb-8c50987a91c6"
      },
      "execution_count": 59,
      "outputs": [
        {
          "output_type": "stream",
          "name": "stdout",
          "text": [
            "[1, 2, 3, 4, 5]\n"
          ]
        }
      ]
    },
    {
      "cell_type": "code",
      "source": [
        "course = \"clarusway\"\n",
        "for a in course:\n",
        "    print(a)"
      ],
      "metadata": {
        "colab": {
          "base_uri": "https://localhost:8080/"
        },
        "id": "kEVq6CmSrsFw",
        "outputId": "a8aec681-3998-4054-f4c9-97a622b4681b"
      },
      "execution_count": 60,
      "outputs": [
        {
          "output_type": "stream",
          "name": "stdout",
          "text": [
            "c\n",
            "l\n",
            "a\n",
            "r\n",
            "u\n",
            "s\n",
            "w\n",
            "a\n",
            "y\n"
          ]
        }
      ]
    },
    {
      "cell_type": "code",
      "source": [
        "#1.yol\n",
        "course = \"clarusway\"\n",
        "for a in course:\n",
        "    print(a, end=\"-\")\n",
        "print(\"\\b\")"
      ],
      "metadata": {
        "colab": {
          "base_uri": "https://localhost:8080/"
        },
        "id": "__j9AYy_smEv",
        "outputId": "e96f8ca2-4a22-4263-a102-9fc0be0c0e01"
      },
      "execution_count": 63,
      "outputs": [
        {
          "output_type": "stream",
          "name": "stdout",
          "text": [
            "c-l-a-r-u-s-w-a-y-\b\n"
          ]
        }
      ]
    },
    {
      "cell_type": "code",
      "source": [
        "#2.yol\n",
        "course = \"clarusway\"\n",
        "sayac = 0\n",
        "for a in course:\n",
        "    sayac +=1\n",
        "    if sayac<len(course):\n",
        "        a = a + \"-\"\n",
        "    print(a, end=\"\")"
      ],
      "metadata": {
        "colab": {
          "base_uri": "https://localhost:8080/"
        },
        "id": "6KDpHaFItM3x",
        "outputId": "d8907c71-74fb-4352-ca9e-cc62d9b5fd1c"
      },
      "execution_count": 65,
      "outputs": [
        {
          "output_type": "stream",
          "name": "stdout",
          "text": [
            "c-l-a-r-u-s-w-a-y"
          ]
        }
      ]
    },
    {
      "cell_type": "code",
      "source": [
        "#3.yol: pythonic çözüm\n",
        "course = \"clarusway\"\n",
        "print(\"-\".join(course))"
      ],
      "metadata": {
        "colab": {
          "base_uri": "https://localhost:8080/"
        },
        "id": "bOTWgT7TtusP",
        "outputId": "7b1355d9-bef0-4dbe-8751-11e9b1b920c9"
      },
      "execution_count": 66,
      "outputs": [
        {
          "output_type": "stream",
          "name": "stdout",
          "text": [
            "c-l-a-r-u-s-w-a-y\n"
          ]
        }
      ]
    },
    {
      "cell_type": "code",
      "source": [
        "user = {\n",
        "    \"name\": \"Daniel\",\n",
        "    \"surname\":\"Smith\",\n",
        "    \"age\": 35\n",
        "}\n",
        "for i in user:\n",
        "    print(i) #key değerleri verir"
      ],
      "metadata": {
        "colab": {
          "base_uri": "https://localhost:8080/"
        },
        "id": "Hn8V9jqHuyxB",
        "outputId": "4db97190-99db-47b5-d460-9704ad6f957f"
      },
      "execution_count": 67,
      "outputs": [
        {
          "output_type": "stream",
          "name": "stdout",
          "text": [
            "name\n",
            "surname\n",
            "age\n"
          ]
        }
      ]
    },
    {
      "cell_type": "code",
      "source": [
        "user = {\n",
        "    \"name\": \"Daniel\",\n",
        "    \"surname\":\"Smith\",\n",
        "    \"age\": 35\n",
        "}\n",
        "for i in user.values():\n",
        "    print(i, end=\" \") #values değerleri verir"
      ],
      "metadata": {
        "colab": {
          "base_uri": "https://localhost:8080/"
        },
        "id": "K_OJ0b2uvTxk",
        "outputId": "5f9ab065-cb05-4d8a-d2e2-e20ae127dbea"
      },
      "execution_count": 68,
      "outputs": [
        {
          "output_type": "stream",
          "name": "stdout",
          "text": [
            "Daniel Smith 35 "
          ]
        }
      ]
    },
    {
      "cell_type": "code",
      "source": [
        "user = {\n",
        "    \"name\": \"Daniel\",\n",
        "    \"surname\":\"Smith\",\n",
        "    \"age\": 35\n",
        "}\n",
        "for k,v in user.items():\n",
        "    print(k, \":\", v) #key-values değerleri verir"
      ],
      "metadata": {
        "colab": {
          "base_uri": "https://localhost:8080/"
        },
        "id": "XZkFPZbWvt_S",
        "outputId": "1a6c143c-32e3-4d92-b648-3bd9b30dd35f"
      },
      "execution_count": 69,
      "outputs": [
        {
          "output_type": "stream",
          "name": "stdout",
          "text": [
            "name : Daniel\n",
            "surname : Smith\n",
            "age : 35\n"
          ]
        }
      ]
    },
    {
      "cell_type": "code",
      "source": [
        "## Task-5: Fizz Buzz Oyunu:\n",
        "my_list = list(range(1,101))\n",
        "for i in my_list:\n",
        "    if i%3==0 and i%5==0:\n",
        "        print(\"FizzBuz\", end=\" \")\n",
        "    elif i%3==0: #sayı 3 e bölenebiliyorsa \"Fizz\"\n",
        "        print(\"Fizz\", end=\" \")\n",
        "    elif i%5==0: #sayı 5 e bölenebiliyorsa \"Buzz\"\n",
        "        print(\"Buzz\", end=\" \")\n",
        "    else:\n",
        "        print(i, end=\" \") #değilse sayıyı yaz"
      ],
      "metadata": {
        "colab": {
          "base_uri": "https://localhost:8080/"
        },
        "id": "q9DEsyTTwDJ8",
        "outputId": "0875eff0-1654-4c2f-9c71-3c84b7aa9428"
      },
      "execution_count": 74,
      "outputs": [
        {
          "output_type": "stream",
          "name": "stdout",
          "text": [
            "1 2 Fizz 4 Buzz Fizz 7 8 Fizz Buzz 11 Fizz 13 14 FizzBuz 16 17 Fizz 19 Buzz Fizz 22 23 Fizz Buzz 26 Fizz 28 29 FizzBuz 31 32 Fizz 34 Buzz Fizz 37 38 Fizz Buzz 41 Fizz 43 44 FizzBuz 46 47 Fizz 49 Buzz Fizz 52 53 Fizz Buzz 56 Fizz 58 59 FizzBuz 61 62 Fizz 64 Buzz Fizz 67 68 Fizz Buzz 71 Fizz 73 74 FizzBuz 76 77 Fizz 79 Buzz Fizz 82 83 Fizz Buzz 86 Fizz 88 89 FizzBuz 91 92 Fizz 94 Buzz Fizz 97 98 Fizz Buzz "
          ]
        }
      ]
    },
    {
      "cell_type": "code",
      "source": [
        "## Task-5: Fizz Buzz Oyunu-2:\n",
        "my_list = list(range(1,101))\n",
        "for i in my_list:\n",
        "    if i%3==0 and i%5!=0: #sayı 3 e bölenebiliyorsa \"Fizz\"\n",
        "        print(\"Fizz\", end=\" \")\n",
        "    elif i%5==0 and i%3!=0: #sayı 5 e bölenebiliyorsa \"Buzz\"\n",
        "        print(\"Buzz\", end=\" \")\n",
        "    elif i%3==0 and i%5==0:\n",
        "        print(\"FizzBuz\", end=\" \")\n",
        "    else:\n",
        "        print(i, end=\" \") #değilse sayıyı yaz"
      ],
      "metadata": {
        "colab": {
          "base_uri": "https://localhost:8080/"
        },
        "id": "Ldy6vnZwxuNZ",
        "outputId": "3ec7f459-af1a-4099-b5af-85c0999fd5a8"
      },
      "execution_count": 76,
      "outputs": [
        {
          "output_type": "stream",
          "name": "stdout",
          "text": [
            "1 2 Fizz 4 Buzz Fizz 7 8 Fizz Buzz 11 Fizz 13 14 FizzBuz 16 17 Fizz 19 Buzz Fizz 22 23 Fizz Buzz 26 Fizz 28 29 FizzBuz 31 32 Fizz 34 Buzz Fizz 37 38 Fizz Buzz 41 Fizz 43 44 FizzBuz 46 47 Fizz 49 Buzz Fizz 52 53 Fizz Buzz 56 Fizz 58 59 FizzBuz 61 62 Fizz 64 Buzz Fizz 67 68 Fizz Buzz 71 Fizz 73 74 FizzBuz 76 77 Fizz 79 Buzz Fizz 82 83 Fizz Buzz 86 Fizz 88 89 FizzBuz 91 92 Fizz 94 Buzz Fizz 97 98 Fizz Buzz "
          ]
        }
      ]
    },
    {
      "cell_type": "code",
      "source": [
        "## Task-5: Fizz Buzz Oyunu-3:\n",
        "my_list = list(range(1,101))\n",
        "for i in my_list:\n",
        "    if i%15==0:\n",
        "        print(\"FizzBuz\", end=\" \")\n",
        "    elif i%3==0: #sayı 3 e bölenebiliyorsa \"Fizz\"\n",
        "        print(\"Fizz\", end=\" \")\n",
        "    elif i%5==0: #sayı 5 e bölenebiliyorsa \"Buzz\"\n",
        "        print(\"Buzz\", end=\" \")\n",
        "    else:\n",
        "        print(i, end=\" \") #değilse sayıyı yaz"
      ],
      "metadata": {
        "colab": {
          "base_uri": "https://localhost:8080/"
        },
        "id": "Oa8c6L3-yLe8",
        "outputId": "fc588b55-04d4-45ce-e5ad-e5880b1e0316"
      },
      "execution_count": 77,
      "outputs": [
        {
          "output_type": "stream",
          "name": "stdout",
          "text": [
            "1 2 Fizz 4 Buzz Fizz 7 8 Fizz Buzz 11 Fizz 13 14 FizzBuz 16 17 Fizz 19 Buzz Fizz 22 23 Fizz Buzz 26 Fizz 28 29 FizzBuz 31 32 Fizz 34 Buzz Fizz 37 38 Fizz Buzz 41 Fizz 43 44 FizzBuz 46 47 Fizz 49 Buzz Fizz 52 53 Fizz Buzz 56 Fizz 58 59 FizzBuz 61 62 Fizz 64 Buzz Fizz 67 68 Fizz Buzz 71 Fizz 73 74 FizzBuz 76 77 Fizz 79 Buzz Fizz 82 83 Fizz Buzz 86 Fizz 88 89 FizzBuz 91 92 Fizz 94 Buzz Fizz 97 98 Fizz Buzz "
          ]
        }
      ]
    },
    {
      "cell_type": "code",
      "source": [
        "## Task-5: Fizz Buzz Oyunu-4:\n",
        "my_list = list(range(1,101))\n",
        "for i in my_list:\n",
        "    print (i%15==0 and \"FizzBuz\" or i%3==0 and \"Fizz\" or i%5==0 and \"Buzz\" or i, end=\" \") "
      ],
      "metadata": {
        "colab": {
          "base_uri": "https://localhost:8080/"
        },
        "id": "VB50IGupyYg2",
        "outputId": "4e44df41-0d95-4b28-9ec3-0118214a67a3"
      },
      "execution_count": 79,
      "outputs": [
        {
          "output_type": "stream",
          "name": "stdout",
          "text": [
            "1 2 Fizz 4 Buzz Fizz 7 8 Fizz Buzz 11 Fizz 13 14 FizzBuz 16 17 Fizz 19 Buzz Fizz 22 23 Fizz Buzz 26 Fizz 28 29 FizzBuz 31 32 Fizz 34 Buzz Fizz 37 38 Fizz Buzz 41 Fizz 43 44 FizzBuz 46 47 Fizz 49 Buzz Fizz 52 53 Fizz Buzz 56 Fizz 58 59 FizzBuz 61 62 Fizz 64 Buzz Fizz 67 68 Fizz Buzz 71 Fizz 73 74 FizzBuz 76 77 Fizz 79 Buzz Fizz 82 83 Fizz Buzz 86 Fizz 88 89 FizzBuz 91 92 Fizz 94 Buzz Fizz 97 98 Fizz Buzz "
          ]
        }
      ]
    },
    {
      "cell_type": "code",
      "source": [
        "#Çarpma işlemimini * opr. kullanmadan nasıl yaparız?\n",
        "a = 8\n",
        "b = 6\n",
        "t = 0\n",
        "for i in range(b):\n",
        "    t = t + a\n",
        "print(a, \"*\", b, \"=\", t)"
      ],
      "metadata": {
        "colab": {
          "base_uri": "https://localhost:8080/"
        },
        "id": "eKHzdfJ9zBzw",
        "outputId": "f95d7f6f-1be9-4de4-f299-31af169769ac"
      },
      "execution_count": 80,
      "outputs": [
        {
          "output_type": "stream",
          "name": "stdout",
          "text": [
            "8 * 6 = 48\n"
          ]
        }
      ]
    }
  ]
}