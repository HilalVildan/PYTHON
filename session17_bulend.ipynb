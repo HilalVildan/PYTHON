{
  "nbformat": 4,
  "nbformat_minor": 0,
  "metadata": {
    "colab": {
      "name": "session17_bulend.ipynb",
      "provenance": [],
      "collapsed_sections": []
    },
    "kernelspec": {
      "name": "python3",
      "display_name": "Python 3"
    },
    "language_info": {
      "name": "python"
    }
  },
  "cells": [
    {
      "cell_type": "markdown",
      "source": [
        "## Lambda Fonksiyonları: hatırlatmalar"
      ],
      "metadata": {
        "id": "fAtsArGBnUHM"
      }
    },
    {
      "cell_type": "code",
      "source": [
        "y = 100  # global\n",
        "def foo():\n",
        "    global y  # y değerini bütün programa yansıttık (kalıcı hale getirdik)\n",
        "    y = 300  # local\n",
        "    print(y)\n",
        "\n",
        "foo()\n",
        "print(y)"
      ],
      "metadata": {
        "colab": {
          "base_uri": "https://localhost:8080/"
        },
        "id": "mu_9jxYD6a5N",
        "outputId": "7104430a-547d-4cb2-ed6d-4c719a9c5d9c"
      },
      "execution_count": 1,
      "outputs": [
        {
          "output_type": "stream",
          "name": "stdout",
          "text": [
            "300\n",
            "300\n"
          ]
        }
      ]
    },
    {
      "cell_type": "code",
      "source": [
        "y = 100  # global y\n",
        "def foo():\n",
        "    y = 300  # local y\n",
        "    print(y)\n",
        "\n",
        "foo()\n",
        "print(y) #global scope"
      ],
      "metadata": {
        "colab": {
          "base_uri": "https://localhost:8080/"
        },
        "id": "KWpR8xF965vS",
        "outputId": "1550dddb-e6b6-40e2-a877-b4ef05b33b17"
      },
      "execution_count": 2,
      "outputs": [
        {
          "output_type": "stream",
          "name": "stdout",
          "text": [
            "300\n",
            "100\n"
          ]
        }
      ]
    },
    {
      "cell_type": "code",
      "execution_count": 3,
      "metadata": {
        "colab": {
          "base_uri": "https://localhost:8080/",
          "height": 131
        },
        "id": "F9QGCpnZnPVX",
        "outputId": "1b908256-93d3-4768-b2e9-f074d1b5f251"
      },
      "outputs": [
        {
          "output_type": "error",
          "ename": "SyntaxError",
          "evalue": "ignored",
          "traceback": [
            "\u001b[0;36m  File \u001b[0;32m\"<ipython-input-3-0d6be1ee6377>\"\u001b[0;36m, line \u001b[0;32m2\u001b[0m\n\u001b[0;31m    func = lambda x: return x\u001b[0m\n\u001b[0m                          ^\u001b[0m\n\u001b[0;31mSyntaxError\u001b[0m\u001b[0;31m:\u001b[0m invalid syntax\n"
          ]
        }
      ],
      "source": [
        "#Lambda fonksiyon tanımlamasında return kullanılmaz....\n",
        "func = lambda x: return x\n",
        "print(func(2))"
      ]
    },
    {
      "cell_type": "code",
      "source": [
        "(lambda x: (x + 3) * 5 / 2)(3)"
      ],
      "metadata": {
        "colab": {
          "base_uri": "https://localhost:8080/"
        },
        "id": "Q7dMLLO9-UqL",
        "outputId": "5652ad75-b03e-4283-8b5a-98ff78dbdea8"
      },
      "execution_count": 8,
      "outputs": [
        {
          "output_type": "execute_result",
          "data": {
            "text/plain": [
              "15.0"
            ]
          },
          "metadata": {},
          "execution_count": 8
        }
      ]
    },
    {
      "cell_type": "markdown",
      "source": [
        "Lambda within map() function :\n",
        "map() returns a list of the outputs after applying the given function to each element of a given iterable object such as list, tuple, etc.\n"
      ],
      "metadata": {
        "id": "7tR3F5I-qf_Y"
      }
    },
    {
      "cell_type": "code",
      "source": [
        "# in.: [1,2,3,4]\n",
        "# out: [1,4,9,16]\n",
        "sqrList = map(lambda x: x*x, [1, 2, 3, 4]) # SELECT\n",
        "print(list(sqrList))"
      ],
      "metadata": {
        "colab": {
          "base_uri": "https://localhost:8080/"
        },
        "id": "W3XPhEDbq2On",
        "outputId": "991ed479-74cb-49a6-c8e6-0bfd1f6cb5e0"
      },
      "execution_count": 4,
      "outputs": [
        {
          "output_type": "stream",
          "name": "stdout",
          "text": [
            "[1, 4, 9, 16]\n"
          ]
        }
      ]
    },
    {
      "cell_type": "markdown",
      "source": [
        "Lambda within filter() function :\n",
        "filter() filters the given sequence (iterable objects) with the help of a function (lambda) that tests each element in the sequence to be True or not"
      ],
      "metadata": {
        "id": "xc-sOrWYqo3u"
      }
    },
    {
      "cell_type": "code",
      "source": [
        "#in.: [1,2,3,4]\n",
        "#out: [2,4]\n",
        "oddList = filter(lambda x: x%2==0, [1, 2, 3, 4])  # WHERE\n",
        "print(list(oddList))"
      ],
      "metadata": {
        "colab": {
          "base_uri": "https://localhost:8080/"
        },
        "id": "OqbFQ4VjrLj3",
        "outputId": "3f6d32c8-95cd-4e59-f80e-786feeaffb6d"
      },
      "execution_count": 5,
      "outputs": [
        {
          "output_type": "stream",
          "name": "stdout",
          "text": [
            "[2, 4]\n"
          ]
        }
      ]
    },
    {
      "cell_type": "markdown",
      "source": [
        "Lambda within reduce() function :The reduce(fun,seq) function is used to apply a particular function passed in its argument to all of the list elements mentioned in the sequence passed along.This function is defined in “functools” module."
      ],
      "metadata": {
        "id": "CxkBHRiXsFf-"
      }
    },
    {
      "cell_type": "code",
      "source": [
        "#in.: [1,2,3,4]\n",
        "#out: 10\n",
        "from functools import reduce\n",
        "sumList = reduce(lambda x,y: x+y, [1, 2, 3, 4]) # aggregate\n",
        "print(sumList) #list,tuple dönüştürme gerekmez...\n",
        "# A single value gained as a result of applying the function to the iterable’s element."
      ],
      "metadata": {
        "colab": {
          "base_uri": "https://localhost:8080/"
        },
        "id": "tfWxIdnjtFY-",
        "outputId": "cf359289-5773-4723-845d-b2f3130fd456"
      },
      "execution_count": 20,
      "outputs": [
        {
          "output_type": "stream",
          "name": "stdout",
          "text": [
            "10\n"
          ]
        }
      ]
    },
    {
      "cell_type": "code",
      "source": [
        "import math\n",
        "print(math.prod([1, 2, 3, 4])) # Çünkü colab 3.7 sürümünü kullanıyorum"
      ],
      "metadata": {
        "colab": {
          "base_uri": "https://localhost:8080/",
          "height": 183
        },
        "id": "aY5J3k6pJRLW",
        "outputId": "7d57d024-b964-4cf9-98c1-1af8664006f7"
      },
      "execution_count": 29,
      "outputs": [
        {
          "output_type": "error",
          "ename": "AttributeError",
          "evalue": "ignored",
          "traceback": [
            "\u001b[0;31m---------------------------------------------------------------------------\u001b[0m",
            "\u001b[0;31mAttributeError\u001b[0m                            Traceback (most recent call last)",
            "\u001b[0;32m<ipython-input-29-290634a4c75b>\u001b[0m in \u001b[0;36m<module>\u001b[0;34m()\u001b[0m\n\u001b[1;32m      1\u001b[0m \u001b[0;32mimport\u001b[0m \u001b[0mmath\u001b[0m\u001b[0;34m\u001b[0m\u001b[0;34m\u001b[0m\u001b[0m\n\u001b[0;32m----> 2\u001b[0;31m \u001b[0mprint\u001b[0m\u001b[0;34m(\u001b[0m\u001b[0mmath\u001b[0m\u001b[0;34m.\u001b[0m\u001b[0mprod\u001b[0m\u001b[0;34m(\u001b[0m\u001b[0;34m[\u001b[0m\u001b[0;36m1\u001b[0m\u001b[0;34m,\u001b[0m \u001b[0;36m2\u001b[0m\u001b[0;34m,\u001b[0m \u001b[0;36m3\u001b[0m\u001b[0;34m,\u001b[0m \u001b[0;36m4\u001b[0m\u001b[0;34m]\u001b[0m\u001b[0;34m)\u001b[0m\u001b[0;34m)\u001b[0m\u001b[0;34m\u001b[0m\u001b[0;34m\u001b[0m\u001b[0m\n\u001b[0m",
            "\u001b[0;31mAttributeError\u001b[0m: module 'math' has no attribute 'prod'"
          ]
        }
      ]
    },
    {
      "cell_type": "code",
      "source": [
        "import functools\n",
        "print(dir(functools))"
      ],
      "metadata": {
        "colab": {
          "base_uri": "https://localhost:8080/"
        },
        "id": "UqLBanqsHTLy",
        "outputId": "26681ae7-32f2-43a0-8c93-a8b90f7e4116"
      },
      "execution_count": 23,
      "outputs": [
        {
          "output_type": "stream",
          "name": "stdout",
          "text": [
            "['RLock', 'WRAPPER_ASSIGNMENTS', 'WRAPPER_UPDATES', '_CacheInfo', '_HashedSeq', '__all__', '__builtins__', '__cached__', '__doc__', '__file__', '__loader__', '__name__', '__package__', '__spec__', '_c3_merge', '_c3_mro', '_compose_mro', '_convert', '_find_impl', '_ge_from_gt', '_ge_from_le', '_ge_from_lt', '_gt_from_ge', '_gt_from_le', '_gt_from_lt', '_le_from_ge', '_le_from_gt', '_le_from_lt', '_lru_cache_wrapper', '_lt_from_ge', '_lt_from_gt', '_lt_from_le', '_make_key', 'cmp_to_key', 'get_cache_token', 'lru_cache', 'namedtuple', 'partial', 'partialmethod', 'recursive_repr', 'reduce', 'singledispatch', 'total_ordering', 'update_wrapper', 'wraps']\n"
          ]
        }
      ]
    },
    {
      "cell_type": "code",
      "source": [
        "import math  ## built- in module\n",
        "print(dir(math))"
      ],
      "metadata": {
        "colab": {
          "base_uri": "https://localhost:8080/"
        },
        "id": "Pa-mFKDaHinc",
        "outputId": "1b32fab0-8637-463a-be7a-f5ad43d0b86d"
      },
      "execution_count": 24,
      "outputs": [
        {
          "output_type": "stream",
          "name": "stdout",
          "text": [
            "['__doc__', '__loader__', '__name__', '__package__', '__spec__', 'acos', 'acosh', 'asin', 'asinh', 'atan', 'atan2', 'atanh', 'ceil', 'copysign', 'cos', 'cosh', 'degrees', 'e', 'erf', 'erfc', 'exp', 'expm1', 'fabs', 'factorial', 'floor', 'fmod', 'frexp', 'fsum', 'gamma', 'gcd', 'hypot', 'inf', 'isclose', 'isfinite', 'isinf', 'isnan', 'ldexp', 'lgamma', 'log', 'log10', 'log1p', 'log2', 'modf', 'nan', 'pi', 'pow', 'radians', 'remainder', 'sin', 'sinh', 'sqrt', 'tan', 'tanh', 'tau', 'trunc']\n"
          ]
        }
      ]
    },
    {
      "cell_type": "code",
      "source": [
        "def add(x,y):\n",
        "    return x+y\n",
        "\n",
        "#main program\n",
        "print(add(2,3))"
      ],
      "metadata": {
        "colab": {
          "base_uri": "https://localhost:8080/"
        },
        "id": "03rpxr3lA6F8",
        "outputId": "07895446-d899-42d3-ed84-0a65971716bf"
      },
      "execution_count": 9,
      "outputs": [
        {
          "output_type": "stream",
          "name": "stdout",
          "text": [
            "5\n"
          ]
        }
      ]
    },
    {
      "cell_type": "code",
      "source": [
        "#1.kullanım : lambda\n",
        "add = lambda x,y : x+y\n",
        "#main program\n",
        "print(add(2,3))"
      ],
      "metadata": {
        "colab": {
          "base_uri": "https://localhost:8080/"
        },
        "id": "wjkZFHZkBHKi",
        "outputId": "2f18f951-27c2-4dc4-90ba-51489baf2ac7"
      },
      "execution_count": 10,
      "outputs": [
        {
          "output_type": "stream",
          "name": "stdout",
          "text": [
            "5\n"
          ]
        }
      ]
    },
    {
      "cell_type": "code",
      "source": [
        "#2.kullanım : lambda\n",
        "print((lambda x,y : x+y) (2,3))"
      ],
      "metadata": {
        "colab": {
          "base_uri": "https://localhost:8080/"
        },
        "id": "LN_HxhSQBip5",
        "outputId": "5d276c45-77bc-4ca3-ce88-257330f0bad7"
      },
      "execution_count": 12,
      "outputs": [
        {
          "output_type": "stream",
          "name": "stdout",
          "text": [
            "5\n"
          ]
        }
      ]
    },
    {
      "cell_type": "code",
      "source": [
        "from math import pi, factorial, log10\n",
        "print(pi)\n",
        "print(factorial(4))\n",
        "print(log10(1000))"
      ],
      "metadata": {
        "colab": {
          "base_uri": "https://localhost:8080/"
        },
        "id": "fRlvOHzmIJ3V",
        "outputId": "0e941158-6691-44f6-f25c-872079bb4be4"
      },
      "execution_count": 25,
      "outputs": [
        {
          "output_type": "stream",
          "name": "stdout",
          "text": [
            "3.141592653589793\n",
            "24\n",
            "3.0\n"
          ]
        }
      ]
    },
    {
      "cell_type": "code",
      "source": [
        "import math\n",
        "print(math.pi)\n",
        "print(math.factorial(4))\n",
        "print(math.log10(1000))"
      ],
      "metadata": {
        "colab": {
          "base_uri": "https://localhost:8080/"
        },
        "id": "lZ0SzGRzINEX",
        "outputId": "8739489d-c124-428a-c268-0568c62c42fb"
      },
      "execution_count": 27,
      "outputs": [
        {
          "output_type": "stream",
          "name": "stdout",
          "text": [
            "3.141592653589793\n",
            "24\n",
            "3.0\n"
          ]
        }
      ]
    },
    {
      "cell_type": "code",
      "source": [
        "import math as m\n",
        "print(m.pi)\n",
        "print(m.factorial(4))\n",
        "print(m.log10(1000))"
      ],
      "metadata": {
        "colab": {
          "base_uri": "https://localhost:8080/"
        },
        "id": "sm5yDBUyIf2f",
        "outputId": "a8be3e69-f2e5-4bd0-a41a-303a63535a94"
      },
      "execution_count": 28,
      "outputs": [
        {
          "output_type": "stream",
          "name": "stdout",
          "text": [
            "3.141592653589793\n",
            "24\n",
            "3.0\n"
          ]
        }
      ]
    },
    {
      "cell_type": "code",
      "source": [
        "import string as s\n",
        "print(s.punctuation)\n",
        "print(s.digits)"
      ],
      "metadata": {
        "colab": {
          "base_uri": "https://localhost:8080/"
        },
        "id": "mAXumPpxKuoS",
        "outputId": "63714aad-1bb0-487e-f492-fbbbdd325605"
      },
      "execution_count": 30,
      "outputs": [
        {
          "output_type": "stream",
          "name": "stdout",
          "text": [
            "!\"#$%&'()*+,-./:;<=>?@[\\]^_`{|}~\n",
            "0123456789\n"
          ]
        }
      ]
    },
    {
      "cell_type": "code",
      "source": [
        "## Soru: password generator \n",
        "## en az 1 harf (küçük, büyük), 1 rakam, 1 noktalama işaretinden oluşan bir şifre nasl oluştururuz?\n",
        "import string\n",
        "import random\n",
        "s1 = string.ascii_lowercase #küçük harf listesi\n",
        "s2 = string.ascii_uppercase #büyük harf listesi\n",
        "s3 = string.digits          #rakam listesi\n",
        "s4 = string.punctuation     #noktalama karakterlerinin listesi\n",
        "liste = [] #boş liste\n",
        "liste = s1 + s2 + s3 + s4\n",
        "print(\"Üretilen Password..:\")\n",
        "print(liste)\n",
        "#print(random.sample(liste, 8))\n",
        "print(\"\".join(random.sample(liste, 8)))"
      ],
      "metadata": {
        "colab": {
          "base_uri": "https://localhost:8080/"
        },
        "id": "QVh720kGK04I",
        "outputId": "81c9e402-142e-404a-ebd8-aa16af1e6259"
      },
      "execution_count": 42,
      "outputs": [
        {
          "output_type": "stream",
          "name": "stdout",
          "text": [
            "Üretilen Password..:\n",
            "abcdefghijklmnopqrstuvwxyzABCDEFGHIJKLMNOPQRSTUVWXYZ0123456789!\"#$%&'()*+,-./:;<=>?@[\\]^_`{|}~\n",
            "pwdK[NDS\n"
          ]
        }
      ]
    },
    {
      "cell_type": "code",
      "source": [
        "import string\n",
        "import random\n",
        "s1 = random.sample(string.ascii_lowercase,2) #küçük harf listesi\n",
        "s2 = random.sample(string.ascii_uppercase,2) #büyük harf listesi\n",
        "s3 = random.sample(string.digits,2)         #rakam listesi\n",
        "s4 = random.sample(string.punctuation,2)    #noktalama karakterlerinin listesi\n",
        "liste = [] #boş liste\n",
        "liste = s1 + s2 + s3 + s4\n",
        "print(\"Üretilen Password..:\")\n",
        "random.shuffle(liste)\n",
        "print(\"\".join(liste))\n",
        "#print(random.sample(liste, 8))\n",
        "#print(\"\".join(random.sample(liste, 8)))"
      ],
      "metadata": {
        "colab": {
          "base_uri": "https://localhost:8080/"
        },
        "id": "Yak8Ml3gQ-xG",
        "outputId": "70a8175b-f06c-474a-b256-d9d83469bd05"
      },
      "execution_count": 52,
      "outputs": [
        {
          "output_type": "stream",
          "name": "stdout",
          "text": [
            "Üretilen Password..:\n",
            "?dt_G2K5\n"
          ]
        }
      ]
    },
    {
      "cell_type": "code",
      "source": [
        "import datetime\n",
        "print(datetime.date.today())\n",
        "print(datetime.datetime.now())"
      ],
      "metadata": {
        "colab": {
          "base_uri": "https://localhost:8080/"
        },
        "id": "wD_shiEfSwEV",
        "outputId": "9f83d06d-a513-4cda-a9f6-2afff68f452e"
      },
      "execution_count": 53,
      "outputs": [
        {
          "output_type": "stream",
          "name": "stdout",
          "text": [
            "2022-07-16\n",
            "2022-07-16 09:16:03.684727\n"
          ]
        }
      ]
    },
    {
      "cell_type": "code",
      "source": [
        "import datetime\n",
        "print(datetime.datetime.now())"
      ],
      "metadata": {
        "colab": {
          "base_uri": "https://localhost:8080/"
        },
        "id": "H7SV0uwlS6_V",
        "outputId": "66fa3c6e-3f1d-4972-e60f-0756b6fb5723"
      },
      "execution_count": 54,
      "outputs": [
        {
          "output_type": "stream",
          "name": "stdout",
          "text": [
            "2022-07-16 09:17:06.938039\n"
          ]
        }
      ]
    },
    {
      "cell_type": "code",
      "source": [
        "from random import choice\n",
        "city = [\"Stockholm\", \"Istanbul\", \"Seul\", \"Cape Town\"] #aday şehirler\n",
        "print(choice(city))"
      ],
      "metadata": {
        "colab": {
          "base_uri": "https://localhost:8080/"
        },
        "id": "HJlgoEq0Th54",
        "outputId": "5f4f3c6b-4b06-4567-919e-340eb9fb2c0b"
      },
      "execution_count": 60,
      "outputs": [
        {
          "output_type": "stream",
          "name": "stdout",
          "text": [
            "Seul\n"
          ]
        }
      ]
    },
    {
      "cell_type": "code",
      "source": [
        "chars = \"\"\"abcdefghijklmnopqrstuvwxyzABCDEFGHIJKLMNOPQRSTUVWXYZ123456789!\"'()*+-./:;<=>?@[\\]^_`{|}~#$%&,\"\"\""
      ],
      "metadata": {
        "id": "mkgtThXDUqfM"
      },
      "execution_count": 63,
      "outputs": []
    },
    {
      "cell_type": "code",
      "source": [
        "# by Ramazan bey\n",
        "from datetime import date\n",
        "doğum = date(571, 4, 22)\n",
        "vefat = date(632, 6, 8)\n",
        "print(date.toordinal(vefat)- date.toordinal(doğum))"
      ],
      "metadata": {
        "colab": {
          "base_uri": "https://localhost:8080/"
        },
        "id": "7tR1VjQhVqIx",
        "outputId": "9491cf13-c201-42c1-892c-c2b1313a1036"
      },
      "execution_count": 64,
      "outputs": [
        {
          "output_type": "stream",
          "name": "stdout",
          "text": [
            "22327\n"
          ]
        }
      ]
    },
    {
      "cell_type": "markdown",
      "source": [
        ""
      ],
      "metadata": {
        "id": "kxmhe0cOa0-h"
      }
    },
    {
      "cell_type": "code",
      "source": [
        "# Yılı verir\n",
        "from datetime import date\n",
        "doğum = date(571, 4, 22)\n",
        "vefat = date(632, 6, 8)\n",
        "print(vefat.year- doğum.year)"
      ],
      "metadata": {
        "colab": {
          "base_uri": "https://localhost:8080/"
        },
        "id": "RVgVqMsGWzES",
        "outputId": "5aaacf81-6c1d-4080-e380-f61e0e362fdd"
      },
      "execution_count": 71,
      "outputs": [
        {
          "output_type": "stream",
          "name": "stdout",
          "text": [
            "61\n"
          ]
        }
      ]
    },
    {
      "cell_type": "code",
      "source": [
        "# by Hilmi bey\n",
        "from datetime import date\n",
        "d1 = date(571, 4, 22)\n",
        "d2 = date(632, 6, 8)\n",
        "difference = d2 - d1\n",
        "print(difference.days)"
      ],
      "metadata": {
        "colab": {
          "base_uri": "https://localhost:8080/"
        },
        "id": "RFzGkFljV1iS",
        "outputId": "772d30ed-2a6c-44d9-b6d5-5c7a4039a0be"
      },
      "execution_count": 65,
      "outputs": [
        {
          "output_type": "stream",
          "name": "stdout",
          "text": [
            "22327\n"
          ]
        }
      ]
    },
    {
      "cell_type": "code",
      "source": [
        "# by Furkan bey\n",
        "import datetime\n",
        "tarih = \"571/4/22\"\n",
        "tarih = tarih.split(\"/\")\n",
        "tarih2 = \"632/6/8\"\n",
        "tarih2 = tarih2.split(\"/\")\n",
        "D_T = datetime.datetime(int(tarih[0]),int(tarih[1]),int(tarih[2]))\n",
        "OlumTarihi = datetime.datetime(int(tarih2[0]),int(tarih2[1]),int(tarih2[2]))\n",
        "fark = OlumTarihi - D_T\n",
        "days = fark.days\n",
        "print(days)"
      ],
      "metadata": {
        "colab": {
          "base_uri": "https://localhost:8080/"
        },
        "id": "MXC0QB0_WFat",
        "outputId": "252c0f7a-1c33-4777-d736-9644db581618"
      },
      "execution_count": 69,
      "outputs": [
        {
          "output_type": "stream",
          "name": "stdout",
          "text": [
            "22327\n"
          ]
        }
      ]
    },
    {
      "cell_type": "code",
      "source": [
        "pwd # O an bulunduğum klasörü verir"
      ],
      "metadata": {
        "colab": {
          "base_uri": "https://localhost:8080/",
          "height": 35
        },
        "id": "BehNdio-dIGL",
        "outputId": "cd11f7c6-df38-4111-d22f-e68cc075273d"
      },
      "execution_count": 72,
      "outputs": [
        {
          "output_type": "execute_result",
          "data": {
            "text/plain": [
              "'/content'"
            ],
            "application/vnd.google.colaboratory.intrinsic+json": {
              "type": "string"
            }
          },
          "metadata": {},
          "execution_count": 72
        }
      ]
    }
  ]
}