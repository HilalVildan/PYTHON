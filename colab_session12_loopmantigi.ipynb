{
 "cells": [
  {
   "cell_type": "markdown",
   "metadata": {},
   "source": [
    "## Python Basic: Loops, Session:12\n"
   ]
  },
  {
   "cell_type": "code",
   "execution_count": 1,
   "metadata": {},
   "outputs": [],
   "source": [
    "#döngü çalışma mantığı: kare_çiz\n",
    "import turtle as t\n",
    "for i in range(4):\n",
    "    t.forward(100)\n",
    "    t.right(90)"
   ]
  },
  {
   "cell_type": "code",
   "execution_count": 2,
   "metadata": {},
   "outputs": [
    {
     "name": "stdout",
     "output_type": "stream",
     "text": [
      "I love you!\n",
      "I love you!\n",
      "I love you!\n",
      "I love you!\n",
      "I love you!\n"
     ]
    }
   ],
   "source": [
    "times = int(input(\"Kaç kez tekrarlamalıyım?\"))\n",
    "for _ in range(times):  ## _ bir değişken: döngü değişkeni\n",
    "    print(\"I love you!\")"
   ]
  },
  {
   "cell_type": "code",
   "execution_count": 3,
   "metadata": {},
   "outputs": [
    {
     "name": "stdout",
     "output_type": "stream",
     "text": [
      "I love you!\n",
      "I love you!\n",
      "I love you!\n",
      "I love you!\n",
      "I love you!\n",
      "\n"
     ]
    }
   ],
   "source": [
    "times = int(input(\"Kaç kez tekrarlamalıyım?\"))\n",
    "print(\"I love you!\\n\"*times)"
   ]
  },
  {
   "cell_type": "code",
   "execution_count": 4,
   "metadata": {},
   "outputs": [
    {
     "name": "stdout",
     "output_type": "stream",
     "text": [
      "5 * 0 = 0\n",
      "5 * 1 = 5\n",
      "5 * 2 = 10\n",
      "5 * 3 = 15\n",
      "5 * 4 = 20\n",
      "5 * 5 = 25\n",
      "5 * 6 = 30\n",
      "5 * 7 = 35\n",
      "5 * 8 = 40\n",
      "5 * 9 = 45\n",
      "5 * 10 = 50\n"
     ]
    }
   ],
   "source": [
    "num = int(input(\"Hangi sayı..:\"))\n",
    "for i in range(11):  ## _ bir değişken: döngü değişkeni\n",
    "    print(f\"{num} * {i} = {num*i}\")"
   ]
  },
  {
   "cell_type": "code",
   "execution_count": 6,
   "metadata": {},
   "outputs": [
    {
     "name": "stdout",
     "output_type": "stream",
     "text": [
      "1 * 1 = 1\n",
      "1 * 2 = 2\n",
      "1 * 3 = 3\n",
      "1 * 4 = 4\n",
      "1 * 5 = 5\n",
      "1 * 6 = 6\n",
      "1 * 7 = 7\n",
      "1 * 8 = 8\n",
      "1 * 9 = 9\n",
      "1 * 10 = 10\n",
      "\n",
      "2 * 1 = 2\n",
      "2 * 2 = 4\n",
      "2 * 3 = 6\n",
      "2 * 4 = 8\n",
      "2 * 5 = 10\n",
      "2 * 6 = 12\n",
      "2 * 7 = 14\n",
      "2 * 8 = 16\n",
      "2 * 9 = 18\n",
      "2 * 10 = 20\n",
      "\n",
      "3 * 1 = 3\n",
      "3 * 2 = 6\n",
      "3 * 3 = 9\n",
      "3 * 4 = 12\n",
      "3 * 5 = 15\n",
      "3 * 6 = 18\n",
      "3 * 7 = 21\n",
      "3 * 8 = 24\n",
      "3 * 9 = 27\n",
      "3 * 10 = 30\n",
      "\n",
      "4 * 1 = 4\n",
      "4 * 2 = 8\n",
      "4 * 3 = 12\n",
      "4 * 4 = 16\n",
      "4 * 5 = 20\n",
      "4 * 6 = 24\n",
      "4 * 7 = 28\n",
      "4 * 8 = 32\n",
      "4 * 9 = 36\n",
      "4 * 10 = 40\n",
      "\n",
      "5 * 1 = 5\n",
      "5 * 2 = 10\n",
      "5 * 3 = 15\n",
      "5 * 4 = 20\n",
      "5 * 5 = 25\n",
      "5 * 6 = 30\n",
      "5 * 7 = 35\n",
      "5 * 8 = 40\n",
      "5 * 9 = 45\n",
      "5 * 10 = 50\n",
      "\n",
      "6 * 1 = 6\n",
      "6 * 2 = 12\n",
      "6 * 3 = 18\n",
      "6 * 4 = 24\n",
      "6 * 5 = 30\n",
      "6 * 6 = 36\n",
      "6 * 7 = 42\n",
      "6 * 8 = 48\n",
      "6 * 9 = 54\n",
      "6 * 10 = 60\n",
      "\n",
      "7 * 1 = 7\n",
      "7 * 2 = 14\n",
      "7 * 3 = 21\n",
      "7 * 4 = 28\n",
      "7 * 5 = 35\n",
      "7 * 6 = 42\n",
      "7 * 7 = 49\n",
      "7 * 8 = 56\n",
      "7 * 9 = 63\n",
      "7 * 10 = 70\n",
      "\n",
      "8 * 1 = 8\n",
      "8 * 2 = 16\n",
      "8 * 3 = 24\n",
      "8 * 4 = 32\n",
      "8 * 5 = 40\n",
      "8 * 6 = 48\n",
      "8 * 7 = 56\n",
      "8 * 8 = 64\n",
      "8 * 9 = 72\n",
      "8 * 10 = 80\n",
      "\n",
      "9 * 1 = 9\n",
      "9 * 2 = 18\n",
      "9 * 3 = 27\n",
      "9 * 4 = 36\n",
      "9 * 5 = 45\n",
      "9 * 6 = 54\n",
      "9 * 7 = 63\n",
      "9 * 8 = 72\n",
      "9 * 9 = 81\n",
      "9 * 10 = 90\n",
      "\n",
      "10 * 1 = 10\n",
      "10 * 2 = 20\n",
      "10 * 3 = 30\n",
      "10 * 4 = 40\n",
      "10 * 5 = 50\n",
      "10 * 6 = 60\n",
      "10 * 7 = 70\n",
      "10 * 8 = 80\n",
      "10 * 9 = 90\n",
      "10 * 10 = 100\n",
      "\n"
     ]
    }
   ],
   "source": [
    "#iç içe döngü mantığı: çarpım tablosu (klasik yaklaşım)\n",
    "for num in range(1,11):\n",
    "    for i in range(1,11):  ## _ bir değişken: döngü değişkeni\n",
    "        print(f\"{num} * {i} = {num*i}\")\n",
    "    print() #içteki döngü tamamlandıktan alt satıra geç"
   ]
  },
  {
   "cell_type": "code",
   "execution_count": 8,
   "metadata": {},
   "outputs": [
    {
     "name": "stdout",
     "output_type": "stream",
     "text": [
      "[0, 1, 2, 3, 4, 5, 6, 7, 8, 9, 10]\n"
     ]
    }
   ],
   "source": [
    "b = list(range(11))\n",
    "print(b)"
   ]
  },
  {
   "cell_type": "code",
   "execution_count": 9,
   "metadata": {},
   "outputs": [
    {
     "name": "stdout",
     "output_type": "stream",
     "text": [
      "{0, 1, 2, 3, 4, 5, 6, 7, 8, 9, 10}\n"
     ]
    }
   ],
   "source": [
    "b = set(range(11))\n",
    "print(b)"
   ]
  },
  {
   "cell_type": "code",
   "execution_count": 10,
   "metadata": {},
   "outputs": [
    {
     "name": "stdout",
     "output_type": "stream",
     "text": [
      "(0, 1, 2, 3, 4, 5, 6, 7, 8, 9, 10)\n"
     ]
    }
   ],
   "source": [
    "b = tuple(range(11))\n",
    "print(b)"
   ]
  },
  {
   "cell_type": "code",
   "execution_count": 11,
   "metadata": {},
   "outputs": [
    {
     "ename": "TypeError",
     "evalue": "cannot convert dictionary update sequence element #0 to a sequence",
     "output_type": "error",
     "traceback": [
      "\u001b[0;31m---------------------------------------------------------------------------\u001b[0m",
      "\u001b[0;31mTypeError\u001b[0m                                 Traceback (most recent call last)",
      "\u001b[1;32m/home/bull/Downloads/loopmantigi.ipynb Cell 10'\u001b[0m in \u001b[0;36m<cell line: 1>\u001b[0;34m()\u001b[0m\n\u001b[0;32m----> <a href='vscode-notebook-cell:/home/bull/Downloads/loopmantigi.ipynb#ch0000009?line=0'>1</a>\u001b[0m b \u001b[39m=\u001b[39m \u001b[39mdict\u001b[39;49m(\u001b[39mrange\u001b[39;49m(\u001b[39m11\u001b[39;49m))\n\u001b[1;32m      <a href='vscode-notebook-cell:/home/bull/Downloads/loopmantigi.ipynb#ch0000009?line=1'>2</a>\u001b[0m \u001b[39mprint\u001b[39m(b)\n",
      "\u001b[0;31mTypeError\u001b[0m: cannot convert dictionary update sequence element #0 to a sequence"
     ]
    }
   ],
   "source": [
    "b = dict(range(11))\n",
    "print(b)"
   ]
  },
  {
   "cell_type": "code",
   "execution_count": 15,
   "metadata": {},
   "outputs": [
    {
     "name": "stdout",
     "output_type": "stream",
     "text": [
      "{0: 0, 1: 1, 2: 2, 3: 3, 4: 4, 5: 5, 6: 6, 7: 7, 8: 8, 9: 9, 10: 10}\n"
     ]
    }
   ],
   "source": [
    "b = dict(zip(range(11), range(11)))\n",
    "print(b)"
   ]
  },
  {
   "cell_type": "code",
   "execution_count": 16,
   "metadata": {},
   "outputs": [
    {
     "name": "stdout",
     "output_type": "stream",
     "text": [
      "range(0, 5)\n"
     ]
    }
   ],
   "source": [
    "print(range(5))"
   ]
  },
  {
   "cell_type": "code",
   "execution_count": 17,
   "metadata": {},
   "outputs": [
    {
     "name": "stdout",
     "output_type": "stream",
     "text": [
      "0 1 2 3 4\n"
     ]
    }
   ],
   "source": [
    "print(*range(5)) #unpacking"
   ]
  },
  {
   "cell_type": "code",
   "execution_count": 19,
   "metadata": {},
   "outputs": [
    {
     "name": "stdout",
     "output_type": "stream",
     "text": [
      "<class 'range'>\n"
     ]
    }
   ],
   "source": [
    "print(type(range(5))) #unpacking"
   ]
  },
  {
   "cell_type": "code",
   "execution_count": 20,
   "metadata": {},
   "outputs": [
    {
     "name": "stdout",
     "output_type": "stream",
     "text": [
      "5 7 9 11 13 15 17 19 21 23\n"
     ]
    }
   ],
   "source": [
    "print(*range(5,25,2)) #unpacking"
   ]
  },
  {
   "cell_type": "code",
   "execution_count": 22,
   "metadata": {},
   "outputs": [
    {
     "name": "stdout",
     "output_type": "stream",
     "text": [
      "s e p e r a t e\n"
     ]
    }
   ],
   "source": [
    "print(* 'seperate')"
   ]
  },
  {
   "cell_type": "code",
   "execution_count": 23,
   "metadata": {},
   "outputs": [
    {
     "name": "stdout",
     "output_type": "stream",
     "text": [
      "s e p e r a t e\n"
     ]
    }
   ],
   "source": [
    "print(* ('seperate'))"
   ]
  },
  {
   "cell_type": "code",
   "execution_count": 24,
   "metadata": {},
   "outputs": [
    {
     "name": "stdout",
     "output_type": "stream",
     "text": [
      "5 7 9 11 13 15 17 19 21 23\n"
     ]
    }
   ],
   "source": [
    "print(*list(range(5,25,2))) #dıştki parantez kalkar"
   ]
  },
  {
   "cell_type": "code",
   "execution_count": 25,
   "metadata": {},
   "outputs": [
    {
     "name": "stdout",
     "output_type": "stream",
     "text": [
      "10 8 6 4 2\n"
     ]
    }
   ],
   "source": [
    "print(*range(10,0,-2)) #unpacking"
   ]
  },
  {
   "cell_type": "code",
   "execution_count": 28,
   "metadata": {},
   "outputs": [
    {
     "name": "stdout",
     "output_type": "stream",
     "text": [
      "5!= 120\n"
     ]
    }
   ],
   "source": [
    "# 5! = 5*4*3*2*1\n",
    "## Girilen sayının faktöriyelini alma (döngülü-klasik yöntem...)\n",
    "n = 5\n",
    "f = 1 # etkisiz eleman:1\n",
    "for i in range(n,0,-1):\n",
    "    f = f*i #yığmalı(birikimli) çarpma \n",
    "\n",
    "print(f\"{n}!= {f}\")"
   ]
  },
  {
   "cell_type": "code",
   "execution_count": 29,
   "metadata": {},
   "outputs": [
    {
     "name": "stdout",
     "output_type": "stream",
     "text": [
      "one : 1\n",
      "two : 2\n",
      "three : 3\n",
      "four : 4\n",
      "five : 5\n"
     ]
    }
   ],
   "source": [
    "text = [\"one\", \"two\", \"three\", \"four\", \"five\"]\n",
    "nums = [1,2,3,4,5]\n",
    "for k, v in zip(text, nums):\n",
    "    print(k,\":\", v)"
   ]
  },
  {
   "cell_type": "code",
   "execution_count": 30,
   "metadata": {},
   "outputs": [
    {
     "name": "stdout",
     "output_type": "stream",
     "text": [
      "one => 1\n",
      "two => 2\n",
      "three => 3\n",
      "four => 4\n",
      "five => 5\n"
     ]
    }
   ],
   "source": [
    "text = [\"one\", \"two\", \"three\", \"four\", \"five\"]\n",
    "nums = [1,2,3,4,5]\n",
    "for k, v in zip(text, nums):\n",
    "    print(k,\"=>\", v)"
   ]
  },
  {
   "cell_type": "code",
   "execution_count": 31,
   "metadata": {},
   "outputs": [
    {
     "name": "stdout",
     "output_type": "stream",
     "text": [
      "[2, 4, 6, 8]\n",
      "[1, 3, 5, 7, 9]\n"
     ]
    }
   ],
   "source": [
    "evens = []\n",
    "odds = []\n",
    "for i in range(1,10):\n",
    "    if i%2==0:\n",
    "        evens.append(i)\n",
    "    else:\n",
    "        odds.append(i)\n",
    "\n",
    "print(evens)\n",
    "print(odds)"
   ]
  },
  {
   "cell_type": "code",
   "execution_count": 32,
   "metadata": {},
   "outputs": [
    {
     "name": "stdout",
     "output_type": "stream",
     "text": [
      "[2, 4, 6, 8]\n",
      "[1, 3, 5, 7, 9]\n",
      "Çift sayıların adedi..: 4\n",
      "Tek sayıların adedi..: 5\n"
     ]
    }
   ],
   "source": [
    "evens = []\n",
    "odds = []\n",
    "for i in range(1,10):\n",
    "    if i%2==0:\n",
    "        evens.append(i)\n",
    "    else:\n",
    "        odds.append(i)\n",
    "\n",
    "print(evens)\n",
    "print(odds)\n",
    "print(\"Çift sayıların adedi..:\", len(evens))\n",
    "print(\"Tek sayıların adedi..:\", len(odds))"
   ]
  },
  {
   "cell_type": "code",
   "execution_count": 33,
   "metadata": {},
   "outputs": [
    {
     "name": "stdout",
     "output_type": "stream",
     "text": [
      "[2, 4, 6, 8]\n",
      "[1, 3, 5, 7, 9]\n",
      "Çift sayıların adedi..: 4\n",
      "Tek sayıların adedi..: 5\n"
     ]
    }
   ],
   "source": [
    "#2.yöntem\n",
    "evens = []\n",
    "odds = []\n",
    "count0 = 0\n",
    "count1 = 0\n",
    "for i in range(1,10):\n",
    "    if i%2==0:\n",
    "        evens.append(i)\n",
    "        count0 += 1\n",
    "    else:\n",
    "        odds.append(i)\n",
    "        count1 +=1\n",
    "\n",
    "print(evens)\n",
    "print(odds)\n",
    "print(\"Çift sayıların adedi..:\", count0)\n",
    "print(\"Tek sayıların adedi..:\", count1)"
   ]
  },
  {
   "cell_type": "code",
   "execution_count": 36,
   "metadata": {},
   "outputs": [
    {
     "name": "stdout",
     "output_type": "stream",
     "text": [
      "Çift sayıların adedi..: 3\n",
      "Tek sayıların adedi..: 4\n"
     ]
    }
   ],
   "source": [
    "example_list = [11,2,24,61,48,33,3]\n",
    "even_count = 0\n",
    "odd_count = 0\n",
    "for i in example_list:\n",
    "    if i%2==0:\n",
    "        even_count += 1\n",
    "    else:\n",
    "        odd_count += 1\n",
    "\n",
    "print(\"Çift sayıların adedi..:\", even_count)\n",
    "print(\"Tek sayıların adedi..:\", odd_count)"
   ]
  },
  {
   "cell_type": "code",
   "execution_count": 42,
   "metadata": {},
   "outputs": [
    {
     "name": "stdout",
     "output_type": "stream",
     "text": [
      "1 \n",
      "2 2 \n",
      "3 3 3 \n",
      "4 4 4 4 \n",
      "5 5 5 5 5 \n",
      "6 6 6 6 6 6 \n",
      "7 7 7 7 7 7 7 \n",
      "8 8 8 8 8 8 8 8 \n",
      "9 9 9 9 9 9 9 9 9 \n"
     ]
    }
   ],
   "source": [
    "for i in range(1,10): #dış döngü: satırlar (tekrar sayısı)\n",
    "    for j in range(1, i+1): #iç döngü: sütunlar (tekrar sayısı)\n",
    "        print(i, end=\" \")  ## içerde dış döngü değerini yaz\n",
    "    print()"
   ]
  },
  {
   "cell_type": "code",
   "execution_count": 43,
   "metadata": {},
   "outputs": [
    {
     "name": "stdout",
     "output_type": "stream",
     "text": [
      "# \n",
      "# # \n",
      "# # # \n",
      "# # # # \n",
      "# # # # # \n",
      "# # # # # # \n",
      "# # # # # # # \n",
      "# # # # # # # # \n",
      "# # # # # # # # # \n"
     ]
    }
   ],
   "source": [
    "for i in range(1,10): #dış döngü: satırlar (tekrar sayısı)\n",
    "    for j in range(1, i+1): #iç döngü: sütunlar (tekrar sayısı)\n",
    "        print(\"#\", end=\" \")  ## içerde dış döngü değerini yaz\n",
    "    print()"
   ]
  },
  {
   "cell_type": "code",
   "execution_count": 45,
   "metadata": {},
   "outputs": [
    {
     "name": "stdout",
     "output_type": "stream",
     "text": [
      "B \n",
      "U U \n",
      "L L L \n",
      "E E E E \n",
      "N N N N N \n",
      "D D D D D D \n"
     ]
    }
   ],
   "source": [
    "text = \"BULEND\"\n",
    "for i in range(len(text)): #dış döngü: satırlar (tekrar sayısı)\n",
    "    for j in range(0, i+1): #iç döngü: sütunlar (tekrar sayısı)\n",
    "        print(text[i], end=\" \")  ## içerde dış döngü değerini yaz\n",
    "    print() ##bir alt satıra geç"
   ]
  },
  {
   "cell_type": "code",
   "execution_count": 50,
   "metadata": {},
   "outputs": [
    {
     "name": "stdout",
     "output_type": "stream",
     "text": [
      "1\n",
      "22\n",
      "333\n",
      "4444\n",
      "55555\n",
      "666666\n",
      "7777777\n",
      "88888888\n",
      "999999999\n"
     ]
    }
   ],
   "source": [
    "for i in range(1,10): #dış döngü: satırlar (tekrar sayısı)\n",
    "    print(str(i) * i)  ## içerde dış döngü değerini yaz\n",
    "    "
   ]
  },
  {
   "cell_type": "code",
   "execution_count": 51,
   "metadata": {},
   "outputs": [
    {
     "name": "stdout",
     "output_type": "stream",
     "text": [
      "1\n",
      "22\n",
      "333\n",
      "4444\n",
      "55555\n",
      "666666\n",
      "7777777\n",
      "88888888\n",
      "999999999\n"
     ]
    }
   ],
   "source": [
    "#Mehmet bey'in çözümü\n",
    "for i in range(1,10):\n",
    "    print(f\"{i}\"*i)"
   ]
  },
  {
   "cell_type": "code",
   "execution_count": 60,
   "metadata": {},
   "outputs": [
    {
     "name": "stdout",
     "output_type": "stream",
     "text": [
      "toplamı..: 2775\n"
     ]
    }
   ],
   "source": [
    "toplam = 0 #birikimli toplama değişkeni\n",
    "for i in range(1,75):\n",
    "    toplam += i\n",
    "    #print(toplam)\n",
    "print(\"toplamı..:\", toplam)"
   ]
  },
  {
   "cell_type": "code",
   "execution_count": 56,
   "metadata": {},
   "outputs": [
    {
     "name": "stdout",
     "output_type": "stream",
     "text": [
      "I am happy\n",
      "I am confident\n",
      "You are happy\n",
      "You are confident\n"
     ]
    }
   ],
   "source": [
    "who = [\"I am \", \"You are \"]\n",
    "mood = [\"happy\", \"confident\"]\n",
    "for i in who:\n",
    "    for ii in mood:\n",
    "        print(i + ii)\n"
   ]
  },
  {
   "cell_type": "code",
   "execution_count": 57,
   "metadata": {},
   "outputs": [
    {
     "name": "stdout",
     "output_type": "stream",
     "text": [
      "I am happy\n",
      "I am confident\n",
      "You are happy\n",
      "You are confident\n"
     ]
    }
   ],
   "source": [
    "who = [\"I am \", \"You are \"]\n",
    "mood = [\"happy\", \"confident\"]\n",
    "for i in who:\n",
    "    for j in mood:\n",
    "        print(i + j)"
   ]
  },
  {
   "cell_type": "code",
   "execution_count": 58,
   "metadata": {},
   "outputs": [
    {
     "name": "stdout",
     "output_type": "stream",
     "text": [
      "susan is happy\n",
      "susan is sad\n",
      "tom is happy\n",
      "tom is sad\n",
      "edward is happy\n",
      "edward is sad\n"
     ]
    }
   ],
   "source": [
    "names = [\"susan\", \"tom\", \"edward\"]\n",
    "mood = [\"happy\", \"sad\"]\n",
    "for i in names :\n",
    "  for ii in mood :\n",
    "    print(i,\"is\", ii)"
   ]
  },
  {
   "cell_type": "code",
   "execution_count": 59,
   "metadata": {},
   "outputs": [
    {
     "name": "stdout",
     "output_type": "stream",
     "text": [
      "toplamı..: 2775\n"
     ]
    }
   ],
   "source": [
    "toplam = 0 #birikimli toplama değişkeni\n",
    "i = 1 # döngü değişkeni başlangıç değeri\n",
    "while i<75:\n",
    "    toplam += i\n",
    "    i += 1 #döngü değişkenini 1 artır\n",
    "    #print(toplam)\n",
    "print(\"toplamı..:\", toplam)"
   ]
  },
  {
   "cell_type": "code",
   "execution_count": null,
   "metadata": {},
   "outputs": [],
   "source": [
    "## 0 dan 24 çift sayıları veren program\n",
    "for i in range(0,26,2):\n",
    "    print(i)"
   ]
  },
  {
   "cell_type": "code",
   "execution_count": 62,
   "metadata": {},
   "outputs": [
    {
     "name": "stdout",
     "output_type": "stream",
     "text": [
      "0\n",
      "2\n",
      "4\n",
      "6\n",
      "8\n",
      "10\n",
      "12\n",
      "14\n",
      "16\n",
      "18\n",
      "20\n",
      "22\n",
      "24\n"
     ]
    }
   ],
   "source": [
    "## 0 dan 24 çift sayıları veren program\n",
    "i = 0\n",
    "while i<26:\n",
    "    print(i)\n",
    "    i += 2 ##artım(step) miktarı"
   ]
  },
  {
   "cell_type": "code",
   "execution_count": 66,
   "metadata": {},
   "outputs": [
    {
     "name": "stdout",
     "output_type": "stream",
     "text": [
      "0 2 4 6 8 10 12 14 16 18 20 22 24 "
     ]
    }
   ],
   "source": [
    "# continue deyimi : şarta bağlı olarak döngü içerisinde sonraki satırı atlamaya yarar\n",
    "# break deyimi: şarta bağlı olarak döngü sonlandırır\n",
    "## 0 dan 24 çift sayıları veren program\n",
    "for i in range(0,26):\n",
    "    if i%2!=0: ##tek sayı ise bir satır (print'li satırı) atla\n",
    "        continue\n",
    "    print(i, end=\" \")"
   ]
  },
  {
   "cell_type": "code",
   "execution_count": 69,
   "metadata": {},
   "outputs": [
    {
     "name": "stdout",
     "output_type": "stream",
     "text": [
      "0 1 2 3 4 6 7 8 9 "
     ]
    }
   ],
   "source": [
    "for i in range(0,10):\n",
    "    if i == 5:\n",
    "        continue\n",
    "    print(i, end=\" \")"
   ]
  },
  {
   "cell_type": "code",
   "execution_count": 70,
   "metadata": {},
   "outputs": [
    {
     "name": "stdout",
     "output_type": "stream",
     "text": [
      "tek\n"
     ]
    }
   ],
   "source": [
    "i = 5\n",
    "if i%2!=0: ##tek sayı ise bir satır (print'li satırı) atla\n",
    "    print(\"tek\")\n",
    "else: \n",
    "    print(\"çift\")"
   ]
  },
  {
   "cell_type": "code",
   "execution_count": 71,
   "metadata": {},
   "outputs": [
    {
     "name": "stdout",
     "output_type": "stream",
     "text": [
      "tek\n"
     ]
    }
   ],
   "source": [
    "## tek satıra indirgeme\n",
    "i = 5\n",
    "print(\"tek\" if i%2!=0 else \"çift\")"
   ]
  },
  {
   "cell_type": "code",
   "execution_count": 73,
   "metadata": {},
   "outputs": [
    {
     "name": "stdout",
     "output_type": "stream",
     "text": [
      "[0, 1, 4, 9, 16, 25, 36, 49, 64, 81]\n"
     ]
    }
   ],
   "source": [
    "squares = []\n",
    "for i in range(10):\n",
    "    squares.append(i*i)\n",
    "print(squares)"
   ]
  },
  {
   "cell_type": "code",
   "execution_count": 74,
   "metadata": {},
   "outputs": [
    {
     "name": "stdout",
     "output_type": "stream",
     "text": [
      "[0, 1, 4, 9, 16, 25, 36, 49, 64, 81]\n"
     ]
    }
   ],
   "source": [
    "#liste üreteci: for döngüsü tek satıra indirgeme\n",
    "squares = [i*i for i in range(10)]\n",
    "print(squares)"
   ]
  },
  {
   "cell_type": "code",
   "execution_count": 75,
   "metadata": {},
   "outputs": [
    {
     "name": "stdout",
     "output_type": "stream",
     "text": [
      "[0, 2, 4, 6, 8, 10, 12, 14, 16, 18, 20, 22, 24]\n"
     ]
    }
   ],
   "source": [
    "liste = []\n",
    "for i in range(0,26):\n",
    "    if i%2==0: ##çift ise listeye ekle\n",
    "        liste.append(i)\n",
    "\n",
    "print(liste)"
   ]
  },
  {
   "cell_type": "code",
   "execution_count": 76,
   "metadata": {},
   "outputs": [
    {
     "name": "stdout",
     "output_type": "stream",
     "text": [
      "[0, 2, 4, 6, 8, 10, 12, 14, 16, 18, 20, 22, 24]\n"
     ]
    }
   ],
   "source": [
    "liste = [i for i in range(0,26) if i%2==0 ]\n",
    "print(liste)"
   ]
  },
  {
   "cell_type": "code",
   "execution_count": 78,
   "metadata": {},
   "outputs": [
    {
     "name": "stdout",
     "output_type": "stream",
     "text": [
      "['Aisha', 'Ala', 'Ahmed']\n"
     ]
    }
   ],
   "source": [
    "names = ['Python', 'Aisha', 'Bulend', 'Ala', 'Ahmed']\n",
    "names_a = []\n",
    "for word in names:\n",
    "    if \"a\" in word.lower():\n",
    "        names_a.append(word)\n",
    "print(names_a)"
   ]
  },
  {
   "cell_type": "code",
   "execution_count": 77,
   "metadata": {},
   "outputs": [
    {
     "name": "stdout",
     "output_type": "stream",
     "text": [
      "['Aisha', 'Ala', 'Ahmed']\n"
     ]
    }
   ],
   "source": [
    "#tek satıra indirgeme\n",
    "names = ['Python', 'Aisha', 'Bulend', 'Ala', 'Ahmed']\n",
    "names_a = [word for word in names if \"a\" in word.lower()]\n",
    "print(names_a)"
   ]
  },
  {
   "cell_type": "code",
   "execution_count": 79,
   "metadata": {},
   "outputs": [
    {
     "name": "stdout",
     "output_type": "stream",
     "text": [
      "[0, 1, 2, 9, 4, 25, 6, 49, 8, 81]\n"
     ]
    }
   ],
   "source": [
    "#0 dan 10 kadar olan sayılar tek ise karesini, çift ise kendisini al ve yeni liste oluştur\n",
    "yeni_liste=[]\n",
    "for i in range(10):\n",
    "    if i%2==0:\n",
    "        yeni_liste.append(i)\n",
    "    else:\n",
    "        yeni_liste.append(i**2)\n",
    "\n",
    "print(yeni_liste)"
   ]
  },
  {
   "cell_type": "code",
   "execution_count": 80,
   "metadata": {},
   "outputs": [
    {
     "name": "stdout",
     "output_type": "stream",
     "text": [
      "[0, 1, 2, 9, 4, 25, 6, 49, 8, 81]\n"
     ]
    }
   ],
   "source": [
    "#tek satıra indirgeme\n",
    "yeni_liste=[i if i%2==0 else i**2 for i in range(10)]\n",
    "print(yeni_liste)"
   ]
  },
  {
   "cell_type": "code",
   "execution_count": 81,
   "metadata": {},
   "outputs": [
    {
     "name": "stdout",
     "output_type": "stream",
     "text": [
      "2775\n"
     ]
    }
   ],
   "source": [
    "## 1 den 75 e kadar olan sayıların birikimli toplamı\n",
    "print(sum([i for i in range(1,75)]))"
   ]
  },
  {
   "cell_type": "code",
   "execution_count": 86,
   "metadata": {},
   "outputs": [
    {
     "name": "stdout",
     "output_type": "stream",
     "text": [
      "{'r', ' ', 'p', 'l', 's', 'M', 't', 'k', '.', 'f'}\n"
     ]
    }
   ],
   "source": [
    "## Bir cümledeki sesli harfleri çıkarıp yeni bir liste oluşturan program\n",
    "cumle = \"Mistakes are for people.\"\n",
    "print(set(i for i in cumle if not i in \"aeoui\"))\n"
   ]
  },
  {
   "cell_type": "code",
   "execution_count": 91,
   "metadata": {},
   "outputs": [
    {
     "name": "stdout",
     "output_type": "stream",
     "text": [
      "Onlu\tİkili\tSekizli\tOnaltılı\n",
      "----\t----\t-----\t-----\n",
      "0\t0\t0\t0\n",
      "1\t1\t1\t1\n",
      "2\t10\t2\t2\n",
      "3\t11\t3\t3\n",
      "4\t100\t4\t4\n",
      "5\t101\t5\t5\n",
      "6\t110\t6\t6\n",
      "7\t111\t7\t7\n",
      "8\t1000\t10\t8\n",
      "9\t1001\t11\t9\n",
      "10\t1010\t12\ta\n",
      "11\t1011\t13\tb\n",
      "12\t1100\t14\tc\n",
      "13\t1101\t15\td\n",
      "14\t1110\t16\te\n",
      "15\t1111\t17\tf\n",
      "16\t10000\t20\t10\n",
      "17\t10001\t21\t11\n",
      "18\t10010\t22\t12\n",
      "19\t10011\t23\t13\n",
      "20\t10100\t24\t14\n",
      "21\t10101\t25\t15\n",
      "22\t10110\t26\t16\n",
      "23\t10111\t27\t17\n",
      "24\t11000\t30\t18\n",
      "25\t11001\t31\t19\n",
      "26\t11010\t32\t1a\n",
      "27\t11011\t33\t1b\n",
      "28\t11100\t34\t1c\n",
      "29\t11101\t35\t1d\n",
      "30\t11110\t36\t1e\n",
      "31\t11111\t37\t1f\n",
      "32\t100000\t40\t20\n",
      "33\t100001\t41\t21\n",
      "34\t100010\t42\t22\n",
      "35\t100011\t43\t23\n",
      "36\t100100\t44\t24\n",
      "37\t100101\t45\t25\n",
      "38\t100110\t46\t26\n",
      "39\t100111\t47\t27\n",
      "40\t101000\t50\t28\n",
      "41\t101001\t51\t29\n",
      "42\t101010\t52\t2a\n",
      "43\t101011\t53\t2b\n",
      "44\t101100\t54\t2c\n",
      "45\t101101\t55\t2d\n",
      "46\t101110\t56\t2e\n",
      "47\t101111\t57\t2f\n",
      "48\t110000\t60\t30\n",
      "49\t110001\t61\t31\n",
      "50\t110010\t62\t32\n",
      "51\t110011\t63\t33\n",
      "52\t110100\t64\t34\n",
      "53\t110101\t65\t35\n",
      "54\t110110\t66\t36\n",
      "55\t110111\t67\t37\n",
      "56\t111000\t70\t38\n",
      "57\t111001\t71\t39\n",
      "58\t111010\t72\t3a\n",
      "59\t111011\t73\t3b\n",
      "60\t111100\t74\t3c\n",
      "61\t111101\t75\t3d\n",
      "62\t111110\t76\t3e\n",
      "63\t111111\t77\t3f\n",
      "64\t1000000\t100\t40\n",
      "65\t1000001\t101\t41\n",
      "66\t1000010\t102\t42\n",
      "67\t1000011\t103\t43\n",
      "68\t1000100\t104\t44\n",
      "69\t1000101\t105\t45\n",
      "70\t1000110\t106\t46\n",
      "71\t1000111\t107\t47\n",
      "72\t1001000\t110\t48\n",
      "73\t1001001\t111\t49\n",
      "74\t1001010\t112\t4a\n",
      "75\t1001011\t113\t4b\n",
      "76\t1001100\t114\t4c\n",
      "77\t1001101\t115\t4d\n",
      "78\t1001110\t116\t4e\n",
      "79\t1001111\t117\t4f\n",
      "80\t1010000\t120\t50\n",
      "81\t1010001\t121\t51\n",
      "82\t1010010\t122\t52\n",
      "83\t1010011\t123\t53\n",
      "84\t1010100\t124\t54\n",
      "85\t1010101\t125\t55\n",
      "86\t1010110\t126\t56\n",
      "87\t1010111\t127\t57\n",
      "88\t1011000\t130\t58\n",
      "89\t1011001\t131\t59\n",
      "90\t1011010\t132\t5a\n",
      "91\t1011011\t133\t5b\n",
      "92\t1011100\t134\t5c\n",
      "93\t1011101\t135\t5d\n",
      "94\t1011110\t136\t5e\n",
      "95\t1011111\t137\t5f\n",
      "96\t1100000\t140\t60\n",
      "97\t1100001\t141\t61\n",
      "98\t1100010\t142\t62\n",
      "99\t1100011\t143\t63\n"
     ]
    }
   ],
   "source": [
    "## 0-100 for döngüsü içerisinde sayıların ikili, sekizli, onlatılı karşılıkları\n",
    "print(\"Onlu\\tİkili\\tSekizli\\tOnaltılı\")\n",
    "print(\"----\\t----\\t-----\\t-----\")\n",
    "for i in range(100):\n",
    "    print(f\"{i}\\t{bin(i)[2:]}\\t{oct(i)[2:]}\\t{hex(i)[2:]}\")"
   ]
  }
 ],
 "metadata": {
  "kernelspec": {
   "display_name": "Python 3.8.10 64-bit",
   "language": "python",
   "name": "python3"
  },
  "language_info": {
   "codemirror_mode": {
    "name": "ipython",
    "version": 3
   },
   "file_extension": ".py",
   "mimetype": "text/x-python",
   "name": "python",
   "nbconvert_exporter": "python",
   "pygments_lexer": "ipython3",
   "version": "3.8.10"
  },
  "orig_nbformat": 4,
  "vscode": {
   "interpreter": {
    "hash": "916dbcbb3f70747c44a77c7bcd40155683ae19c65e1c03b4aa3499c5328201f1"
   }
  }
 },
 "nbformat": 4,
 "nbformat_minor": 2
}
